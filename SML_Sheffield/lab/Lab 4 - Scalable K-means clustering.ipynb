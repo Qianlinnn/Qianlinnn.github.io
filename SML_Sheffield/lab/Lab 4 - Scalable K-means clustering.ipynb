{
 "cells": [
  {
   "cell_type": "markdown",
   "metadata": {},
   "source": [
    "# COM6012 Scalable Machine Learning 2019 - Haiping Lu\n",
    "# Lab 4: $k$-means clustering\n",
    "\n",
    "## Objectives\n",
    "\n",
    "* Task 1: To finish before the next session. **Essential**\n",
    "* Task 2: To finish before the next session. **Essential**\n",
    "* Task 3: To explore by yourself. **Optional but recommended**\n",
    "\n",
    "**Suggested reading**: \n",
    "* Chapters 11 and 12 of [PySpark tutorial](https://runawayhorse001.github.io/LearningApacheSpark/pyspark.pdf) \n",
    "* [Clustering in Spark](https://spark.apache.org/docs/2.3.2/ml-clustering.html)\n",
    "* [PySpark API on clustering](https://spark.apache.org/docs/2.3.2/api/python/pyspark.ml.html#pyspark.ml.clustering.KMeans)\n",
    "* [PySpark code on clustering](https://github.com/apache/spark/blob/master/python/pyspark/ml/clustering.py)\n",
    "* [$k$-means clustering on Wiki](https://en.wikipedia.org/wiki/K-means_clustering)\n",
    "* [$k$-means++ on Wiki](https://en.wikipedia.org/wiki/K-means%2B%2B) \n",
    "* [$k$-means|| paper](http://theory.stanford.edu/~sergei/papers/vldb12-kmpar.pdf)"
   ]
  },
  {
   "cell_type": "markdown",
   "metadata": {},
   "source": [
    "https://github.com/haipinglu/ScalableML/"
   ]
  },
  {
   "cell_type": "markdown",
   "metadata": {},
   "source": [
    "If running this notebook on HPC via [Jupyter Hub](https://jupyter-sharc.shef.ac.uk/), we need to run the following cell. If we are running this notebook on our local machine, skip the following cell."
   ]
  },
  {
   "cell_type": "code",
   "execution_count": null,
   "metadata": {},
   "outputs": [],
   "source": [
    "import os\n",
    "import subprocess\n",
    "def module(*args):        \n",
    "    if isinstance(args[0], list):        \n",
    "        args = args[0]        \n",
    "    else:        \n",
    "        args = list(args)        \n",
    "    (output, error) = subprocess.Popen(['/usr/bin/modulecmd', 'python'] + args, stdout=subprocess.PIPE).communicate()\n",
    "    exec(output)    \n",
    "module('load', 'apps/java/jdk1.8.0_102/binary')    \n",
    "os.environ['PYSPARK_PYTHON'] = os.environ['HOME'] + '/.conda/envs/jupyter-spark/bin/python'"
   ]
  },
  {
   "cell_type": "markdown",
   "metadata": {},
   "source": [
    "## 1. $k$-means clustering\n",
    "\n",
    "[$k$-means](http://en.wikipedia.org/wiki/K-means_clustering) is one of the most commonly used clustering algorithms that clusters the data points into a predefined number of clusters. The Spark MLlib implementation includes a parallelized variant of the [$k$-means++](https://en.wikipedia.org/wiki/K-means%2B%2B) method called [$k$-means||](http://theory.stanford.edu/~sergei/papers/vldb12-kmpar.pdf).\n",
    "\n",
    "`KMeans` is implemented as an `Estimator` and generates a `KMeansModel` as the base model.\n",
    "\n",
    "API: `class pyspark.ml.clustering.KMeans(featuresCol='features', predictionCol='prediction', k=2, initMode='k-means||', initSteps=2, tol=0.0001, maxIter=20, seed=None)`\n",
    "\n",
    "The following parameters are available:\n",
    "\n",
    "* *k*: the number of desired clusters. \n",
    "* *maxIter*: the maximum number of iterations \n",
    "* *initMode*: specifies either random initialization or initialization via k-means|| \n",
    "* *initSteps*: determines the number of steps in the k-means|| algorithm (default=2, advanced)\n",
    "* *tol*: determines the distance threshold within which we consider k-means to have converged.\n",
    "* *seed*: setting the **random seed** (so that multiple runs have the same results)"
   ]
  },
  {
   "cell_type": "markdown",
   "metadata": {},
   "source": [
    "#### Start a session"
   ]
  },
  {
   "cell_type": "code",
   "execution_count": 1,
   "metadata": {},
   "outputs": [],
   "source": [
    "#import findspark\n",
    "#findspark.init()\n",
    "import pyspark\n",
    "from pyspark.ml.clustering import KMeans\n",
    "from pyspark.ml.clustering import KMeansModel\n",
    "from pyspark.ml.evaluation import ClusteringEvaluator\n",
    "import matplotlib.pyplot as plt\n",
    "%matplotlib inline\n"
   ]
  },
  {
   "cell_type": "markdown",
   "metadata": {},
   "source": [
    "On HPC, you need to install matplotlib via `conda install -c conda-forge matplotlib`\n",
    "You need to do the same for your own machine if it is not installed."
   ]
  },
  {
   "cell_type": "code",
   "execution_count": 2,
   "metadata": {},
   "outputs": [],
   "source": [
    "from pyspark.sql import SparkSession\n",
    "\n",
    "spark = SparkSession.builder \\\n",
    "    .master(\"local[2]\") \\\n",
    "    .appName(\"COM6012 Kmeans clustering\") \\\n",
    "    .getOrCreate()"
   ]
  },
  {
   "cell_type": "markdown",
   "metadata": {},
   "source": [
    "An example on synthetic data"
   ]
  },
  {
   "cell_type": "code",
   "execution_count": 7,
   "metadata": {},
   "outputs": [
    {
     "name": "stdout",
     "output_type": "stream",
     "text": [
      "[8.5 8.5]\n",
      "[0.5 0.5]\n"
     ]
    }
   ],
   "source": [
    "from pyspark.ml.linalg import Vectors\n",
    "data = [(Vectors.dense([0.0, 0.0]),), (Vectors.dense([1.0, 1.0]),),  (Vectors.dense([9.0, 8.0]),), (Vectors.dense([8.0, 9.0]),)]\n",
    "df = spark.createDataFrame(data, [\"features\"])\n",
    "kmeans = KMeans(k=2, seed=1) #KMeans输出的一个model的输入参数要求是一个vector seed表示初始化的随机种子\n",
    "model = kmeans.fit(df) #train a model\n",
    "centers = model.clusterCenters()\n",
    "len(centers)\n"
   ]
  },
  {
   "cell_type": "code",
   "execution_count": 57,
   "metadata": {},
   "outputs": [],
   "source": [
    "KMeans?"
   ]
  },
  {
   "cell_type": "markdown",
   "metadata": {},
   "source": [
    "Compute the standard $k$-means cost, i.e., the sum of squared distances of points to their nearest center"
   ]
  },
  {
   "cell_type": "code",
   "execution_count": 8,
   "metadata": {},
   "outputs": [
    {
     "data": {
      "text/plain": [
       "2.0000000000000004"
      ]
     },
     "execution_count": 8,
     "metadata": {},
     "output_type": "execute_result"
    }
   ],
   "source": [
    ">>> model.computeCost(df) #每个数据点与其分配的簇的距离的平方之和"
   ]
  },
  {
   "cell_type": "markdown",
   "metadata": {},
   "source": [
    "Shows the centers (centroids)."
   ]
  },
  {
   "cell_type": "code",
   "execution_count": 9,
   "metadata": {},
   "outputs": [
    {
     "name": "stdout",
     "output_type": "stream",
     "text": [
      "Cluster Centers: \n",
      "[8.5 8.5]\n",
      "[0.5 0.5]\n"
     ]
    }
   ],
   "source": [
    "centers = model.clusterCenters() #两个簇的坐标\n",
    "print(\"Cluster Centers: \")\n",
    "for center in centers:\n",
    "    print(center)"
   ]
  },
  {
   "cell_type": "code",
   "execution_count": 17,
   "metadata": {},
   "outputs": [
    {
     "data": {
      "text/plain": [
       "DataFrame[features: vector, prediction: int]"
      ]
     },
     "execution_count": 17,
     "metadata": {},
     "output_type": "execute_result"
    }
   ],
   "source": [
    "model.transform(df)"
   ]
  },
  {
   "cell_type": "code",
   "execution_count": 22,
   "metadata": {},
   "outputs": [
    {
     "data": {
      "text/plain": [
       "DenseVector([8.0, 9.0])"
      ]
     },
     "execution_count": 22,
     "metadata": {},
     "output_type": "execute_result"
    }
   ],
   "source": [
    "transformed = model.transform(df).select(\"features\", \"prediction\")\n",
    "rows = transformed.collect()\n",
    "rows[0].prediction == rows[1].prediction #预测他们在哪个簇，0代表第一簇，也即是[8.5 8.5],1代表第二簇[0.5,0.5] \n",
    "rows[3].features  # transform后也有四个数据，分别对应rows[0-4]"
   ]
  },
  {
   "cell_type": "code",
   "execution_count": 23,
   "metadata": {},
   "outputs": [
    {
     "data": {
      "text/plain": [
       "[Row(features=DenseVector([0.0, 0.0]), prediction=1),\n",
       " Row(features=DenseVector([1.0, 1.0]), prediction=1),\n",
       " Row(features=DenseVector([9.0, 8.0]), prediction=0),\n",
       " Row(features=DenseVector([8.0, 9.0]), prediction=0)]"
      ]
     },
     "execution_count": 23,
     "metadata": {},
     "output_type": "execute_result"
    }
   ],
   "source": [
    "rows"
   ]
  },
  {
   "cell_type": "code",
   "execution_count": 24,
   "metadata": {},
   "outputs": [
    {
     "data": {
      "text/plain": [
       "True"
      ]
     },
     "execution_count": 24,
     "metadata": {},
     "output_type": "execute_result"
    }
   ],
   "source": [
    "rows[2].prediction == rows[3].prediction"
   ]
  },
  {
   "cell_type": "code",
   "execution_count": 58,
   "metadata": {},
   "outputs": [
    {
     "data": {
      "text/plain": [
       "True"
      ]
     },
     "execution_count": 58,
     "metadata": {},
     "output_type": "execute_result"
    }
   ],
   "source": [
    "model.hasSummary"
   ]
  },
  {
   "cell_type": "code",
   "execution_count": 29,
   "metadata": {},
   "outputs": [
    {
     "name": "stdout",
     "output_type": "stream",
     "text": [
      "<pyspark.ml.clustering.KMeansSummary object at 0x000001ED781C6388>\n"
     ]
    }
   ],
   "source": [
    "summary = model.summary\n",
    "summary.k #有几个k值"
   ]
  },
  {
   "cell_type": "code",
   "execution_count": 63,
   "metadata": {},
   "outputs": [],
   "source": [
    "model.summary?"
   ]
  },
  {
   "cell_type": "code",
   "execution_count": 34,
   "metadata": {},
   "outputs": [
    {
     "data": {
      "text/plain": [
       "[2, 2]"
      ]
     },
     "execution_count": 34,
     "metadata": {},
     "output_type": "execute_result"
    }
   ],
   "source": [
    "summary.clusterSizes #每一簇有多少个数据点，返回的应该是一个向量，每个簇点的个数"
   ]
  },
  {
   "cell_type": "markdown",
   "metadata": {},
   "source": [
    "Save the learned model in a tempory location (see [API on save](https://spark.apache.org/docs/2.3.2/api/python/pyspark.ml.html?highlight=save#pyspark.ml.PipelineModel.save))"
   ]
  },
  {
   "cell_type": "code",
   "execution_count": 35,
   "metadata": {},
   "outputs": [
    {
     "data": {
      "text/plain": [
       "2"
      ]
     },
     "execution_count": 35,
     "metadata": {},
     "output_type": "execute_result"
    }
   ],
   "source": [
    "# 将模型保存在临时的位置\n",
    "\n",
    "import tempfile\n",
    "\n",
    "temp_path = tempfile.mkdtemp() # 用户可调用的函数，用于创建并返回唯一的临时目录。 返回值是目录的路径名。\n",
    "kmeans_path = temp_path + \"/kmeans\" # 往temp_path后又创了个文件夹kmeans\n",
    "kmeans.save(kmeans_path) #把算法程序保存到kmeans_path\n",
    "kmeans2 = KMeans.load(kmeans_path)\n",
    "kmeans2.getK()"
   ]
  },
  {
   "cell_type": "code",
   "execution_count": 41,
   "metadata": {},
   "outputs": [
    {
     "data": {
      "text/plain": [
       "False"
      ]
     },
     "execution_count": 41,
     "metadata": {},
     "output_type": "execute_result"
    }
   ],
   "source": [
    "model_path = temp_path + \"/kmeans_model\"\n",
    "model.save(model_path) # 保存模型路径\n",
    "model2 = KMeansModel.load(model_path) #在输入参数的路径里读取模型\n",
    "model2.hasSummary #读取出来的model没有summary"
   ]
  },
  {
   "cell_type": "code",
   "execution_count": 67,
   "metadata": {},
   "outputs": [],
   "source": [
    "model2?"
   ]
  },
  {
   "cell_type": "code",
   "execution_count": 64,
   "metadata": {},
   "outputs": [
    {
     "data": {
      "text/plain": [
       "array([ True,  True])"
      ]
     },
     "execution_count": 64,
     "metadata": {},
     "output_type": "execute_result"
    }
   ],
   "source": [
    "model.clusterCenters()[0] == model2.clusterCenters()[0]"
   ]
  },
  {
   "cell_type": "code",
   "execution_count": 15,
   "metadata": {},
   "outputs": [
    {
     "data": {
      "text/plain": [
       "array([ True,  True])"
      ]
     },
     "execution_count": 15,
     "metadata": {},
     "output_type": "execute_result"
    }
   ],
   "source": [
    "model.clusterCenters()[1] == model2.clusterCenters()[1]"
   ]
  },
  {
   "cell_type": "markdown",
   "metadata": {},
   "source": [
    "The example below is based on Chapter 11 of [PySpark tutorial](https://runawayhorse001.github.io/LearningApacheSpark/pyspark.pdf), with some changes made\n",
    "#### Load and inspect the [iris data](https://archive.ics.uci.edu/ml/datasets/iris)"
   ]
  },
  {
   "cell_type": "code",
   "execution_count": 72,
   "metadata": {},
   "outputs": [],
   "source": [
    "df = spark.read.load('C:\\Github\\ScalableML\\Data\\iris.csv',\n",
    "                     format=\"csv\", inferSchema=\"true\", header=\"true\")\n"
   ]
  },
  {
   "cell_type": "code",
   "execution_count": 73,
   "metadata": {},
   "outputs": [
    {
     "name": "stdout",
     "output_type": "stream",
     "text": [
      "+------------+-----------+------------+-----------+-------+\n",
      "|sepal_length|sepal_width|petal_length|petal_width|species|\n",
      "+------------+-----------+------------+-----------+-------+\n",
      "|         5.1|        3.5|         1.4|        0.2| setosa|\n",
      "|         4.9|        3.0|         1.4|        0.2| setosa|\n",
      "|         4.7|        3.2|         1.3|        0.2| setosa|\n",
      "|         4.6|        3.1|         1.5|        0.2| setosa|\n",
      "|         5.0|        3.6|         1.4|        0.2| setosa|\n",
      "+------------+-----------+------------+-----------+-------+\n",
      "only showing top 5 rows\n",
      "\n",
      "root\n",
      " |-- sepal_length: double (nullable = true)\n",
      " |-- sepal_width: double (nullable = true)\n",
      " |-- petal_length: double (nullable = true)\n",
      " |-- petal_width: double (nullable = true)\n",
      " |-- species: string (nullable = true)\n",
      "\n"
     ]
    }
   ],
   "source": [
    "df.show(5,True)\n",
    "df.printSchema()"
   ]
  },
  {
   "cell_type": "markdown",
   "metadata": {},
   "source": [
    "**`.describe().show()` is very handy to inspect your (big) data for understanding/debugging. Try to use it more often to see.**"
   ]
  },
  {
   "cell_type": "code",
   "execution_count": 74,
   "metadata": {},
   "outputs": [
    {
     "name": "stdout",
     "output_type": "stream",
     "text": [
      "+-------+------------------+-------------------+------------------+------------------+---------+\n",
      "|summary|      sepal_length|        sepal_width|      petal_length|       petal_width|  species|\n",
      "+-------+------------------+-------------------+------------------+------------------+---------+\n",
      "|  count|               150|                150|               150|               150|      150|\n",
      "|   mean| 5.843333333333335| 3.0540000000000007|3.7586666666666693|1.1986666666666672|     null|\n",
      "| stddev|0.8280661279778637|0.43359431136217375| 1.764420419952262|0.7631607417008414|     null|\n",
      "|    min|               4.3|                2.0|               1.0|               0.1|   setosa|\n",
      "|    max|               7.9|                4.4|               6.9|               2.5|virginica|\n",
      "+-------+------------------+-------------------+------------------+------------------+---------+\n",
      "\n"
     ]
    }
   ],
   "source": [
    "df.describe().show() #返回的是数目，均值，标准差，最小值，最大值"
   ]
  },
  {
   "cell_type": "markdown",
   "metadata": {},
   "source": [
    "#### Convert the data to dense vector (features)"
   ]
  },
  {
   "cell_type": "code",
   "execution_count": 82,
   "metadata": {},
   "outputs": [
    {
     "name": "stdout",
     "output_type": "stream",
     "text": [
      "-RECORD 0---------------------\n",
      " features | [5.1,3.5,1.4,0.2] \n",
      "-RECORD 1---------------------\n",
      " features | [4.9,3.0,1.4,0.2] \n",
      "-RECORD 2---------------------\n",
      " features | [4.7,3.2,1.3,0.2] \n",
      "-RECORD 3---------------------\n",
      " features | [4.6,3.1,1.5,0.2] \n",
      "-RECORD 4---------------------\n",
      " features | [5.0,3.6,1.4,0.2] \n",
      "only showing top 5 rows\n",
      "\n"
     ]
    }
   ],
   "source": [
    "# convert the data to dense vector 从普通的dataframe变成向量形式的dataframe\n",
    "def transData(data):\n",
    "    return data.rdd.map(lambda r: [Vectors.dense(r[:-1])]).toDF(['features'])\n",
    "\n",
    "dfFtrvec= transData(df) \n",
    "dfFtrvec.show(5, False) # False代表的是不截断任何字符串超过20的数据\n",
    "dfFtrvec.show?"
   ]
  },
  {
   "cell_type": "markdown",
   "metadata": {},
   "source": [
    "Run multiple $k$-means with different $k$ and evaluate the clustering results. The method is [Silhouette Analysis](https://en.wikipedia.org/wiki/Silhouette_(clustering)). See [the ClusteringEvaluator API](https://spark.apache.org/docs/2.3.2/api/python/pyspark.ml.html#pyspark.ml.evaluation.ClusteringEvaluator). You can also refer to this [scikit-learn notebook on the same topic](https://scikit-learn.org/stable/auto_examples/cluster/plot_kmeans_silhouette_analysis.html). \n",
    "\n",
    "**Optional** There are other ways of determining the best $k$. You can learn more about [how to determine $k$](https://en.wikipedia.org/wiki/Determining_the_number_of_clusters_in_a_data_set). "
   ]
  },
  {
   "cell_type": "code",
   "execution_count": 100,
   "metadata": {},
   "outputs": [],
   "source": [
    "import numpy as np\n",
    "numK=10\n",
    "silhouettes = np.zeros(numK) #创建一个包含10个0的ndarray\n",
    "costs= np.zeros(numK)\n",
    "for k in range(2,numK): # 测试当k为2，3，4，5，6，7，8，9\n",
    "    kmeans = KMeans().setK(k).setSeed(3) # 当k均值聚类算法运行时，它将使用随机生成的种子来确定聚类的起始质心\n",
    "    model = kmeans.fit(dfFtrvec)\n",
    "\n",
    "    # Make predictions, i.e., get cluster index\n",
    "    predictions = model.transform(dfFtrvec)\n",
    "\n",
    "    # K-means cost (sum of squared distances of points to their nearest center)\n",
    "    costs[k]=model.computeCost(dfFtrvec)\n",
    "    # Evaluate clustering by computing Silhouette score\n",
    "    evaluator = ClusteringEvaluator()\n",
    "\n",
    "    silhouettes[k] = evaluator.evaluate(predictions)"
   ]
  },
  {
   "cell_type": "code",
   "execution_count": 102,
   "metadata": {},
   "outputs": [
    {
     "name": "stdout",
     "output_type": "stream",
     "text": [
      "+-----------------+----------+\n",
      "|         features|prediction|\n",
      "+-----------------+----------+\n",
      "|[5.1,3.5,1.4,0.2]|         3|\n",
      "|[4.9,3.0,1.4,0.2]|         3|\n",
      "|[4.7,3.2,1.3,0.2]|         3|\n",
      "|[4.6,3.1,1.5,0.2]|         3|\n",
      "|[5.0,3.6,1.4,0.2]|         3|\n",
      "|[5.4,3.9,1.7,0.4]|         0|\n",
      "|[4.6,3.4,1.4,0.3]|         3|\n",
      "|[5.0,3.4,1.5,0.2]|         3|\n",
      "|[4.4,2.9,1.4,0.2]|         3|\n",
      "|[4.9,3.1,1.5,0.1]|         3|\n",
      "|[5.4,3.7,1.5,0.2]|         0|\n",
      "|[4.8,3.4,1.6,0.2]|         3|\n",
      "|[4.8,3.0,1.4,0.1]|         3|\n",
      "|[4.3,3.0,1.1,0.1]|         3|\n",
      "|[5.8,4.0,1.2,0.2]|         0|\n",
      "|[5.7,4.4,1.5,0.4]|         0|\n",
      "|[5.4,3.9,1.3,0.4]|         0|\n",
      "|[5.1,3.5,1.4,0.3]|         3|\n",
      "|[5.7,3.8,1.7,0.3]|         0|\n",
      "|[5.1,3.8,1.5,0.3]|         0|\n",
      "|[5.4,3.4,1.7,0.2]|         0|\n",
      "|[5.1,3.7,1.5,0.4]|         0|\n",
      "|[4.6,3.6,1.0,0.2]|         3|\n",
      "|[5.1,3.3,1.7,0.5]|         3|\n",
      "|[4.8,3.4,1.9,0.2]|         3|\n",
      "|[5.0,3.0,1.6,0.2]|         3|\n",
      "|[5.0,3.4,1.6,0.4]|         3|\n",
      "|[5.2,3.5,1.5,0.2]|         0|\n",
      "|[5.2,3.4,1.4,0.2]|         3|\n",
      "|[4.7,3.2,1.6,0.2]|         3|\n",
      "|[4.8,3.1,1.6,0.2]|         3|\n",
      "|[5.4,3.4,1.5,0.4]|         0|\n",
      "|[5.2,4.1,1.5,0.1]|         0|\n",
      "|[5.5,4.2,1.4,0.2]|         0|\n",
      "|[4.9,3.1,1.5,0.1]|         3|\n",
      "|[5.0,3.2,1.2,0.2]|         3|\n",
      "|[5.5,3.5,1.3,0.2]|         0|\n",
      "|[4.9,3.1,1.5,0.1]|         3|\n",
      "|[4.4,3.0,1.3,0.2]|         3|\n",
      "|[5.1,3.4,1.5,0.2]|         3|\n",
      "|[5.0,3.5,1.3,0.3]|         3|\n",
      "|[4.5,2.3,1.3,0.3]|         4|\n",
      "|[4.4,3.2,1.3,0.2]|         3|\n",
      "|[5.0,3.5,1.6,0.6]|         3|\n",
      "|[5.1,3.8,1.9,0.4]|         0|\n",
      "|[4.8,3.0,1.4,0.3]|         3|\n",
      "|[5.1,3.8,1.6,0.2]|         0|\n",
      "|[4.6,3.2,1.4,0.2]|         3|\n",
      "|[5.3,3.7,1.5,0.2]|         0|\n",
      "|[5.0,3.3,1.4,0.2]|         3|\n",
      "|[7.0,3.2,4.7,1.4]|         2|\n",
      "|[6.4,3.2,4.5,1.5]|         2|\n",
      "|[6.9,3.1,4.9,1.5]|         2|\n",
      "|[5.5,2.3,4.0,1.3]|         1|\n",
      "|[6.5,2.8,4.6,1.5]|         2|\n",
      "|[5.7,2.8,4.5,1.3]|         1|\n",
      "|[6.3,3.3,4.7,1.6]|         2|\n",
      "|[4.9,2.4,3.3,1.0]|         1|\n",
      "|[6.6,2.9,4.6,1.3]|         2|\n",
      "|[5.2,2.7,3.9,1.4]|         1|\n",
      "|[5.0,2.0,3.5,1.0]|         1|\n",
      "|[5.9,3.0,4.2,1.5]|         1|\n",
      "|[6.0,2.2,4.0,1.0]|         1|\n",
      "|[6.1,2.9,4.7,1.4]|         7|\n",
      "|[5.6,2.9,3.6,1.3]|         1|\n",
      "|[6.7,3.1,4.4,1.4]|         2|\n",
      "|[5.6,3.0,4.5,1.5]|         7|\n",
      "|[5.8,2.7,4.1,1.0]|         1|\n",
      "|[6.2,2.2,4.5,1.5]|         7|\n",
      "|[5.6,2.5,3.9,1.1]|         1|\n",
      "|[5.9,3.2,4.8,1.8]|         7|\n",
      "|[6.1,2.8,4.0,1.3]|         1|\n",
      "|[6.3,2.5,4.9,1.5]|         7|\n",
      "|[6.1,2.8,4.7,1.2]|         7|\n",
      "|[6.4,2.9,4.3,1.3]|         2|\n",
      "|[6.6,3.0,4.4,1.4]|         2|\n",
      "|[6.8,2.8,4.8,1.4]|         2|\n",
      "|[6.7,3.0,5.0,1.7]|         2|\n",
      "|[6.0,2.9,4.5,1.5]|         7|\n",
      "|[5.7,2.6,3.5,1.0]|         1|\n",
      "|[5.5,2.4,3.8,1.1]|         1|\n",
      "|[5.5,2.4,3.7,1.0]|         1|\n",
      "|[5.8,2.7,3.9,1.2]|         1|\n",
      "|[6.0,2.7,5.1,1.6]|         7|\n",
      "|[5.4,3.0,4.5,1.5]|         1|\n",
      "|[6.0,3.4,4.5,1.6]|         2|\n",
      "|[6.7,3.1,4.7,1.5]|         2|\n",
      "|[6.3,2.3,4.4,1.3]|         7|\n",
      "|[5.6,3.0,4.1,1.3]|         1|\n",
      "|[5.5,2.5,4.0,1.3]|         1|\n",
      "|[5.5,2.6,4.4,1.2]|         1|\n",
      "|[6.1,3.0,4.6,1.4]|         2|\n",
      "|[5.8,2.6,4.0,1.2]|         1|\n",
      "|[5.0,2.3,3.3,1.0]|         1|\n",
      "|[5.6,2.7,4.2,1.3]|         1|\n",
      "|[5.7,3.0,4.2,1.2]|         1|\n",
      "|[5.7,2.9,4.2,1.3]|         1|\n",
      "|[6.2,2.9,4.3,1.3]|         2|\n",
      "|[5.1,2.5,3.0,1.1]|         1|\n",
      "|[5.7,2.8,4.1,1.3]|         1|\n",
      "+-----------------+----------+\n",
      "only showing top 100 rows\n",
      "\n"
     ]
    }
   ],
   "source": [
    "predictions.show(100)"
   ]
  },
  {
   "cell_type": "code",
   "execution_count": 101,
   "metadata": {},
   "outputs": [
    {
     "data": {
      "text/plain": [
       "array([0.        , 0.        , 0.8501516 , 0.73545674, 0.67207314,\n",
       "       0.55389494, 0.55171662, 0.51862391, 0.52565961, 0.46452675])"
      ]
     },
     "execution_count": 101,
     "metadata": {},
     "output_type": "execute_result"
    }
   ],
   "source": [
    "silhouettes"
   ]
  },
  {
   "cell_type": "markdown",
   "metadata": {},
   "source": [
    "Plot the cost (sum of squared distances of points to their nearest center, the smaller the better) against $k$. You may need to update/install matplotlib via `conda install -c conda-forge matplotlib`"
   ]
  },
  {
   "cell_type": "code",
   "execution_count": 22,
   "metadata": {
    "scrolled": true
   },
   "outputs": [
    {
     "data": {
      "image/png": "[encoded data removed]",
      "text/plain": [
       "<matplotlib.figure.Figure at 0x7feec6c443c8>"
      ]
     },
     "metadata": {},
     "output_type": "display_data"
    }
   ],
   "source": [
    "fig, ax = plt.subplots(1,1, figsize =(8,6))\n",
    "ax.plot(range(2,numK),costs[2:numK],marker=\"o\")\n",
    "ax.set_xlabel('$k$')\n",
    "ax.set_ylabel('Cost')\n",
    "plt.grid()\n",
    "plt.show()"
   ]
  },
  {
   "cell_type": "markdown",
   "metadata": {},
   "source": [
    "We can see that this cost measure is biased towards a large $k$."
   ]
  },
  {
   "cell_type": "markdown",
   "metadata": {},
   "source": [
    "Plot the metric (the larger the better) against $k$. \n"
   ]
  },
  {
   "cell_type": "code",
   "execution_count": 23,
   "metadata": {},
   "outputs": [
    {
     "data": {
      "image/png": "[encoded data removed]",
      "text/plain": [
       "<matplotlib.figure.Figure at 0x7feebca08048>"
      ]
     },
     "metadata": {},
     "output_type": "display_data"
    }
   ],
   "source": [
    "fig, ax = plt.subplots(1,1, figsize =(8,6))\n",
    "ax.plot(range(2,numK),silhouettes[2:numK],marker=\"o\")\n",
    "ax.set_xlabel('$k$')\n",
    "ax.set_ylabel('Silhouette')\n",
    "plt.grid()\n",
    "plt.show()"
   ]
  },
  {
   "cell_type": "markdown",
   "metadata": {},
   "source": [
    "We can see that this cost measure is biased towards a small $k$.\n",
    "\n",
    "By the Silhouette metric, we should choose $k=2$ but we know the ground truth $k$ is 3 (read the data description or count unique species). Therefore, this metric is not giving the ideal results in this case. "
   ]
  },
  {
   "cell_type": "markdown",
   "metadata": {},
   "source": [
    "## 2. Exercise - Further analysis of the Iris data (completing two or more questions is considered as completion of this exercise).\n",
    "* In the iris clustering example, choose $k=3$ and evaluate the clustering results against the ground truth to examine the clustering quality when we know the number of clusters.\n",
    "* In the iris clustering problem, use (e.g., 10 or 20) random seeds to generate different clustering results and plot the respective errors (with respect to ground truth, with $k=3$) to observe the effect of initialization. \n",
    "* Change the initilization method to random and evaluate the results to see whether kmeans || is indeed better."
   ]
  },
  {
   "cell_type": "markdown",
   "metadata": {},
   "source": [
    "## 3. Clustering of bigger data (Optional but recommended, completing any of the following is considered as completion of this task.)\n"
   ]
  },
  {
   "cell_type": "markdown",
   "metadata": {},
   "source": [
    "### RFM Customer Value Analysis \n",
    "\n",
    "* Follow Chapter 12 of [PySpark tutorial](https://runawayhorse001.github.io/LearningApacheSpark/pyspark.pdf) to perform [RFM Customer Value Analysis](https://en.wikipedia.org/wiki/RFM_(customer_value))\n",
    "* The data can be downloaded from [Online Retail Data Set](https://archive.ics.uci.edu/ml/datasets/online+retail) at UCI. \n",
    "* Note the **data cleaning** step that checks and removes rows containing null value via `.dropna()`. You may need to do the same when you are dealing with real data.\n",
    "* The **data manipulation** steps are also useful to learn.\n",
    "\n",
    "### Network intrusion detection\n",
    "\n",
    "* The original task is a classification task. We can ignore the class labels and perform clustering on the data.\n",
    "* Write a standalone program (and submit as a batch job to HPC) to do $k$-means clustering on the [KDDCUP1999 data](https://archive.ics.uci.edu/ml/datasets/KDD+Cup+1999+Data) with 4M points. You may start with the smaller 10% subset.\n",
    "\n",
    "\n",
    "### Color Quantization using K-Means\n",
    "* Follow the scikit-learn example [Color Quantization using K-Means](https://scikit-learn.org/stable/auto_examples/cluster/plot_color_quantization.html#sphx-glr-auto-examples-cluster-plot-color-quantization-py) to perform the same using PySpark on your high-resolution photos.\n",
    "\n",
    "\n"
   ]
  }
 ],
 "metadata": {
  "kernelspec": {
   "display_name": "Python 3",
   "language": "python",
   "name": "python3"
  },
  "language_info": {
   "codemirror_mode": {
    "name": "ipython",
    "version": 3
   },
   "file_extension": ".py",
   "mimetype": "text/x-python",
   "name": "python",
   "nbconvert_exporter": "python",
   "pygments_lexer": "ipython3",
   "version": "3.7.4"
  }
 },
 "nbformat": 4,
 "nbformat_minor": 2
}
