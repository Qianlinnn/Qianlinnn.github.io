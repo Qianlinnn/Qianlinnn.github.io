{
 "cells": [
  {
   "cell_type": "code",
   "execution_count": null,
   "metadata": {},
   "outputs": [],
   "source": [
    "860:\n",
    "\n",
    "class Solution:\n",
    "    def lemonadeChange(self, bills: List[int]) -> bool:\n",
    "        five,ten,twenty = 0,0,0\n",
    "        for bill in bills:\n",
    "            if bill == 5:\n",
    "                five += 1\n",
    "            elif bill == 10:\n",
    "                if five == 0:\n",
    "                    return False\n",
    "                else:\n",
    "                    five -= 1\n",
    "                    ten += 1\n",
    "            else:\n",
    "                if five and ten:\n",
    "                    five -= 1\n",
    "                    ten -= 1\n",
    "                    twenty += 1\n",
    "                elif five >= 3:\n",
    "                    five -= 3\n",
    "                    twenty += 1\n",
    "                else:\n",
    "                    return False\n",
    "        return True\n"
   ]
  },
  {
   "cell_type": "code",
   "execution_count": null,
   "metadata": {},
   "outputs": [],
   "source": [
    "122:\n",
    "    class Solution:\n",
    "    def maxProfit(self, prices: List[int]) -> int:\n",
    "        profit = 0\n",
    "        for day in range(len(prices)-1):\n",
    "            differ = prices[day+1] - prices[day]\n",
    "            if differ > 0:\n",
    "                profit += differ\n",
    "        return profit"
   ]
  }
 ],
 "metadata": {
  "kernelspec": {
   "display_name": "Python 3",
   "language": "python",
   "name": "python3"
  },
  "language_info": {
   "codemirror_mode": {
    "name": "ipython",
    "version": 3
   },
   "file_extension": ".py",
   "mimetype": "text/x-python",
   "name": "python",
   "nbconvert_exporter": "python",
   "pygments_lexer": "ipython3",
   "version": "3.7.3"
  }
 },
 "nbformat": 4,
 "nbformat_minor": 2
}
