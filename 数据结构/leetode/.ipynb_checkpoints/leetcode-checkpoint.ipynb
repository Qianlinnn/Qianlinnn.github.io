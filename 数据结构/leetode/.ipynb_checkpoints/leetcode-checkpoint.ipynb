{
 "cells": [
  {
   "cell_type": "code",
   "execution_count": null,
   "metadata": {},
   "outputs": [],
   "source": [
    "21   \n",
    "    if l1 and l2:\n",
    "        if l1.val > l2.val: l1,l2 = l2,l1\n",
    "        l1.next = self.mergeTwoLists(l1.next,l2)\n",
    "    return l1 or l2\n",
    "    \n",
    "class Solution(object):\n",
    "\tdef mergeTwoLists(self, l1, l2):\n",
    "\t\t\"\"\"\n",
    "\t\t:type l1: ListNode\n",
    "\t\t:type l2: ListNode\n",
    "\t\t:rtype: ListNode\n",
    "\t\t\"\"\"\n",
    "\t\t#增加一个冗余的节点，方便后续处理\n",
    "\t\tp = ListNode(-1)\n",
    "\t\thead = p\n",
    "\t\t#这里的意思是l1!=null && l2!=null\n",
    "\t\twhile l1 and l2:\n",
    "\t\t\t#如果l1的val<=l2的val，就将p指向l1\n",
    "\t\t\t#p.next,l1 = l1,l1.next这里是将两行合并了\n",
    "\t\t\t#只是为了代码简洁，面试时如果没有十足把握尽量分多行写\n",
    "\t\t\tif l1.val<=l2.val:\n",
    "\t\t\t\tp.next,l1 = l1,l1.next\n",
    "\t\t\t#else时，将p指向l2节点\n",
    "\t\t\telse:\n",
    "\t\t\t\tp.next,l2 = l2,l2.next\n",
    "\t\t\tp = p.next\n",
    "\t\t#这里是一个三目表达式，类似\n",
    "\t\t# l1==null? l2:l1\n",
    "\t\t# 如果l1不为空就将p.next指向l1\n",
    "\t\t# 如果l1为空就指向l2，如果l2也为空那就指向空\n",
    "\t\tp.next = l1 if l1 else l2 #这是最后一段，l1和l2有一个已经连完成了\n",
    "\t\treturn head.next"
   ]
  },
  {
   "cell_type": "code",
   "execution_count": null,
   "metadata": {},
   "outputs": [],
   "source": [
    "26\n",
    "class Solution:\n",
    "    def removeDuplicates(self, nums: List[int]) -> int:\n",
    "        for i in range(len(nums)-1,0,-1): \n",
    "            if nums[i] == nums[i-1]:\n",
    "                nums.pop(i)\n",
    "        return len(nums)\n",
    "\n",
    "class Solution:\n",
    "    def removeDuplicates(self, nums: List[int]) -> int:\n",
    "        if len(nums) == 0: return 0\n",
    "        i = 0\n",
    "        for j in range(1, len(nums)):\n",
    "            if nums[i] != nums[j]:\n",
    "                i += 1\n",
    "                nums[i] = nums[j]\n",
    "        return i+1\n",
    "\n",
    "\n"
   ]
  },
  {
   "cell_type": "code",
   "execution_count": null,
   "metadata": {},
   "outputs": [],
   "source": [
    "189\n",
    "class Solution:\n",
    "    def rotate(self, nums: List[int], k: int) -> None:\n",
    "        \"\"\"\n",
    "        Do not return anything, modify nums in-place instead.\n",
    "        \"\"\"\n",
    "\n",
    "\n",
    "        def ref(arr):\n",
    "            arr = arr[::-1]\n",
    "            return arr\n",
    "        n = len(nums)\n",
    "        \n",
    "        if k > n:\n",
    "            k %= n\n",
    "        nums[:] = ref(nums)\n",
    "        nums[:k] = ref(nums[:k])\n",
    "        nums[k:] = ref(nums[k:])"
   ]
  },
  {
   "cell_type": "code",
   "execution_count": null,
   "metadata": {},
   "outputs": [],
   "source": [
    "283\n",
    "class Solution:\n",
    "    def moveZeroes(self, nums: List[int]) -> None:\n",
    "        \"\"\"\n",
    "        Do not return anything, modify nums in-place instead.\n",
    "        \"\"\"\n",
    "        i = j = 0\n",
    "        for i in range(len(nums)):\n",
    "            if nums[i] != 0:\n",
    "                nums[i], nums[j] = nums[j], nums[i]\n",
    "                j += 1"
   ]
  },
  {
   "cell_type": "markdown",
   "metadata": {},
   "source": [
    "242 .\n",
    "给定两个字符串 s 和 t ，编写一个函数来判断 t 是否是 s 的字母异位词。\n",
    "\n",
    "示例 1:\n",
    "\n",
    "输入: s = \"anagram\", t = \"nagaram\"\n",
    "输出: true\n",
    "示例 2:\n",
    "\n",
    "输入: s = \"rat\", t = \"car\"\n",
    "输出: false\n",
    "\n",
    "你可以假设字符串只包含小写字母。\n",
    "\n",
    "进阶:\n",
    "如果输入字符串包含 unicode 字符怎么办？你能否调整你的解法来应对这种情况？\n"
   ]
  },
  {
   "cell_type": "code",
   "execution_count": null,
   "metadata": {},
   "outputs": [],
   "source": []
  }
 ],
 "metadata": {
  "kernelspec": {
   "display_name": "Python 3",
   "language": "python",
   "name": "python3"
  },
  "language_info": {
   "codemirror_mode": {
    "name": "ipython",
    "version": 3
   },
   "file_extension": ".py",
   "mimetype": "text/x-python",
   "name": "python",
   "nbconvert_exporter": "python",
   "pygments_lexer": "ipython3",
   "version": "3.7.3"
  }
 },
 "nbformat": 4,
 "nbformat_minor": 2
}
