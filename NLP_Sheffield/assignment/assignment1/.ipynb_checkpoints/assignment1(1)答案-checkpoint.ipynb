{
 "cells": [
  {
   "cell_type": "markdown",
   "metadata": {
    "colab_type": "text",
    "id": "tlLsYUAf0m0a"
   },
   "source": [
    "# [COM4513-6513] Assignment 1: Text Classification with Logistic Regression\n",
    "\n",
    "### Instructor: Nikos Aletras\n",
    "\n",
    "\n",
    "The goal of this assignment is to develop and test two text classification systems: \n",
    "\n",
    "- **Task 1:** sentiment analysis, in particular to predict the sentiment of movie review, i.e. positive or negative (binary classification).\n",
    "- **Task 2:** topic classification, to predict whether a news article is about International issues, Sports or Business (multiclass classification).\n",
    "\n",
    "\n",
    "For that purpose, you will implement:\n",
    "\n",
    "- Text processing methods for extracting Bag-Of-Word features, using (1) unigrams, bigrams and trigrams to obtain vector representations of documents. Two vector weighting schemes should be tested: (1) raw frequencies (**3 marks; 1 for each ngram type**); (2) tf.idf (**1 marks**). \n",
    "- Binary Logistic Regression classifiers that will be able to accurately classify movie reviews trained with (1) BOW-count (raw frequencies); and (2) BOW-tfidf (tf.idf weighted) for Task 1. \n",
    "- Multiclass Logistic Regression classifiers that will be able to accurately classify news articles trained with (1) BOW-count (raw frequencies); and (2) BOW-tfidf (tf.idf weighted) for Task 2. \n",
    "- The Stochastic Gradient Descent (SGD) algorithm to estimate the parameters of your Logistic Regression models. Your SGD algorithm should:\n",
    "    - Minimise the Binary Cross-entropy loss function for Task 1 (**3 marks**)\n",
    "    - Minimise the Categorical Cross-entropy loss function for Task 2 (**3 marks**)\n",
    "    - Use L2 regularisation (both tasks) (**1 mark**)\n",
    "    - Perform multiple passes (epochs) over the training data (**1 mark**)\n",
    "    - Randomise the order of training data after each pass (**1 mark**)\n",
    "    - Stop training if the difference between the current and previous validation loss is smaller than a threshold (**1 mark**)\n",
    "    - After each epoch print the training and development loss (**1 mark**)\n",
    "- Discuss how did you choose hyperparameters (e.g. learning rate and regularisation strength)?  (**2 marks; 0.5 for each model in each task**).\n",
    "- After training the LR models, plot the learning process (i.e. training and validation loss in each epoch) using a line plot (**1 mark; 0.5 for both BOW-count and BOW-tfidf LR models in each task**) and discuss if your model overfits/underfits/is about right.\n",
    "- Model interpretability by showing the most important features for each class (i.e. most positive/negative weights). Give the top 10 for each class and comment on whether they make sense (if they don't you might have a bug!).  If we were to apply the classifier we've learned into a different domain such laptop reviews or restaurant reviews, do you think these features would generalise well? Can you propose what features the classifier could pick up as important in the new domain? (**2 marks; 0.5 for BOW-count and BOW-tfidf LR models respectively in each task**)\n",
    "\n",
    "\n",
    "### Data - Task 1 \n",
    "\n",
    "The data you will use for Task 1 are taken from here: [http://www.cs.cornell.edu/people/pabo/movie-review-data/](http://www.cs.cornell.edu/people/pabo/movie-review-data/) and you can find it in the `./data_sentiment` folder in CSV format:\n",
    "\n",
    "- `data_sentiment/train.csv`: contains 1,400 reviews, 700 positive (label: 1) and 700 negative (label: 0) to be used for training.\n",
    "- `data_sentiment/dev.csv`: contains 200 reviews, 100 positive and 100 negative to be used for hyperparameter selection and monitoring the training process.\n",
    "- `data_sentiment/test.csv`: contains 400 reviews, 200 positive and 200 negative to be used for testing.\n",
    "\n",
    "### Data - Task 2\n",
    "\n",
    "The data you will use for Task 2 is a subset of the [AG News Corpus](http://groups.di.unipi.it/~gulli/AG_corpus_of_news_articles.html) and you can find it in the `./data_topic` folder in CSV format:\n",
    "\n",
    "- `data_topic/train.csv`: contains 2,400 news articles, 800 for each class to be used for training.\n",
    "- `data_topic/dev.csv`: contains 150 news articles, 50 for each class to be used for hyperparameter selection and monitoring the training process.\n",
    "- `data_topic/test.csv`: contains 900 news articles, 300 for each class to be used for testing.\n",
    "\n",
    "\n",
    "### Submission Instructions\n",
    "\n",
    "You should submit a Jupyter Notebook file (assignment1.ipynb) and an exported PDF version (you can do it from Jupyter: `File->Download as->PDF via Latex`).\n",
    "\n",
    "You are advised to follow the code structure given in this notebook by completing all given funtions. You can also write any auxilliary/helper functions (and arguments for the functions) that you might need but note that you can provide a full solution without any such functions. Similarly, you can just use only the packages imported below but you are free to use any functionality from the [Python Standard Library](https://docs.python.org/2/library/index.html), NumPy, SciPy and Pandas. You are not allowed to use any third-party library such as Scikit-learn (apart from metric functions already provided), NLTK, Spacy, Keras etc..\n",
    "\n",
    "Please make sure to comment your code. You should also mention if you've used Windows (not recommended) to write and test your code. There is no single correct answer on what your accuracy should be, but correct implementations usually achieve F1-scores around 80\\% or higher. The quality of the analysis of the results is as important as the accuracy itself. \n",
    "\n",
    "This assignment will be marked out of 20. It is worth 20\\% of your final grade in the module.\n",
    "\n",
    "The deadline for this assignment is **23:59 on Fri, 20 Mar 2020** and it needs to be submitted via MOLE. Standard departmental penalties for lateness will be applied. We use a range of strategies to detect [unfair means](https://www.sheffield.ac.uk/ssid/unfair-means/index), including Turnitin which helps detect plagiarism, so make sure you do not plagiarise.\n",
    "\n"
   ]
  },
  {
   "cell_type": "code",
   "execution_count": 1,
   "metadata": {
    "ExecuteTime": {
     "end_time": "2020-02-15T14:31:36.292691Z",
     "start_time": "2020-02-15T14:31:35.549108Z"
    },
    "colab": {},
    "colab_type": "code",
    "id": "VxLmQ04-0m0f"
   },
   "outputs": [],
   "source": [
    "import pandas as pd\n",
    "import numpy as np\n",
    "from collections import Counter\n",
    "import re\n",
    "import matplotlib.pyplot as plt\n",
    "from sklearn.metrics import accuracy_score, precision_score, recall_score, f1_score\n",
    "import random\n",
    "\n",
    "# fixing random seed for reproducibility\n",
    "random.seed(123)\n",
    "np.random.seed(123)\n"
   ]
  },
  {
   "cell_type": "code",
   "execution_count": 2,
   "metadata": {
    "colab": {
     "base_uri": "https://localhost:8080/",
     "height": 54
    },
    "colab_type": "code",
    "id": "PT_0bzaimjV5",
    "outputId": "315549f4-41f2-482f-80c0-6c4f25913a7a"
   },
   "outputs": [
    {
     "ename": "ModuleNotFoundError",
     "evalue": "No module named 'google'",
     "output_type": "error",
     "traceback": [
      "\u001b[1;31m---------------------------------------------------------------------------\u001b[0m",
      "\u001b[1;31mModuleNotFoundError\u001b[0m                       Traceback (most recent call last)",
      "\u001b[1;32m<ipython-input-2-d5df0069828e>\u001b[0m in \u001b[0;36m<module>\u001b[1;34m\u001b[0m\n\u001b[1;32m----> 1\u001b[1;33m \u001b[1;32mfrom\u001b[0m \u001b[0mgoogle\u001b[0m\u001b[1;33m.\u001b[0m\u001b[0mcolab\u001b[0m \u001b[1;32mimport\u001b[0m \u001b[0mdrive\u001b[0m\u001b[1;33m\u001b[0m\u001b[1;33m\u001b[0m\u001b[0m\n\u001b[0m\u001b[0;32m      2\u001b[0m \u001b[0mdrive\u001b[0m\u001b[1;33m.\u001b[0m\u001b[0mmount\u001b[0m\u001b[1;33m(\u001b[0m\u001b[1;34m'/content/drive'\u001b[0m\u001b[1;33m)\u001b[0m\u001b[1;33m\u001b[0m\u001b[1;33m\u001b[0m\u001b[0m\n",
      "\u001b[1;31mModuleNotFoundError\u001b[0m: No module named 'google'"
     ]
    }
   ],
   "source": [
    "data_tr=pd.read_csv('./data_sentiment/train.csv',names=[\"text\",\"label\"])\n"
   ]
  },
  {
   "cell_type": "markdown",
   "metadata": {
    "colab_type": "text",
    "id": "8RTGRsox0m0n"
   },
   "source": [
    "## Load Raw texts and labels into arrays\n",
    "\n",
    "First, you need to load the training, development and test sets from their corresponding CSV files (tip: you can use Pandas dataframes)."
   ]
  },
  {
   "cell_type": "code",
   "execution_count": 2,
   "metadata": {
    "ExecuteTime": {
     "end_time": "2020-02-15T14:17:28.145788Z",
     "start_time": "2020-02-15T14:17:28.066100Z"
    },
    "colab": {},
    "colab_type": "code",
    "id": "UDk-xiet0m0p"
   },
   "outputs": [],
   "source": [
    "# fill in your code...\n",
    "data_tr=pd.read_csv('./data_sentiment/train.csv',names=[\"text\",\"label\"])\n",
    "data_dev = pd.read_csv('./data_sentiment/dev.csv', names=[\"text\",\"label\"])\n",
    "data_te = pd.read_csv('./data_sentiment/test.csv', names=[\"text\",\"label\"])\n"
   ]
  },
  {
   "cell_type": "markdown",
   "metadata": {
    "colab_type": "text",
    "id": "Zbjw2u7R0m0w"
   },
   "source": [
    "If you use Pandas you can see a sample of the data."
   ]
  },
  {
   "cell_type": "code",
   "execution_count": 8,
   "metadata": {
    "ExecuteTime": {
     "end_time": "2020-02-15T14:17:28.900892Z",
     "start_time": "2020-02-15T14:17:28.891221Z"
    },
    "colab": {
     "base_uri": "https://localhost:8080/",
     "height": 204
    },
    "colab_type": "code",
    "id": "eMldqusW0m0y",
    "outputId": "d0827d78-d821-4167-a3c0-778d06145e3f"
   },
   "outputs": [
    {
     "data": {
      "text/html": [
       "<div>\n",
       "<style scoped>\n",
       "    .dataframe tbody tr th:only-of-type {\n",
       "        vertical-align: middle;\n",
       "    }\n",
       "\n",
       "    .dataframe tbody tr th {\n",
       "        vertical-align: top;\n",
       "    }\n",
       "\n",
       "    .dataframe thead th {\n",
       "        text-align: right;\n",
       "    }\n",
       "</style>\n",
       "<table border=\"1\" class=\"dataframe\">\n",
       "  <thead>\n",
       "    <tr style=\"text-align: right;\">\n",
       "      <th></th>\n",
       "      <th>text</th>\n",
       "      <th>label</th>\n",
       "    </tr>\n",
       "  </thead>\n",
       "  <tbody>\n",
       "    <tr>\n",
       "      <td>0</td>\n",
       "      <td>wild things is a suspenseful thriller starring...</td>\n",
       "      <td>1</td>\n",
       "    </tr>\n",
       "    <tr>\n",
       "      <td>1</td>\n",
       "      <td>i know it already opened in december , but i f...</td>\n",
       "      <td>1</td>\n",
       "    </tr>\n",
       "    <tr>\n",
       "      <td>2</td>\n",
       "      <td>what's shocking about \" carlito's way \" is how...</td>\n",
       "      <td>1</td>\n",
       "    </tr>\n",
       "    <tr>\n",
       "      <td>3</td>\n",
       "      <td>uncompromising french director robert bresson'...</td>\n",
       "      <td>1</td>\n",
       "    </tr>\n",
       "    <tr>\n",
       "      <td>4</td>\n",
       "      <td>aggressive , bleak , and unrelenting film abou...</td>\n",
       "      <td>1</td>\n",
       "    </tr>\n",
       "  </tbody>\n",
       "</table>\n",
       "</div>"
      ],
      "text/plain": [
       "                                                text  label\n",
       "0  wild things is a suspenseful thriller starring...      1\n",
       "1  i know it already opened in december , but i f...      1\n",
       "2  what's shocking about \" carlito's way \" is how...      1\n",
       "3  uncompromising french director robert bresson'...      1\n",
       "4  aggressive , bleak , and unrelenting film abou...      1"
      ]
     },
     "execution_count": 8,
     "metadata": {},
     "output_type": "execute_result"
    }
   ],
   "source": [
    "data_te.head()"
   ]
  },
  {
   "cell_type": "markdown",
   "metadata": {
    "colab_type": "text",
    "id": "oZ7ILrXU0m05"
   },
   "source": [
    "The next step is to put the raw texts into Python lists and their corresponding labels into NumPy arrays:\n"
   ]
  },
  {
   "cell_type": "code",
   "execution_count": 13,
   "metadata": {
    "ExecuteTime": {
     "end_time": "2020-02-15T14:17:31.115577Z",
     "start_time": "2020-02-15T14:17:31.108038Z"
    },
    "colab": {},
    "colab_type": "code",
    "id": "SyVvEVMb0m07"
   },
   "outputs": [],
   "source": [
    "# fill in your code...\n",
    "X_tr_raw = data_tr['text'].tolist() \n",
    "Y_tr = data_tr['label'].values\n",
    "\n",
    "X_dev_raw = data_dev['text'].tolist()\n",
    "Y_dev = data_dev['label'].values\n",
    "\n",
    "X_te_raw = data_te['text'].tolist()\n",
    "Y_te = data_te['label'].values"
   ]
  },
  {
   "cell_type": "markdown",
   "metadata": {
    "colab_type": "text",
    "id": "-B2NEVwy0m1D"
   },
   "source": [
    "# Bag-of-Words Representation \n",
    "\n",
    "\n",
    "To train and test Logisitc Regression models, you first need to obtain vector representations for all documents given a vocabulary of features (unigrams, bigrams, trigrams).\n",
    "\n",
    "\n",
    "## Text Pre-Processing Pipeline\n",
    "\n",
    "To obtain a vocabulary of features, you should: \n",
    "- tokenise all texts into a list of unigrams (tip: using a regular expression) \n",
    "- remove stop words (using the one provided or one of your preference) \n",
    "- compute bigrams, trigrams given the remaining unigrams\n",
    "- remove ngrams appearing in less than K documents\n",
    "- use the remaining to create a vocabulary of unigrams, bigrams and trigrams (you can keep top N if you encounter memory issues).\n"
   ]
  },
  {
   "cell_type": "code",
   "execution_count": 16,
   "metadata": {
    "ExecuteTime": {
     "end_time": "2020-02-15T14:17:31.860420Z",
     "start_time": "2020-02-15T14:17:31.855439Z"
    },
    "colab": {},
    "colab_type": "code",
    "id": "S2d0gONR0m1E"
   },
   "outputs": [],
   "source": [
    "stop_words = ['a','in','on','at','and','or', \n",
    "              'to', 'the', 'of', 'an', 'by', \n",
    "              'as', 'is', 'was', 'were', 'been', 'be', \n",
    "              'are','for', 'this', 'that', 'these', 'those', 'you', 'i',\n",
    "             'it', 'he', 'she', 'we', 'they' 'will', 'have', 'has',\n",
    "              'do', 'did', 'can', 'could', 'who', 'which', 'what', \n",
    "             'his', 'her', 'they', 'them', 'from', 'with', 'its']"
   ]
  },
  {
   "cell_type": "markdown",
   "metadata": {
    "colab_type": "text",
    "id": "S3XYq_wo0m1J"
   },
   "source": [
    "### N-gram extraction from a document\n",
    "\n",
    "You first need to implement the `extract_ngrams` function. It takes as input:\n",
    "- `x_raw`: a string corresponding to the raw text of a document\n",
    "- `ngram_range`: a tuple of two integers denoting the type of ngrams you want to extract, e.g. (1,2) denotes extracting unigrams and bigrams.\n",
    "- `token_pattern`: a string to be used within a regular expression to extract all tokens. Note that data is already tokenised so you could opt for a simple white space tokenisation.\n",
    "- `stop_words`: a list of stop words\n",
    "- `vocab`: a given vocabulary. It should be used to extract specific features.\n",
    "\n",
    "and returns:\n",
    "\n",
    "- a list of all extracted features.\n",
    "\n",
    "See the examples below to see how this function should work."
   ]
  },
  {
   "cell_type": "code",
   "execution_count": 7,
   "metadata": {
    "ExecuteTime": {
     "end_time": "2020-02-15T14:17:33.169090Z",
     "start_time": "2020-02-15T14:17:33.161268Z"
    },
    "colab": {},
    "colab_type": "code",
    "id": "bxqEkn7u0m1L"
   },
   "outputs": [],
   "source": [
    "def extract_ngrams(x_raw, ngram_range=(1,3), token_pattern=r'\\b[A-Za-z][A-Za-z]+\\b', stop_words=[], vocab=set()):\n",
    "    \n",
    "    # fill in your code...\n",
    "    pattern = re.compile(token_pattern)\n",
    "    unigrams = pattern.findall(x_raw.lower())\n",
    "    unigrams_ = [u for u in unigrams if u not in stop_words and re.match(token_pattern, u)]\n",
    "    x = []\n",
    "    for n in range(ngram_range[0], ngram_range[1]+1):\n",
    "        if n == 1:\n",
    "            x.extend(unigrams_)\n",
    "        elif n == 2:\n",
    "            x.extend([(b1, b2) for b1, b2 in zip(unigrams_[:-1], unigrams_[1:])])\n",
    "        elif n == 3:\n",
    "            x.extend([(t1, t2, t3) for t1, t2, t3 in zip(unigrams_[:-2], unigrams_[1:-1], unigrams_[2:])])\n",
    "    if len(vocab) != 0:\n",
    "        x = [x_ for x_ in x if x_ in vocab]\n",
    "    return x\n"
   ]
  },
  {
   "cell_type": "code",
   "execution_count": 24,
   "metadata": {},
   "outputs": [],
   "source": [
    "x_raw = \"this is a great movie to watch food love woman\"\n",
    "token_pattern=r'\\b[A-Za-z][A-Za-z]+\\b'\n",
    "ngram_range=(1,3)\n",
    "\n",
    "pattern = re.compile(token_pattern)\n",
    "unigrams = pattern.findall(x_raw.lower())\n",
    "unigrams_ = [u for u in unigrams if u not in stop_words and re.match(token_pattern, u)]\n"
   ]
  },
  {
   "cell_type": "code",
   "execution_count": 25,
   "metadata": {},
   "outputs": [
    {
     "data": {
      "text/plain": [
       "['great', 'movie', 'watch', 'food', 'love', 'woman']"
      ]
     },
     "execution_count": 25,
     "metadata": {},
     "output_type": "execute_result"
    }
   ],
   "source": [
    "unigrams_"
   ]
  },
  {
   "cell_type": "code",
   "execution_count": null,
   "metadata": {},
   "outputs": [],
   "source": []
  },
  {
   "cell_type": "code",
   "execution_count": 26,
   "metadata": {},
   "outputs": [
    {
     "name": "stdout",
     "output_type": "stream",
     "text": [
      "['great', 'movie', 'watch', 'food']\n",
      "['movie', 'watch', 'food', 'love']\n"
     ]
    }
   ],
   "source": [
    "x = []\n",
    "print(unigrams_[:-2])\n",
    "print(unigrams_[1:-1])\n",
    "# x.extend([(b1, b2) for b1, b2 in zip(unigrams_[:-1], unigrams_[1:])])\n",
    "# print(x)"
   ]
  },
  {
   "cell_type": "code",
   "execution_count": 8,
   "metadata": {
    "ExecuteTime": {
     "end_time": "2020-02-15T14:17:33.680114Z",
     "start_time": "2020-02-15T14:17:33.675339Z"
    },
    "colab": {
     "base_uri": "https://localhost:8080/",
     "height": 119
    },
    "colab_type": "code",
    "id": "tbUCJYbk0m1Q",
    "outputId": "ec5ce2cd-5891-44e3-d185-4abf0ef0e2bb"
   },
   "outputs": [
    {
     "data": {
      "text/plain": [
       "['great',\n",
       " 'movie',\n",
       " 'watch',\n",
       " ('great', 'movie'),\n",
       " ('movie', 'watch'),\n",
       " ('great', 'movie', 'watch')]"
      ]
     },
     "execution_count": 8,
     "metadata": {},
     "output_type": "execute_result"
    }
   ],
   "source": [
    "extract_ngrams(\"this is a great movie to watch\", \n",
    "               ngram_range=(1,3), \n",
    "               stop_words=stop_words)"
   ]
  },
  {
   "cell_type": "code",
   "execution_count": 9,
   "metadata": {
    "ExecuteTime": {
     "end_time": "2020-02-15T14:17:34.278189Z",
     "start_time": "2020-02-15T14:17:34.273722Z"
    },
    "colab": {
     "base_uri": "https://localhost:8080/",
     "height": 34
    },
    "colab_type": "code",
    "id": "IQBdIblJ0m1V",
    "outputId": "24dbaba8-d937-40fe-bf9f-aca0322e0132"
   },
   "outputs": [
    {
     "data": {
      "text/plain": [
       "['great', ('great', 'movie')]"
      ]
     },
     "execution_count": 9,
     "metadata": {},
     "output_type": "execute_result"
    }
   ],
   "source": [
    "extract_ngrams(\"this is a great movie to watch\", \n",
    "               ngram_range=(1,2), \n",
    "               stop_words=stop_words, \n",
    "               vocab=set(['great',  ('great','movie')]))"
   ]
  },
  {
   "cell_type": "markdown",
   "metadata": {
    "colab_type": "text",
    "id": "Eahww_lm0m1a"
   },
   "source": [
    "Note that it is OK to represent n-grams using lists instead of tuples: e.g. `['great', ['great', 'movie']]`"
   ]
  },
  {
   "cell_type": "markdown",
   "metadata": {
    "colab_type": "text",
    "id": "9jcbLHp60m1b"
   },
   "source": [
    "### Create a vocabulary of n-grams\n",
    "\n",
    "Then the `get_vocab` function will be used to (1) create a vocabulary of ngrams; (2) count the document frequencies of ngrams; (3) their raw frequency. It takes as input:\n",
    "- `X_raw`: a list of strings each corresponding to the raw text of a document\n",
    "- `ngram_range`: a tuple of two integers denoting the type of ngrams you want to extract, e.g. (1,2) denotes extracting unigrams and bigrams.\n",
    "- `token_pattern`: a string to be used within a regular expression to extract all tokens. Note that data is already tokenised so you could opt for a simple white space tokenisation.\n",
    "- `stop_words`: a list of stop words\n",
    "- `vocab`: a given vocabulary. It should be used to extract specific features.\n",
    "- `min_df`: keep ngrams with a minimum document frequency.\n",
    "- `keep_topN`: keep top-N more frequent ngrams.\n",
    "\n",
    "and returns:\n",
    "\n",
    "- `vocab`: a set of the n-grams that will be used as features.\n",
    "- `df`: a Counter (or dict) that contains ngrams as keys and their corresponding document frequency as values.\n",
    "- `ngram_counts`: counts of each ngram in vocab\n",
    "\n",
    "Hint: it should make use of the `extract_ngrams` function."
   ]
  },
  {
   "cell_type": "code",
   "execution_count": 10,
   "metadata": {
    "ExecuteTime": {
     "end_time": "2020-02-15T14:17:35.821240Z",
     "start_time": "2020-02-15T14:17:35.814722Z"
    },
    "colab": {},
    "colab_type": "code",
    "id": "jUX-0QvT0m1c"
   },
   "outputs": [],
   "source": [
    "def get_vocab(X_raw, ngram_range=(1,3), token_pattern=r'\\b[A-Za-z][A-Za-z]+\\b', min_df=0, keep_topN=0, stop_words=[]):\n",
    "    \n",
    "    \n",
    "    # fill in your code...\n",
    "    grams = []\n",
    "    for x in X_raw:\n",
    "        grams.extend(set(extract_ngrams(x, ngram_range, token_pattern, stop_words)))\n",
    "\n",
    "\n",
    "    df = Counter(grams)\n",
    "    \n",
    "    for k in df.keys():\n",
    "        if df[k] < min_df:\n",
    "            del df[k]\n",
    "\n",
    "\n",
    "\n",
    "    ngram_counts = df.most_common()[:keep_topN]\n",
    "    vocab = set([m[0] for m in ngram_counts])\n",
    "    \n",
    "    return vocab, df, ngram_counts"
   ]
  },
  {
   "cell_type": "markdown",
   "metadata": {
    "colab_type": "text",
    "id": "2av8uo3w0m1j"
   },
   "source": [
    "Now you should use `get_vocab` to create your vocabulary and get document and raw frequencies of n-grams:"
   ]
  },
  {
   "cell_type": "code",
   "execution_count": 11,
   "metadata": {
    "ExecuteTime": {
     "end_time": "2020-02-15T14:17:39.319793Z",
     "start_time": "2020-02-15T14:17:36.836545Z"
    },
    "colab": {
     "base_uri": "https://localhost:8080/",
     "height": 122
    },
    "colab_type": "code",
    "id": "WFAkCHbN0m1l",
    "outputId": "594e8438-bf1d-4301-a848-a8207e8b7914"
   },
   "outputs": [
    {
     "name": "stdout",
     "output_type": "stream",
     "text": [
      "5000\n",
      "\n",
      "['start', 'adventure', 'sharp', 'comment', 'acted', ('just', 'another'), 'early', 'vice', ('film', 'first'), 'admittedly', ('go', 'into'), ('make', 'good'), 'pulling', 'common', 'ed', 'description', 'exercise', ('about', 'their'), 'your', ('up', 'film'), 'labor', 'lies', ('bad', 'but'), ('but', 'really'), 'troubled', 'faith', 'offers', 'sympathy', 'colonel', 'loser', ('next', 'day'), 'party', 'different', 'brian', 'opinion', ('television', 'series'), 'gross', 'linda', 'superb', 'breaks', 'worked', 'ridiculous', 'solve', 'songs', 'kiss', 'spiritual', 'out', 'theaters', 'haven', 'suspenseful', 'perfect', 'forgotten', 'appropriate', 'awe', 'production', ('film', 'itself'), ('bruce', 'willis'), 'relationships', 'boys', ('pretty', 'much'), 'challenging', 'journey', 'art', 'terrorist', 'restaurant', 'honestly', 'prominent', ('figure', 'out'), 'rocks', 'neil', 'references', ('home', 'video'), 'club', 'assistant', 'product', ('movie', 'just'), 'string', 'tricks', 'reactions', 'perfectly', 'uses', 'assembled', 'block', ('film', 'only'), 'neck', ('comes', 'out'), 'commercial', ('him', 'up'), 'further', 'cat', ('anything', 'more'), 'murders', 'files', 'phenomenon', 'white', ('movie', 'if'), 'want', 'football', 'dan', ('star', 'trek')]\n",
      "\n",
      "[('but', 1334), ('one', 1247), ('film', 1231), ('not', 1170), ('all', 1117), ('movie', 1095), ('out', 1080), ('so', 1047), ('there', 1046), ('like', 1043)]\n"
     ]
    }
   ],
   "source": [
    "vocab, df, ngram_counts = get_vocab(X_tr_raw, ngram_range=(1,3), keep_topN=5000, stop_words=stop_words)\n",
    "print(len(vocab))\n",
    "print()\n",
    "print(list(vocab)[:100])\n",
    "print()\n",
    "print(df.most_common()[:10])"
   ]
  },
  {
   "cell_type": "markdown",
   "metadata": {
    "colab_type": "text",
    "id": "6i64YEE20m1r"
   },
   "source": [
    "Then, you need to create vocabulary id -> word and id -> word dictionaries for reference:"
   ]
  },
  {
   "cell_type": "code",
   "execution_count": 13,
   "metadata": {
    "ExecuteTime": {
     "end_time": "2020-02-15T14:17:39.326811Z",
     "start_time": "2020-02-15T14:17:39.322256Z"
    },
    "colab": {},
    "colab_type": "code",
    "id": "RsW6B-zR0m1s"
   },
   "outputs": [],
   "source": [
    "# fill in your code...\n",
    "vocab_word = {}\n",
    "word_vocab = {}\n",
    "i = 0\n",
    "for i, w in enumerate(list(vocab)):\n",
    "    vocab_word[i] = w\n",
    "    word_vocab[w] = i"
   ]
  },
  {
   "cell_type": "markdown",
   "metadata": {
    "colab_type": "text",
    "id": "f9u5cOPO0m1w"
   },
   "source": [
    "Now you should be able to extract n-grams for each text in the training, development and test sets:"
   ]
  },
  {
   "cell_type": "code",
   "execution_count": 14,
   "metadata": {
    "ExecuteTime": {
     "end_time": "2020-02-15T14:17:40.213253Z",
     "start_time": "2020-02-15T14:17:39.329147Z"
    },
    "colab": {},
    "colab_type": "code",
    "id": "H92-uS300m1y"
   },
   "outputs": [],
   "source": [
    "# fill in your code...\n",
    "def get_n_grams(X_raw):\n",
    "    X_n_grams = []\n",
    "    for x_raw in X_raw:\n",
    "        X_n_grams.append(extract_ngrams(x_raw, ngram_range=(1,3), token_pattern=r'\\b[A-Za-z][A-Za-z]+\\b', stop_words=stop_words, vocab=vocab))\n",
    "    return X_n_grams\n",
    "\n",
    "X_tr_ngram = get_n_grams(X_tr_raw)\n",
    "X_dev_ngram = get_n_grams(X_dev_raw)\n",
    "X_te_ngram = get_n_grams(X_te_raw)"
   ]
  },
  {
   "cell_type": "markdown",
   "metadata": {
    "colab_type": "text",
    "id": "POuf2g8x0m13"
   },
   "source": [
    "## Vectorise documents "
   ]
  },
  {
   "cell_type": "markdown",
   "metadata": {
    "colab_type": "text",
    "id": "6LZGmmeK0m15"
   },
   "source": [
    "Next, write a function `vectoriser` to obtain Bag-of-ngram representations for a list of documents. The function should take as input:\n",
    "- `X_ngram`: a list of texts (documents), where each text is represented as list of n-grams in the `vocab`\n",
    "- `vocab`: a set of n-grams to be used for representing the documents\n",
    "\n",
    "and return:\n",
    "- `X_vec`: an array with dimensionality Nx|vocab| where N is the number of documents and |vocab| is the size of the vocabulary. Each element of the array should represent the frequency of a given n-gram in a document.\n"
   ]
  },
  {
   "cell_type": "code",
   "execution_count": 15,
   "metadata": {
    "ExecuteTime": {
     "end_time": "2020-02-15T14:17:40.219201Z",
     "start_time": "2020-02-15T14:17:40.215129Z"
    },
    "colab": {},
    "colab_type": "code",
    "id": "X2iZIUYJ0m16"
   },
   "outputs": [],
   "source": [
    "def vectorise(X_ngram, vocab):\n",
    "    \n",
    "    # fill in your code...\n",
    "    X_vec = []\n",
    "    for x_ngram in X_ngram:\n",
    "        ct = Counter(x_ngram)\n",
    "        vec = [0 for _ in range(len(vocab))]\n",
    "\n",
    "        for k in ct.keys():\n",
    "            vec[word_vocab[k]] += ct[k]\n",
    "        \n",
    "        X_vec.append(vec)\n",
    "\n",
    "    X_vec = np.array(X_vec)\n",
    "    return X_vec"
   ]
  },
  {
   "cell_type": "markdown",
   "metadata": {
    "colab_type": "text",
    "id": "hlpyjnq30m1-"
   },
   "source": [
    "Finally, use `vectorise` to obtain document vectors for each document in the train, development and test set. You should extract both count and tf.idf vectors respectively:"
   ]
  },
  {
   "cell_type": "markdown",
   "metadata": {
    "colab_type": "text",
    "id": "h8bJ5G0A0m2A"
   },
   "source": [
    "#### Count vectors"
   ]
  },
  {
   "cell_type": "code",
   "execution_count": 16,
   "metadata": {
    "ExecuteTime": {
     "end_time": "2020-02-15T14:17:41.999574Z",
     "start_time": "2020-02-15T14:17:40.376534Z"
    },
    "colab": {},
    "colab_type": "code",
    "id": "x0x1DyZZ0m2B"
   },
   "outputs": [],
   "source": [
    "# fill in your code...\n",
    "X_tr_count = vectorise(X_tr_ngram, vocab)\n",
    "X_dev_count = vectorise(X_dev_ngram, vocab)\n",
    "X_te_count = vectorise(X_te_ngram, vocab)"
   ]
  },
  {
   "cell_type": "code",
   "execution_count": 17,
   "metadata": {
    "ExecuteTime": {
     "end_time": "2020-02-15T14:17:42.004808Z",
     "start_time": "2020-02-15T14:17:42.001555Z"
    },
    "colab": {
     "base_uri": "https://localhost:8080/",
     "height": 34
    },
    "colab_type": "code",
    "id": "28wZdR5N0m2G",
    "outputId": "328b363a-e63f-4a4e-a214-dd87952c2ea6"
   },
   "outputs": [
    {
     "data": {
      "text/plain": [
       "(1400, 5000)"
      ]
     },
     "execution_count": 17,
     "metadata": {},
     "output_type": "execute_result"
    }
   ],
   "source": [
    "X_tr_count.shape"
   ]
  },
  {
   "cell_type": "code",
   "execution_count": 18,
   "metadata": {
    "ExecuteTime": {
     "end_time": "2020-02-15T14:17:42.010525Z",
     "start_time": "2020-02-15T14:17:42.006309Z"
    },
    "colab": {
     "base_uri": "https://localhost:8080/",
     "height": 119
    },
    "colab_type": "code",
    "id": "8pNIXwCz0m2K",
    "outputId": "952584ed-6037-49ba-d40f-31219d8ba3b0"
   },
   "outputs": [
    {
     "data": {
      "text/plain": [
       "array([[0, 0, 0, 0, 0, 0, 1, 0, 0, 0, 0, 0, 1, 0, 0, 0, 0, 0, 1, 0, 0, 0,\n",
       "        0, 0, 0, 0, 0, 0, 0, 0, 0, 0, 0, 0, 0, 0, 2, 0, 1, 0, 0, 0, 0, 2,\n",
       "        1, 0, 1, 0, 0, 0],\n",
       "       [0, 0, 0, 1, 0, 0, 1, 0, 0, 0, 0, 0, 0, 0, 0, 0, 0, 0, 0, 0, 0, 0,\n",
       "        0, 0, 0, 0, 0, 0, 0, 0, 0, 0, 1, 0, 0, 0, 0, 0, 0, 0, 0, 0, 0, 0,\n",
       "        0, 0, 2, 0, 0, 0]])"
      ]
     },
     "execution_count": 18,
     "metadata": {},
     "output_type": "execute_result"
    }
   ],
   "source": [
    "X_tr_count[:2,:50]"
   ]
  },
  {
   "cell_type": "markdown",
   "metadata": {
    "colab_type": "text",
    "id": "WCxneAsG0m2P"
   },
   "source": [
    "#### TF.IDF vectors\n",
    "\n",
    "First compute `idfs` an array containing inverted document frequencies (Note: its elements should correspond to your `vocab`)"
   ]
  },
  {
   "cell_type": "code",
   "execution_count": 19,
   "metadata": {
    "ExecuteTime": {
     "end_time": "2020-02-15T14:17:42.022692Z",
     "start_time": "2020-02-15T14:17:42.012315Z"
    },
    "colab": {},
    "colab_type": "code",
    "id": "UrTY42ra0m2T"
   },
   "outputs": [],
   "source": [
    "# fill in your code...\n",
    "\n",
    "Idfs = []\n",
    "for k in list(vocab):\n",
    "    df = 0\n",
    "    for x_ngram in X_tr_ngram:\n",
    "        if k in x_ngram:\n",
    "            df += 1\n",
    "    Idfs.append(np.log10(X_tr_count.shape[0]/(df+1)))\n",
    "\n",
    "Idfs = np.array(Idfs)"
   ]
  },
  {
   "cell_type": "markdown",
   "metadata": {
    "colab_type": "text",
    "id": "wz1SPKaf0m2X"
   },
   "source": [
    "Then transform your count vectors to tf.idf vectors:"
   ]
  },
  {
   "cell_type": "code",
   "execution_count": 20,
   "metadata": {
    "ExecuteTime": {
     "end_time": "2020-02-15T14:17:42.802265Z",
     "start_time": "2020-02-15T14:17:42.752448Z"
    },
    "colab": {},
    "colab_type": "code",
    "id": "l3liEahq0m2Z"
   },
   "outputs": [],
   "source": [
    "# fill in your code...\n",
    "X_tr_tfidf = X_tr_count * Idfs\n",
    "X_dev_tfidf = X_dev_count * Idfs\n",
    "X_te_tfidf = X_te_count * Idfs"
   ]
  },
  {
   "cell_type": "code",
   "execution_count": 21,
   "metadata": {
    "ExecuteTime": {
     "end_time": "2020-02-15T14:17:43.211619Z",
     "start_time": "2020-02-15T14:17:43.207266Z"
    },
    "colab": {
     "base_uri": "https://localhost:8080/",
     "height": 187
    },
    "colab_type": "code",
    "id": "b1NrenK-0m2d",
    "outputId": "4a657f2d-397a-463e-d734-68a50b15e960"
   },
   "outputs": [
    {
     "data": {
      "text/plain": [
       "array([0.        , 0.        , 0.        , 1.82390874, 0.        ,\n",
       "       0.        , 0.88605665, 0.        , 0.        , 0.        ,\n",
       "       0.        , 0.        , 0.        , 0.        , 0.        ,\n",
       "       0.        , 0.        , 0.        , 0.        , 0.        ,\n",
       "       0.        , 0.        , 0.        , 0.        , 0.        ,\n",
       "       0.        , 0.        , 0.        , 0.        , 0.        ,\n",
       "       0.        , 0.        , 0.76955108, 0.        , 0.        ,\n",
       "       0.        , 0.        , 0.        , 0.        , 0.        ,\n",
       "       0.        , 0.        , 0.        , 0.        , 0.        ,\n",
       "       0.        , 0.22460468, 0.        , 0.        , 0.        ])"
      ]
     },
     "execution_count": 21,
     "metadata": {},
     "output_type": "execute_result"
    }
   ],
   "source": [
    "X_tr_tfidf[1,:50]"
   ]
  },
  {
   "cell_type": "code",
   "execution_count": 0,
   "metadata": {
    "colab": {},
    "colab_type": "code",
    "id": "BbEWH6UY0m2h"
   },
   "outputs": [],
   "source": []
  },
  {
   "cell_type": "markdown",
   "metadata": {
    "colab_type": "text",
    "id": "GX9oi7SM0m2l"
   },
   "source": [
    "# Binary Logistic Regression\n",
    "\n",
    "After obtaining vector representations of the data, now you are ready to implement Binary Logistic Regression for classifying sentiment."
   ]
  },
  {
   "cell_type": "markdown",
   "metadata": {
    "colab_type": "text",
    "id": "CHL-ZWux0m2m"
   },
   "source": [
    "First, you need to implement the `sigmoid` function. It takes as input:\n",
    "\n",
    "- `z`: a real number or an array of real numbers \n",
    "\n",
    "and returns:\n",
    "\n",
    "- `sig`: the sigmoid of `z`"
   ]
  },
  {
   "cell_type": "code",
   "execution_count": 22,
   "metadata": {
    "ExecuteTime": {
     "end_time": "2020-02-15T14:17:44.160661Z",
     "start_time": "2020-02-15T14:17:44.157902Z"
    },
    "colab": {},
    "colab_type": "code",
    "id": "9WgSXpIj0m2o"
   },
   "outputs": [],
   "source": [
    "def sigmoid(z):\n",
    "    \n",
    "    # fill in your code...\n",
    "    z = 1 / (1 + np.exp(-z))\n",
    "    return z"
   ]
  },
  {
   "cell_type": "code",
   "execution_count": 23,
   "metadata": {
    "ExecuteTime": {
     "end_time": "2020-02-15T14:17:44.351292Z",
     "start_time": "2020-02-15T14:17:44.346822Z"
    },
    "colab": {
     "base_uri": "https://localhost:8080/",
     "height": 51
    },
    "colab_type": "code",
    "id": "7NR_TcXH0m2r",
    "outputId": "d0d65b9f-133f-4dad-b5dd-2c668c3b064d"
   },
   "outputs": [
    {
     "name": "stdout",
     "output_type": "stream",
     "text": [
      "0.5\n",
      "[0.00669285 0.76852478]\n"
     ]
    }
   ],
   "source": [
    "print(sigmoid(0)) \n",
    "print(sigmoid(np.array([-5., 1.2])))"
   ]
  },
  {
   "cell_type": "markdown",
   "metadata": {
    "colab_type": "text",
    "id": "4KSwLM8x0m23"
   },
   "source": [
    "Then, implement the `predict_proba` function to obtain prediction probabilities. It takes as input:\n",
    "\n",
    "- `X`: an array of inputs, i.e. documents represented by bag-of-ngram vectors ($N \\times |vocab|$)\n",
    "- `weights`: a 1-D array of the model's weights $(1, |vocab|)$\n",
    "\n",
    "and returns:\n",
    "\n",
    "- `preds_proba`: the prediction probabilities of X given the weights"
   ]
  },
  {
   "cell_type": "code",
   "execution_count": 24,
   "metadata": {
    "ExecuteTime": {
     "end_time": "2020-02-15T14:17:44.718566Z",
     "start_time": "2020-02-15T14:17:44.715017Z"
    },
    "colab": {},
    "colab_type": "code",
    "id": "dmeNKjgS0m24"
   },
   "outputs": [],
   "source": [
    "def predict_proba(X, weights):\n",
    "    \n",
    "    # fill in your code...\n",
    "    preds_proba = sigmoid(np.matmul(X, weights.T))\n",
    "    return preds_proba"
   ]
  },
  {
   "cell_type": "markdown",
   "metadata": {
    "colab_type": "text",
    "id": "Pm4EKis10m2-"
   },
   "source": [
    "Then, implement the `predict_class` function to obtain the most probable class for each vector in an array of input vectors. It takes as input:\n",
    "\n",
    "- `X`: an array of documents represented by bag-of-ngram vectors ($N \\times |vocab|$)\n",
    "- `weights`: a 1-D array of the model's weights $(1, |vocab|)$\n",
    "\n",
    "and returns:\n",
    "\n",
    "- `preds_class`: the predicted class for each x in X given the weights"
   ]
  },
  {
   "cell_type": "code",
   "execution_count": 25,
   "metadata": {
    "ExecuteTime": {
     "end_time": "2020-02-15T14:17:45.002125Z",
     "start_time": "2020-02-15T14:17:44.998668Z"
    },
    "colab": {},
    "colab_type": "code",
    "id": "D0BJ7sul0m2_"
   },
   "outputs": [],
   "source": [
    "def predict_class(X, weights):\n",
    "    \n",
    "    # fill in your code...\n",
    "    preds_proba = predict_proba(X, weights)\n",
    "    preds_class = (preds_proba > 0.5)\n",
    "    return preds_class"
   ]
  },
  {
   "cell_type": "markdown",
   "metadata": {
    "colab_type": "text",
    "id": "HyHZhy190m3D"
   },
   "source": [
    "To learn the weights from data, we need to minimise the binary cross-entropy loss. Implement `binary_loss` that takes as input:\n",
    "\n",
    "- `X`: input vectors\n",
    "- `Y`: labels\n",
    "- `weights`: model weights\n",
    "- `alpha`: regularisation strength\n",
    "\n",
    "and return:\n",
    "\n",
    "- `l`: the loss score"
   ]
  },
  {
   "cell_type": "code",
   "execution_count": 26,
   "metadata": {
    "ExecuteTime": {
     "end_time": "2020-02-15T14:17:45.455533Z",
     "start_time": "2020-02-15T14:17:45.451475Z"
    },
    "colab": {},
    "colab_type": "code",
    "id": "U78abizp0m3F"
   },
   "outputs": [],
   "source": [
    "def binary_loss(X, Y, weights, alpha=0.00001):\n",
    "    \n",
    "    # fill in your code...\n",
    "    l = - np.mean(np.reshape(Y,[-1,1]) * np.log(predict_proba(X, weights)) + (1 - np.reshape(Y,[-1,1])) * np.log(1 - predict_proba(X, weights))) + alpha * np.sum(weights**2)\n",
    "    return l\n",
    "    \n",
    "\n"
   ]
  },
  {
   "cell_type": "markdown",
   "metadata": {
    "colab_type": "text",
    "id": "anhjivsy0m3K"
   },
   "source": [
    "Now, you can implement Stochastic Gradient Descent to learn the weights of your sentiment classifier. The `SGD` function takes as input:\n",
    "\n",
    "- `X_tr`: array of training data (vectors)\n",
    "- `Y_tr`: labels of `X_tr`\n",
    "- `X_dev`: array of development (i.e. validation) data (vectors)\n",
    "- `Y_dev`: labels of `X_dev`\n",
    "- `lr`: learning rate\n",
    "- `alpha`: regularisation strength\n",
    "- `epochs`: number of full passes over the training data\n",
    "- `tolerance`: stop training if the difference between the current and previous validation loss is smaller than a threshold\n",
    "- `print_progress`: flag for printing the training progress (train/validation loss)\n",
    "\n",
    "\n",
    "and returns:\n",
    "\n",
    "- `weights`: the weights learned\n",
    "- `training_loss_history`: an array with the average losses of the whole training set after each epoch\n",
    "- `validation_loss_history`: an array with the average losses of the whole development set after each epoch"
   ]
  },
  {
   "cell_type": "code",
   "execution_count": 27,
   "metadata": {
    "ExecuteTime": {
     "end_time": "2020-02-15T14:17:45.968510Z",
     "start_time": "2020-02-15T14:17:45.958185Z"
    },
    "colab": {},
    "colab_type": "code",
    "id": "KupRg4dQ0m3L"
   },
   "outputs": [],
   "source": [
    "def SGD(X_tr, Y_tr, X_dev=[], Y_dev=[], loss=\"binary\", lr=0.1, alpha=0.00001, epochs=5, tolerance=0.0001, print_progress=True):\n",
    "    \n",
    "    cur_loss_tr = 1.\n",
    "    cur_loss_dev = 1.\n",
    "    training_loss_history = []\n",
    "    validation_loss_history = []\n",
    "    \n",
    "    # fill in your code...\n",
    "    weights = np.zeros([1, X_tr.shape[1]])\n",
    "    for epoch in range(epochs):\n",
    "        inds = np.random.permutation(X_tr.shape[0])\n",
    "        for ind in inds:\n",
    "            y_pred = predict_proba(X_tr[ind:ind+1,:], weights)\n",
    "            weights -= lr * ((y_pred - Y_tr[ind])*X_tr[ind:ind+1,:] + 2*alpha*weights)\n",
    "\n",
    "\n",
    "        training_loss_history.append(binary_loss(X_tr, Y_tr, weights, alpha))\n",
    "        validation_loss_history.append(binary_loss(X_dev, Y_dev, weights, alpha))\n",
    "\n",
    "        if print_progress:\n",
    "            print('Epoch: {}| Training loss: {}| Validation loss: {}'.format(epoch, training_loss_history[-1], validation_loss_history[-1]))\n",
    "\n",
    "\n",
    "        if len(validation_loss_history)>=2 and np.abs(validation_loss_history[-1] - validation_loss_history[-2]) < tolerance:\n",
    "            break\n",
    "    return weights, training_loss_history, validation_loss_history"
   ]
  },
  {
   "cell_type": "markdown",
   "metadata": {
    "colab_type": "text",
    "id": "sBbUO-a60m3Q"
   },
   "source": [
    "## Train and Evaluate Logistic Regression with Count vectors\n",
    "\n",
    "First train the model using SGD:"
   ]
  },
  {
   "cell_type": "code",
   "execution_count": 28,
   "metadata": {
    "ExecuteTime": {
     "end_time": "2020-02-15T14:17:51.480197Z",
     "start_time": "2020-02-15T14:17:46.362729Z"
    },
    "colab": {
     "base_uri": "https://localhost:8080/",
     "height": 391
    },
    "colab_type": "code",
    "id": "zHJq1qJb0m3R",
    "outputId": "8d2781e5-331f-402a-e303-58fa93b3e24c",
    "scrolled": true
   },
   "outputs": [
    {
     "name": "stdout",
     "output_type": "stream",
     "text": [
      "Epoch: 0| Training loss: 0.42275842252412965| Validation loss: 0.5140593466081833\n",
      "Epoch: 1| Training loss: 0.3420391050424361| Validation loss: 0.46551936955982154\n",
      "Epoch: 2| Training loss: 0.3052340045276044| Validation loss: 0.44785142506272657\n",
      "Epoch: 3| Training loss: 0.2626276577883588| Validation loss: 0.4216045122152211\n",
      "Epoch: 4| Training loss: 0.2408427733486472| Validation loss: 0.41762878800779074\n",
      "Epoch: 5| Training loss: 0.22150922629576913| Validation loss: 0.4103457367697\n",
      "Epoch: 6| Training loss: 0.21551283923071743| Validation loss: 0.4197972699890384\n",
      "Epoch: 7| Training loss: 0.19156097186952314| Validation loss: 0.40205690661157034\n",
      "Epoch: 8| Training loss: 0.1777623705926304| Validation loss: 0.3948273314877786\n",
      "Epoch: 9| Training loss: 0.16824966644592898| Validation loss: 0.39360324487062054\n",
      "Epoch: 10| Training loss: 0.16000098983488528| Validation loss: 0.39251580808863323\n",
      "Epoch: 11| Training loss: 0.15231577813957056| Validation loss: 0.3891746076727291\n",
      "Epoch: 12| Training loss: 0.14624562670193067| Validation loss: 0.389320858314563\n",
      "Epoch: 13| Training loss: 0.1436691449952211| Validation loss: 0.3940788270558146\n",
      "Epoch: 14| Training loss: 0.13497385984285626| Validation loss: 0.3894814561448397\n",
      "Epoch: 15| Training loss: 0.12998211471646529| Validation loss: 0.3901500496899501\n",
      "Epoch: 16| Training loss: 0.12564011146615547| Validation loss: 0.39064703932923805\n",
      "Epoch: 17| Training loss: 0.12237847744501398| Validation loss: 0.3931272156344392\n",
      "Epoch: 18| Training loss: 0.11830185467104984| Validation loss: 0.39254842900774456\n",
      "Epoch: 19| Training loss: 0.11573464628168895| Validation loss: 0.3928954613659965\n",
      "Epoch: 20| Training loss: 0.11181056136070049| Validation loss: 0.3922328392342393\n",
      "Epoch: 21| Training loss: 0.10866065877527348| Validation loss: 0.3927487896897851\n",
      "Epoch: 22| Training loss: 0.10603493801301486| Validation loss: 0.39361812755243275\n",
      "Epoch: 23| Training loss: 0.10388439609638148| Validation loss: 0.3935185565880663\n"
     ]
    }
   ],
   "source": [
    "w_count, loss_tr_count, dev_loss_count = SGD(X_tr_count, Y_tr, \n",
    "                                             X_dev=X_dev_count, \n",
    "                                             Y_dev=Y_dev, \n",
    "                                             lr=0.001, \n",
    "                                             alpha=0.001, \n",
    "                                             epochs=100)"
   ]
  },
  {
   "cell_type": "markdown",
   "metadata": {
    "colab_type": "text",
    "id": "8_8JhsHC0m3W"
   },
   "source": [
    "Now plot the training and validation history per epoch. Does your model underfit, overfit or is it about right? Explain why."
   ]
  },
  {
   "cell_type": "code",
   "execution_count": 29,
   "metadata": {
    "ExecuteTime": {
     "end_time": "2020-02-15T14:17:51.598911Z",
     "start_time": "2020-02-15T14:17:51.482307Z"
    },
    "colab": {
     "base_uri": "https://localhost:8080/",
     "height": 296
    },
    "colab_type": "code",
    "id": "iFXRIkCB0m3Y",
    "outputId": "7e636b39-2165-43cc-af41-5e2a14da50bb"
   },
   "outputs": [
    {
     "data": {
      "text/plain": [
       "Text(0, 0.5, 'Loss')"
      ]
     },
     "execution_count": 29,
     "metadata": {},
     "output_type": "execute_result"
    },
    {
     "data": {
      "image/png": "[encoded data removed]",
      "text/plain": [
       "<Figure size 432x288 with 1 Axes>"
      ]
     },
     "metadata": {
      "needs_background": "light"
     },
     "output_type": "display_data"
    }
   ],
   "source": [
    "plt.plot(range(len(loss_tr_count)), loss_tr_count, 'b-', label='training loss')\n",
    "plt.plot(range(len(dev_loss_count)), dev_loss_count, label = 'validation loss', color='coral')\n",
    "plt.legend()\n",
    "plt.xlabel('Epochs')\n",
    "plt.ylabel('Loss')"
   ]
  },
  {
   "cell_type": "markdown",
   "metadata": {
    "ExecuteTime": {
     "end_time": "2020-01-21T16:52:26.583150Z",
     "start_time": "2020-01-21T16:52:26.578754Z"
    },
    "colab_type": "text",
    "id": "4OFGoF7p0m3d"
   },
   "source": [
    "From the fitting curve, it is clear that overfitting has occurred. This is because the training loss is much lower than the verified loss. There are many reasons for this phenomenon. In this case, the data preprocessing is likely to be poor."
   ]
  },
  {
   "cell_type": "markdown",
   "metadata": {
    "colab_type": "text",
    "id": "zPniHOYy0m3e"
   },
   "source": [
    "Compute accuracy, precision, recall and F1-scores:"
   ]
  },
  {
   "cell_type": "code",
   "execution_count": 30,
   "metadata": {
    "ExecuteTime": {
     "end_time": "2020-02-15T14:37:40.569499Z",
     "start_time": "2020-02-15T14:37:40.566796Z"
    },
    "colab": {
     "base_uri": "https://localhost:8080/",
     "height": 85
    },
    "colab_type": "code",
    "id": "j0tnC1gH0m3g",
    "outputId": "45472fb7-8e4f-4c59-eb89-41b3d26ad0df"
   },
   "outputs": [
    {
     "name": "stdout",
     "output_type": "stream",
     "text": [
      "Accuracy: 0.825\n",
      "Precision: 0.8037383177570093\n",
      "Recall: 0.86\n",
      "F1-Score: 0.8309178743961353\n"
     ]
    }
   ],
   "source": [
    "# fill in your code...\n",
    "preds_te_count = predict_class(X_te_count, w_count)\n",
    "print('Accuracy:', accuracy_score(Y_te,preds_te_count))\n",
    "print('Precision:', precision_score(Y_te,preds_te_count))\n",
    "print('Recall:', recall_score(Y_te,preds_te_count))\n",
    "print('F1-Score:', f1_score(Y_te,preds_te_count))"
   ]
  },
  {
   "cell_type": "markdown",
   "metadata": {
    "colab_type": "text",
    "id": "Yr3Btu0_0m3m"
   },
   "source": [
    "Finally, print the top-10 words for the negative and positive class respectively."
   ]
  },
  {
   "cell_type": "code",
   "execution_count": 31,
   "metadata": {
    "ExecuteTime": {
     "end_time": "2020-02-15T14:37:07.638179Z",
     "start_time": "2020-02-15T14:37:07.635838Z"
    },
    "colab": {
     "base_uri": "https://localhost:8080/",
     "height": 224
    },
    "colab_type": "code",
    "id": "8t72quft0m3n",
    "outputId": "a9a45102-0621-4728-94c2-040282a06839"
   },
   "outputs": [
    {
     "name": "stdout",
     "output_type": "stream",
     "text": [
      "Top-10 negative:\n",
      "top-1:synopsis : valerie , a high school junior who doesn't look a day under 22 , writes bad poetry , complains about how much she hates school , fantasizes about a young guy on trial for raping and murdering six women , chooses him as a pen pal , and plays hooky to see him in court .  after a jailbreak , the killer puts on big sunglasses , wears a half-buttoned jacket , and uses his fatal charm to go after valerie .  comments : \" alan smithee \" directed fatal charm , which should have been more appropriately titled \" fatal bore \" or \" fatal crap \" .  if you find out that a film you're about to see is directed by \" alan smithee , \" then you should seriously , seriously , seriously consider watching something , anything , else .   \" alan smithee \" is a pseudonym which a number of directors have used when they produce something really bad .  frankly , i'd be embarrassed if i had directed this turkey , so i think i understand why the director might have picked the \" alan smithee \" moniker for this film .  where to begin with this painfully poor thriller ?  let's start with the acting .  it's pretty bad .  amanda peterson plays valerie and shows at least some talent ( the rest of the cast don't ) , even though her performance isn't exactly stellar material .  she's also miscast ; she seems way too old to still have a year of high school to complete .  her scenes with valerie's mother , played by mary frann , are a joke .  the two look as though they're a couple of coworkers going out to lunch together , rather than a daughter with her mother who just doesn't understand .  christopher atkins , a handsome enough actor who plays the killer , adam , looks like a clown in the second half of fatal charm .  trying to appear malicious and dangerous , he wears large sunglasses and a half-buttoned jacket .  if disney decided to do a zany comedy caper about the unabomber , atkins would probably be a perfect candidate for the lead , but he doesn't cut it here .  early on in the movie , a number of scenes occurs in a courtroom .  outside of the laughably poor performances given by the actors portraying lawyers , the people sitting in the benches provide the silliest effort at drama in the film .  they constantly shift and turn and arc their heads in mock interest in what has got to be one of the worst perfomances that a large group of people have given at one time ever .  fatal charm's storyline , such as it is , inspires more yawns than thrills .  the script belabors a red herring , early on , about a second suspect who may have committed the murders for which adam ( atkins ) is charged with .  this suspect , however , turns up strangled and drowned halfway through the film : an obvious plot fault .  even for the idiots who didn't consider the movie's title as valerie and a blond newsreporter commented how innocent and charming the defendant seemed , it becomes quite obvious that adam is dangerous when the other suspect washes up .  so , the audience must wait ( if they haven't already stopped watching ) as the necessary details fall into place and the killer goes after the heroine in the drawn-out finale .  the video box for this dud describes fatal charm as an \" erotic thriller \" .  a thriller it isn't , and neither is it particularly erotic .  i can't imagine , if someone were in the mood for something \" erotic , \" that he'd be happy after watching this fluff .  a few erotic moments occur in the film ; they take place in a van with little lighting and are filmed out of focus ( see , they're supposed to be valerie's fantasies -- how creative ) .  on a personal note , i was disturbed by the ludicrous english literature class shown in this film which valerie had to suffer through .  it's no wonder why she hated high school so much .  as an instructor of english myself , i have a hard time accepting the fact that in a course emphasizing great literature , a teacher would stoop to reading a student's bad poetry ( of course , it's valerie's ) about boyfriends out loud and then embarassing its author in front of class with questions about the poem's inspiration .  i guess the public school system is still setting dubious standards for its students .  fatal charm won't charm anyone , unless there's someone that's charmed by boring , lifeless , insipid , suspenseless thrillers .  if you happen upon this turkey , just keep moving on .  \n",
      "top-2: \" battlefield earth \" is the best comedy of the year .  it has to be .  the other prospect is just too horrifying to consider .  bad movie syndrome struck me again , so after witnessing how much \" battlefield earth \" has been proclaimed a train wreck in both critical and popular circles , i felt the masochistic urge to see the disaster first-hand .  is it as bad as advertised ?  oh yes , very much so .  the plot is incomprehensible .  the acting is atrocious .  the special effects are mediocre .  the action is dull .  the implausibilities are legion .  the dialogue is cringe-inducing .  the whole package is funny when it wants to be serious and irritating when it wants to be funny .  i don't even want to continue reviewing this movie ; i'd like to purge the atrocity from my mind as soon as possible , but you probably want to read my thrashing in all its sarcastic glory , so here it is :  the premise is basically a rip-off of \" planet of the apes , \" only minus the apes and philosophical discussion , and plus a race of evil aliens from the planet psychlo .  the year is 3000 , the psychlos have conquered earth , and the human population has been enslaved .  only a handful of humans escaped to radiation-rich areas to escape the aliens ; they live out their lives in fear .  one man , johnny goodboy ( i know , i know ) tyler ( barry pepper ) , ventures to the outworld and is captured by the psychlos .  there he confronts the psychlo head of security : a big , ugly , klingon-looking creature called terl ( john travolta ) .  pressed into slavery , johnny vows to lead a revolution and take the planet back .  meanwhile , terl is faced with his own problems : he has recently learned that he's stuck living on earth ( which he hates ) for the rest of his career because he pissed off his boss by sleeping with the big man's daughter .  he decides to give johnny knowledge of the psychlo language and technology ( this is where the plot gets ridiculous .   .   . )  so the \" man-animal \" can lead a mining expedition into places the psychlos can't go .  terl then plans to keep the mined gold for himself .  of course , his plan doesn't work .  so many things wrong with this movie -- where to begin ?  how about with travolta , whose hollywood clout brought about this , the cinematic version of scientology guru l . ron hubbard's sci-fi novel ?  early previews for \" battlefield earth , \" with constant shots of a makeup-laden travolta cackling like lex luthor , had me ( and several audience members ) remarking , \" what the hell is travolta thinking ? \"  the movie did nothing to stem such remarks .  all that ridiculous cackling he did in the trailers is in full force here : terl cackles after nearly every line , and so does every other psychlo .  of course , this makes every scene hilariously overwrought , no more so than when the script clumsily stumbles into political commentary .  the psychlos are probably supposed to be some kind of satire of corporate america , but ceos generally don't laugh maniacally after denying pay raises to their employees .   ( \" you were going to be promoted -- but now you're not !  fwahahahahahahahaha ! ! ! ! ! \" )  it's no big surprise terl loses to the humans -- he's an idiot .  he breaks every kind of supervillain rule in the book .  he underestimates his enemies , assuming he'll win just because he's smarter .   ( he uses the word \" leverage \" like some sort of scientologist mantra . )  not content to go the james bond villain route of explaining his plans to the hero , he hooks him up to a machine that gives him knowledge of all the psychlos' language and technology .   ( why this machine is even around in the first place is beyond me . )  he then appears shocked that johnny points a gun at him .  no wonder this guy never got his promotion .  the plot inconsistencies are too numerous to mention .  why do the psychlos build an earth base in which both they and the human slaves must wear little breathing apparatuses to survive ?  how come the psychlos are wasting their time mining for gold when the doors of fort knox are wide open ?  how in the world did all those fighter jets survive sitting in a hangar for 1 , 000 years ?  and how do all these previously brain-dead cavemen learn to fly them so quickly ?  there's a whole lot more to scratch one's head about in \" battlefield earth . \"  bring a scorecard to track the plot holes .  director roger christian shoots \" battlefield earth \" in the most distracting way possible , tilting nearly every shot sideways for no discernible reason .  all the characters appear to be standing on the walls , and it's awfully difficult to watch a movie when you must tilt your head just to watch ordinary passages of dialogue .  the action sequences are atrociously edited , every one turned into an endless slow-motion parade that drains all potential excitement .  are these things really so hard to construct ?  my respect for supposed \" lightweight \" action directors has grown by leaps and bounds after witnessing in \" battlefield earth \" how badly an action sequence can be shot .  this movie is an absolute headache .  it's not just the shot selection and editing ; the movie , quite frankly , makes no sense .  for most of \" battlefield earth's \" running time , i just didn't know what was happening .  it didn't have anything to do with me finding the events stupid or illogical ( though they certainly are ) -- i really had no idea what the hell was going on .  when i pieced the plot together later , it didn't look any better .  here's how much of a disaster this is : \" battlefield earth \" is already the worst movie of the year , and it's going to take something really , really inept to top it .  the only thing we can take comfort in about the film is that no one will be suckered into joining the church of scientology because of it .  in fact , i'd think that hubbard's cult would want to distance themselves from this bomb as fast as possible .  that'll teach me to give into bad movie syndrome again .  \n",
      "top-3:note : some may consider portions of the following text to be spoilers .  be forewarned .   \" quick , robin !  the anti-shark repellant ! \"  - adam west in the 1966 batman feature film , casually kicking at a pathetic-looking rubber shark attached to his leg  i had never thought that an entry in the modern incarnation of the batman feature film would approach this level of campiness , but in many instances batman and robin nears , and at some point even exceeds this standard .  this is a disasterously bad film , easily the worst in the series to date , and fairly epitomizes a cinematic definition of the word excessive - it's loud , garish , and obnoxious , with pointless , gratuitous action sequences and set pieces which clutter up the screen with elaborate production design to the point of overkill .  batman and robin features the caped crusaders ( george clooney debuting as batman , with chris o'donnell returing as robin ) squaring off against another bevy of chemically-induced villains - the nefarious ice-cold mr . freeze ( arnold schwarzenegger ) , armed with a weapon which freezes everything in its sights , and the slinky poison ivy ( uma thurman ) , who has the ability to blow powerful love dust into the faces of men in order so that they will fall helplessly in love with her ( not that the dust is really necessary to accomplish this result , but whatever ) , and then dispatch them with a poisoned kiss .  by ivy's side is the giant steroid monster bane ( jeep swanson ) , a grunting hulk of a beast .  the villains' goals are noble ones - freeze steals diamonds to power his climate suit ( in order to keep his body temperature at zero degrees ) , so that he can survive in order to devise a cure for his beloved wife ( vendela ) , dying of a degenerative disease and frozen in suspended animation , and ivy's intent is to restore the dominance of plant life on earth , albeit by destroying all human life .  meanwhile , on the homefront , life at wayne manor is thrown into upheaval by the illness of butler alfred pennyworth ( michael gough ) , and the arrival of his niece barbara ( alicia silverstone ) .  akiva goldsman's screenplay for the film is ridiculous and laughably bad , with astonishingly terrible dialogue , lame jokes , and an awful by-the-number plot which simply coasts along and fails to generate any genuine excitement .  it makes goldsman's screenplay of batman forever , which i thought was dreadful , look positively inspired in comparison .  i am still astonished that a cheesy plot device which i'd seen used in - no joke - an episode of gilligan's island somehow make its way into a multimillion dollar blockbuster production .  joel schumacher's direction of batman and robin is horrific , with a terrible balance of flashiness over substance .  there is a clear conceit towards neon in this film , even moreso than with his previous batman forever , with the revamped batcave helpfully sporting gigantic glowing emblems for the dynamic duo ( just in case , i suppose , if they ever happen to forget that the batcave is the headquarters of batman and robin ) , and with neon prominently figuring in an utterly-pointless fight sequence with bane and a street gang over ivy's chosen new abode .  another action sequence which fails to serve any useful point other than to chew up five minutes of screentime involves an incredibly uninvolving late-night motorcycle race with barbara and some gotham goons .  mr . schumacher's focus for batman and robin appears to be to make the film as visually striking as possible , to the detriment of the story - there are drastic shifts in the tone of the film between all-out camp and heartfelt drama , with the latter completely unconvincing and ineffective .  it is perhaps not the most promising of signs when the group i was with burst out laughing within twenty seconds of the film's opening , even before a single line of dialogue had been uttered .  is batman and robin supposed to be campy ?  i think it is - it's hard to imagine that the filmmakers could have intended many parts of the film to be taken at all seriously .   ( one of my favourites was when bane helpfully grunted \" bomb ! \"  each time he laid down an explosive device in the gotham observatory . )  is it supposed to be as overly campy as it turned out to be ?  i somehow doubt it - the subplot involving afred is delivered so solemnly and with such graveness that the impression is made that the film isn't attempting to be the utter farce which it is .  arnold schwarzenegger is top-billed in the film as the villainous mr . freeze , and is bland and uninteresting , perhaps the worst thing that a villain can be .  mr . schwarzenegger's attempts to be menacing are laughable , and his attempts at conveying pathos are laughable ; frankly , everything he does onscreen is laughable .  by the end of the film , i was stifling a chuckle every time he simply appeared onscreen .  the bulk of his performance consists of uttering near-unintelligble puns and one-liners featuring every possible permutation of \" cool ! \"  in the least inventive way .  george clooney has been given very little to do in batman and robin , being overshadowed by the villains , and consequently he looks rather uncomfortable in the film .  his batman is hardly an imposing figure .  chris o'donnell is unimpressive in a one-note performance , while alicia silverstone lackadasically fails to make any impression at all .  the film's one saving grace ?  undoubtably uma thurman's entertaining performance as sexy villainess poison ivy .  her work in batman and robin is certainly over-the-top , but in a controlled fashion which works splendidly within the tone of the film .  ms . thurman's comic timing is impeccable , and reminds us that it takes skilled performers to make campiness work successfully .   ( i'm already starting to positively reassess jim carrey's performance in batman forever . )  her amusing poison ivy is the most entertaining character in the film , and when she's offscreen the film greatly suffers .  i figure that if one has to die , being kissed to death by uma thurman isn't a half-bad way to go .  while batman and robin was hardly a ride of pulse-pounding excitement , i must admit that i was not bored watching it , although i did glance at my watch repeatedly through the screening - my attention was kept through anticipation of the utterance of yet another terrible pun or one-liner , and by awaiting yet another scene to fall flat .  it's been a long time since i've laughed so much at a movie .   \" at \" , of course , is the operative word .  \n",
      "top-4:i have a great idea for a movie , one that can't miss .  see , i've got coolio to do a song for the soundtrack , and about fifty athletes and celebrities to do cameo appearances .  it's about professional basketball , so i'll release it right around the nba finals to guarantee added publicity .  as for what the movie is actually about . . . well , that will all sort itself out eventually .  i figure it will be a comedy , so i'll throw a half-dozen writers at it and take the best of whatever they come up with .  maybe we'll put a gender spin on it , see if we can get some women out to see it , too .  eddie is one of those phenomenally lazy films that infuriates me more than any other kind .  twister , as inane as the script might have been , at least required some creative technicians ; mission : impossible , overwrought plot and all , at least involved genuine effort .  eddie just sits there , hawking up a formula story without any laughs , and makes every possible bad decision when a decision is required .  whoopi goldberg plays eddie franklin , a new york limo driver and die-hard knicks fan who is suffering through a dismal season for her beloved team .  coach john bailey ( dennis farina ) has lost control of his overpaid prima donnas , and the losses are beginning to mount .  the dwindling attendance inspires new team owner wild bill burgess ( frank langella ) to try a publicity stunt in which a lucky fan will get to be an honorary coach of the team .  the winner ( surprise , surprise ) is eddie , who becomes a fan favorite , and eventually the actual coach .  the knicks continue to lose , but eddie has some sassy tricks up her sleeve to inspire her troops .  incidentally , the knicks eventually start winning .  please raise your hand if that comes as a shock , and i will invite you to my all-night marathon of the bad news bears , major league , angels in the outfield , the mighty ducks , the big green , cool runnings and little giants .  awful teams in sports comedies make miraculous turnarounds ; it's what they do .  those teams usually involve kids , for a very sound comedic reason : it's funnier when they screw up , and they're more sympathetic .  those which _don't_ involve kids usually have actual actors in the lead roles , for another very sound comedic reason : they generally have developed some sort of comic timing .  eddie was cast under the misguided premise that it's easier to make basketball players look like actors than it is to make actors look like basketball players .  this finds nba players like greg ostertag , dwayne schintzius , rick fox and malik sealy delivering punch lines as though they were reading them for the first time off a bazooka wrapper ( though sacramento kings center olden polynice has a nice moment describing a black hole to fellow players ) .  perhaps that all didn't matter to anyone because there are so few punch lines , and because the whole film is one big casting gimmick .  steve rash directs the spiritless script as though waving a flag of surrender and screaming , \" don't blame me , i just work here . \"  perhaps it was patently obvious to him that eddie isn't a movie -- it's a cameo appearance that trips over a plot every once in a while .  among the notables who lend their faces to this travesty are donald trump , new york mayor rudolph giulianni , former new york mayor ed koch , david letterman , letterman regulars mujibur rahman and sirajul islam , espn broadcaster chris berman and knicks announcer marv albert , as well as dozens of nba players and several nba arenas .  and those are the real jokes in eddie .  nothing these individuals say or do is funny ; you are supposed to be laughing simply because you notice , \" hey , it's donald trump ! \"  or \" hey , it's mujibur and sirajul ! \"  it's difficult to decide whether eddie is so bad because it was so shamelessly lacking in imagination or because it can't even get the cliches in a cliche-ridden genre script right .  the knicks coach who is eddie's antagonist early in the film reappears at the end , but he isn't given a chance to be the villain eddie desperately needs .  neither is frank langella , and none of the athlete-actors have the ability to give whoopi goldberg anything to play off of .  that leaves her to do her street-wise miss thang routine , but with no character , no sharp lines and no help .  eddie isn't just a bad movie with a formulaic premise .  it's a movie that makes you feel cheated and offended , because someone came up with a poster and a marketing plan to which they had to attach an actual movie , and you had the nerve to believe it was going to be a comedy .  \n",
      "top-5:i'm really starting to wonder about alicia silverstone .  sure , she is one of the most beautiful creatures on god's green earth ( second only to that movie critic at large guy ) , but when it comes to choosing what movies she stars in , she always strikes out .  the crush was a slow-moving , predictable piece of fluff .  hideaway was a horrific novel adaptation alicia had only a minor role in .  clueless was an annoying , unfunny waste of time .  and people have e-mailed me too , saying clueless is a good movie and that i'm the only one who doesn't like it .  one girl said if i'd seen the movie with \" an open mind , \" i would have enjoyed it .  nothing could be further from the truth .  i went into the theater expecting to love the movie .  the preview looked good and of course i'm crazymadinlove with alicia , but the movie was a bunch of bad jokes coming from whiny , unlikable characters .  almost everyone i saw the movie with felt the same way .  when we were walking out of the theater , one guy ( and it wasn't me ) yelled out , \" that was the worst f$&#in' movie i've ever seen \" and the rest of us had to laugh in agreement .  so last night i walked into the video store and saw alicia's pretty face on the cover of some made-for-video thriller called the babysitter .  i knew it would be bad but some inner compulsion i'll probably never understand made me rent it anyway .  what i got was 90 minutes of regret--the worst alicia silverstone movie ever .  and you already know from the last paragraph what the competition is like .  where to begin in criticizing this movie ?  the plot is a thin shred that moves slower than a glacier , the writing could have been done ( and for all we know it was ) by a ten year old , alicia is the star and she's still wasted in a movie that has no appeal whatsoever .  there is zero humor , zero suspense , zero drama and zero action , until the last ten minutes , when the story is needlessly and pointlessly concluded with a violent sequence .  zero plus zero plus zero plus zero equals zero .  so why does this movie get one star out of me ?  well , alicia spends twenty minutes of the movie in the bathtub .  and if it wasn't bubble bath , the babysitter would have instantly joined the ranks of our other four- star features , but you settle for what you can get .  alicia plays a babysitter who's spending friday night looking after two kids whose parents are out getting drunk at a cocktail party .  and of course anyone as beautiful as alicia automatically spends their friday nights at home ( at least that movie critic at large guy does ) .  as the movie trods along , we discover she's not only the mostly-silent star of the movie but also the object of every male character's fantasies ( and probably every male viewer's too ) .  the drunken father thinks she's just the thing to recapture his lost youth , her boyfriend lets his imagination run wild while spying on alicia from outside , even the prepubescent boy looks in on alicia through the bathroom keyhole while she's taking her bubble bath .  they even throw in the middle aged wife's fantasies about a male counterpart at the party .  not that any of us asked or ever even thought about seeing this 200+ pound woman in a black silk teddy .  at least none of the sex fanatasies ever leave the realm of the pg-rated .  in fact , i could imagine the babysitter becoming a cinemax late-night staple if not for the fact that there's absolutely no nudity in it .  so you can't call it a sex flick .  i've already pointed out that it can't fall under drama , comedy , thriller or action , so what do you classify the babysitter as ?  bad .  \n",
      "top-6:1 . he doesn't have a hard-to-decipher accent , 2 . he doesn't always speak in a monotone , and 3 .  his face doesn't always wear the same impassive expression .  in short , the former nfl player turned fox sportscaster turned actor is too good to be bad , but too bad to be good .  unfortunately , the same cannot be said of his first star vehicle , firestorm , which is just plain awful .  one of the most glaring problems with long ( who made his acting debut in john woo's broken arrow ) is that he's so mediocre that he often blends in with the scenery .  as ace firefighter jesse graves , long is supposed to be playing a bigger-than-life action hero -- the kind of he- man who will crash through a flaming door to save a child or parachute into a burning clearing to rescue some stupid campers .  unfortunately , despite the best efforts of first-time director dean semler to photograph long using heroic shots that make kevin costner's work in the postman look stark , jesse turns out to be a pretty boring good guy .  to put it kindly , this is not a well-written motion picture .  firestorm is a collection of howlingly bad lines set against a backdrop of disaster movie clich ? s which , taken together , form something that requires a level of viewer inebriation to be recognized as a plot .  the only reason this film is getting one star ( instead of something lower ) is that most of the fire sequences are realistic , and i was fascinated by the meticulous planning that must have been necessary to stage them effectively .  we're introduced to our big burly hero one afternoon when he and some colleagues jump into the midst of a forest fire to save a group of people .  during this sequence , our big burly hero proves that he's also a sensitive guy by risking his life to save a little girl and her dog ( yes , the dog lives ) from being broiled alive .  flash-forward a year .  now , our big burly hero is taking over as chief of his smokejumpers association , replacing outgoing honcho wynt perkins ( real actor scott glenn ) .  but this day , our big burly hero's first in charge , isn't going to be business-as-usual .  a group of nasty escaped criminals have set a wyoming forest alight to aid their flight to freedom .  led by randy earl shaye ( william forsythe ) , the sadistic creep who must be killed twice to really die , they pose as canadian firefighters who somehow got lost across the border .  along the way , they meet and take hostage the damsel in distress ( suzy amis ) .  eventually , our big burly hero is placed in a position where he has to fight the fire , rescue the damsel in distress , defeat the sadistic creep who must be killed twice to really die , and restore order to the galaxy .  firestorm's director , dean semler , is a former cinematographer ( he won an academy award for his work on dances with wolves ) , so it's no surprise that the film looks good .  unfortunately , that's firestorm's lone asset , and it falters near the end , when computer-generated special effects fill up the screen .  these are of about equal quality to what you might observe on a nintendo 64 video game .  the action sequences , which include a variety of chases , are occasionally interesting , but never invigorating .  everyone , including long , appears to be going through the motions .  there isn't a memorable performance to be found from beginning to end , unless you count the forest fire , which generates some heat .  as the sadistic creep who must be killed twice to really die , william forsythe lacks panache .  he's worse than a generic bad guy ; he's a boring generic bad guy who doesn't have any snappy one-liners to hurl at our big burly hero .  my advice to scott glenn ( absolute power ) and suzy amis ( titanic ) is to accidentally forget this film the next time they're making out a resume .  there's some small comfort in knowing this early in the year that i already have one entry for my bottom 10 list .   ( at least i hope there aren't 10 worse films than this . )  and i know i wasn't the only one who really disliked this movie .  as the audience was filing out of the screening , i loitered in the theater lobby to catch a few comments .  the general consensus seemed to be that , although the movie sucked , the promotional key ring was cool .  the problem is that fox won't be giving out key rings to regular movie-goers , so that nixes any reason to see firestorm .  \n",
      "top-7:one of the responses those that enjoy \" detroit rock city \" ( probably kiss fans , mostly ) might have upon first glance at the rating i've given the film might be something like : \" oh , that casey's gone and become a jaded critic on us .  just what did he expect out of a dumb teenage rock n' roll movie like this ? \"  i'm wondering the same thing .  i feel like i should have had a grand time with \" detroit rock city . \"  it's the sort of movie i wish i could've had a lot of fun with , but i didn't .  i just didn't .  surely this film isn't trying to win any major awards , so should i have expected an oscar-caliber film ?  no , but i expected something .  a funny joke .  a clever prank .  a plot development .  anything .  the movie never delivers .  you've got to marvel at how the filmmakers managed to come up with a movie that is truly about nothing .   \" detroit rock city \" is one of those films that you walk out of after the credits have rolled and realize that you just spent 90 minutes watching a movie in which absolutely nothing happened to justify the film's existence , and it's not a very satisfying realization .  the film is about four teenage boys , all huge kiss fans from cleveland , trying to get into a kiss concert in detroit , michigan .  that's it .  there is no big plot description in this review , because the movie has very little plot .  the characters are hawk ( edward furlong ) , lex ( giuseppe andrews ) , trip ( james debello ) , and jam ( sam huntington ) .  they have a garage band .  they're pathetic , like all garage bands , but they like kiss and they like rock n' roll , so i guess that means we root for them .  they have tickets , they lose them .  they get more tickets , they lose those too .  they come up with crazy schemes to get tickets , most of which backfire .  there's not much more to it .  frankly , it becomes a little less than exciting to see them try to get kiss tickets about halfway through the film , when a total of eight tickets have already graced the boys' hands , only to be lost because of their sheer stupidity .  oh , and jam ( real name jeremiah ) has a really , really annoying ultra-religious mother who ought to be reported to the child welfare agency .  she doesn't want them to see kiss , if you hadn't figured that out already .  it's really quite disheartening to see such a fine soundtrack go to waste in a pointless movie like this .  we've got plenty of kiss , along with some ac/dc , ramones , and thin lizzy .  then again , \" maximum overdrive \" had an awesome soundtrack ( me being the big ac/dc fan that i am ) , but is probably one of the worst movies of all time .   \" detroit rock city \" doesn't quite reach that level of ineptitude , but it gets dangerously close .  in fact , the music is the only thing that keeps this movie from being a complete failure in my mind .  basically , the soundtrack has earned the film a full half-star , which means all the bands involved can pat themselves on the back ( except for marilyn manson , whose half-hearted cover of ac/dc's \" highway to hell \" sounds like something my neighbor's cat coughed up ) .  it's also really sad to see the talents of the cast go to waste , because it' s evident that they're all trying really hard to squeeze some life out of this dead turkey of a movie .  edward furlong has done far better work than this , and so has natasha lyonne , and so has lin shaye , but hey , they've got to make a living in hollywood .  people wanting to see kiss , and lots of it will probably be disappointed , considering the band appears for about five minutes and plays one song .  too bad , they might have provided some energy to this mess .  director adam rifkin knows he hasn't got much material to work with , so he takes a chapter from the michael bay book of directing and keeps his camera spinning .  we get an endless parade of quick-cuts , split-screens , zoom-outs , zoom-ins , and rotating cameras , all in an effort to cover up the sheer stupidity of the script .  it's fun for a while , but eventually it becomes disorienting .  i would recommend that those who felt seasick at \" the blair witch project \" stay far away from \" detroit rock city , \" because the witch has got nothing on this baby .  i haven't felt such an urge to reach out and hold the camera still since \" armageddon . \"  and what about that script ?  it's written by carl j . dupr ? , which sounds like as made-up a name as i've ever heard .  if it is , i can't say i blame the writer for distancing himself as far from this script as possible .  a plotless , pointless rock n' roll movie can be fun , if the jokes and gags are actually funny .  the jokes in \" detroit rock city \" rarely are .  in fact , the only time i really laughed was when a priest gets stoned on a marijuana-laced pizza , and that was just because it was so surreal .  the rest of the movie just seems like they just threw a bunch of vulgar stuff up on screen and called it \" comedy . \"  there is no set-up , just a succession of punchlines that don't provide for much in the way of chuckles , precisely because there was no set-up .  it's as if they just whacked someone on the head , pointed at him and said , \" see ?  funny ! \"  look , that woman was so shocked by hearing loud kiss music that she spilled her drink .  see ?  funny !  look , that guy just got clocked by a telephone receiver .  twice .  see ?  funny !  look , that kid has been vomiting for 20 minutes after drinking an inordinate amount of alcohol and is now about to perform an exotic dance for money .  see ?  funny !  a word of advice to mr . dupr ? : no , these things aren't funny all by themselves .  they must be preceded by a clever set-up so the audience hasn 't predicted them five minutes in advance .  that's it , i've said enough about this movie .  it's a waste of time and money .  i liked the music , but don't bother buying the soundtrack .  i hear it' s just modern bands doing inferior versions of the songs that are actually in the movie .  you want to see this concept executed well ?  go rent roger corman's 1979 classic \" rock n' roll high school . \"  it features another late-seventies rock band ( the ramones ) and a far more interesting story about a girl trying to get tickets to their show .  yes , go rent that , and skip \" detroit rock city , \" which will probably bomb , and deservedly so .  \n",
      "top-8:let me just start this review off by saying i am a huge fan of professional wrestling and have been for fifteen years .  i am not too fond of ted turner's world championship wrestling , however , and i am even less fond of it now after seeing this ridiculous excuse for a wrestling movie tonight .  the plot concerns two losers named gordie boggs ( david arquette , aptly cast as a neandrathal ) and sean dawkins ( scott caan ) who are so obsessed with professional wrestling that they believe everything they see on wcw monday nitro is something more than a flashy show .  when they finally get to see their hero , wcw world champion jimmy king ( played by oliver platt .  i personally would have gotten a wrestler to play king ) , he ends up getting screwed over by evil promoter titus sinclair ( a wasted palitaliano , in a role originally meant for real-life wcw president eric bischoff before he was fired and rehired six months later , and if anyone reads this who knows bischoff , they will agree with me that the role of sinclair had his name written all over it ) , they embark on a quest to find him and help him get his title back .  when they find him , they discover in horror that jimmy king's real life is nothing like it is on wcw tv .  king is a drunken atlanta native rather than an english king .  after convincing king that they don't care that his persona isn't real , gordie and sean sneak him back onto wcw monday nitro , after which sinclair agrees to book him in a main event steel cage match for the wcw title and his job back in las vegas at wcw's pay-per-view .  gee , whiz , there are so many things wrong with this movie , i don't know where to begin .  yes , i do . . .  1 . the characters of gordie and sean show you what eric bischoff , wcw president who thought up this project , thinks of wrestling fans .  he thinks of us as idiots who take everything wrestlers do seriously .  he actually thinks wrestling fans are dumb enough to believe this is meant to be taken seriously .  i got news for you , eric : nobody above the age of four is dumb enough for that , this is 2000 , you know , not 1985 !  i know he'll probably cover arguments up by saying it isn't meant to be taken seriously but it is , because that's how big an ego bischoff has .  2 . there was a documentary made in 1998 , wrestling with shadows , that documented the owner of the world wrestling federation , vince mcmahon's screwing bret \" the hitman \" hart out of the title .  this movie's storyline is basically a comic rip-off of that plot with the poor man's wayne and garth thrown in .  eric bischoff is trying to make vince mcmahon look bad with the character of titus sinclair , but any wrestling fan knows titus is more like bischoff than mcmahon , and that vince did what he had to do to bret hart .  3 .  the movie's main wrestler , jimmy king , has an english king gimmick and the audience cheered big for him .  no wrestling fan actually enjoys characters like that in this day and age , we want bad asses today !  4 . why make this a comedy , instead of an emotional , rocky-style drama ?  i know wrestling isn't a sport , but you can still get behind a guy who struggles as a wrestler and finally makes it in the end .  5 .  in the movie , gordie starts up an ill-fated romance with nitro girl sasha ( the lovely rose mcgowan .  what she sees in that freak marilyn manson i'll never understand ) , only to find that she has hospitalized king's trainer for sinclair .  wouldn't it have been easier to just have them fall in love instead of doing the typical spy-girl-for-the-bad-guy cliche ?  i hate that .  6 .  last , but certainly not least , there was not one single moment in this movie that i could not predict would happen , nor did i laugh once either .  the world wrestling federation should have been the wrestling company to make the movie , for these reasons :  1 . they're the better promotion .  2 . they have better and younger talent , performers and wrestlers .  3 .  they give their fans what they want and don't treat them like idiots .  4 . they're winning the ratings and they're the promotion everybody cares about .  5 . simply put , they could make a movie a hundred times better , and they could do a wrestling movie the right way .  the only good thing about this movie was they played outtakes at the end .  and if i spoiled it for you , good , i saved you from wasting seven dollars .  \n",
      "top-9:reindeer games is easily the worst of the three recent films penned by ehren kruger ( scream 3 and arlington rd are the others , each derivative in their own special way ) .  the guy can't seem to write believable dialogue ( sample from reindeer games : \" rule #1 : never put a car thief behind the wheel \" ) , create multi-faceted characters , or even engineer coherent plots but he sure knows how to pile on numerous nonsensical twists and turns ( no matter if each one deems the actual story increasingly unlikely ) .  his screenplay for reindeer games turns the tables on the audience so many times that watching the film becomes something of a punishment with no reward anywhere in sight .  i can just envision kruger laughing behind his keyboard , \" oh you thought my movie was gonna go here , f * ck you jack ass , take that twist , decipher this mother f * cker ! \"  it's almost as if the writer were angry at us for shelling out money to see his stupid movie .  and why the hell would anyone want to invest time in a movie when the screenwriter keeps changing his own rules for no reason other than to congratulate himself on how damn clever he is ?  auteur theory be damned ; it's kruger's \" style \" , not the director's that winds up on screen .  kruger has obviously never paid much mind to the old chestnut \" sometimes less is more \" .  and his numerous twists can't even claim to be originals ; arlington rd's ending is a direct steal from the much better alan j . pakula thriller the parallax view , and in reindeer games we get this ol' gem ; character incriminates themself by saying something they shouldn't know ( pronouns used to protect the gender of the \" character \" . . . grammar  be damned ) .   \" how did you know that ? \"  the stunned protagonist asks , suddenly realizing that the character was in on the whole thing all along .   .   .  since twist endings are currently so in vogue , and seeing as how kruger's screenplays usually come equipped with about three twists per ending , i guess it's no wonder why he works so frequently .  he's quickly becoming miramax's mickey mouse ; the company has already signed him to work on several of their upcoming projects .  this is appropriate considering that miramax ( which used to place their label on some of the most artistically daring films ) has quickly become a grindhouse for coddling foreign imports ( life is beautiful ) and freddie prinze jr . vehicles .  their company's current logo could be \" we ride the trends \" .  reindeer games stars ben affleck as rudy , a supposedly hardened criminal spending his days and nights behind bars with fantasies of pecan pies dancing atop his head .  although affleck is given some barbed wire tattoos to insinuate bad assness , he plays the role like steve guttenberg preciously mugging through a police academy flick .  affleck is such a puppy dog that it's impossible to believe he could survive in a harsh prison environment without becoming nearly everyone's bitch .  the role itself is so badly written ( the character only grows balls when the plot calls for it ) , the twists so outrageous , and the directing so self consciously gritty that this is about as close to self parody as i can recall a recent \" serious \" movie getting .  it may have been wiser had the film makers simply went all the way in that direction , casting jerry seinfeld as the hardened criminal and howard stern as the sniveling bad guy ( who's played here by gary sinise in yet another over the top villain performance )  james frain is nick , rudy's cellmate , a manslaughterer who's found a pen pal in the gorgeous ashley mason ( charlize theron ) .  ashley is a prison groupie who sends nick many cheesecake photos of her though she's never seen one picture of him .  which works out fine since the character is killed in a near-riot , and rudy ( who was to be paroled on the same day as nick ) takes his place , which leads to a sudden and very frenzied sex scene between ashley and rudy ( so frenzied it kinda looks like rape ) and a surprise visit from ashley's brother , gabriel ( gary sinise ) , who waltzes into their shabby hotel room flanked by his thuggish co-horts .  he plans to rob an indian casino on christmas eve with the assistance of rudy who he thinks is nick who , according to what he wrote in the letters to ashley , used to work as a guard in the indian casino .  though by the end , the film pulls the rug out from under us so frequently that everything i've described might as well be irrelevant .  this is what you can expect should you chose to take this reindeer on ; several scenes in which , after catching his prey , the bad guy proceeds to stall interminably until the good guy has a chance to kill his captor and crack a stupid one-liner .  included : two ( 2 ) scenes of two ( 2 ) different bad guys explaining their motives to the hero when they should be killing him ( one following the other no less ) .  though it's an action film , the ending is more a talkfest where we get the whole movie explained to us by one flustered character actor after another while affleck looks on , incredulous as the audience .  the flick was directed by john frankenheimer , a straightforward action director who lucked into the manchurian candidate early in his career , fell off the a-list following a string of flops and now , in his old age , is slowly climbing his way back up .  it would be a success story if he were choosing better scripts but his last major film was ronin ( one of those almost but not quite movies ) which followed the island of dr . morneau   ( you remember , the one with marlon brando in mime make-up and a not so flattering moo-moo ) , and now this .  he films action sequences with a minimum of quick cutting which i like considering that nowadays action scenes are commonly comprised of millisecond flash cuts strung together and laid out for a brain-zapped mtv audience to pick apart .  problem is these action scenes ( nearly all failed escapes ) serve no purpose in the story other than to further pad out the running time and to remind the audience that their watching an action movie rather than a filmed radio play .  character problems abound ; rudy is made to shift between sweet boy next door earnestness and hard edged wiseacre , the latter of which is not ( at least at this point ) something ben affleck is capable of pulling off .  the former he can do with ease and often the actor coasts on his lackadaisical charm while those around him growl and swear .  but then suddenly affleck starts growling and swearing alongside them like the class clown imitating a tarantino gangster .  charlize theron , an extraordinary talent , is , like affleck , playing whatever part the script requires her to play , whether it be vulnerability at one moment , anger at the next .  she never has a chance to evince any charm or make much of an impression beyond her obvious physical attributes ( frankenheimer has her needlessly pop her top to further italicize this .  gary sinise has played this role frequently , and here , as in snake eyes , he does the snarling bad guy thing with such over the top vitriol ( the guy must be so incredibly bored of stomping through the same paces that going out of control is the only thing that keeps him interested any more ) , that it becomes more of an annoyance ( oh there he goes again ? ? ? ) than a threat .  these are talented people who made the mistake of jumping on to a script with little but stock characters and a bag of tricks that it dully springs on its audience .  \n",
      "top-10:plot : lara croft is british , rich and kicks a lot of ass .  she also likes to raid tombs but when the illuminata discover that all nine planets are about to stand in alignment for the first time in 5000 years , and that lara holds the key to time , well , needless to say , they want to nab it from her .  oh yeah , lara also likes to sport a lot of tight shirts . . . hummana-hummana-hummana . . .  critique : angelina jolie was great in this movie .  there were also about three \" action scenes \" that were pretty cool to look at in this film .  uhhhhhm , unfortunately the rest of the movie sucked !  bad dialogue , generic sidekicks and bad guys , a lame mystery , yoda-esque moments with mumbo-jumbo being sprouted about and even some crappy cgi near the end .  all in all , this movie wasn't the horror show that some of the early reviews had warned us about , especially since every other scene does feature jolie's torpedoes begging to burst out of her lucky shirts , but it was quite the letdown nonetheless , especially when you consider the major opportunity that the filmmakers had here to create a cool , hip woman hero , based on a popular video game .  i don't know , i guess you have to put most of the blame on director simon west , who didn't really tie the whole movie together all that well .  the film lacked energy , a consistent pace and well . . . a  fun time !  i felt kinda depressed while watching this movie .  all that \" father \" crap was horrible and the dialogue given to poor john voight to recite was just plain embarrassing ( and i'm not even gonna mention his moustache . . . hehehe ) .  why have this shite in the movie at all ? ! ?  i especially hated the scenes in which some ghost-like figure , friend or child would ramble on about lara croft's father while all the time , i'm not giving one ounce of crap as to what they're talking about .  i guess that's called lack of \" character development \" , right ?  that's when a movie builds enough background into the characters on the screen , so that we could actually \" get into \" it and care about them .  i didn't care about anyone in this movie , and was bored during most of its \" let's explain why we're doing all this gobbledygook \" moments .  and even though i thought that jolie kicked some mighty ass ( damn , did she look sexy blasting those guns or what ? ! ? ) , everybody else around her was so goddamn boring !  her butler was a throwaway with no personality , her side-kick was supposed to be funny but just annoyed me every time he said the word \" bugger \" ( and he says it a lot , trust me ! ) and all of the so-called bad guys just spewed one-dimension !  they had no spark , no energy amongst them , and even though a few of the action scenes in the movie were cool ( see the trailer and you'll know which ones i'm talking about ) , the overall picture was lame and the dialogue and mystical bull-crap just buried it even further .  also , for a movie that's supposed to be about all of these exotic locations , i wasn't necessarily impressed by any of its exterior shots , and even less so with its interiors , which all looked like they were shot in the same room .  mind you , i won't go as far as to say that it's the \" worst movie of the year \" ( remember that i actually have to go see freddie prinze jr . movies also ! ) , but it's definitely the worst film that i've seen during this summer movie season ( of course , it's still early and i'm sure there are a few more garbage heaps coming down the pike ) .  skip this one altogether and rent any of the indiana jones movies instead . . . trust  me , you'll miss the boobs but end your night with some rock-solid porn and it's all good !  where's joblo coming from ?  raiders of the lost ark ( 10/10 ) - the mummy ( 8/10 ) - lost in space ( 7/10 ) - the mummy returns ( 6/10 ) - the general's daughter ( 3/10 ) - romancing the stone ( 7/10 ) - wild wild west ( 3/10 ) - mission impossible 2 ( 7/10 )  \n"
     ]
    }
   ],
   "source": [
    "# fill in your code...\n",
    "preds_te_count_prob = predict_proba(X_te_count, w_count)\n",
    "inds = np.argsort(preds_te_count_prob,0)\n",
    "print('Top-10 negative:')\n",
    "for i in range(1,11):\n",
    "    print('top-{}:{}'.format(i,X_te_raw[inds[i-1,0]]))"
   ]
  },
  {
   "cell_type": "code",
   "execution_count": 32,
   "metadata": {
    "ExecuteTime": {
     "end_time": "2020-02-15T14:37:08.381103Z",
     "start_time": "2020-02-15T14:37:08.378641Z"
    },
    "colab": {
     "base_uri": "https://localhost:8080/",
     "height": 224
    },
    "colab_type": "code",
    "id": "ESW5JoCY0m3q",
    "outputId": "924e0121-6a1f-4d10-fdb7-abbeff42a160"
   },
   "outputs": [
    {
     "name": "stdout",
     "output_type": "stream",
     "text": [
      "Top-10 positive:\n",
      "top-1:making a sequel to a widely beloved film is a weighty proposition indeed , especially when the first film is considered by many to be a masterpiece .  when it comes to living up to expectations , a filmmaker is almost doomed to some degree of failure .  for a sequel to live up to or even surpass the original's greatness is very rare indeed .  and whereas \" babe : pig in the city \" misses equaling the greatness of its best picture nominated predecessor babe , it is a worthy companion piece .  more than that , it is a spectacular work of art that deserves to stand alone in its own right .   \" babe : pig in the city \" warrants the classification of being recognized with such classics like \" the godfather : part ii \" and \" the empire strikes back \" as being one of the greatest sequels ever produced .   \" babe : pig in the city \" picks up precisely where \" babe \" left off .  having won the sheep herding competition , farmer hoggett ( james cromwell ) and his pig are elevated to fame status .  a series of unfortunate circumstances and hilariously freakish events leads to mrs . hoggett taking babe from the small country farm into the big city .  in doing so , the film transports us into a wonderfully imaginative world that simultaneously mirrors and exceeds the creative design seen in the original .   \" babe : pig in the city \" flourishes where so many sequels fail .  most sequels simply rehash the events of the first film .  not \" babe : pig in the city \" .  this is a completely original tale that offers up a story drastically different than the first .  also , by not being content to utilize most of the old characters , this film gives us many new ones to enjoy .  in essence , it doesn't attempt to copy itself .  instead , it strives to achieve an originality of its own .  and it succeeds .  that's not to say the familiar is absent .   \" babe : pig in the city \" retains some of the best core elements and characters from the first film .  along with babe himself , ferdinand the duck comes along for the ride , as does mrs . hoggett ( one of this decade's best and most underappreciated comic characterizations , hilariously performed by magda szubanski ) .  the three singing mice also make the journey , chiming in with their cute high-pitched vocals .  the story structure is also similar as each segment is introduced with title cards read by the aforementioned mice .  from there , we are guided once again by roscoe lee browne's soothingly deep narrative .  composer nigel westlake also returns with his whimsical music style that is perfect for cinematic fables such as these .  but these elements are simply the frame that surrounds an entirely new painting .  while staying at the flealands hotel , babe encounters a veritable ark-full of new animals .  monkeys , kittens , and dogs of various breeds and sizes are some of the new \" urbanites \" that babe befriends , as well as some wonderfully comical pelicans that ferdinand the duck happens to encounter .  each character is distinctly unique , some of which are imbued with personal human-like struggles that are endearing and touching .  and while this world focuses largely on these animals , we are introduced to two new human characters as well .  mary stein plays the owner of the flealands hotel , an animal-loving young spinster who harbors these lost creatures much to the dismaying anger of her fellow neighbors .  stein's landlady is a wonderfully odd caricature .  we also meet fugly floom , an old soft-spoken clown who owns many of the animals in the flealands hotel , utilizing them as a part of the act that he performs at different parties and functions .  not having known who portrayed fugly floom prior to seeing the film , it came as an unexpected pleasant surprise to see who it was .  so as not to ruin this well-kept secret , i won't reveal the actor's identity here .  it was a treat indeed to see one of cinema's legends grace the screen again in what was a superbly gentle and heartwarming performance .  the greatest triumph of \" babe : pig in the city \" is the art direction .  simply put--it bleeds creativity , taking the look of the original film to a whole new level .  restricted primarily to a farm the first time around , this second installment creates an entire city , dazzling us with unique fable-like architecture .  but the stroke of pure genius by production designer roger ford is his use of our world's architectural landmarks .  designing a skyline that includes the statue of liberty , the sydney opera house , the brooklyn bridge , the hollywood sign and the eiffel tower , ford has created a singular city that encompasses all of our cities ( as seen in the film photo and pre-production drawing to your right ) .  added to that , many of this city's streets are the twin siblings of venice's gondola-trekked rivers .  the metropolis that has sprung from ford's vision is a wondrous sight to behold .  it is a world that you want to walk around in .  norma moriceau's costume designs belong in this world , vibrant in color and style equal to that of the ford's landscape .  most of the costumes are imaginatively cartoonish , with the most exotically grand design going to that of fugly floom's clown outfit .  andrew lesnie's photography captures these elements with various lighting moods that are beautifully effective in creating the film's multiple emotional tones .  much press fodder has been made over the weeks leading up to the release of \" babe : pig in the city \" .  reports stated that its original cut was branded with a pg-13 rating .  these reports were discovered to be false as it was assigned a pg rating .  but even so , to be anything harsher than the original' s g rating had many parents and fans up in arms .  by deleting a minimal number of shots , \" babe : pig in the city \" was eventually given the coveted g rating .  although appeased , many fans were still concerned that it would be too dark , fearing that the film may have come to be possessed by tim burton himself .  well , to coin a phrase , the reports of \" babe : pig in the city \" 's death at the hands of a dark , scary , felliniesque interpretation have been greatly exaggerated .  granted it has its moments of pseudo-morbidity , but all-in-all \" babe : pig in the city \" is the funny and charming adventure that everyone was hoping it would be .  whatever \" dark \" moments it may have can be attributed to director george miller ( the \" mad max \" trilogy , \" the witches of eastwick \" , \" lorenzo's oil \" ) .  having served as a producer and co-writer on the first film , miller moves into the director's chair for this one , putting his own unique sense of style into this budding franchise .  the story of \" babe : pig in the city \" is an enchanting yarn , but one that doesn't achieve the emotional or character depth of the original .  missing here is the attempt to broach such heady themes as personal identity , an individual's worth , challenging conformity , and one's purpose in life .   \" babe \" dealt with this weighty subject matter , creating a timeless fable .   \" babe : pig in the city \" should not have rehashed these themes , but i do wish it would have attempted to explore new ones .  this film is not bereft of moral or message as it parallels such issues as urban strife , class differences , sacrificial courage , and so on .  but this film's goals aren't as lofty as the first's , instead choosing to take a more straightforward approach , allowing its themes to take a back seat to an exciting , sometimes intense , fable adventure that is undeniably clever and inventive .   \" babe : pig in the city \" also decides against developing a relationship to the level of which was present in the first film , specifically the one between farmer hoggett and babe .  hoggett's love for babe , which grew ever so gently , is what gave that film its charming and endearing quality .  best exemplified in hoggett's dance for babe , this moving relationship was truly unique .  it is something that i wish would have been present again ( and could have through fugly floom ) , but was not .  please understand , these are not negative criticisms , per se' , but simply statements of what i see as the differences between \" babe : pig in the city \" being a very good film and the original being a great one .  but having said that , these observations are minor critiques at best .  as an overall piece , \" babe : pig in the city \" is a thoroughly enchanting and entertaining fable from beginning to end .  sure , it isn't a great film , but it is an excellent one that possesses elements of greatness .  it is a film that is magical with its charm and humor , exciting in its adventurous exploits , funny with its dry wit and cute voices , and breathtaking in its presentation .   \" babe : pig in the city \" may not be moviemaking at its absolute best , but it is on level of cinematic quality that is rarely achieved or seen in cinema .  as a result , if you choose to let this film pass you by , you will be missing of the year's best cinematic treats .  \n",
      "top-2:as i write the review for the new hanks/ryan romantic comedy you've got mail , i am acutely aware that i am typing it on a computer and sending it a billion miles away on the internet .  i am also aware that i have just spent the last 2 hours watching the world's biggest paid commercial for america online .  and i wonder : is that so bad ?  well , the commercial part is .  as for the movie , well , as long as i can watch tom hanks and meg ryan , i think i'll be okay .  to paraphrase james berardinelli , whose reviews i admire very much , tom hanks and meg ryan can act .  they are both wonderful , but for all of hanks' glorious work in serious films , such as his magnificent performance in saving private ryan , and his glorious triumph in philadelphia , i like him best when he's suitably obnoxious .  tom hanks is wonderful when he is obnoxious in a romantic comedy when he's going to get the girl : the only question is how ?  meg ryan , america's high school sweetheart , can act .  she's had a handful of memorable performances , including the great scene in the diner in when harry met sally ( i must not mention what she does , due to the , well , um , you get the idea , and if you don't , get the movie-- fantastic ) .  but , i like her best when she's , well , perky .  she is so adorably perky/cute that together with hanks , they are the most amazing onscreen duo in my short lifetime .  some people have them going back to really old classic romantic couples , but i don't really know .  all i know is that i just like them both .  they have such wonderfully kinetic chemistry that's really hard to resist , and i'm not going to even try .  they're just really , really cute , sweet , and charming .  hanks and ryan collaborate once again with nora ephron , who directed them in the megahit sleepless in seattle .  here , the setup is a little different .  kathleen kelly ( ryan ) owns a small children's bookstore which her mother founded 42 years ago and passed down to her .  she is successful , beautiful , and dates a well-known columnist with very radical idea ( kinnear ) .  she is also having an affair , of sorts .  you see , kathleen , with the handle shopgirl , is secretly emailing ny152 .  they have a strictly un-detailed relationship : there are no specifics , and they have no idea who each other is .  ny152 happens to be joe fox ( hanks ) , a multimillionaire bookseller who is the heir to the fortune of the fox chain of mega-bookstores , run by his father ( coleman ) .  fox books has decided to open a store on the west side , right across from a little children's bookseller named \" shop around the corner \" , run by a perky girl named kathleen kelly .  every morning , these two email each other silly , and every day , they fight \" to the death ! ! \" .  it's a charming premise , and one that works nicely , balancing the immense troubles kathleen is in with the romance she wants to have .  it also has the great sense of being a classic romance : there is no \" let's have sex tonight \" mantra , if you'll excuse my bluntness .  this is a solid romance built around that vague concept of love .  hmm . well , the movie goes through twists and turns , having some sad moments and happy ones , until at one moment tom hanks and meg ryan \" hook up \" , to use modern terminology , and kiss their way into happiness .  you know it's going to happen , the question is now ?  thankfully , ephron has a wonderful supporting cast with posey , kinnear , chappelle , and a host of others , including a great scene involving brothers , aunts , and two sweet kids .  it's all cute and wonderful , and for all of the idealism , it makes me feel good .  hanks is as obnoxious as ever on the outside and as warm on the inside as he always is .  he is , i believe , america's greatest actor .  does he show it here ?  nah .  but he's still tom hanks , and she's still meg ryan .  which is what this movie boils down to .  it's pure confection .  all the bits about the godfather , the jokes , the superb script , it's all really sweet .  there are some immense flaws , like pacing .  the last third of the movie really doesn't work as well as i would have liked , and for a romantic comedy , it's slow .  once hanks knows the secret , it gets really slow .  i even looked at my watch a couple times , to make sure ephron was going to deliver the big onscreen kiss i was waiting for , so that i could get home at a reasonable hour .  the other problem is that this movie is shaping up to be really dated .  e-mail ?  when my kids are my age , i don't know what we'll be using .  but hanks can do more with one eyeroll than anybody , and meg ryan just loves to dive into a pillow better than anyone in movie history .  they just work together , and it's nice to see .  it gives you , well , a smile .  the script helps with some great lines that are absolutely hilarious , and that always come at the exact right time to keep the audience awake .  i was arguing with my father on the drive back home on what the purpose of movies was .  i've always believed that movies are very powerful , very powerful indeed .  you see , mankind has three abilities he needs to survive : the ability to think , entertain , and procreate .  movies can definitely do the first two , and as for the third , well , i'd rather not think about that .  i always thought films that made you think enlightened you and made you see something from another viewpoint , and that films that entertained you were good , because you forgot about your troubles and thought about something nice for a night .  and i was thinking about how incredible a year tom hanks has had .  hanks was the driving force behind one of the year's best films in saving private ryan , which is one of those thinking films that truly made someone wonder about the world .  he's also half of the glue behind the year's best example of pure entertainment .  tom hanks and meg ryan are magical , as is this movie .  it's a sweet , lovely affair with a technology twist .  it may be a long commercial , but it gave me a pretty big smile on my face .  \n",
      "top-3:ladies and gentlemen , 1997's independence day is here !  it's title : starship troopers .  and surprisingly , it is more entertaining than id4 .  i realize that i gave last year's sci-fi hit a 4 star rating , but i was under the spell of the powerful first hour .  after subsequent viewings , i feel that independence day really wasn't as great as it seemed--though i still give it a positive review .  starship troopers , on the other hand , has a mocking sense of humor , knowing perfectly well how ridiculous it may seem .  as a result , starship troopers is a more exciting , energetic , and lively science fiction film .  in fact , i probably could never get tired of watching this film .  starship troopers is very reminiscient of star wars , another kick-ass space opera which reinvented the sci-fi drama altogether .  while starship troopers is no star wars , it comes quite close , and the easiest assessment would be to call this film : \" the 'star wars' of the 90s . \"  am i being to generous to this film ?  perhaps , but when a science fiction film comes along that can mix humor and romance , effectively , into the warring races .  in essence , this is the science fiction equivolence of pulp fiction .  the easiest way to write a review of this film would be to compare it to other science fiction films , and i may have to .  starship troopers is not quite an original film persay , but director paul verhoeven gives the film a \" kick-the-aliens'-asses \" style .  id4 had this same style , except it was forced , most likely the cause of will smith having a major role .  this new \" star wars \" has a very simple , basic plot : mankind vs . an alien species .  the alien species in question here is the bugs , a seemingly advanced civilization of arachnid-type insects .  however , the underlying morals of starship troopers are fleshed out with deadly accuracy .  sometimes the morals are buried by the bloody violence and intense action scenes , but during quiet moments , we realize that starship troopers has something to tell us about our civilization .  more than likely , these morals will be overpowered and quickly forgotten by the time the movie ends .  and they should be .  i doubt verhoeven intended this film to be a thought-provoking film .  this is an \" event \" film , but surprisingly above average .  it is extremely refreshing to watch a sci-fi war film , and actually root for the human side ( something independence day never achieved ) .  starship troopers begins with a satirical portrayal of those strange \" join the army \" ads .  mixing a web-based interface , these summations of events are refreshingly original .  stating , \" would you like to know more ? \" ,  these short news bulletins give the film an immediate sense of humor , and we know we should not take it seriously .  however , we also witness the murder of several troopers in battle , in a gory , yet funny , way .  after witnessing the slaughter , the film jumps back one year , to setup what we just saw .  we are introduced to johnny rico ( casper van dien ) and carmen ibanez ( denise richards ) .  rico flirts with carmen by sending her messages over computer terminals in school classrooms .  however , carmen isn't as interested in rico as she is in becoming a pilot .  however , another classmate , dizzy flores ( dina meyer ) , has her eye on rico .  unfortunately , rico isn't interested in dizzy .  this setup is rather cliched , as is the result of the setup , but it still is fun to watch .  carmen signs up to become a starship trooper , and as a result , rico signs up .  and as a result , dizzy signs up .  everyone is assigned a certain position in the academy : carmen gets the pilot position she wanted , carl jenkins ( neil patrick harris ) , a psychic , gets a position in the training program , and rico is left in the lowest class of the starship troopers : the mobile infantry .  the main story follows rico through his trials and relationships .  in reality , i found myself watching a space version of \" melrose place , \" but with better special effects .  an hour into the film , the war begins .  a sense of tension grew in the audience i watched this film with .  the first hour may have been a funny ( sometimes unintentionally ) setup , but we grew to care for the flat characters , because no matter how hard i tried not to like the characters , their gorgeous looks won me over ( call me superficial , if you must ) .  following the training sessions , which had many dramas in themselves ( too many to mention here ) , the troopers are sent to war .  the bugs live on the planet klendathu , a planet which consists of dirt and rock , and pretty much nothing else .  many dramas occur during the war , until finally the troopers realize that their is something behind the bugs' attacks .  a sort of intelligence which masterminds the defense .  the troopers are ordered to locate the \" brain \" and capture it .  i hopefully left the plot as vague as possible , because starship troopers is not about plot .  it's about special effects and gory violence .  director verhoeven , most known for his nudie film showgirls and basic instinct , returns to his sci-fi days , which gave us good films like total recall .  verhoeven likes to push the envelope of the mpaa , but despite all the violence , the comic book feel gives the film a sense of falsehood .  starship troopers is extremely violent , with more gore than this year's event horizon .  the r rating is well deserved , and hopefully parents will not allow their 12 year old children to see it .  my guess is that verhoeven's target audience is the 18 to 25 male group .  the film has a testosterone level off the charts , with chiseled men and beautiful women .  despite these superficial elements , starship troopers also creates a world which made star wars so successful .  while watching the film , we never second guess the character's decisions because they seem perfectly clear .  thankfully , no hero is punching aliens in the face , which gives the flat characters some depth for which we can identify with .  the cast of starship troopers is quite annoying to begin with , but they soon grow on you .  casper van dien has the chiseled facial features and tan skin which will make most girls swoon .  to most guys , he will come across as artificial .  fortunately , van dien is the worst of the cast , despite how hard he tries to come off as a real character .  dina meyer does a much better job of fleshing out her character .  her dizzy is extremely likeable .  denise richards also does a good job , and her scenes are very well done .  jake busey , gary busey's son , gives a wonderfully funny performance , and provides one of the biggest laughs of the film .  neil patrick harris ( remember , he was doogie howser ) is a little wooden , and slightly out of place with the rest of the cast .  however , he does give a good performance .  michael ironside gives the best performance of the film as the teacher with one arm .  his performance rises above the rest .  perhaps it is because his character is the most developed , but i think it is just ironside's presence on screen .  unfortunately , no particular cast member gives a star-making performance , which is too bad because the material here could have made many of the cast members stars .  director verhoeven is the main star of the film .  his direction is fast and unrelentless .  he never slows down his pace , which makes for a wild ride .  writer edward neumeier adapted the screenplay from the book by robert heinlein .  the writing is usually very funny , and sometimes very corny .  the dialogue is smart but not too smart .  we aren't required to know everything , but some plot holes are left unanswered .  thankfully we are not intended to notice , and we really don't ( except for one which lingered in my mind for quite a while ) .  amazingly , with all the wars and romance going on , the screenplay manages to include some surprising governmental issues .  in fact , these governmental changes seem fairly plausible , and this adds another layer to the story .  the moral debate of the characters is quite surprising to find in a film of this genre , but what is even more surprising is the amount of humor included into all the carnage .  i haven't laughed this loud , even in some comedies .  oh , and the special effects are first rate .  starship troopers is rated r for graphic sci-fi violence and gore , and for some language and nudity .  believe me when i say this : don't take young kids to see this film .  it is extremely violent .  in fact , it is probably the most violent film out this year .  however , if you are old enough ( over 17 ) to see it , starship troopers is guaranteed to entertain .  it's been a long time since i have cheered for the heros , while also cheering for the bad guys .  and still , it is my dream to see a sci-fi film in which the alien race destroys mankind , and take over the world .  now that would be entertaining !  \n",
      "top-4:the most common ( and in many cases the only ) complaint against francis ford coppola's 1972 masterpiece the godfather is glamorising of mafia , which is presented as an institution guided by ancient tradition and virtues like honour , loyalty and solidarity more suitable for some gentler , kinder ages .  martin scorsese , another italoamerican moviemaker , confronted that perspective with his own , more down-to-earth vision of mafia in 1973 mean streets , movie that dealt with lower echelons of organised crime .  unfortunately for scorsese , his film was unspectacular and too artsy to compete with coppola's influence on mafia portrayals in the movies .  seventeen years later scorsese returned to mean streets of new york with another film that dealt with darker side of american organised crime .  this film was goodfellas , epic black comedy which is today considered as one of the best and most influential films of 1990s .  goodfellas owes some of its initial success and popularity to the fact that it was based on the true story , told in best-seller book wiseguy by nicholas pileggi ( who would co-write the screenplay for the film ) .  the book , as well as the film , chronicled thirty years in the life of henry hill ( played by ray liotta ) , irish-italian criminal from new york .  at the age of 13 he gets recruited in the criminal organisation of paulie cicero ( played by paul sorvino ) , local mob boss , and gradually climbs up the ladder starting with small errands .  after couple of years , together with his best childhood friend tommy de vito ( played by joe pesci ) , he joins the crew of expert thieves led by jimmy conway ( played by robert de niro ) .  three of them spend years as best friends and associates , gathering enormous wealth from their criminal enterprises that would culminate with one of the most spectacular robberies in american history .  wealth , influence and privileges of men connected with mafia are enough for henry hill to seduce his future wife karen ( played by lorraine bracco ) , who would afterwards remain loyal to her husband despite infidelities , domestic abuse , arrests and would even be accomplice to his own private drug dealing business .  but the perfect world of \" wiseguys \" gradually begins to fall apart - tommy's unpredictable outbursts of homicidal violence , jimmy's reluctance to share his part of the loot with partners and , finally , henry's own drug habit would lead to his downfall and make him question his loyalty to the friends .  goodfellas is an excellent example of a film that represents work of a film genius in his full glory .  scorsese managed to create a vision which is effective and complete despite being full of contradictions that would ripped the film apart in the hands of less talented filmmaker .  world depicted in this film is both ordinary and fascinating .  scorsese spares no effort to show us all the violence , hypocrisy and inherent paranoia of organised crime , yet it manages to make it both seductive and funny .  after being exposed to two and half hours of the film and three decades of criminal history ( based on some notorious real life events ) , the audience understands why the characters chose such dangerous life paths , trading the superficial and short-lasting glamour and prosperity of a criminal to the dullness and poverty of honest citizens .  scorsese also manages to break viewer's moralistic inhibitions by showing truly revolting material - scenes that depict personal tragedies , broken homes , human depravity , violence , bloodshed and murder - in all their uncompromising reality , but in a manner that would make it amusing and funny to the audience .  with the use of ironic soundtrack , manipulative shots , character's dialogue or narrator's commentary , goodfellas represents the new standards of black humour that would became very popular few years later during tarantino era .  even if we don't pay attention to skills with which potentially disturbing material becomes eye pleasing and entertaining , we should admit that scorsese displays his talents of truly original and creative filmmaker .  first , we might notice unusual structure of the plot - relatively minor subplot is used as movie's ironic prologue .  then , instead of single narrator , scorsese switches to the second character as narrator in the middle of the film only to switch back to the original shortly afterwards .  this multiple points of views , both in terms of narration and various subjective shots , only lengthens the ironic distance towards characters and their situation .  same ironic distance comes with extremely effective choice of soundtrack .  nostalgia for good old times is illustrated with easy-listening 1950s pop songs , while depression , paranoia and bad times find their expression in more neurotic rock songs of late 1960s and 1970s .  but the soundtrack is most effective when it is used as ironic comment - almost pastoral , easy listening tunes make strong and very ironic contrast to the scenes of violence and bloodshed .  however , thing most associated with this film is couple of continuos shots that feature characters moving through large rooms and interacting with dozens if not hundreds of people .  such scenes , although they require very great skill and patience during their shootings , became very popular among other directors in 1990s .  fragmentary character of the screenplay , which doesn't have straight plot and instead bases film on series of loosely connected vignettes , gives another interesting opportunity for scorsese .  he uses this structure of film to experiment , and most successful of such experiments is hilarious \" a day in life \" segment near the end of the film .  another essential element of goodfellas is large but superb collection of great acting talents .  the most respectable among them is robert de niro , but his character , who happen to be most quiet and business-like member of criminal trio , gets overshadowed by two of his friends and colleagues .  joe pesci deserved his \" oscar \" for supporting role of homicidal psychopath tommy , and his lines , including ad-libs , probably represent the most memorable element of the film .  ray liotta , although equally talented , perhaps doesn't look as the best choice for narrator and nominal hero of the film .  liotta's henry hill looks somewhat too hollywoodised and glamorous among this bunch of low-level street thugs .  liotta , on the other hand , improves general impression by very realistic and menacing portrayal of drug addiction .  lorraine bracco is , on the other hand , very effective and believable as karen hill , wife who gradually descends into same moral cesspool as her husband .  paul sorvino is also very effective as patriarch mafioso , and among the supporting cast most memorable is chuck low as pestering small-time gangster who unknowingly digs his own grave .  as a combination of clever sociological study , black humour and innovative filmmaking goodfellas became something only the truly great films could do - work of art and excellent popular entertainment in the same time .  because of this achievement , and also because of the great influence on future filmmakers , this cinematic gem deserves its rightful place among the best films of 1990s .  \n",
      "top-5:in the wake of the smashing success of \" rumble in the bronx , \" it's looking more and more likely that more jackie chan films will see american release .  rumor has it that one of these films will be drunken master ii .  the version i have is a copy from the laserdisc ; it's widescreen and bilingually-subtitled , as are most hong kong films these days .  availability over here in the united states is very limited ; these films must either be purchased via pirates or sought out from asian distributors such as tai seng .  the subtitling on the copy i have is slightly hard to read ; the letters are white and a bit small .  although the american release will almost certainly be dubbed , this review is of the subtitled version , so please keep that in mind if you're reading this review to help you decide whether to go out and see it .  to be fair , i must admit that i've never been very fond of \" period-piece \" martial arts movies--the ones set in some nebulous china of the distant or not so distant past .  perhaps it's because most of those i've seen were filmed on inferior stock , with either butchered dubbing or all-but-illegible subtitling , or perhaps it's because their plots all tend to be very similar to each other and , in many cases , all but nonexistant .  in fact , many of them get so wrapped up in their subplots that they seem to forget their main plot entirely until only a few minutes before the end .  or , for that matter , it might be because the jackie chan films with more modern settings ( armour of god , rumble in the bronx , etc . ) tend to have more spectacular stunts , often involving large motor vehicles and large explosions , whereas period pieces simply have the martial arts .  having said that , i must now turn right around and say that drunken master ii is a remarkable exception to all or most of the above , is one of the better martial arts films i've seen , and i quite enjoyed it .  surprised ?  well , so was i .  drunken master ii is about a young man named wong fei-hong ( played by jackie chan ) who is a master of the drunken boxing style of kung fu .  where he learned this style is uncertain , as his father , wong kei-ying ( ti lung ) is steadfast in his opposition to fei-hong's practicing it rather than some more normal style of kung fu .  apparently , fei-hong is some sort of figure from chinese folklore , rather like paul bunyan is for americans , but i've heard very little about this , and could quite well be wrong , so i'll leave analysis of that to the people who know it better .  one of my friends points out that the character of wong fei-hong is also featured in the \" once upon a time in china \" movies , but i have not yet seen those .  the plot of drunken master ii is somewhat hazy , as are the plots to many such films , but if you're watching a jackie chan film , odds are you aren't expecting something on the order of \" war and peace \" .  the story seems to revolve around those evil foreigners who are spiriting away ancient chinese relics ( and hence , china's cultural heritage ) while overworking , underpaying , and beating up chinese workers in a nearby steel mill .  however , this plot merely serves as a framework for the other main story of the film--fei-hong's perpetual struggle to win his girlfriend , supplicate his father , keep his ( pregnant ) mother ( played by anita mui ) from fighting , and keep from getting beaten up by evil foreigner thugs .  the macguffin that drives the plot ( s ) is a precious antique jade imperial seal which is being taken away by the evil foreigners .  in the beginning , fei-hong accidentally steals it while trying to recover an identically-wrapped box containing the medicinal ginseng his father was bringing back for a customer .  in the process , he clashes with another thief , who is himself trying for the seal but ends up instead with the ginseng .  after fei-hong narrowly avoids getting caught with the seal by the evil foreigners' lackies , thanks to some timely intervention by a general's son ( a cameo appearance by andy lau , who would later take on the starring role in drunken master iii ! ) , comedic chaos ensues back at the wong household when fei-hong and his mother attempt to come up with a replacement for the missing ginseng .  and so it goes .  and the plot thickens later on , such as when fei-hong's girlfriend maneuvers him into a kung fu match with a rival , or when fei-hong and the thief , now revealed to be a loyalist manchu officer trying to recover the seal and stop the evil foreigners , are attacked en masse ( another grand kung-fu movie tradition ) , but i think i've already spent more time on the plot than it really deserves .  let's move on to the real draw of jackie chan movies . . . the  action .  there's plenty of martial arts action to be found in this movie . . . of  course , in a kung fu film , that's to be expected .  however , this isn't just another kung fu movie ; this one has jackie chan doing the fight and stunt choreography , and jackie chan is a genius .  the primary martial arts \" style \" featured in the film is drunken boxing , a form of kung fu which attempts to draw the adversary off his guard by making it seem like the fellow using it is drunk .  further , for the purposes of this film at least , drunken boxers fight better when they actually _are_ intoxicated . . . but  there's a fine line between just drunk enough and drunk into a stupor .  under normal circumstances , the idea of someone staggering around looking sloshed but managing to fight effectively and even incredibly might seem rather stupid , but jackie pulls it off with flair .  the kung fu sequences are so intricate in their staging and execution that it is pointless to try to describe it on paper , so i'll just say that the fights--especially the big climactic fight at the end--in themselves make the movie worth watching .  another thing drunken master ii has going for it is the stunt work .  even without motor vehicles ( well , not counting a train ) , there are some remarkable stunts in this film .  among other things , jackie dives off a balcony into a table and crawls across hot coals ( not once , but at _least_ twice , if you count the outtake shown during the credits ) .   ( quicktime movies of these stunts can be found through the www movie database . )  unlike in american films , these stunts are _not_ faked .  drunken master ii stars several veteran actors of the hong kong movie scene , including jackie , ti lung ( \" a better tomorrow \" 1 & 2 ) , and anita mui ( the \" heroic trio \" series , \" rumble in the bronx \" ) .  the performances are first-rate , especially when it comes to the comedy parts of the film .  the scene where fei-hong and his mother conspire literally behind fei-hong's father's back to cover up for the missing ginseng root is hilarious , as is the scene where fei-hong's mother , having just revealed that she is pregnant , is threatening to hurt herself ( in order to draw her husband's anger away from fei-hong ) .  jackie has developed his knack for physical comedy into a sort of mastery over the years , and he's in fine form all through drunken master ii .  as far as cinematography is concerned , it certainly works for this film .  it's nothing spectacular , but is at least a dozen times better than all those old kung fu movies of the 70s .  the picture is crisp and clear .  one thing i find particularly worthy of mention is that , at least in the copy i have , the screen was wider than any film i've ever seen on videotape before--almost a whole 1/3 of the screen was blocked out above and below .   ( watch this on a bigscreen tv or movie theater if you can . )  it will be an utter shame if this film is eventually pan-and-scanned for american video release .  drunken master ii shows the full potential of \" period piece \" kung fu movies , and it's good enough to overcome even my usual distaste for such movies .  the plot does meander a bit , but that's to be expected in this type of film .  if you like this kind of movie , you'll love this movie , and if not , well , give it a chance anyway .  if nothing else , the martial arts and stunt sequences are by themselves worth the price of admission or rental .  \n",
      "top-6:seen september 5 , 1998 at 10 p . m . at the sony nickelodeon theaters ( boston , ma ) , theater #2 , with matt perreault for free using my sony/loews critic's pass .  [theater rating : * * 1/2 : okay seats , sound , and picture]  modern society is now inundated with more sex and sexuality than it ever has been before , from teenage sitcoms to nc-17-rated films about fetishes .  the biggest debate of the subject is whether or not it affects reality or just reflects it .   \" your friends and neighbors \" takes a different approach as it's a film that revolves almost entirely around sex and how can be used for both pain and pleasure even within a small circle of friends .  one of the most important aspects of the film that most be noted and analyzed before the film can really be dissected as a whole is writer/director neil labute's basic setup and some of the unique methods he employs to tell the story .  firstly , and most importantly is the fact the script tells a rather complex , detailed story of lust , betrayal , arrogance , hypocrisy , greed , and just plain stupidity between six different characters ( three men , three women ) , without hardly any supporting characters , ( a few have a line or two ) , mostly extras .  everything they do will somehow affect another character and ultimately come full-circle back to themselves , whether it be positive or negative .  but to just state this is arbitrary , and explaining and criticizing the process is difficult .  labute's ability to tell his story through a few characters is a remarkable feat , but what's specifically impressive is the fact the characters' names are never revealed until the end credits roll .  for the sake of this review , i will describe the characters and refer to them as their main characteristic .  another interesting accomplishment is the fact every scene takes place inside with limited focus .  we're always able to tell where the characters are ( someone's home , the gym , a restaurant , hotel room , etc . ) , but what the city they live in , what year it is , what the society is like , etc . is relatively unknown .  the film is a complete character study with the tight , intense drama of the theater .  no one plot dominates the story , which makes the first act a bit tedious for its lack of background .  we're simply dropped in on the characters' lives and are expected to figure out the rest .  the characters are a group of middle-class white people who are all successful at what they do , but they're only concern right now seems to be their sex lives .  first there's barry ( eckhart ) and mary ( brenneman ) , a married couple who are going through a dry spell not unlike many other couples in other situations who don't know what they're problem is .  barry is kind of a dorky businessman who loves his wife , and the sex they have , but doesn't have a lot of ambition - he just follows everyone else .  mary is a writer of some sort , but lacks aggression and emotion like her husband and is the meekness character , but ironically , doesn't hesitate to commit adultery just to feel something .  labute's script does a good job in characterizing mary and barry as individuals , but is very light on chemistry and connection between the two .  obviously , this is the theme , which is enhanced by the actors' good performances , but at the same time seems just a bit hollow .  another couple is jerry ( stiller ) and terri ( keener ) who live together and seem to have been involved with each other for a long time , yet they constantly argue over anything and everything .  their sex life is also fraught with problems and for some reason they continue to do it throughout their infidelitous relationship .  if only one aspect of the film could use improvement , it would be this area .  it's natural for a married couple to become bored with each other , but why would two people who can barely stand each other continue to have sex and live together ?  what did they ever see in the other person to begin with ?  labute never really answers , but since the film is more concerned with the payoff than the process , it still makes for good drama , tension , and manip ulation so intricate and deceitful it's fascinating .  two other characters act as catalysts , cary ( jason patric ) and cheri ( natassja kinski ) .  cary is an arrogant , hostile sex-maniac who defines the word \" bastard . \"  somehow he is able to bend women to his will , either through charm or just attitude , into getting his way .  he's the kind of guy everyone should stay away from as we realize he's secretly perverted , but somehow barry finds comfort in his company , although jerry is always nervous around him .  patric gives an outstanding performance , so much so that we want to know more about him despite how intimidating and unlikable he is .  cheri is a character labute uses as a catalyst to see how the other characters react to her .  she works in an art museum and at some point throughout the film , each character will engage her in almost the exact same conversation and her reaction is always different , from becoming involved in a relationship with one , to brushing it off as small talk with another , to being outright appalled by yet another .  she's a sweet woman , perhaps the most normal of any of the characters , and although her symbolism is obvious , her role as the outsider is the most relatable .  i will not reveal who cheats on who and how each character is specifically affected by the others' action , as that's the hook of the film .  the first two acts begin to set up the characters and each's scenarios , but it's often difficult to tell what they will do about it and with whom .  the result is sometimes surprising , other times predictable , but the actual course of actions is always fascinating .  for a while everyone has their fun , but ultimately each character's guilt , attitude , or ignorance will disserve them .  one of the most important things to note is how realistic the story is supposed to be .  since the characters only interact with each other there isn't much pop culture references , as almost everything has a deeper philosophy behind it .  are we to assume that these people are , as the title states , our friends and neighbors ?  i don't know of anyone going through the same situations as these people .  often times the film is not unlike a network melodrama , other times situations are like those not seen outside a porno movie .  but what this film does have that the others don't is repercussions in the end .  although the film creates its own reality , it goes to show that even the immoral aren't immortal .  in what way \" your friends and neighbors \" is supposed to work is open to interpretation .  it definitely has a lot to say about the price that comes with infidelity , but it could have been even better had it expanded on that theme more specifically .  still , it's an accomplishment in film-making because it has put a timeless theme into a modern perspective .  \n",
      "top-7:note : some may consider portions of the following text to be spoilers .  be forewarned .  during the three years since the release of the groundbreaking success pulp fiction , the cinematic output from its creator , quentin tarantino , has been surprisingly low .  oh , he's been busy -- doing the talk show circuit , taking small roles in various films , overseeing the production of his screenplay from dusk till dawn , making cameo appearances on television shows , providing a vignette for the ill-fated anthology four rooms -- everything , it seems , except direct another feature-length film .  it's been the long intermission between projects as well as the dizzying peak which pulp fiction reached which has made mr . tarantino's new feature film , jackie brown , one of the most anticipated films of the year , and his third feature film cements his reputation as the single most important new american filmmaker to emerge from the 1990s .  things aren't going well for jackie brown ( pam grier ) .  she's 44 years old , stuck at a dead-end job ( \" $16 , 000 a year , plus retirement benefits that aren't worth a damn \" ) as a flight attendant for the worst airline in north america -- and she's just been caught at the airport by atf agent ray nicolette ( portrayed with terrific childlike enthusiasm by michael keaton ) and police officer mark dargus ( michael bowen ) smuggling $50 000 from mexico for gun-runner ordell robbie ( samuel l . jackson ) , who has her bailed out by unassuming bail bondsman max cherry ( robert forster ) .  the loquacious ordell , based out of a hermosa beach house where his horny , bong-hitting surfer girl melanie ( bridget fonda ) and agreeable crony louis gara ( robert de niro ) hang out , operates under the policy that the best rat is a dead rat , and he's soon out to silence jackie brown .  meanwhile , the authorities' target is ordell , and they want jackie to help them by arranging a sting to the tune of a half-million dollars .  only through a series of clever twists , turns , and double-crosses will jackie be able to gain the upper hand on both of her nemeses .  although jackie brown marks mr . tarantino's first produced screenplay adaptation ( based on the elmore leonard novel \" rum punch \" ) , there's no mistaking his distinctive fingerprints all over this film .  while he's adhered closely to the source material in a narrative sense , the setting has been relocated to los angeles and the lead character's now black .  in terms of ambiance , the film harkens back to the 1970s , from the wall-to-wall funk and soul music drowning the soundtrack to the nondescript look of the sets -- even the opening title credit sequence has the echo of vintage 1970s productions .  the opening sequence featuring ms . grier wordlessly striding through the lax , funky music blaring away on the speakers , is emblematic of films of that era .  the timeframe for the film is in fact 1995 , but the atmosphere of jackie brown is decidedly retro .  of course , nothing in the film screams 1970s more than the casting of pam grier and robert forster as the two leads , and although the caper intrigue is fun to watch as the plot twists , backstabbing , and deceptions deliciously unfold , the strength of jackie brown is the quiet , understated relationship developed between jackie and max ; when they kiss , it's perhaps the most tender scene of the year .  tenderness ? in a quentin tarantino film ?  sure , there've been moments of sweetness in his prior films -- the affectionate exchanges between the bruce willis and maria de madeiros characters in pulp fiction and the unflagging dedication shared by the characters of tim roth and amanda plummer , or even in reservoir dogs , where a deep , unspoken bond develops between the harvey keitel and tim roth characters -- but for the most part , mr . tarantino's films are typified by manic energy , unexpected outbursts of violence , and clever , often wordy , banter .  these staples of his work are all present in jackie brown , but what's new here is a different facet of his storytelling -- a willingness to imbue the film with a poignant emotional undercurrent , and a patience to draw out several scenes with great deliberation .  this effective demonstration of range prohibits the pigeonholing of mr . tarantino as simply a helmer of slick , hip crime dramas with fast-talking lowlifes , and heralds him as a bonafide multifaceted talent ; he's the real deal .  this new aspect of mr . tarantino's storytelling is probably best embodied in a single character -- that of the world-weary , sensitive , and exceedingly-professional max cherry , whose unspoken attraction to jackie is touching .  mr . forster's nuanced , understated performance is the best in the film ; he creates an amiable character of such poignancy that when he gazes at jackie , we smile along with him .  much press has been given about the casting of blaxploitation-era icon pam grier in the lead , with the wags buzzing that mr . tarantino may do for her what his pulp fiction did to bolster john travolta's then-sagging career .  as it turns out , ms . grier is solid in the film's title role , although nothing here forces her to test her range .  i do have to take exception to the claim that this film marks her career resurrection , though -- she's been working steadily over the years , often in direct-to-video action flicks , but also in such recent theatrical releases as tim burton's mars attacks !  and larry cohen's original gangstas ( where she first teamed up with mr . forster . )  of course , it's true that her role here was a godsend -- a meaty a part as this is rarity for * any * actress , let alone one of her age and current status in the industry .  while jackie brown may disappoint those looking for another pulp fiction clone , it marks tremendous growth of mr . tarantino as a director whose horizons are rapidly expanding , and whose characterizations have never been better .  and while the film's narrative doesn't really warrant a running time of 155 minutes , it's filled with such sumptuous riches , ranging from the brashness of the vivid soundtrack to entertaining , inconsequential conversations between the characters , that there wasn't an unengaging moment .  with an impressive trio of feature films under his belt , it'll be interesting to see what he tries next .  \n",
      "top-8:what's shocking about \" carlito's way \" is how good it is .  having gotten a bit of a bad rap for not being a big box office hit like pacino's previous film , \" scent of a woman , \" and not having as strong a performance as he did in that one ( he had just won an oscar ) , \" carlito's way \" was destined for underrated heaven .  that's what it is : an underrated gem of a movie .  and what a shame because pacino and de palma both do amazing jobs with it , and turn it into a great piece of a pulpy character study .   \" carlito's way \" deals with , well , carlito brigante ( pacino ) , a puerto rican ex-drug kingpin , who gets out of a long jailterm when his coke-addicted , curly-haired lawyer ( sean penn ) points out a legal technicality .  of course , carlito was actually awoken in prison , and has decided to go straight , even if he's really a crook at heart .  carlito , like barry lyndon , is a man who is trapped by fate at every turn , and can't escape into something he is not .  carlito's attempts at a clean , legal life are thwarted at nearly every turn .  when he first gets out , a friend of his ends up leading him into a big shoot-out , where he has to kill a couple people to survive .  he's constantly getting bugged by the government to see if he's doing anything illegal , and his lawyer finds himself neck-deep in a pile of shit , needing him to try and help him out , which includes him doing some prison breaking .  carlito , like ratso rizzo , wants to go to miami ( since , according to film logic , that's where it's at ) , but needs some funding .  being a legend , he is quickly able to get a nice job running a big dance club ( this is the 70s , by the way , and since some of this takes place in night clubs , we get to hear all sorts of 70s classics , including several k . c .  and the sunshine band tunes - my personal favorite ) .  he gets a bodyguard ( the great luis guzman , at his best ) , and is soon running a pretty good business , even if he's constantly attracting underworld young thugs , like benny blanco \" from the bronx \" ( john leguiziamo ) , who is more than once pointed out to be a young version of carlito .  on the other side , the symbol of promise and hope , is gail ( penelope ann miller - what happened to her ? ) , his girlfriend from before prison .  she's a goregeous ballerina , and a stripper , and soon carlito is trying to get back with her , and take her with him when he finally leaves for miami .  while this relationship is never fully defined or anything , we get a sense of love between them , and they have some truly interesting scenes between them ( she never gives him addresses or locales - he always has to track her down ) .  all of these elements clash together at the end , in a brilliantly executed , emotional climax , which is inevitable .  when i say inevitable , i mean we see it at the beginning and then backtrack , putting a great spin on it .  sure , it's going to eleveate some of the tension , but it gives the film a lot of depth , as carlito is seen trapped by fate .  what's amazing is the big chase sequence ( amazingly done by de palma ) has a lot of tension and thrills .  like \" apollo 13 , \" we know what's going to happen , but we're still thrilled by what happens in the middle .  it's also very emotional , thanks to a great script by david koepp , and amazing performances by pacino and miller .  de palma is famous ( or infamous ) for lots of violence in his films .  his earlier flim , \" scarface \" ( which starred pacino in the lead ) , has a ton of it , especially at the end ( and a nasty chainsaw scene towards the beginning which i'm still not over ) .  but de palma actually reigns in more quieter scenes .  to me , the best scene in the film is when carlito is on top of a building , looking down into the room where gail is doing ballet .  this is the most brilliantly done , and most emotionally stimulating scene in the entire film , and probably the best in de palma film history .  with a gorgeous soprano duet in the background , and rain pouring down onto a trashcan lid covering carlito's head , and a saddened , remorseful look on pacino's face , it's a tear-jerker ( well , for me , i dunno about you . . . ) .  the acting from all is great , especially from the three leads .  pacino was panned for his performance , chiefly because his accent wasn't puerto rican enough and , well , it wasn't as \" strong \" as his oscar-winning role in \" scent of a woman . \"  well , his \" scent of a woman \" performance was great and all , but it was nothing really but , as comic kevin pollack said , a \" foghorn leghorn impression . \"  in \" carlito's way , \" he's emotional , and strong , despite the fact that he's remorseful over his entire lifestyle , which he cannot change .  i felt more for carlito brigante than i did for the tango-dancing , insult-throwing blind guy in \" scent of a woman . \"  as i said , penelope ann miller is great , and she and pacino actually have very good chemistry .  and they're scenes are well-written , with some good clever dialogue which adds some interest to an otherwise bland relationship .  and sean penn is amazing as the coke-addicted rat attorney .  every scene he's in , he has great energy , and even measures up to the greatness that is pacino .  in smaller roles , john leguiziamo and luis guzman are great .   \" carlito's way \" is one of those films which you heard about briefly , but when you finally watch it , you're absolutely blown away .  it's a wonderful film , a highly underrated little masterpiece which was shelved after it didn't do so hot .  but trust me and check it out .  it's a great little film , and proof that the residential critics and mass populus are not always right .  \n",
      "top-9: * * * * * * minor plot spoilers in review * * * * * * * * * * * * no major spoilers are in review * * * * * *  the previous two \" alien \" films have each had their own unique styles to them .  the ridley scott's alien was very much a stylistic suspense film .  james cameron's aliens was much more of an action film .  and i liked each film separately for which it was .  now alien 3 is out .  and it is it's own film in the same right that alien and aliens were .  unlike aliens , alien 3 requires that you have seen aliens .  this is very important as the story picks up exactly were aliens left off .  the survivors of the expedition to lv-426 are returning home after battling and beating the aliens .  the climactic fight scene between ripley and the mother alien on the sulaco in aliens left behind one item , an egg .  in the opening sequence we see the egg hatch , find its quarry , which leads to a fire aboard the sulaco when the facehugger is injured , an leads the sulaco to jettison the hypersleep tubes in an escape vessel .  this vessel crash lands on fury 109 .  everyone in the vessel is killed , except ripley .  the facehugger is jettisoned with them and survives the crash .  fury 109 is an ex-mining/maximum security prison .  when closed down , some of the lifer prisoners decided to stay and live out the remaining years on the planet .  all the prisoners are men who have not seen a woman in many years .  ripley's arrival sparks a problem with the inmates .  as for the new haircut that ripley and the prisoner's sport , there is an infestation of lice on the planet .  being an ex-prison means that there is no way off the planet and no weapons .  so the prisoners and ripley are off to face the alien on their own .  i will not go into detail , but you can guess what happens here .  the alien is loose and no one believes ripley's outstanding story .  she finds comfort in the arms of the colony's doctor .  yes , after 57 years ripley has sex .  it is not gratuitous , in fact , we don't even see them kiss , but it is just as well .  a sweaty sex scene would not have worked in the context of the film .  there is a lot more gore in alien 3 .  in fact i would guess to say that there is more in alien 3 than either of the earlier two .  it also sports a new alien with 4 legs !  i won't say how , but it leads us to believe a few new things about the alien and its cycle , which i am sure will be explored in alien 4 .  sigourney weaver is back as ripley and provides another excellent performance of this character .  her scene during the autopsy of newt is enough to garnish her another academy nomination .  the rest of the cast is also quite good .  notably , charles dance as the doctor with whom ripley finds momentary escape from fury 109 .  alien 3 has a very distinct look .  this is due largely to its director , david fincher .  mr . fincher , who until now has only directed music videos and commercials , has done an incredible job here .  his direction is excellent and makes this film come to life in ways no \" alien \" film has before .  for mr . fincher , i see a long prosperous career ahead of him .  the music was also done by a newcomer to the film industry .  elliot goldenthal has created a deeply moving score which lends itself to the claustrophobic setting that the \" alien \" series been set in .  this time the score is not so much a rip off of star trek ii ( james horner's aliens ) .  this score has a choral back up at times and even lends itself to the old style of ennio morricone scoring .  this is a great score .  the ending to alien 3 is quite good .  there were times i thought that hollywood would come in and screw it up , but it played very nicely .  i will not ruin the ending for you .  go see the film .  i consider it to be a much more involved film than any of the other films released so far this season .  alien 3 is a worthy successor to aliens and alien .  and when they make alien 4 , perhaps they will be able to find yet another new direction to take it in .  \n",
      "top-10:a frequent error is the categorization of a terrorist as a soldier or a common criminal .  a soldier commits acts of violence sanctioned by one nation-state against another .  a common criminal commits acts of violence for personal gain .  a terrorist employs random violence as a means to a political end .  if the target nation does not affect the desired change in policy , the violence continues .  it is the fear resulting from the fact that the terrorist may strike at anyone ( even total innocents ) , anywhere , at anytime that gives the figure his label .  edward zwick's the siege explores the possibility of this kind of violence taking place right here in the united states .  you'd think the opening bit was ripped right from the headlines .  arab terrorists kill american citizens abroad , and the u . s . responds by retaliating against the sheik whom supposedly ordered the attack .  however , unlike the real-life tomahawk cruise missile strike against bin laden's camp and manufacturing facility , the film version depicts special operations troops kidnapping sheik ahmed bin talal .  in retaliation , the terrorists bring the fight to the new world .  unwittingly involved is fbi assistant special agent-in-charge anthony hubbard ( denzel washington ) , who works out of the bureau's new york office at one federal plaza .  while investigating a series of bombings in the big apple , he encounters cia agent elise kraft ( annette bening ) , also trying to uncover information .  generally , the fbi is charged with problems inside the u . s . , while the cia takes care of problems in the international realm .  even spies from other countries are off limits to the cia as long as they are in our country .  hubbard therefore finds it highly unusual that an agency spook is nosing around what he considers his territory , but as the two form a tentative professional relationship , hubbard becomes more and more aware of an increasingly complicated series of allegiances and possibly illegal actions involving terrorism and the united states government .  the original tagline for patriot games was , \" there has never been a terrorist attack on american soil . \"  however true , it was pulled before the movie's release because it sounded too much like a dare .  revisiting the scenario of foreign terrorists committing acts of violence in the united states , the siege is almost an invitation in itself , because it shows just what kind of turmoil could be produced if an effective terrorist network were to set up operations here in america .  admittedly , the terror wrought upon new york is a bit excessive ( who's going to believe that a few bombs are going to cause new yorkers to jump at the backfire of a bus or to curtail their shopping by two-thirds ? ) , but the basic premise is still valid .  i liked the fact that this film rises above the basic action-thriller fare of good guy g-men against bad guy terrorists by exploring some of the effects on society and law and order .  it provides a very possible hypothesis that violent activity on the part of a few arabs would escalate into a series of hate crimes against the arab-american population , and that in an effort to find the terrorists , the civil liberties of the minority may be violated by the government itself .  in fact , about halfway through the film , when the president authorizes the declaration of martial law within new york city , the liberties of all americans are put at risk .  although it may actually be a side effect of a terrorist campaign , the demise of social order in america is a scary thought and a goal which would not be beneath many international terrorist groups .  throughout , the film maintains a conflict between hubbard , who wants to use the fbi to pursue the terrorists within the letter of the law , and general devereaux ( bruce willis ) , who is in command of the army and of the mind that the greater good would be better served by suspending the law and pursuing the terrorists more forcefully .  what results is a fascinating debate over the appropriateness and constitutionality of the declaration of martial law and the invocation of the war powers act , utilizing philosophy and historical examples to make points on both sides .  it actually gets rather heady at times , but it's a credit to screenwriters zwick , lawrence wright , and menno meyjes that they don't underestimate the intelligence of the audience .  i don't know if it's his tone or inflection or something else , but denzel washington has a way of spitting out dialog that makes whatever he says sound great .  this , combined with his innate acting ability and his experience in playing the mid-level authority figure , makes his performance in the siege convincing and enjoyable .  annette bening gives one of the more assertive portrayals of a female character i've seen recently , and the chemistry she shares with washington is palpable .  it's somewhat unfortunate that her character's fortitude is broken at a certain point , but it allows us to watch bening play a little more range .  bruce willis is pretty much relegated to a tough-guy role , always standing straight , and with a permanent scowl fixed upon his face .  however , the tension that exists between devereaux and hubbard is a major drive behind the film's development .  notable is tony shalhoub who plays fbi agent frank haddad , a lebanese immigrant .  the role calls for evidencing both a kind of filial pride for his heritage , and contempt for those of his own race who might interfere with his integration into the american society .  difficult to say the least , shalhoub does it with a naturalness you can almost reach out and touch .  perhaps best known for his role as antonio the cab driver in the nbc sitcom \" wings , \" shalhoub gained notoriety for his dramatic abilities in the wonderful film big night .  whereas denzel washington seems to be edward zwick's favorite actor ( he directed washington in glory and courage under fire ) , james horner seems to be his favorite composer .  i therefore found it odd that zwick chose the prolific score-writer graeme revell ( seven films this year already ) over horner for the siege until i realized that this film contained a lot of arabian-themed music , and horner's record has shown more of a propensity for scores either neutral in ethnicity or irish-sounding at most .  revell does a good job at providing appropriate music to punctuate key scenes and allowing the score to enhance the movie as a whole .  it's nowhere near as intrusive as in some of the other films we've been getting throughout the year .  missteps in the siege can be found in a couple of the excesses it takes .  for example , it's pretty clear throughout that the film is meant to be more of thriller than an action flick .  unfortunately , there's a scene where the army just cuts loose against some arab immigrants in a blatant display of firepower and explosions , obviously meant for the sole purpose of being eye-catching .  in the middle of the city ( and against no real opposition ) , zwick even has the army use a cobra attack helicopter to shoot rockets into a building no farther than 50 feet from friendly troops .  verisimilitude really goes out the window at that point .  the film also gets a little preachy toward the end , focusing on the ability of different races to get along .  a noble gesture , the film just puts the message across a bit too obviously .  these flaws are glaring , but they don't detract too much from an otherwise good film that makes you think about issues you may not have considered since history class .  \n"
     ]
    }
   ],
   "source": [
    "# fill in your code...\n",
    "print('Top-10 positive:')\n",
    "for i in range(1,11):\n",
    "    print('top-{}:{}'.format(i,X_te_raw[inds[-i,0]]))"
   ]
  },
  {
   "cell_type": "markdown",
   "metadata": {
    "colab_type": "text",
    "id": "Ol7OG-fF0m3v"
   },
   "source": [
    "If we were to apply the classifier we've learned into a different domain such laptop reviews or restaurant reviews, do you think these features would generalise well? Can you propose what features the classifier could pick up as important in the new domain?"
   ]
  },
  {
   "cell_type": "markdown",
   "metadata": {
    "colab_type": "text",
    "id": "-CLbPAFU0m3w"
   },
   "source": [
    "I don't think there will be too good results in the new field, because the data set used to train our model is mainly about movies, and in the new field involves some new proper nouns, which have never appeared before, So the effect will not be very good. For example, in the field of computer evaluation, classifiers mainly value the evaluation of computer speed and hardware."
   ]
  },
  {
   "cell_type": "markdown",
   "metadata": {
    "colab_type": "text",
    "id": "5SmhLQ4I0m3y"
   },
   "source": [
    "## Train and Evaluate Logistic Regression with TF.IDF vectors\n",
    "\n",
    "Follow the same steps as above (i.e. evaluating count n-gram representations).\n"
   ]
  },
  {
   "cell_type": "code",
   "execution_count": 33,
   "metadata": {
    "ExecuteTime": {
     "end_time": "2020-02-15T14:17:54.414637Z",
     "start_time": "2020-02-15T14:17:51.625934Z"
    },
    "colab": {
     "base_uri": "https://localhost:8080/",
     "height": 408
    },
    "colab_type": "code",
    "id": "jAnuZ0wN0m3z",
    "outputId": "670d27e6-b8f6-4377-ab44-831acb53fd44",
    "scrolled": true
   },
   "outputs": [
    {
     "name": "stdout",
     "output_type": "stream",
     "text": [
      "Epoch: 0| Training loss: 0.4311116623869949| Validation loss: 0.5476592852579341\n",
      "Epoch: 1| Training loss: 0.3350507345986611| Validation loss: 0.4950069983128951\n",
      "Epoch: 2| Training loss: 0.27954942499340896| Validation loss: 0.4652736765437834\n",
      "Epoch: 3| Training loss: 0.24257323985973345| Validation loss: 0.4467986158077739\n",
      "Epoch: 4| Training loss: 0.21481171476235458| Validation loss: 0.43188818431161674\n",
      "Epoch: 5| Training loss: 0.1937961519064968| Validation loss: 0.4218181672150967\n",
      "Epoch: 6| Training loss: 0.17708712476808636| Validation loss: 0.4137824050633017\n",
      "Epoch: 7| Training loss: 0.16335108081438776| Validation loss: 0.4074606660735222\n",
      "Epoch: 8| Training loss: 0.15202072887001378| Validation loss: 0.4024668381039634\n",
      "Epoch: 9| Training loss: 0.14230856075268866| Validation loss: 0.3983732494591026\n",
      "Epoch: 10| Training loss: 0.13405024656262346| Validation loss: 0.3951322433129436\n",
      "Epoch: 11| Training loss: 0.12691974104134532| Validation loss: 0.3923327578926149\n",
      "Epoch: 12| Training loss: 0.12064890506462217| Validation loss: 0.3900621748746765\n",
      "Epoch: 13| Training loss: 0.11522149642594265| Validation loss: 0.3884995864709172\n",
      "Epoch: 14| Training loss: 0.11023389366711103| Validation loss: 0.3869282821022641\n",
      "Epoch: 15| Training loss: 0.10585412535362171| Validation loss: 0.3857297313745377\n",
      "Epoch: 16| Training loss: 0.10197064508369363| Validation loss: 0.3848673874757485\n",
      "Epoch: 17| Training loss: 0.09839435949484188| Validation loss: 0.384132275275862\n",
      "Epoch: 18| Training loss: 0.09520949770077132| Validation loss: 0.3835915261663016\n",
      "Epoch: 19| Training loss: 0.09227513831810064| Validation loss: 0.38302024426474485\n",
      "Epoch: 20| Training loss: 0.08963105282130929| Validation loss: 0.38278322706459506\n",
      "Epoch: 21| Training loss: 0.08718955703484879| Validation loss: 0.3825137732724704\n",
      "Epoch: 22| Training loss: 0.08495655698034055| Validation loss: 0.3823328622650253\n",
      "Epoch: 23| Training loss: 0.08290178115527101| Validation loss: 0.382313846294276\n"
     ]
    }
   ],
   "source": [
    "w_tfidf, trl, devl = SGD(X_tr_tfidf, Y_tr, \n",
    "                         X_dev=X_dev_tfidf, \n",
    "                         Y_dev=Y_dev, \n",
    "                         lr=0.001, \n",
    "                         alpha=0.001, \n",
    "                         epochs=50)"
   ]
  },
  {
   "cell_type": "markdown",
   "metadata": {
    "colab_type": "text",
    "id": "A4lexRvI0m4D"
   },
   "source": [
    "Now plot the training and validation history per epoch. Does your model underfit, overfit or is it about right? Explain why."
   ]
  },
  {
   "cell_type": "code",
   "execution_count": 34,
   "metadata": {
    "ExecuteTime": {
     "end_time": "2020-02-15T14:17:54.517668Z",
     "start_time": "2020-02-15T14:17:54.417118Z"
    },
    "colab": {
     "base_uri": "https://localhost:8080/",
     "height": 296
    },
    "colab_type": "code",
    "id": "8PZaO8eU0m4E",
    "outputId": "862c4b5e-4c44-4e00-f0e4-d679db40a2b0"
   },
   "outputs": [
    {
     "data": {
      "text/plain": [
       "Text(0, 0.5, 'Loss')"
      ]
     },
     "execution_count": 34,
     "metadata": {},
     "output_type": "execute_result"
    },
    {
     "data": {
      "image/png": "[encoded data removed]",
      "text/plain": [
       "<Figure size 432x288 with 1 Axes>"
      ]
     },
     "metadata": {
      "needs_background": "light"
     },
     "output_type": "display_data"
    }
   ],
   "source": [
    "# fill in your code...\n",
    "plt.plot(range(len(trl)), trl, 'b-', label='training loss')\n",
    "plt.plot(range(len(devl)), devl, label = 'validation loss', color='coral')\n",
    "plt.legend()\n",
    "plt.xlabel('Epochs')\n",
    "plt.ylabel('Loss')"
   ]
  },
  {
   "cell_type": "markdown",
   "metadata": {
    "colab_type": "text",
    "id": "8_Lpu8wj0m4J"
   },
   "source": [
    "Compute accuracy, precision, recall and F1-scores:"
   ]
  },
  {
   "cell_type": "code",
   "execution_count": 35,
   "metadata": {
    "ExecuteTime": {
     "end_time": "2020-02-15T14:37:56.489814Z",
     "start_time": "2020-02-15T14:37:56.487014Z"
    },
    "colab": {
     "base_uri": "https://localhost:8080/",
     "height": 85
    },
    "colab_type": "code",
    "id": "HPWqsoHb0m4J",
    "outputId": "8fd798af-1fa8-4415-dfb4-a9239aab878c"
   },
   "outputs": [
    {
     "name": "stdout",
     "output_type": "stream",
     "text": [
      "Accuracy: 0.8725\n",
      "Precision: 0.8599033816425121\n",
      "Recall: 0.89\n",
      "F1-Score: 0.8746928746928748\n"
     ]
    }
   ],
   "source": [
    "# fill in your code...\n",
    "preds_te = predict_class(X_te_tfidf, w_tfidf)\n",
    "print('Accuracy:', accuracy_score(Y_te,preds_te))\n",
    "print('Precision:', precision_score(Y_te,preds_te))\n",
    "print('Recall:', recall_score(Y_te,preds_te))\n",
    "print('F1-Score:', f1_score(Y_te,preds_te))"
   ]
  },
  {
   "cell_type": "markdown",
   "metadata": {
    "colab_type": "text",
    "id": "3uaLCRHc0m4P"
   },
   "source": [
    "Print top-10 most positive and negative words:"
   ]
  },
  {
   "cell_type": "code",
   "execution_count": 36,
   "metadata": {
    "ExecuteTime": {
     "end_time": "2020-02-15T14:38:17.845485Z",
     "start_time": "2020-02-15T14:38:17.842557Z"
    },
    "colab": {
     "base_uri": "https://localhost:8080/",
     "height": 224
    },
    "colab_type": "code",
    "id": "_CLUJCgo0m4Q",
    "outputId": "a5b0a6cf-23c7-46b4-c306-52fef36c9370"
   },
   "outputs": [
    {
     "name": "stdout",
     "output_type": "stream",
     "text": [
      "Top-10 negative:\n",
      "top-1:note : some may consider portions of the following text to be spoilers .  be forewarned .   \" quick , robin !  the anti-shark repellant ! \"  - adam west in the 1966 batman feature film , casually kicking at a pathetic-looking rubber shark attached to his leg  i had never thought that an entry in the modern incarnation of the batman feature film would approach this level of campiness , but in many instances batman and robin nears , and at some point even exceeds this standard .  this is a disasterously bad film , easily the worst in the series to date , and fairly epitomizes a cinematic definition of the word excessive - it's loud , garish , and obnoxious , with pointless , gratuitous action sequences and set pieces which clutter up the screen with elaborate production design to the point of overkill .  batman and robin features the caped crusaders ( george clooney debuting as batman , with chris o'donnell returing as robin ) squaring off against another bevy of chemically-induced villains - the nefarious ice-cold mr . freeze ( arnold schwarzenegger ) , armed with a weapon which freezes everything in its sights , and the slinky poison ivy ( uma thurman ) , who has the ability to blow powerful love dust into the faces of men in order so that they will fall helplessly in love with her ( not that the dust is really necessary to accomplish this result , but whatever ) , and then dispatch them with a poisoned kiss .  by ivy's side is the giant steroid monster bane ( jeep swanson ) , a grunting hulk of a beast .  the villains' goals are noble ones - freeze steals diamonds to power his climate suit ( in order to keep his body temperature at zero degrees ) , so that he can survive in order to devise a cure for his beloved wife ( vendela ) , dying of a degenerative disease and frozen in suspended animation , and ivy's intent is to restore the dominance of plant life on earth , albeit by destroying all human life .  meanwhile , on the homefront , life at wayne manor is thrown into upheaval by the illness of butler alfred pennyworth ( michael gough ) , and the arrival of his niece barbara ( alicia silverstone ) .  akiva goldsman's screenplay for the film is ridiculous and laughably bad , with astonishingly terrible dialogue , lame jokes , and an awful by-the-number plot which simply coasts along and fails to generate any genuine excitement .  it makes goldsman's screenplay of batman forever , which i thought was dreadful , look positively inspired in comparison .  i am still astonished that a cheesy plot device which i'd seen used in - no joke - an episode of gilligan's island somehow make its way into a multimillion dollar blockbuster production .  joel schumacher's direction of batman and robin is horrific , with a terrible balance of flashiness over substance .  there is a clear conceit towards neon in this film , even moreso than with his previous batman forever , with the revamped batcave helpfully sporting gigantic glowing emblems for the dynamic duo ( just in case , i suppose , if they ever happen to forget that the batcave is the headquarters of batman and robin ) , and with neon prominently figuring in an utterly-pointless fight sequence with bane and a street gang over ivy's chosen new abode .  another action sequence which fails to serve any useful point other than to chew up five minutes of screentime involves an incredibly uninvolving late-night motorcycle race with barbara and some gotham goons .  mr . schumacher's focus for batman and robin appears to be to make the film as visually striking as possible , to the detriment of the story - there are drastic shifts in the tone of the film between all-out camp and heartfelt drama , with the latter completely unconvincing and ineffective .  it is perhaps not the most promising of signs when the group i was with burst out laughing within twenty seconds of the film's opening , even before a single line of dialogue had been uttered .  is batman and robin supposed to be campy ?  i think it is - it's hard to imagine that the filmmakers could have intended many parts of the film to be taken at all seriously .   ( one of my favourites was when bane helpfully grunted \" bomb ! \"  each time he laid down an explosive device in the gotham observatory . )  is it supposed to be as overly campy as it turned out to be ?  i somehow doubt it - the subplot involving afred is delivered so solemnly and with such graveness that the impression is made that the film isn't attempting to be the utter farce which it is .  arnold schwarzenegger is top-billed in the film as the villainous mr . freeze , and is bland and uninteresting , perhaps the worst thing that a villain can be .  mr . schwarzenegger's attempts to be menacing are laughable , and his attempts at conveying pathos are laughable ; frankly , everything he does onscreen is laughable .  by the end of the film , i was stifling a chuckle every time he simply appeared onscreen .  the bulk of his performance consists of uttering near-unintelligble puns and one-liners featuring every possible permutation of \" cool ! \"  in the least inventive way .  george clooney has been given very little to do in batman and robin , being overshadowed by the villains , and consequently he looks rather uncomfortable in the film .  his batman is hardly an imposing figure .  chris o'donnell is unimpressive in a one-note performance , while alicia silverstone lackadasically fails to make any impression at all .  the film's one saving grace ?  undoubtably uma thurman's entertaining performance as sexy villainess poison ivy .  her work in batman and robin is certainly over-the-top , but in a controlled fashion which works splendidly within the tone of the film .  ms . thurman's comic timing is impeccable , and reminds us that it takes skilled performers to make campiness work successfully .   ( i'm already starting to positively reassess jim carrey's performance in batman forever . )  her amusing poison ivy is the most entertaining character in the film , and when she's offscreen the film greatly suffers .  i figure that if one has to die , being kissed to death by uma thurman isn't a half-bad way to go .  while batman and robin was hardly a ride of pulse-pounding excitement , i must admit that i was not bored watching it , although i did glance at my watch repeatedly through the screening - my attention was kept through anticipation of the utterance of yet another terrible pun or one-liner , and by awaiting yet another scene to fall flat .  it's been a long time since i've laughed so much at a movie .   \" at \" , of course , is the operative word .  \n",
      "top-2:synopsis : valerie , a high school junior who doesn't look a day under 22 , writes bad poetry , complains about how much she hates school , fantasizes about a young guy on trial for raping and murdering six women , chooses him as a pen pal , and plays hooky to see him in court .  after a jailbreak , the killer puts on big sunglasses , wears a half-buttoned jacket , and uses his fatal charm to go after valerie .  comments : \" alan smithee \" directed fatal charm , which should have been more appropriately titled \" fatal bore \" or \" fatal crap \" .  if you find out that a film you're about to see is directed by \" alan smithee , \" then you should seriously , seriously , seriously consider watching something , anything , else .   \" alan smithee \" is a pseudonym which a number of directors have used when they produce something really bad .  frankly , i'd be embarrassed if i had directed this turkey , so i think i understand why the director might have picked the \" alan smithee \" moniker for this film .  where to begin with this painfully poor thriller ?  let's start with the acting .  it's pretty bad .  amanda peterson plays valerie and shows at least some talent ( the rest of the cast don't ) , even though her performance isn't exactly stellar material .  she's also miscast ; she seems way too old to still have a year of high school to complete .  her scenes with valerie's mother , played by mary frann , are a joke .  the two look as though they're a couple of coworkers going out to lunch together , rather than a daughter with her mother who just doesn't understand .  christopher atkins , a handsome enough actor who plays the killer , adam , looks like a clown in the second half of fatal charm .  trying to appear malicious and dangerous , he wears large sunglasses and a half-buttoned jacket .  if disney decided to do a zany comedy caper about the unabomber , atkins would probably be a perfect candidate for the lead , but he doesn't cut it here .  early on in the movie , a number of scenes occurs in a courtroom .  outside of the laughably poor performances given by the actors portraying lawyers , the people sitting in the benches provide the silliest effort at drama in the film .  they constantly shift and turn and arc their heads in mock interest in what has got to be one of the worst perfomances that a large group of people have given at one time ever .  fatal charm's storyline , such as it is , inspires more yawns than thrills .  the script belabors a red herring , early on , about a second suspect who may have committed the murders for which adam ( atkins ) is charged with .  this suspect , however , turns up strangled and drowned halfway through the film : an obvious plot fault .  even for the idiots who didn't consider the movie's title as valerie and a blond newsreporter commented how innocent and charming the defendant seemed , it becomes quite obvious that adam is dangerous when the other suspect washes up .  so , the audience must wait ( if they haven't already stopped watching ) as the necessary details fall into place and the killer goes after the heroine in the drawn-out finale .  the video box for this dud describes fatal charm as an \" erotic thriller \" .  a thriller it isn't , and neither is it particularly erotic .  i can't imagine , if someone were in the mood for something \" erotic , \" that he'd be happy after watching this fluff .  a few erotic moments occur in the film ; they take place in a van with little lighting and are filmed out of focus ( see , they're supposed to be valerie's fantasies -- how creative ) .  on a personal note , i was disturbed by the ludicrous english literature class shown in this film which valerie had to suffer through .  it's no wonder why she hated high school so much .  as an instructor of english myself , i have a hard time accepting the fact that in a course emphasizing great literature , a teacher would stoop to reading a student's bad poetry ( of course , it's valerie's ) about boyfriends out loud and then embarassing its author in front of class with questions about the poem's inspiration .  i guess the public school system is still setting dubious standards for its students .  fatal charm won't charm anyone , unless there's someone that's charmed by boring , lifeless , insipid , suspenseless thrillers .  if you happen upon this turkey , just keep moving on .  \n",
      "top-3: \" battlefield earth \" is the best comedy of the year .  it has to be .  the other prospect is just too horrifying to consider .  bad movie syndrome struck me again , so after witnessing how much \" battlefield earth \" has been proclaimed a train wreck in both critical and popular circles , i felt the masochistic urge to see the disaster first-hand .  is it as bad as advertised ?  oh yes , very much so .  the plot is incomprehensible .  the acting is atrocious .  the special effects are mediocre .  the action is dull .  the implausibilities are legion .  the dialogue is cringe-inducing .  the whole package is funny when it wants to be serious and irritating when it wants to be funny .  i don't even want to continue reviewing this movie ; i'd like to purge the atrocity from my mind as soon as possible , but you probably want to read my thrashing in all its sarcastic glory , so here it is :  the premise is basically a rip-off of \" planet of the apes , \" only minus the apes and philosophical discussion , and plus a race of evil aliens from the planet psychlo .  the year is 3000 , the psychlos have conquered earth , and the human population has been enslaved .  only a handful of humans escaped to radiation-rich areas to escape the aliens ; they live out their lives in fear .  one man , johnny goodboy ( i know , i know ) tyler ( barry pepper ) , ventures to the outworld and is captured by the psychlos .  there he confronts the psychlo head of security : a big , ugly , klingon-looking creature called terl ( john travolta ) .  pressed into slavery , johnny vows to lead a revolution and take the planet back .  meanwhile , terl is faced with his own problems : he has recently learned that he's stuck living on earth ( which he hates ) for the rest of his career because he pissed off his boss by sleeping with the big man's daughter .  he decides to give johnny knowledge of the psychlo language and technology ( this is where the plot gets ridiculous .   .   . )  so the \" man-animal \" can lead a mining expedition into places the psychlos can't go .  terl then plans to keep the mined gold for himself .  of course , his plan doesn't work .  so many things wrong with this movie -- where to begin ?  how about with travolta , whose hollywood clout brought about this , the cinematic version of scientology guru l . ron hubbard's sci-fi novel ?  early previews for \" battlefield earth , \" with constant shots of a makeup-laden travolta cackling like lex luthor , had me ( and several audience members ) remarking , \" what the hell is travolta thinking ? \"  the movie did nothing to stem such remarks .  all that ridiculous cackling he did in the trailers is in full force here : terl cackles after nearly every line , and so does every other psychlo .  of course , this makes every scene hilariously overwrought , no more so than when the script clumsily stumbles into political commentary .  the psychlos are probably supposed to be some kind of satire of corporate america , but ceos generally don't laugh maniacally after denying pay raises to their employees .   ( \" you were going to be promoted -- but now you're not !  fwahahahahahahahaha ! ! ! ! ! \" )  it's no big surprise terl loses to the humans -- he's an idiot .  he breaks every kind of supervillain rule in the book .  he underestimates his enemies , assuming he'll win just because he's smarter .   ( he uses the word \" leverage \" like some sort of scientologist mantra . )  not content to go the james bond villain route of explaining his plans to the hero , he hooks him up to a machine that gives him knowledge of all the psychlos' language and technology .   ( why this machine is even around in the first place is beyond me . )  he then appears shocked that johnny points a gun at him .  no wonder this guy never got his promotion .  the plot inconsistencies are too numerous to mention .  why do the psychlos build an earth base in which both they and the human slaves must wear little breathing apparatuses to survive ?  how come the psychlos are wasting their time mining for gold when the doors of fort knox are wide open ?  how in the world did all those fighter jets survive sitting in a hangar for 1 , 000 years ?  and how do all these previously brain-dead cavemen learn to fly them so quickly ?  there's a whole lot more to scratch one's head about in \" battlefield earth . \"  bring a scorecard to track the plot holes .  director roger christian shoots \" battlefield earth \" in the most distracting way possible , tilting nearly every shot sideways for no discernible reason .  all the characters appear to be standing on the walls , and it's awfully difficult to watch a movie when you must tilt your head just to watch ordinary passages of dialogue .  the action sequences are atrociously edited , every one turned into an endless slow-motion parade that drains all potential excitement .  are these things really so hard to construct ?  my respect for supposed \" lightweight \" action directors has grown by leaps and bounds after witnessing in \" battlefield earth \" how badly an action sequence can be shot .  this movie is an absolute headache .  it's not just the shot selection and editing ; the movie , quite frankly , makes no sense .  for most of \" battlefield earth's \" running time , i just didn't know what was happening .  it didn't have anything to do with me finding the events stupid or illogical ( though they certainly are ) -- i really had no idea what the hell was going on .  when i pieced the plot together later , it didn't look any better .  here's how much of a disaster this is : \" battlefield earth \" is already the worst movie of the year , and it's going to take something really , really inept to top it .  the only thing we can take comfort in about the film is that no one will be suckered into joining the church of scientology because of it .  in fact , i'd think that hubbard's cult would want to distance themselves from this bomb as fast as possible .  that'll teach me to give into bad movie syndrome again .  \n",
      "top-4:i have a great idea for a movie , one that can't miss .  see , i've got coolio to do a song for the soundtrack , and about fifty athletes and celebrities to do cameo appearances .  it's about professional basketball , so i'll release it right around the nba finals to guarantee added publicity .  as for what the movie is actually about . . . well , that will all sort itself out eventually .  i figure it will be a comedy , so i'll throw a half-dozen writers at it and take the best of whatever they come up with .  maybe we'll put a gender spin on it , see if we can get some women out to see it , too .  eddie is one of those phenomenally lazy films that infuriates me more than any other kind .  twister , as inane as the script might have been , at least required some creative technicians ; mission : impossible , overwrought plot and all , at least involved genuine effort .  eddie just sits there , hawking up a formula story without any laughs , and makes every possible bad decision when a decision is required .  whoopi goldberg plays eddie franklin , a new york limo driver and die-hard knicks fan who is suffering through a dismal season for her beloved team .  coach john bailey ( dennis farina ) has lost control of his overpaid prima donnas , and the losses are beginning to mount .  the dwindling attendance inspires new team owner wild bill burgess ( frank langella ) to try a publicity stunt in which a lucky fan will get to be an honorary coach of the team .  the winner ( surprise , surprise ) is eddie , who becomes a fan favorite , and eventually the actual coach .  the knicks continue to lose , but eddie has some sassy tricks up her sleeve to inspire her troops .  incidentally , the knicks eventually start winning .  please raise your hand if that comes as a shock , and i will invite you to my all-night marathon of the bad news bears , major league , angels in the outfield , the mighty ducks , the big green , cool runnings and little giants .  awful teams in sports comedies make miraculous turnarounds ; it's what they do .  those teams usually involve kids , for a very sound comedic reason : it's funnier when they screw up , and they're more sympathetic .  those which _don't_ involve kids usually have actual actors in the lead roles , for another very sound comedic reason : they generally have developed some sort of comic timing .  eddie was cast under the misguided premise that it's easier to make basketball players look like actors than it is to make actors look like basketball players .  this finds nba players like greg ostertag , dwayne schintzius , rick fox and malik sealy delivering punch lines as though they were reading them for the first time off a bazooka wrapper ( though sacramento kings center olden polynice has a nice moment describing a black hole to fellow players ) .  perhaps that all didn't matter to anyone because there are so few punch lines , and because the whole film is one big casting gimmick .  steve rash directs the spiritless script as though waving a flag of surrender and screaming , \" don't blame me , i just work here . \"  perhaps it was patently obvious to him that eddie isn't a movie -- it's a cameo appearance that trips over a plot every once in a while .  among the notables who lend their faces to this travesty are donald trump , new york mayor rudolph giulianni , former new york mayor ed koch , david letterman , letterman regulars mujibur rahman and sirajul islam , espn broadcaster chris berman and knicks announcer marv albert , as well as dozens of nba players and several nba arenas .  and those are the real jokes in eddie .  nothing these individuals say or do is funny ; you are supposed to be laughing simply because you notice , \" hey , it's donald trump ! \"  or \" hey , it's mujibur and sirajul ! \"  it's difficult to decide whether eddie is so bad because it was so shamelessly lacking in imagination or because it can't even get the cliches in a cliche-ridden genre script right .  the knicks coach who is eddie's antagonist early in the film reappears at the end , but he isn't given a chance to be the villain eddie desperately needs .  neither is frank langella , and none of the athlete-actors have the ability to give whoopi goldberg anything to play off of .  that leaves her to do her street-wise miss thang routine , but with no character , no sharp lines and no help .  eddie isn't just a bad movie with a formulaic premise .  it's a movie that makes you feel cheated and offended , because someone came up with a poster and a marketing plan to which they had to attach an actual movie , and you had the nerve to believe it was going to be a comedy .  \n",
      "top-5:1 . he doesn't have a hard-to-decipher accent , 2 . he doesn't always speak in a monotone , and 3 .  his face doesn't always wear the same impassive expression .  in short , the former nfl player turned fox sportscaster turned actor is too good to be bad , but too bad to be good .  unfortunately , the same cannot be said of his first star vehicle , firestorm , which is just plain awful .  one of the most glaring problems with long ( who made his acting debut in john woo's broken arrow ) is that he's so mediocre that he often blends in with the scenery .  as ace firefighter jesse graves , long is supposed to be playing a bigger-than-life action hero -- the kind of he- man who will crash through a flaming door to save a child or parachute into a burning clearing to rescue some stupid campers .  unfortunately , despite the best efforts of first-time director dean semler to photograph long using heroic shots that make kevin costner's work in the postman look stark , jesse turns out to be a pretty boring good guy .  to put it kindly , this is not a well-written motion picture .  firestorm is a collection of howlingly bad lines set against a backdrop of disaster movie clich ? s which , taken together , form something that requires a level of viewer inebriation to be recognized as a plot .  the only reason this film is getting one star ( instead of something lower ) is that most of the fire sequences are realistic , and i was fascinated by the meticulous planning that must have been necessary to stage them effectively .  we're introduced to our big burly hero one afternoon when he and some colleagues jump into the midst of a forest fire to save a group of people .  during this sequence , our big burly hero proves that he's also a sensitive guy by risking his life to save a little girl and her dog ( yes , the dog lives ) from being broiled alive .  flash-forward a year .  now , our big burly hero is taking over as chief of his smokejumpers association , replacing outgoing honcho wynt perkins ( real actor scott glenn ) .  but this day , our big burly hero's first in charge , isn't going to be business-as-usual .  a group of nasty escaped criminals have set a wyoming forest alight to aid their flight to freedom .  led by randy earl shaye ( william forsythe ) , the sadistic creep who must be killed twice to really die , they pose as canadian firefighters who somehow got lost across the border .  along the way , they meet and take hostage the damsel in distress ( suzy amis ) .  eventually , our big burly hero is placed in a position where he has to fight the fire , rescue the damsel in distress , defeat the sadistic creep who must be killed twice to really die , and restore order to the galaxy .  firestorm's director , dean semler , is a former cinematographer ( he won an academy award for his work on dances with wolves ) , so it's no surprise that the film looks good .  unfortunately , that's firestorm's lone asset , and it falters near the end , when computer-generated special effects fill up the screen .  these are of about equal quality to what you might observe on a nintendo 64 video game .  the action sequences , which include a variety of chases , are occasionally interesting , but never invigorating .  everyone , including long , appears to be going through the motions .  there isn't a memorable performance to be found from beginning to end , unless you count the forest fire , which generates some heat .  as the sadistic creep who must be killed twice to really die , william forsythe lacks panache .  he's worse than a generic bad guy ; he's a boring generic bad guy who doesn't have any snappy one-liners to hurl at our big burly hero .  my advice to scott glenn ( absolute power ) and suzy amis ( titanic ) is to accidentally forget this film the next time they're making out a resume .  there's some small comfort in knowing this early in the year that i already have one entry for my bottom 10 list .   ( at least i hope there aren't 10 worse films than this . )  and i know i wasn't the only one who really disliked this movie .  as the audience was filing out of the screening , i loitered in the theater lobby to catch a few comments .  the general consensus seemed to be that , although the movie sucked , the promotional key ring was cool .  the problem is that fox won't be giving out key rings to regular movie-goers , so that nixes any reason to see firestorm .  \n",
      "top-6:plot : lara croft is british , rich and kicks a lot of ass .  she also likes to raid tombs but when the illuminata discover that all nine planets are about to stand in alignment for the first time in 5000 years , and that lara holds the key to time , well , needless to say , they want to nab it from her .  oh yeah , lara also likes to sport a lot of tight shirts . . . hummana-hummana-hummana . . .  critique : angelina jolie was great in this movie .  there were also about three \" action scenes \" that were pretty cool to look at in this film .  uhhhhhm , unfortunately the rest of the movie sucked !  bad dialogue , generic sidekicks and bad guys , a lame mystery , yoda-esque moments with mumbo-jumbo being sprouted about and even some crappy cgi near the end .  all in all , this movie wasn't the horror show that some of the early reviews had warned us about , especially since every other scene does feature jolie's torpedoes begging to burst out of her lucky shirts , but it was quite the letdown nonetheless , especially when you consider the major opportunity that the filmmakers had here to create a cool , hip woman hero , based on a popular video game .  i don't know , i guess you have to put most of the blame on director simon west , who didn't really tie the whole movie together all that well .  the film lacked energy , a consistent pace and well . . . a  fun time !  i felt kinda depressed while watching this movie .  all that \" father \" crap was horrible and the dialogue given to poor john voight to recite was just plain embarrassing ( and i'm not even gonna mention his moustache . . . hehehe ) .  why have this shite in the movie at all ? ! ?  i especially hated the scenes in which some ghost-like figure , friend or child would ramble on about lara croft's father while all the time , i'm not giving one ounce of crap as to what they're talking about .  i guess that's called lack of \" character development \" , right ?  that's when a movie builds enough background into the characters on the screen , so that we could actually \" get into \" it and care about them .  i didn't care about anyone in this movie , and was bored during most of its \" let's explain why we're doing all this gobbledygook \" moments .  and even though i thought that jolie kicked some mighty ass ( damn , did she look sexy blasting those guns or what ? ! ? ) , everybody else around her was so goddamn boring !  her butler was a throwaway with no personality , her side-kick was supposed to be funny but just annoyed me every time he said the word \" bugger \" ( and he says it a lot , trust me ! ) and all of the so-called bad guys just spewed one-dimension !  they had no spark , no energy amongst them , and even though a few of the action scenes in the movie were cool ( see the trailer and you'll know which ones i'm talking about ) , the overall picture was lame and the dialogue and mystical bull-crap just buried it even further .  also , for a movie that's supposed to be about all of these exotic locations , i wasn't necessarily impressed by any of its exterior shots , and even less so with its interiors , which all looked like they were shot in the same room .  mind you , i won't go as far as to say that it's the \" worst movie of the year \" ( remember that i actually have to go see freddie prinze jr . movies also ! ) , but it's definitely the worst film that i've seen during this summer movie season ( of course , it's still early and i'm sure there are a few more garbage heaps coming down the pike ) .  skip this one altogether and rent any of the indiana jones movies instead . . . trust  me , you'll miss the boobs but end your night with some rock-solid porn and it's all good !  where's joblo coming from ?  raiders of the lost ark ( 10/10 ) - the mummy ( 8/10 ) - lost in space ( 7/10 ) - the mummy returns ( 6/10 ) - the general's daughter ( 3/10 ) - romancing the stone ( 7/10 ) - wild wild west ( 3/10 ) - mission impossible 2 ( 7/10 )  \n",
      "top-7:let me just start this review off by saying i am a huge fan of professional wrestling and have been for fifteen years .  i am not too fond of ted turner's world championship wrestling , however , and i am even less fond of it now after seeing this ridiculous excuse for a wrestling movie tonight .  the plot concerns two losers named gordie boggs ( david arquette , aptly cast as a neandrathal ) and sean dawkins ( scott caan ) who are so obsessed with professional wrestling that they believe everything they see on wcw monday nitro is something more than a flashy show .  when they finally get to see their hero , wcw world champion jimmy king ( played by oliver platt .  i personally would have gotten a wrestler to play king ) , he ends up getting screwed over by evil promoter titus sinclair ( a wasted palitaliano , in a role originally meant for real-life wcw president eric bischoff before he was fired and rehired six months later , and if anyone reads this who knows bischoff , they will agree with me that the role of sinclair had his name written all over it ) , they embark on a quest to find him and help him get his title back .  when they find him , they discover in horror that jimmy king's real life is nothing like it is on wcw tv .  king is a drunken atlanta native rather than an english king .  after convincing king that they don't care that his persona isn't real , gordie and sean sneak him back onto wcw monday nitro , after which sinclair agrees to book him in a main event steel cage match for the wcw title and his job back in las vegas at wcw's pay-per-view .  gee , whiz , there are so many things wrong with this movie , i don't know where to begin .  yes , i do . . .  1 . the characters of gordie and sean show you what eric bischoff , wcw president who thought up this project , thinks of wrestling fans .  he thinks of us as idiots who take everything wrestlers do seriously .  he actually thinks wrestling fans are dumb enough to believe this is meant to be taken seriously .  i got news for you , eric : nobody above the age of four is dumb enough for that , this is 2000 , you know , not 1985 !  i know he'll probably cover arguments up by saying it isn't meant to be taken seriously but it is , because that's how big an ego bischoff has .  2 . there was a documentary made in 1998 , wrestling with shadows , that documented the owner of the world wrestling federation , vince mcmahon's screwing bret \" the hitman \" hart out of the title .  this movie's storyline is basically a comic rip-off of that plot with the poor man's wayne and garth thrown in .  eric bischoff is trying to make vince mcmahon look bad with the character of titus sinclair , but any wrestling fan knows titus is more like bischoff than mcmahon , and that vince did what he had to do to bret hart .  3 .  the movie's main wrestler , jimmy king , has an english king gimmick and the audience cheered big for him .  no wrestling fan actually enjoys characters like that in this day and age , we want bad asses today !  4 . why make this a comedy , instead of an emotional , rocky-style drama ?  i know wrestling isn't a sport , but you can still get behind a guy who struggles as a wrestler and finally makes it in the end .  5 .  in the movie , gordie starts up an ill-fated romance with nitro girl sasha ( the lovely rose mcgowan .  what she sees in that freak marilyn manson i'll never understand ) , only to find that she has hospitalized king's trainer for sinclair .  wouldn't it have been easier to just have them fall in love instead of doing the typical spy-girl-for-the-bad-guy cliche ?  i hate that .  6 .  last , but certainly not least , there was not one single moment in this movie that i could not predict would happen , nor did i laugh once either .  the world wrestling federation should have been the wrestling company to make the movie , for these reasons :  1 . they're the better promotion .  2 . they have better and younger talent , performers and wrestlers .  3 .  they give their fans what they want and don't treat them like idiots .  4 . they're winning the ratings and they're the promotion everybody cares about .  5 . simply put , they could make a movie a hundred times better , and they could do a wrestling movie the right way .  the only good thing about this movie was they played outtakes at the end .  and if i spoiled it for you , good , i saved you from wasting seven dollars .  \n",
      "top-8:movie reviewers have an obligation to see the good , the bad , and the despicable .  i originally wrote this review for my college newspaper back in '95 , but i wanted to re-write it because not all retro reviews should be about the classics .  we need to be warned about some truly awful films , too .  this picture was so bad , it inspired the description for my 1/10 rating ( see ratings chart below ) .  the only thing saving it from a 0/10 rating is that being able to rent a movie like this is slightly less embarassing than renting a porno .  so , it does indeed have some plusses . . .  in fairness , elizabeth berkley is certainly worth seeing in the buff .  and her ability to whine and irritate us , even while nude , was appropriate in her role as selfish temptress nomi malone .  this character is not smart , not interesting , and ( deliberately ? )  far too annoying far too often .  like in 1998s \" bulworth \" , when the movie was over i didn't care one little iota about the main character .  at least warren beatty tried to make a statement with his dreary and overrated film , though .   \" showgirls \" is too stupid to make a statement .  some people claim that the story is based on the legendary \" all about eve \" of all things !  if exploitation expert joe eszterhas was half the screenwriter that joseph l . mankiewicz was , he'd be . . . well ,  he'd be a good screenwriter .  instead , this project may have sunk his career .  he wrote the ( ha ha ! )  script and the usually reliable paul verhoeven directed .  the same team who created a good sex-film in 1992 ( \" basic instinct \" ) struck out here with their occasional violence , gratuitous x-rated sex scenes , and numerous ( and quite unnecessary ) lesbian overtones .  the predictable storyline revolves around nomi streaking into las vegas to make it big as a dancer .  after the supposed street-smart young \" lady \" gets conned out of her suitcase by a slack-jawed yokel in the opening sequence , she befriends a tailor of the glamorous stage production at the \" stardust hotel \" .  nomi doesn't take advantage of this contact to break into the big-time of dirty dancing right away .  first , she becomes a lap dancer at a scummy strip club .  she sells her hot little wares at \" the cheetah \" for a short time , turning on the fictitious customers and the actual theatre audience .  hey , i never said she wasn't a hot number . . .  maybe it's that , her body , which gets her into the big-time when the star of the \" stardust hotel \" , crystal connors ( gina gershon ) stops into the strip club ( it certainly isn't her brains or pleasant disposition ! ) .  crystal requests a private lap dance for her boyfriend ( kyle maclachlan ) .  he also happens to be the pleasure-seeking worm who runs the big show .  crystal gets nomi onto the \" stardust \" team and , after an interminable amount of time , nomi \" earns \" the role of crystal's understudy .  the slut then deliberately injures and hospitalizes crystal .  it was almost laughable that nomi had the guts to claim that she's \" not a whore \" .  that's a phrase we hear a few different times and it's completely ludicrous .  of course she is !  she sells her soul to make it big , but in the end we're supposed to believe that she's a better person than that .  we're supposed to root for her .  no way !  she's a tramp and a back-stabber who deserved nothing--least of all vindication in the . . . ahem . . . climax .  she is not a good person and they take over two hours to explain that the audience should think that she is .  the sub-plot with a male dancer ( glenn plummer ) who claims to see talent in nomi is just a gratuitous opportunity to let her dance naked a little bit more .  it sure ain't character development !  plummer also appeared in \" speed \" in '94 in a smaller , yet better role .  this sub-plot goes absolutely nowhere except maybe to deliver an unsubtle hint that fornicators should practice birth control .  kyle maclachlan must have been promised a big pay-day or his standards have dipped since appearing in \" blue velvet \" .  that picture was weird , but some critics claim it's one of the best movies of the '80s .  now ol' kyle can say that he acted in one of the worst of the '90s , too .  his sleazy character is important to \" showgirls \" , but we don't learn anything about him .  he uses people to get what he wants , but that only means that he fits in well with the other characters in this movie .  is he a villain ?  who cares !  ultimately , this movie is as tiresome as it is explicit .  everyone must know by now about the soft-core acts of copulation , especially the riotous romp between berkley and maclachlan in his pool .  what few reviewers take issue with is how mean-spirited this movie is .  everyone's either having sex , exacting revenge , or wishing they were having sex or exacting revenge .  it's just too hard to take ( especially for over two hours ) .  if we must be exposed to the evils of the vegas world , why couldn't verhoeven have also made a point of highlighting the whispers , grunts , and other sounds during the dance numbers ?  it's hard to care about these people if we can't even appreciate what they're capable of doing on-stage .  berkley may have a future in hollywood because she can dance and she has a great body .  after all , the world of porn is still an active , dishonourable profession .  perhaps berkley could join their ranks and leave the real acting to pauly shore and cindy crawford .  oops , they're bad actors , too .  well , at least , they're not selfish and contemptable like good ol' slutty nomi malone .  useless trivia--ironically , elizabeth berkley played virtuous and \" holier than thou \" jessie on the teeny-bopper tv show , \" saved by the bell \" , before breaking onto the big screen .  \n",
      "top-9:a hotshot lawyer gets an obviously guilty child molester acquitted , and shortly after during the victory celebration gets offered an opportunity to show his prowess in new york city .  the lawyer , kevin lomax ( keanu reeves ) is not offered a job yet , he is asked to simply pick a jury .  he accepts .  the jury he selects work out well and before long he is offered a job with the firm .  making his decision easy is the fact that not only is he offered big money , but a gorgeous apartment .  he convinces his wife , mary ann ( charlize theron ) to make the move to new york .  the first case given to him is a big test ; a \" winless \" case concerning a man who sacrifices animals in his basement .  the charge was health code violations and kevin once again shows his skill and earns an acquittal .  his new boss and partner in the firm , john milton ( al pacino ) is quite impressed and takes kevin under his wing , explaining many of his philosophies on law , women and sex , and angles the promise of a blissful , wealthy life .  kevin's next case is a dream case , given to him by milton himself ( much to the chagrin to his colleagues ) , defending a triple murder suspect who has had a history of problems with the law .  although kevin's career is taking off , his home life is not doing very well .  mary ann is starting to have numerous problems .  she is experiencing severe depression over kevin's long hours , and before long is having horrible dreams and hallucinations of people turning into ghouls , their faces becoming horribly disfigured .  kevin does not help matters by dismissing his wife .  he does not spend more time with her as he explains to milton that he needs to spend as much time on the case as possible to get it over with , then focus all of his attention on his wife .  not helping matters is the fact that kevin is having ideas about a possible affair with a sexy lawyer ( connie nielson ) also working with the firm .  mary ann falls deeper into her madness as kevin spends more time away from home .  kevin eventually looses control of his life and has to institutionalize his wife , and gets disturbing news from his mother ( judith ivey ) about the mystery concerning the identity of his father .  he also starts to lose control of his case .  kevin learns that all of his problems have been caused by the work of one man .  that man is his boss , mr . milton , a truly evil character who just may be the devil himself .  kevin must somehow confront milton and thwart whatever diabolical plan he has in store .  but how do you defeat the devil ?  why is it that most courtroom scenes in the movies are absurd ?  do filmmakers really believe that \" normal \" courtroom drama doesn't fit the bill and they have to juice them up ?  the courtroom scenes in this movie would never happen in a real courtroom , which wouldn't have been too bad if it weren't keanu reeves trying to pull it off .  i give reeves credit for trying hard , but throughout the movie i never saw the kevin lomax character , just an actor trying very hard to play kevin lomax and coming up short .  charlize theron defines the term \" over-the-top \" in her performance as mary ann lomax , a disappointment in contrast to her good performance in \" 2 days in the valley \" .  the only good performance in the movie is by al pacino , but i kept asking myself what the heck he was doing in this mess ?  maybe he felt it would be interesting playing the devil , and you can tell he is having fun doing so , but his skill as an actor cannot save the poor performances and lackluster script that surround him .  it's pretty standard stuff , including the fact that the hotshot lawyer appears to be the only competent person on the planet who can do anything right in the courtroom .  please read no further if you do not want the ending spoiled , but i have to get something off of my chest .  in 1986 i remember watching a movie called \" wisdom \" with emilio estevez and demi moore , and the ending of that film did the worst possible thing that a movie could do .  what i like to call \" guess what , it was all a dream \" scenario .  in \" wisdom \" the two lead characters are killed at the end , only to have one of the characters \" wake up \" from an apparent and say \" gosh , i'm glad that didn't really happen ! \" .  i considered it inexcusable the way the audience was toyed with .  well , the same thing happens in \" the devils advocate \" , and although arguments could be made surrounding whether it was actually a dream ( perhaps milton went back in time to try a different route for his plan , since it failed and he is the devil ) , but the point is that the last 90% of the film didn't happen .  i know it's a stretch , after all it is a movie and nothing really happened , but i just get annoyed to get toyed with like that .  of course , the dream ending could almost be forgiven if the story that precedes it was at least an interesting one .  as i recall , \" wisdom \" was a decent film .   \" the devil's advocate \" is not .  the devils advocate  directed by taylor hackford john milton . . . . . . . . . . . . . . . . . . al pacino kevin lomax . . . . . . . . . . . . . . . . keanu  reeves mary ann lomax . . . . . . . . . . . charlize  theron mrs . lomax . . . . . . . . . . . . . . . . . . judith  ivey eddie barzoon . . . . . . . . . . . . . . . jeffrey jones christabella . . . . . . . . . . . . . . . . . . connie  nielson  written by randy turgeon , march 18 , 1998 .  \n",
      "top-10:midway through \" anaconda \" , documentary filmmaker terri flores ( jennifer lopez ) turns to a co-worker and says \" i thought this movie would be my first big break .  instead , it's turned into a disaster . \"  truer words have never been spoken .   \" anaconda \" is a monster movie with a lousy monster .  it's a suspense film that is utterly predictable .  it's a mess the film does manage to drum up some scares , but only in the most elementary way , like a jack-in-the-box .  as you turn the crank , you're totally aware that the damn clown is going to pop up , but somehow it's still mildly startling when it happens .  the main difference between the giant snake in \" anaconda \" and the clown in a jack-in-the-box is that the clown is more realistic .   \" anaconda \" boasts some of the worst special effects to appear onscreen in years .  animatronic shots of the snake look as phony as any of those cringe- inducing robots you've endured at disney world .  but it's the computer animated scenes that truly expand the meaning of the word lame .  in one shot , a character tries to flee from the monster by diving from a tree near a waterfall , but the giant snake springs out and loops around its hapless victim in mid air .  the scene , if done well , would have been a jaw- dropper .  here , the horribly bad digital effects look less convincing than a saturday morning cartoon .  what's really amazing is that the filmmaker's were so proud of this dreadful shot that they actually included it in the promotional trailers for the movie .  but enough about the phony snakes .  now it's time to talk about the lousy story .  heroic and very pale anthropologist eric stoltz leads a documentary film crew down a brazilian river in search of the shirishama indians , a legendary tribe that supposedly lives in the boondocks of the rain forest .  stoltz tells his crew \" pray that you didn't forget your bug spray . \"  apparently the female crew members bathed in the stuff , because they spend most of the film wearing skimpy tops and short shorts with no ill effect .  along the way , the group rescues a whacked-out lapsed priest ( jon voight ) who claims to know how to find the shirishama .  within minutes , they throw away all their plans and follow voight down a tributary into the land of creepiness .  from that point on , the film is a hodgepodge of scenes and shots ripped off from \" jaws \" and \" dead calm . \"  one of the oddest structural points of the film is the handling of eric stoltz .  early in the story , his character gets knocked into a coma by a river insect and spends virtually the rest of the movie unconscious .  so why did they hire an actor of the caliber of stoltz for what amounts to a cameo appearance ?  also , why did stoltz , who generally selects his roles with great care , agree to appear in this crap ?  ah , the mysteries of hollywood .  the remaining crew members are basically just snake food waiting to happen .  jonathan hyde is mildly diverting as a pompous englishman hired to narrate the documentary , but lopez and ice cube manage to rise above their cardboard characters .  lopez , who starred in \" selena , \" is an enormously appealing performer , possessing a vibrancy that makes even the most trite lines seem credible .  ice cube has a special charisma ; an ability to look like a macho adult and a frightened boy simultaneously .  there's also a special twinkle in his eyes , as if he's gently mocking his own tough-guy posturing .  but the movie really centers around the outrageously hammy performance of jon voight .  obsessed with capturing one of the giant anacondas , voight plays the villain in thick accent , with a series of leers and hisses , spouting the kind of dialogue usually heard only in episodes of \" jonny quest . \"  at one point , he looms over the crew and says \" the anaconda is the perfect killing machine .  it strikes , wraps around you , holds you tighter than your true love .  and you get the privilege of hearing your bones break before the power of its embrace causes your veins to explode .   \" that moment is so high-camp that it almost made the film tolerable .  almost .  fans of the horror genre may be tempted to check out \" anaconda . \"  don't .  there are a lots of horror films scheduled for release this summer , including another \" alien \" sequel .  wait for them , rent \" jaws \" in the meantime , and don't throw away your money and time on drivel like this .  \n"
     ]
    }
   ],
   "source": [
    "# fill in your code...\n",
    "preds_te_tfidf_prob = predict_proba(X_te_tfidf, w_tfidf)\n",
    "inds = np.argsort(preds_te_tfidf_prob,0)\n",
    "print('Top-10 negative:')\n",
    "for i in range(1,11):\n",
    "    print('top-{}:{}'.format(i,X_te_raw[inds[i-1,0]]))"
   ]
  },
  {
   "cell_type": "code",
   "execution_count": 37,
   "metadata": {
    "ExecuteTime": {
     "end_time": "2020-02-15T14:38:22.781128Z",
     "start_time": "2020-02-15T14:38:22.778590Z"
    },
    "colab": {
     "base_uri": "https://localhost:8080/",
     "height": 224
    },
    "colab_type": "code",
    "id": "WRn2BfJ90m4V",
    "outputId": "c742a10e-a35e-4e7d-b48d-29474dac0846"
   },
   "outputs": [
    {
     "name": "stdout",
     "output_type": "stream",
     "text": [
      "Top-10 positive:\n",
      "top-1:in the wake of the smashing success of \" rumble in the bronx , \" it's looking more and more likely that more jackie chan films will see american release .  rumor has it that one of these films will be drunken master ii .  the version i have is a copy from the laserdisc ; it's widescreen and bilingually-subtitled , as are most hong kong films these days .  availability over here in the united states is very limited ; these films must either be purchased via pirates or sought out from asian distributors such as tai seng .  the subtitling on the copy i have is slightly hard to read ; the letters are white and a bit small .  although the american release will almost certainly be dubbed , this review is of the subtitled version , so please keep that in mind if you're reading this review to help you decide whether to go out and see it .  to be fair , i must admit that i've never been very fond of \" period-piece \" martial arts movies--the ones set in some nebulous china of the distant or not so distant past .  perhaps it's because most of those i've seen were filmed on inferior stock , with either butchered dubbing or all-but-illegible subtitling , or perhaps it's because their plots all tend to be very similar to each other and , in many cases , all but nonexistant .  in fact , many of them get so wrapped up in their subplots that they seem to forget their main plot entirely until only a few minutes before the end .  or , for that matter , it might be because the jackie chan films with more modern settings ( armour of god , rumble in the bronx , etc . ) tend to have more spectacular stunts , often involving large motor vehicles and large explosions , whereas period pieces simply have the martial arts .  having said that , i must now turn right around and say that drunken master ii is a remarkable exception to all or most of the above , is one of the better martial arts films i've seen , and i quite enjoyed it .  surprised ?  well , so was i .  drunken master ii is about a young man named wong fei-hong ( played by jackie chan ) who is a master of the drunken boxing style of kung fu .  where he learned this style is uncertain , as his father , wong kei-ying ( ti lung ) is steadfast in his opposition to fei-hong's practicing it rather than some more normal style of kung fu .  apparently , fei-hong is some sort of figure from chinese folklore , rather like paul bunyan is for americans , but i've heard very little about this , and could quite well be wrong , so i'll leave analysis of that to the people who know it better .  one of my friends points out that the character of wong fei-hong is also featured in the \" once upon a time in china \" movies , but i have not yet seen those .  the plot of drunken master ii is somewhat hazy , as are the plots to many such films , but if you're watching a jackie chan film , odds are you aren't expecting something on the order of \" war and peace \" .  the story seems to revolve around those evil foreigners who are spiriting away ancient chinese relics ( and hence , china's cultural heritage ) while overworking , underpaying , and beating up chinese workers in a nearby steel mill .  however , this plot merely serves as a framework for the other main story of the film--fei-hong's perpetual struggle to win his girlfriend , supplicate his father , keep his ( pregnant ) mother ( played by anita mui ) from fighting , and keep from getting beaten up by evil foreigner thugs .  the macguffin that drives the plot ( s ) is a precious antique jade imperial seal which is being taken away by the evil foreigners .  in the beginning , fei-hong accidentally steals it while trying to recover an identically-wrapped box containing the medicinal ginseng his father was bringing back for a customer .  in the process , he clashes with another thief , who is himself trying for the seal but ends up instead with the ginseng .  after fei-hong narrowly avoids getting caught with the seal by the evil foreigners' lackies , thanks to some timely intervention by a general's son ( a cameo appearance by andy lau , who would later take on the starring role in drunken master iii ! ) , comedic chaos ensues back at the wong household when fei-hong and his mother attempt to come up with a replacement for the missing ginseng .  and so it goes .  and the plot thickens later on , such as when fei-hong's girlfriend maneuvers him into a kung fu match with a rival , or when fei-hong and the thief , now revealed to be a loyalist manchu officer trying to recover the seal and stop the evil foreigners , are attacked en masse ( another grand kung-fu movie tradition ) , but i think i've already spent more time on the plot than it really deserves .  let's move on to the real draw of jackie chan movies . . . the  action .  there's plenty of martial arts action to be found in this movie . . . of  course , in a kung fu film , that's to be expected .  however , this isn't just another kung fu movie ; this one has jackie chan doing the fight and stunt choreography , and jackie chan is a genius .  the primary martial arts \" style \" featured in the film is drunken boxing , a form of kung fu which attempts to draw the adversary off his guard by making it seem like the fellow using it is drunk .  further , for the purposes of this film at least , drunken boxers fight better when they actually _are_ intoxicated . . . but  there's a fine line between just drunk enough and drunk into a stupor .  under normal circumstances , the idea of someone staggering around looking sloshed but managing to fight effectively and even incredibly might seem rather stupid , but jackie pulls it off with flair .  the kung fu sequences are so intricate in their staging and execution that it is pointless to try to describe it on paper , so i'll just say that the fights--especially the big climactic fight at the end--in themselves make the movie worth watching .  another thing drunken master ii has going for it is the stunt work .  even without motor vehicles ( well , not counting a train ) , there are some remarkable stunts in this film .  among other things , jackie dives off a balcony into a table and crawls across hot coals ( not once , but at _least_ twice , if you count the outtake shown during the credits ) .   ( quicktime movies of these stunts can be found through the www movie database . )  unlike in american films , these stunts are _not_ faked .  drunken master ii stars several veteran actors of the hong kong movie scene , including jackie , ti lung ( \" a better tomorrow \" 1 & 2 ) , and anita mui ( the \" heroic trio \" series , \" rumble in the bronx \" ) .  the performances are first-rate , especially when it comes to the comedy parts of the film .  the scene where fei-hong and his mother conspire literally behind fei-hong's father's back to cover up for the missing ginseng root is hilarious , as is the scene where fei-hong's mother , having just revealed that she is pregnant , is threatening to hurt herself ( in order to draw her husband's anger away from fei-hong ) .  jackie has developed his knack for physical comedy into a sort of mastery over the years , and he's in fine form all through drunken master ii .  as far as cinematography is concerned , it certainly works for this film .  it's nothing spectacular , but is at least a dozen times better than all those old kung fu movies of the 70s .  the picture is crisp and clear .  one thing i find particularly worthy of mention is that , at least in the copy i have , the screen was wider than any film i've ever seen on videotape before--almost a whole 1/3 of the screen was blocked out above and below .   ( watch this on a bigscreen tv or movie theater if you can . )  it will be an utter shame if this film is eventually pan-and-scanned for american video release .  drunken master ii shows the full potential of \" period piece \" kung fu movies , and it's good enough to overcome even my usual distaste for such movies .  the plot does meander a bit , but that's to be expected in this type of film .  if you like this kind of movie , you'll love this movie , and if not , well , give it a chance anyway .  if nothing else , the martial arts and stunt sequences are by themselves worth the price of admission or rental .  \n",
      "top-2:ladies and gentlemen , 1997's independence day is here !  it's title : starship troopers .  and surprisingly , it is more entertaining than id4 .  i realize that i gave last year's sci-fi hit a 4 star rating , but i was under the spell of the powerful first hour .  after subsequent viewings , i feel that independence day really wasn't as great as it seemed--though i still give it a positive review .  starship troopers , on the other hand , has a mocking sense of humor , knowing perfectly well how ridiculous it may seem .  as a result , starship troopers is a more exciting , energetic , and lively science fiction film .  in fact , i probably could never get tired of watching this film .  starship troopers is very reminiscient of star wars , another kick-ass space opera which reinvented the sci-fi drama altogether .  while starship troopers is no star wars , it comes quite close , and the easiest assessment would be to call this film : \" the 'star wars' of the 90s . \"  am i being to generous to this film ?  perhaps , but when a science fiction film comes along that can mix humor and romance , effectively , into the warring races .  in essence , this is the science fiction equivolence of pulp fiction .  the easiest way to write a review of this film would be to compare it to other science fiction films , and i may have to .  starship troopers is not quite an original film persay , but director paul verhoeven gives the film a \" kick-the-aliens'-asses \" style .  id4 had this same style , except it was forced , most likely the cause of will smith having a major role .  this new \" star wars \" has a very simple , basic plot : mankind vs . an alien species .  the alien species in question here is the bugs , a seemingly advanced civilization of arachnid-type insects .  however , the underlying morals of starship troopers are fleshed out with deadly accuracy .  sometimes the morals are buried by the bloody violence and intense action scenes , but during quiet moments , we realize that starship troopers has something to tell us about our civilization .  more than likely , these morals will be overpowered and quickly forgotten by the time the movie ends .  and they should be .  i doubt verhoeven intended this film to be a thought-provoking film .  this is an \" event \" film , but surprisingly above average .  it is extremely refreshing to watch a sci-fi war film , and actually root for the human side ( something independence day never achieved ) .  starship troopers begins with a satirical portrayal of those strange \" join the army \" ads .  mixing a web-based interface , these summations of events are refreshingly original .  stating , \" would you like to know more ? \" ,  these short news bulletins give the film an immediate sense of humor , and we know we should not take it seriously .  however , we also witness the murder of several troopers in battle , in a gory , yet funny , way .  after witnessing the slaughter , the film jumps back one year , to setup what we just saw .  we are introduced to johnny rico ( casper van dien ) and carmen ibanez ( denise richards ) .  rico flirts with carmen by sending her messages over computer terminals in school classrooms .  however , carmen isn't as interested in rico as she is in becoming a pilot .  however , another classmate , dizzy flores ( dina meyer ) , has her eye on rico .  unfortunately , rico isn't interested in dizzy .  this setup is rather cliched , as is the result of the setup , but it still is fun to watch .  carmen signs up to become a starship trooper , and as a result , rico signs up .  and as a result , dizzy signs up .  everyone is assigned a certain position in the academy : carmen gets the pilot position she wanted , carl jenkins ( neil patrick harris ) , a psychic , gets a position in the training program , and rico is left in the lowest class of the starship troopers : the mobile infantry .  the main story follows rico through his trials and relationships .  in reality , i found myself watching a space version of \" melrose place , \" but with better special effects .  an hour into the film , the war begins .  a sense of tension grew in the audience i watched this film with .  the first hour may have been a funny ( sometimes unintentionally ) setup , but we grew to care for the flat characters , because no matter how hard i tried not to like the characters , their gorgeous looks won me over ( call me superficial , if you must ) .  following the training sessions , which had many dramas in themselves ( too many to mention here ) , the troopers are sent to war .  the bugs live on the planet klendathu , a planet which consists of dirt and rock , and pretty much nothing else .  many dramas occur during the war , until finally the troopers realize that their is something behind the bugs' attacks .  a sort of intelligence which masterminds the defense .  the troopers are ordered to locate the \" brain \" and capture it .  i hopefully left the plot as vague as possible , because starship troopers is not about plot .  it's about special effects and gory violence .  director verhoeven , most known for his nudie film showgirls and basic instinct , returns to his sci-fi days , which gave us good films like total recall .  verhoeven likes to push the envelope of the mpaa , but despite all the violence , the comic book feel gives the film a sense of falsehood .  starship troopers is extremely violent , with more gore than this year's event horizon .  the r rating is well deserved , and hopefully parents will not allow their 12 year old children to see it .  my guess is that verhoeven's target audience is the 18 to 25 male group .  the film has a testosterone level off the charts , with chiseled men and beautiful women .  despite these superficial elements , starship troopers also creates a world which made star wars so successful .  while watching the film , we never second guess the character's decisions because they seem perfectly clear .  thankfully , no hero is punching aliens in the face , which gives the flat characters some depth for which we can identify with .  the cast of starship troopers is quite annoying to begin with , but they soon grow on you .  casper van dien has the chiseled facial features and tan skin which will make most girls swoon .  to most guys , he will come across as artificial .  fortunately , van dien is the worst of the cast , despite how hard he tries to come off as a real character .  dina meyer does a much better job of fleshing out her character .  her dizzy is extremely likeable .  denise richards also does a good job , and her scenes are very well done .  jake busey , gary busey's son , gives a wonderfully funny performance , and provides one of the biggest laughs of the film .  neil patrick harris ( remember , he was doogie howser ) is a little wooden , and slightly out of place with the rest of the cast .  however , he does give a good performance .  michael ironside gives the best performance of the film as the teacher with one arm .  his performance rises above the rest .  perhaps it is because his character is the most developed , but i think it is just ironside's presence on screen .  unfortunately , no particular cast member gives a star-making performance , which is too bad because the material here could have made many of the cast members stars .  director verhoeven is the main star of the film .  his direction is fast and unrelentless .  he never slows down his pace , which makes for a wild ride .  writer edward neumeier adapted the screenplay from the book by robert heinlein .  the writing is usually very funny , and sometimes very corny .  the dialogue is smart but not too smart .  we aren't required to know everything , but some plot holes are left unanswered .  thankfully we are not intended to notice , and we really don't ( except for one which lingered in my mind for quite a while ) .  amazingly , with all the wars and romance going on , the screenplay manages to include some surprising governmental issues .  in fact , these governmental changes seem fairly plausible , and this adds another layer to the story .  the moral debate of the characters is quite surprising to find in a film of this genre , but what is even more surprising is the amount of humor included into all the carnage .  i haven't laughed this loud , even in some comedies .  oh , and the special effects are first rate .  starship troopers is rated r for graphic sci-fi violence and gore , and for some language and nudity .  believe me when i say this : don't take young kids to see this film .  it is extremely violent .  in fact , it is probably the most violent film out this year .  however , if you are old enough ( over 17 ) to see it , starship troopers is guaranteed to entertain .  it's been a long time since i have cheered for the heros , while also cheering for the bad guys .  and still , it is my dream to see a sci-fi film in which the alien race destroys mankind , and take over the world .  now that would be entertaining !  \n",
      "top-3:the most common ( and in many cases the only ) complaint against francis ford coppola's 1972 masterpiece the godfather is glamorising of mafia , which is presented as an institution guided by ancient tradition and virtues like honour , loyalty and solidarity more suitable for some gentler , kinder ages .  martin scorsese , another italoamerican moviemaker , confronted that perspective with his own , more down-to-earth vision of mafia in 1973 mean streets , movie that dealt with lower echelons of organised crime .  unfortunately for scorsese , his film was unspectacular and too artsy to compete with coppola's influence on mafia portrayals in the movies .  seventeen years later scorsese returned to mean streets of new york with another film that dealt with darker side of american organised crime .  this film was goodfellas , epic black comedy which is today considered as one of the best and most influential films of 1990s .  goodfellas owes some of its initial success and popularity to the fact that it was based on the true story , told in best-seller book wiseguy by nicholas pileggi ( who would co-write the screenplay for the film ) .  the book , as well as the film , chronicled thirty years in the life of henry hill ( played by ray liotta ) , irish-italian criminal from new york .  at the age of 13 he gets recruited in the criminal organisation of paulie cicero ( played by paul sorvino ) , local mob boss , and gradually climbs up the ladder starting with small errands .  after couple of years , together with his best childhood friend tommy de vito ( played by joe pesci ) , he joins the crew of expert thieves led by jimmy conway ( played by robert de niro ) .  three of them spend years as best friends and associates , gathering enormous wealth from their criminal enterprises that would culminate with one of the most spectacular robberies in american history .  wealth , influence and privileges of men connected with mafia are enough for henry hill to seduce his future wife karen ( played by lorraine bracco ) , who would afterwards remain loyal to her husband despite infidelities , domestic abuse , arrests and would even be accomplice to his own private drug dealing business .  but the perfect world of \" wiseguys \" gradually begins to fall apart - tommy's unpredictable outbursts of homicidal violence , jimmy's reluctance to share his part of the loot with partners and , finally , henry's own drug habit would lead to his downfall and make him question his loyalty to the friends .  goodfellas is an excellent example of a film that represents work of a film genius in his full glory .  scorsese managed to create a vision which is effective and complete despite being full of contradictions that would ripped the film apart in the hands of less talented filmmaker .  world depicted in this film is both ordinary and fascinating .  scorsese spares no effort to show us all the violence , hypocrisy and inherent paranoia of organised crime , yet it manages to make it both seductive and funny .  after being exposed to two and half hours of the film and three decades of criminal history ( based on some notorious real life events ) , the audience understands why the characters chose such dangerous life paths , trading the superficial and short-lasting glamour and prosperity of a criminal to the dullness and poverty of honest citizens .  scorsese also manages to break viewer's moralistic inhibitions by showing truly revolting material - scenes that depict personal tragedies , broken homes , human depravity , violence , bloodshed and murder - in all their uncompromising reality , but in a manner that would make it amusing and funny to the audience .  with the use of ironic soundtrack , manipulative shots , character's dialogue or narrator's commentary , goodfellas represents the new standards of black humour that would became very popular few years later during tarantino era .  even if we don't pay attention to skills with which potentially disturbing material becomes eye pleasing and entertaining , we should admit that scorsese displays his talents of truly original and creative filmmaker .  first , we might notice unusual structure of the plot - relatively minor subplot is used as movie's ironic prologue .  then , instead of single narrator , scorsese switches to the second character as narrator in the middle of the film only to switch back to the original shortly afterwards .  this multiple points of views , both in terms of narration and various subjective shots , only lengthens the ironic distance towards characters and their situation .  same ironic distance comes with extremely effective choice of soundtrack .  nostalgia for good old times is illustrated with easy-listening 1950s pop songs , while depression , paranoia and bad times find their expression in more neurotic rock songs of late 1960s and 1970s .  but the soundtrack is most effective when it is used as ironic comment - almost pastoral , easy listening tunes make strong and very ironic contrast to the scenes of violence and bloodshed .  however , thing most associated with this film is couple of continuos shots that feature characters moving through large rooms and interacting with dozens if not hundreds of people .  such scenes , although they require very great skill and patience during their shootings , became very popular among other directors in 1990s .  fragmentary character of the screenplay , which doesn't have straight plot and instead bases film on series of loosely connected vignettes , gives another interesting opportunity for scorsese .  he uses this structure of film to experiment , and most successful of such experiments is hilarious \" a day in life \" segment near the end of the film .  another essential element of goodfellas is large but superb collection of great acting talents .  the most respectable among them is robert de niro , but his character , who happen to be most quiet and business-like member of criminal trio , gets overshadowed by two of his friends and colleagues .  joe pesci deserved his \" oscar \" for supporting role of homicidal psychopath tommy , and his lines , including ad-libs , probably represent the most memorable element of the film .  ray liotta , although equally talented , perhaps doesn't look as the best choice for narrator and nominal hero of the film .  liotta's henry hill looks somewhat too hollywoodised and glamorous among this bunch of low-level street thugs .  liotta , on the other hand , improves general impression by very realistic and menacing portrayal of drug addiction .  lorraine bracco is , on the other hand , very effective and believable as karen hill , wife who gradually descends into same moral cesspool as her husband .  paul sorvino is also very effective as patriarch mafioso , and among the supporting cast most memorable is chuck low as pestering small-time gangster who unknowingly digs his own grave .  as a combination of clever sociological study , black humour and innovative filmmaking goodfellas became something only the truly great films could do - work of art and excellent popular entertainment in the same time .  because of this achievement , and also because of the great influence on future filmmakers , this cinematic gem deserves its rightful place among the best films of 1990s .  \n",
      "top-4:note : some may consider portions of the following text to be spoilers .  be forewarned .  during the three years since the release of the groundbreaking success pulp fiction , the cinematic output from its creator , quentin tarantino , has been surprisingly low .  oh , he's been busy -- doing the talk show circuit , taking small roles in various films , overseeing the production of his screenplay from dusk till dawn , making cameo appearances on television shows , providing a vignette for the ill-fated anthology four rooms -- everything , it seems , except direct another feature-length film .  it's been the long intermission between projects as well as the dizzying peak which pulp fiction reached which has made mr . tarantino's new feature film , jackie brown , one of the most anticipated films of the year , and his third feature film cements his reputation as the single most important new american filmmaker to emerge from the 1990s .  things aren't going well for jackie brown ( pam grier ) .  she's 44 years old , stuck at a dead-end job ( \" $16 , 000 a year , plus retirement benefits that aren't worth a damn \" ) as a flight attendant for the worst airline in north america -- and she's just been caught at the airport by atf agent ray nicolette ( portrayed with terrific childlike enthusiasm by michael keaton ) and police officer mark dargus ( michael bowen ) smuggling $50 000 from mexico for gun-runner ordell robbie ( samuel l . jackson ) , who has her bailed out by unassuming bail bondsman max cherry ( robert forster ) .  the loquacious ordell , based out of a hermosa beach house where his horny , bong-hitting surfer girl melanie ( bridget fonda ) and agreeable crony louis gara ( robert de niro ) hang out , operates under the policy that the best rat is a dead rat , and he's soon out to silence jackie brown .  meanwhile , the authorities' target is ordell , and they want jackie to help them by arranging a sting to the tune of a half-million dollars .  only through a series of clever twists , turns , and double-crosses will jackie be able to gain the upper hand on both of her nemeses .  although jackie brown marks mr . tarantino's first produced screenplay adaptation ( based on the elmore leonard novel \" rum punch \" ) , there's no mistaking his distinctive fingerprints all over this film .  while he's adhered closely to the source material in a narrative sense , the setting has been relocated to los angeles and the lead character's now black .  in terms of ambiance , the film harkens back to the 1970s , from the wall-to-wall funk and soul music drowning the soundtrack to the nondescript look of the sets -- even the opening title credit sequence has the echo of vintage 1970s productions .  the opening sequence featuring ms . grier wordlessly striding through the lax , funky music blaring away on the speakers , is emblematic of films of that era .  the timeframe for the film is in fact 1995 , but the atmosphere of jackie brown is decidedly retro .  of course , nothing in the film screams 1970s more than the casting of pam grier and robert forster as the two leads , and although the caper intrigue is fun to watch as the plot twists , backstabbing , and deceptions deliciously unfold , the strength of jackie brown is the quiet , understated relationship developed between jackie and max ; when they kiss , it's perhaps the most tender scene of the year .  tenderness ? in a quentin tarantino film ?  sure , there've been moments of sweetness in his prior films -- the affectionate exchanges between the bruce willis and maria de madeiros characters in pulp fiction and the unflagging dedication shared by the characters of tim roth and amanda plummer , or even in reservoir dogs , where a deep , unspoken bond develops between the harvey keitel and tim roth characters -- but for the most part , mr . tarantino's films are typified by manic energy , unexpected outbursts of violence , and clever , often wordy , banter .  these staples of his work are all present in jackie brown , but what's new here is a different facet of his storytelling -- a willingness to imbue the film with a poignant emotional undercurrent , and a patience to draw out several scenes with great deliberation .  this effective demonstration of range prohibits the pigeonholing of mr . tarantino as simply a helmer of slick , hip crime dramas with fast-talking lowlifes , and heralds him as a bonafide multifaceted talent ; he's the real deal .  this new aspect of mr . tarantino's storytelling is probably best embodied in a single character -- that of the world-weary , sensitive , and exceedingly-professional max cherry , whose unspoken attraction to jackie is touching .  mr . forster's nuanced , understated performance is the best in the film ; he creates an amiable character of such poignancy that when he gazes at jackie , we smile along with him .  much press has been given about the casting of blaxploitation-era icon pam grier in the lead , with the wags buzzing that mr . tarantino may do for her what his pulp fiction did to bolster john travolta's then-sagging career .  as it turns out , ms . grier is solid in the film's title role , although nothing here forces her to test her range .  i do have to take exception to the claim that this film marks her career resurrection , though -- she's been working steadily over the years , often in direct-to-video action flicks , but also in such recent theatrical releases as tim burton's mars attacks !  and larry cohen's original gangstas ( where she first teamed up with mr . forster . )  of course , it's true that her role here was a godsend -- a meaty a part as this is rarity for * any * actress , let alone one of her age and current status in the industry .  while jackie brown may disappoint those looking for another pulp fiction clone , it marks tremendous growth of mr . tarantino as a director whose horizons are rapidly expanding , and whose characterizations have never been better .  and while the film's narrative doesn't really warrant a running time of 155 minutes , it's filled with such sumptuous riches , ranging from the brashness of the vivid soundtrack to entertaining , inconsequential conversations between the characters , that there wasn't an unengaging moment .  with an impressive trio of feature films under his belt , it'll be interesting to see what he tries next .  \n",
      "top-5:making a sequel to a widely beloved film is a weighty proposition indeed , especially when the first film is considered by many to be a masterpiece .  when it comes to living up to expectations , a filmmaker is almost doomed to some degree of failure .  for a sequel to live up to or even surpass the original's greatness is very rare indeed .  and whereas \" babe : pig in the city \" misses equaling the greatness of its best picture nominated predecessor babe , it is a worthy companion piece .  more than that , it is a spectacular work of art that deserves to stand alone in its own right .   \" babe : pig in the city \" warrants the classification of being recognized with such classics like \" the godfather : part ii \" and \" the empire strikes back \" as being one of the greatest sequels ever produced .   \" babe : pig in the city \" picks up precisely where \" babe \" left off .  having won the sheep herding competition , farmer hoggett ( james cromwell ) and his pig are elevated to fame status .  a series of unfortunate circumstances and hilariously freakish events leads to mrs . hoggett taking babe from the small country farm into the big city .  in doing so , the film transports us into a wonderfully imaginative world that simultaneously mirrors and exceeds the creative design seen in the original .   \" babe : pig in the city \" flourishes where so many sequels fail .  most sequels simply rehash the events of the first film .  not \" babe : pig in the city \" .  this is a completely original tale that offers up a story drastically different than the first .  also , by not being content to utilize most of the old characters , this film gives us many new ones to enjoy .  in essence , it doesn't attempt to copy itself .  instead , it strives to achieve an originality of its own .  and it succeeds .  that's not to say the familiar is absent .   \" babe : pig in the city \" retains some of the best core elements and characters from the first film .  along with babe himself , ferdinand the duck comes along for the ride , as does mrs . hoggett ( one of this decade's best and most underappreciated comic characterizations , hilariously performed by magda szubanski ) .  the three singing mice also make the journey , chiming in with their cute high-pitched vocals .  the story structure is also similar as each segment is introduced with title cards read by the aforementioned mice .  from there , we are guided once again by roscoe lee browne's soothingly deep narrative .  composer nigel westlake also returns with his whimsical music style that is perfect for cinematic fables such as these .  but these elements are simply the frame that surrounds an entirely new painting .  while staying at the flealands hotel , babe encounters a veritable ark-full of new animals .  monkeys , kittens , and dogs of various breeds and sizes are some of the new \" urbanites \" that babe befriends , as well as some wonderfully comical pelicans that ferdinand the duck happens to encounter .  each character is distinctly unique , some of which are imbued with personal human-like struggles that are endearing and touching .  and while this world focuses largely on these animals , we are introduced to two new human characters as well .  mary stein plays the owner of the flealands hotel , an animal-loving young spinster who harbors these lost creatures much to the dismaying anger of her fellow neighbors .  stein's landlady is a wonderfully odd caricature .  we also meet fugly floom , an old soft-spoken clown who owns many of the animals in the flealands hotel , utilizing them as a part of the act that he performs at different parties and functions .  not having known who portrayed fugly floom prior to seeing the film , it came as an unexpected pleasant surprise to see who it was .  so as not to ruin this well-kept secret , i won't reveal the actor's identity here .  it was a treat indeed to see one of cinema's legends grace the screen again in what was a superbly gentle and heartwarming performance .  the greatest triumph of \" babe : pig in the city \" is the art direction .  simply put--it bleeds creativity , taking the look of the original film to a whole new level .  restricted primarily to a farm the first time around , this second installment creates an entire city , dazzling us with unique fable-like architecture .  but the stroke of pure genius by production designer roger ford is his use of our world's architectural landmarks .  designing a skyline that includes the statue of liberty , the sydney opera house , the brooklyn bridge , the hollywood sign and the eiffel tower , ford has created a singular city that encompasses all of our cities ( as seen in the film photo and pre-production drawing to your right ) .  added to that , many of this city's streets are the twin siblings of venice's gondola-trekked rivers .  the metropolis that has sprung from ford's vision is a wondrous sight to behold .  it is a world that you want to walk around in .  norma moriceau's costume designs belong in this world , vibrant in color and style equal to that of the ford's landscape .  most of the costumes are imaginatively cartoonish , with the most exotically grand design going to that of fugly floom's clown outfit .  andrew lesnie's photography captures these elements with various lighting moods that are beautifully effective in creating the film's multiple emotional tones .  much press fodder has been made over the weeks leading up to the release of \" babe : pig in the city \" .  reports stated that its original cut was branded with a pg-13 rating .  these reports were discovered to be false as it was assigned a pg rating .  but even so , to be anything harsher than the original' s g rating had many parents and fans up in arms .  by deleting a minimal number of shots , \" babe : pig in the city \" was eventually given the coveted g rating .  although appeased , many fans were still concerned that it would be too dark , fearing that the film may have come to be possessed by tim burton himself .  well , to coin a phrase , the reports of \" babe : pig in the city \" 's death at the hands of a dark , scary , felliniesque interpretation have been greatly exaggerated .  granted it has its moments of pseudo-morbidity , but all-in-all \" babe : pig in the city \" is the funny and charming adventure that everyone was hoping it would be .  whatever \" dark \" moments it may have can be attributed to director george miller ( the \" mad max \" trilogy , \" the witches of eastwick \" , \" lorenzo's oil \" ) .  having served as a producer and co-writer on the first film , miller moves into the director's chair for this one , putting his own unique sense of style into this budding franchise .  the story of \" babe : pig in the city \" is an enchanting yarn , but one that doesn't achieve the emotional or character depth of the original .  missing here is the attempt to broach such heady themes as personal identity , an individual's worth , challenging conformity , and one's purpose in life .   \" babe \" dealt with this weighty subject matter , creating a timeless fable .   \" babe : pig in the city \" should not have rehashed these themes , but i do wish it would have attempted to explore new ones .  this film is not bereft of moral or message as it parallels such issues as urban strife , class differences , sacrificial courage , and so on .  but this film's goals aren't as lofty as the first's , instead choosing to take a more straightforward approach , allowing its themes to take a back seat to an exciting , sometimes intense , fable adventure that is undeniably clever and inventive .   \" babe : pig in the city \" also decides against developing a relationship to the level of which was present in the first film , specifically the one between farmer hoggett and babe .  hoggett's love for babe , which grew ever so gently , is what gave that film its charming and endearing quality .  best exemplified in hoggett's dance for babe , this moving relationship was truly unique .  it is something that i wish would have been present again ( and could have through fugly floom ) , but was not .  please understand , these are not negative criticisms , per se' , but simply statements of what i see as the differences between \" babe : pig in the city \" being a very good film and the original being a great one .  but having said that , these observations are minor critiques at best .  as an overall piece , \" babe : pig in the city \" is a thoroughly enchanting and entertaining fable from beginning to end .  sure , it isn't a great film , but it is an excellent one that possesses elements of greatness .  it is a film that is magical with its charm and humor , exciting in its adventurous exploits , funny with its dry wit and cute voices , and breathtaking in its presentation .   \" babe : pig in the city \" may not be moviemaking at its absolute best , but it is on level of cinematic quality that is rarely achieved or seen in cinema .  as a result , if you choose to let this film pass you by , you will be missing of the year's best cinematic treats .  \n",
      "top-6:as i write the review for the new hanks/ryan romantic comedy you've got mail , i am acutely aware that i am typing it on a computer and sending it a billion miles away on the internet .  i am also aware that i have just spent the last 2 hours watching the world's biggest paid commercial for america online .  and i wonder : is that so bad ?  well , the commercial part is .  as for the movie , well , as long as i can watch tom hanks and meg ryan , i think i'll be okay .  to paraphrase james berardinelli , whose reviews i admire very much , tom hanks and meg ryan can act .  they are both wonderful , but for all of hanks' glorious work in serious films , such as his magnificent performance in saving private ryan , and his glorious triumph in philadelphia , i like him best when he's suitably obnoxious .  tom hanks is wonderful when he is obnoxious in a romantic comedy when he's going to get the girl : the only question is how ?  meg ryan , america's high school sweetheart , can act .  she's had a handful of memorable performances , including the great scene in the diner in when harry met sally ( i must not mention what she does , due to the , well , um , you get the idea , and if you don't , get the movie-- fantastic ) .  but , i like her best when she's , well , perky .  she is so adorably perky/cute that together with hanks , they are the most amazing onscreen duo in my short lifetime .  some people have them going back to really old classic romantic couples , but i don't really know .  all i know is that i just like them both .  they have such wonderfully kinetic chemistry that's really hard to resist , and i'm not going to even try .  they're just really , really cute , sweet , and charming .  hanks and ryan collaborate once again with nora ephron , who directed them in the megahit sleepless in seattle .  here , the setup is a little different .  kathleen kelly ( ryan ) owns a small children's bookstore which her mother founded 42 years ago and passed down to her .  she is successful , beautiful , and dates a well-known columnist with very radical idea ( kinnear ) .  she is also having an affair , of sorts .  you see , kathleen , with the handle shopgirl , is secretly emailing ny152 .  they have a strictly un-detailed relationship : there are no specifics , and they have no idea who each other is .  ny152 happens to be joe fox ( hanks ) , a multimillionaire bookseller who is the heir to the fortune of the fox chain of mega-bookstores , run by his father ( coleman ) .  fox books has decided to open a store on the west side , right across from a little children's bookseller named \" shop around the corner \" , run by a perky girl named kathleen kelly .  every morning , these two email each other silly , and every day , they fight \" to the death ! ! \" .  it's a charming premise , and one that works nicely , balancing the immense troubles kathleen is in with the romance she wants to have .  it also has the great sense of being a classic romance : there is no \" let's have sex tonight \" mantra , if you'll excuse my bluntness .  this is a solid romance built around that vague concept of love .  hmm . well , the movie goes through twists and turns , having some sad moments and happy ones , until at one moment tom hanks and meg ryan \" hook up \" , to use modern terminology , and kiss their way into happiness .  you know it's going to happen , the question is now ?  thankfully , ephron has a wonderful supporting cast with posey , kinnear , chappelle , and a host of others , including a great scene involving brothers , aunts , and two sweet kids .  it's all cute and wonderful , and for all of the idealism , it makes me feel good .  hanks is as obnoxious as ever on the outside and as warm on the inside as he always is .  he is , i believe , america's greatest actor .  does he show it here ?  nah .  but he's still tom hanks , and she's still meg ryan .  which is what this movie boils down to .  it's pure confection .  all the bits about the godfather , the jokes , the superb script , it's all really sweet .  there are some immense flaws , like pacing .  the last third of the movie really doesn't work as well as i would have liked , and for a romantic comedy , it's slow .  once hanks knows the secret , it gets really slow .  i even looked at my watch a couple times , to make sure ephron was going to deliver the big onscreen kiss i was waiting for , so that i could get home at a reasonable hour .  the other problem is that this movie is shaping up to be really dated .  e-mail ?  when my kids are my age , i don't know what we'll be using .  but hanks can do more with one eyeroll than anybody , and meg ryan just loves to dive into a pillow better than anyone in movie history .  they just work together , and it's nice to see .  it gives you , well , a smile .  the script helps with some great lines that are absolutely hilarious , and that always come at the exact right time to keep the audience awake .  i was arguing with my father on the drive back home on what the purpose of movies was .  i've always believed that movies are very powerful , very powerful indeed .  you see , mankind has three abilities he needs to survive : the ability to think , entertain , and procreate .  movies can definitely do the first two , and as for the third , well , i'd rather not think about that .  i always thought films that made you think enlightened you and made you see something from another viewpoint , and that films that entertained you were good , because you forgot about your troubles and thought about something nice for a night .  and i was thinking about how incredible a year tom hanks has had .  hanks was the driving force behind one of the year's best films in saving private ryan , which is one of those thinking films that truly made someone wonder about the world .  he's also half of the glue behind the year's best example of pure entertainment .  tom hanks and meg ryan are magical , as is this movie .  it's a sweet , lovely affair with a technology twist .  it may be a long commercial , but it gave me a pretty big smile on my face .  \n",
      "top-7:the thought-provoking question of tradition over morals is the subject directly at the core of \" leila , \" a powerfully articulated and subtle drama from famous iranian director dariush mehrjui , that is his first motion picture in a prosperous thirty-year career to gain u . s . distribution , thanks to first run features .  although unfamiliar with mehrjui's previous directing efforts , perhaps the reason for this is that , while the predicament at hand is no doubt exclusive to its own country , the heartbreaking and solely truthful emotions of the characters can easily be understood by all viewers .  set in modern-day iran , \" leila \" begins on the birthday of the title character ( leila hatami ) , after a brief prologue in which we are shown the first encounter between leila and her future husband , reza ( ali mosaffa ) .  as leila and reza set off to visit his parents , and then hers , where a birthday celebration has been planned , things seem rosy for the couple on the outside , but for leila , life isn't quite as sweet .  earlier , on that very same day , leila had gone to see her physician , and has ultimately discovered that she holds very little chance of ever conceiving a child .  when all of the conditions are ruled out , and leila passes up the possibility of adoption , reza firmly and lovingly tells her that he married her , and doesn't care at all about having children .  nonetheless , leila is ashamed that she will never be able to give him a baby , which is the societal norm , and her self-esteem is not helped at all by her domineering mother-in-law ( jamileh sheikhi ) , whose hopes to carry on the sacred family name vanishes once hearing the news ( reza is her only son ) .  bluntly explaining to leila that reza has always wished for children and , in a country where polygamy is an accepted tradition , she suggests that he take a second wife to bear a child with .  leila hesitantly agrees , and while she and reza are able to shallowly laugh afterwards about the hopeful womens' inadequacies , reza finally does meet a woman whom he claims to like , even though he refuses to go through with the marriage if leila doesn't give her full blessing .  there are no easy answers to be found within \" leila , \" a film that thoughtfully examines the central character's unfortunate plight , as well as the inner workings of leila herself , told through matter-of-fact narration .  almost completely taken over by her own shame , she has no option but to agree to her forceful mother-in-law's requests , even though she is unsure of how she will react if reza really does end up marrying another woman .  maybe because \" leila \" is from iran , the film will unquestionably be shocking for american audiences , since the concept of polygamy is looked upon by the characters as a more or less everyday occurrence .  leila , however , is unable to come to terms with the idea quite as easily , but feels it is her duty to make her husband happy , no matter what the circumstances .  one of the strongest aspects of the film is in its portrayal of the relationship between leila and reza , who married only three months after their first meeting , but obviously love each other very deeply .  it is this relationship that is the key ingredient to making what follows the opening scenes all the more powerful , and director mehrjui has succeeded just about as well as possible .  although seemingly unimportant at first glance , an early sequence where leila and reza are eating dinner and both are laughing , nearly uncontrollably , actually is one of the most vital moments in the first half , as it unmistakably sets the boundary for their unrequisite love for one another .  ditto for another scene in which reza gives leila a large stuffed animal for her birthday , and then reveals a beautiful necklace he has also gotten her .  these \" small \" moments are the perfect contrast for the solemn , outraging sequences in the latter half , in which reza drops leila off at the side of a busy road , and then zooms off to go on a date with another woman .  left there to ponder her quickly diminishing marriage , foolishly unbeknownst to reza , leila prays each time that the date will not go well , so she will be able to keep her husband to herself for a little while longer .  refusing to stay over at her parent's house , the film inevitably leads up to the second wedding night between reza and another woman , and in a sequence of extraordinary sorrow and potency , leila finds her whole being emotionally torn apart , as she is closed up in an upstairs bedroom as the marriage proceedings are going on down below .  despite her initial agreement to such a thing , leila realizes how much she has been betrayed by reza , whom she believed cared for her as much as she did of him .  sure , the whole second marriage was his mother's idea , but if he really did believe what he initially had told her about not wanting any children , then he could have still easily backed out , couldn't he ?  in the pivotal role of leila , who appears in every scene , leila hatami is nothing short of remarkable , injecting her character with an equal measure of startling strength , unavoidable vulnerability , and utter despair .  unlike most american films , in which everything always has to be spelled out for audiences , hatami says much more with just an elusive expression on her face than could possibly have been conveyed by words .  every bit a perfect match for hatami is ali mosaffa , as reza , a man who , i believe , does hold an unbreakable bond with his wife , but is too naive to realize what he will be doing to leila if he marries someone else .  for all of its strong aspects , \" leila \" isn't a perfect film .  on a technical level , i found many blatant punctiation and spelling mistakes within the subtitles that need to be fixed .  and concerning the plot developments , the final five minutes ring false when compared with everything that has come before .  mehrjui's decision to use an extremely stylized approach to the ending was the wrong choice , particularly in his almost comedic way of wrapping up the character of the spiteful mother-in-law , played memorably by jamileh sheikhi .  despite these minor missteps , \" leila \" is an important motion picture that should definately be sought out upon its limited may 16 release at new york's cinema village , and then on may 21 in la .  the thought-provoking questions that the film deals with is balanced evenly with its uneasy morales , and when the climax arrives , leila's self-worth is startlingly stripped away to reveal a victim led into complete devastation , to which there is no return .  it's difficult to not consider how leila's culminating interior demise could have been so simply avoided , had the other characters taken a second out of their own selfish lives to consider what leila , the major pawn in the unforgivable scheme , was going through .  \n",
      "top-8:touchstone pictures and spyglass entertainment presents a birnbaum / barber production in association with a jackie chan films limited production jackie chan owen wilson \" shanghai noon \" lucy liu music by randy edelman co producers ned dowd jules daly executive producer jackie chan willie chan and solon so produced by roger birnbaum gary barber and jonathan glickman written by alfred gough & miles millar directed by tom dey  rated pg-13 for mild language , adult situations , drug use , martial art action and violence .  107 minutes .  super 35mm / panavision ( 2 . 35 : 1 )  what can you say about jackie chan that hasn't already been said .  since the release of 'rumble in the bronx \" back in 1996 ( the u . s . release ) , jackie has become a fairly recognizable commodity on america's video shelves .  having made over 80 films , jackie has finally succeeded in bringing his style of action-comedy to the west .  his latest release , \" shanghai noon \" , is a joyful tribute / spoof of the classic western .  and by adding jackie chan into the genre , the tag line for the film ( \" the western gets a kick in the pants \" ) rings true .  jackie stars as chon wang , a lesser imperial guard in the forbidden city of china .  the royal princess pei pei ( lucy liu ) is set to be married to the obnoxious son of a nobleman from another prefecture .  unwilling to follow her father's wishes , princess pei pei with the assistance of her english tutor , decides to escape to america .  but this is all a ploy devised by exiled guard lo fong , which will lead to the princess' kidnapping and ransom .  unable to take any legal action , the ransom demands are met and three of the forbidden city's bravest guards ( played by cui ya hi , rong guang yu , and eric chen ) are ordered to transport the ransom payment to lo fong in carson city , nevada .  chon wang pleads with the imperial court and is given permission to join the team , as he is looked upon as a buffoon .  on a train in the u . s . jackie meets up with bandit roy o'bannon ( owen wilson ) .  he is much less of a bandit than he is a glory hog , looking simple for the notoriety and fame that being a bandit will bring him .  with his gang in tow , roy attempts to rob the train , when one of his gang murders the chinese interpreter of the royal court , who also happens to be chon wang's uncle .  chon wang gives chase , foiling the attempted robbery , but also leaving himself stranded in the desert .  as the disgraced guard wanders through the desert , he again comes upon roy , who has been left for dead by his former gang .  buried up to his neck in the desert , roy pleads with chon to dig him out .  chon demands to know where carson city is .  roy directs him , and chon leaves .  but not before sticking two chopsticks into roy's mouth and telling him to dig himself .  chon soon finds himself confronted by angry crow warriors , a friendly sioux tribe , gunslingers , a horse that thinks and behaves like a dog and an indian bride ( brandon merrill ) , before once again running into roy .   \" shanghai noon \" is just good fun .  the chemistry between the cast is remarkable .  the performances are all acceptable within the whimsical levels of the film .  jackie's performance is as good as anything he's done before .  he's not called on to do much acting here , as the character is not written with any depth .  but jackie's natural charisma shines through , and his comic timing is so perfect , both physically and ( surprise ) verbally that once again he commands the screen whenever he is on .  owen wilson , last seen in the embarrassing remake of \" the haunting \" , gives a good natured performance as roy o'bannon .  his innocence is refreshing and fun .  a bad guy that's not really bad .  his scenes with jackie are some of the best bits of comic dueling since martin and lewis .  lucy liu as princess pei pei is given little to do in the script , but for a change does not play a nymphet or some other deviant .  the character is a noble woman of status and wealth , but finds a greater cause as a result of her own imprisonment .  the rest of the performances are all broadly drawn comic performances .  nothing here is realistic , mind you .   \" shanghai noon \" is first and foremost a light , jovial film .  and the performances match that style with ease .  the cinematography by dan mindel is gorgeous .  using calgary , alberta as the prime location .  mr . mindel is able to create a lush , romantic western feel to the film .  nothing here really looks like nevada , but the locations are so beautifully shot and staged , the film can be looked upon as a loving tribute to earlier films of the genre .  and as such , the script by alfred gough and miles millar plays fast and loose with history , but with reverence to past films .  homage to such films as \" high noon \" ( obviously ) , \" red river \" and most notably \" butch cassidy & the sundance kid \" all bring a sense of nostalgia to the film .  it is a comforting experience .  at a time when the western is considered either old hat or irrelevant , here is a film that embraces those old attitudes and ( dare i say ) clich ? s and manages to make them palatable and refreshing .  here is a film that is not contemptuous of the genre .  this is the purest \" horse opera \" since the days of george o'brian or john wayne .  director tom dey has crafted a loving tribute to hollywood's past .  in this , his first film mr . dey shows both a love of character and of craftsmanship that is refreshing to see .  nothing here really stands out , or takes one's attention away from the story or action .  and that is as it should be , when jackie chan is your star .  and what of the action and stunts .  well , while not up to a level of \" drunken master 2 \" or any of jackie's hong kong films , \" shanghai noon \" is miles ahead of anything jackie has done in an american film before .  his timing , choreography , and creativity are still as sharp as ever .  jackie even gets to recreate a few scenes from his earlier films ( obvious to those of us that have seen those films , but refreshingly fun for those unfamiliar ) .  finally jackie can honestly say , that he has made an u . s . , his way and incorporating his style .  to sum up , \" shanghai noon \" is a fun summer confection .  not too heavy and not too light .  a fun and entertaining film that the whole family can enjoy ( parents be advised there are scenes of smoking , drunkenness and peyote use ) .  an enjoyable and charming film that can and will be enjoyed again and again .  \n",
      "top-9:is it just me , or have disney films gradually lost their appeal ?  i was almost stunned by the quality of \" who framed roger rabbit ? \" , a fun , unique look at a world where cartoons and people lived together .   \" the little mermaid \" harkened back to , and perhaps surpassed , the classic disney animations from the first half of the century .  however , the endless stream of \" the little mermaid \" wanna-be's is getting to me .  you know the spiel : a lame plot recycled from some well-known story , colorful , almost psychedelic animation , the lead character who learns a valuable moral lesson , the comedic sidekick/sidekicks , the seemingly unattainable love interest , a few catchy songs , a few in-jokes for adults , and the occasional out of place warner-brothers-coyote-fall-off-the-cliff type joke .  it's a formula , and like any formula , it gets tiresome .  that's why i'm delighted to hear that disney recently picked up the international distribution rights to the works of ghibli , a japanese cartoon studio .  from what i've seen of their movies ( \" kiki's delivery service \" and the already english-dubbed and american- distributed \" my neighbor totoro \" ) , foreign audiences are in for a treat .  these movies , particularly \" kiki's delivery service , \" are wonderfully original and entertaining .   \" kiki's delivery service \" starts with an unusual premise : kiki , upon hearing forecasts of clear skies , decides it is time for her to leave home .  this is unusual because kiki isn't a college student or a young adult making her start on the world , but a thirteen year old girl eager to begin her training as a witch .  her mother is also a witch , and as thirteen is the obligatory age for such training , her parents treat her leaving understandingly and put up only token resistance .  just the idea of a witch heroine may scare away some audiences , but no mention is made of the occult , and the subject is dealt with harmlessly throughout the movie : kiki's mother acts as a village doctor , and kiki is able to do no more than fly on a broom .  kiki must choose a city to move to , and what she chooses is the co-star of the movie : a german seaport town , far removed from the country life she has been used to .  initially lost in the impersonal hugeness of her surrounding , she's discouraged , and unable to support herself though her rudimentary skills as a witch .  on the verge of leaving for a new town , she uses her power of flight to deliver a pacifier to a baby who dropped it .  the favor eventually blossoms into her working as a courier , a one-persons delivery service .  this is where the movie becomes shockingly good .  kiki's job is a catalyst for her realizing the beauty of the city and the world around her .  the townspeople she is put in contact possess an inner worth that doesn't seem forced or artificial , but merely derived from looking at ordinary people in a different light .  they're three- dimensional , impossible to quickly evaluate , possessing of faults , and understandably reserving in kindness towards a strange girl .  however , each one has something about them , some interest or trait , that makes them interesting and unique .  the personal beauty of the citizens is complimented by the beauty of the surroundings : the seaport town genuinely looks impressive , capturing the european charm of a medieval city adapted to the more modern needs of the 1950's .  this beauty is beauty with depth ; for every detail left in , dozens are only hinted at .  i could probably go on all day , but i won't ; suffice it to say that many of these minor details could have been the highlight of the movie .  some of my favorites are kiki's relationship with the baker's husband : although he's quiet , never shown speaking to kiki throughout the movie , and he initially scares her , his kindness wins her friendship .  in the garage of a deliveree's house can be found a vintage model t . two old ladies have a relationship evolving from master-servant to friend-friend .  such details gives the impression that the beauty shown in the movie is only the tip of the iceberg .  added on top of this is a lesson on the importance of self-worth .  kiki initially seems to derive much of her self-worth from the beauty of her surroundings and the people around her , but an encounter with a rude girl crashes down her bewonderment , making her question the importance of such beauty .  this causes kiki to lose faith in herself .  however , kiki comes to realize not only the beauty of her surroundings , but the innate beauty inside her .  seeing kiki regain faith in herself is marvelous , and the principal device used to do it is so sublime that i don't even want to hint at it .  the ending of the movie has a subtle charm combined with a sense of awe and , ironically , the most disney-esque moment i've ever seen ; if you don't hold your breath in wonder you might want to get medical attention .  the movie steers free of many of the disney conventions : there is no violence , however cartoonish , no song-and-dance number , and kiki's pet cat jiji is more a friend than a comedic sidekick , although jiji is given many funny lines and scenes .  however , i would be surprised if disney doesn't give jiji more jokes , or at least the voice of some comedian .  refreshingly enough , the moral lesson of the movie is not self-contradicted , a habit disney movies have gotten into .   \" beauty and the beast \" 's beautiful belle , for instance , learned that beauty was derived from a person's inside , and was then rewarded by having the beast turn into a handsome prince in snazzy clothing .  kiki , on the other hand , learns to separate her wardrobe from her self-image , and nothing more is made of her early desires for better clothing than illustrating her increased maturity at the end of the film .  another difference with disney movies is in the style of animation for \" kiki's delivery service \" : not as colorful and dynamic as disney animation can be , but with a greater attention to realism and detail , it fits the movie to a t . this is particularly true with scenes of kiki's flights .  the extreme realism of the birds in flight near kiki is magnificent to behold , and helps these scenes capture the wonder of flight better than any other film i've ever seen .  i'm not sure when or how this movie will be released in the united states .  disney tentatively plans a theater release of \" monoko hime \" shortly following the summer '97 japanese release , and should start releasing the other ghibli films after that .  i'd guess that some will be released on video and some will be theatrically released in peak seasons with no competing disney release .  although the wait is unfortunate , it's good to know that it's being released at all , for \" kiki's delivery service \" is definitely a movie worthy of widespread promotion and release .  watch this movie .  along with \" man bites dog , \" and perhaps something by woody allen , this is the best movie i've ever seen .  \n",
      "top-10: * * * * * * minor plot spoilers in review * * * * * * * * * * * * no major spoilers are in review * * * * * *  the previous two \" alien \" films have each had their own unique styles to them .  the ridley scott's alien was very much a stylistic suspense film .  james cameron's aliens was much more of an action film .  and i liked each film separately for which it was .  now alien 3 is out .  and it is it's own film in the same right that alien and aliens were .  unlike aliens , alien 3 requires that you have seen aliens .  this is very important as the story picks up exactly were aliens left off .  the survivors of the expedition to lv-426 are returning home after battling and beating the aliens .  the climactic fight scene between ripley and the mother alien on the sulaco in aliens left behind one item , an egg .  in the opening sequence we see the egg hatch , find its quarry , which leads to a fire aboard the sulaco when the facehugger is injured , an leads the sulaco to jettison the hypersleep tubes in an escape vessel .  this vessel crash lands on fury 109 .  everyone in the vessel is killed , except ripley .  the facehugger is jettisoned with them and survives the crash .  fury 109 is an ex-mining/maximum security prison .  when closed down , some of the lifer prisoners decided to stay and live out the remaining years on the planet .  all the prisoners are men who have not seen a woman in many years .  ripley's arrival sparks a problem with the inmates .  as for the new haircut that ripley and the prisoner's sport , there is an infestation of lice on the planet .  being an ex-prison means that there is no way off the planet and no weapons .  so the prisoners and ripley are off to face the alien on their own .  i will not go into detail , but you can guess what happens here .  the alien is loose and no one believes ripley's outstanding story .  she finds comfort in the arms of the colony's doctor .  yes , after 57 years ripley has sex .  it is not gratuitous , in fact , we don't even see them kiss , but it is just as well .  a sweaty sex scene would not have worked in the context of the film .  there is a lot more gore in alien 3 .  in fact i would guess to say that there is more in alien 3 than either of the earlier two .  it also sports a new alien with 4 legs !  i won't say how , but it leads us to believe a few new things about the alien and its cycle , which i am sure will be explored in alien 4 .  sigourney weaver is back as ripley and provides another excellent performance of this character .  her scene during the autopsy of newt is enough to garnish her another academy nomination .  the rest of the cast is also quite good .  notably , charles dance as the doctor with whom ripley finds momentary escape from fury 109 .  alien 3 has a very distinct look .  this is due largely to its director , david fincher .  mr . fincher , who until now has only directed music videos and commercials , has done an incredible job here .  his direction is excellent and makes this film come to life in ways no \" alien \" film has before .  for mr . fincher , i see a long prosperous career ahead of him .  the music was also done by a newcomer to the film industry .  elliot goldenthal has created a deeply moving score which lends itself to the claustrophobic setting that the \" alien \" series been set in .  this time the score is not so much a rip off of star trek ii ( james horner's aliens ) .  this score has a choral back up at times and even lends itself to the old style of ennio morricone scoring .  this is a great score .  the ending to alien 3 is quite good .  there were times i thought that hollywood would come in and screw it up , but it played very nicely .  i will not ruin the ending for you .  go see the film .  i consider it to be a much more involved film than any of the other films released so far this season .  alien 3 is a worthy successor to aliens and alien .  and when they make alien 4 , perhaps they will be able to find yet another new direction to take it in .  \n"
     ]
    }
   ],
   "source": [
    "# fill in your code...\n",
    "preds_te_tfidf_prob = predict_proba(X_te_tfidf, w_tfidf)\n",
    "inds = np.argsort(preds_te_tfidf_prob,0)\n",
    "print('Top-10 positive:')\n",
    "for i in range(1,11):\n",
    "    print('top-{}:{}'.format(i,X_te_raw[inds[-i,0]]))"
   ]
  },
  {
   "cell_type": "markdown",
   "metadata": {
    "colab_type": "text",
    "id": "xICoVcPx0m4X"
   },
   "source": [
    "### Discuss how did you choose model hyperparameters (e.g. learning rate and regularisation strength)? What is the relation between training epochs and learning rate? How the regularisation strength affects performance?"
   ]
  },
  {
   "cell_type": "markdown",
   "metadata": {
    "colab_type": "text",
    "id": "BavNxuZP0m4Y"
   },
   "source": [
    "These hyperparameters are adjusted mainly by comparing the accuracy of the verification. The final selected learning rate is 0.01, and the regular strength is 0.01. Generally speaking, the larger the learning rate, the smaller the number of iterations required, but too large a learning rate will cause underfitting. If the learning rate is too small, the more iterations are required. Appropriate regular strength is helpful to prevent overfitting. If the strength is too large, it may cause underfitting. If it is too small, it will not prevent overfitting."
   ]
  },
  {
   "cell_type": "markdown",
   "metadata": {
    "colab_type": "text",
    "id": "pz_ngjeC0m4d"
   },
   "source": [
    "\n",
    "\n",
    "## Full Results\n",
    "\n",
    "Add here your results:\n",
    "\n",
    "| LR | Precision  | Recall  | F1-Score  |\n",
    "|:-:|:-:|:-:|:-:|\n",
    "| BOW-count  | 0.8309178743961353  |  0.86 |  0.8452088452088452 |\n",
    "| BOW-tfidf  | 0.8634146341463415  |  0.885 |  0.874074074074074 |\n"
   ]
  },
  {
   "cell_type": "markdown",
   "metadata": {
    "colab_type": "text",
    "id": "B8SbOOaJ0m4e"
   },
   "source": [
    "# Multi-class Logistic Regression \n",
    "\n",
    "Now you need to train a Multiclass Logistic Regression (MLR) Classifier by extending the Binary model you developed above. You will use the MLR model to perform topic classification on the AG news dataset consisting of three classes:"
   ]
  },
  {
   "cell_type": "markdown",
   "metadata": {
    "colab_type": "text",
    "id": "6Cxs4GsK0m4f"
   },
   "source": [
    "- Class 1: World\n",
    "- Class 2: Sports\n",
    "- Class 3: Business"
   ]
  },
  {
   "cell_type": "markdown",
   "metadata": {
    "colab_type": "text",
    "id": "3mXJopYs0m4j"
   },
   "source": [
    "You need to follow the same process as in Task 1 for data processing and feature extraction by reusing the functions you wrote."
   ]
  },
  {
   "cell_type": "code",
   "execution_count": 38,
   "metadata": {
    "ExecuteTime": {
     "end_time": "2020-02-15T14:18:03.212229Z",
     "start_time": "2020-02-15T14:18:03.185261Z"
    },
    "colab": {},
    "colab_type": "code",
    "id": "ziQ-UefV0m4k"
   },
   "outputs": [],
   "source": [
    "# fill in your code...\n",
    "\n",
    "data_tr = pd.read_csv('./data_topic/train.csv', header=None)\n",
    "data_dev = pd.read_csv('./data_topic/dev.csv', header=None)\n",
    "data_te = pd.read_csv('./data_topic/test.csv', header=None)\n"
   ]
  },
  {
   "cell_type": "code",
   "execution_count": 146,
   "metadata": {
    "ExecuteTime": {
     "end_time": "2020-02-15T14:18:03.515585Z",
     "start_time": "2020-02-15T14:18:03.508299Z"
    },
    "colab": {
     "base_uri": "https://localhost:8080/",
     "height": 204
    },
    "colab_type": "code",
    "id": "pDye8fYY0m4o",
    "outputId": "42e53fcb-2f89-4efa-adf4-13a4ad358f04"
   },
   "outputs": [
    {
     "data": {
      "text/html": [
       "<div>\n",
       "<style scoped>\n",
       "    .dataframe tbody tr th:only-of-type {\n",
       "        vertical-align: middle;\n",
       "    }\n",
       "\n",
       "    .dataframe tbody tr th {\n",
       "        vertical-align: top;\n",
       "    }\n",
       "\n",
       "    .dataframe thead th {\n",
       "        text-align: right;\n",
       "    }\n",
       "</style>\n",
       "<table border=\"1\" class=\"dataframe\">\n",
       "  <thead>\n",
       "    <tr style=\"text-align: right;\">\n",
       "      <th></th>\n",
       "      <th>0</th>\n",
       "      <th>1</th>\n",
       "    </tr>\n",
       "  </thead>\n",
       "  <tbody>\n",
       "    <tr>\n",
       "      <th>0</th>\n",
       "      <td>1</td>\n",
       "      <td>Reuters - Venezuelans turned out early\\and in ...</td>\n",
       "    </tr>\n",
       "    <tr>\n",
       "      <th>1</th>\n",
       "      <td>1</td>\n",
       "      <td>Reuters - South Korean police used water canno...</td>\n",
       "    </tr>\n",
       "    <tr>\n",
       "      <th>2</th>\n",
       "      <td>1</td>\n",
       "      <td>Reuters - Thousands of Palestinian\\prisoners i...</td>\n",
       "    </tr>\n",
       "    <tr>\n",
       "      <th>3</th>\n",
       "      <td>1</td>\n",
       "      <td>AFP - Sporadic gunfire and shelling took place...</td>\n",
       "    </tr>\n",
       "    <tr>\n",
       "      <th>4</th>\n",
       "      <td>1</td>\n",
       "      <td>AP - Dozens of Rwandan soldiers flew into Suda...</td>\n",
       "    </tr>\n",
       "  </tbody>\n",
       "</table>\n",
       "</div>"
      ],
      "text/plain": [
       "   0                                                  1\n",
       "0  1  Reuters - Venezuelans turned out early\\and in ...\n",
       "1  1  Reuters - South Korean police used water canno...\n",
       "2  1  Reuters - Thousands of Palestinian\\prisoners i...\n",
       "3  1  AFP - Sporadic gunfire and shelling took place...\n",
       "4  1  AP - Dozens of Rwandan soldiers flew into Suda..."
      ]
     },
     "execution_count": 146,
     "metadata": {
      "tags": []
     },
     "output_type": "execute_result"
    }
   ],
   "source": [
    "data_tr.head()"
   ]
  },
  {
   "cell_type": "code",
   "execution_count": 39,
   "metadata": {
    "ExecuteTime": {
     "end_time": "2020-02-15T14:18:03.806523Z",
     "start_time": "2020-02-15T14:18:03.798279Z"
    },
    "colab": {},
    "colab_type": "code",
    "id": "1H8aQ0eq0m4w"
   },
   "outputs": [],
   "source": [
    "# fill in your code...\n",
    "def convert2np(data):\n",
    "  X=[]\n",
    "  y=[]\n",
    "  for i in range(len(data)):\n",
    "    X.append(data.iat[i,1])\n",
    "    y.append(data.iat[i,0])\n",
    "  \n",
    "  return X, np.array(y)\n",
    "\n",
    "\n",
    "X_tr_raw, Y_tr = convert2np(data_tr)\n",
    "X_dev_raw, Y_dev = convert2np(data_dev)\n",
    "X_te_raw, Y_te = convert2np(data_te)"
   ]
  },
  {
   "cell_type": "code",
   "execution_count": 40,
   "metadata": {
    "ExecuteTime": {
     "end_time": "2020-02-15T14:18:04.508938Z",
     "start_time": "2020-02-15T14:18:04.171071Z"
    },
    "colab": {
     "base_uri": "https://localhost:8080/",
     "height": 122
    },
    "colab_type": "code",
    "id": "0sDrqlaP0m4z",
    "outputId": "4bef4a44-c5bb-40e0-f962-062a50a6bf15"
   },
   "outputs": [
    {
     "name": "stdout",
     "output_type": "stream",
     "text": [
      "5000\n",
      "\n",
      "['start', 'sharp', 'applied', 'pontiff', ('held', 'check'), ('army', 'said'), 'early', ('jewish', 'west', 'bank'), 'vice', ('economic', 'reports', 'showed'), 'division', 'governor', ('end', 'their'), 'your', 'labor', 'communications', 'exhibition', ('judges', 'table'), ('stocks', 'quickinfo', 'fullquote'), ('running', 'out', 'prospective'), 'troubled', ('world', 'cup'), ('prime', 'minister', 'john'), ('monday', 'reported'), 'offers', 'lleyton', 'toppled', ('surged', 'year', 'mortgage'), ('new', 'year'), ('foreign', 'minister'), 'party', 'brian', ('cold', 'water'), ('quarterly', 'profit', 'rose'), ('agreed', 'buy'), ('bank', 'settlements'), 'tiger', ('new', 'york', 'aug'), ('improvement', 'retailer'), ('radical', 'cleric'), 'scored', ('athens', 'reuters'), ('explosion', 'tore', 'through'), ('economic', 'data'), 'stood', 'out', 'haven', ('major', 'title'), 'denver', ('jerusalem', 'reuters', 'prime'), ('congolese', 'tutsis'), ('fresh', 'high'), 'janus', ('head', 'head'), 'brazil', ('closely', 'watched'), 'perfect', 'xue', ('homes', 'jewish', 'west'), 'production', ('yesterday', 'but'), ('during', 'independence', 'day'), ('weeks', 'ago'), 'boys', ('next', 'month'), 'cink', 'managing', 'madrid', 'terrorist', ('overboard', 'affair'), 'prominent', 'sharing', ('lower', 'oil'), ('hang', 'over', 'stock'), ('region', 'south'), ('crude', 'prices'), 'swimmers', ('vladimir', 'putin'), ('radical', 'iraqi', 'cleric'), ('profit', 'reversing', 'year'), 'club', 'marines', 'assistant', 'kuala', 'product', 'string', ('eagerly', 'awaited'), 'freddie', 'busch', 'block', 'separatists', ('less', 'than', 'billion'), 'further', ('san', 'jose', 'calif'), ('sell', 'stock'), ('oil', 'prices', 'fell'), 'shopping', 'aug', ('missed', 'drug', 'test'), ('said', 'tuesday', 'plans')]\n",
      "\n",
      "[('reuters', 631), ('said', 432), ('tuesday', 413), ('wednesday', 344), ('new', 325), ('after', 295), ('ap', 275), ('athens', 245), ('monday', 221), ('first', 210)]\n"
     ]
    }
   ],
   "source": [
    "vocab, df, ngram_counts = get_vocab(X_tr_raw, ngram_range=(1,3), keep_topN=5000, stop_words=stop_words)\n",
    "print(len(vocab))\n",
    "print()\n",
    "print(list(vocab)[:100])\n",
    "print()\n",
    "print(df.most_common()[:10])"
   ]
  },
  {
   "cell_type": "code",
   "execution_count": 41,
   "metadata": {
    "ExecuteTime": {
     "end_time": "2020-02-15T14:18:04.706802Z",
     "start_time": "2020-02-15T14:18:04.511061Z"
    },
    "colab": {},
    "colab_type": "code",
    "id": "5PBIUpQD0m45"
   },
   "outputs": [],
   "source": [
    "# fill in your code...\n",
    "vocab_word = {}\n",
    "word_vocab = {}\n",
    "i = 0\n",
    "for i, w in enumerate(list(vocab)):\n",
    "    vocab_word[i] = w\n",
    "    word_vocab[w] = i\n",
    "\n",
    "def get_n_grams(X_raw):\n",
    "    X_n_grams = []\n",
    "    for x_raw in X_raw:\n",
    "        X_n_grams.append(extract_ngrams(x_raw, ngram_range=(1,3), token_pattern=r'\\b[A-Za-z][A-Za-z]+\\b', stop_words=stop_words, vocab=vocab))\n",
    "    return X_n_grams\n",
    "\n",
    "X_tr_ngram = get_n_grams(X_tr_raw)\n",
    "X_dev_ngram = get_n_grams(X_dev_raw)\n",
    "X_te_ngram = get_n_grams(X_te_raw)\n",
    "\n",
    "\n",
    "X_tr_count = vectorise(X_tr_ngram, vocab)\n",
    "X_dev_count = vectorise(X_dev_ngram, vocab)\n",
    "X_te_count = vectorise(X_te_ngram, vocab)\n",
    "\n",
    "Idfs = []\n",
    "for k in list(vocab):\n",
    "    df = 0\n",
    "    for x_ngram in X_tr_ngram:\n",
    "        if k in x_ngram:\n",
    "            df += 1\n",
    "    Idfs.append(np.log10(X_tr_count.shape[0]/(df+1)))\n",
    "\n",
    "Idfs = np.array(Idfs)\n",
    "\n",
    "X_tr_tfidf = X_tr_count * Idfs\n",
    "X_dev_tfidf = X_dev_count * Idfs\n",
    "X_te_tfidf = X_te_count * Idfs\n",
    "\n",
    "\n"
   ]
  },
  {
   "cell_type": "markdown",
   "metadata": {
    "colab_type": "text",
    "id": "d9B1MWPg0m48"
   },
   "source": [
    "Now you need to change `SGD` to support multiclass datasets. First you need to develop a `softmax` function. It takes as input:\n",
    "\n",
    "- `z`: array of real numbers \n",
    "\n",
    "and returns:\n",
    "\n",
    "- `smax`: the softmax of `z`"
   ]
  },
  {
   "cell_type": "code",
   "execution_count": 42,
   "metadata": {
    "ExecuteTime": {
     "end_time": "2020-02-15T14:18:07.440998Z",
     "start_time": "2020-02-15T14:18:07.437915Z"
    },
    "colab": {},
    "colab_type": "code",
    "id": "xAGi68sz0m49"
   },
   "outputs": [],
   "source": [
    "def softmax(z):\n",
    "    \n",
    "    # fill in your code...\n",
    "    smax = np.exp(z) / np.sum(np.exp(z),1,keepdims=True)\n",
    "    return smax"
   ]
  },
  {
   "cell_type": "markdown",
   "metadata": {
    "colab_type": "text",
    "id": "2fYARV_Z0m4_"
   },
   "source": [
    "Then modify `predict_proba` and `predict_class` functions for the multiclass case:"
   ]
  },
  {
   "cell_type": "code",
   "execution_count": 43,
   "metadata": {
    "ExecuteTime": {
     "end_time": "2020-02-15T14:18:07.445451Z",
     "start_time": "2020-02-15T14:18:07.442851Z"
    },
    "colab": {},
    "colab_type": "code",
    "id": "qoFPzWHa0m5A"
   },
   "outputs": [],
   "source": [
    "def predict_proba(X, weights):\n",
    "    \n",
    "    # fill in your code...\n",
    "    preds_proba = softmax(np.matmul(X,weights.T))\n",
    "    return preds_proba"
   ]
  },
  {
   "cell_type": "code",
   "execution_count": 44,
   "metadata": {
    "ExecuteTime": {
     "end_time": "2020-02-15T14:18:07.449814Z",
     "start_time": "2020-02-15T14:18:07.447145Z"
    },
    "colab": {},
    "colab_type": "code",
    "id": "zPcxBC0W0m5D"
   },
   "outputs": [],
   "source": [
    "def predict_class(X, weights):\n",
    "    \n",
    "    # fill in your code...\n",
    "    preds_proba = predict_proba(X, weights)\n",
    "    preds_class = np.argmax(preds_proba, 1)\n",
    "    return preds_class+1"
   ]
  },
  {
   "cell_type": "markdown",
   "metadata": {
    "colab_type": "text",
    "id": "GuLDS_6c0m5I"
   },
   "source": [
    "Toy example and expected functionality of the functions above:"
   ]
  },
  {
   "cell_type": "code",
   "execution_count": 45,
   "metadata": {
    "ExecuteTime": {
     "end_time": "2020-02-15T14:18:08.059902Z",
     "start_time": "2020-02-15T14:18:08.056774Z"
    },
    "colab": {},
    "colab_type": "code",
    "id": "7kiKbnB00m5J"
   },
   "outputs": [],
   "source": [
    "X = np.array([[0.1,0.2],[0.2,0.1],[0.1,-0.2]])\n",
    "w = np.array([[2,-5],[-5,2]])"
   ]
  },
  {
   "cell_type": "code",
   "execution_count": 46,
   "metadata": {
    "ExecuteTime": {
     "end_time": "2020-02-15T14:18:08.495464Z",
     "start_time": "2020-02-15T14:18:08.491074Z"
    },
    "colab": {
     "base_uri": "https://localhost:8080/",
     "height": 68
    },
    "colab_type": "code",
    "id": "-2VEtW3z0m5O",
    "outputId": "b71d592f-5d59-405a-917f-37d101a6ea5c"
   },
   "outputs": [
    {
     "data": {
      "text/plain": [
       "array([[0.33181223, 0.66818777],\n",
       "       [0.66818777, 0.33181223],\n",
       "       [0.89090318, 0.10909682]])"
      ]
     },
     "execution_count": 46,
     "metadata": {},
     "output_type": "execute_result"
    }
   ],
   "source": [
    "predict_proba(X, w)"
   ]
  },
  {
   "cell_type": "code",
   "execution_count": 47,
   "metadata": {
    "ExecuteTime": {
     "end_time": "2020-02-15T14:18:08.714215Z",
     "start_time": "2020-02-15T14:18:08.710098Z"
    },
    "colab": {
     "base_uri": "https://localhost:8080/",
     "height": 34
    },
    "colab_type": "code",
    "id": "IA2kW8_50m5S",
    "outputId": "7ba96d66-9ede-4c12-9a71-3358db7dd398"
   },
   "outputs": [
    {
     "data": {
      "text/plain": [
       "array([2, 1, 1], dtype=int64)"
      ]
     },
     "execution_count": 47,
     "metadata": {},
     "output_type": "execute_result"
    }
   ],
   "source": [
    "predict_class(X, w)"
   ]
  },
  {
   "cell_type": "markdown",
   "metadata": {
    "colab_type": "text",
    "id": "PvGb7Ylk0m5U"
   },
   "source": [
    "Now you need to compute the categorical cross entropy loss (extending the binary loss to support multiple classes)."
   ]
  },
  {
   "cell_type": "code",
   "execution_count": 48,
   "metadata": {
    "ExecuteTime": {
     "end_time": "2020-02-15T14:30:48.047338Z",
     "start_time": "2020-02-15T14:30:48.044395Z"
    },
    "colab": {},
    "colab_type": "code",
    "id": "pjZ6S7cy0m5V"
   },
   "outputs": [],
   "source": [
    "def categorical_loss(X, Y, weights, num_classes=5, alpha=0.00001):\n",
    "    \n",
    "    # fill in your code...\n",
    "    log_sf = np.log(predict_proba(X, weights))\n",
    "    l = 0\n",
    "    for i in range(X.shape[0]):\n",
    "        l += log_sf[i, Y[i]-1]\n",
    "    l /= X.shape[0]\n",
    "    l = -l + alpha * np.sum(weights**2)\n",
    "    return l\n",
    "    "
   ]
  },
  {
   "cell_type": "markdown",
   "metadata": {
    "ExecuteTime": {
     "end_time": "2020-02-15T14:08:59.937442Z",
     "start_time": "2020-02-15T14:08:59.932221Z"
    },
    "colab_type": "text",
    "id": "s1ePtUO10m5c"
   },
   "source": [
    "Finally you need to modify SGD to support the categorical cross entropy loss:"
   ]
  },
  {
   "cell_type": "code",
   "execution_count": 49,
   "metadata": {
    "ExecuteTime": {
     "end_time": "2020-02-15T14:18:10.176885Z",
     "start_time": "2020-02-15T14:18:10.165021Z"
    },
    "colab": {},
    "colab_type": "code",
    "id": "fu_gusWy0m5d"
   },
   "outputs": [],
   "source": [
    "def SGD(X_tr, Y_tr, X_dev=[], Y_dev=[], num_classes=5, lr=0.01, alpha=0.00001, epochs=5, tolerance=0.001, print_progress=True):\n",
    "    \n",
    "    # fill in your code...\n",
    "    training_loss_history = []\n",
    "    validation_loss_history = []\n",
    "\n",
    "    weights = np.zeros([num_classes, X_tr.shape[1]])\n",
    "    for epoch in range(epochs):\n",
    "        inds = np.random.permutation(X_tr.shape[0])\n",
    "        for ind in inds:\n",
    "            dz = predict_proba(X_tr[ind:ind+1,:], weights)\n",
    "            dz[0, Y_tr[ind]-1] -= 1\n",
    "            weights -= lr * ( dz.T * X_tr[ind:ind+1,:] + 2*alpha*weights)\n",
    "\n",
    "\n",
    "        training_loss_history.append(categorical_loss(X_tr, Y_tr, weights, alpha))\n",
    "        validation_loss_history.append(categorical_loss(X_dev, Y_dev, weights, alpha))\n",
    "\n",
    "        if print_progress:\n",
    "            print('Epoch: {}| Training loss: {}| Validation loss: {}'.format(epoch, training_loss_history[-1], validation_loss_history[-1]))\n",
    "\n",
    "\n",
    "        if len(validation_loss_history)>=2 and np.abs(validation_loss_history[-1] - validation_loss_history[-2]) < tolerance:\n",
    "            break\n",
    "\n",
    "    return weights, training_loss_history, validation_loss_history"
   ]
  },
  {
   "cell_type": "markdown",
   "metadata": {
    "ExecuteTime": {
     "end_time": "2020-02-15T14:10:15.772383Z",
     "start_time": "2020-02-15T14:10:15.767855Z"
    },
    "colab_type": "text",
    "id": "xjRAgsP20m5f"
   },
   "source": [
    "Now you are ready to train and evaluate you MLR following the same steps as in Task 1 for both Count and tfidf features:"
   ]
  },
  {
   "cell_type": "code",
   "execution_count": 50,
   "metadata": {
    "ExecuteTime": {
     "end_time": "2020-02-15T14:18:55.324956Z",
     "start_time": "2020-02-15T14:18:11.720952Z"
    },
    "colab": {
     "base_uri": "https://localhost:8080/",
     "height": 1000
    },
    "colab_type": "code",
    "id": "9OEC2WXf0m5g",
    "outputId": "b19d484e-8c1a-4367-ecff-49c6d137b8a9"
   },
   "outputs": [
    {
     "name": "stdout",
     "output_type": "stream",
     "text": [
      "Epoch: 0| Training loss: 1.0183205870485392| Validation loss: 1.055654806642284\n",
      "Epoch: 1| Training loss: 0.9585290822796732| Validation loss: 1.0197265143389236\n",
      "Epoch: 2| Training loss: 0.9100640805120658| Validation loss: 0.988244071653799\n",
      "Epoch: 3| Training loss: 0.8690908936649964| Validation loss: 0.9600583152685553\n",
      "Epoch: 4| Training loss: 0.8337162410391906| Validation loss: 0.9345365383191114\n",
      "Epoch: 5| Training loss: 0.8027480922982453| Validation loss: 0.9112902515910608\n",
      "Epoch: 6| Training loss: 0.7753068859720867| Validation loss: 0.8899868109889489\n",
      "Epoch: 7| Training loss: 0.750797936722167| Validation loss: 0.8703964047747185\n",
      "Epoch: 8| Training loss: 0.7287047429846152| Validation loss: 0.8523060329563129\n",
      "Epoch: 9| Training loss: 0.7086806281675166| Validation loss: 0.8355483052600149\n",
      "Epoch: 10| Training loss: 0.6904106808987311| Validation loss: 0.819979649707116\n",
      "Epoch: 11| Training loss: 0.6736316625627308| Validation loss: 0.8054567305479675\n",
      "Epoch: 12| Training loss: 0.6581575309412191| Validation loss: 0.7918884828490058\n",
      "Epoch: 13| Training loss: 0.6438356317131773| Validation loss: 0.7791834656079394\n",
      "Epoch: 14| Training loss: 0.6305230800972177| Validation loss: 0.7672438211410528\n",
      "Epoch: 15| Training loss: 0.618108329169683| Validation loss: 0.756013783865588\n",
      "Epoch: 16| Training loss: 0.6064915076472108| Validation loss: 0.7454193217791031\n",
      "Epoch: 17| Training loss: 0.5955884511213363| Validation loss: 0.7354092308321517\n",
      "Epoch: 18| Training loss: 0.5853239360141671| Validation loss: 0.7259345506909725\n",
      "Epoch: 19| Training loss: 0.5756339882861538| Validation loss: 0.7169377976617145\n",
      "Epoch: 20| Training loss: 0.5664781754275754| Validation loss: 0.7084075486178184\n",
      "Epoch: 21| Training loss: 0.557796330084594| Validation loss: 0.7002853257569429\n",
      "Epoch: 22| Training loss: 0.5495505291059369| Validation loss: 0.6925393334427636\n",
      "Epoch: 23| Training loss: 0.5417083872452721| Validation loss: 0.6851584371297299\n",
      "Epoch: 24| Training loss: 0.5342338968430717| Validation loss: 0.6781036617430586\n",
      "Epoch: 25| Training loss: 0.5270960820488096| Validation loss: 0.6713521437628621\n",
      "Epoch: 26| Training loss: 0.5202734114705138| Validation loss: 0.6648940139806324\n",
      "Epoch: 27| Training loss: 0.5137404338419197| Validation loss: 0.6586991991221609\n",
      "Epoch: 28| Training loss: 0.507476205376955| Validation loss: 0.652751442070228\n",
      "Epoch: 29| Training loss: 0.501463456857247| Validation loss: 0.6470389194746458\n",
      "Epoch: 30| Training loss: 0.495686839703129| Validation loss: 0.6415547017999489\n",
      "Epoch: 31| Training loss: 0.4901264683675106| Validation loss: 0.6362683066761177\n",
      "Epoch: 32| Training loss: 0.4847710071246968| Validation loss: 0.6311756691263649\n",
      "Epoch: 33| Training loss: 0.47960732748034296| Validation loss: 0.6262716790807139\n",
      "Epoch: 34| Training loss: 0.47462554121723716| Validation loss: 0.6215406686486357\n",
      "Epoch: 35| Training loss: 0.4698134187573478| Validation loss: 0.6169747470740735\n",
      "Epoch: 36| Training loss: 0.4651618469084928| Validation loss: 0.61255832355694\n",
      "Epoch: 37| Training loss: 0.4606615920594449| Validation loss: 0.6082849857354641\n",
      "Epoch: 38| Training loss: 0.4563050992987528| Validation loss: 0.6041528825642631\n",
      "Epoch: 39| Training loss: 0.45208233139834425| Validation loss: 0.6001495067844742\n",
      "Epoch: 40| Training loss: 0.4479891518965357| Validation loss: 0.5962725076380612\n",
      "Epoch: 41| Training loss: 0.4440174340338397| Validation loss: 0.5925133199295717\n",
      "Epoch: 42| Training loss: 0.4401617388838649| Validation loss: 0.5888690959007856\n",
      "Epoch: 43| Training loss: 0.43641595170888586| Validation loss: 0.5853329264637549\n",
      "Epoch: 44| Training loss: 0.4327748276248356| Validation loss: 0.5819012119925748\n",
      "Epoch: 45| Training loss: 0.42923386524285867| Validation loss: 0.5785708850602106\n",
      "Epoch: 46| Training loss: 0.425788051982841| Validation loss: 0.575332489740259\n",
      "Epoch: 47| Training loss: 0.4224339596482068| Validation loss: 0.5721881333376689\n",
      "Epoch: 48| Training loss: 0.41916666388960966| Validation loss: 0.56912435297956\n",
      "Epoch: 49| Training loss: 0.4159827025182024| Validation loss: 0.5661422977940868\n",
      "Epoch: 50| Training loss: 0.4128784697006126| Validation loss: 0.5632352525114891\n",
      "Epoch: 51| Training loss: 0.40985128946567617| Validation loss: 0.5604124431369034\n",
      "Epoch: 52| Training loss: 0.4068964160396728| Validation loss: 0.5576580422754577\n",
      "Epoch: 53| Training loss: 0.4040119745264965| Validation loss: 0.5549716691739675\n",
      "Epoch: 54| Training loss: 0.4011949397709238| Validation loss: 0.55235009089857\n",
      "Epoch: 55| Training loss: 0.39844282486166| Validation loss: 0.5497939821019213\n",
      "Epoch: 56| Training loss: 0.39575302771104115| Validation loss: 0.547299950849996\n",
      "Epoch: 57| Training loss: 0.3931232669685692| Validation loss: 0.5448641716577437\n",
      "Epoch: 58| Training loss: 0.3905516580377008| Validation loss: 0.542489437554329\n",
      "Epoch: 59| Training loss: 0.388035842155289| Validation loss: 0.5401671747111592\n",
      "Epoch: 60| Training loss: 0.38557431197200875| Validation loss: 0.5378972512898565\n",
      "Epoch: 61| Training loss: 0.38316440846036526| Validation loss: 0.5356816946007664\n",
      "Epoch: 62| Training loss: 0.3808039266035813| Validation loss: 0.5335093999480047\n",
      "Epoch: 63| Training loss: 0.378492142184077| Validation loss: 0.5313908109959065\n",
      "Epoch: 64| Training loss: 0.37622717160123925| Validation loss: 0.5293182920129177\n",
      "Epoch: 65| Training loss: 0.37400740481202255| Validation loss: 0.5272899141631587\n",
      "Epoch: 66| Training loss: 0.37183087933373643| Validation loss: 0.5252952900056392\n",
      "Epoch: 67| Training loss: 0.36969738846743366| Validation loss: 0.5233532679193563\n",
      "Epoch: 68| Training loss: 0.36760428739794504| Validation loss: 0.5214427124842291\n",
      "Epoch: 69| Training loss: 0.36555086717624746| Validation loss: 0.5195732990017612\n",
      "Epoch: 70| Training loss: 0.3635359284283092| Validation loss: 0.5177480607987448\n",
      "Epoch: 71| Training loss: 0.36155834373967166| Validation loss: 0.5159566413825233\n",
      "Epoch: 72| Training loss: 0.35961684242627673| Validation loss: 0.5142022396247985\n",
      "Epoch: 73| Training loss: 0.3577103292684175| Validation loss: 0.5124784472876109\n",
      "Epoch: 74| Training loss: 0.35583785934131223| Validation loss: 0.510788389846923\n",
      "Epoch: 75| Training loss: 0.3539984798306077| Validation loss: 0.5091365744242327\n",
      "Epoch: 76| Training loss: 0.3521912064448119| Validation loss: 0.5075119989233733\n",
      "Epoch: 77| Training loss: 0.35041519092399015| Validation loss: 0.5059194575678724\n",
      "Epoch: 78| Training loss: 0.3486691831431478| Validation loss: 0.5043554388423356\n",
      "Epoch: 79| Training loss: 0.3469523375785942| Validation loss: 0.5028197965910923\n",
      "Epoch: 80| Training loss: 0.3452640558492438| Validation loss: 0.5013102990161037\n",
      "Epoch: 81| Training loss: 0.34360411081068265| Validation loss: 0.4998323747917536\n",
      "Epoch: 82| Training loss: 0.3419710544468571| Validation loss: 0.4983784538666401\n",
      "Epoch: 83| Training loss: 0.34036455907151875| Validation loss: 0.4969506809469851\n",
      "Epoch: 84| Training loss: 0.33878338723755097| Validation loss: 0.4955395029264551\n",
      "Epoch: 85| Training loss: 0.3372274656656828| Validation loss: 0.4941608119878727\n",
      "Epoch: 86| Training loss: 0.3356959952087012| Validation loss: 0.4928108426922504\n",
      "Epoch: 87| Training loss: 0.3341882073404212| Validation loss: 0.4914850869102866\n",
      "Epoch: 88| Training loss: 0.33270343455534457| Validation loss: 0.4901752906475613\n",
      "Epoch: 89| Training loss: 0.3312414126911921| Validation loss: 0.4888896797903016\n",
      "Epoch: 90| Training loss: 0.3298015308187631| Validation loss: 0.48762296577557535\n",
      "Epoch: 91| Training loss: 0.32838318405791994| Validation loss: 0.4863783562975992\n",
      "Epoch: 92| Training loss: 0.32698551712846247| Validation loss: 0.4851542341191328\n",
      "Epoch: 93| Training loss: 0.32560855217137474| Validation loss: 0.48395143310247873\n",
      "Epoch: 94| Training loss: 0.32425157889133693| Validation loss: 0.48276823977060573\n",
      "Epoch: 95| Training loss: 0.3229140358432549| Validation loss: 0.4816010499237228\n",
      "Epoch: 96| Training loss: 0.3215953048136153| Validation loss: 0.48045423243558244\n",
      "Epoch: 97| Training loss: 0.32029525422308097| Validation loss: 0.47932332257611354\n",
      "Epoch: 98| Training loss: 0.31901345541085185| Validation loss: 0.4782076753061805\n",
      "Epoch: 99| Training loss: 0.31774943096628927| Validation loss: 0.4771099296804875\n"
     ]
    },
    {
     "name": "stdout",
     "output_type": "stream",
     "text": [
      "Epoch: 100| Training loss: 0.3165030010493662| Validation loss: 0.4760350423837668\n",
      "Epoch: 101| Training loss: 0.31527337808976275| Validation loss: 0.4749714256274381\n",
      "Epoch: 102| Training loss: 0.31406074820850555| Validation loss: 0.47392552019245937\n",
      "Epoch: 103| Training loss: 0.31286401245549755| Validation loss: 0.47289240666748394\n",
      "Epoch: 104| Training loss: 0.31168328007472346| Validation loss: 0.4718760988823875\n",
      "Epoch: 105| Training loss: 0.31051812302459986| Validation loss: 0.47087513248618046\n",
      "Epoch: 106| Training loss: 0.3093681951522725| Validation loss: 0.46988576958864786\n"
     ]
    }
   ],
   "source": [
    "w_count, loss_tr_count, dev_loss_count = SGD(X_tr_count, Y_tr, \n",
    "                                             X_dev=X_dev_count, \n",
    "                                             Y_dev=Y_dev,\n",
    "                                             num_classes=3,\n",
    "                                             lr=0.0003, \n",
    "                                             alpha=0.001, \n",
    "                                             epochs=200)"
   ]
  },
  {
   "cell_type": "markdown",
   "metadata": {
    "colab_type": "text",
    "id": "-0M1h-GF0m5i"
   },
   "source": [
    "Plot training and validation process and explain if your model overfit, underfit or is about right:"
   ]
  },
  {
   "cell_type": "code",
   "execution_count": 51,
   "metadata": {
    "ExecuteTime": {
     "end_time": "2020-02-15T14:31:09.903453Z",
     "start_time": "2020-02-15T14:31:09.901360Z"
    },
    "colab": {
     "base_uri": "https://localhost:8080/",
     "height": 296
    },
    "colab_type": "code",
    "id": "Wt_VkAwB0m5j",
    "outputId": "7272b512-748f-479f-d8b8-98b514ed6da2"
   },
   "outputs": [
    {
     "data": {
      "text/plain": [
       "Text(0, 0.5, 'Loss')"
      ]
     },
     "execution_count": 51,
     "metadata": {},
     "output_type": "execute_result"
    },
    {
     "data": {
      "image/png": "[encoded data removed]",
      "text/plain": [
       "<Figure size 432x288 with 1 Axes>"
      ]
     },
     "metadata": {
      "needs_background": "light"
     },
     "output_type": "display_data"
    }
   ],
   "source": [
    "# fill in your code...\n",
    "plt.plot(range(len(loss_tr_count)), loss_tr_count, 'b-', label='training loss')\n",
    "plt.plot(range(len(dev_loss_count)), dev_loss_count, label = 'validation loss', color='coral')\n",
    "plt.legend()\n",
    "plt.xlabel('Epochs')\n",
    "plt.ylabel('Loss')"
   ]
  },
  {
   "cell_type": "markdown",
   "metadata": {
    "colab_type": "text",
    "id": "b-B1sL430m5k"
   },
   "source": [
    "Compute accuracy, precision, recall and F1-scores:"
   ]
  },
  {
   "cell_type": "code",
   "execution_count": 52,
   "metadata": {
    "ExecuteTime": {
     "end_time": "2020-02-15T14:32:12.606498Z",
     "start_time": "2020-02-15T14:32:12.604164Z"
    },
    "colab": {
     "base_uri": "https://localhost:8080/",
     "height": 85
    },
    "colab_type": "code",
    "id": "hia03eFe0m5l",
    "outputId": "1e6e01c8-562e-403b-ca83-ce71bb2a01bf"
   },
   "outputs": [
    {
     "name": "stdout",
     "output_type": "stream",
     "text": [
      "Accuracy: 0.8622222222222222\n",
      "Precision: 0.8639604931729078\n",
      "Recall: 0.8622222222222223\n",
      "F1-Score: 0.8615588860037918\n"
     ]
    }
   ],
   "source": [
    "# fill in your code...\n",
    "preds_te = predict_class(X_te_count, w_count)\n",
    "print('Accuracy:', accuracy_score(Y_te,preds_te))\n",
    "print('Precision:', precision_score(Y_te,preds_te,average='macro'))\n",
    "print('Recall:', recall_score(Y_te,preds_te,average='macro'))\n",
    "print('F1-Score:', f1_score(Y_te,preds_te,average='macro'))"
   ]
  },
  {
   "cell_type": "markdown",
   "metadata": {
    "colab_type": "text",
    "id": "0_ZNj1aV0m5o"
   },
   "source": [
    "Print the top-10 words for each class respectively."
   ]
  },
  {
   "cell_type": "code",
   "execution_count": 53,
   "metadata": {
    "ExecuteTime": {
     "end_time": "2020-02-15T14:32:26.224693Z",
     "start_time": "2020-02-15T14:32:26.221886Z"
    },
    "colab": {
     "base_uri": "https://localhost:8080/",
     "height": 598
    },
    "colab_type": "code",
    "id": "HOTQDxdO0m5q",
    "outputId": "67b1f932-48fd-455a-8eff-5161419bd242"
   },
   "outputs": [
    {
     "name": "stdout",
     "output_type": "stream",
     "text": [
      "World\n",
      "Top-1:NAJAF, Iraq - Iraq's most powerful Shiite cleric returned home from Britain on Wednesday to help broker an end to nearly three weeks of fighting in Najaf and is calling on his followers to join him in a march to reclaim the holy city, his spokesmen and witnesses said.    Grand Ayatollah Ali Husseini al-Sistani return came as heavy fighting persisted in Najaf's Old City...\n",
      "Top-2:BAGHDAD, Iraq - Rebel Shiite cleric Muqtada al-Sadr called for his followers across Iraq to end fighting against U.S. and Iraqi forces and is planning to join the political process in the coming days, an al-Sadr aide said Monday...\n",
      "Top-3:NAJAF, Iraq - Militants loyal to radical Shiite cleric Muqtada al-Sadr kept their hold on a revered shrine, and clashes flared in Najaf on Saturday, raising fears that a resolution to the crisis in the holy city could collapse amid bickering between Shiite leaders.    The clashes between U.S...\n",
      "Top-4:BAGHDAD, Iraq - Delegates at Iraq's National Conference called on radical Shiite cleric Muqtada al-Sadr to abandon his uprising against U.S. and Iraqi troops and pull his fighters out of a holy shrine in Najaf...\n",
      "Top-5: NAJAF, Iraq (Reuters) - A mortar attack on a packed mosque  in the town of Kufa on Thursday killed at least 25 people as  Iraq's most influential Shi'ite cleric headed to the nearby  holy city of Najaf to try to end a bloody three-week uprising.\n",
      "Top-6:A top aide to Iraq #39;s rebel Shi #39;ite leader Muqtada al-Sadr Monday called on the Mehdi Army militia to cease fire across Iraq and said Sadr was preparing to announce plans for a major political program.\n",
      "Top-7: NAJAF, Iraq (Reuters) - Rebel Shi'ite fighters appeared  still to be in control of the Imam Ali mosque in the Iraqi city  Najaf early on Saturday, but the whereabouts of their leader,  the fiery cleric Moqtada al-Sadr, were unknown.\n",
      "Top-8:NAJAF, Iraq - Explosions and gunfire rattled through the city of Najaf as U.S. troops in armored vehicles and tanks rolled back into the streets here Sunday, a day after the collapse of talks - and with them a temporary cease-fire - intended to end the fighting in this holy city...\n",
      "Top-9:AFP - Democratic White House hopeful Senator John Kerry warned that President George W. Bush's plan to withdraw 70,000 troops from Europe and Asia would hinder the war on terrorism and embolden North Korea.\n",
      "Top-10:US and Iraqi forces battled militants in Najaf on Tuesday and Iraqi National Guardsmen advanced to within 200 yards of the holy city #39;s Imam Ali Shrine compound, where insurgents loyal to radical cleric Muqtada al-Sadr have been holed up for weeks.\n",
      "Sports\n",
      "Top-1: ATHENS (Reuters) - The U.S. women's basketball team showed  their men how to win gold Saturday as around 70,000 spectators  flocked to the Olympic stadium for a hectic athletics program  on the penultimate night of the Athens Games.\n",
      "Top-2: ATHENS (Reuters) - The U.S. men's basketball team was  beaten by Argentina Friday, denying it an Olympic gold medal  for the first time since 1992 when NBA players started  competing.\n",
      "Top-3: ATHENS (Reuters) - Carly Patterson upstaged Russian diva  Svetlana Khorkina to become the first American in 20 years to  win the women's Olympic gymnastics all-round gold medal on  Thursday.\n",
      "Top-4: ATHENS (Reuters) - World 100 meters champion Torri Edwards  will miss the Athens Olympics after her appeal against a  two-year drugs ban was dismissed on Tuesday, a source told  Reuters.\n",
      "Top-5:Athens, Greece (Sports Network) - Wednesday night it was Paul Hamm #39;s turn to shine for the United States, as he won the gold medal in the men #39;s all-around competition. Will Thursday produce a sweep for the US at the Olympics? ...\n",
      "Top-6: ATHENS (Reuters) - Aaron Peirsol won his second gold medal  at the Athens Olympics Thursday after winning an appeal against  his disqualification from the men's 200 meter backstroke.\n",
      "Top-7:ATHENS (Reuters) - Greek sprinters Costas Kenteris and Katerina Thanou have arrived at an Athens hotel for an International Olympic Committee (IOC) hearing into their missed doped tests, a saga that has shamed and angered the Olympic host ...\n",
      "Top-8:Andruw Jones hit a two-run homer off Trevor Hoffman in the ninth inning and the Atlanta Braves threw out the potential tying run at the plate for the final out Wednesday night, preserving a 6-5 come-from-behind win over the San Diego Padres. \n",
      "Top-9:ATHENS, Greece - Right now, the Americans aren't just a Dream Team - they're more like the Perfect Team. Lisa Fernandez pitched a three-hitter Sunday and Crystl Bustos drove in two runs as the Americans rolled to their eighth shutout in eight days, 5-0 over Australia, putting them into the gold medal game...\n",
      "Top-10: ATHENS (Reuters) - An exhausted Nicolas Massu reeled in  Mardy Fish in five tortuous sets on Sunday to win Chile their  second gold medal at an Olympic Games less than 24 hours after  helping them to their first.\n",
      "Business\n",
      "Top-1: NEW YORK (Reuters) - Retailer Kmart Holdings Corp. &lt;A HREF=\"http://www.investor.reuters.com/FullQuote.aspx?ticker=KMRT.O target=/stocks/quickinfo/fullquote\"&gt;KMRT.O&lt;/A&gt;  on Monday said it finalized a deal to sell 18 of its stores to  Home Depot Inc. &lt;A HREF=\"http://www.investor.reuters.com/FullQuote.aspx?ticker=HD.N target=/stocks/quickinfo/fullquote\"&gt;HD.N&lt;/A&gt; for \\$271 million.\n",
      "Top-2: BRUSSELS/SAO PAULO (Reuters) - Shareholders gave their  blessing on Friday for Belgium's Interbrew &lt;A HREF=\"http://www.investor.reuters.com/FullQuote.aspx?ticker=INTB.BR target=/stocks/quickinfo/fullquote\"&gt;INTB.BR&lt;/A&gt; to buy  Brazil's AmBev &lt;A HREF=\"http://www.investor.reuters.com/FullQuote.aspx?ticker=AMBV4.SA target=/stocks/quickinfo/fullquote\"&gt;AMBV4.SA&lt;/A&gt;&lt;ABV.N&gt; in a \\$9.7 billion deal that  will create the world's largest brewer.\n",
      "Top-3: &lt;A HREF=\"http://www.investor.reuters.com/FullQuote.aspx?ticker=RSE.N target=/stocks/quickinfo/fullquote\"&gt;RSE.N&lt;/A&gt; jumped before the bell after General Growth  Properties Inc. &lt;A HREF=\"http://www.investor.reuters.com/FullQuote.aspx?ticker=GGP.N target=/stocks/quickinfo/fullquote\"&gt;GGP.N&lt;/A&gt;, the No. 2 U.S. shopping mall owner, on  Friday said it would buy Rouse for \\$7.2 billion.\n",
      "Top-4: NEW YORK (Reuters) - BlackRock Inc. &lt;A HREF=\"http://www.investor.reuters.com/FullQuote.aspx?ticker=BLK.N target=/stocks/quickinfo/fullquote\"&gt;BLK.N&lt;/A&gt;, one of the  largest U.S. fixed income managers, on Thursday said it will  buy its far smaller competitor State Street Research    Management Co., marking the biggest takeover in the asset  management business this year.\n",
      "Top-5: NEW YORK (Reuters) - Staples Inc. &lt;A HREF=\"http://www.investor.reuters.com/FullQuote.aspx?ticker=SPLS.O target=/stocks/quickinfo/fullquote\"&gt;SPLS.O&lt;/A&gt;, the top U.S.  office products retailer, on Tuesday reported a 39 percent jump  in quarterly profit, raised its full-year forecast and said it  plans to enter the fast-growing Chinese market, sending its  shares higher.\n",
      "Top-6: NEW YORK (Reuters) - Colgate-Palmolive Co. &lt;A HREF=\"http://www.investor.reuters.com/FullQuote.aspx?ticker=CL.N target=/stocks/quickinfo/fullquote\"&gt;CL.N&lt;/A&gt; will cut  about 4,400 jobs, or 12 percent of its work force, and close  nearly a third of its factories under a restructuring, the  consumer products company said on Tuesday.\n",
      "Top-7:NEW YORK, August 26 (New Ratings) - BlackRock Inc (BLK.NYS), a leading US-based fixed-income asset management company, has reportedly agreed to buy State Street Research  amp; Management Company, a unit of MetLife Inc, for \\$375 million in a cash and stock \n",
      "Top-8: NEW YORK (Reuters) - Verizon Communications Inc. &lt;A HREF=\"http://www.investor.reuters.com/FullQuote.aspx?ticker=VZ.N target=/stocks/quickinfo/fullquote\"&gt;VZ.N&lt;/A&gt; is  near an agreement to sell its Canadian telephone directory  business to private equity firm Bain Capital, the New York Post  said on Wednesday.\n",
      "Top-9: NEW YORK (Reuters) - U.S. blue chips were near the  unchanged mark on Monday as a disappointing sales forecast from  retailer Wal-Mart Stores Inc. &lt;A HREF=\"http://www.investor.reuters.com/FullQuote.aspx?ticker=WMT.N target=/stocks/quickinfo/fullquote\"&gt;WMT.N&lt;/A&gt; dampened sentiment,  offsetting the benefit of easing oil prices.\n",
      "Top-10: NEW YORK (Reuters) - Hartford Financial Services Group Inc.  &lt;A HREF=\"http://www.investor.reuters.com/FullQuote.aspx?ticker=HIG.N target=/stocks/quickinfo/fullquote\"&gt;HIG.N&lt;/A&gt; on Tuesday became the latest insurer to issue a profit  warning tied to Hurricane Charley, the strongest storm to hit  Florida in a dozen years.\n"
     ]
    }
   ],
   "source": [
    "# fill in your code...\n",
    "preds_te_count_prob = predict_proba(X_te_count, w_count)\n",
    "classes = ['World', 'Sports', 'Business']\n",
    "for c, cn in enumerate(classes):\n",
    "    print(cn)\n",
    "    inds = np.argsort(preds_te_count_prob[:,c])\n",
    "    for i in range(10):\n",
    "        print('Top-{}:{}'.format(i+1,X_te_raw[inds[-1-i]]))"
   ]
  },
  {
   "cell_type": "markdown",
   "metadata": {
    "colab_type": "text",
    "id": "6d6pMnX30m5z"
   },
   "source": [
    "### Discuss how did you choose model hyperparameters (e.g. learning rate and regularisation strength)? What is the relation between training epochs and learning rate? How the regularisation strength affects performance?"
   ]
  },
  {
   "cell_type": "markdown",
   "metadata": {
    "ExecuteTime": {
     "end_time": "2020-02-15T14:16:19.856538Z",
     "start_time": "2020-02-15T14:16:19.852547Z"
    },
    "colab_type": "text",
    "id": "Aev4XZxz0m50"
   },
   "source": [
    "These hyperparameters are adjusted mainly by comparing the accuracy of the verification. The final selected learning rate is 0.0003, and the regular strength is 0.001. Generally speaking, the larger the learning rate, the smaller the number of iterations required, but too large a learning rate will cause underfitting. If the learning rate is too small, the more iterations are required. Appropriate regular strength is helpful to prevent overfitting. If the strength is too large, it may cause underfitting. If it is too small, it will not prevent overfitting."
   ]
  },
  {
   "cell_type": "markdown",
   "metadata": {
    "colab_type": "text",
    "id": "NKXz8iSv0m51"
   },
   "source": [
    "### Now evaluate BOW-tfidf..."
   ]
  },
  {
   "cell_type": "code",
   "execution_count": 54,
   "metadata": {
    "colab": {
     "base_uri": "https://localhost:8080/",
     "height": 1000
    },
    "colab_type": "code",
    "id": "IA0GYOG3IUfp",
    "outputId": "9cde06a4-1bbe-4160-a7d5-8c08cdab7efa"
   },
   "outputs": [
    {
     "name": "stdout",
     "output_type": "stream",
     "text": [
      "Epoch: 0| Training loss: 1.328095624582752| Validation loss: 1.4303474437404298\n",
      "Epoch: 1| Training loss: 1.1421684671030143| Validation loss: 1.295754281652395\n",
      "Epoch: 2| Training loss: 1.00754689717785| Validation loss: 1.1902986427955815\n",
      "Epoch: 3| Training loss: 0.9062285995637266| Validation loss: 1.1059326819011055\n",
      "Epoch: 4| Training loss: 0.8273297140633649| Validation loss: 1.0370218786372754\n",
      "Epoch: 5| Training loss: 0.76414098746386| Validation loss: 0.9796820366386219\n",
      "Epoch: 6| Training loss: 0.7123334213937977| Validation loss: 0.931214915515971\n",
      "Epoch: 7| Training loss: 0.6689619201215704| Validation loss: 0.8896835993593067\n",
      "Epoch: 8| Training loss: 0.6320891995177987| Validation loss: 0.8537819359364959\n",
      "Epoch: 9| Training loss: 0.6002748884953459| Validation loss: 0.8223324849141692\n",
      "Epoch: 10| Training loss: 0.5724757355403345| Validation loss: 0.7945128156127346\n",
      "Epoch: 11| Training loss: 0.5479127313418776| Validation loss: 0.7697209943501815\n",
      "Epoch: 12| Training loss: 0.5260430294702814| Validation loss: 0.7475030141595573\n",
      "Epoch: 13| Training loss: 0.5064060055735496| Validation loss: 0.7274151286102579\n",
      "Epoch: 14| Training loss: 0.48865335678017235| Validation loss: 0.7091645433611177\n",
      "Epoch: 15| Training loss: 0.47250724773947145| Validation loss: 0.6925520081984055\n",
      "Epoch: 16| Training loss: 0.4577405897147941| Validation loss: 0.6773206204667475\n",
      "Epoch: 17| Training loss: 0.4441678453456786| Validation loss: 0.6633082055214584\n",
      "Epoch: 18| Training loss: 0.4316360560010303| Validation loss: 0.6503763800139832\n",
      "Epoch: 19| Training loss: 0.4200192720751322| Validation loss: 0.6383503046661224\n",
      "Epoch: 20| Training loss: 0.40921855258275874| Validation loss: 0.6271692308532288\n",
      "Epoch: 21| Training loss: 0.39913647455887746| Validation loss: 0.6167699613394452\n",
      "Epoch: 22| Training loss: 0.389697897308482| Validation loss: 0.6070095820334241\n",
      "Epoch: 23| Training loss: 0.38083952836524065| Validation loss: 0.5978464721638981\n",
      "Epoch: 24| Training loss: 0.3725042065968446| Validation loss: 0.5892288286109735\n",
      "Epoch: 25| Training loss: 0.3646435708249007| Validation loss: 0.5811341310829085\n",
      "Epoch: 26| Training loss: 0.35721526102196915| Validation loss: 0.5734835903262514\n",
      "Epoch: 27| Training loss: 0.3501772513240859| Validation loss: 0.5662597081605408\n",
      "Epoch: 28| Training loss: 0.3434993899679732| Validation loss: 0.5594214676434676\n",
      "Epoch: 29| Training loss: 0.33715146920668404| Validation loss: 0.5529485927006632\n",
      "Epoch: 30| Training loss: 0.3311072131440921| Validation loss: 0.546773233953256\n",
      "Epoch: 31| Training loss: 0.3253445710011894| Validation loss: 0.5408938955196702\n",
      "Epoch: 32| Training loss: 0.31984147336154756| Validation loss: 0.5352931867204758\n",
      "Epoch: 33| Training loss: 0.31458104636924084| Validation loss: 0.5299794328271806\n",
      "Epoch: 34| Training loss: 0.30954449096390546| Validation loss: 0.5248870926925631\n",
      "Epoch: 35| Training loss: 0.3047162775900676| Validation loss: 0.5200048763258108\n",
      "Epoch: 36| Training loss: 0.30008284385830813| Validation loss: 0.5153284438931311\n",
      "Epoch: 37| Training loss: 0.29563215181169533| Validation loss: 0.5108517840298438\n",
      "Epoch: 38| Training loss: 0.2913533672788888| Validation loss: 0.50655596664678\n",
      "Epoch: 39| Training loss: 0.2872344661288639| Validation loss: 0.5024332242509494\n",
      "Epoch: 40| Training loss: 0.28326557427569166| Validation loss: 0.49848328396839237\n",
      "Epoch: 41| Training loss: 0.27943996803413723| Validation loss: 0.49465807160026176\n",
      "Epoch: 42| Training loss: 0.27574865313838026| Validation loss: 0.49097922541590566\n",
      "Epoch: 43| Training loss: 0.27218269985095267| Validation loss: 0.48745221673994527\n",
      "Epoch: 44| Training loss: 0.2687370224205169| Validation loss: 0.48404526511014384\n",
      "Epoch: 45| Training loss: 0.2654039296414454| Validation loss: 0.4807708651025196\n",
      "Epoch: 46| Training loss: 0.26217865318774736| Validation loss: 0.47759771226872727\n",
      "Epoch: 47| Training loss: 0.2590559047379665| Validation loss: 0.4745295003731597\n",
      "Epoch: 48| Training loss: 0.256028715101035| Validation loss: 0.471563518753303\n",
      "Epoch: 49| Training loss: 0.2530939320932216| Validation loss: 0.46869018307846544\n",
      "Epoch: 50| Training loss: 0.25024737785966766| Validation loss: 0.465916460221491\n",
      "Epoch: 51| Training loss: 0.24748264386040725| Validation loss: 0.4632133195338421\n",
      "Epoch: 52| Training loss: 0.244798618244546| Validation loss: 0.4606107105277106\n",
      "Epoch: 53| Training loss: 0.24219017173693283| Validation loss: 0.4580743763474602\n",
      "Epoch: 54| Training loss: 0.2396540234082946| Validation loss: 0.455613655602406\n",
      "Epoch: 55| Training loss: 0.23718770848396123| Validation loss: 0.45323078238558573\n",
      "Epoch: 56| Training loss: 0.23478715469398692| Validation loss: 0.45092966439667875\n",
      "Epoch: 57| Training loss: 0.23245108874576895| Validation loss: 0.4486848182740601\n",
      "Epoch: 58| Training loss: 0.2301758959082156| Validation loss: 0.4464964757784958\n",
      "Epoch: 59| Training loss: 0.22795833872189977| Validation loss: 0.44436338560124766\n",
      "Epoch: 60| Training loss: 0.22579681065819934| Validation loss: 0.4422981911382565\n",
      "Epoch: 61| Training loss: 0.2236891119731539| Validation loss: 0.44029257277719686\n",
      "Epoch: 62| Training loss: 0.22163320116365495| Validation loss: 0.4383302088033937\n",
      "Epoch: 63| Training loss: 0.21962699186422727| Validation loss: 0.436420944846911\n",
      "Epoch: 64| Training loss: 0.2176689976892388| Validation loss: 0.43456161732504867\n",
      "Epoch: 65| Training loss: 0.21575675173899642| Validation loss: 0.4327579053125599\n",
      "Epoch: 66| Training loss: 0.2138893517095026| Validation loss: 0.4309921390973182\n",
      "Epoch: 67| Training loss: 0.21206450601383653| Validation loss: 0.429273660307677\n",
      "Epoch: 68| Training loss: 0.21028070886807979| Validation loss: 0.42760499483068204\n",
      "Epoch: 69| Training loss: 0.20853639456680753| Validation loss: 0.42596764279447336\n",
      "Epoch: 70| Training loss: 0.2068306266362428| Validation loss: 0.4243834696298686\n",
      "Epoch: 71| Training loss: 0.20516232115318847| Validation loss: 0.4228335425298302\n",
      "Epoch: 72| Training loss: 0.2035293280967716| Validation loss: 0.421303812071087\n",
      "Epoch: 73| Training loss: 0.20193112944338173| Validation loss: 0.4198231472077963\n",
      "Epoch: 74| Training loss: 0.2003660311310341| Validation loss: 0.4183635817850239\n",
      "Epoch: 75| Training loss: 0.19883308587545093| Validation loss: 0.4169336647886865\n",
      "Epoch: 76| Training loss: 0.19733200552320546| Validation loss: 0.4155489914902041\n",
      "Epoch: 77| Training loss: 0.19586130140954422| Validation loss: 0.4141928310668085\n",
      "Epoch: 78| Training loss: 0.19441996565312675| Validation loss: 0.4128656942654516\n",
      "Epoch: 79| Training loss: 0.19300715407995084| Validation loss: 0.4115649877337939\n",
      "Epoch: 80| Training loss: 0.19162184705450125| Validation loss: 0.41029574510574546\n",
      "Epoch: 81| Training loss: 0.19026322557217126| Validation loss: 0.4090454642537878\n",
      "Epoch: 82| Training loss: 0.1889305210045001| Validation loss: 0.40782451313993784\n",
      "Epoch: 83| Training loss: 0.18762321998725492| Validation loss: 0.40664528999770044\n",
      "Epoch: 84| Training loss: 0.1863403260094515| Validation loss: 0.40547343674120917\n",
      "Epoch: 85| Training loss: 0.18508099676326337| Validation loss: 0.40432610216872833\n",
      "Epoch: 86| Training loss: 0.1838452874599795| Validation loss: 0.40321194079585737\n",
      "Epoch: 87| Training loss: 0.18263179365694188| Validation loss: 0.40212059941372763\n",
      "Epoch: 88| Training loss: 0.18144033546023183| Validation loss: 0.4010384528341906\n",
      "Epoch: 89| Training loss: 0.1802701179921494| Validation loss: 0.39997948857339977\n",
      "Epoch: 90| Training loss: 0.17912043556296983| Validation loss: 0.3989485454064429\n",
      "Epoch: 91| Training loss: 0.1779906513172787| Validation loss: 0.39794385291809664\n",
      "Epoch: 92| Training loss: 0.17687953641081525| Validation loss: 0.3969615094121098\n"
     ]
    }
   ],
   "source": [
    "w_tfidf, trl, devl = SGD(X_tr_tfidf, Y_tr, \n",
    "                         X_dev=X_dev_tfidf, \n",
    "                         Y_dev=Y_dev, \n",
    "                         lr=0.0003, \n",
    "                         alpha=0.001, \n",
    "                         epochs=200)"
   ]
  },
  {
   "cell_type": "code",
   "execution_count": 55,
   "metadata": {
    "colab": {
     "base_uri": "https://localhost:8080/",
     "height": 296
    },
    "colab_type": "code",
    "id": "EF4gT4ruIiZ6",
    "outputId": "902578fa-fd1a-44c9-c588-f37fb0a7b28e"
   },
   "outputs": [
    {
     "data": {
      "text/plain": [
       "Text(0, 0.5, 'Loss')"
      ]
     },
     "execution_count": 55,
     "metadata": {},
     "output_type": "execute_result"
    },
    {
     "data": {
      "image/png": "[encoded data removed]",
      "text/plain": [
       "<Figure size 432x288 with 1 Axes>"
      ]
     },
     "metadata": {
      "needs_background": "light"
     },
     "output_type": "display_data"
    }
   ],
   "source": [
    "plt.plot(range(len(trl)), trl, 'b-', label='training loss')\n",
    "plt.plot(range(len(devl)), devl, label = 'validation loss', color='coral')\n",
    "plt.legend()\n",
    "plt.xlabel('Epochs')\n",
    "plt.ylabel('Loss')"
   ]
  },
  {
   "cell_type": "code",
   "execution_count": 56,
   "metadata": {
    "colab": {
     "base_uri": "https://localhost:8080/",
     "height": 85
    },
    "colab_type": "code",
    "id": "iXM5h566IoKn",
    "outputId": "750ed8ac-b506-4a89-eff4-458c36626c10"
   },
   "outputs": [
    {
     "name": "stdout",
     "output_type": "stream",
     "text": [
      "Accuracy: 0.8833333333333333\n",
      "Precision: 0.8841167799565732\n",
      "Recall: 0.8833333333333334\n",
      "F1-Score: 0.8827188458972443\n"
     ]
    }
   ],
   "source": [
    "preds_te = predict_class(X_te_tfidf, w_tfidf)\n",
    "print('Accuracy:', accuracy_score(Y_te,preds_te))\n",
    "print('Precision:', precision_score(Y_te,preds_te,average='macro'))\n",
    "print('Recall:', recall_score(Y_te,preds_te,average='macro'))\n",
    "print('F1-Score:', f1_score(Y_te,preds_te,average='macro'))"
   ]
  },
  {
   "cell_type": "code",
   "execution_count": 57,
   "metadata": {
    "colab": {
     "base_uri": "https://localhost:8080/",
     "height": 598
    },
    "colab_type": "code",
    "id": "9xOsymnSI8P6",
    "outputId": "6c78a413-aa48-4cfd-a9b5-9938046c0d7d"
   },
   "outputs": [
    {
     "name": "stdout",
     "output_type": "stream",
     "text": [
      "World\n",
      "Top-1:NAJAF, Iraq - Iraq's most powerful Shiite cleric returned home from Britain on Wednesday to help broker an end to nearly three weeks of fighting in Najaf and is calling on his followers to join him in a march to reclaim the holy city, his spokesmen and witnesses said.    Grand Ayatollah Ali Husseini al-Sistani return came as heavy fighting persisted in Najaf's Old City...\n",
      "Top-2:BAGHDAD, Iraq - Rebel Shiite cleric Muqtada al-Sadr called for his followers across Iraq to end fighting against U.S. and Iraqi forces and is planning to join the political process in the coming days, an al-Sadr aide said Monday...\n",
      "Top-3:NAJAF, Iraq - Militants loyal to radical Shiite cleric Muqtada al-Sadr kept their hold on a revered shrine, and clashes flared in Najaf on Saturday, raising fears that a resolution to the crisis in the holy city could collapse amid bickering between Shiite leaders.    The clashes between U.S...\n",
      "Top-4:BAGHDAD, Iraq - Delegates at Iraq's National Conference called on radical Shiite cleric Muqtada al-Sadr to abandon his uprising against U.S. and Iraqi troops and pull his fighters out of a holy shrine in Najaf...\n",
      "Top-5: NAJAF, Iraq (Reuters) - A mortar attack on a packed mosque  in the town of Kufa on Thursday killed at least 25 people as  Iraq's most influential Shi'ite cleric headed to the nearby  holy city of Najaf to try to end a bloody three-week uprising.\n",
      "Top-6:A top aide to Iraq #39;s rebel Shi #39;ite leader Muqtada al-Sadr Monday called on the Mehdi Army militia to cease fire across Iraq and said Sadr was preparing to announce plans for a major political program.\n",
      "Top-7: NAJAF, Iraq (Reuters) - Rebel Shi'ite fighters appeared  still to be in control of the Imam Ali mosque in the Iraqi city  Najaf early on Saturday, but the whereabouts of their leader,  the fiery cleric Moqtada al-Sadr, were unknown.\n",
      "Top-8:NAJAF, Iraq - Explosions and gunfire rattled through the city of Najaf as U.S. troops in armored vehicles and tanks rolled back into the streets here Sunday, a day after the collapse of talks - and with them a temporary cease-fire - intended to end the fighting in this holy city...\n",
      "Top-9:AFP - Democratic White House hopeful Senator John Kerry warned that President George W. Bush's plan to withdraw 70,000 troops from Europe and Asia would hinder the war on terrorism and embolden North Korea.\n",
      "Top-10:US and Iraqi forces battled militants in Najaf on Tuesday and Iraqi National Guardsmen advanced to within 200 yards of the holy city #39;s Imam Ali Shrine compound, where insurgents loyal to radical cleric Muqtada al-Sadr have been holed up for weeks.\n",
      "Sports\n",
      "Top-1: ATHENS (Reuters) - The U.S. women's basketball team showed  their men how to win gold Saturday as around 70,000 spectators  flocked to the Olympic stadium for a hectic athletics program  on the penultimate night of the Athens Games.\n",
      "Top-2: ATHENS (Reuters) - The U.S. men's basketball team was  beaten by Argentina Friday, denying it an Olympic gold medal  for the first time since 1992 when NBA players started  competing.\n",
      "Top-3: ATHENS (Reuters) - Carly Patterson upstaged Russian diva  Svetlana Khorkina to become the first American in 20 years to  win the women's Olympic gymnastics all-round gold medal on  Thursday.\n",
      "Top-4: ATHENS (Reuters) - World 100 meters champion Torri Edwards  will miss the Athens Olympics after her appeal against a  two-year drugs ban was dismissed on Tuesday, a source told  Reuters.\n",
      "Top-5:Athens, Greece (Sports Network) - Wednesday night it was Paul Hamm #39;s turn to shine for the United States, as he won the gold medal in the men #39;s all-around competition. Will Thursday produce a sweep for the US at the Olympics? ...\n",
      "Top-6: ATHENS (Reuters) - Aaron Peirsol won his second gold medal  at the Athens Olympics Thursday after winning an appeal against  his disqualification from the men's 200 meter backstroke.\n",
      "Top-7:ATHENS (Reuters) - Greek sprinters Costas Kenteris and Katerina Thanou have arrived at an Athens hotel for an International Olympic Committee (IOC) hearing into their missed doped tests, a saga that has shamed and angered the Olympic host ...\n",
      "Top-8:Andruw Jones hit a two-run homer off Trevor Hoffman in the ninth inning and the Atlanta Braves threw out the potential tying run at the plate for the final out Wednesday night, preserving a 6-5 come-from-behind win over the San Diego Padres. \n",
      "Top-9:ATHENS, Greece - Right now, the Americans aren't just a Dream Team - they're more like the Perfect Team. Lisa Fernandez pitched a three-hitter Sunday and Crystl Bustos drove in two runs as the Americans rolled to their eighth shutout in eight days, 5-0 over Australia, putting them into the gold medal game...\n",
      "Top-10: ATHENS (Reuters) - An exhausted Nicolas Massu reeled in  Mardy Fish in five tortuous sets on Sunday to win Chile their  second gold medal at an Olympic Games less than 24 hours after  helping them to their first.\n",
      "Business\n",
      "Top-1: NEW YORK (Reuters) - Retailer Kmart Holdings Corp. &lt;A HREF=\"http://www.investor.reuters.com/FullQuote.aspx?ticker=KMRT.O target=/stocks/quickinfo/fullquote\"&gt;KMRT.O&lt;/A&gt;  on Monday said it finalized a deal to sell 18 of its stores to  Home Depot Inc. &lt;A HREF=\"http://www.investor.reuters.com/FullQuote.aspx?ticker=HD.N target=/stocks/quickinfo/fullquote\"&gt;HD.N&lt;/A&gt; for \\$271 million.\n",
      "Top-2: BRUSSELS/SAO PAULO (Reuters) - Shareholders gave their  blessing on Friday for Belgium's Interbrew &lt;A HREF=\"http://www.investor.reuters.com/FullQuote.aspx?ticker=INTB.BR target=/stocks/quickinfo/fullquote\"&gt;INTB.BR&lt;/A&gt; to buy  Brazil's AmBev &lt;A HREF=\"http://www.investor.reuters.com/FullQuote.aspx?ticker=AMBV4.SA target=/stocks/quickinfo/fullquote\"&gt;AMBV4.SA&lt;/A&gt;&lt;ABV.N&gt; in a \\$9.7 billion deal that  will create the world's largest brewer.\n",
      "Top-3: &lt;A HREF=\"http://www.investor.reuters.com/FullQuote.aspx?ticker=RSE.N target=/stocks/quickinfo/fullquote\"&gt;RSE.N&lt;/A&gt; jumped before the bell after General Growth  Properties Inc. &lt;A HREF=\"http://www.investor.reuters.com/FullQuote.aspx?ticker=GGP.N target=/stocks/quickinfo/fullquote\"&gt;GGP.N&lt;/A&gt;, the No. 2 U.S. shopping mall owner, on  Friday said it would buy Rouse for \\$7.2 billion.\n",
      "Top-4: NEW YORK (Reuters) - BlackRock Inc. &lt;A HREF=\"http://www.investor.reuters.com/FullQuote.aspx?ticker=BLK.N target=/stocks/quickinfo/fullquote\"&gt;BLK.N&lt;/A&gt;, one of the  largest U.S. fixed income managers, on Thursday said it will  buy its far smaller competitor State Street Research    Management Co., marking the biggest takeover in the asset  management business this year.\n",
      "Top-5: NEW YORK (Reuters) - Staples Inc. &lt;A HREF=\"http://www.investor.reuters.com/FullQuote.aspx?ticker=SPLS.O target=/stocks/quickinfo/fullquote\"&gt;SPLS.O&lt;/A&gt;, the top U.S.  office products retailer, on Tuesday reported a 39 percent jump  in quarterly profit, raised its full-year forecast and said it  plans to enter the fast-growing Chinese market, sending its  shares higher.\n",
      "Top-6: NEW YORK (Reuters) - Colgate-Palmolive Co. &lt;A HREF=\"http://www.investor.reuters.com/FullQuote.aspx?ticker=CL.N target=/stocks/quickinfo/fullquote\"&gt;CL.N&lt;/A&gt; will cut  about 4,400 jobs, or 12 percent of its work force, and close  nearly a third of its factories under a restructuring, the  consumer products company said on Tuesday.\n",
      "Top-7:NEW YORK, August 26 (New Ratings) - BlackRock Inc (BLK.NYS), a leading US-based fixed-income asset management company, has reportedly agreed to buy State Street Research  amp; Management Company, a unit of MetLife Inc, for \\$375 million in a cash and stock \n",
      "Top-8: NEW YORK (Reuters) - Verizon Communications Inc. &lt;A HREF=\"http://www.investor.reuters.com/FullQuote.aspx?ticker=VZ.N target=/stocks/quickinfo/fullquote\"&gt;VZ.N&lt;/A&gt; is  near an agreement to sell its Canadian telephone directory  business to private equity firm Bain Capital, the New York Post  said on Wednesday.\n",
      "Top-9: NEW YORK (Reuters) - U.S. blue chips were near the  unchanged mark on Monday as a disappointing sales forecast from  retailer Wal-Mart Stores Inc. &lt;A HREF=\"http://www.investor.reuters.com/FullQuote.aspx?ticker=WMT.N target=/stocks/quickinfo/fullquote\"&gt;WMT.N&lt;/A&gt; dampened sentiment,  offsetting the benefit of easing oil prices.\n",
      "Top-10: NEW YORK (Reuters) - Hartford Financial Services Group Inc.  &lt;A HREF=\"http://www.investor.reuters.com/FullQuote.aspx?ticker=HIG.N target=/stocks/quickinfo/fullquote\"&gt;HIG.N&lt;/A&gt; on Tuesday became the latest insurer to issue a profit  warning tied to Hurricane Charley, the strongest storm to hit  Florida in a dozen years.\n"
     ]
    }
   ],
   "source": [
    "preds_te_count_prob = predict_proba(X_te_count, w_count)\n",
    "classes = ['World', 'Sports', 'Business']\n",
    "for c, cn in enumerate(classes):\n",
    "    print(cn)\n",
    "    inds = np.argsort(preds_te_count_prob[:,c])\n",
    "    for i in range(10):\n",
    "        print('Top-{}:{}'.format(i+1,X_te_raw[inds[-1-i]]))"
   ]
  },
  {
   "cell_type": "markdown",
   "metadata": {
    "ExecuteTime": {
     "end_time": "2020-02-15T14:16:42.567569Z",
     "start_time": "2020-02-15T14:16:42.562560Z"
    },
    "colab_type": "text",
    "id": "2fm236gw0m51"
   },
   "source": [
    "## Full Results\n",
    "\n",
    "Add here your results:\n",
    "\n",
    "| LR | Precision  | Recall  | F1-Score  |\n",
    "|:-:|:-:|:-:|:-:|\n",
    "| BOW-count  |  0.8639604931729078 | 0.8622222222222223  |  0.8615588860037918 |\n",
    "| BOW-tfidf  | 0.8841167799565732  |  0.8833333333333334 |  0.8827188458972443 |\n"
   ]
  },
  {
   "cell_type": "markdown",
   "metadata": {
    "colab_type": "text",
    "id": "RolIrUlzJaQc"
   },
   "source": [
    "It can be seen from the experimental results that the features using TF-Idfs are better than those without it!"
   ]
  },
  {
   "cell_type": "code",
   "execution_count": 0,
   "metadata": {
    "colab": {},
    "colab_type": "code",
    "id": "96UL0A1N0m51"
   },
   "outputs": [],
   "source": []
  }
 ],
 "metadata": {
  "colab": {
   "collapsed_sections": [
    "pz_ngjeC0m4d"
   ],
   "name": "assignment1.ipynb",
   "provenance": [],
   "toc_visible": true
  },
  "kernelspec": {
   "display_name": "Python 3",
   "language": "python",
   "name": "python3"
  },
  "language_info": {
   "codemirror_mode": {
    "name": "ipython",
    "version": 3
   },
   "file_extension": ".py",
   "mimetype": "text/x-python",
   "name": "python",
   "nbconvert_exporter": "python",
   "pygments_lexer": "ipython3",
   "version": "3.7.4"
  }
 },
 "nbformat": 4,
 "nbformat_minor": 1
}
