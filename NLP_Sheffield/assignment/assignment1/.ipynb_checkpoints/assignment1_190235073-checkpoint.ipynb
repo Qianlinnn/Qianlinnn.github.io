{
 "cells": [
  {
   "cell_type": "markdown",
   "metadata": {},
   "source": [
    "# [COM4513-6513] Assignment 1: Text Classification with Logistic Regression\n",
    "\n",
    "### Instructor: Nikos Aletras\n",
    "\n",
    "\n",
    "The goal of this assignment is to develop and test two text classification systems: \n",
    "\n",
    "- **Task 1:** sentiment analysis, in particular to predict the sentiment of movie review, i.e. positive or negative (binary classification).\n",
    "- **Task 2:** topic classification, to predict whether a news article is about International issues, Sports or Business (multiclass classification).\n",
    "\n",
    "\n",
    "For that purpose, you will implement:\n",
    "\n",
    "- Text processing methods for extracting Bag-Of-Word features, using (1) unigrams, bigrams and trigrams to obtain vector representations of documents. Two vector weighting schemes should be tested: (1) raw frequencies (**3 marks; 1 for each ngram type**); (2) tf.idf (**1 marks**). \n",
    "- Binary Logistic Regression classifiers that will be able to accurately classify movie reviews trained with (1) BOW-count (raw frequencies); and (2) BOW-tfidf (tf.idf weighted) for Task 1. \n",
    "- Multiclass Logistic Regression classifiers that will be able to accurately classify news articles trained with (1) BOW-count (raw frequencies); and (2) BOW-tfidf (tf.idf weighted) for Task 2. \n",
    "- The Stochastic Gradient Descent (SGD) algorithm to estimate the parameters of your Logistic Regression models. Your SGD algorithm should:\n",
    "    - Minimise the Binary Cross-entropy loss function for Task 1 (**3 marks**)\n",
    "    - Minimise the Categorical Cross-entropy loss function for Task 2 (**3 marks**)\n",
    "    - Use L2 regularisation (both tasks) (**1 mark**)\n",
    "    - Perform multiple passes (epochs) over the training data (**1 mark**)\n",
    "    - Randomise the order of training data after each pass (**1 mark**)\n",
    "    - Stop training if the difference between the current and previous validation loss is smaller than a threshold (**1 mark**)\n",
    "    - After each epoch print the training and development loss (**1 mark**)\n",
    "- Discuss how did you choose hyperparameters (e.g. learning rate and regularisation strength)?  (**2 marks; 0.5 for each model in each task**).\n",
    "- After training the LR models, plot the learning process (i.e. training and validation loss in each epoch) using a line plot (**1 mark; 0.5 for both BOW-count and BOW-tfidf LR models in each task**) and discuss if your model overfits/underfits/is about right.\n",
    "- Model interpretability by showing the most important features for each class (i.e. most positive/negative weights). Give the top 10 for each class and comment on whether they make sense (if they don't you might have a bug!).  If we were to apply the classifier we've learned into a different domain such laptop reviews or restaurant reviews, do you think these features would generalise well? Can you propose what features the classifier could pick up as important in the new domain? (**2 marks; 0.5 for BOW-count and BOW-tfidf LR models respectively in each task**)\n",
    "\n",
    "\n",
    "### Data - Task 1 \n",
    "\n",
    "The data you will use for Task 1 are taken from here: [http://www.cs.cornell.edu/people/pabo/movie-review-data/](http://www.cs.cornell.edu/people/pabo/movie-review-data/) and you can find it in the `./data_sentiment` folder in CSV format:\n",
    "\n",
    "- `data_sentiment/train.csv`: contains 1,400 reviews, 700 positive (label: 1) and 700 negative (label: 0) to be used for training.\n",
    "- `data_sentiment/dev.csv`: contains 200 reviews, 100 positive and 100 negative to be used for hyperparameter selection and monitoring the training process.\n",
    "- `data_sentiment/test.csv`: contains 400 reviews, 200 positive and 200 negative to be used for testing.\n",
    "\n",
    "### Data - Task 2\n",
    "\n",
    "The data you will use for Task 2 is a subset of the [AG News Corpus](http://groups.di.unipi.it/~gulli/AG_corpus_of_news_articles.html) and you can find it in the `./data_topic` folder in CSV format:\n",
    "\n",
    "- `data_topic/train.csv`: contains 2,400 news articles, 800 for each class to be used for training.\n",
    "- `data_topic/dev.csv`: contains 150 news articles, 50 for each class to be used for hyperparameter selection and monitoring the training process.\n",
    "- `data_topic/test.csv`: contains 900 news articles, 300 for each class to be used for testing.\n",
    "\n",
    "\n",
    "### Submission Instructions\n",
    "\n",
    "You should submit a Jupyter Notebook file (assignment1.ipynb) and an exported PDF version (you can do it from Jupyter: `File->Download as->PDF via Latex`).\n",
    "\n",
    "You are advised to follow the code structure given in this notebook by completing all given funtions. You can also write any auxilliary/helper functions (and arguments for the functions) that you might need but note that you can provide a full solution without any such functions. Similarly, you can just use only the packages imported below but you are free to use any functionality from the [Python Standard Library](https://docs.python.org/2/library/index.html), NumPy, SciPy and Pandas. You are not allowed to use any third-party library such as Scikit-learn (apart from metric functions already provided), NLTK, Spacy, Keras etc..\n",
    "\n",
    "Please make sure to comment your code. You should also mention if you've used Windows (not recommended) to write and test your code. There is no single correct answer on what your accuracy should be, but correct implementations usually achieve F1-scores around 80\\% or higher. The quality of the analysis of the results is as important as the accuracy itself. \n",
    "\n",
    "This assignment will be marked out of 20. It is worth 20\\% of your final grade in the module.\n",
    "\n",
    "The deadline for this assignment is **23:59 on Fri, 20 Mar 2020** and it needs to be submitted via MOLE. Standard departmental penalties for lateness will be applied. We use a range of strategies to detect [unfair means](https://www.sheffield.ac.uk/ssid/unfair-means/index), including Turnitin which helps detect plagiarism, so make sure you do not plagiarise.\n",
    "\n"
   ]
  },
  {
   "cell_type": "code",
   "execution_count": 1,
   "metadata": {
    "ExecuteTime": {
     "end_time": "2020-02-15T14:31:36.292691Z",
     "start_time": "2020-02-15T14:31:35.549108Z"
    }
   },
   "outputs": [],
   "source": [
    "import pandas as pd\n",
    "import numpy as np\n",
    "import re\n",
    "import matplotlib.pyplot as plt\n",
    "from sklearn.metrics import accuracy_score, precision_score, recall_score, f1_score\n",
    "import random\n",
    "\n",
    "# fixing random seed for reproducibility\n",
    "random.seed(123)\n",
    "np.random.seed(123)\n"
   ]
  },
  {
   "cell_type": "markdown",
   "metadata": {},
   "source": [
    "## Load Raw texts and labels into arrays\n",
    "\n",
    "First, you need to load the training, development and test sets from their corresponding CSV files (tip: you can use Pandas dataframes)."
   ]
  },
  {
   "cell_type": "code",
   "execution_count": 2,
   "metadata": {
    "ExecuteTime": {
     "end_time": "2020-02-15T14:17:28.145788Z",
     "start_time": "2020-02-15T14:17:28.066100Z"
    }
   },
   "outputs": [],
   "source": [
    "data_tr=pd.read_csv('./data_sentiment/train.csv',names=[\"text\",\"label\"])\n",
    "data_dev = pd.read_csv('./data_sentiment/dev.csv', names=[\"text\",\"label\"])\n",
    "data_te = pd.read_csv('./data_sentiment/test.csv', names=[\"text\",\"label\"])\n"
   ]
  },
  {
   "cell_type": "markdown",
   "metadata": {},
   "source": [
    "If you use Pandas you can see a sample of the data."
   ]
  },
  {
   "cell_type": "code",
   "execution_count": 3,
   "metadata": {
    "ExecuteTime": {
     "end_time": "2020-02-15T14:17:28.900892Z",
     "start_time": "2020-02-15T14:17:28.891221Z"
    }
   },
   "outputs": [
    {
     "data": {
      "text/html": [
       "<div>\n",
       "<style scoped>\n",
       "    .dataframe tbody tr th:only-of-type {\n",
       "        vertical-align: middle;\n",
       "    }\n",
       "\n",
       "    .dataframe tbody tr th {\n",
       "        vertical-align: top;\n",
       "    }\n",
       "\n",
       "    .dataframe thead th {\n",
       "        text-align: right;\n",
       "    }\n",
       "</style>\n",
       "<table border=\"1\" class=\"dataframe\">\n",
       "  <thead>\n",
       "    <tr style=\"text-align: right;\">\n",
       "      <th></th>\n",
       "      <th>text</th>\n",
       "      <th>label</th>\n",
       "    </tr>\n",
       "  </thead>\n",
       "  <tbody>\n",
       "    <tr>\n",
       "      <td>0</td>\n",
       "      <td>note : some may consider portions of the follo...</td>\n",
       "      <td>1</td>\n",
       "    </tr>\n",
       "    <tr>\n",
       "      <td>1</td>\n",
       "      <td>note : some may consider portions of the follo...</td>\n",
       "      <td>1</td>\n",
       "    </tr>\n",
       "    <tr>\n",
       "      <td>2</td>\n",
       "      <td>every once in a while you see a film that is s...</td>\n",
       "      <td>1</td>\n",
       "    </tr>\n",
       "    <tr>\n",
       "      <td>3</td>\n",
       "      <td>when i was growing up in 1970s , boys in my sc...</td>\n",
       "      <td>1</td>\n",
       "    </tr>\n",
       "    <tr>\n",
       "      <td>4</td>\n",
       "      <td>the muppet movie is the first , and the best m...</td>\n",
       "      <td>1</td>\n",
       "    </tr>\n",
       "  </tbody>\n",
       "</table>\n",
       "</div>"
      ],
      "text/plain": [
       "                                                text  label\n",
       "0  note : some may consider portions of the follo...      1\n",
       "1  note : some may consider portions of the follo...      1\n",
       "2  every once in a while you see a film that is s...      1\n",
       "3  when i was growing up in 1970s , boys in my sc...      1\n",
       "4  the muppet movie is the first , and the best m...      1"
      ]
     },
     "execution_count": 3,
     "metadata": {},
     "output_type": "execute_result"
    }
   ],
   "source": [
    "data_tr.head()"
   ]
  },
  {
   "cell_type": "markdown",
   "metadata": {},
   "source": [
    "The next step is to put the raw texts into Python lists and their corresponding labels into NumPy arrays:\n"
   ]
  },
  {
   "cell_type": "code",
   "execution_count": 4,
   "metadata": {
    "ExecuteTime": {
     "end_time": "2020-02-15T14:17:31.115577Z",
     "start_time": "2020-02-15T14:17:31.108038Z"
    }
   },
   "outputs": [],
   "source": [
    "# fill in your code...\n",
    "# put all 3 file into lists and array\n",
    "X_tr_raw = data_tr['text'].tolist() #DataFrame to python list\n",
    "Y_tr = data_tr['label'].values # DataFrame to numpy arrays\n",
    "\n",
    "X_dev_raw = data_dev['text'].tolist()\n",
    "Y_dev = data_dev['label'].values\n",
    "\n",
    "X_test_raw = data_te['text'].tolist()\n",
    "Y_te = data_te['label'].values  "
   ]
  },
  {
   "cell_type": "markdown",
   "metadata": {},
   "source": [
    "# Bag-of-Words Representation \n",
    "\n",
    "\n",
    "To train and test Logisitc Regression models, you first need to obtain vector representations for all documents given a vocabulary of features (unigrams, bigrams, trigrams).\n",
    "\n",
    "\n",
    "## Text Pre-Processing Pipeline\n",
    "\n",
    "To obtain a vocabulary of features, you should: \n",
    "- tokenise all texts into a list of unigrams (tip: using a regular expression) \n",
    "- remove stop words (using the one provided or one of your preference) \n",
    "- compute bigrams, trigrams given the remaining unigrams\n",
    "- remove ngrams appearing in less than K documents\n",
    "- use the remaining to create a vocabulary of unigrams, bigrams and trigrams (you can keep top N if you encounter memory issues).\n"
   ]
  },
  {
   "cell_type": "code",
   "execution_count": 5,
   "metadata": {
    "ExecuteTime": {
     "end_time": "2020-02-15T14:17:31.860420Z",
     "start_time": "2020-02-15T14:17:31.855439Z"
    }
   },
   "outputs": [],
   "source": [
    "stop_words = ['a','in','on','at','and','or', \n",
    "              'to', 'the', 'of', 'an', 'by', \n",
    "              'as', 'is', 'was', 'were', 'been', 'be', \n",
    "              'are','for', 'this', 'that', 'these', 'those', 'you', 'i',\n",
    "             'it', 'he', 'she', 'we', 'they' 'will', 'have', 'has',\n",
    "              'do', 'did', 'can', 'could', 'who', 'which', 'what', \n",
    "             'his', 'her', 'they', 'them', 'from', 'with', 'its']"
   ]
  },
  {
   "cell_type": "markdown",
   "metadata": {},
   "source": [
    "### N-gram extraction from a document\n",
    "\n",
    "You first need to implement the `extract_ngrams` function. It takes as input:\n",
    "- `x_raw`: a string corresponding to the raw text of a document\n",
    "- `ngram_range`: a tuple of two integers denoting the type of ngrams you want to extract, e.g. (1,2) denotes extracting unigrams and bigrams.\n",
    "- `token_pattern`: a string to be used within a regular expression to extract all tokens. Note that data is already tokenised so you could opt for a simple white space tokenisation.\n",
    "- `stop_words`: a list of stop words\n",
    "- `vocab`: a given vocabulary. It should be used to extract specific features.\n",
    "\n",
    "and returns:\n",
    "\n",
    "- a list of all extracted features.\n",
    "\n",
    "See the examples below to see how this function should work."
   ]
  },
  {
   "cell_type": "code",
   "execution_count": 6,
   "metadata": {
    "ExecuteTime": {
     "end_time": "2020-02-15T14:17:33.169090Z",
     "start_time": "2020-02-15T14:17:33.161268Z"
    }
   },
   "outputs": [],
   "source": [
    "def extract_ngrams(x_raw, ngram_range=(1,3), token_pattern=r'\\b[A-Za-z][A-Za-z]+\\b', stop_words=[], vocab=set()):\n",
    "    x = []\n",
    "    # Regular expression\n",
    "    pattern = re.compile(token_pattern).findall(x_raw.lower())    \n",
    "    # Get words without stop word\n",
    "    unigram = [word for word in pattern if word not in stop_words and re.match(token_pattern, word)] \n",
    "    # generate 3 types ngrams\n",
    "    for n in range(ngram_range[0], ngram_range[1]+1):\n",
    "        if n == 1:\n",
    "            x.extend(unigram)\n",
    "        elif n == 2:\n",
    "            x.extend([(word1, word2) for word1, word2 in zip(unigram[:-1], unigram[1:])])\n",
    "        elif n == 3:\n",
    "            x.extend([(word1, word2, word3) for word1, word2, word3 in zip(unigram[:-2], unigram[1:-1], unigram[2:])])\n",
    "        if len(vocab) != 0:\n",
    "            x = [w for w in x if w in vocab]        \n",
    "    return x\n",
    "    \n",
    "    # fill in your code...\n",
    "\n",
    "\n"
   ]
  },
  {
   "cell_type": "code",
   "execution_count": 7,
   "metadata": {
    "ExecuteTime": {
     "end_time": "2020-02-15T14:17:33.680114Z",
     "start_time": "2020-02-15T14:17:33.675339Z"
    }
   },
   "outputs": [
    {
     "data": {
      "text/plain": [
       "['great',\n",
       " 'movie',\n",
       " 'watch',\n",
       " ('great', 'movie'),\n",
       " ('movie', 'watch'),\n",
       " ('great', 'movie', 'watch')]"
      ]
     },
     "execution_count": 7,
     "metadata": {},
     "output_type": "execute_result"
    }
   ],
   "source": [
    "extract_ngrams(\"this is a great movie to watch\", \n",
    "               ngram_range=(1,3), \n",
    "               stop_words=stop_words)"
   ]
  },
  {
   "cell_type": "code",
   "execution_count": 8,
   "metadata": {
    "ExecuteTime": {
     "end_time": "2020-02-15T14:17:34.278189Z",
     "start_time": "2020-02-15T14:17:34.273722Z"
    }
   },
   "outputs": [
    {
     "data": {
      "text/plain": [
       "['great', ('great', 'movie')]"
      ]
     },
     "execution_count": 8,
     "metadata": {},
     "output_type": "execute_result"
    }
   ],
   "source": [
    "extract_ngrams(\"this is a great movie to watch\", \n",
    "               ngram_range=(1,2), \n",
    "               stop_words=stop_words, \n",
    "               vocab=set(['great',  ('great','movie')]))"
   ]
  },
  {
   "cell_type": "markdown",
   "metadata": {},
   "source": [
    "Note that it is OK to represent n-grams using lists instead of tuples: e.g. `['great', ['great', 'movie']]`"
   ]
  },
  {
   "cell_type": "markdown",
   "metadata": {},
   "source": [
    "### Create a vocabulary of n-grams\n",
    "\n",
    "Then the `get_vocab` function will be used to (1) create a vocabulary of ngrams; (2) count the document frequencies of ngrams; (3) their raw frequency. It takes as input:\n",
    "- `X_raw`: a list of strings each corresponding to the raw text of a document\n",
    "- `ngram_range`: a tuple of two integers denoting the type of ngrams you want to extract, e.g. (1,2) denotes extracting unigrams and bigrams.\n",
    "- `token_pattern`: a string to be used within a regular expression to extract all tokens. Note that data is already tokenised so you could opt for a simple white space tokenisation.\n",
    "- `stop_words`: a list of stop words\n",
    "- `vocab`: a given vocabulary. It should be used to extract specific features.\n",
    "- `min_df`: keep ngrams with a minimum document frequency.\n",
    "- `keep_topN`: keep top-N more frequent ngrams.\n",
    "\n",
    "and returns:\n",
    "\n",
    "- `vocab`: a set of the n-grams that will be used as features.\n",
    "- `df`: a Counter (or dict) that contains ngrams as keys and their corresponding document frequency as values.\n",
    "- `ngram_counts`: counts of each ngram in vocab\n",
    "\n",
    "Hint: it should make use of the `extract_ngrams` function."
   ]
  },
  {
   "cell_type": "code",
   "execution_count": 9,
   "metadata": {
    "ExecuteTime": {
     "end_time": "2020-02-15T14:17:35.821240Z",
     "start_time": "2020-02-15T14:17:35.814722Z"
    }
   },
   "outputs": [],
   "source": [
    "from collections import Counter\n",
    "\n",
    "def get_vocab(X_raw, ngram_range=(1,3), token_pattern=r'\\b[A-Za-z][A-Za-z]+\\b', min_df=0, keep_topN=0, stop_words=[]):\n",
    "    grams = []\n",
    "    for x in X_raw:\n",
    "          grams.extend(set(extract_ngrams(x, ngram_range, token_pattern, stop_words))) # get n-grams vocabulary list\n",
    "    df_grams = Counter(grams)\n",
    "    for key in df_grams.keys(): # if df value is smaller than required value, delete the element\n",
    "        if df_grams[key] < min_df:\n",
    "            del df_grams[key]\n",
    "    # get top N occur times in df\n",
    "    ngram_counts = df_grams.most_common(keep_topN) \n",
    "    # get word in ngram counts\n",
    "    vocab = set([word[0] for word in ngram_counts])\n",
    "    \n",
    "    # fill in your code...\n",
    "    \n",
    "    \n",
    "    return vocab, df_grams, ngram_counts"
   ]
  },
  {
   "cell_type": "markdown",
   "metadata": {},
   "source": [
    "Now you should use `get_vocab` to create your vocabulary and get document and raw frequencies of n-grams:"
   ]
  },
  {
   "cell_type": "code",
   "execution_count": 10,
   "metadata": {
    "ExecuteTime": {
     "end_time": "2020-02-15T14:17:39.319793Z",
     "start_time": "2020-02-15T14:17:36.836545Z"
    }
   },
   "outputs": [
    {
     "name": "stdout",
     "output_type": "stream",
     "text": [
      "5000\n",
      "\n",
      "['loved', 'proved', 'affection', 'added', 'modern', 'does', 'talent', 'costume', 'images', 'football', ('made', 'up'), 'defense', 'cross', 'samuel', ('into', 'world'), 'ensues', 'maintain', 'boasts', 'favorite', 'science', ('plot', 'twists'), 'how', 'lady', 'howard', 'unlike', 'secrets', 'trying', 'caliber', ('film', 'series'), 'cruise', 'form', 'obvious', 'brooks', 'keeping', 'distracting', 'murders', 'mildly', 'avoid', ('many', 'other'), 'clever', 'daughter', 'lane', 'being', ('some', 'may'), 'humor', ('first', 'place'), 'nearby', ('make', 'film'), 'showed', 'prepared', ('during', 'film'), 'sorts', 'turkey', 'fighting', 'expecting', 'techniques', 'written', ('ended', 'up'), 'll', ('film', 'some'), 'utterly', ('movie', 've'), 'macho', 'darkness', 'joblo', 'involving', 'basic', 'gain', 'speak', 'cinema', ('but', 'instead'), 'first', 'dose', 'joel', ('definitely', 'not'), 'effective', ('than', 'one'), ('but', 'once'), 'thrown', 'change', 'graphic', ('some', 'very'), 'adding', 'now', ('where', 'film'), 'rent', 'enjoying', 'band', 'stumbles', ('doesn', 'seem'), 'worthwhile', 'mission', 'videos', 'selling', 'showcase', ('make', 'me'), 'cannot', ('no', 'not'), ('course', 'there'), 'tyler']\n",
      "\n",
      "[('but', 1334), ('one', 1247), ('film', 1231), ('not', 1170), ('all', 1117), ('movie', 1095), ('out', 1080), ('so', 1047), ('there', 1046), ('like', 1043)]\n"
     ]
    }
   ],
   "source": [
    "vocab, df, ngram_counts = get_vocab(X_tr_raw, ngram_range=(1,3), keep_topN=5000, stop_words=stop_words)\n",
    "print(len(vocab))\n",
    "print()\n",
    "print(list(vocab)[:100])\n",
    "print()\n",
    "print(df.most_common()[:10])"
   ]
  },
  {
   "cell_type": "markdown",
   "metadata": {},
   "source": [
    "Then, you need to create vocabulary id -> word and id -> word dictionaries for reference:"
   ]
  },
  {
   "cell_type": "code",
   "execution_count": 11,
   "metadata": {
    "ExecuteTime": {
     "end_time": "2020-02-15T14:17:39.326811Z",
     "start_time": "2020-02-15T14:17:39.322256Z"
    }
   },
   "outputs": [],
   "source": [
    "# fill in your code...\n",
    "# generate word and corresponding id\n",
    "word_id = {}\n",
    "i = 0\n",
    "for i, w in enumerate(list(vocab)):\n",
    "    word_id[w] = i"
   ]
  },
  {
   "cell_type": "code",
   "execution_count": 12,
   "metadata": {},
   "outputs": [
    {
     "data": {
      "text/plain": [
       "{'loved': 0,\n",
       " 'proved': 1,\n",
       " 'affection': 2,\n",
       " 'added': 3,\n",
       " 'modern': 4,\n",
       " 'does': 5,\n",
       " 'talent': 6,\n",
       " 'costume': 7,\n",
       " 'images': 8,\n",
       " 'football': 9,\n",
       " ('made', 'up'): 10,\n",
       " 'defense': 11,\n",
       " 'cross': 12,\n",
       " 'samuel': 13,\n",
       " ('into', 'world'): 14,\n",
       " 'ensues': 15,\n",
       " 'maintain': 16,\n",
       " 'boasts': 17,\n",
       " 'favorite': 18,\n",
       " 'science': 19,\n",
       " ('plot', 'twists'): 20,\n",
       " 'how': 21,\n",
       " 'lady': 22,\n",
       " 'howard': 23,\n",
       " 'unlike': 24,\n",
       " 'secrets': 25,\n",
       " 'trying': 26,\n",
       " 'caliber': 27,\n",
       " ('film', 'series'): 28,\n",
       " 'cruise': 29,\n",
       " 'form': 30,\n",
       " 'obvious': 31,\n",
       " 'brooks': 32,\n",
       " 'keeping': 33,\n",
       " 'distracting': 34,\n",
       " 'murders': 35,\n",
       " 'mildly': 36,\n",
       " 'avoid': 37,\n",
       " ('many', 'other'): 38,\n",
       " 'clever': 39,\n",
       " 'daughter': 40,\n",
       " 'lane': 41,\n",
       " 'being': 42,\n",
       " ('some', 'may'): 43,\n",
       " 'humor': 44,\n",
       " ('first', 'place'): 45,\n",
       " 'nearby': 46,\n",
       " ('make', 'film'): 47,\n",
       " 'showed': 48,\n",
       " 'prepared': 49,\n",
       " ('during', 'film'): 50,\n",
       " 'sorts': 51,\n",
       " 'turkey': 52,\n",
       " 'fighting': 53,\n",
       " 'expecting': 54,\n",
       " 'techniques': 55,\n",
       " 'written': 56,\n",
       " ('ended', 'up'): 57,\n",
       " 'll': 58,\n",
       " ('film', 'some'): 59,\n",
       " 'utterly': 60,\n",
       " ('movie', 've'): 61,\n",
       " 'macho': 62,\n",
       " 'darkness': 63,\n",
       " 'joblo': 64,\n",
       " 'involving': 65,\n",
       " 'basic': 66,\n",
       " 'gain': 67,\n",
       " 'speak': 68,\n",
       " 'cinema': 69,\n",
       " ('but', 'instead'): 70,\n",
       " 'first': 71,\n",
       " 'dose': 72,\n",
       " 'joel': 73,\n",
       " ('definitely', 'not'): 74,\n",
       " 'effective': 75,\n",
       " ('than', 'one'): 76,\n",
       " ('but', 'once'): 77,\n",
       " 'thrown': 78,\n",
       " 'change': 79,\n",
       " 'graphic': 80,\n",
       " ('some', 'very'): 81,\n",
       " 'adding': 82,\n",
       " 'now': 83,\n",
       " ('where', 'film'): 84,\n",
       " 'rent': 85,\n",
       " 'enjoying': 86,\n",
       " 'band': 87,\n",
       " 'stumbles': 88,\n",
       " ('doesn', 'seem'): 89,\n",
       " 'worthwhile': 90,\n",
       " 'mission': 91,\n",
       " 'videos': 92,\n",
       " 'selling': 93,\n",
       " 'showcase': 94,\n",
       " ('make', 'me'): 95,\n",
       " 'cannot': 96,\n",
       " ('no', 'not'): 97,\n",
       " ('course', 'there'): 98,\n",
       " 'tyler': 99,\n",
       " 'ran': 100,\n",
       " ('writer', 'director'): 101,\n",
       " 'sets': 102,\n",
       " 'shy': 103,\n",
       " ('jack', 'nicholson'): 104,\n",
       " 'challenge': 105,\n",
       " 'requires': 106,\n",
       " 'fair': 107,\n",
       " 'sequel': 108,\n",
       " 'none': 109,\n",
       " ('science', 'fiction'): 110,\n",
       " 'keaton': 111,\n",
       " ('neve', 'campbell'): 112,\n",
       " 'up': 113,\n",
       " 'unfolds': 114,\n",
       " ('just', 'don'): 115,\n",
       " 'fed': 116,\n",
       " 'mouthed': 117,\n",
       " 'average': 118,\n",
       " 'rights': 119,\n",
       " 'signs': 120,\n",
       " 'bar': 121,\n",
       " ('there', 'few'): 122,\n",
       " 'slightly': 123,\n",
       " ('last', 'time'): 124,\n",
       " ('all', 'but'): 125,\n",
       " 'penn': 126,\n",
       " 'kid': 127,\n",
       " 'try': 128,\n",
       " 'feeling': 129,\n",
       " 'isn': 130,\n",
       " 'remember': 131,\n",
       " 'forced': 132,\n",
       " 'specific': 133,\n",
       " 'farm': 134,\n",
       " 'eating': 135,\n",
       " 'enter': 136,\n",
       " 'choice': 137,\n",
       " 'academy': 138,\n",
       " ('make', 'him'): 139,\n",
       " 'knowing': 140,\n",
       " 'writers': 141,\n",
       " ('movies', 'like'): 142,\n",
       " 'journey': 143,\n",
       " 'painfully': 144,\n",
       " ('but', 'after'): 145,\n",
       " ('will', 'never'): 146,\n",
       " 'cult': 147,\n",
       " ('sets', 'up'): 148,\n",
       " 'dancing': 149,\n",
       " 'ego': 150,\n",
       " ('all', 'characters'): 151,\n",
       " 'security': 152,\n",
       " 'asking': 153,\n",
       " 'box': 154,\n",
       " 'bomb': 155,\n",
       " ('turned', 'into'): 156,\n",
       " 'dance': 157,\n",
       " 'saying': 158,\n",
       " 'hell': 159,\n",
       " 'soldier': 160,\n",
       " 'lonely': 161,\n",
       " ('film', 'itself'): 162,\n",
       " 'assistant': 163,\n",
       " 'elizabeth': 164,\n",
       " 'portrait': 165,\n",
       " 'lands': 166,\n",
       " 'dangerous': 167,\n",
       " 'built': 168,\n",
       " 'find': 169,\n",
       " 'audience': 170,\n",
       " 'scares': 171,\n",
       " 'carefully': 172,\n",
       " 'camera': 173,\n",
       " 'ear': 174,\n",
       " 'baseball': 175,\n",
       " 'jack': 176,\n",
       " ('main', 'problem'): 177,\n",
       " ('uma', 'thurman'): 178,\n",
       " ('seen', 'all'): 179,\n",
       " 'pie': 180,\n",
       " ('any', 'more'): 181,\n",
       " 'lead': 182,\n",
       " ('film', 'film'): 183,\n",
       " 'satisfying': 184,\n",
       " 'brown': 185,\n",
       " ('more', 'than'): 186,\n",
       " 'crowd': 187,\n",
       " ('way', 'too'): 188,\n",
       " 'remote': 189,\n",
       " 'sounds': 190,\n",
       " ('out', 'place'): 191,\n",
       " 'initial': 192,\n",
       " 'entry': 193,\n",
       " 'toy': 194,\n",
       " 'memories': 195,\n",
       " 'esque': 196,\n",
       " 'originally': 197,\n",
       " ('good', 'guys'): 198,\n",
       " 'single': 199,\n",
       " 'predictable': 200,\n",
       " 'sharp': 201,\n",
       " 'served': 202,\n",
       " 'ex': 203,\n",
       " ('not', 'exactly'): 204,\n",
       " 'films': 205,\n",
       " ('trust', 'me'): 206,\n",
       " 'father': 207,\n",
       " 'douglas': 208,\n",
       " 'naturally': 209,\n",
       " ('about', 'movie'): 210,\n",
       " 'achieve': 211,\n",
       " ('some', 'people'): 212,\n",
       " ('story', 'line'): 213,\n",
       " ('years', 'ago'): 214,\n",
       " 'terrific': 215,\n",
       " ('makes', 'up'): 216,\n",
       " 'distinct': 217,\n",
       " ('little', 'known'): 218,\n",
       " 'standard': 219,\n",
       " 'helped': 220,\n",
       " 'streets': 221,\n",
       " ('too', 'many'): 222,\n",
       " 'indeed': 223,\n",
       " 'convinced': 224,\n",
       " 'solid': 225,\n",
       " 'dimensional': 226,\n",
       " 'strength': 227,\n",
       " 'utter': 228,\n",
       " ('tim', 'burton'): 229,\n",
       " 'prize': 230,\n",
       " 'finest': 231,\n",
       " 'sees': 232,\n",
       " 'watched': 233,\n",
       " 'internet': 234,\n",
       " 'image': 235,\n",
       " 'lie': 236,\n",
       " 'musical': 237,\n",
       " 'asleep': 238,\n",
       " 'kinds': 239,\n",
       " 'fire': 240,\n",
       " ('very', 'funny'): 241,\n",
       " 'point': 242,\n",
       " 'executive': 243,\n",
       " ('just', 'about'): 244,\n",
       " ('just', 'plain'): 245,\n",
       " 'convinces': 246,\n",
       " ('one', 'but'): 247,\n",
       " 'granted': 248,\n",
       " 'leave': 249,\n",
       " 'strikes': 250,\n",
       " ('minutes', 'into'): 251,\n",
       " 'relationship': 252,\n",
       " 'assigned': 253,\n",
       " 'energy': 254,\n",
       " ('even', 'when'): 255,\n",
       " 'revealing': 256,\n",
       " 'bag': 257,\n",
       " ('both', 'films'): 258,\n",
       " 'psychological': 259,\n",
       " 'rush': 260,\n",
       " 'couldn': 261,\n",
       " 'weird': 262,\n",
       " 'pointless': 263,\n",
       " 'original': 264,\n",
       " 'broken': 265,\n",
       " 'sister': 266,\n",
       " ('film', 'looks'): 267,\n",
       " ('things', 'about'): 268,\n",
       " ('would', 'like'): 269,\n",
       " 'slasher': 270,\n",
       " 'scene': 271,\n",
       " 'explains': 272,\n",
       " 'cope': 273,\n",
       " 'paris': 274,\n",
       " 'profound': 275,\n",
       " 'agents': 276,\n",
       " ('small', 'role'): 277,\n",
       " 'slight': 278,\n",
       " 'greatness': 279,\n",
       " 'commentary': 280,\n",
       " 'sustain': 281,\n",
       " 'tune': 282,\n",
       " ('movie', 'would'): 283,\n",
       " ('just', 'too'): 284,\n",
       " 'ape': 285,\n",
       " 'washington': 286,\n",
       " 'movie': 287,\n",
       " 'pulled': 288,\n",
       " ('least', 'one'): 289,\n",
       " ('one', 'character'): 290,\n",
       " 'celebrity': 291,\n",
       " ('him', 'into'): 292,\n",
       " 'bitter': 293,\n",
       " 'murray': 294,\n",
       " 'come': 295,\n",
       " 'heads': 296,\n",
       " ('one', 'day'): 297,\n",
       " 'pleasure': 298,\n",
       " 'refuses': 299,\n",
       " ('re', 'not'): 300,\n",
       " 'catches': 301,\n",
       " 'local': 302,\n",
       " 'brothers': 303,\n",
       " 'franchise': 304,\n",
       " 'apparently': 305,\n",
       " ('television', 'series'): 306,\n",
       " 'loyal': 307,\n",
       " 'charisma': 308,\n",
       " ('up', 'their'): 309,\n",
       " 'seen': 310,\n",
       " ('each', 'other'): 311,\n",
       " 'when': 312,\n",
       " 'efforts': 313,\n",
       " 'object': 314,\n",
       " 'easily': 315,\n",
       " 'rain': 316,\n",
       " 'themes': 317,\n",
       " ('face', 'off'): 318,\n",
       " 'later': 319,\n",
       " ('least', 'bit'): 320,\n",
       " ('main', 'characters'): 321,\n",
       " 'stopped': 322,\n",
       " 'horse': 323,\n",
       " 'land': 324,\n",
       " 'faithful': 325,\n",
       " ('film', 'seems'): 326,\n",
       " ('one', 'many'): 327,\n",
       " ('comic', 'relief'): 328,\n",
       " 'comical': 329,\n",
       " 'catherine': 330,\n",
       " 'enters': 331,\n",
       " 'birthday': 332,\n",
       " ('ve', 'ever', 'seen'): 333,\n",
       " 'geoffrey': 334,\n",
       " ('so', 'many'): 335,\n",
       " 'weak': 336,\n",
       " ('don', 'get', 'me'): 337,\n",
       " ('something', 'like'): 338,\n",
       " 'any': 339,\n",
       " 'amusing': 340,\n",
       " 'insight': 341,\n",
       " 'settle': 342,\n",
       " ('without', 'any'): 343,\n",
       " 'fairly': 344,\n",
       " 'arms': 345,\n",
       " 'speaks': 346,\n",
       " ('take', 'place'): 347,\n",
       " ('let', 'alone'): 348,\n",
       " 'noticed': 349,\n",
       " ('keanu', 'reeves'): 350,\n",
       " 'broadcast': 351,\n",
       " 'skin': 352,\n",
       " 'noble': 353,\n",
       " 'both': 354,\n",
       " 'carries': 355,\n",
       " ('absolutely', 'no'): 356,\n",
       " 'romance': 357,\n",
       " 'brain': 358,\n",
       " 'commanding': 359,\n",
       " 'baldwin': 360,\n",
       " 'definitely': 361,\n",
       " 'intelligence': 362,\n",
       " 'laughable': 363,\n",
       " ('some', 'best'): 364,\n",
       " 'trailer': 365,\n",
       " ('when', 'one'): 366,\n",
       " 'iii': 367,\n",
       " 'lesser': 368,\n",
       " ('so', 'long'): 369,\n",
       " 'visits': 370,\n",
       " 'model': 371,\n",
       " 'consistently': 372,\n",
       " 'compelling': 373,\n",
       " 'desperate': 374,\n",
       " 'laugh': 375,\n",
       " 'sean': 376,\n",
       " 'run': 377,\n",
       " 'flawed': 378,\n",
       " 'barrymore': 379,\n",
       " ('some', 'more'): 380,\n",
       " 'ideal': 381,\n",
       " 'interaction': 382,\n",
       " 'includes': 383,\n",
       " 'rebecca': 384,\n",
       " 'vice': 385,\n",
       " 'pile': 386,\n",
       " ('though', 'there'): 387,\n",
       " 'act': 388,\n",
       " 'cameo': 389,\n",
       " 'bumbling': 390,\n",
       " 'festival': 391,\n",
       " 'though': 392,\n",
       " 'outrageous': 393,\n",
       " 'stay': 394,\n",
       " 'talented': 395,\n",
       " 'reading': 396,\n",
       " 'johnson': 397,\n",
       " 'creator': 398,\n",
       " 'alive': 399,\n",
       " 'independent': 400,\n",
       " 'don': 401,\n",
       " 'direction': 402,\n",
       " ('more', 'like'): 403,\n",
       " 'fox': 404,\n",
       " 'convicted': 405,\n",
       " ('lot', 'more'): 406,\n",
       " 'exploring': 407,\n",
       " 'century': 408,\n",
       " 'financial': 409,\n",
       " 'disappointing': 410,\n",
       " 'revealed': 411,\n",
       " 'teenagers': 412,\n",
       " 'enjoyment': 413,\n",
       " ('so', 'called'): 414,\n",
       " 'wide': 415,\n",
       " 'supposed': 416,\n",
       " 'saves': 417,\n",
       " ('more', 'than', 'just'): 418,\n",
       " 'promise': 419,\n",
       " ('check', 'out'): 420,\n",
       " ('takes', 'place'): 421,\n",
       " ('liam', 'neeson'): 422,\n",
       " 'revolves': 423,\n",
       " 'clues': 424,\n",
       " 'exactly': 425,\n",
       " 'cop': 426,\n",
       " ('but', 'will'): 427,\n",
       " ('finds', 'himself'): 428,\n",
       " 'pretentious': 429,\n",
       " 'stage': 430,\n",
       " 'burning': 431,\n",
       " 'window': 432,\n",
       " ('film', 'too'): 433,\n",
       " 'yourself': 434,\n",
       " ('good', 'but'): 435,\n",
       " 'problem': 436,\n",
       " 'looking': 437,\n",
       " ('there', 'so'): 438,\n",
       " 'portrays': 439,\n",
       " 'amy': 440,\n",
       " ('there', 'one'): 441,\n",
       " 'justice': 442,\n",
       " ('but', 'would'): 443,\n",
       " 'alex': 444,\n",
       " 'sheriff': 445,\n",
       " 'respectable': 446,\n",
       " 'monsters': 447,\n",
       " ('tells', 'him'): 448,\n",
       " ('entire', 'film'): 449,\n",
       " 'west': 450,\n",
       " ('film', 'just'): 451,\n",
       " 'too': 452,\n",
       " 'affleck': 453,\n",
       " 'foul': 454,\n",
       " 'safety': 455,\n",
       " 'gradually': 456,\n",
       " 'dog': 457,\n",
       " 'stick': 458,\n",
       " 'admirable': 459,\n",
       " 'suggests': 460,\n",
       " 'director': 461,\n",
       " 'hires': 462,\n",
       " 'mob': 463,\n",
       " ('film', 'really'): 464,\n",
       " 'inevitably': 465,\n",
       " 'hospital': 466,\n",
       " 'easier': 467,\n",
       " ('no', 'less'): 468,\n",
       " ('long', 'time'): 469,\n",
       " 'ford': 470,\n",
       " 'graham': 471,\n",
       " 'chain': 472,\n",
       " 'twin': 473,\n",
       " 'states': 474,\n",
       " 'issue': 475,\n",
       " ('none', 'other'): 476,\n",
       " ('movie', 'most'): 477,\n",
       " 'succeed': 478,\n",
       " ('get', 'me'): 479,\n",
       " 'proceeds': 480,\n",
       " ('fun', 'watch'): 481,\n",
       " 'returns': 482,\n",
       " 'male': 483,\n",
       " 'crafted': 484,\n",
       " 'absent': 485,\n",
       " 'rocks': 486,\n",
       " ('film', 'like'): 487,\n",
       " ('their', 'lives'): 488,\n",
       " 'semi': 489,\n",
       " 'obi': 490,\n",
       " ('movie', 'if'): 491,\n",
       " ('watch', 'film'): 492,\n",
       " ('hong', 'kong'): 493,\n",
       " 'bringing': 494,\n",
       " 'tv': 495,\n",
       " 'profile': 496,\n",
       " 'greg': 497,\n",
       " ('like', 'him'): 498,\n",
       " 'luke': 499,\n",
       " 'hit': 500,\n",
       " ('up', 'all'): 501,\n",
       " ('every', 'single'): 502,\n",
       " 'lone': 503,\n",
       " 'material': 504,\n",
       " 'whatsoever': 505,\n",
       " ('young', 'boy'): 506,\n",
       " 'king': 507,\n",
       " 'established': 508,\n",
       " 'oz': 509,\n",
       " ('lot', 'like'): 510,\n",
       " 'paper': 511,\n",
       " 'give': 512,\n",
       " 'drew': 513,\n",
       " 'thinks': 514,\n",
       " 'comfortable': 515,\n",
       " ('not', 'very'): 516,\n",
       " 'sort': 517,\n",
       " 'focus': 518,\n",
       " ('one', 'would'): 519,\n",
       " 'jason': 520,\n",
       " 'natural': 521,\n",
       " 'location': 522,\n",
       " 'encounters': 523,\n",
       " 'dealer': 524,\n",
       " ('so', 'film'): 525,\n",
       " ('sets', 'out'): 526,\n",
       " ('no', 'longer'): 527,\n",
       " 'workers': 528,\n",
       " ('movies', 'but'): 529,\n",
       " 'receiving': 530,\n",
       " 'figures': 531,\n",
       " 'liked': 532,\n",
       " ('all', 'about'): 533,\n",
       " 'read': 534,\n",
       " 'refreshing': 535,\n",
       " 'possessed': 536,\n",
       " 'generally': 537,\n",
       " 'meanwhile': 538,\n",
       " 'clean': 539,\n",
       " 'slips': 540,\n",
       " 'underdeveloped': 541,\n",
       " 'earlier': 542,\n",
       " 'agree': 543,\n",
       " 'happening': 544,\n",
       " ('know', 'but'): 545,\n",
       " ('go', 'see'): 546,\n",
       " ('starts', 'out'): 547,\n",
       " 'excited': 548,\n",
       " 'digital': 549,\n",
       " 'blow': 550,\n",
       " 'kilmer': 551,\n",
       " 'songs': 552,\n",
       " 'hopelessly': 553,\n",
       " ('there', 'other'): 554,\n",
       " ('only', 'reason'): 555,\n",
       " 'early': 556,\n",
       " 'mental': 557,\n",
       " 'unfortunately': 558,\n",
       " 'full': 559,\n",
       " 'imagine': 560,\n",
       " 'painful': 561,\n",
       " ('found', 'myself'): 562,\n",
       " 'staged': 563,\n",
       " 'aspects': 564,\n",
       " ('get', 'away'): 565,\n",
       " 'stands': 566,\n",
       " ('get', 'him'): 567,\n",
       " 'blatantly': 568,\n",
       " 'southern': 569,\n",
       " ('story', 'told'): 570,\n",
       " 'join': 571,\n",
       " 'reluctant': 572,\n",
       " 'acclaimed': 573,\n",
       " 'lawrence': 574,\n",
       " 'naive': 575,\n",
       " 'slow': 576,\n",
       " ('say', 'about'): 577,\n",
       " 'crash': 578,\n",
       " 'knife': 579,\n",
       " 'admit': 580,\n",
       " 'crisis': 581,\n",
       " ('around', 'him'): 582,\n",
       " ('best', 'film'): 583,\n",
       " ('even', 'better'): 584,\n",
       " 'but': 585,\n",
       " 'scenery': 586,\n",
       " 'marc': 587,\n",
       " 'barry': 588,\n",
       " 'route': 589,\n",
       " 'clumsy': 590,\n",
       " 'trend': 591,\n",
       " ('something', 'more'): 592,\n",
       " 'odd': 593,\n",
       " 'arrow': 594,\n",
       " 'eyes': 595,\n",
       " ('one', 'point'): 596,\n",
       " 'luckily': 597,\n",
       " 'context': 598,\n",
       " 'wonders': 599,\n",
       " 'tiny': 600,\n",
       " ('really', 'good'): 601,\n",
       " 'closing': 602,\n",
       " 'large': 603,\n",
       " 'boring': 604,\n",
       " 'killed': 605,\n",
       " 'spends': 606,\n",
       " 'says': 607,\n",
       " ('enough', 'make'): 608,\n",
       " 'firm': 609,\n",
       " 'gets': 610,\n",
       " 'dvd': 611,\n",
       " 'co': 612,\n",
       " 'intellectual': 613,\n",
       " 'files': 614,\n",
       " ('one', 'two'): 615,\n",
       " 'roles': 616,\n",
       " 'born': 617,\n",
       " ('cast', 'members'): 618,\n",
       " ('film', 'should'): 619,\n",
       " 'son': 620,\n",
       " 'prisoner': 621,\n",
       " 'split': 622,\n",
       " 'hire': 623,\n",
       " 'hadn': 624,\n",
       " ('another', 'one'): 625,\n",
       " 'realizes': 626,\n",
       " 'cliches': 627,\n",
       " 'killers': 628,\n",
       " ('five', 'years'): 629,\n",
       " 'portraying': 630,\n",
       " 'phony': 631,\n",
       " 'planet': 632,\n",
       " 'picks': 633,\n",
       " 'causes': 634,\n",
       " 'caused': 635,\n",
       " 'manner': 636,\n",
       " ('although', 'not'): 637,\n",
       " 'hoping': 638,\n",
       " ('opening', 'credits'): 639,\n",
       " 'position': 640,\n",
       " ('oscar', 'nomination'): 641,\n",
       " 'opposite': 642,\n",
       " 'heck': 643,\n",
       " 'hits': 644,\n",
       " 'projects': 645,\n",
       " 'smile': 646,\n",
       " 'appreciated': 647,\n",
       " 'hanks': 648,\n",
       " 'potentially': 649,\n",
       " ('live', 'up'): 650,\n",
       " 'halloween': 651,\n",
       " 'gambling': 652,\n",
       " 'explaining': 653,\n",
       " 'chan': 654,\n",
       " 'handle': 655,\n",
       " 'originality': 656,\n",
       " 'kills': 657,\n",
       " 'moment': 658,\n",
       " 'fame': 659,\n",
       " 'kept': 660,\n",
       " 'east': 661,\n",
       " ('first', 'time'): 662,\n",
       " 'irritating': 663,\n",
       " 'steal': 664,\n",
       " 'essentially': 665,\n",
       " ('bad', 'guy'): 666,\n",
       " 'miss': 667,\n",
       " 'seeing': 668,\n",
       " 'begin': 669,\n",
       " 'payoff': 670,\n",
       " ('seem', 'like'): 671,\n",
       " 'inability': 672,\n",
       " ('york', 'city'): 673,\n",
       " ('most', 'time'): 674,\n",
       " 'goal': 675,\n",
       " 'pay': 676,\n",
       " 'else': 677,\n",
       " ('two', 'hour'): 678,\n",
       " 'striking': 679,\n",
       " 'blood': 680,\n",
       " ('very', 'few'): 681,\n",
       " ('all', 'things'): 682,\n",
       " ('left', 'me'): 683,\n",
       " 'street': 684,\n",
       " 'sleep': 685,\n",
       " 'base': 686,\n",
       " 'trek': 687,\n",
       " ('nothing', 'else'): 688,\n",
       " 'cards': 689,\n",
       " 'vast': 690,\n",
       " 'substance': 691,\n",
       " 'worry': 692,\n",
       " ('horror', 'film'): 693,\n",
       " 'protagonists': 694,\n",
       " ('other', 'words'): 695,\n",
       " 'interested': 696,\n",
       " 'climax': 697,\n",
       " 'blair': 698,\n",
       " ('only', 'few'): 699,\n",
       " 'holes': 700,\n",
       " 'hack': 701,\n",
       " ('anything', 'more'): 702,\n",
       " 'feels': 703,\n",
       " ('real', 'people'): 704,\n",
       " ('film', 'more'): 705,\n",
       " 'vampire': 706,\n",
       " 'believes': 707,\n",
       " 'intensity': 708,\n",
       " 'linda': 709,\n",
       " 'hank': 710,\n",
       " 'dialogue': 711,\n",
       " 'answers': 712,\n",
       " 'fantastic': 713,\n",
       " 'turn': 714,\n",
       " ('should', 'not'): 715,\n",
       " ('look', 'like'): 716,\n",
       " 'surrounded': 717,\n",
       " 'reached': 718,\n",
       " ('don', 'care'): 719,\n",
       " 'placed': 720,\n",
       " 'trash': 721,\n",
       " ('big', 'screen'): 722,\n",
       " 'press': 723,\n",
       " 'want': 724,\n",
       " 'got': 725,\n",
       " 'carry': 726,\n",
       " 'gabriel': 727,\n",
       " 'credit': 728,\n",
       " 'suit': 729,\n",
       " ('not', 'bad'): 730,\n",
       " 'losing': 731,\n",
       " 'expert': 732,\n",
       " 'random': 733,\n",
       " 'theaters': 734,\n",
       " 'load': 735,\n",
       " 'detailed': 736,\n",
       " 'immensely': 737,\n",
       " 'themselves': 738,\n",
       " 'threatens': 739,\n",
       " 'influence': 740,\n",
       " ('way', 'out'): 741,\n",
       " 'noticeable': 742,\n",
       " 'expectations': 743,\n",
       " 'grew': 744,\n",
       " 'until': 745,\n",
       " 'whatever': 746,\n",
       " 'actions': 747,\n",
       " 'producing': 748,\n",
       " 'battles': 749,\n",
       " 'touching': 750,\n",
       " 'dollars': 751,\n",
       " 'discuss': 752,\n",
       " 'kate': 753,\n",
       " 'dialog': 754,\n",
       " 'relatively': 755,\n",
       " ('simply', 'because'): 756,\n",
       " 'loser': 757,\n",
       " 'terrifying': 758,\n",
       " 'tech': 759,\n",
       " 'fell': 760,\n",
       " ('characters', 'not'): 761,\n",
       " 'dreams': 762,\n",
       " 'bodies': 763,\n",
       " ('find', 'out'): 764,\n",
       " ('probably', 'not'): 765,\n",
       " ('film', 'director'): 766,\n",
       " 'lives': 767,\n",
       " 'continually': 768,\n",
       " 'remains': 769,\n",
       " ('first', 'one'): 770,\n",
       " 'length': 771,\n",
       " 'cases': 772,\n",
       " 'magnificent': 773,\n",
       " ('real', 'world'): 774,\n",
       " 'praise': 775,\n",
       " 'path': 776,\n",
       " 'effectively': 777,\n",
       " 'everyday': 778,\n",
       " 'tommy': 779,\n",
       " 'handsome': 780,\n",
       " 'my': 781,\n",
       " 'grows': 782,\n",
       " ('worth', 'seeing'): 783,\n",
       " 'reveal': 784,\n",
       " 'acceptable': 785,\n",
       " 'distant': 786,\n",
       " 'okay': 787,\n",
       " 'groups': 788,\n",
       " 'him': 789,\n",
       " 'confused': 790,\n",
       " ('film', 'there'): 791,\n",
       " 'area': 792,\n",
       " ('little', 'girl'): 793,\n",
       " 'itself': 794,\n",
       " 'reach': 795,\n",
       " 'most': 796,\n",
       " 'assume': 797,\n",
       " ('go', 'through'): 798,\n",
       " 'magical': 799,\n",
       " ('half', 'hour'): 800,\n",
       " 'dumb': 801,\n",
       " ('don', 'think'): 802,\n",
       " 'chaos': 803,\n",
       " 'drunk': 804,\n",
       " 'senses': 805,\n",
       " 'joins': 806,\n",
       " 'topic': 807,\n",
       " 'kinda': 808,\n",
       " 'enemy': 809,\n",
       " 'hates': 810,\n",
       " 'un': 811,\n",
       " 'ultimately': 812,\n",
       " ('matter', 'how'): 813,\n",
       " 'throughout': 814,\n",
       " 'door': 815,\n",
       " 'government': 816,\n",
       " 'vehicle': 817,\n",
       " 'airplane': 818,\n",
       " 'struggle': 819,\n",
       " 'foot': 820,\n",
       " ('one', 'their'): 821,\n",
       " 'larger': 822,\n",
       " ('seems', 'like'): 823,\n",
       " ('know', 'last'): 824,\n",
       " 'phantom': 825,\n",
       " 'saving': 826,\n",
       " 'ridiculous': 827,\n",
       " 'warned': 828,\n",
       " 'training': 829,\n",
       " ('would', 'take'): 830,\n",
       " ('best', 'known'): 831,\n",
       " 'youth': 832,\n",
       " ('only', 'thing'): 833,\n",
       " ('there', 'much'): 834,\n",
       " 'interest': 835,\n",
       " 'stunning': 836,\n",
       " 'research': 837,\n",
       " 'learning': 838,\n",
       " 'hands': 839,\n",
       " 'credibility': 840,\n",
       " 'silent': 841,\n",
       " 'deals': 842,\n",
       " ('some', 'most'): 843,\n",
       " 'thinking': 844,\n",
       " 'ago': 845,\n",
       " 'witty': 846,\n",
       " 'old': 847,\n",
       " 'matrix': 848,\n",
       " 'actresses': 849,\n",
       " 'knew': 850,\n",
       " 'bruce': 851,\n",
       " 'storm': 852,\n",
       " 'designed': 853,\n",
       " 'maybe': 854,\n",
       " 'eric': 855,\n",
       " 'genres': 856,\n",
       " 'felt': 857,\n",
       " 'between': 858,\n",
       " 'satire': 859,\n",
       " 'assured': 860,\n",
       " 'imagery': 861,\n",
       " 'evident': 862,\n",
       " 'considerably': 863,\n",
       " ('couldn', 'help'): 864,\n",
       " ('over', 'top'): 865,\n",
       " 'consists': 866,\n",
       " 'fat': 867,\n",
       " 'tricks': 868,\n",
       " 'news': 869,\n",
       " 'witch': 870,\n",
       " ('would', 'make'): 871,\n",
       " 'if': 872,\n",
       " ('film', 'about'): 873,\n",
       " ('know', 'how'): 874,\n",
       " 'hence': 875,\n",
       " ('had', 'no'): 876,\n",
       " 'hype': 877,\n",
       " 'marriage': 878,\n",
       " 'nails': 879,\n",
       " 'notch': 880,\n",
       " 'teaching': 881,\n",
       " 'robert': 882,\n",
       " 'nick': 883,\n",
       " 'flashy': 884,\n",
       " 'awe': 885,\n",
       " ('put', 'into'): 886,\n",
       " ('all', 'film'): 887,\n",
       " 'johnny': 888,\n",
       " 'madness': 889,\n",
       " 'maker': 890,\n",
       " ('final', 'scene'): 891,\n",
       " 'queen': 892,\n",
       " ('almost', 'every'): 893,\n",
       " 'common': 894,\n",
       " 'crossing': 895,\n",
       " ('art', 'direction'): 896,\n",
       " 'mindless': 897,\n",
       " 'depressing': 898,\n",
       " 'award': 899,\n",
       " 'carrey': 900,\n",
       " 'seemed': 901,\n",
       " 'range': 902,\n",
       " 'before': 903,\n",
       " 'rape': 904,\n",
       " 'cast': 905,\n",
       " 'party': 906,\n",
       " 'gone': 907,\n",
       " 'open': 908,\n",
       " 'broad': 909,\n",
       " 'pulls': 910,\n",
       " 'traditional': 911,\n",
       " ('bottom', 'line'): 912,\n",
       " 'evidence': 913,\n",
       " 'pays': 914,\n",
       " 'letting': 915,\n",
       " 'gorgeous': 916,\n",
       " ('morgan', 'freeman'): 917,\n",
       " 'presentation': 918,\n",
       " 'quaid': 919,\n",
       " ('probably', 'best'): 920,\n",
       " ('one', 'good'): 921,\n",
       " 'inspiring': 922,\n",
       " 'unique': 923,\n",
       " 'violent': 924,\n",
       " 'james': 925,\n",
       " 'elements': 926,\n",
       " 'often': 927,\n",
       " 'impression': 928,\n",
       " 'jake': 929,\n",
       " 'appeared': 930,\n",
       " ('revolves', 'around'): 931,\n",
       " 'absolutely': 932,\n",
       " ('had', 'seen'): 933,\n",
       " ('about', 'all'): 934,\n",
       " ('there', 'really'): 935,\n",
       " 'decidedly': 936,\n",
       " 'offended': 937,\n",
       " 'onscreen': 938,\n",
       " ('but', 'really'): 939,\n",
       " 'bus': 940,\n",
       " 'target': 941,\n",
       " 'suspects': 942,\n",
       " ('doesn', 'get'): 943,\n",
       " ('when', 'first'): 944,\n",
       " 'sexuality': 945,\n",
       " ('figure', 'out'): 946,\n",
       " 'build': 947,\n",
       " 'afraid': 948,\n",
       " 'younger': 949,\n",
       " 'understated': 950,\n",
       " 'arrives': 951,\n",
       " ('film', 'starts'): 952,\n",
       " 'dirty': 953,\n",
       " 'passed': 954,\n",
       " ('one', 'scene'): 955,\n",
       " 'example': 956,\n",
       " 'previously': 957,\n",
       " 'times': 958,\n",
       " 'term': 959,\n",
       " 'entertain': 960,\n",
       " 'died': 961,\n",
       " 'jim': 962,\n",
       " 'police': 963,\n",
       " 'soul': 964,\n",
       " 'goofy': 965,\n",
       " 'highly': 966,\n",
       " 'warren': 967,\n",
       " 'visually': 968,\n",
       " 'subject': 969,\n",
       " 'lack': 970,\n",
       " 'distance': 971,\n",
       " 'sing': 972,\n",
       " 'escapes': 973,\n",
       " ('very', 'bad'): 974,\n",
       " 'whether': 975,\n",
       " ('there', 'too'): 976,\n",
       " 'terminator': 977,\n",
       " 'authentic': 978,\n",
       " 'tunes': 979,\n",
       " 'plan': 980,\n",
       " ('don', 'make'): 981,\n",
       " 'provides': 982,\n",
       " 'investigator': 983,\n",
       " 'apple': 984,\n",
       " 'jane': 985,\n",
       " 'ages': 986,\n",
       " 'horny': 987,\n",
       " 'developed': 988,\n",
       " ('every', 'scene'): 989,\n",
       " 'sex': 990,\n",
       " 'eat': 991,\n",
       " 'stranger': 992,\n",
       " 'shannon': 993,\n",
       " ('but', 'don'): 994,\n",
       " ('first', 'film'): 995,\n",
       " 'clooney': 996,\n",
       " 'theatrical': 997,\n",
       " ('world', 'war'): 998,\n",
       " ('production', 'values'): 999,\n",
       " ...}"
      ]
     },
     "execution_count": 12,
     "metadata": {},
     "output_type": "execute_result"
    }
   ],
   "source": [
    "word_id"
   ]
  },
  {
   "cell_type": "markdown",
   "metadata": {},
   "source": [
    "Now you should be able to extract n-grams for each text in the training, development and test sets:"
   ]
  },
  {
   "cell_type": "code",
   "execution_count": 13,
   "metadata": {
    "ExecuteTime": {
     "end_time": "2020-02-15T14:17:40.213253Z",
     "start_time": "2020-02-15T14:17:39.329147Z"
    }
   },
   "outputs": [],
   "source": [
    "# fill in your code...\n",
    "X_train_ngram = []\n",
    "X_dev_ngram = []\n",
    "X_test_ngram = []\n",
    "\n",
    "# generate 3 file's ngrams list\n",
    "for i in X_tr_raw:\n",
    "    X_train_ngram.append(extract_ngrams(i, ngram_range=(1,3), token_pattern=r'\\b[A-Za-z][A-Za-z]+\\b', stop_words=stop_words, vocab=vocab))\n",
    "for i in X_dev_raw:\n",
    "    X_dev_ngram.append(extract_ngrams(i, ngram_range=(1,3), token_pattern=r'\\b[A-Za-z][A-Za-z]+\\b', stop_words=stop_words, vocab=vocab))\n",
    "for i in X_test_raw:\n",
    "    X_test_ngram.append(extract_ngrams(i, ngram_range=(1,3), token_pattern=r'\\b[A-Za-z][A-Za-z]+\\b', stop_words=stop_words, vocab=vocab))"
   ]
  },
  {
   "cell_type": "code",
   "execution_count": 14,
   "metadata": {},
   "outputs": [],
   "source": [
    "#X_train_ngram\n",
    "#X_dev_ngram\n",
    "#X_test_ngram"
   ]
  },
  {
   "cell_type": "markdown",
   "metadata": {},
   "source": [
    "## Vectorise documents "
   ]
  },
  {
   "cell_type": "markdown",
   "metadata": {},
   "source": [
    "Next, write a function `vectoriser` to obtain Bag-of-ngram representations for a list of documents. The function should take as input:\n",
    "- `X_ngram`: a list of texts (documents), where each text is represented as list of n-grams in the `vocab`\n",
    "- `vocab`: a set of n-grams to be used for representing the documents\n",
    "\n",
    "and return:\n",
    "- `X_vec`: an array with dimensionality Nx|vocab| where N is the number of documents and |vocab| is the size of the vocabulary. Each element of the array should represent the frequency of a given n-gram in a document.\n"
   ]
  },
  {
   "cell_type": "code",
   "execution_count": 15,
   "metadata": {
    "ExecuteTime": {
     "end_time": "2020-02-15T14:17:40.219201Z",
     "start_time": "2020-02-15T14:17:40.215129Z"
    }
   },
   "outputs": [],
   "source": [
    "def vectorise(X_ngram, vocab):\n",
    "    \n",
    "    # fill in your code...\n",
    "    X_vec = []\n",
    "    for i in X_ngram:\n",
    "        # creater counter object\n",
    "        counter = Counter(i)\n",
    "        # create zero lists\n",
    "        vector = list(0 for j in range(len(vocab)))         \n",
    "        for j in counter.keys():\n",
    "            # add number into list correspond to the position\n",
    "            vector[word_id[j]] = vector[word_id[j]]+ counter[j]\n",
    "        X_vec.append(vector)\n",
    "    # change to np array format    \n",
    "    X_vec = np.array(X_vec)\n",
    "        \n",
    "    \n",
    "    return X_vec"
   ]
  },
  {
   "cell_type": "markdown",
   "metadata": {},
   "source": [
    "Finally, use `vectorise` to obtain document vectors for each document in the train, development and test set. You should extract both count and tf.idf vectors respectively:"
   ]
  },
  {
   "cell_type": "markdown",
   "metadata": {},
   "source": [
    "#### Count vectors"
   ]
  },
  {
   "cell_type": "code",
   "execution_count": 16,
   "metadata": {
    "ExecuteTime": {
     "end_time": "2020-02-15T14:17:41.999574Z",
     "start_time": "2020-02-15T14:17:40.376534Z"
    }
   },
   "outputs": [],
   "source": [
    "# fill in your code...\n",
    "X_tr_count = vectorise(X_train_ngram, vocab)\n",
    "X_dev_count = vectorise(X_dev_ngram, vocab)\n",
    "X_test_count = vectorise(X_test_ngram, vocab)"
   ]
  },
  {
   "cell_type": "code",
   "execution_count": 17,
   "metadata": {
    "ExecuteTime": {
     "end_time": "2020-02-15T14:17:42.004808Z",
     "start_time": "2020-02-15T14:17:42.001555Z"
    }
   },
   "outputs": [
    {
     "data": {
      "text/plain": [
       "(1400, 5000)"
      ]
     },
     "execution_count": 17,
     "metadata": {},
     "output_type": "execute_result"
    }
   ],
   "source": [
    "X_tr_count.shape"
   ]
  },
  {
   "cell_type": "code",
   "execution_count": 18,
   "metadata": {
    "ExecuteTime": {
     "end_time": "2020-02-15T14:17:42.010525Z",
     "start_time": "2020-02-15T14:17:42.006309Z"
    }
   },
   "outputs": [
    {
     "data": {
      "text/plain": [
       "array([[0, 1, 0, 0, 2, 0, 0, 0, 0, 0, 0, 0, 0, 1, 0, 0, 0, 0, 0, 0, 0, 0,\n",
       "        0, 1, 0, 0, 0, 0, 0, 0, 0, 0, 0, 0, 1, 0, 0, 0, 0, 0, 1, 0, 0, 1,\n",
       "        0, 0, 0, 0, 0, 0],\n",
       "       [0, 0, 0, 0, 1, 1, 0, 0, 0, 0, 0, 0, 0, 0, 0, 0, 0, 0, 0, 0, 0, 1,\n",
       "        0, 0, 0, 0, 0, 0, 0, 0, 0, 0, 0, 0, 0, 0, 0, 0, 0, 1, 0, 0, 3, 1,\n",
       "        0, 0, 0, 0, 0, 0]])"
      ]
     },
     "execution_count": 18,
     "metadata": {},
     "output_type": "execute_result"
    }
   ],
   "source": [
    "X_tr_count[:2,:50]"
   ]
  },
  {
   "cell_type": "markdown",
   "metadata": {},
   "source": [
    "#### TF.IDF vectors\n",
    "\n",
    "First compute `idfs` an array containing inverted document frequencies (Note: its elements should correspond to your `vocab`)"
   ]
  },
  {
   "cell_type": "code",
   "execution_count": 19,
   "metadata": {
    "ExecuteTime": {
     "end_time": "2020-02-15T14:17:42.022692Z",
     "start_time": "2020-02-15T14:17:42.012315Z"
    }
   },
   "outputs": [],
   "source": [
    "idfs = []\n",
    "for i in list(vocab):\n",
    "    # set a variable to record occurance times \n",
    "    df_count = 0\n",
    "    # if it occur, variable + 1\n",
    "    for j in X_train_ngram:\n",
    "        if i in j:  \n",
    "            df_count = df_count + 1\n",
    "    idfs.append(np.log10(X_tr_count.shape[0]/(df_count+1)))\n",
    "# change to numpy array\n",
    "idfs = np.array(idfs)\n",
    "    "
   ]
  },
  {
   "cell_type": "markdown",
   "metadata": {},
   "source": [
    "Then transform your count vectors to tf.idf vectors:"
   ]
  },
  {
   "cell_type": "code",
   "execution_count": 20,
   "metadata": {
    "ExecuteTime": {
     "end_time": "2020-02-15T14:17:42.802265Z",
     "start_time": "2020-02-15T14:17:42.752448Z"
    }
   },
   "outputs": [],
   "source": [
    "# fill in your code...\n",
    "X_tr_tfidf = X_tr_count * idfs\n",
    "X_dev_tfidf = X_dev_count * idfs\n",
    "X_test_tfidf = X_test_count * idfs"
   ]
  },
  {
   "cell_type": "code",
   "execution_count": 21,
   "metadata": {
    "ExecuteTime": {
     "end_time": "2020-02-15T14:17:43.211619Z",
     "start_time": "2020-02-15T14:17:43.207266Z"
    }
   },
   "outputs": [
    {
     "data": {
      "text/plain": [
       "array([0.        , 0.        , 0.        , 0.        , 1.18708664,\n",
       "       0.32265381, 0.        , 0.        , 0.        , 0.        ,\n",
       "       0.        , 0.        , 0.        , 0.        , 0.        ,\n",
       "       0.        , 0.        , 0.        , 0.        , 0.        ,\n",
       "       0.        , 0.35233765, 0.        , 0.        , 0.        ,\n",
       "       0.        , 0.        , 0.        , 0.        , 0.        ,\n",
       "       0.        , 0.        , 0.        , 0.        , 0.        ,\n",
       "       0.        , 0.        , 0.        , 0.        , 1.10080506,\n",
       "       0.        , 0.        , 1.08881803, 1.73115469, 0.        ,\n",
       "       0.        , 0.        , 0.        , 0.        , 0.        ])"
      ]
     },
     "execution_count": 21,
     "metadata": {},
     "output_type": "execute_result"
    }
   ],
   "source": [
    "X_tr_tfidf[1,:50]"
   ]
  },
  {
   "cell_type": "markdown",
   "metadata": {},
   "source": [
    "# Binary Logistic Regression\n",
    "\n",
    "After obtaining vector representations of the data, now you are ready to implement Binary Logistic Regression for classifying sentiment."
   ]
  },
  {
   "cell_type": "markdown",
   "metadata": {},
   "source": [
    "First, you need to implement the `sigmoid` function. It takes as input:\n",
    "\n",
    "- `z`: a real number or an array of real numbers \n",
    "\n",
    "and returns:\n",
    "\n",
    "- `sig`: the sigmoid of `z`"
   ]
  },
  {
   "cell_type": "code",
   "execution_count": 22,
   "metadata": {
    "ExecuteTime": {
     "end_time": "2020-02-15T14:17:44.160661Z",
     "start_time": "2020-02-15T14:17:44.157902Z"
    }
   },
   "outputs": [],
   "source": [
    "def sigmoid(z):    \n",
    "    # fill in your code...\n",
    "    z = 1/(z+np.exp(-z))    \n",
    "    return z"
   ]
  },
  {
   "cell_type": "code",
   "execution_count": 23,
   "metadata": {
    "ExecuteTime": {
     "end_time": "2020-02-15T14:17:44.351292Z",
     "start_time": "2020-02-15T14:17:44.346822Z"
    }
   },
   "outputs": [
    {
     "name": "stdout",
     "output_type": "stream",
     "text": [
      "1.0\n",
      "[0.00697286 0.66613633]\n"
     ]
    }
   ],
   "source": [
    "print(sigmoid(0)) \n",
    "print(sigmoid(np.array([-5., 1.2])))"
   ]
  },
  {
   "cell_type": "markdown",
   "metadata": {},
   "source": [
    "Then, implement the `predict_proba` function to obtain prediction probabilities. It takes as input:\n",
    "\n",
    "- `X`: an array of inputs, i.e. documents represented by bag-of-ngram vectors ($N \\times |vocab|$)\n",
    "- `weights`: a 1-D array of the model's weights $(1, |vocab|)$\n",
    "\n",
    "and returns:\n",
    "\n",
    "- `preds_proba`: the prediction probabilities of X given the weights"
   ]
  },
  {
   "cell_type": "code",
   "execution_count": 24,
   "metadata": {
    "ExecuteTime": {
     "end_time": "2020-02-15T14:17:44.718566Z",
     "start_time": "2020-02-15T14:17:44.715017Z"
    }
   },
   "outputs": [],
   "source": [
    "def predict_proba(X, weights):    \n",
    "    preds_proba = sigmoid(np.matmul(X, weights.T))    \n",
    "    \n",
    "    return preds_proba"
   ]
  },
  {
   "cell_type": "markdown",
   "metadata": {},
   "source": [
    "Then, implement the `predict_class` function to obtain the most probable class for each vector in an array of input vectors. It takes as input:\n",
    "\n",
    "- `X`: an array of documents represented by bag-of-ngram vectors ($N \\times |vocab|$)\n",
    "- `weights`: a 1-D array of the model's weights $(1, |vocab|)$\n",
    "\n",
    "and returns:\n",
    "\n",
    "- `preds_class`: the predicted class for each x in X given the weights"
   ]
  },
  {
   "cell_type": "code",
   "execution_count": 25,
   "metadata": {
    "ExecuteTime": {
     "end_time": "2020-02-15T14:17:45.002125Z",
     "start_time": "2020-02-15T14:17:44.998668Z"
    }
   },
   "outputs": [],
   "source": [
    "def predict_class(X, weights):    \n",
    "    pre_pro = predict_proba(X, weights)\n",
    "    preds_class = (pre_pro > 0.5)    \n",
    "    \n",
    "    return preds_class"
   ]
  },
  {
   "cell_type": "markdown",
   "metadata": {},
   "source": [
    "To learn the weights from data, we need to minimise the binary cross-entropy loss. Implement `binary_loss` that takes as input:\n",
    "\n",
    "- `X`: input vectors\n",
    "- `Y`: labels\n",
    "- `weights`: model weights\n",
    "- `alpha`: regularisation strength\n",
    "\n",
    "and return:\n",
    "\n",
    "- `l`: the loss score"
   ]
  },
  {
   "cell_type": "code",
   "execution_count": 26,
   "metadata": {
    "ExecuteTime": {
     "end_time": "2020-02-15T14:17:45.455533Z",
     "start_time": "2020-02-15T14:17:45.451475Z"
    }
   },
   "outputs": [],
   "source": [
    "def binary_loss(X, Y, weights, alpha=0.00001):\n",
    "\n",
    "    l = - np.mean(np.reshape(Y,[-1,1]) * np.log(predict_proba(X, weights)) + (1 - np.reshape(Y,[-1,1])) * np.log(1 - predict_proba(X, weights))) + alpha * np.sum(weights**2)\n",
    "\n",
    "    return l\n",
    "    "
   ]
  },
  {
   "cell_type": "markdown",
   "metadata": {},
   "source": [
    "Now, you can implement Stochastic Gradient Descent to learn the weights of your sentiment classifier. The `SGD` function takes as input:\n",
    "\n",
    "- `X_tr`: array of training data (vectors)\n",
    "- `Y_tr`: labels of `X_tr`\n",
    "- `X_dev`: array of development (i.e. validation) data (vectors)\n",
    "- `Y_dev`: labels of `X_dev`\n",
    "- `lr`: learning rate\n",
    "- `alpha`: regularisation strength\n",
    "- `epochs`: number of full passes over the training data\n",
    "- `tolerance`: stop training if the difference between the current and previous validation loss is smaller than a threshold\n",
    "- `print_progress`: flag for printing the training progress (train/validation loss)\n",
    "\n",
    "\n",
    "and returns:\n",
    "\n",
    "- `weights`: the weights learned\n",
    "- `training_loss_history`: an array with the average losses of the whole training set after each epoch\n",
    "- `validation_loss_history`: an array with the average losses of the whole development set after each epoch"
   ]
  },
  {
   "cell_type": "code",
   "execution_count": 27,
   "metadata": {
    "ExecuteTime": {
     "end_time": "2020-02-15T14:17:45.968510Z",
     "start_time": "2020-02-15T14:17:45.958185Z"
    }
   },
   "outputs": [],
   "source": [
    "def SGD(X_tr, Y_tr, X_dev=[], Y_dev=[], loss=\"binary\", lr=0.1, alpha=0.00001, epochs=5, tolerance=0.0001, print_progress=True):\n",
    "    \n",
    "    cur_loss_tr = 1.\n",
    "    cur_loss_dev = 1.\n",
    "    training_loss_history = []\n",
    "    validation_loss_history = []\n",
    "    \n",
    "    # fill in your code...\n",
    "    weights = np.zeros([1, X_tr.shape[1]])\n",
    "    for i in range(epochs):\n",
    "        # generate random order of Dtrain\n",
    "        ran_order = np.random.permutation(X_tr.shape[0])\n",
    "        for j in ran_order:\n",
    "            Y_pred = predict_proba(X_tr[j:j+1,:], weights)\n",
    "            weights = weights - lr * ((Y_pred - Y_tr[j])*X_tr[j:j+1,:] + 2*alpha*weights)\n",
    "        training_loss_history.append(binary_loss(X_tr, Y_tr, weights, alpha))\n",
    "        validation_loss_history.append(binary_loss(X_dev, Y_dev, weights, alpha))\n",
    "        \n",
    "        if print_progress:\n",
    "            print('Epoch times: {}, Training loss value: {}, Validation loss value: {}'.format(i, training_loss_history[-1], validation_loss_history[-1]))\n",
    "\n",
    "\n",
    "        if len(validation_loss_history)>=2 and np.abs(validation_loss_history[-1] - validation_loss_history[-2]) < tolerance:\n",
    "            break\n",
    "        \n",
    "    return weights, training_loss_history, validation_loss_history"
   ]
  },
  {
   "cell_type": "markdown",
   "metadata": {},
   "source": [
    "## Train and Evaluate Logistic Regression with Count vectors\n",
    "\n",
    "First train the model using SGD:"
   ]
  },
  {
   "cell_type": "code",
   "execution_count": 28,
   "metadata": {
    "ExecuteTime": {
     "end_time": "2020-02-15T14:17:51.480197Z",
     "start_time": "2020-02-15T14:17:46.362729Z"
    },
    "scrolled": true
   },
   "outputs": [
    {
     "name": "stdout",
     "output_type": "stream",
     "text": [
      "Epoch times: 0, Training loss value: 0.7491319044387843, Validation loss value: 0.8046827104923412\n",
      "Epoch times: 1, Training loss value: 0.663211742758222, Validation loss value: 0.7441693102982548\n",
      "Epoch times: 2, Training loss value: 0.6012645127793248, Validation loss value: 0.7082499371513655\n",
      "Epoch times: 3, Training loss value: 0.5542586406299632, Validation loss value: 0.6792604514667822\n",
      "Epoch times: 4, Training loss value: 0.518940855681439, Validation loss value: 0.6554382580169088\n",
      "Epoch times: 5, Training loss value: 0.4889372390193804, Validation loss value: 0.6405198245921382\n",
      "Epoch times: 6, Training loss value: 0.47462626031004856, Validation loss value: 0.6270489725313066\n",
      "Epoch times: 7, Training loss value: 0.4415991151144421, Validation loss value: 0.6211678236897071\n",
      "Epoch times: 8, Training loss value: 0.4233969992215994, Validation loss value: 0.6144320106311102\n",
      "Epoch times: 9, Training loss value: 0.40614627526676694, Validation loss value: 0.6164592434801965\n",
      "Epoch times: 10, Training loss value: 0.3938299268863569, Validation loss value: 0.6033773193022147\n",
      "Epoch times: 11, Training loss value: 0.38269140023930415, Validation loss value: 0.597462982063794\n",
      "Epoch times: 12, Training loss value: 0.36770210990076657, Validation loss value: 0.6105401189783232\n",
      "Epoch times: 13, Training loss value: 0.3567692778456843, Validation loss value: 0.6006765411094892\n",
      "Epoch times: 14, Training loss value: 0.34728533507208936, Validation loss value: 0.5967114043332458\n",
      "Epoch times: 15, Training loss value: 0.3415776494881731, Validation loss value: 0.5955193878393888\n",
      "Epoch times: 16, Training loss value: 0.33101122391681803, Validation loss value: 0.5952415574466036\n",
      "Epoch times: 17, Training loss value: 0.3249589758494353, Validation loss value: 0.5885046740249994\n",
      "Epoch times: 18, Training loss value: 0.31935274754431864, Validation loss value: 0.5884073911225837\n"
     ]
    }
   ],
   "source": [
    "w_count, loss_tr_count, dev_loss_count = SGD(X_tr_count, Y_tr, \n",
    "                                             X_dev=X_dev_count, \n",
    "                                             Y_dev=Y_dev, \n",
    "                                             lr=0.0001, \n",
    "                                             alpha=0.001, \n",
    "                                             epochs=100)"
   ]
  },
  {
   "cell_type": "markdown",
   "metadata": {},
   "source": [
    "Now plot the training and validation history per epoch. Does your model underfit, overfit or is it about right? Explain why."
   ]
  },
  {
   "cell_type": "code",
   "execution_count": 29,
   "metadata": {
    "ExecuteTime": {
     "end_time": "2020-02-15T14:17:51.598911Z",
     "start_time": "2020-02-15T14:17:51.482307Z"
    }
   },
   "outputs": [
    {
     "data": {
      "text/plain": [
       "<matplotlib.legend.Legend at 0x21294daccc8>"
      ]
     },
     "execution_count": 29,
     "metadata": {},
     "output_type": "execute_result"
    },
    {
     "data": {
      "image/png": "[encoded data removed]",
      "text/plain": [
       "<Figure size 432x288 with 1 Axes>"
      ]
     },
     "metadata": {
      "needs_background": "light"
     },
     "output_type": "display_data"
    }
   ],
   "source": [
    "plt.plot(range(len(loss_tr_count)), loss_tr_count, color = 'blue', label='training loss')\n",
    "plt.plot(range(len(dev_loss_count)), dev_loss_count,color = 'red', label = 'validation loss')\n",
    "plt.xlabel('Epochs times')\n",
    "plt.ylabel('Loss value')\n",
    "plt.legend()"
   ]
  },
  {
   "cell_type": "markdown",
   "metadata": {
    "ExecuteTime": {
     "end_time": "2020-01-21T16:52:26.583150Z",
     "start_time": "2020-01-21T16:52:26.578754Z"
    }
   },
   "source": [
    "**From the graph above, we can know my model is overfitting, because the training loss is lower than the validation loss.**"
   ]
  },
  {
   "cell_type": "markdown",
   "metadata": {},
   "source": [
    "Compute accuracy, precision, recall and F1-scores:"
   ]
  },
  {
   "cell_type": "code",
   "execution_count": 30,
   "metadata": {
    "ExecuteTime": {
     "end_time": "2020-02-15T14:37:40.569499Z",
     "start_time": "2020-02-15T14:37:40.566796Z"
    }
   },
   "outputs": [
    {
     "name": "stdout",
     "output_type": "stream",
     "text": [
      "Accuracy: 0.7975\n",
      "Precision: 0.7741935483870968\n",
      "Recall: 0.84\n",
      "F1-Score: 0.8057553956834531\n"
     ]
    }
   ],
   "source": [
    "\n",
    "preds_te_count = predict_class(X_test_count, w_count)\n",
    "print('Accuracy:', accuracy_score(Y_te,preds_te_count))\n",
    "print('Precision:', precision_score(Y_te,preds_te_count))\n",
    "print('Recall:', recall_score(Y_te,preds_te_count))\n",
    "print('F1-Score:', f1_score(Y_te,preds_te_count))"
   ]
  },
  {
   "cell_type": "markdown",
   "metadata": {},
   "source": [
    "Finally, print the top-10 words for the negative and positive class respectively."
   ]
  },
  {
   "cell_type": "code",
   "execution_count": 31,
   "metadata": {
    "ExecuteTime": {
     "end_time": "2020-02-15T14:37:07.638179Z",
     "start_time": "2020-02-15T14:37:07.635838Z"
    }
   },
   "outputs": [
    {
     "name": "stdout",
     "output_type": "stream",
     "text": [
      "top 10 postive, 1-10\n",
      "weir is well-respected in hollywood for turning scripts with difficult subject-matter into deceptively simple , powerful films , the mosquito coast ( utopia ) and fearless ( post-traumatic stress disorder ) among them .  in the truman show , weir essentially breathes life into the now-tired concept of media-manipulation by tackling the material from the inside-out .  it certainly helps that he has an underrated performer in top-form playing the title character , truman burbank .  by now you must be aware of the premise : unbeknownst to him , truman ( carrey ) is the star of his own tv series , a 24-7 peep-show in which he is surrounded by actors and placed in loosely scripted situations ; people around the world tune in for the voyeuristic thrill of his genuine reactions to fictitious stimulants .  `seahaven' , his hometown , and the show itself , are the brainchild of christof ( harris ) , who presides over his creation in the base of a fake moon , directing over 500 cameras and hundreds of actors and extras .  for 30 years , truman suspects nothing-`we accept the reality we're given , ' poses christof-but a desire to break free of the sunny town and visit a long lost love in `fiji' ( mcelhone , who was actually an actress fired by christof for trying to break the confidentiality agreement ) overwhelms him .  thus , christof and his team suddenly find themselves working twice as hard to keep the veneer of seahaven intact , lest truman discover the world outside and put an end to the highly-rated program .  in a few broad strokes , weir creates a convincing second-reality , and he has the good sense not to bring christof into the picture until almost three-quarters through .  this allows us to comprehend and accept truman's world before we contextualize it .  for all his madness , christof has shown the world a place without violence and hardship , and demonstrated that a human being can function well within it .  truman is an inspiration to his audience because he grew up to be , well , so darn nice ; like a sibling ( or , perhaps more appropriately , a caged animal in an interactive zoo ) , they want to see him succeed .  the surrealistic soap opera is completely plausible thanks to a tight screenplay and a sympathetic carrey-he really is an everyman here , abandoning his facial contortions in favour of a credible , wide-eyed bewilderment .  cinematically , the truman show is impeccable , stylishly photographed by peter biziou and littered with symbolic images .  as well , it employs wojciech kilar's piece \" zycie za zycie' masterfully and beautifully .  if the film has any flaws , one may find them in laura linney's characterization as meryl , truman's \" wife \" ( i doubt that betty crocker impersonation would fool anyone ) , and in a subplot involving truman's `father' , which feels curiously incomplete .  there are a few stupendous sequences , and the film pulls off a wonderful trick : we become truman's audience as much as the loyal viewers in the film .  they wear buttons asking `how will it end ? '  i couldn't wait to know myself , though i didn't exactly want it to end , for this inspired movie is possibly the best-and most complex-summer picture in years .  \n",
      "kolya is one of the richest films i've seen in some time .  zdenek sverak plays a confirmed old bachelor ( who's likely to remain so ) , who finds his life as a czech cellist increasingly impacted by the five-year old boy that he's taking care of .  though it ends rather abruptly-- and i'm whining , 'cause i wanted to spend more time with these characters-- the acting , writing , and production values are as high as , if not higher than , comparable american dramas .  this father-and-son delight-- sverak also wrote the script , while his son , jan , directed-- won a golden globe for best foreign language film and , a couple days after i saw it , walked away an oscar .  in czech and russian , with english subtitles .  \n",
      "the jekyll and hyde story told from his maid's point of view is , in a word , \" dark \" .  you wouldn't expect something bright and cheery based on robert louis stevenson's novel , but the film is surprisingly dreary and dismal .  jekyll/hyde ( john malkovich ) is terminally depressed and desperate .  mary reilly ( julia roberts ) is a victim of monstrous child abuse and the anti-woman sentiment of the times .  director stephen fears' version of the london slums makes us marvel that anyone survived them .  the lighting level is exceedingly low throughout the movie : it almost appears to be filmed in black and white .  the direction and cinematography are brilliant and liquid .  scenes flow into the next scene like honey oozing off a strawberry .   ( except there's no red , of course . )  the look is so moody and melodramatic that you'll be shocked when you leave the theater .  i saw it at a matinee and took quite a while to adjust to the sunny skies afterward .  often the jekyll and hyde archetypes are viewed as splitting a whole person into components of good and evil or perhaps cerebral and emotional parts .  here the doctor is intellectual and perhaps good , but certainly powerless .  his alter ego is forceful and totally without conscience .  two parts that make up a whole .  neither are capable of functioning without the other and once separated , disaster is inevitable .  the differences between the two characters would be more effective if it were accomplished by demeanor and attitude .  when we finally see the transformation , the special effects thrust the story into the realm of science fiction , not the psychological horror that the tale demands .  roberts and malkovich are skillful in their roles .  both are suitably melancholy , fitting in with the rest of the film .  the only flash of life and color comes from glenn close ( and her lips ) as the madam of a whorehouse where hyde lives , and surprisingly , jekyll apparently frequents .  life and color maybe , but this is not close's best role .  she seems little more than a cardboard cutout character .  a beautiful film in its own dreary way .  you'll appreciate the filmmaking craft , but don't expect to leave in an upbeat mood .  \n",
      "i can sum up first strike in one word : awesome .  never in my life have i seen an actor as insanely dedicated as jackie chan .  for the simple reason that he has performed his own stunts in his every movie he's ever appeared in , he should be awarded greatly .  the same tom and jerry formula that was used to make chan's rumble in the bronx and supercop so entertaining can be found here as well .  however , first strike was probably the most exciting out of the three , for the simple reason that practice makes perfect .  his last two movies were almost like practice and this one was great .  like rumble , this film is about the mafia , the former kgb .  now chan must do battle in the freezing arctic temperatures of the ukraine against a group of very large bad men .  the trailer for the film sums it up quite well .  first strike is action-packed , but the fight scenes are so fast and furious , they almost have a witty , italian-like humor to them .  jackie chan is a regular comedian .  well , he's no eddie murphy , but he can really crack you up .  for example , he is hanging off a roof and he humorously taunts his foes to come and get him , as he claims to be the korean 007 ( that's secret agent james bond ) .  even the plot to this film improved above the others , as a sort-of twisted nuclear-weapon smuggling deal is botched and jackie takes the blame .  but never fear , as the chinese mafia aids him in uncovering the truth behind the incident .  with some of the most high-flying stunts and side-splitting comedy , first strike is a sure-fire hit that's guaranteed to draw some major , world-wide attention .   ,  \n",
      "a costume drama set in the 1500s , england , elizabeth is a lush , romantic , political masterpiece about the upset over the crossing of a protestant queen from a respected catholic one .  when the court and country are a whole after the passing of the queens , the royal family , so to speak , are upset that a protestant should be crowened , and not another catholic , plus , the new queen , elizabeth i ( cate blanchette ) , was the bastard baby of the previous queen mary's father .  the persecution over catholics and protestants isn't the only majority in elizabeth .  elizabeth i must face the decision to give up personal pleasures , and her lover ( joseph fiennes of shakespeare in love ) , in order to rule , successfully , the country , which she did for 40 more years .  both elizabeth and shakespeare in love are set in the elizabethian era , and both feature a queen elizabeth i ( judi dench plays her in love ) , or course .  yet , i found elizabeth more stimulating and involving than love , not just because elizabeth features a great deal more of elizabeth i , but because i found blanchette a more powerful , hypnotic sense for the role .  elizabeth , also featuring geoffrey rush and richard attenborough , is my pick for the best picture of 1998 award .  it's a dynamic , important , breathtaking film of loyalty , power , greed , and trust .  shakespeare would die for the book rights .  \n",
      "synopsis : upper middle class , suburban family man lester ( kevin spacey ) realizes that he is just going through the motions : he is unable to feel passion ; he is soulless , cynical , and no longer able to feel the edge between success and failure .  everyone else around him has similar symptoms .  lester's unassertive daughter jane ( thora birch ) is too lethargic to change her world , yet all too ready to whine and complain .  his wife carolyn ( annette bening ) is reduced to keeping up appearances and reciting commercialist slogans .  and these are people with a big house and a decent standard of living .  the only person who seems able to appreciate beauty and freedom and life is the person most deprived of it : a dope-dealing teen from across the street who is practically imprisoned by a domineering , bullying father .  when lester embarks on a mad scramble to feel the edge again , the fact that he has quit his job to feel what it's like - - and his newfound interest in exercise to impress a teenage girl - - ruffle a lot of feathers in the family .  will lester regain his ability to appreciate life ?  opinion : people say it all the time : you never appreciate good health until it's gone .  likewise , people raised in fabulously pampered prosperity can become unhappy and spiteful over the dumbest , most inconsequential problems , simply because they have no clue how good they have it .  sometimes it takes a near fall - - accidentally or through deliberate fasting - - to move out of apathy and reclaim your ability to challenge the world .  the deprivation/appreciation cycle is a major theme of american beauty .  american beauty is a non-formula , intelligent and articulate movie that offers fantastic performances by everyone in the cast , especially kevin spacey , who is simply gosh darn amazing this movie .  the thing i like about american beauty is that there is no sentimental music , no hospital scene nor any overly dramatic hokum .  the movie entertains and offers brilliant performances just as is .  if you are in the mood for a thoughtful , non-formula flick , i highly recommend american beauty .  \n",
      "seen september 5 , 1998 at 10 p . m . at the sony nickelodeon theaters ( boston , ma ) , theater #2 , with matt perreault for free using my sony/loews critic's pass .  [theater rating : * * 1/2 : okay seats , sound , and picture]  modern society is now inundated with more sex and sexuality than it ever has been before , from teenage sitcoms to nc-17-rated films about fetishes .  the biggest debate of the subject is whether or not it affects reality or just reflects it .   \" your friends and neighbors \" takes a different approach as it's a film that revolves almost entirely around sex and how can be used for both pain and pleasure even within a small circle of friends .  one of the most important aspects of the film that most be noted and analyzed before the film can really be dissected as a whole is writer/director neil labute's basic setup and some of the unique methods he employs to tell the story .  firstly , and most importantly is the fact the script tells a rather complex , detailed story of lust , betrayal , arrogance , hypocrisy , greed , and just plain stupidity between six different characters ( three men , three women ) , without hardly any supporting characters , ( a few have a line or two ) , mostly extras .  everything they do will somehow affect another character and ultimately come full-circle back to themselves , whether it be positive or negative .  but to just state this is arbitrary , and explaining and criticizing the process is difficult .  labute's ability to tell his story through a few characters is a remarkable feat , but what's specifically impressive is the fact the characters' names are never revealed until the end credits roll .  for the sake of this review , i will describe the characters and refer to them as their main characteristic .  another interesting accomplishment is the fact every scene takes place inside with limited focus .  we're always able to tell where the characters are ( someone's home , the gym , a restaurant , hotel room , etc . ) , but what the city they live in , what year it is , what the society is like , etc . is relatively unknown .  the film is a complete character study with the tight , intense drama of the theater .  no one plot dominates the story , which makes the first act a bit tedious for its lack of background .  we're simply dropped in on the characters' lives and are expected to figure out the rest .  the characters are a group of middle-class white people who are all successful at what they do , but they're only concern right now seems to be their sex lives .  first there's barry ( eckhart ) and mary ( brenneman ) , a married couple who are going through a dry spell not unlike many other couples in other situations who don't know what they're problem is .  barry is kind of a dorky businessman who loves his wife , and the sex they have , but doesn't have a lot of ambition - he just follows everyone else .  mary is a writer of some sort , but lacks aggression and emotion like her husband and is the meekness character , but ironically , doesn't hesitate to commit adultery just to feel something .  labute's script does a good job in characterizing mary and barry as individuals , but is very light on chemistry and connection between the two .  obviously , this is the theme , which is enhanced by the actors' good performances , but at the same time seems just a bit hollow .  another couple is jerry ( stiller ) and terri ( keener ) who live together and seem to have been involved with each other for a long time , yet they constantly argue over anything and everything .  their sex life is also fraught with problems and for some reason they continue to do it throughout their infidelitous relationship .  if only one aspect of the film could use improvement , it would be this area .  it's natural for a married couple to become bored with each other , but why would two people who can barely stand each other continue to have sex and live together ?  what did they ever see in the other person to begin with ?  labute never really answers , but since the film is more concerned with the payoff than the process , it still makes for good drama , tension , and manip ulation so intricate and deceitful it's fascinating .  two other characters act as catalysts , cary ( jason patric ) and cheri ( natassja kinski ) .  cary is an arrogant , hostile sex-maniac who defines the word \" bastard . \"  somehow he is able to bend women to his will , either through charm or just attitude , into getting his way .  he's the kind of guy everyone should stay away from as we realize he's secretly perverted , but somehow barry finds comfort in his company , although jerry is always nervous around him .  patric gives an outstanding performance , so much so that we want to know more about him despite how intimidating and unlikable he is .  cheri is a character labute uses as a catalyst to see how the other characters react to her .  she works in an art museum and at some point throughout the film , each character will engage her in almost the exact same conversation and her reaction is always different , from becoming involved in a relationship with one , to brushing it off as small talk with another , to being outright appalled by yet another .  she's a sweet woman , perhaps the most normal of any of the characters , and although her symbolism is obvious , her role as the outsider is the most relatable .  i will not reveal who cheats on who and how each character is specifically affected by the others' action , as that's the hook of the film .  the first two acts begin to set up the characters and each's scenarios , but it's often difficult to tell what they will do about it and with whom .  the result is sometimes surprising , other times predictable , but the actual course of actions is always fascinating .  for a while everyone has their fun , but ultimately each character's guilt , attitude , or ignorance will disserve them .  one of the most important things to note is how realistic the story is supposed to be .  since the characters only interact with each other there isn't much pop culture references , as almost everything has a deeper philosophy behind it .  are we to assume that these people are , as the title states , our friends and neighbors ?  i don't know of anyone going through the same situations as these people .  often times the film is not unlike a network melodrama , other times situations are like those not seen outside a porno movie .  but what this film does have that the others don't is repercussions in the end .  although the film creates its own reality , it goes to show that even the immoral aren't immortal .  in what way \" your friends and neighbors \" is supposed to work is open to interpretation .  it definitely has a lot to say about the price that comes with infidelity , but it could have been even better had it expanded on that theme more specifically .  still , it's an accomplishment in film-making because it has put a timeless theme into a modern perspective .  \n",
      "i'm an avid fan of the \" alien \" saga , so this review is obviously a tad biased ( at least i admitted it ) .  of course , that doesn't mean that i'm gonna be giving this a four-star review or something , because \" alien : resurrection , \" the fourth film in the cool-as-hell series is not an absolutely amazing film , much like the first two were .  however , it's a very good film which never fails to entertain , and consists of yet another mutation in the style of the series .  in short , i had a good time .   \" alien : resurrection \" leaves off 200 years after the last one , where our heroine protagonist , ellen ripley ( sigourney weaver ) , the science fiction genre's answer to job , had killed herself after discovering that an alien was inside her body , waiting to pop out like it did to john hurt in the first one .  of course , the last one wasn't very great or anything ( i liked it , though not as much as the first two ) , and more importantly , it wasn't financially successful ( a tawdry 55 million bucks ! ) .  so back we are , with ripley back as a clone , which means we get another little satirical look at cloning ( not that that's a bad thing , but it's becoming a cliche ) .  so she's cloned aboard an even more futuristic-looking ship called \" the auriga \" by some doctors ( including the necessary bad government guy , dr . wren , played by j . e . freeman , as well as the little-seen dr . gediman , played by none other than brad douriff ) , mainly because they have a version of her with the alien still inside her .  once you get past the fact that you can't figure out where they got her blood ( although i think it might have been from the blood samples taken by charles dance in the third one ) , the film's okay .  also on board are a band of mercenary pirates , including michael wincott , ron perlman , kim flowers , raymond cruz , dominique pinon ( a jeunet sytable ) and . . . winona ryder , who plays analee call , who turns out to have a bit of a secret ( i won't state it , but unless you've been shacking up with salinger for the past two years , you probably know all about it - although it's nicely covered up ) .  there's a bit of a non-sexual-yet-slightly-homoerotic relationship between her and ripley , but it's never really deepened enough .  oh well .  well , as you might have guessed , the alien and its spawn escape and run around the ship .  and it pretty much does away with most of the people on the ship ( including some shocks - dan hedaya , for instance , who's death is comical yet sad since , well , he's dan hedaya ) , and the remaining people ( about 7 or 8 ) are left to try and escape and stop the aliens from doing any major harm since the ship is heading quickly towards earth .  of course , the plot is all balderdash , and just an excuse for some good old \" alien \" -brand fun .  the real focus of the series seems to be on style , not really substance ( although there's always a bit of it , most notably in \" aliens \" with the relationship between ripley and the little girl ) .  what's interesting about the series is that each film is stylistically different in its approach .   \" alien \" is a claustrophobic exercise in quiet frights .   \" aliens \" is a wild , tense thriller .   \" alien 3 \" is a bleak , moody piece of semi-noir .   \" alien 4 \" is kind of like an off-beat french film , filled with lots of humor , and cool scares .  jean-pierre jeunet ( without his usual directing partner , marc caro ) creates a ship filled with the kind of scares films like \" das boot \" has , with echoes hinting at a possible threat .  the chills in the film are really cool , especially with the music , which is sometimes turned down completely for certain scenes ( there's the most tense surgery scene since \" face/off \" towards the beginning ) .  and not every chill turns into a bloody mess or anything like that .  this all combined with some good old humor makes this as interesting visually and stylistically as the others .  there are even a couple scenes which just stick out afterwards as being brilliantly executed .  one is the aforementioned surgery scene .  another one takes place between call and ripley , which is just awesome .  the underwater chase scene and the ladder scene afterwards is one of the most tense , thrilling , and jaw-dropping scenes in the entire saga ( with a small allusion to jeunet's earlier film , \" delicatessen \" ) .  and the way they do in the final alien is hysterically cool ( with a lovely allusion to \" goldfinger \" ) .  but the best scene in the entire film ( i'm sure i'm not the first to mention it ) takes place when ripley sees all the variations on her as they cloned her ( she has a an \" 8 \" tatooed on her arm ) .  it might be the most emotionally stimulating scene in the entire saga .  the screenplay by joss whedon is not a great piece of work , as it never really deapens a lot of the characters .  however , it does make us care about most of them , so that when there's very little of them , and it looks like one or more of them may become alien chow , we are pretty scared .  and , yeah , there are some very funny lines ( ripley : \" who do i have to fuck to get off this boat ? ! \"  johner : \" well , i can get you off .  but not this ship . \" )  the acting is good all around , with stand-out performances from ron perlman as the male chauvenist pig johner , and leland orser ( the poor bastad in \" se7en \" who performed the \" lust \" sin ) as an anxiety-ridden wannabe woody allen who has an alien inside him .  winona ryder is good , but not amazing like she usually is ( although she meshes well with the film ) .  of course , and as usual , sigourney weaver steals the show .  playing a variation on the ripley character ( less emotional , and more rude and bitter ) , she pulls it off while still being utterly lovable .  she's not going to get an oscar nomination like she did for \" aliens , \" but she's just awesome .  overall , it's a thrilling , entertaining film which doesn't really amaze like the first two , but is much more amazing than the third installment .  the style is the best part of the film , which isn't really a bad thing , but it being the best part takes away from a lot of the depth the film occasionally tries to apply .  but it's entertaining as hell , and it's definitely fit for the \" alien \" series .  \n",
      "that thing you do ! , from first-time film director tom hanks , is an enjoyable tale about a fictional band , the wonders , that goes from a garage band to the band with the fastest selling album in the country .  but , the question arrises , will the seduction of fame and fortune corrupt the band and lead them to become just another one-hit wonder , or will they stick together and become the next teen sensations ?  the \" oneders \" , as they are originally known , have their first gig at a very small-time contest .  jimmy , the lead singer , has written a catchy song and intends to play it at the contest .  but , a short time before the contest begins , the current drummer becomes injured and a replacement is needed .  enter guy patterson , skilled musician who currently works at his father's appliance store and is looking to break free from the restricting clutches that bind him .  he seems to fit in well , until the group takes the stage .  when they begin to play , guy's beat is much too fast and the pace is way off for the intended song .  it looks as though the group is doomed to failure .  but , the \" new \" song is a hit !  this leads to another gig , and soon enough , the group has an agent .  he doesn't do too much for them , but they do get their song played on the radio .  eventually , mr . white of playtone records approaches the group , and he informs them that they want to release a record .  before you can say \" billboard \" , the band is now renamed \" the wonders \" and the members are speeding their way to fame .  the gigs are getting better , their fame is increasing , and they have the fastest selling album in playtone records history .  the band is invited to appear in a feature film , and , they then fly out to hollywood to appear on television .  after the appearance on television , things start to fall apart .  two of the members of the band pretty much disappear , and things are not working out well between jimmy and guy .  will the band work it out , or will they split up and go on their own separate journeys towards success ?  that thing you do ! , complete with a nifty original song that actually sounded authentic , is a fun and enjoyable movie that , although it doesn't become clear if it wants to be a comedy , drama , or romance , is a well-made look into the world of music .  tom hanks' directorial debut was a good one and should lead to more work for him .  \n",
      "if there's one thing in common about all of hollywood's major studios , it's that their productions are moving toward mainstream more and more .  although twentieth century fox and new line cinema have spawned subsidiaries which specialize in independant or controversial motion pictures ( fox searchlight and fine line respectively ) , it's obvious there's no significant movement underway to promote inventive ideas at the theater .  so when a movie like gary ross' pleasantville comes along , wrapped in a blanket of innovative ideas and served up on a platter of fine production , it's a welcome change of pace for all who frequent the cineplexes .  although the atmosphere and buzz about the movie are cheery and lighthearted , pleasantville should not be mistaken for a no-thought movie .  quite the opposite is true , in fact , as director ross skillfully brings a narrative with intense and intelligent undertones to the screen .  the story , both about the joys of living life to the fullest as well as the social ills of segregation , captures the essence of statement-making in the cinema .  not in recent memory has a movie carried such weight of theme into widescale distribution , and even if mass audiences fail to see the ingenuity of ross' work , it is still a testament that his picture was considered worthy enough .  kudos to both he and his production staff for putting together this fine picture .  it stars tobey maguire and reese witherspoon as two nineties teenagers who , through quite a bit of luck , find themselves zapped into a fifties sitcom named \" pleasantville . \"  maguire , as the reserved bud parker , is perfect for the pseudo-world ; but the rebellious mary sue ( witherspoon ) is not at all made for the father-knows-best times .  it's not long before she sets the town of pleasantville on end , and begins to teach the townspeople - in a quite unlikely way - what life is * really * like .  soon hues of color creep into the black and white world , and while some embrace the change in the passion of realism , others fear the strangeness .  at one end is a soda shop owner-turned-painter named mr . johnson ( jeff daniels ) and at the other end is a close-minded mayor ( j . t .  walsh ) and his chamber of commerce ; but the two sides are simply fronts for a clash of ideas that soon involves the entire town .  fine performances are turned in all around .  maguire and witherspoon are effective as the leads , but the true complements go out to jeff daniels and j . t .  walsh ( in his latest and final posthumous performance ) .  daniels brings an atmosphere of awe , inspiration , and hope to his character , whereas walsh simply drips of sinister closemindedness - almost to the point where you can sense gene hackman's envy .  for daniels , it's his most commendable performance of the last three years - or more - and for walsh , it's a complementary exclamation point on a fine career .  also of lesser note is the supporting role by joan allen , and in viewing the entire cast works well together from start to finish .  there's not much to dislike about pleasantville , and its dynamic nature makes it the perfect movie for those who want serious as well as those who don't .  \n"
     ]
    }
   ],
   "source": [
    "# fill in your code...\n",
    "pre_word = predict_proba(X_test_count, w_count)\n",
    "index = np.argsort(pre_word,axis = 0)\n",
    "print('top 10 postive, 1-10')\n",
    "for i in range(1,11):\n",
    "    print(X_test_raw[index[-i,0]])\n",
    "    "
   ]
  },
  {
   "cell_type": "code",
   "execution_count": 32,
   "metadata": {
    "ExecuteTime": {
     "end_time": "2020-02-15T14:37:08.381103Z",
     "start_time": "2020-02-15T14:37:08.378641Z"
    }
   },
   "outputs": [
    {
     "name": "stdout",
     "output_type": "stream",
     "text": [
      "top 10 negative 1-10\n",
      " \" battlefield earth \" is the best comedy of the year .  it has to be .  the other prospect is just too horrifying to consider .  bad movie syndrome struck me again , so after witnessing how much \" battlefield earth \" has been proclaimed a train wreck in both critical and popular circles , i felt the masochistic urge to see the disaster first-hand .  is it as bad as advertised ?  oh yes , very much so .  the plot is incomprehensible .  the acting is atrocious .  the special effects are mediocre .  the action is dull .  the implausibilities are legion .  the dialogue is cringe-inducing .  the whole package is funny when it wants to be serious and irritating when it wants to be funny .  i don't even want to continue reviewing this movie ; i'd like to purge the atrocity from my mind as soon as possible , but you probably want to read my thrashing in all its sarcastic glory , so here it is :  the premise is basically a rip-off of \" planet of the apes , \" only minus the apes and philosophical discussion , and plus a race of evil aliens from the planet psychlo .  the year is 3000 , the psychlos have conquered earth , and the human population has been enslaved .  only a handful of humans escaped to radiation-rich areas to escape the aliens ; they live out their lives in fear .  one man , johnny goodboy ( i know , i know ) tyler ( barry pepper ) , ventures to the outworld and is captured by the psychlos .  there he confronts the psychlo head of security : a big , ugly , klingon-looking creature called terl ( john travolta ) .  pressed into slavery , johnny vows to lead a revolution and take the planet back .  meanwhile , terl is faced with his own problems : he has recently learned that he's stuck living on earth ( which he hates ) for the rest of his career because he pissed off his boss by sleeping with the big man's daughter .  he decides to give johnny knowledge of the psychlo language and technology ( this is where the plot gets ridiculous .   .   . )  so the \" man-animal \" can lead a mining expedition into places the psychlos can't go .  terl then plans to keep the mined gold for himself .  of course , his plan doesn't work .  so many things wrong with this movie -- where to begin ?  how about with travolta , whose hollywood clout brought about this , the cinematic version of scientology guru l . ron hubbard's sci-fi novel ?  early previews for \" battlefield earth , \" with constant shots of a makeup-laden travolta cackling like lex luthor , had me ( and several audience members ) remarking , \" what the hell is travolta thinking ? \"  the movie did nothing to stem such remarks .  all that ridiculous cackling he did in the trailers is in full force here : terl cackles after nearly every line , and so does every other psychlo .  of course , this makes every scene hilariously overwrought , no more so than when the script clumsily stumbles into political commentary .  the psychlos are probably supposed to be some kind of satire of corporate america , but ceos generally don't laugh maniacally after denying pay raises to their employees .   ( \" you were going to be promoted -- but now you're not !  fwahahahahahahahaha ! ! ! ! ! \" )  it's no big surprise terl loses to the humans -- he's an idiot .  he breaks every kind of supervillain rule in the book .  he underestimates his enemies , assuming he'll win just because he's smarter .   ( he uses the word \" leverage \" like some sort of scientologist mantra . )  not content to go the james bond villain route of explaining his plans to the hero , he hooks him up to a machine that gives him knowledge of all the psychlos' language and technology .   ( why this machine is even around in the first place is beyond me . )  he then appears shocked that johnny points a gun at him .  no wonder this guy never got his promotion .  the plot inconsistencies are too numerous to mention .  why do the psychlos build an earth base in which both they and the human slaves must wear little breathing apparatuses to survive ?  how come the psychlos are wasting their time mining for gold when the doors of fort knox are wide open ?  how in the world did all those fighter jets survive sitting in a hangar for 1 , 000 years ?  and how do all these previously brain-dead cavemen learn to fly them so quickly ?  there's a whole lot more to scratch one's head about in \" battlefield earth . \"  bring a scorecard to track the plot holes .  director roger christian shoots \" battlefield earth \" in the most distracting way possible , tilting nearly every shot sideways for no discernible reason .  all the characters appear to be standing on the walls , and it's awfully difficult to watch a movie when you must tilt your head just to watch ordinary passages of dialogue .  the action sequences are atrociously edited , every one turned into an endless slow-motion parade that drains all potential excitement .  are these things really so hard to construct ?  my respect for supposed \" lightweight \" action directors has grown by leaps and bounds after witnessing in \" battlefield earth \" how badly an action sequence can be shot .  this movie is an absolute headache .  it's not just the shot selection and editing ; the movie , quite frankly , makes no sense .  for most of \" battlefield earth's \" running time , i just didn't know what was happening .  it didn't have anything to do with me finding the events stupid or illogical ( though they certainly are ) -- i really had no idea what the hell was going on .  when i pieced the plot together later , it didn't look any better .  here's how much of a disaster this is : \" battlefield earth \" is already the worst movie of the year , and it's going to take something really , really inept to top it .  the only thing we can take comfort in about the film is that no one will be suckered into joining the church of scientology because of it .  in fact , i'd think that hubbard's cult would want to distance themselves from this bomb as fast as possible .  that'll teach me to give into bad movie syndrome again .  \n",
      "one of the responses those that enjoy \" detroit rock city \" ( probably kiss fans , mostly ) might have upon first glance at the rating i've given the film might be something like : \" oh , that casey's gone and become a jaded critic on us .  just what did he expect out of a dumb teenage rock n' roll movie like this ? \"  i'm wondering the same thing .  i feel like i should have had a grand time with \" detroit rock city . \"  it's the sort of movie i wish i could've had a lot of fun with , but i didn't .  i just didn't .  surely this film isn't trying to win any major awards , so should i have expected an oscar-caliber film ?  no , but i expected something .  a funny joke .  a clever prank .  a plot development .  anything .  the movie never delivers .  you've got to marvel at how the filmmakers managed to come up with a movie that is truly about nothing .   \" detroit rock city \" is one of those films that you walk out of after the credits have rolled and realize that you just spent 90 minutes watching a movie in which absolutely nothing happened to justify the film's existence , and it's not a very satisfying realization .  the film is about four teenage boys , all huge kiss fans from cleveland , trying to get into a kiss concert in detroit , michigan .  that's it .  there is no big plot description in this review , because the movie has very little plot .  the characters are hawk ( edward furlong ) , lex ( giuseppe andrews ) , trip ( james debello ) , and jam ( sam huntington ) .  they have a garage band .  they're pathetic , like all garage bands , but they like kiss and they like rock n' roll , so i guess that means we root for them .  they have tickets , they lose them .  they get more tickets , they lose those too .  they come up with crazy schemes to get tickets , most of which backfire .  there's not much more to it .  frankly , it becomes a little less than exciting to see them try to get kiss tickets about halfway through the film , when a total of eight tickets have already graced the boys' hands , only to be lost because of their sheer stupidity .  oh , and jam ( real name jeremiah ) has a really , really annoying ultra-religious mother who ought to be reported to the child welfare agency .  she doesn't want them to see kiss , if you hadn't figured that out already .  it's really quite disheartening to see such a fine soundtrack go to waste in a pointless movie like this .  we've got plenty of kiss , along with some ac/dc , ramones , and thin lizzy .  then again , \" maximum overdrive \" had an awesome soundtrack ( me being the big ac/dc fan that i am ) , but is probably one of the worst movies of all time .   \" detroit rock city \" doesn't quite reach that level of ineptitude , but it gets dangerously close .  in fact , the music is the only thing that keeps this movie from being a complete failure in my mind .  basically , the soundtrack has earned the film a full half-star , which means all the bands involved can pat themselves on the back ( except for marilyn manson , whose half-hearted cover of ac/dc's \" highway to hell \" sounds like something my neighbor's cat coughed up ) .  it's also really sad to see the talents of the cast go to waste , because it' s evident that they're all trying really hard to squeeze some life out of this dead turkey of a movie .  edward furlong has done far better work than this , and so has natasha lyonne , and so has lin shaye , but hey , they've got to make a living in hollywood .  people wanting to see kiss , and lots of it will probably be disappointed , considering the band appears for about five minutes and plays one song .  too bad , they might have provided some energy to this mess .  director adam rifkin knows he hasn't got much material to work with , so he takes a chapter from the michael bay book of directing and keeps his camera spinning .  we get an endless parade of quick-cuts , split-screens , zoom-outs , zoom-ins , and rotating cameras , all in an effort to cover up the sheer stupidity of the script .  it's fun for a while , but eventually it becomes disorienting .  i would recommend that those who felt seasick at \" the blair witch project \" stay far away from \" detroit rock city , \" because the witch has got nothing on this baby .  i haven't felt such an urge to reach out and hold the camera still since \" armageddon . \"  and what about that script ?  it's written by carl j . dupr ? , which sounds like as made-up a name as i've ever heard .  if it is , i can't say i blame the writer for distancing himself as far from this script as possible .  a plotless , pointless rock n' roll movie can be fun , if the jokes and gags are actually funny .  the jokes in \" detroit rock city \" rarely are .  in fact , the only time i really laughed was when a priest gets stoned on a marijuana-laced pizza , and that was just because it was so surreal .  the rest of the movie just seems like they just threw a bunch of vulgar stuff up on screen and called it \" comedy . \"  there is no set-up , just a succession of punchlines that don't provide for much in the way of chuckles , precisely because there was no set-up .  it's as if they just whacked someone on the head , pointed at him and said , \" see ?  funny ! \"  look , that woman was so shocked by hearing loud kiss music that she spilled her drink .  see ?  funny !  look , that guy just got clocked by a telephone receiver .  twice .  see ?  funny !  look , that kid has been vomiting for 20 minutes after drinking an inordinate amount of alcohol and is now about to perform an exotic dance for money .  see ?  funny !  a word of advice to mr . dupr ? : no , these things aren't funny all by themselves .  they must be preceded by a clever set-up so the audience hasn 't predicted them five minutes in advance .  that's it , i've said enough about this movie .  it's a waste of time and money .  i liked the music , but don't bother buying the soundtrack .  i hear it' s just modern bands doing inferior versions of the songs that are actually in the movie .  you want to see this concept executed well ?  go rent roger corman's 1979 classic \" rock n' roll high school . \"  it features another late-seventies rock band ( the ramones ) and a far more interesting story about a girl trying to get tickets to their show .  yes , go rent that , and skip \" detroit rock city , \" which will probably bomb , and deservedly so .  \n",
      "reindeer games is easily the worst of the three recent films penned by ehren kruger ( scream 3 and arlington rd are the others , each derivative in their own special way ) .  the guy can't seem to write believable dialogue ( sample from reindeer games : \" rule #1 : never put a car thief behind the wheel \" ) , create multi-faceted characters , or even engineer coherent plots but he sure knows how to pile on numerous nonsensical twists and turns ( no matter if each one deems the actual story increasingly unlikely ) .  his screenplay for reindeer games turns the tables on the audience so many times that watching the film becomes something of a punishment with no reward anywhere in sight .  i can just envision kruger laughing behind his keyboard , \" oh you thought my movie was gonna go here , f * ck you jack ass , take that twist , decipher this mother f * cker ! \"  it's almost as if the writer were angry at us for shelling out money to see his stupid movie .  and why the hell would anyone want to invest time in a movie when the screenwriter keeps changing his own rules for no reason other than to congratulate himself on how damn clever he is ?  auteur theory be damned ; it's kruger's \" style \" , not the director's that winds up on screen .  kruger has obviously never paid much mind to the old chestnut \" sometimes less is more \" .  and his numerous twists can't even claim to be originals ; arlington rd's ending is a direct steal from the much better alan j . pakula thriller the parallax view , and in reindeer games we get this ol' gem ; character incriminates themself by saying something they shouldn't know ( pronouns used to protect the gender of the \" character \" . . . grammar  be damned ) .   \" how did you know that ? \"  the stunned protagonist asks , suddenly realizing that the character was in on the whole thing all along .   .   .  since twist endings are currently so in vogue , and seeing as how kruger's screenplays usually come equipped with about three twists per ending , i guess it's no wonder why he works so frequently .  he's quickly becoming miramax's mickey mouse ; the company has already signed him to work on several of their upcoming projects .  this is appropriate considering that miramax ( which used to place their label on some of the most artistically daring films ) has quickly become a grindhouse for coddling foreign imports ( life is beautiful ) and freddie prinze jr . vehicles .  their company's current logo could be \" we ride the trends \" .  reindeer games stars ben affleck as rudy , a supposedly hardened criminal spending his days and nights behind bars with fantasies of pecan pies dancing atop his head .  although affleck is given some barbed wire tattoos to insinuate bad assness , he plays the role like steve guttenberg preciously mugging through a police academy flick .  affleck is such a puppy dog that it's impossible to believe he could survive in a harsh prison environment without becoming nearly everyone's bitch .  the role itself is so badly written ( the character only grows balls when the plot calls for it ) , the twists so outrageous , and the directing so self consciously gritty that this is about as close to self parody as i can recall a recent \" serious \" movie getting .  it may have been wiser had the film makers simply went all the way in that direction , casting jerry seinfeld as the hardened criminal and howard stern as the sniveling bad guy ( who's played here by gary sinise in yet another over the top villain performance )  james frain is nick , rudy's cellmate , a manslaughterer who's found a pen pal in the gorgeous ashley mason ( charlize theron ) .  ashley is a prison groupie who sends nick many cheesecake photos of her though she's never seen one picture of him .  which works out fine since the character is killed in a near-riot , and rudy ( who was to be paroled on the same day as nick ) takes his place , which leads to a sudden and very frenzied sex scene between ashley and rudy ( so frenzied it kinda looks like rape ) and a surprise visit from ashley's brother , gabriel ( gary sinise ) , who waltzes into their shabby hotel room flanked by his thuggish co-horts .  he plans to rob an indian casino on christmas eve with the assistance of rudy who he thinks is nick who , according to what he wrote in the letters to ashley , used to work as a guard in the indian casino .  though by the end , the film pulls the rug out from under us so frequently that everything i've described might as well be irrelevant .  this is what you can expect should you chose to take this reindeer on ; several scenes in which , after catching his prey , the bad guy proceeds to stall interminably until the good guy has a chance to kill his captor and crack a stupid one-liner .  included : two ( 2 ) scenes of two ( 2 ) different bad guys explaining their motives to the hero when they should be killing him ( one following the other no less ) .  though it's an action film , the ending is more a talkfest where we get the whole movie explained to us by one flustered character actor after another while affleck looks on , incredulous as the audience .  the flick was directed by john frankenheimer , a straightforward action director who lucked into the manchurian candidate early in his career , fell off the a-list following a string of flops and now , in his old age , is slowly climbing his way back up .  it would be a success story if he were choosing better scripts but his last major film was ronin ( one of those almost but not quite movies ) which followed the island of dr . morneau   ( you remember , the one with marlon brando in mime make-up and a not so flattering moo-moo ) , and now this .  he films action sequences with a minimum of quick cutting which i like considering that nowadays action scenes are commonly comprised of millisecond flash cuts strung together and laid out for a brain-zapped mtv audience to pick apart .  problem is these action scenes ( nearly all failed escapes ) serve no purpose in the story other than to further pad out the running time and to remind the audience that their watching an action movie rather than a filmed radio play .  character problems abound ; rudy is made to shift between sweet boy next door earnestness and hard edged wiseacre , the latter of which is not ( at least at this point ) something ben affleck is capable of pulling off .  the former he can do with ease and often the actor coasts on his lackadaisical charm while those around him growl and swear .  but then suddenly affleck starts growling and swearing alongside them like the class clown imitating a tarantino gangster .  charlize theron , an extraordinary talent , is , like affleck , playing whatever part the script requires her to play , whether it be vulnerability at one moment , anger at the next .  she never has a chance to evince any charm or make much of an impression beyond her obvious physical attributes ( frankenheimer has her needlessly pop her top to further italicize this .  gary sinise has played this role frequently , and here , as in snake eyes , he does the snarling bad guy thing with such over the top vitriol ( the guy must be so incredibly bored of stomping through the same paces that going out of control is the only thing that keeps him interested any more ) , that it becomes more of an annoyance ( oh there he goes again ? ? ? ) than a threat .  these are talented people who made the mistake of jumping on to a script with little but stock characters and a bag of tricks that it dully springs on its audience .  \n",
      "synopsis : valerie , a high school junior who doesn't look a day under 22 , writes bad poetry , complains about how much she hates school , fantasizes about a young guy on trial for raping and murdering six women , chooses him as a pen pal , and plays hooky to see him in court .  after a jailbreak , the killer puts on big sunglasses , wears a half-buttoned jacket , and uses his fatal charm to go after valerie .  comments : \" alan smithee \" directed fatal charm , which should have been more appropriately titled \" fatal bore \" or \" fatal crap \" .  if you find out that a film you're about to see is directed by \" alan smithee , \" then you should seriously , seriously , seriously consider watching something , anything , else .   \" alan smithee \" is a pseudonym which a number of directors have used when they produce something really bad .  frankly , i'd be embarrassed if i had directed this turkey , so i think i understand why the director might have picked the \" alan smithee \" moniker for this film .  where to begin with this painfully poor thriller ?  let's start with the acting .  it's pretty bad .  amanda peterson plays valerie and shows at least some talent ( the rest of the cast don't ) , even though her performance isn't exactly stellar material .  she's also miscast ; she seems way too old to still have a year of high school to complete .  her scenes with valerie's mother , played by mary frann , are a joke .  the two look as though they're a couple of coworkers going out to lunch together , rather than a daughter with her mother who just doesn't understand .  christopher atkins , a handsome enough actor who plays the killer , adam , looks like a clown in the second half of fatal charm .  trying to appear malicious and dangerous , he wears large sunglasses and a half-buttoned jacket .  if disney decided to do a zany comedy caper about the unabomber , atkins would probably be a perfect candidate for the lead , but he doesn't cut it here .  early on in the movie , a number of scenes occurs in a courtroom .  outside of the laughably poor performances given by the actors portraying lawyers , the people sitting in the benches provide the silliest effort at drama in the film .  they constantly shift and turn and arc their heads in mock interest in what has got to be one of the worst perfomances that a large group of people have given at one time ever .  fatal charm's storyline , such as it is , inspires more yawns than thrills .  the script belabors a red herring , early on , about a second suspect who may have committed the murders for which adam ( atkins ) is charged with .  this suspect , however , turns up strangled and drowned halfway through the film : an obvious plot fault .  even for the idiots who didn't consider the movie's title as valerie and a blond newsreporter commented how innocent and charming the defendant seemed , it becomes quite obvious that adam is dangerous when the other suspect washes up .  so , the audience must wait ( if they haven't already stopped watching ) as the necessary details fall into place and the killer goes after the heroine in the drawn-out finale .  the video box for this dud describes fatal charm as an \" erotic thriller \" .  a thriller it isn't , and neither is it particularly erotic .  i can't imagine , if someone were in the mood for something \" erotic , \" that he'd be happy after watching this fluff .  a few erotic moments occur in the film ; they take place in a van with little lighting and are filmed out of focus ( see , they're supposed to be valerie's fantasies -- how creative ) .  on a personal note , i was disturbed by the ludicrous english literature class shown in this film which valerie had to suffer through .  it's no wonder why she hated high school so much .  as an instructor of english myself , i have a hard time accepting the fact that in a course emphasizing great literature , a teacher would stoop to reading a student's bad poetry ( of course , it's valerie's ) about boyfriends out loud and then embarassing its author in front of class with questions about the poem's inspiration .  i guess the public school system is still setting dubious standards for its students .  fatal charm won't charm anyone , unless there's someone that's charmed by boring , lifeless , insipid , suspenseless thrillers .  if you happen upon this turkey , just keep moving on .  \n",
      "note : some may consider portions of the following text to be spoilers .  be forewarned .   \" quick , robin !  the anti-shark repellant ! \"  - adam west in the 1966 batman feature film , casually kicking at a pathetic-looking rubber shark attached to his leg  i had never thought that an entry in the modern incarnation of the batman feature film would approach this level of campiness , but in many instances batman and robin nears , and at some point even exceeds this standard .  this is a disasterously bad film , easily the worst in the series to date , and fairly epitomizes a cinematic definition of the word excessive - it's loud , garish , and obnoxious , with pointless , gratuitous action sequences and set pieces which clutter up the screen with elaborate production design to the point of overkill .  batman and robin features the caped crusaders ( george clooney debuting as batman , with chris o'donnell returing as robin ) squaring off against another bevy of chemically-induced villains - the nefarious ice-cold mr . freeze ( arnold schwarzenegger ) , armed with a weapon which freezes everything in its sights , and the slinky poison ivy ( uma thurman ) , who has the ability to blow powerful love dust into the faces of men in order so that they will fall helplessly in love with her ( not that the dust is really necessary to accomplish this result , but whatever ) , and then dispatch them with a poisoned kiss .  by ivy's side is the giant steroid monster bane ( jeep swanson ) , a grunting hulk of a beast .  the villains' goals are noble ones - freeze steals diamonds to power his climate suit ( in order to keep his body temperature at zero degrees ) , so that he can survive in order to devise a cure for his beloved wife ( vendela ) , dying of a degenerative disease and frozen in suspended animation , and ivy's intent is to restore the dominance of plant life on earth , albeit by destroying all human life .  meanwhile , on the homefront , life at wayne manor is thrown into upheaval by the illness of butler alfred pennyworth ( michael gough ) , and the arrival of his niece barbara ( alicia silverstone ) .  akiva goldsman's screenplay for the film is ridiculous and laughably bad , with astonishingly terrible dialogue , lame jokes , and an awful by-the-number plot which simply coasts along and fails to generate any genuine excitement .  it makes goldsman's screenplay of batman forever , which i thought was dreadful , look positively inspired in comparison .  i am still astonished that a cheesy plot device which i'd seen used in - no joke - an episode of gilligan's island somehow make its way into a multimillion dollar blockbuster production .  joel schumacher's direction of batman and robin is horrific , with a terrible balance of flashiness over substance .  there is a clear conceit towards neon in this film , even moreso than with his previous batman forever , with the revamped batcave helpfully sporting gigantic glowing emblems for the dynamic duo ( just in case , i suppose , if they ever happen to forget that the batcave is the headquarters of batman and robin ) , and with neon prominently figuring in an utterly-pointless fight sequence with bane and a street gang over ivy's chosen new abode .  another action sequence which fails to serve any useful point other than to chew up five minutes of screentime involves an incredibly uninvolving late-night motorcycle race with barbara and some gotham goons .  mr . schumacher's focus for batman and robin appears to be to make the film as visually striking as possible , to the detriment of the story - there are drastic shifts in the tone of the film between all-out camp and heartfelt drama , with the latter completely unconvincing and ineffective .  it is perhaps not the most promising of signs when the group i was with burst out laughing within twenty seconds of the film's opening , even before a single line of dialogue had been uttered .  is batman and robin supposed to be campy ?  i think it is - it's hard to imagine that the filmmakers could have intended many parts of the film to be taken at all seriously .   ( one of my favourites was when bane helpfully grunted \" bomb ! \"  each time he laid down an explosive device in the gotham observatory . )  is it supposed to be as overly campy as it turned out to be ?  i somehow doubt it - the subplot involving afred is delivered so solemnly and with such graveness that the impression is made that the film isn't attempting to be the utter farce which it is .  arnold schwarzenegger is top-billed in the film as the villainous mr . freeze , and is bland and uninteresting , perhaps the worst thing that a villain can be .  mr . schwarzenegger's attempts to be menacing are laughable , and his attempts at conveying pathos are laughable ; frankly , everything he does onscreen is laughable .  by the end of the film , i was stifling a chuckle every time he simply appeared onscreen .  the bulk of his performance consists of uttering near-unintelligble puns and one-liners featuring every possible permutation of \" cool ! \"  in the least inventive way .  george clooney has been given very little to do in batman and robin , being overshadowed by the villains , and consequently he looks rather uncomfortable in the film .  his batman is hardly an imposing figure .  chris o'donnell is unimpressive in a one-note performance , while alicia silverstone lackadasically fails to make any impression at all .  the film's one saving grace ?  undoubtably uma thurman's entertaining performance as sexy villainess poison ivy .  her work in batman and robin is certainly over-the-top , but in a controlled fashion which works splendidly within the tone of the film .  ms . thurman's comic timing is impeccable , and reminds us that it takes skilled performers to make campiness work successfully .   ( i'm already starting to positively reassess jim carrey's performance in batman forever . )  her amusing poison ivy is the most entertaining character in the film , and when she's offscreen the film greatly suffers .  i figure that if one has to die , being kissed to death by uma thurman isn't a half-bad way to go .  while batman and robin was hardly a ride of pulse-pounding excitement , i must admit that i was not bored watching it , although i did glance at my watch repeatedly through the screening - my attention was kept through anticipation of the utterance of yet another terrible pun or one-liner , and by awaiting yet another scene to fall flat .  it's been a long time since i've laughed so much at a movie .   \" at \" , of course , is the operative word .  \n",
      "i have a great idea for a movie , one that can't miss .  see , i've got coolio to do a song for the soundtrack , and about fifty athletes and celebrities to do cameo appearances .  it's about professional basketball , so i'll release it right around the nba finals to guarantee added publicity .  as for what the movie is actually about . . . well , that will all sort itself out eventually .  i figure it will be a comedy , so i'll throw a half-dozen writers at it and take the best of whatever they come up with .  maybe we'll put a gender spin on it , see if we can get some women out to see it , too .  eddie is one of those phenomenally lazy films that infuriates me more than any other kind .  twister , as inane as the script might have been , at least required some creative technicians ; mission : impossible , overwrought plot and all , at least involved genuine effort .  eddie just sits there , hawking up a formula story without any laughs , and makes every possible bad decision when a decision is required .  whoopi goldberg plays eddie franklin , a new york limo driver and die-hard knicks fan who is suffering through a dismal season for her beloved team .  coach john bailey ( dennis farina ) has lost control of his overpaid prima donnas , and the losses are beginning to mount .  the dwindling attendance inspires new team owner wild bill burgess ( frank langella ) to try a publicity stunt in which a lucky fan will get to be an honorary coach of the team .  the winner ( surprise , surprise ) is eddie , who becomes a fan favorite , and eventually the actual coach .  the knicks continue to lose , but eddie has some sassy tricks up her sleeve to inspire her troops .  incidentally , the knicks eventually start winning .  please raise your hand if that comes as a shock , and i will invite you to my all-night marathon of the bad news bears , major league , angels in the outfield , the mighty ducks , the big green , cool runnings and little giants .  awful teams in sports comedies make miraculous turnarounds ; it's what they do .  those teams usually involve kids , for a very sound comedic reason : it's funnier when they screw up , and they're more sympathetic .  those which _don't_ involve kids usually have actual actors in the lead roles , for another very sound comedic reason : they generally have developed some sort of comic timing .  eddie was cast under the misguided premise that it's easier to make basketball players look like actors than it is to make actors look like basketball players .  this finds nba players like greg ostertag , dwayne schintzius , rick fox and malik sealy delivering punch lines as though they were reading them for the first time off a bazooka wrapper ( though sacramento kings center olden polynice has a nice moment describing a black hole to fellow players ) .  perhaps that all didn't matter to anyone because there are so few punch lines , and because the whole film is one big casting gimmick .  steve rash directs the spiritless script as though waving a flag of surrender and screaming , \" don't blame me , i just work here . \"  perhaps it was patently obvious to him that eddie isn't a movie -- it's a cameo appearance that trips over a plot every once in a while .  among the notables who lend their faces to this travesty are donald trump , new york mayor rudolph giulianni , former new york mayor ed koch , david letterman , letterman regulars mujibur rahman and sirajul islam , espn broadcaster chris berman and knicks announcer marv albert , as well as dozens of nba players and several nba arenas .  and those are the real jokes in eddie .  nothing these individuals say or do is funny ; you are supposed to be laughing simply because you notice , \" hey , it's donald trump ! \"  or \" hey , it's mujibur and sirajul ! \"  it's difficult to decide whether eddie is so bad because it was so shamelessly lacking in imagination or because it can't even get the cliches in a cliche-ridden genre script right .  the knicks coach who is eddie's antagonist early in the film reappears at the end , but he isn't given a chance to be the villain eddie desperately needs .  neither is frank langella , and none of the athlete-actors have the ability to give whoopi goldberg anything to play off of .  that leaves her to do her street-wise miss thang routine , but with no character , no sharp lines and no help .  eddie isn't just a bad movie with a formulaic premise .  it's a movie that makes you feel cheated and offended , because someone came up with a poster and a marketing plan to which they had to attach an actual movie , and you had the nerve to believe it was going to be a comedy .  \n",
      "i'm really starting to wonder about alicia silverstone .  sure , she is one of the most beautiful creatures on god's green earth ( second only to that movie critic at large guy ) , but when it comes to choosing what movies she stars in , she always strikes out .  the crush was a slow-moving , predictable piece of fluff .  hideaway was a horrific novel adaptation alicia had only a minor role in .  clueless was an annoying , unfunny waste of time .  and people have e-mailed me too , saying clueless is a good movie and that i'm the only one who doesn't like it .  one girl said if i'd seen the movie with \" an open mind , \" i would have enjoyed it .  nothing could be further from the truth .  i went into the theater expecting to love the movie .  the preview looked good and of course i'm crazymadinlove with alicia , but the movie was a bunch of bad jokes coming from whiny , unlikable characters .  almost everyone i saw the movie with felt the same way .  when we were walking out of the theater , one guy ( and it wasn't me ) yelled out , \" that was the worst f$&#in' movie i've ever seen \" and the rest of us had to laugh in agreement .  so last night i walked into the video store and saw alicia's pretty face on the cover of some made-for-video thriller called the babysitter .  i knew it would be bad but some inner compulsion i'll probably never understand made me rent it anyway .  what i got was 90 minutes of regret--the worst alicia silverstone movie ever .  and you already know from the last paragraph what the competition is like .  where to begin in criticizing this movie ?  the plot is a thin shred that moves slower than a glacier , the writing could have been done ( and for all we know it was ) by a ten year old , alicia is the star and she's still wasted in a movie that has no appeal whatsoever .  there is zero humor , zero suspense , zero drama and zero action , until the last ten minutes , when the story is needlessly and pointlessly concluded with a violent sequence .  zero plus zero plus zero plus zero equals zero .  so why does this movie get one star out of me ?  well , alicia spends twenty minutes of the movie in the bathtub .  and if it wasn't bubble bath , the babysitter would have instantly joined the ranks of our other four- star features , but you settle for what you can get .  alicia plays a babysitter who's spending friday night looking after two kids whose parents are out getting drunk at a cocktail party .  and of course anyone as beautiful as alicia automatically spends their friday nights at home ( at least that movie critic at large guy does ) .  as the movie trods along , we discover she's not only the mostly-silent star of the movie but also the object of every male character's fantasies ( and probably every male viewer's too ) .  the drunken father thinks she's just the thing to recapture his lost youth , her boyfriend lets his imagination run wild while spying on alicia from outside , even the prepubescent boy looks in on alicia through the bathroom keyhole while she's taking her bubble bath .  they even throw in the middle aged wife's fantasies about a male counterpart at the party .  not that any of us asked or ever even thought about seeing this 200+ pound woman in a black silk teddy .  at least none of the sex fanatasies ever leave the realm of the pg-rated .  in fact , i could imagine the babysitter becoming a cinemax late-night staple if not for the fact that there's absolutely no nudity in it .  so you can't call it a sex flick .  i've already pointed out that it can't fall under drama , comedy , thriller or action , so what do you classify the babysitter as ?  bad .  \n",
      "this review contains spoilers , but believe me , i don't say anything you can't guess 10 minutes into the movie .  i * did * go into this one with high expectations .  i had been exposed to media reports that this film would signify a departure from the slasher flicks .  i sort of expected another exorcist or the shining .  i even put aside my general rule of not seeing this type of film .  boy , was i wrong !  another garbage slasher flick , the only difference being that * this * one has a story !  the story , you ask ?  well , a scumball buys a chinese puzzle from a guy in an arab souk .  he takes it home , somehow getting it past customs : - ) and starts fiddling with it in his attic .  lo and behold , after he takes it apart , three demons appear and start taking him apart , but with meat hooks .  when they're finished , his gizzards are hanging from the ceiling .  they botch up their cleanup job , however , and manage to leave his heart ( or some gland ; i didn't really recognize the organ ) under a floorboard .  the guy's brother and his brother's wife appear at the door soon after , and decide to move in .  they throw away scumball's belongings , and set up house .  turns out that wife is a bit of a nympho , and screwed around with scumball right before her marriage .  she starts having some wild hallucinations .  later , hubby spills some blood on the attic floorboards ( slow-mo special effects of the buckets of blood hitting the ground--all from the tiny cut on his hand ) .  said blood is eagerly sucked up by scumball's organ .  the organ grows into a thing that requires yet more blood in order to complete the regeneration into a really ugly thing .  it establishes mind contact with wife , who agrees to help him get more blood , because she really wants to be screwed again .  so , she helps him kill three businessmen .  scumball , at this time , gradually gets his strength back and grows all his organs back .  problem is , he doesn't have any skin , and even after three or four corpses , still doesn't get any skin .  he finally gets some , though , but strangely enough , he ends up looking like his brother .  guess they couldn't get the original actor back .  who knows .  scumball ( whose name is frank ) is not a nice guy .  he describes his torture by the demons fondly , as the \" ultimate pleasure and pain , since at that level there is no difference between the two . \"  somehow , i don't see getting torn apart by 90 fish- and meat-hooks a lot of fun .  this guy is * so * bad ( \" how bad * is * he ? \" ) ,   * so * bad that the * rats * cower in a corner in fear .  for good reason , too ; he crucifies two of them for fun , and carves a third while the nympho's horsing around with hubby .  anyway . hubby's daughter ( who , if course , is not * wife's * daughter ) starts to suspect something is wrong after she sees wife going into the attic with one of her johns and the ensuing screams .  the dumb bimbo meets scumball , and is not impressed .  she manages to escape with the chinese puzzle , and brings out the demons .  at any rate , the demons are pissed off that they screwed up their cleanup ; they're normally quite meticulous about that type of thing .  the story boils down to the demons trying to correct their mistake .  the demons are not , however , the good guys .  the dumb bimbo's the good guy .  she somehow not only gets them to take care of frank , but also banishes them to hell or oblivion , we're not too sure which .  not too shabby for someone with single-digit iq .  this is basically a \" bad jinn \" story .  it is an * awful * movie .  awful acting , bad focus in the photography , many scenes of skin being penetrated by meathooks , which is really unrealistic , and looks like the latex that it is .  continuity ?  who cares .  acting ?   * terrible * .  script ?  horrible .  sounds canned .  unrealistic .  story is so-so , but the impact is lost long , long before the film ends .  i do think the * rat * acting was quite good .  i have never seen rats look afraid .  they should get nominated for an award .  really good acting there , the best in the movie .   \" the envelope for best furry rodent , please . . . \"  a \" \" rating would be far too generous .  a \" 1/10 \" rating ( or -4 in the -4 to +4 rating system ) is far more accurate .  this movie is so bad that people in the audience were laughing , chortling at the bad acting and crummy dialog .  i can see this film turning into the next rocky horror picture show .  people were getting so fed up they were yelling warnings up to the characters on the screen .  had to have something to do .  dumb , dumb , dumb movie .  i was embarrassed that i spent money to see it .  it goes without saying that i disagree with the other reviews on the board that attempt to review the film for itself .  lots of slime and red-dyed corn syrup does not constitute \" horror , \" in my opinion .  \n",
      "godzilla is the ultimate culmination of the \" who cares about plot \" summer movie .  a loose remake of the 1954 \" classic \" japanese monster movie , godzilla , king of the monsters ( which is itself pretty thin in the story department ) , roland emmerich and dean devlin's big-budget lizard-stomps-manhattan disaster flick has been written with the brain dead in mind .  the script isn't just \" dumbed down , \" it's lobotomized .  godzilla lives and dies on special effects alone .  presumably , the primary target group for this film is teenage boys , the demographic most likely to shell out $7 repeatedly to see the same images of monster-instigated carnage .  that's not to say that females and other age groups are immune to the special effects seduction ; they're just not as readily susceptible .  this is the third straight movie in a row where emmerich and devlin have demonstrated that a mastery of computer-generated visuals is far more important for making money than the ability to write and direct for actors .  stargate was a financial success .  independence day was a runaway hit .  and , with godzilla already drowning in hype and merchandising tie-ins before it even opens , it's virtually guaranteed at least $100 million .  nice numbers for a film that could have been penned by a not-too-precocious grade school kid .  godzilla isn't completely without merit , although it is close .  there's a certain visceral thrill inherent in watching the giant lizard rip his way through manhattan , but it wears off quickly .  frankly , while the special effects are competent , they're not all that stunning .  there's nothing new here ; it's jurassic park meets aliens , with a little independence day thrown in for bad measure .  maybe it will require george lucas and his new star wars movie to take computer-generated visuals to the next level .  godzilla never really pushes the envelope , preferring to remain within a comfort zone .  the imagination of monster movies like king kong has been replaced by a crass , formulaic approach which disallows creativity .   ( how disturbing is it to know that godzilla has been chosen to close the 51st cannes film festival ? )  worst of all , godzilla isn't even exciting .  with the possible exception of a mildly enjoyable car chase near the end , there isn't a sequence in this film that raises the pulse .  even the scenes with dozens of aircraft attacking the monster are so devoid of tension and suspense that they are yawn-provoking .  independence day may have been dumb , but it was full of \" adrenaline moments \" capable of getting the audience involved in the action .  in this aspect of its production , as in so many others , godzilla is lacking .  actually , part of the problem is that we're never sure who we're supposed to be rooting for : the green monster with an attitude or the paper-thin humans trying to stop him .  the plot , such as it is , can be summed up rather simply .  after sinking a few ships and leaving some footprints on tropical islands , godzilla shows up in the big apple .  he does some of the usual tourist things : stops by madison square garden , visits the chrysler building , goes on a walk through central park , and takes the subway .  in the process , he knocks over a few buildings and steps on countless cabs , but he never has trouble with traffic jams .  on hand to stop him is an elite u . s . army unit , led by a slightly less-arrogant-than-usual military man ( kevin dunn ) and a biologist named nick tatopoulos , who has a theory about godzilla .  in his opinion , the big guy is actually a lizard grown to enormous proportions as a result of the radiation given off by french atomic bomb tests in the south pacific .  in nick's words , godzilla is \" a mutated aberration ? an incipient creature ? the first of its kind . \"  as luck would have it , nick's old girlfriend , audrey ( maria pitillo ) , is a reporter based at a new york tv station .  along with her cameraman friend , animal ( hank azaria ) , she decides to follow nick around as he trails godzilla .  then , just when the military has rejected nick's theory about why godzilla is in new york , a member of the french secret service ( jean reno ) recruits him for a special assignment .  instead of stomping around tokyo this time , godzilla has chosen new york city .  unfortunately , manhattan has been destroyed so many times in recent disaster movies ( independence day , deep impact , armageddon ) that it's becoming boring .  the whole tradition of monsters roaming around the city started with king kong , but the big ape was only about 30 feet tall .  he could climb the empire state building .  at ten times that height , godzilla would be more likely to knock it over .  godzilla contains a few lame attempts at humor .  there's an ongoing feud between animal and his wife that plays like sit-com material , an unfunny and repetitive gag about how no one can pronounce nick's last name properly , and a rather tame attack on film critics roger ebert and gene siskel .  both of the popular personalities have alter egos in the film : \" ebert , \" the mayor of new york , is played by michael lerner , and \" gene \" ( lorry goldman ) is his campaign manager .  ebert's re-election slogan is , not surprisingly , \" thumbs up for new york . \"  the siskel/ebert stuff is amusing the first time it's used , but , after a while , it grows tiresome .  and , although the \" characters \" don't serve any real purpose , they keep popping up .  godzilla is saddled with an unimpressive cast .  this is largely because emmerich doesn't want to risk a human performance upstaging his lizard .  that's not to say that matthew broderick and jean reno aren't capable of good performances ( both have done their share of solid acting in the past ) , but they aren't a-list names .  then again , considering the quality of the writing , even pacino and deniro would have been hard- pressed to shine .  maria pitillo ( dear god ) plays the love interest and hank azaria ( great expectations ) is on hand to present what is supposed to be comic relief .  ultimately , it doesn't really matter what i ( or any other critic , for that matter ) have to say about the movie .  tristar has assumed that godzilla , like all self-proclaimed summer event motion pictures , is pretty much critic-proof .  it may also be word-of-mouth-proof .  those who want to see the movie will see it no matter what i write or their friends say .  so , when i go on record to assert that godzilla is one of the most idiotic blockbuster movies of all time , it's like spitting into the wind .  emmerich and devlin are master illusionists , waving their wands and mesmerizing audiences with their smoke and mirrors .  it's probably too much to hope that some day , movie-goers will wake up and realize that they've been had .  \n",
      "over 40 years ago , a japanese production company called toho introduced the land of the rising sun to gojira , a reptilian creature of immense proportions created by mankind's nuclear testing .  partly flight of fancy , partly commentary on the exploitation of atomic power and weaponry , gojira emerged from the ocean to terrorize tokyo .  a year later , gojira was marketed to the united states by adding three things : a new name , a dubbed english track , and raymond burr .  as godzilla , the film took on the rest of the world .  thirty years later , toho remade the classic film and once again took it to the american market by adding the same three things ( yes , including raymond burr ) and called it godzilla 1985 .  now it's 14 years after toho's remake , and director roland emmerich has allowed the giant lizard to make an american first run .  in emmerich's godzilla , matthew broderick plays dr . niko tatopoulos , a biologist who is called in to join other scientists in the south pacific already studying the existence of a radiation-induced super mutant which leaves footprints the size of livingrooms .  when the mutant reptile suddenly appears out of the hudson river , tatopoulos and the rest of the team relocate themselves back to the states .  meanwhile , tatopoulos's college girlfriend , audrey timmonds ( maria pitillo ) , works in new york city as an assistant to a big-time news reporter .  she'd like to be a reporter herself , and when godzilla comes ashore , she figures this is her big break .  of course , with the big guy running amok in the city , niko and audrey are bound to cross paths , and are joined by victor \" animal \" palotti ( hank azaria ) , audrey's trusty cameraman friend , and phillipe roche ( jean reno ) , an operative for the french government , whose nuclear testing started the whole problem in the first place .  together they attempt to find and destroy the surprisingly elusive godzilla .  with the resources of the most cutting edge special effects houses and the clout of one of the nation's premiere movie production companies , one would think emmerich could make a film truly deserving of the name godzilla .  he didn't .  right up there with the lost world , godzilla is one of the biggest disappointments in recent cinematic history .  the plot is pretty much what we expect : the big dinosaur-like creature comes out of the water and starts smashing new york city , and it's up to our heroes to figure out why this thing is on its rampage and how it can be stopped , while the military makes futile attempts to bring the creature down .  the script , however , is painfully bad .  it's fraught with lines so corny , they don't even belong in b-movies , and includes many character actions which make you think , \" you idiot , \" or \" you stupid girl . \"  i suppose when you've got a movie with a giant lizard loose in new york , any other semblance of reality goes out the window as well .  why is it that godzilla topples some buildings by merely brushing against them , but is conveniently able to leap atop others ?  why do helicopters have to follow godzilla by flying dangerously between buildings where they can lose sight of him , when they could more easily keep track of him by flying a little higher and in a straight line ?  why do sidewinder missiles , which have small explosive warheads , blow up entire buildings when they miss godzilla ?  why is a mission to bomb madison square garden carried out by three f-18 fighter-bombers , when flights of such aircraft are always comprised of multiples of two ?  okay , maybe the last one was a bit nit-picky , but hey , i was on a roll .  broderick is usually a good actor , but in this film he's weighed down by an unexciting character and an atrocious screenplay which seem to fight against him every step of the way .  hank azaria does what he can , but don't expect to see development of any of the promise he showed in the birdcage .  like broderick's , azaria's character is quite simply lacking in color .  what really annoyed me was maria pitillo , who actually takes the bad script and makes it worse with her acting .  casting must have been asleep on this one .  the one bright spot here is jean reno , who oddly enough seems to fit well into a role which is often comedic , quite unlike what we've seem him do in the past .  although his character is contradictory to the unfolding disaster , reno brings a style to the role of phillipe which makes him enjoyable .  unfortunately , the same cannot be said of the other incongruities .  the entire feel of the movie is tongue-in-cheek , and seems to pay comical homage to a dozen or so films that have come before it .  this results in a significant amount of parody , which contrasts sharply with the threat of the monster , and ends up just producing a mess .  most of the characters seem to be there for comic relief , and almost none are smart enough for the audience to take seriously .  although emmerich obviously wanted to make a fun action picture , what good is it to sink millions into a cgi creature whose ferocity is undermined by the humans he threatens ?  if we can't take the characters seriously , the threat they face is an empty one because we simply don't care what happens to them .  godzilla simply pulls too many punches in its attempt to be a film more light-hearted than it should be .  far be it from me to want to see more carnage in the theaters , but here's a behemoth running through the city !  there's bound to be a lot of casualties , but instead godzilla is afflicted with the after-school g . i .  joe cartoon syndrome , where almost everyone seems to get out of harm's way just in time .  in a couple of scenes , godzilla briefly breathes fire .  none of the characters even remark upon this ability , nor is it used to any particular advantage by the filmmakers .  it's as if the special effects people just wanted to show that yes , godzilla can do this , just like in the old movie .  consider another punch pulled .  through creative script writing , you can make a sequel out of just about any movie , but the final scene in this one doesn't just leave the door open , it opens into a hallway leading directly into a room where godzilla ii is waiting patiently .  it made me want to gag .  emmerich should have done away with 90% of the humor and in-jokes and played this one as a straight action film .  with an intelligently written screenplay , godzilla could have been so much more .  however , by confusing the viewer with a ton of add-ins and parodies , the movie ends up being something that just doesn't work .  now if they only had raymond burr . . . .  \n"
     ]
    }
   ],
   "source": [
    "# fill in your code...\n",
    "print('top 10 negative 1-10')\n",
    "for i in range(1,11):\n",
    "    print(X_test_raw[index[i-1,0]])\n"
   ]
  },
  {
   "cell_type": "markdown",
   "metadata": {},
   "source": [
    "If we were to apply the classifier we've learned into a different domain such laptop reviews or restaurant reviews, do you think these features would generalise well? Can you propose what features the classifier could pick up as important in the new domain?"
   ]
  },
  {
   "cell_type": "markdown",
   "metadata": {},
   "source": [
    "I think it might be a little difficult to apply this classifier,because this classifier is about movies, emotional vocabulary will account for the vast majority. However, laptops may have comparisons such as numerical values, comparison of objective attributes, such as comparison of CPU and GPU models, and comparison of such attributes."
   ]
  },
  {
   "cell_type": "markdown",
   "metadata": {},
   "source": [
    "## Train and Evaluate Logistic Regression with TF.IDF vectors\n",
    "\n",
    "Follow the same steps as above (i.e. evaluating count n-gram representations).\n"
   ]
  },
  {
   "cell_type": "code",
   "execution_count": 33,
   "metadata": {
    "ExecuteTime": {
     "end_time": "2020-02-15T14:17:54.414637Z",
     "start_time": "2020-02-15T14:17:51.625934Z"
    },
    "scrolled": true
   },
   "outputs": [
    {
     "name": "stdout",
     "output_type": "stream",
     "text": [
      "Epoch times: 0, Training loss value: 0.8149694127588816, Validation loss value: 0.907697463649047\n",
      "Epoch times: 1, Training loss value: 0.695206681474556, Validation loss value: 0.8144718120280801\n",
      "Epoch times: 2, Training loss value: 0.6265029357584787, Validation loss value: 0.7804226387337146\n",
      "Epoch times: 3, Training loss value: 0.5700117266788925, Validation loss value: 0.73933249659245\n",
      "Epoch times: 4, Training loss value: 0.5263044476959292, Validation loss value: 0.7105190684406366\n",
      "Epoch times: 5, Training loss value: 0.4901339697960696, Validation loss value: 0.6875268057795711\n",
      "Epoch times: 6, Training loss value: 0.4599133924948054, Validation loss value: 0.6683100098375602\n",
      "Epoch times: 7, Training loss value: 0.43340908198548594, Validation loss value: 0.6520639546654757\n",
      "Epoch times: 8, Training loss value: 0.40927924708996005, Validation loss value: 0.6381612488567462\n",
      "Epoch times: 9, Training loss value: 0.38984468971685016, Validation loss value: 0.6259415796184558\n",
      "Epoch times: 10, Training loss value: 0.3726755006613724, Validation loss value: 0.6152947820305944\n",
      "Epoch times: 11, Training loss value: 0.3554456813970398, Validation loss value: 0.6054171956212483\n",
      "Epoch times: 12, Training loss value: 0.34217786711051296, Validation loss value: 0.5972066857869084\n",
      "Epoch times: 13, Training loss value: 0.33104552132610365, Validation loss value: 0.5904272115843279\n",
      "Epoch times: 14, Training loss value: 0.31775993283447795, Validation loss value: 0.5828823253076518\n",
      "Epoch times: 15, Training loss value: 0.3072240468049667, Validation loss value: 0.5768367102547219\n",
      "Epoch times: 16, Training loss value: 0.2980637940120929, Validation loss value: 0.5716023200670912\n",
      "Epoch times: 17, Training loss value: 0.2885400441190822, Validation loss value: 0.566290016258373\n",
      "Epoch times: 18, Training loss value: 0.27849107089859393, Validation loss value: 0.5607652587517615\n",
      "Epoch times: 19, Training loss value: 0.2713437651845756, Validation loss value: 0.55701171294311\n",
      "Epoch times: 20, Training loss value: 0.26471633796547633, Validation loss value: 0.5536847014153636\n",
      "Epoch times: 21, Training loss value: 0.2586019715466538, Validation loss value: 0.5510772233465886\n",
      "Epoch times: 22, Training loss value: 0.2519712673200034, Validation loss value: 0.5486588112963415\n",
      "Epoch times: 23, Training loss value: 0.24707423261709077, Validation loss value: 0.5477584592329986\n",
      "Epoch times: 24, Training loss value: 0.24261933535244493, Validation loss value: 0.5477865308321566\n"
     ]
    }
   ],
   "source": [
    "w_tfidf, trl, devl = SGD(X_tr_tfidf, Y_tr, \n",
    "                         X_dev=X_dev_tfidf, \n",
    "                         Y_dev=Y_dev, \n",
    "                         lr=0.0001, \n",
    "                         alpha=0.00001, \n",
    "                         epochs=50)"
   ]
  },
  {
   "cell_type": "markdown",
   "metadata": {},
   "source": [
    "Now plot the training and validation history per epoch. Does your model underfit, overfit or is it about right? Explain why."
   ]
  },
  {
   "cell_type": "code",
   "execution_count": 34,
   "metadata": {
    "ExecuteTime": {
     "end_time": "2020-02-15T14:17:54.517668Z",
     "start_time": "2020-02-15T14:17:54.417118Z"
    }
   },
   "outputs": [
    {
     "data": {
      "text/plain": [
       "<matplotlib.legend.Legend at 0x21294e3cf88>"
      ]
     },
     "execution_count": 34,
     "metadata": {},
     "output_type": "execute_result"
    },
    {
     "data": {
      "image/png": "[encoded data removed]",
      "text/plain": [
       "<Figure size 432x288 with 1 Axes>"
      ]
     },
     "metadata": {
      "needs_background": "light"
     },
     "output_type": "display_data"
    }
   ],
   "source": [
    "# fill in your code...\n",
    "plt.plot(range(len(trl)), trl, c = 'blue', label='training loss')\n",
    "plt.plot(range(len(devl)), devl, c = 'red',label = 'validation loss')\n",
    "plt.xlabel('Epoch times')\n",
    "plt.ylabel('Loss value ')\n",
    "plt.legend()\n",
    "plt.title('training and validation loss')\n"
   ]
  },
  {
   "cell_type": "markdown",
   "metadata": {},
   "source": [
    "**Answer:this model is also overfit, because the training loss is lower than the validation loss.**"
   ]
  },
  {
   "cell_type": "markdown",
   "metadata": {},
   "source": [
    "Compute accuracy, precision, recall and F1-scores:"
   ]
  },
  {
   "cell_type": "code",
   "execution_count": 35,
   "metadata": {
    "ExecuteTime": {
     "end_time": "2020-02-15T14:37:56.489814Z",
     "start_time": "2020-02-15T14:37:56.487014Z"
    }
   },
   "outputs": [
    {
     "name": "stdout",
     "output_type": "stream",
     "text": [
      "Accuracy: 0.7775\n",
      "Precision: 0.7681159420289855\n",
      "Recall: 0.795\n",
      "F1-Score: 0.7813267813267813\n"
     ]
    }
   ],
   "source": [
    "# fill in your code...\n",
    "preds_te = predict_class(X_test_tfidf, w_tfidf)\n",
    "print('Accuracy:', accuracy_score(Y_te,preds_te))\n",
    "print('Precision:', precision_score(Y_te,preds_te))\n",
    "print('Recall:', recall_score(Y_te,preds_te))\n",
    "print('F1-Score:', f1_score(Y_te,preds_te))"
   ]
  },
  {
   "cell_type": "markdown",
   "metadata": {},
   "source": [
    "Print top-10 most positive and negative words:"
   ]
  },
  {
   "cell_type": "code",
   "execution_count": 36,
   "metadata": {
    "ExecuteTime": {
     "end_time": "2020-02-15T14:38:17.845485Z",
     "start_time": "2020-02-15T14:38:17.842557Z"
    }
   },
   "outputs": [
    {
     "name": "stdout",
     "output_type": "stream",
     "text": [
      "Top10 positive:1-10\n",
      "alchemy is steeped in shades of blue .  kieslowski's blue , that is .  with its examination of death , isolation , character restoration , and recovery from loss , suzanne myers' new independent film echoes the polish director's internationally-acclaimed 1993 release .  language aside , the principal difference between the films is that , while kieslowski took great pains to draw us into the main character's world , alchemy keeps its viewers at arm's length .  as a result , while we're able to appreciate the film's intellectual tapestry , it is emotionally distant .  alchemy is divided into three chapters : \" charity \" , \" faith \" , and \" hope \" .  while there are common themes and story elements running through all three , the single constant is the main character , a sculptor/russian translator named louisa ( rya kihlstedt ) .  when the film opens , she's living with her painter boyfriend , whom she believes to be cheating on her .  following his sudden death in an automobile accident , louisa's life is thrown into turmoil .  events swirls around her , and she can't find a source of stability .  in her quest to make sense out of her loss , she befriends her late boyfriend's mistress , visits her ill sister , and , eventually , abandons her old life by joining a \" back-to- nature \" cult .  alchemy successfully explores a variety of compelling issues .  in addition to asking the basic question of how a person should cope with the unexpected death of a loved one , it probes beneath the surface of concepts like the importance of faith in the healing process , the meaning of love , and the nature of art .  does personality restoration come through interacting with others or escaping from the familiar ?  are artistic epiphanies the result of focused solitude or of living life , with all of its various distractions , to the fullest ?  myers' challenge is to make these subjects , art film staples , engrossing in a new context .  through louisa's struggles , she succeeds .  while alchemy isn't always emotionally appealing , it never loses its fascination .  even when we're not connecting with louisa , who is often more of a locus for ideas than a fully-developed personality , there's enough material on-screen to hold our attention .  the cinematography is stunning .  city scenes are tinted with blue , adding a cold , bleak dimension to the film's early portions .  later , when louisa reaches the \" wilderness \" , we're treated to a dazzling array of autumnal splendor -- brightly-colored leaves in the trees and on the ground .  it's a startling-but-effective visual contrast that emphasizes the changes taking place in louisa's life as she travels the road back to emotional stability .  the title refers to the practice of a group of mystical faith- healers who use \" alchemy \" to provide for the needs of the body and soul .  and , although louisa partakes of their peculiar brand of medicine , it's ultimately love and companionship , not alchemy , that brings solace .  her pain is assuaged only when she lets go of the belief that the inherent safety of being alone is life's ultimate goal .  even though louisa's final transformation lacks the impact it could have possessed had she been a more vital character , it's still an intriguing and enlightening process to watch .  alchemy isn't pure magic , but , especially during its best moments , it's close .  \n",
      "the jekyll and hyde story told from his maid's point of view is , in a word , \" dark \" .  you wouldn't expect something bright and cheery based on robert louis stevenson's novel , but the film is surprisingly dreary and dismal .  jekyll/hyde ( john malkovich ) is terminally depressed and desperate .  mary reilly ( julia roberts ) is a victim of monstrous child abuse and the anti-woman sentiment of the times .  director stephen fears' version of the london slums makes us marvel that anyone survived them .  the lighting level is exceedingly low throughout the movie : it almost appears to be filmed in black and white .  the direction and cinematography are brilliant and liquid .  scenes flow into the next scene like honey oozing off a strawberry .   ( except there's no red , of course . )  the look is so moody and melodramatic that you'll be shocked when you leave the theater .  i saw it at a matinee and took quite a while to adjust to the sunny skies afterward .  often the jekyll and hyde archetypes are viewed as splitting a whole person into components of good and evil or perhaps cerebral and emotional parts .  here the doctor is intellectual and perhaps good , but certainly powerless .  his alter ego is forceful and totally without conscience .  two parts that make up a whole .  neither are capable of functioning without the other and once separated , disaster is inevitable .  the differences between the two characters would be more effective if it were accomplished by demeanor and attitude .  when we finally see the transformation , the special effects thrust the story into the realm of science fiction , not the psychological horror that the tale demands .  roberts and malkovich are skillful in their roles .  both are suitably melancholy , fitting in with the rest of the film .  the only flash of life and color comes from glenn close ( and her lips ) as the madam of a whorehouse where hyde lives , and surprisingly , jekyll apparently frequents .  life and color maybe , but this is not close's best role .  she seems little more than a cardboard cutout character .  a beautiful film in its own dreary way .  you'll appreciate the filmmaking craft , but don't expect to leave in an upbeat mood .  \n",
      "october sky is a rare oddity in cinema : a self-proclaimed \" uplifting \" film that is actually uplifting !  based on the autobiographical book by homer hickam , rocket boys , october sky tells the struggle of four boys reaching for their dream .  it's 1957 , and for the boys of coalwood , west virginia , there's not much hope of a rosy future .  coalwood is a coal mining town , and , except for the few lucky ones who manage to escape on a football scholarship , most of coalwood's boys are destined to work in the mine .  but , in october 1957 , an event happens that sparks one boy to dream .  the launch of the soviet satellite sputnik sets homer hickam ( jake gyllenhaal ) to dream a future of rocketry and space travel .  of course , homer's parents ( chris cooper and natalie canderday ) aren't quite sure what to make of their son's unusual interests .  homer gets his strongest encouragement from miss riley ( laura dern ) , a teacher in his school who also informs him about the scholarships offered to the winners of a national science fair .  and so , with stars in his eyes , and thoughts of scholarships in his head , homer enlists the help of three other boys ( william lee scott , chad lindberg and chris owen ) and begins to build a rocket .  but , do these four backwoods boys even have the slightest hope of escaping their destiny ?  there is a lot that could have gone wrong with october sky .  nearly every sequence flirts with becoming syrupy and cliched .  however , miraculously , october sky avoids nearly all of these pitfalls , making the exact right moves at the exact right times .  a film emerges which manages to be powerful and moving without slipping into the gauzy haze of nostalgia or sliding down the sugarry slope of sappiness .  jake gyllenhaal is outstanding as the kid at the center of this film .  >from the outset of the film , he is immediately likable , and never seems too corny or brainy as to alienate the audience .  unfortunately , while october sky focuses on homer , the other three kids get the short end of the stick .  they remain little more than placeholders reading \" insert friend here \" .  of the adults in the film , chris cooper is the most fully realized character .  the film never paints him as merely the villainous parent standing in the way of his child's dreams , but , instead , shows the multihued portrait of a man who wants the best for his family and town , but is too stubborn to realize what that is .  director joe johnson deserves much credit for successfully navigating the many obstacles that october sky manages to dodge .  however , there are still a few occasions when he allows things to proceed just a step too far .  scenes which were natural and inspiring start to become contrived and artificial .  however , these lapses are minimal , and johnson quickly steers the movie back on course .  the problem with many so-called \" uplifting \" films is that they attempt to force their mediciney goodness down your throat .  october sky never resorts to that level , and yet , manages to become a truly uplifting film purely on its own merits .  \n",
      " \" good will hunting \" is two movies in one : an independent take on the struggle of four boston pals and a traditional hollywood , \" prodigy child \" film complete with upbeats , downfalls , sporadically moving situations and plenty , plenty of shtick .  unusually directed by gus van sant , \" good will hunting \" overcomes the banalities of its story by affirming the emergence of fresh , new talent .  the film stars matt damon as will hunting as a mathematical , rebellious whiz kid inadvertly discovered by a college professor ( stellan skarsgard ) , who places him under psychological supervision with robin williams .  in a nutshell , that's it .  the core of the \" good will hunting \" is damon , who infuses the script ( co- written by \" chasing amy's \" ben affleck ) with just the right amount of warmth , sensitivity and humanity to accentuate his position as a refreshing multi- talented performer .  but it's the acting that hits the mark , and damon hits all the right notes , flying over robin williams' deja-vu role ( \" awakenings \" was written all over this ) as a devastated shrink who has closed all contact with society due to his wife's tragic death .  damon effortlessly blends the carelesness of a gregarious , confused thug with the absorbing ingeniousness of someone like einstein .  his rich , complex character is the pulp of \" good will hunting . \"  everything else pales in comparison .   \" good will hunting \" exposes the lack of profoundness of deliberately schmaltzy storytelling , but , unlike \" little man tate \" or \" phenomenon \" , it doesn't set up its story in a black and white , point a to point b be manner , but as the saga of an extraordinary individual whose feasibility for success doesn't automatically signify he must make easy , familiar choices , like the protagonists in the aforementioned .  \n",
      "the most common ( and in many cases the only ) complaint against francis ford coppola's 1972 masterpiece the godfather is glamorising of mafia , which is presented as an institution guided by ancient tradition and virtues like honour , loyalty and solidarity more suitable for some gentler , kinder ages .  martin scorsese , another italoamerican moviemaker , confronted that perspective with his own , more down-to-earth vision of mafia in 1973 mean streets , movie that dealt with lower echelons of organised crime .  unfortunately for scorsese , his film was unspectacular and too artsy to compete with coppola's influence on mafia portrayals in the movies .  seventeen years later scorsese returned to mean streets of new york with another film that dealt with darker side of american organised crime .  this film was goodfellas , epic black comedy which is today considered as one of the best and most influential films of 1990s .  goodfellas owes some of its initial success and popularity to the fact that it was based on the true story , told in best-seller book wiseguy by nicholas pileggi ( who would co-write the screenplay for the film ) .  the book , as well as the film , chronicled thirty years in the life of henry hill ( played by ray liotta ) , irish-italian criminal from new york .  at the age of 13 he gets recruited in the criminal organisation of paulie cicero ( played by paul sorvino ) , local mob boss , and gradually climbs up the ladder starting with small errands .  after couple of years , together with his best childhood friend tommy de vito ( played by joe pesci ) , he joins the crew of expert thieves led by jimmy conway ( played by robert de niro ) .  three of them spend years as best friends and associates , gathering enormous wealth from their criminal enterprises that would culminate with one of the most spectacular robberies in american history .  wealth , influence and privileges of men connected with mafia are enough for henry hill to seduce his future wife karen ( played by lorraine bracco ) , who would afterwards remain loyal to her husband despite infidelities , domestic abuse , arrests and would even be accomplice to his own private drug dealing business .  but the perfect world of \" wiseguys \" gradually begins to fall apart - tommy's unpredictable outbursts of homicidal violence , jimmy's reluctance to share his part of the loot with partners and , finally , henry's own drug habit would lead to his downfall and make him question his loyalty to the friends .  goodfellas is an excellent example of a film that represents work of a film genius in his full glory .  scorsese managed to create a vision which is effective and complete despite being full of contradictions that would ripped the film apart in the hands of less talented filmmaker .  world depicted in this film is both ordinary and fascinating .  scorsese spares no effort to show us all the violence , hypocrisy and inherent paranoia of organised crime , yet it manages to make it both seductive and funny .  after being exposed to two and half hours of the film and three decades of criminal history ( based on some notorious real life events ) , the audience understands why the characters chose such dangerous life paths , trading the superficial and short-lasting glamour and prosperity of a criminal to the dullness and poverty of honest citizens .  scorsese also manages to break viewer's moralistic inhibitions by showing truly revolting material - scenes that depict personal tragedies , broken homes , human depravity , violence , bloodshed and murder - in all their uncompromising reality , but in a manner that would make it amusing and funny to the audience .  with the use of ironic soundtrack , manipulative shots , character's dialogue or narrator's commentary , goodfellas represents the new standards of black humour that would became very popular few years later during tarantino era .  even if we don't pay attention to skills with which potentially disturbing material becomes eye pleasing and entertaining , we should admit that scorsese displays his talents of truly original and creative filmmaker .  first , we might notice unusual structure of the plot - relatively minor subplot is used as movie's ironic prologue .  then , instead of single narrator , scorsese switches to the second character as narrator in the middle of the film only to switch back to the original shortly afterwards .  this multiple points of views , both in terms of narration and various subjective shots , only lengthens the ironic distance towards characters and their situation .  same ironic distance comes with extremely effective choice of soundtrack .  nostalgia for good old times is illustrated with easy-listening 1950s pop songs , while depression , paranoia and bad times find their expression in more neurotic rock songs of late 1960s and 1970s .  but the soundtrack is most effective when it is used as ironic comment - almost pastoral , easy listening tunes make strong and very ironic contrast to the scenes of violence and bloodshed .  however , thing most associated with this film is couple of continuos shots that feature characters moving through large rooms and interacting with dozens if not hundreds of people .  such scenes , although they require very great skill and patience during their shootings , became very popular among other directors in 1990s .  fragmentary character of the screenplay , which doesn't have straight plot and instead bases film on series of loosely connected vignettes , gives another interesting opportunity for scorsese .  he uses this structure of film to experiment , and most successful of such experiments is hilarious \" a day in life \" segment near the end of the film .  another essential element of goodfellas is large but superb collection of great acting talents .  the most respectable among them is robert de niro , but his character , who happen to be most quiet and business-like member of criminal trio , gets overshadowed by two of his friends and colleagues .  joe pesci deserved his \" oscar \" for supporting role of homicidal psychopath tommy , and his lines , including ad-libs , probably represent the most memorable element of the film .  ray liotta , although equally talented , perhaps doesn't look as the best choice for narrator and nominal hero of the film .  liotta's henry hill looks somewhat too hollywoodised and glamorous among this bunch of low-level street thugs .  liotta , on the other hand , improves general impression by very realistic and menacing portrayal of drug addiction .  lorraine bracco is , on the other hand , very effective and believable as karen hill , wife who gradually descends into same moral cesspool as her husband .  paul sorvino is also very effective as patriarch mafioso , and among the supporting cast most memorable is chuck low as pestering small-time gangster who unknowingly digs his own grave .  as a combination of clever sociological study , black humour and innovative filmmaking goodfellas became something only the truly great films could do - work of art and excellent popular entertainment in the same time .  because of this achievement , and also because of the great influence on future filmmakers , this cinematic gem deserves its rightful place among the best films of 1990s .  \n",
      "ingredients : james bond , scuba scene , car controlled by cellular telephone  synopsis : warped media tycoon elliot carver ( jonathan pryce ) plots to start a war between britain and china in order to boost ratings by using a 'stealth ship' to fire a captured british missile at the city of beijing .  super-agent james bond ( pierce brosnan ) uses trick gadgets , pluck , and charm in order to foil carver's scheme .  this time bond teams up with top female agent wai lin from china ( michelle yeoh ) .  the film contains fights , chases , gadgets , and comedic moments .  opinion : it does not have a casino scene or a ski scene , but tomorrow never dies is nevertheless a solid , enjoyable bond movie .  it neither stands out nor disappoints .  in old bond movies bond sometimes teamed up with american cia agent felix leiter .  tomorrow never dies introduces a new character in the form of chinese agent wai lin .  like leiter's character , wai lin would be a sure bet for a cameo in a later bond movie .  stars : michelle yeoh was born a leo in the western zodiac in the year of the tiger on the asian astrology calendar .  i don\u0012t believe in horoscopes .  but at an airport i once browsed an astrology book with a section on leo tigers ( lts ) .   \" leo tigers prefer enough solitude to grow at their own pace .  lts are unbelievably courageous when facing adversity .  the lt is also classy , and has an excellent sense of refinement , but she sees herself as an adventurer , and prefers freedom of movement rather than flashy status symbols .  this person loves family and friends with a fierce loyalty .  she delights in siblings , nephews , nieces and extended family - - but she must have her personal freedom to come and go as she pleases .  sometimes annoyance at injustice drives her to take up one or two causes .  in love life , the lt has an unfortunate mental block against committing to any partner who is less powerful than she . \"  in real life , michelle yeoh is asia's top female star .  like jackie chan , she does her own stunts .  she was born in malaysia - - a country of many languages - - and her primary language ( the language she speaks in her sleep ) is english .  she was taught malay in school , and learned cantonese from bilingual parents .  as an athlete michelle represented malaysia internationally .  she enjoyed squash , diving , swimming , and rugby .  she studied ballet at the royal academy of dance in london , but switched to drama after a spinal injury .  in 1983 she won the miss malaysia pageant - - without really intending to , since a family member had entered her in the contest without her knowledge .  notoriety from the contest led eventually to a movie career as an action heroine .  michelle has survived a divorce with asian retail tycoon dickson poon ; a nearly fatal stunt accident falling from a freeway overpass which put her in the hospital for three months , and ; a retirement from the movies .  her comeback from retirement , supercop ( 1992 ) became the top grossing film in asia that year .  it is not clear what michelle\u0012s martial arts style is , but it may be a theatrical version of wing chun .  of her character wai lin in tomorrow never dies , michelle says , \" wai lin is the first bond girl who is on a par with bond , someone who can match up with him mentally and physically . \"  my own opinion is that casting michelle yeoh as agent wai lin was an excellent choice .  \n",
      "close your eyes for a moment , if you will , and imagine the sound of stephen rea's gaelic brogue , silky smooth and irish like a pint of guinness .  a lackadaisical , naughty little schoolboy voice that flirts and gambols .  an acerbic , sing-song metered voice that evokes the startling imagery and language of anthony burgess' \" a clockwork orange . \"  a voice that deliciously conjures scenes both porcine and puerile , like those out of \" delicatessen , \" or \" the tin drum . \"  imagine all of that , and you'll get a good sense of what you can expect from \" the butcher boy . \"  imagine that and more .  neil jordan's latest film \" stars \" rea in more ways than one .  rea , the accomplished irish actor most notable from his star turn in jordan's \" the crying game , \" contributes a restrained and managed performance as da brady , a small town drunk in an unnamed irish community in the 1960s .  but it's his wall-to-wall narration as the butcher boy of the title , da brady's son , francis , that makes rea's \" performance \" worth watching , worth listening to .  and that's only half the fun .  playing the young francie brady is newcomer eamonn owens and he is , without a doubt , a revelation .  for as much as rea's voiceover permeates almost every scene of \" the butcher boy , \" owens commands virtually every frame .  it's impossible to take your eyes off him .  with his crop of carrot-colored hair , ruddy complexion , and overall grubby appearance , francie brady is an unlikely hero , refusing to be done in by his alcoholic , trumpet-playing father , his depressive , suicidal mother , or the neighboring , bespectacled monster known as mrs . nugent ( fiona shaw ) .  in fact , everything was ok until \" the nugent \" came to town .  now , she poses as much a threat to the safety and security of town bully francie and his best pal joe ( alan boyle ) as the looming commie menace ( \" the butcher boy \" is set at a time when the fear of nuclear obliteration is first and foremost in the minds of many ) .   \" pigs ! \" screams mrs . nugent at the brady menagerie .   \" you're all pigs ! \"  it's the start of many a related image .  after ma brady is shipped off to the \" garage \" for psychiatric observation and da brady downs one bottle of whiskey too many , francie finally loses grip of his fantasy world of cowboys and indians , the lone ranger , and other comicbook characters .  squealing like a stuck pig , francie does \" the likes o' that \" on the nugent's living room floor , and is himself whisked away to a very catholic remand home for \" boney arsed bogmen , \" where his ever fertile imagination--and clever chicanery--runneth over .  director jordan's vivid treatment of pat mccabe's nightmare novel produces a sometimes disturbing , dark comedy littered with surreal touches ( such as sin ? ad o'connor playing the virgin mary ) .  it's not as outlandish as the trailers make out ; instead , this remarkable film focuses on the effects external influences have on the friendship between two boys ( schoolboy chums in real life ) , allowing us to empathize with their plight in the presence of extraordinary behavior .  it's bleak and it's black but it's fundamentally very funny .  rea talks us through it , beautifully , and owens drags us though it , admirably , and , in tandem with jordan's sure hand , theirs are contributions to make \" the butcher boy \" a film worth savoring .  \n",
      "synopsis : upper middle class , suburban family man lester ( kevin spacey ) realizes that he is just going through the motions : he is unable to feel passion ; he is soulless , cynical , and no longer able to feel the edge between success and failure .  everyone else around him has similar symptoms .  lester's unassertive daughter jane ( thora birch ) is too lethargic to change her world , yet all too ready to whine and complain .  his wife carolyn ( annette bening ) is reduced to keeping up appearances and reciting commercialist slogans .  and these are people with a big house and a decent standard of living .  the only person who seems able to appreciate beauty and freedom and life is the person most deprived of it : a dope-dealing teen from across the street who is practically imprisoned by a domineering , bullying father .  when lester embarks on a mad scramble to feel the edge again , the fact that he has quit his job to feel what it's like - - and his newfound interest in exercise to impress a teenage girl - - ruffle a lot of feathers in the family .  will lester regain his ability to appreciate life ?  opinion : people say it all the time : you never appreciate good health until it's gone .  likewise , people raised in fabulously pampered prosperity can become unhappy and spiteful over the dumbest , most inconsequential problems , simply because they have no clue how good they have it .  sometimes it takes a near fall - - accidentally or through deliberate fasting - - to move out of apathy and reclaim your ability to challenge the world .  the deprivation/appreciation cycle is a major theme of american beauty .  american beauty is a non-formula , intelligent and articulate movie that offers fantastic performances by everyone in the cast , especially kevin spacey , who is simply gosh darn amazing this movie .  the thing i like about american beauty is that there is no sentimental music , no hospital scene nor any overly dramatic hokum .  the movie entertains and offers brilliant performances just as is .  if you are in the mood for a thoughtful , non-formula flick , i highly recommend american beauty .  \n",
      "if there's one thing in common about all of hollywood's major studios , it's that their productions are moving toward mainstream more and more .  although twentieth century fox and new line cinema have spawned subsidiaries which specialize in independant or controversial motion pictures ( fox searchlight and fine line respectively ) , it's obvious there's no significant movement underway to promote inventive ideas at the theater .  so when a movie like gary ross' pleasantville comes along , wrapped in a blanket of innovative ideas and served up on a platter of fine production , it's a welcome change of pace for all who frequent the cineplexes .  although the atmosphere and buzz about the movie are cheery and lighthearted , pleasantville should not be mistaken for a no-thought movie .  quite the opposite is true , in fact , as director ross skillfully brings a narrative with intense and intelligent undertones to the screen .  the story , both about the joys of living life to the fullest as well as the social ills of segregation , captures the essence of statement-making in the cinema .  not in recent memory has a movie carried such weight of theme into widescale distribution , and even if mass audiences fail to see the ingenuity of ross' work , it is still a testament that his picture was considered worthy enough .  kudos to both he and his production staff for putting together this fine picture .  it stars tobey maguire and reese witherspoon as two nineties teenagers who , through quite a bit of luck , find themselves zapped into a fifties sitcom named \" pleasantville . \"  maguire , as the reserved bud parker , is perfect for the pseudo-world ; but the rebellious mary sue ( witherspoon ) is not at all made for the father-knows-best times .  it's not long before she sets the town of pleasantville on end , and begins to teach the townspeople - in a quite unlikely way - what life is * really * like .  soon hues of color creep into the black and white world , and while some embrace the change in the passion of realism , others fear the strangeness .  at one end is a soda shop owner-turned-painter named mr . johnson ( jeff daniels ) and at the other end is a close-minded mayor ( j . t .  walsh ) and his chamber of commerce ; but the two sides are simply fronts for a clash of ideas that soon involves the entire town .  fine performances are turned in all around .  maguire and witherspoon are effective as the leads , but the true complements go out to jeff daniels and j . t .  walsh ( in his latest and final posthumous performance ) .  daniels brings an atmosphere of awe , inspiration , and hope to his character , whereas walsh simply drips of sinister closemindedness - almost to the point where you can sense gene hackman's envy .  for daniels , it's his most commendable performance of the last three years - or more - and for walsh , it's a complementary exclamation point on a fine career .  also of lesser note is the supporting role by joan allen , and in viewing the entire cast works well together from start to finish .  there's not much to dislike about pleasantville , and its dynamic nature makes it the perfect movie for those who want serious as well as those who don't .  \n",
      "a lot of times a three-star film will be my favorite .  they're usually the kind of movie i can watch most often too .  they're usually not too deep , allowing for semi-brainless relaxation , and at the same time , not too dumb .  men in black is a four-star three-star film .   ( hope you could follow that one )  men in black doesn't wait to get to the fun .  just minutes into the film we are introduced to agent kay ( tommy lee jones ) , introduced to an alien , and introduced to the the awesome memory-diminishing tool that all mib agents use .  after all , you can't have alien witnesses running around with that kind of knowledge can you ?  men in black is , of course , the organization which \" moniters all extra-terrestrial activity on earth \" .  nypd officer james edwards ( will smith ) , is on a routine foot chase when suddenly the no-good punk he's chasing starts leaping up buildings and blinking more than one pair of eyes .  the alien delivers the simple message that the world is going to end , and with that , dives off of a roof .  naturally nobody believes his story .   .   .  nobody that is , except for the top secret organization that not even the government is aware of .  edwards then meets agent kay , the man who never seems to crack a smile , and is introduced to the mib .  edwards winds up joining the team and is stripped of anything that can point back to him ( birth certificate , drivers license , and even the literal removal of his fingerprints ) .  james edwards no longer exists .  meet agent jay .  agent kay takes the rookie jay under his wing as they go about \" regular \" duties .  eventually a far more treacherous event comes into play .  a \" bug \" has landed on earth and is going to wipe out mankind if these two don't ( or can't ) stop it .  the plot isn't exactly clear , but we know it has to do with a galaxy as big as a jewel or marble being sought after on earth , and that is crucial that the mib find it before the \" bug \" does .  barry sonnenfeld , who also did the addams family films , directs this nicely .  it's fun , it's funny , it's action-packed .  a nice summer blockbuster as it rightfully turned out to be .  this is one of those movies that is just \" fun \" and can't really be summed up any nicer or clearer .  will smith and tommy lee jones both do great jobs and both are a blast to watch .  definitely one of the best films of the the summer of '97 , men in black comes highly recommeded from me !  \n"
     ]
    }
   ],
   "source": [
    "# fill in your code...\n",
    "pred_te_tfidf = predict_proba(X_test_tfidf,w_tfidf)\n",
    "# get index by ascend order \n",
    "index = np.argsort(pred_te_tfidf,axis = 0)\n",
    "print('Top10 positive:1-10')\n",
    "for i in range(1,11):\n",
    "    print(X_test_raw[index[-i,0]])"
   ]
  },
  {
   "cell_type": "code",
   "execution_count": 37,
   "metadata": {
    "ExecuteTime": {
     "end_time": "2020-02-15T14:38:22.781128Z",
     "start_time": "2020-02-15T14:38:22.778590Z"
    }
   },
   "outputs": [
    {
     "name": "stdout",
     "output_type": "stream",
     "text": [
      "Top10 negative: 1 - 10\n",
      "note : some may consider portions of the following text to be spoilers .  be forewarned .   \" quick , robin !  the anti-shark repellant ! \"  - adam west in the 1966 batman feature film , casually kicking at a pathetic-looking rubber shark attached to his leg  i had never thought that an entry in the modern incarnation of the batman feature film would approach this level of campiness , but in many instances batman and robin nears , and at some point even exceeds this standard .  this is a disasterously bad film , easily the worst in the series to date , and fairly epitomizes a cinematic definition of the word excessive - it's loud , garish , and obnoxious , with pointless , gratuitous action sequences and set pieces which clutter up the screen with elaborate production design to the point of overkill .  batman and robin features the caped crusaders ( george clooney debuting as batman , with chris o'donnell returing as robin ) squaring off against another bevy of chemically-induced villains - the nefarious ice-cold mr . freeze ( arnold schwarzenegger ) , armed with a weapon which freezes everything in its sights , and the slinky poison ivy ( uma thurman ) , who has the ability to blow powerful love dust into the faces of men in order so that they will fall helplessly in love with her ( not that the dust is really necessary to accomplish this result , but whatever ) , and then dispatch them with a poisoned kiss .  by ivy's side is the giant steroid monster bane ( jeep swanson ) , a grunting hulk of a beast .  the villains' goals are noble ones - freeze steals diamonds to power his climate suit ( in order to keep his body temperature at zero degrees ) , so that he can survive in order to devise a cure for his beloved wife ( vendela ) , dying of a degenerative disease and frozen in suspended animation , and ivy's intent is to restore the dominance of plant life on earth , albeit by destroying all human life .  meanwhile , on the homefront , life at wayne manor is thrown into upheaval by the illness of butler alfred pennyworth ( michael gough ) , and the arrival of his niece barbara ( alicia silverstone ) .  akiva goldsman's screenplay for the film is ridiculous and laughably bad , with astonishingly terrible dialogue , lame jokes , and an awful by-the-number plot which simply coasts along and fails to generate any genuine excitement .  it makes goldsman's screenplay of batman forever , which i thought was dreadful , look positively inspired in comparison .  i am still astonished that a cheesy plot device which i'd seen used in - no joke - an episode of gilligan's island somehow make its way into a multimillion dollar blockbuster production .  joel schumacher's direction of batman and robin is horrific , with a terrible balance of flashiness over substance .  there is a clear conceit towards neon in this film , even moreso than with his previous batman forever , with the revamped batcave helpfully sporting gigantic glowing emblems for the dynamic duo ( just in case , i suppose , if they ever happen to forget that the batcave is the headquarters of batman and robin ) , and with neon prominently figuring in an utterly-pointless fight sequence with bane and a street gang over ivy's chosen new abode .  another action sequence which fails to serve any useful point other than to chew up five minutes of screentime involves an incredibly uninvolving late-night motorcycle race with barbara and some gotham goons .  mr . schumacher's focus for batman and robin appears to be to make the film as visually striking as possible , to the detriment of the story - there are drastic shifts in the tone of the film between all-out camp and heartfelt drama , with the latter completely unconvincing and ineffective .  it is perhaps not the most promising of signs when the group i was with burst out laughing within twenty seconds of the film's opening , even before a single line of dialogue had been uttered .  is batman and robin supposed to be campy ?  i think it is - it's hard to imagine that the filmmakers could have intended many parts of the film to be taken at all seriously .   ( one of my favourites was when bane helpfully grunted \" bomb ! \"  each time he laid down an explosive device in the gotham observatory . )  is it supposed to be as overly campy as it turned out to be ?  i somehow doubt it - the subplot involving afred is delivered so solemnly and with such graveness that the impression is made that the film isn't attempting to be the utter farce which it is .  arnold schwarzenegger is top-billed in the film as the villainous mr . freeze , and is bland and uninteresting , perhaps the worst thing that a villain can be .  mr . schwarzenegger's attempts to be menacing are laughable , and his attempts at conveying pathos are laughable ; frankly , everything he does onscreen is laughable .  by the end of the film , i was stifling a chuckle every time he simply appeared onscreen .  the bulk of his performance consists of uttering near-unintelligble puns and one-liners featuring every possible permutation of \" cool ! \"  in the least inventive way .  george clooney has been given very little to do in batman and robin , being overshadowed by the villains , and consequently he looks rather uncomfortable in the film .  his batman is hardly an imposing figure .  chris o'donnell is unimpressive in a one-note performance , while alicia silverstone lackadasically fails to make any impression at all .  the film's one saving grace ?  undoubtably uma thurman's entertaining performance as sexy villainess poison ivy .  her work in batman and robin is certainly over-the-top , but in a controlled fashion which works splendidly within the tone of the film .  ms . thurman's comic timing is impeccable , and reminds us that it takes skilled performers to make campiness work successfully .   ( i'm already starting to positively reassess jim carrey's performance in batman forever . )  her amusing poison ivy is the most entertaining character in the film , and when she's offscreen the film greatly suffers .  i figure that if one has to die , being kissed to death by uma thurman isn't a half-bad way to go .  while batman and robin was hardly a ride of pulse-pounding excitement , i must admit that i was not bored watching it , although i did glance at my watch repeatedly through the screening - my attention was kept through anticipation of the utterance of yet another terrible pun or one-liner , and by awaiting yet another scene to fall flat .  it's been a long time since i've laughed so much at a movie .   \" at \" , of course , is the operative word .  \n",
      " \" battlefield earth \" is the best comedy of the year .  it has to be .  the other prospect is just too horrifying to consider .  bad movie syndrome struck me again , so after witnessing how much \" battlefield earth \" has been proclaimed a train wreck in both critical and popular circles , i felt the masochistic urge to see the disaster first-hand .  is it as bad as advertised ?  oh yes , very much so .  the plot is incomprehensible .  the acting is atrocious .  the special effects are mediocre .  the action is dull .  the implausibilities are legion .  the dialogue is cringe-inducing .  the whole package is funny when it wants to be serious and irritating when it wants to be funny .  i don't even want to continue reviewing this movie ; i'd like to purge the atrocity from my mind as soon as possible , but you probably want to read my thrashing in all its sarcastic glory , so here it is :  the premise is basically a rip-off of \" planet of the apes , \" only minus the apes and philosophical discussion , and plus a race of evil aliens from the planet psychlo .  the year is 3000 , the psychlos have conquered earth , and the human population has been enslaved .  only a handful of humans escaped to radiation-rich areas to escape the aliens ; they live out their lives in fear .  one man , johnny goodboy ( i know , i know ) tyler ( barry pepper ) , ventures to the outworld and is captured by the psychlos .  there he confronts the psychlo head of security : a big , ugly , klingon-looking creature called terl ( john travolta ) .  pressed into slavery , johnny vows to lead a revolution and take the planet back .  meanwhile , terl is faced with his own problems : he has recently learned that he's stuck living on earth ( which he hates ) for the rest of his career because he pissed off his boss by sleeping with the big man's daughter .  he decides to give johnny knowledge of the psychlo language and technology ( this is where the plot gets ridiculous .   .   . )  so the \" man-animal \" can lead a mining expedition into places the psychlos can't go .  terl then plans to keep the mined gold for himself .  of course , his plan doesn't work .  so many things wrong with this movie -- where to begin ?  how about with travolta , whose hollywood clout brought about this , the cinematic version of scientology guru l . ron hubbard's sci-fi novel ?  early previews for \" battlefield earth , \" with constant shots of a makeup-laden travolta cackling like lex luthor , had me ( and several audience members ) remarking , \" what the hell is travolta thinking ? \"  the movie did nothing to stem such remarks .  all that ridiculous cackling he did in the trailers is in full force here : terl cackles after nearly every line , and so does every other psychlo .  of course , this makes every scene hilariously overwrought , no more so than when the script clumsily stumbles into political commentary .  the psychlos are probably supposed to be some kind of satire of corporate america , but ceos generally don't laugh maniacally after denying pay raises to their employees .   ( \" you were going to be promoted -- but now you're not !  fwahahahahahahahaha ! ! ! ! ! \" )  it's no big surprise terl loses to the humans -- he's an idiot .  he breaks every kind of supervillain rule in the book .  he underestimates his enemies , assuming he'll win just because he's smarter .   ( he uses the word \" leverage \" like some sort of scientologist mantra . )  not content to go the james bond villain route of explaining his plans to the hero , he hooks him up to a machine that gives him knowledge of all the psychlos' language and technology .   ( why this machine is even around in the first place is beyond me . )  he then appears shocked that johnny points a gun at him .  no wonder this guy never got his promotion .  the plot inconsistencies are too numerous to mention .  why do the psychlos build an earth base in which both they and the human slaves must wear little breathing apparatuses to survive ?  how come the psychlos are wasting their time mining for gold when the doors of fort knox are wide open ?  how in the world did all those fighter jets survive sitting in a hangar for 1 , 000 years ?  and how do all these previously brain-dead cavemen learn to fly them so quickly ?  there's a whole lot more to scratch one's head about in \" battlefield earth . \"  bring a scorecard to track the plot holes .  director roger christian shoots \" battlefield earth \" in the most distracting way possible , tilting nearly every shot sideways for no discernible reason .  all the characters appear to be standing on the walls , and it's awfully difficult to watch a movie when you must tilt your head just to watch ordinary passages of dialogue .  the action sequences are atrociously edited , every one turned into an endless slow-motion parade that drains all potential excitement .  are these things really so hard to construct ?  my respect for supposed \" lightweight \" action directors has grown by leaps and bounds after witnessing in \" battlefield earth \" how badly an action sequence can be shot .  this movie is an absolute headache .  it's not just the shot selection and editing ; the movie , quite frankly , makes no sense .  for most of \" battlefield earth's \" running time , i just didn't know what was happening .  it didn't have anything to do with me finding the events stupid or illogical ( though they certainly are ) -- i really had no idea what the hell was going on .  when i pieced the plot together later , it didn't look any better .  here's how much of a disaster this is : \" battlefield earth \" is already the worst movie of the year , and it's going to take something really , really inept to top it .  the only thing we can take comfort in about the film is that no one will be suckered into joining the church of scientology because of it .  in fact , i'd think that hubbard's cult would want to distance themselves from this bomb as fast as possible .  that'll teach me to give into bad movie syndrome again .  \n",
      "synopsis : valerie , a high school junior who doesn't look a day under 22 , writes bad poetry , complains about how much she hates school , fantasizes about a young guy on trial for raping and murdering six women , chooses him as a pen pal , and plays hooky to see him in court .  after a jailbreak , the killer puts on big sunglasses , wears a half-buttoned jacket , and uses his fatal charm to go after valerie .  comments : \" alan smithee \" directed fatal charm , which should have been more appropriately titled \" fatal bore \" or \" fatal crap \" .  if you find out that a film you're about to see is directed by \" alan smithee , \" then you should seriously , seriously , seriously consider watching something , anything , else .   \" alan smithee \" is a pseudonym which a number of directors have used when they produce something really bad .  frankly , i'd be embarrassed if i had directed this turkey , so i think i understand why the director might have picked the \" alan smithee \" moniker for this film .  where to begin with this painfully poor thriller ?  let's start with the acting .  it's pretty bad .  amanda peterson plays valerie and shows at least some talent ( the rest of the cast don't ) , even though her performance isn't exactly stellar material .  she's also miscast ; she seems way too old to still have a year of high school to complete .  her scenes with valerie's mother , played by mary frann , are a joke .  the two look as though they're a couple of coworkers going out to lunch together , rather than a daughter with her mother who just doesn't understand .  christopher atkins , a handsome enough actor who plays the killer , adam , looks like a clown in the second half of fatal charm .  trying to appear malicious and dangerous , he wears large sunglasses and a half-buttoned jacket .  if disney decided to do a zany comedy caper about the unabomber , atkins would probably be a perfect candidate for the lead , but he doesn't cut it here .  early on in the movie , a number of scenes occurs in a courtroom .  outside of the laughably poor performances given by the actors portraying lawyers , the people sitting in the benches provide the silliest effort at drama in the film .  they constantly shift and turn and arc their heads in mock interest in what has got to be one of the worst perfomances that a large group of people have given at one time ever .  fatal charm's storyline , such as it is , inspires more yawns than thrills .  the script belabors a red herring , early on , about a second suspect who may have committed the murders for which adam ( atkins ) is charged with .  this suspect , however , turns up strangled and drowned halfway through the film : an obvious plot fault .  even for the idiots who didn't consider the movie's title as valerie and a blond newsreporter commented how innocent and charming the defendant seemed , it becomes quite obvious that adam is dangerous when the other suspect washes up .  so , the audience must wait ( if they haven't already stopped watching ) as the necessary details fall into place and the killer goes after the heroine in the drawn-out finale .  the video box for this dud describes fatal charm as an \" erotic thriller \" .  a thriller it isn't , and neither is it particularly erotic .  i can't imagine , if someone were in the mood for something \" erotic , \" that he'd be happy after watching this fluff .  a few erotic moments occur in the film ; they take place in a van with little lighting and are filmed out of focus ( see , they're supposed to be valerie's fantasies -- how creative ) .  on a personal note , i was disturbed by the ludicrous english literature class shown in this film which valerie had to suffer through .  it's no wonder why she hated high school so much .  as an instructor of english myself , i have a hard time accepting the fact that in a course emphasizing great literature , a teacher would stoop to reading a student's bad poetry ( of course , it's valerie's ) about boyfriends out loud and then embarassing its author in front of class with questions about the poem's inspiration .  i guess the public school system is still setting dubious standards for its students .  fatal charm won't charm anyone , unless there's someone that's charmed by boring , lifeless , insipid , suspenseless thrillers .  if you happen upon this turkey , just keep moving on .  \n",
      "one of the responses those that enjoy \" detroit rock city \" ( probably kiss fans , mostly ) might have upon first glance at the rating i've given the film might be something like : \" oh , that casey's gone and become a jaded critic on us .  just what did he expect out of a dumb teenage rock n' roll movie like this ? \"  i'm wondering the same thing .  i feel like i should have had a grand time with \" detroit rock city . \"  it's the sort of movie i wish i could've had a lot of fun with , but i didn't .  i just didn't .  surely this film isn't trying to win any major awards , so should i have expected an oscar-caliber film ?  no , but i expected something .  a funny joke .  a clever prank .  a plot development .  anything .  the movie never delivers .  you've got to marvel at how the filmmakers managed to come up with a movie that is truly about nothing .   \" detroit rock city \" is one of those films that you walk out of after the credits have rolled and realize that you just spent 90 minutes watching a movie in which absolutely nothing happened to justify the film's existence , and it's not a very satisfying realization .  the film is about four teenage boys , all huge kiss fans from cleveland , trying to get into a kiss concert in detroit , michigan .  that's it .  there is no big plot description in this review , because the movie has very little plot .  the characters are hawk ( edward furlong ) , lex ( giuseppe andrews ) , trip ( james debello ) , and jam ( sam huntington ) .  they have a garage band .  they're pathetic , like all garage bands , but they like kiss and they like rock n' roll , so i guess that means we root for them .  they have tickets , they lose them .  they get more tickets , they lose those too .  they come up with crazy schemes to get tickets , most of which backfire .  there's not much more to it .  frankly , it becomes a little less than exciting to see them try to get kiss tickets about halfway through the film , when a total of eight tickets have already graced the boys' hands , only to be lost because of their sheer stupidity .  oh , and jam ( real name jeremiah ) has a really , really annoying ultra-religious mother who ought to be reported to the child welfare agency .  she doesn't want them to see kiss , if you hadn't figured that out already .  it's really quite disheartening to see such a fine soundtrack go to waste in a pointless movie like this .  we've got plenty of kiss , along with some ac/dc , ramones , and thin lizzy .  then again , \" maximum overdrive \" had an awesome soundtrack ( me being the big ac/dc fan that i am ) , but is probably one of the worst movies of all time .   \" detroit rock city \" doesn't quite reach that level of ineptitude , but it gets dangerously close .  in fact , the music is the only thing that keeps this movie from being a complete failure in my mind .  basically , the soundtrack has earned the film a full half-star , which means all the bands involved can pat themselves on the back ( except for marilyn manson , whose half-hearted cover of ac/dc's \" highway to hell \" sounds like something my neighbor's cat coughed up ) .  it's also really sad to see the talents of the cast go to waste , because it' s evident that they're all trying really hard to squeeze some life out of this dead turkey of a movie .  edward furlong has done far better work than this , and so has natasha lyonne , and so has lin shaye , but hey , they've got to make a living in hollywood .  people wanting to see kiss , and lots of it will probably be disappointed , considering the band appears for about five minutes and plays one song .  too bad , they might have provided some energy to this mess .  director adam rifkin knows he hasn't got much material to work with , so he takes a chapter from the michael bay book of directing and keeps his camera spinning .  we get an endless parade of quick-cuts , split-screens , zoom-outs , zoom-ins , and rotating cameras , all in an effort to cover up the sheer stupidity of the script .  it's fun for a while , but eventually it becomes disorienting .  i would recommend that those who felt seasick at \" the blair witch project \" stay far away from \" detroit rock city , \" because the witch has got nothing on this baby .  i haven't felt such an urge to reach out and hold the camera still since \" armageddon . \"  and what about that script ?  it's written by carl j . dupr ? , which sounds like as made-up a name as i've ever heard .  if it is , i can't say i blame the writer for distancing himself as far from this script as possible .  a plotless , pointless rock n' roll movie can be fun , if the jokes and gags are actually funny .  the jokes in \" detroit rock city \" rarely are .  in fact , the only time i really laughed was when a priest gets stoned on a marijuana-laced pizza , and that was just because it was so surreal .  the rest of the movie just seems like they just threw a bunch of vulgar stuff up on screen and called it \" comedy . \"  there is no set-up , just a succession of punchlines that don't provide for much in the way of chuckles , precisely because there was no set-up .  it's as if they just whacked someone on the head , pointed at him and said , \" see ?  funny ! \"  look , that woman was so shocked by hearing loud kiss music that she spilled her drink .  see ?  funny !  look , that guy just got clocked by a telephone receiver .  twice .  see ?  funny !  look , that kid has been vomiting for 20 minutes after drinking an inordinate amount of alcohol and is now about to perform an exotic dance for money .  see ?  funny !  a word of advice to mr . dupr ? : no , these things aren't funny all by themselves .  they must be preceded by a clever set-up so the audience hasn 't predicted them five minutes in advance .  that's it , i've said enough about this movie .  it's a waste of time and money .  i liked the music , but don't bother buying the soundtrack .  i hear it' s just modern bands doing inferior versions of the songs that are actually in the movie .  you want to see this concept executed well ?  go rent roger corman's 1979 classic \" rock n' roll high school . \"  it features another late-seventies rock band ( the ramones ) and a far more interesting story about a girl trying to get tickets to their show .  yes , go rent that , and skip \" detroit rock city , \" which will probably bomb , and deservedly so .  \n",
      "godzilla is the ultimate culmination of the \" who cares about plot \" summer movie .  a loose remake of the 1954 \" classic \" japanese monster movie , godzilla , king of the monsters ( which is itself pretty thin in the story department ) , roland emmerich and dean devlin's big-budget lizard-stomps-manhattan disaster flick has been written with the brain dead in mind .  the script isn't just \" dumbed down , \" it's lobotomized .  godzilla lives and dies on special effects alone .  presumably , the primary target group for this film is teenage boys , the demographic most likely to shell out $7 repeatedly to see the same images of monster-instigated carnage .  that's not to say that females and other age groups are immune to the special effects seduction ; they're just not as readily susceptible .  this is the third straight movie in a row where emmerich and devlin have demonstrated that a mastery of computer-generated visuals is far more important for making money than the ability to write and direct for actors .  stargate was a financial success .  independence day was a runaway hit .  and , with godzilla already drowning in hype and merchandising tie-ins before it even opens , it's virtually guaranteed at least $100 million .  nice numbers for a film that could have been penned by a not-too-precocious grade school kid .  godzilla isn't completely without merit , although it is close .  there's a certain visceral thrill inherent in watching the giant lizard rip his way through manhattan , but it wears off quickly .  frankly , while the special effects are competent , they're not all that stunning .  there's nothing new here ; it's jurassic park meets aliens , with a little independence day thrown in for bad measure .  maybe it will require george lucas and his new star wars movie to take computer-generated visuals to the next level .  godzilla never really pushes the envelope , preferring to remain within a comfort zone .  the imagination of monster movies like king kong has been replaced by a crass , formulaic approach which disallows creativity .   ( how disturbing is it to know that godzilla has been chosen to close the 51st cannes film festival ? )  worst of all , godzilla isn't even exciting .  with the possible exception of a mildly enjoyable car chase near the end , there isn't a sequence in this film that raises the pulse .  even the scenes with dozens of aircraft attacking the monster are so devoid of tension and suspense that they are yawn-provoking .  independence day may have been dumb , but it was full of \" adrenaline moments \" capable of getting the audience involved in the action .  in this aspect of its production , as in so many others , godzilla is lacking .  actually , part of the problem is that we're never sure who we're supposed to be rooting for : the green monster with an attitude or the paper-thin humans trying to stop him .  the plot , such as it is , can be summed up rather simply .  after sinking a few ships and leaving some footprints on tropical islands , godzilla shows up in the big apple .  he does some of the usual tourist things : stops by madison square garden , visits the chrysler building , goes on a walk through central park , and takes the subway .  in the process , he knocks over a few buildings and steps on countless cabs , but he never has trouble with traffic jams .  on hand to stop him is an elite u . s . army unit , led by a slightly less-arrogant-than-usual military man ( kevin dunn ) and a biologist named nick tatopoulos , who has a theory about godzilla .  in his opinion , the big guy is actually a lizard grown to enormous proportions as a result of the radiation given off by french atomic bomb tests in the south pacific .  in nick's words , godzilla is \" a mutated aberration ? an incipient creature ? the first of its kind . \"  as luck would have it , nick's old girlfriend , audrey ( maria pitillo ) , is a reporter based at a new york tv station .  along with her cameraman friend , animal ( hank azaria ) , she decides to follow nick around as he trails godzilla .  then , just when the military has rejected nick's theory about why godzilla is in new york , a member of the french secret service ( jean reno ) recruits him for a special assignment .  instead of stomping around tokyo this time , godzilla has chosen new york city .  unfortunately , manhattan has been destroyed so many times in recent disaster movies ( independence day , deep impact , armageddon ) that it's becoming boring .  the whole tradition of monsters roaming around the city started with king kong , but the big ape was only about 30 feet tall .  he could climb the empire state building .  at ten times that height , godzilla would be more likely to knock it over .  godzilla contains a few lame attempts at humor .  there's an ongoing feud between animal and his wife that plays like sit-com material , an unfunny and repetitive gag about how no one can pronounce nick's last name properly , and a rather tame attack on film critics roger ebert and gene siskel .  both of the popular personalities have alter egos in the film : \" ebert , \" the mayor of new york , is played by michael lerner , and \" gene \" ( lorry goldman ) is his campaign manager .  ebert's re-election slogan is , not surprisingly , \" thumbs up for new york . \"  the siskel/ebert stuff is amusing the first time it's used , but , after a while , it grows tiresome .  and , although the \" characters \" don't serve any real purpose , they keep popping up .  godzilla is saddled with an unimpressive cast .  this is largely because emmerich doesn't want to risk a human performance upstaging his lizard .  that's not to say that matthew broderick and jean reno aren't capable of good performances ( both have done their share of solid acting in the past ) , but they aren't a-list names .  then again , considering the quality of the writing , even pacino and deniro would have been hard- pressed to shine .  maria pitillo ( dear god ) plays the love interest and hank azaria ( great expectations ) is on hand to present what is supposed to be comic relief .  ultimately , it doesn't really matter what i ( or any other critic , for that matter ) have to say about the movie .  tristar has assumed that godzilla , like all self-proclaimed summer event motion pictures , is pretty much critic-proof .  it may also be word-of-mouth-proof .  those who want to see the movie will see it no matter what i write or their friends say .  so , when i go on record to assert that godzilla is one of the most idiotic blockbuster movies of all time , it's like spitting into the wind .  emmerich and devlin are master illusionists , waving their wands and mesmerizing audiences with their smoke and mirrors .  it's probably too much to hope that some day , movie-goers will wake up and realize that they've been had .  \n",
      "let me open this one with a confession : i love cop movies .  i adore them with such an unwavering , near foolish passion that i was actually one of the first in line to see 1998's one tough cop starring the smirkiest of the baldwin brothers , steven .  was it any good ?  well , just about as good as baldwin's steven seagal impression ( for those i've confused the answer is a resounding no ! ) .  now let me clarify , i don't love just any cop movie ; i'm not too keen on the smug buddy cop flicks that were so in vogue in the 80's and now slowly ( gulp ) returning thanks to jackie chan and chris tucker .  i'm partial to those gritty , earthy cop dramas like serpico , donnie brasco , and the french connection .  problem is these films come along just about as often as george w . bush makes a cogent point so whenever a \" true \" cop movie does hit multiplexes , i come running towards it like an eager puppy ? ? ? and inevitably i leave , head bowed , tripping over my squiggly tail .  so what is it about cop movies that transform me into a moron willing to shell out $7 . 50 for a movie called one tough cop ( which actually sounds a lot like a wiseguy spin-off , no ? ) ?  truth is i'm a sucker for those barren streets , that gritty , graffiti strewn modernist jungle where dangerous criminals lurk and cops , like modern day knights , must shield us from their iniquitous clutches .  yes it's all very corny and awfully boys clubish , which , i'm guessing , is precisely where these feelings come from .  as little tots us boys are brought up to create our own wars with gi joe's , enact cops and robbers or cowboy and indian fantasies , etc . the best gritty cop films tap into those gleeful adolescent fantasies , and heighten them , turning it all into an existential nightmare of thin moral lines and psychological chaos .  as an adult my tastes haven't changed all that drastically ; sure i can get a cerebral high from the emotional complexities of a krzysztof kieslowski film , but i still delight at the promise a \" guy \" film could potentially bring .  now what if it's the cops who're the corrupt ones ?  ooh that one really gets me going , these protectors using all that at their service , taking advantage of others for their own gain .  throw a courtroom drama ( yech ! )  into the pot and you have the tremendously absorbing sidney lumet film prince of the city .  how absorbing is prince of the city , you ask ?  so damn absorbing that when the film shifts from gritty undercover cop drama to courtroom drama ( a sub-genre i loath the way kristy swanson must loath sarah michelle gellar ) i remained completely and utterly involved .  the film stars treat williams , who gives the kind of performance that should have skyrocketed his career up to the level that brad pitt currently resides at .  since i was hatched a mere two years prior to the release of prince of the city , i cannot provide an answer as to why it didn't .   ( though judging from his recent roles in tripe like deep rising and dead heat i would guess that it probably has something to do with quite a few bad career moves ) .  like mickey rourke and eric roberts ( both of whom are currently doing time in direct to video purgatory ) williams is a talented leading man who didn't make it to where he should have .   ( if there was any justice in this dog gone world keanu reeves would be the one banished to direct to video hell ) .  here , the actor is given a role not all that dissimilar from al pacino's in serpico ( also directed by lumet ) .  williams plays danny ciello , a member of an elite squad of police officers who take down drug dealers on the gritty pre-juliani streets of new york .  they work without uniforms or hours much like paid vigilantes .  and that analogy is more than apt seeing as how the bunch are kinda sorta forced into using corrupt means to get the job done .  the squad relies entirely on informants ( low level junkies ) to gain access to the big wigs , and in order to obtain the info they seek , they sometimes have to provide the junkies with the junk of their choice .  danny has done this , and though he's a fairly honorable guy , who took the job in order to do good , his intentions have gotten a bit skewed along the way .  he seeks redemption and concludes that the best way to go about getting it is by talking to internal affairs who then convince him to go undercover as a \" double agent \" .  he does so with one condition : he will not rat on his partners .  right away we know that that is exactly what he'll have to do .  and watching the movie build to that is thrilling in the way that any great character driven story can be .  undercover cop films are almost innately exciting , even the kind that pull out all the cliches ( like in too deep ) .  how can one not be moved by the issues of betrayal , ambiguity , and the danger in putting oneself in such a risky position ?  prince of the city takes all this and charges it with a perceptive , hard boiled script and taut unintrusive direction by old pro sidney lumet , as well as a handful of intense performances , most notably by treat .  lumet's greatest contribution to the movie is how he lays back , and lets the camera soak up the action .  his scenes transition rapidly from one to the next building layers of tension , and he rarely holds for reaction shots , instead he clicks away at precisely the moment a character stops yakking .  lumet's worst tendency is one that many film makers ( especially oliver stone ) tend to overuse : he relies a little too heavily on actors shouting their lines at each other presumably in order to ratchet up the tension .  this isn't as much a problem here as it was in night falls on manhattan , lumet's most recent cop \\ lawyer endeavor , a movie that nearly gave me an ulcer from just watching .  though of late lumet has made several really awful career choices ( maybe he and treat should get together for a drink or something ) , the most recent a completely unnecessary remake of gloria , here he was on , sustaining tension in a film that runs for 167 minutes with not one dull spot .  some of the formula pictures i like the best are the most simplistic .  hollywood often forgets how easy it is to make these kinds of pictures even tolerable .  of course cop movies aren't popular anymore ( yes buddy cop flicks are popular but those are more like extended sitcoms with gunfire amid the punch lines ) , but just look at the average hollywood action movies , flicks so bloated and full of unnecessary fat like the boring love interest that serves no purpose other than to stall the action and demonstrate that our hero isn't gay , the lame comic relief character who's never funny , and on and on .  for all its moral ambiguities prince of the city is a back to the basics cop \\ courtroom drama that leaves out all the crap and really thrills .  it focuses completely on its story , and its characters all of whom are completely believable from the cops to the lawyers to the junkies .  there's a great scene early on where an irate williams shouts at an ia officer and looks as if he's about to go into one of those corny braveheart inspirational speeches , but instead he breaks down in front of the cop and begins sobbing .  this is a scene that would never make it into a michael bay film ( even though bruce willis sacrifices his life at the end of armageddon , not one damn tear ) it would be cut out because the director would say oh that makes him too human , excuse me , weak .  in the very next scene danny speaks in a hushed raspiness , straining to get the words out .  he's lost his voice .  does that little itty bitty detail matter ?  maybe not to most , but it sure made my night .  and in a sprawling epic of corruption , greed , betrayal and violence it's nice to see that someone is paying attention to the little things .  \n",
      "over 40 years ago , a japanese production company called toho introduced the land of the rising sun to gojira , a reptilian creature of immense proportions created by mankind's nuclear testing .  partly flight of fancy , partly commentary on the exploitation of atomic power and weaponry , gojira emerged from the ocean to terrorize tokyo .  a year later , gojira was marketed to the united states by adding three things : a new name , a dubbed english track , and raymond burr .  as godzilla , the film took on the rest of the world .  thirty years later , toho remade the classic film and once again took it to the american market by adding the same three things ( yes , including raymond burr ) and called it godzilla 1985 .  now it's 14 years after toho's remake , and director roland emmerich has allowed the giant lizard to make an american first run .  in emmerich's godzilla , matthew broderick plays dr . niko tatopoulos , a biologist who is called in to join other scientists in the south pacific already studying the existence of a radiation-induced super mutant which leaves footprints the size of livingrooms .  when the mutant reptile suddenly appears out of the hudson river , tatopoulos and the rest of the team relocate themselves back to the states .  meanwhile , tatopoulos's college girlfriend , audrey timmonds ( maria pitillo ) , works in new york city as an assistant to a big-time news reporter .  she'd like to be a reporter herself , and when godzilla comes ashore , she figures this is her big break .  of course , with the big guy running amok in the city , niko and audrey are bound to cross paths , and are joined by victor \" animal \" palotti ( hank azaria ) , audrey's trusty cameraman friend , and phillipe roche ( jean reno ) , an operative for the french government , whose nuclear testing started the whole problem in the first place .  together they attempt to find and destroy the surprisingly elusive godzilla .  with the resources of the most cutting edge special effects houses and the clout of one of the nation's premiere movie production companies , one would think emmerich could make a film truly deserving of the name godzilla .  he didn't .  right up there with the lost world , godzilla is one of the biggest disappointments in recent cinematic history .  the plot is pretty much what we expect : the big dinosaur-like creature comes out of the water and starts smashing new york city , and it's up to our heroes to figure out why this thing is on its rampage and how it can be stopped , while the military makes futile attempts to bring the creature down .  the script , however , is painfully bad .  it's fraught with lines so corny , they don't even belong in b-movies , and includes many character actions which make you think , \" you idiot , \" or \" you stupid girl . \"  i suppose when you've got a movie with a giant lizard loose in new york , any other semblance of reality goes out the window as well .  why is it that godzilla topples some buildings by merely brushing against them , but is conveniently able to leap atop others ?  why do helicopters have to follow godzilla by flying dangerously between buildings where they can lose sight of him , when they could more easily keep track of him by flying a little higher and in a straight line ?  why do sidewinder missiles , which have small explosive warheads , blow up entire buildings when they miss godzilla ?  why is a mission to bomb madison square garden carried out by three f-18 fighter-bombers , when flights of such aircraft are always comprised of multiples of two ?  okay , maybe the last one was a bit nit-picky , but hey , i was on a roll .  broderick is usually a good actor , but in this film he's weighed down by an unexciting character and an atrocious screenplay which seem to fight against him every step of the way .  hank azaria does what he can , but don't expect to see development of any of the promise he showed in the birdcage .  like broderick's , azaria's character is quite simply lacking in color .  what really annoyed me was maria pitillo , who actually takes the bad script and makes it worse with her acting .  casting must have been asleep on this one .  the one bright spot here is jean reno , who oddly enough seems to fit well into a role which is often comedic , quite unlike what we've seem him do in the past .  although his character is contradictory to the unfolding disaster , reno brings a style to the role of phillipe which makes him enjoyable .  unfortunately , the same cannot be said of the other incongruities .  the entire feel of the movie is tongue-in-cheek , and seems to pay comical homage to a dozen or so films that have come before it .  this results in a significant amount of parody , which contrasts sharply with the threat of the monster , and ends up just producing a mess .  most of the characters seem to be there for comic relief , and almost none are smart enough for the audience to take seriously .  although emmerich obviously wanted to make a fun action picture , what good is it to sink millions into a cgi creature whose ferocity is undermined by the humans he threatens ?  if we can't take the characters seriously , the threat they face is an empty one because we simply don't care what happens to them .  godzilla simply pulls too many punches in its attempt to be a film more light-hearted than it should be .  far be it from me to want to see more carnage in the theaters , but here's a behemoth running through the city !  there's bound to be a lot of casualties , but instead godzilla is afflicted with the after-school g . i .  joe cartoon syndrome , where almost everyone seems to get out of harm's way just in time .  in a couple of scenes , godzilla briefly breathes fire .  none of the characters even remark upon this ability , nor is it used to any particular advantage by the filmmakers .  it's as if the special effects people just wanted to show that yes , godzilla can do this , just like in the old movie .  consider another punch pulled .  through creative script writing , you can make a sequel out of just about any movie , but the final scene in this one doesn't just leave the door open , it opens into a hallway leading directly into a room where godzilla ii is waiting patiently .  it made me want to gag .  emmerich should have done away with 90% of the humor and in-jokes and played this one as a straight action film .  with an intelligently written screenplay , godzilla could have been so much more .  however , by confusing the viewer with a ton of add-ins and parodies , the movie ends up being something that just doesn't work .  now if they only had raymond burr . . . .  \n",
      "i have a great idea for a movie , one that can't miss .  see , i've got coolio to do a song for the soundtrack , and about fifty athletes and celebrities to do cameo appearances .  it's about professional basketball , so i'll release it right around the nba finals to guarantee added publicity .  as for what the movie is actually about . . . well , that will all sort itself out eventually .  i figure it will be a comedy , so i'll throw a half-dozen writers at it and take the best of whatever they come up with .  maybe we'll put a gender spin on it , see if we can get some women out to see it , too .  eddie is one of those phenomenally lazy films that infuriates me more than any other kind .  twister , as inane as the script might have been , at least required some creative technicians ; mission : impossible , overwrought plot and all , at least involved genuine effort .  eddie just sits there , hawking up a formula story without any laughs , and makes every possible bad decision when a decision is required .  whoopi goldberg plays eddie franklin , a new york limo driver and die-hard knicks fan who is suffering through a dismal season for her beloved team .  coach john bailey ( dennis farina ) has lost control of his overpaid prima donnas , and the losses are beginning to mount .  the dwindling attendance inspires new team owner wild bill burgess ( frank langella ) to try a publicity stunt in which a lucky fan will get to be an honorary coach of the team .  the winner ( surprise , surprise ) is eddie , who becomes a fan favorite , and eventually the actual coach .  the knicks continue to lose , but eddie has some sassy tricks up her sleeve to inspire her troops .  incidentally , the knicks eventually start winning .  please raise your hand if that comes as a shock , and i will invite you to my all-night marathon of the bad news bears , major league , angels in the outfield , the mighty ducks , the big green , cool runnings and little giants .  awful teams in sports comedies make miraculous turnarounds ; it's what they do .  those teams usually involve kids , for a very sound comedic reason : it's funnier when they screw up , and they're more sympathetic .  those which _don't_ involve kids usually have actual actors in the lead roles , for another very sound comedic reason : they generally have developed some sort of comic timing .  eddie was cast under the misguided premise that it's easier to make basketball players look like actors than it is to make actors look like basketball players .  this finds nba players like greg ostertag , dwayne schintzius , rick fox and malik sealy delivering punch lines as though they were reading them for the first time off a bazooka wrapper ( though sacramento kings center olden polynice has a nice moment describing a black hole to fellow players ) .  perhaps that all didn't matter to anyone because there are so few punch lines , and because the whole film is one big casting gimmick .  steve rash directs the spiritless script as though waving a flag of surrender and screaming , \" don't blame me , i just work here . \"  perhaps it was patently obvious to him that eddie isn't a movie -- it's a cameo appearance that trips over a plot every once in a while .  among the notables who lend their faces to this travesty are donald trump , new york mayor rudolph giulianni , former new york mayor ed koch , david letterman , letterman regulars mujibur rahman and sirajul islam , espn broadcaster chris berman and knicks announcer marv albert , as well as dozens of nba players and several nba arenas .  and those are the real jokes in eddie .  nothing these individuals say or do is funny ; you are supposed to be laughing simply because you notice , \" hey , it's donald trump ! \"  or \" hey , it's mujibur and sirajul ! \"  it's difficult to decide whether eddie is so bad because it was so shamelessly lacking in imagination or because it can't even get the cliches in a cliche-ridden genre script right .  the knicks coach who is eddie's antagonist early in the film reappears at the end , but he isn't given a chance to be the villain eddie desperately needs .  neither is frank langella , and none of the athlete-actors have the ability to give whoopi goldberg anything to play off of .  that leaves her to do her street-wise miss thang routine , but with no character , no sharp lines and no help .  eddie isn't just a bad movie with a formulaic premise .  it's a movie that makes you feel cheated and offended , because someone came up with a poster and a marketing plan to which they had to attach an actual movie , and you had the nerve to believe it was going to be a comedy .  \n",
      "reindeer games is easily the worst of the three recent films penned by ehren kruger ( scream 3 and arlington rd are the others , each derivative in their own special way ) .  the guy can't seem to write believable dialogue ( sample from reindeer games : \" rule #1 : never put a car thief behind the wheel \" ) , create multi-faceted characters , or even engineer coherent plots but he sure knows how to pile on numerous nonsensical twists and turns ( no matter if each one deems the actual story increasingly unlikely ) .  his screenplay for reindeer games turns the tables on the audience so many times that watching the film becomes something of a punishment with no reward anywhere in sight .  i can just envision kruger laughing behind his keyboard , \" oh you thought my movie was gonna go here , f * ck you jack ass , take that twist , decipher this mother f * cker ! \"  it's almost as if the writer were angry at us for shelling out money to see his stupid movie .  and why the hell would anyone want to invest time in a movie when the screenwriter keeps changing his own rules for no reason other than to congratulate himself on how damn clever he is ?  auteur theory be damned ; it's kruger's \" style \" , not the director's that winds up on screen .  kruger has obviously never paid much mind to the old chestnut \" sometimes less is more \" .  and his numerous twists can't even claim to be originals ; arlington rd's ending is a direct steal from the much better alan j . pakula thriller the parallax view , and in reindeer games we get this ol' gem ; character incriminates themself by saying something they shouldn't know ( pronouns used to protect the gender of the \" character \" . . . grammar  be damned ) .   \" how did you know that ? \"  the stunned protagonist asks , suddenly realizing that the character was in on the whole thing all along .   .   .  since twist endings are currently so in vogue , and seeing as how kruger's screenplays usually come equipped with about three twists per ending , i guess it's no wonder why he works so frequently .  he's quickly becoming miramax's mickey mouse ; the company has already signed him to work on several of their upcoming projects .  this is appropriate considering that miramax ( which used to place their label on some of the most artistically daring films ) has quickly become a grindhouse for coddling foreign imports ( life is beautiful ) and freddie prinze jr . vehicles .  their company's current logo could be \" we ride the trends \" .  reindeer games stars ben affleck as rudy , a supposedly hardened criminal spending his days and nights behind bars with fantasies of pecan pies dancing atop his head .  although affleck is given some barbed wire tattoos to insinuate bad assness , he plays the role like steve guttenberg preciously mugging through a police academy flick .  affleck is such a puppy dog that it's impossible to believe he could survive in a harsh prison environment without becoming nearly everyone's bitch .  the role itself is so badly written ( the character only grows balls when the plot calls for it ) , the twists so outrageous , and the directing so self consciously gritty that this is about as close to self parody as i can recall a recent \" serious \" movie getting .  it may have been wiser had the film makers simply went all the way in that direction , casting jerry seinfeld as the hardened criminal and howard stern as the sniveling bad guy ( who's played here by gary sinise in yet another over the top villain performance )  james frain is nick , rudy's cellmate , a manslaughterer who's found a pen pal in the gorgeous ashley mason ( charlize theron ) .  ashley is a prison groupie who sends nick many cheesecake photos of her though she's never seen one picture of him .  which works out fine since the character is killed in a near-riot , and rudy ( who was to be paroled on the same day as nick ) takes his place , which leads to a sudden and very frenzied sex scene between ashley and rudy ( so frenzied it kinda looks like rape ) and a surprise visit from ashley's brother , gabriel ( gary sinise ) , who waltzes into their shabby hotel room flanked by his thuggish co-horts .  he plans to rob an indian casino on christmas eve with the assistance of rudy who he thinks is nick who , according to what he wrote in the letters to ashley , used to work as a guard in the indian casino .  though by the end , the film pulls the rug out from under us so frequently that everything i've described might as well be irrelevant .  this is what you can expect should you chose to take this reindeer on ; several scenes in which , after catching his prey , the bad guy proceeds to stall interminably until the good guy has a chance to kill his captor and crack a stupid one-liner .  included : two ( 2 ) scenes of two ( 2 ) different bad guys explaining their motives to the hero when they should be killing him ( one following the other no less ) .  though it's an action film , the ending is more a talkfest where we get the whole movie explained to us by one flustered character actor after another while affleck looks on , incredulous as the audience .  the flick was directed by john frankenheimer , a straightforward action director who lucked into the manchurian candidate early in his career , fell off the a-list following a string of flops and now , in his old age , is slowly climbing his way back up .  it would be a success story if he were choosing better scripts but his last major film was ronin ( one of those almost but not quite movies ) which followed the island of dr . morneau   ( you remember , the one with marlon brando in mime make-up and a not so flattering moo-moo ) , and now this .  he films action sequences with a minimum of quick cutting which i like considering that nowadays action scenes are commonly comprised of millisecond flash cuts strung together and laid out for a brain-zapped mtv audience to pick apart .  problem is these action scenes ( nearly all failed escapes ) serve no purpose in the story other than to further pad out the running time and to remind the audience that their watching an action movie rather than a filmed radio play .  character problems abound ; rudy is made to shift between sweet boy next door earnestness and hard edged wiseacre , the latter of which is not ( at least at this point ) something ben affleck is capable of pulling off .  the former he can do with ease and often the actor coasts on his lackadaisical charm while those around him growl and swear .  but then suddenly affleck starts growling and swearing alongside them like the class clown imitating a tarantino gangster .  charlize theron , an extraordinary talent , is , like affleck , playing whatever part the script requires her to play , whether it be vulnerability at one moment , anger at the next .  she never has a chance to evince any charm or make much of an impression beyond her obvious physical attributes ( frankenheimer has her needlessly pop her top to further italicize this .  gary sinise has played this role frequently , and here , as in snake eyes , he does the snarling bad guy thing with such over the top vitriol ( the guy must be so incredibly bored of stomping through the same paces that going out of control is the only thing that keeps him interested any more ) , that it becomes more of an annoyance ( oh there he goes again ? ? ? ) than a threat .  these are talented people who made the mistake of jumping on to a script with little but stock characters and a bag of tricks that it dully springs on its audience .  \n",
      "movie reviewers have an obligation to see the good , the bad , and the despicable .  i originally wrote this review for my college newspaper back in '95 , but i wanted to re-write it because not all retro reviews should be about the classics .  we need to be warned about some truly awful films , too .  this picture was so bad , it inspired the description for my 1/10 rating ( see ratings chart below ) .  the only thing saving it from a 0/10 rating is that being able to rent a movie like this is slightly less embarassing than renting a porno .  so , it does indeed have some plusses . . .  in fairness , elizabeth berkley is certainly worth seeing in the buff .  and her ability to whine and irritate us , even while nude , was appropriate in her role as selfish temptress nomi malone .  this character is not smart , not interesting , and ( deliberately ? )  far too annoying far too often .  like in 1998s \" bulworth \" , when the movie was over i didn't care one little iota about the main character .  at least warren beatty tried to make a statement with his dreary and overrated film , though .   \" showgirls \" is too stupid to make a statement .  some people claim that the story is based on the legendary \" all about eve \" of all things !  if exploitation expert joe eszterhas was half the screenwriter that joseph l . mankiewicz was , he'd be . . . well ,  he'd be a good screenwriter .  instead , this project may have sunk his career .  he wrote the ( ha ha ! )  script and the usually reliable paul verhoeven directed .  the same team who created a good sex-film in 1992 ( \" basic instinct \" ) struck out here with their occasional violence , gratuitous x-rated sex scenes , and numerous ( and quite unnecessary ) lesbian overtones .  the predictable storyline revolves around nomi streaking into las vegas to make it big as a dancer .  after the supposed street-smart young \" lady \" gets conned out of her suitcase by a slack-jawed yokel in the opening sequence , she befriends a tailor of the glamorous stage production at the \" stardust hotel \" .  nomi doesn't take advantage of this contact to break into the big-time of dirty dancing right away .  first , she becomes a lap dancer at a scummy strip club .  she sells her hot little wares at \" the cheetah \" for a short time , turning on the fictitious customers and the actual theatre audience .  hey , i never said she wasn't a hot number . . .  maybe it's that , her body , which gets her into the big-time when the star of the \" stardust hotel \" , crystal connors ( gina gershon ) stops into the strip club ( it certainly isn't her brains or pleasant disposition ! ) .  crystal requests a private lap dance for her boyfriend ( kyle maclachlan ) .  he also happens to be the pleasure-seeking worm who runs the big show .  crystal gets nomi onto the \" stardust \" team and , after an interminable amount of time , nomi \" earns \" the role of crystal's understudy .  the slut then deliberately injures and hospitalizes crystal .  it was almost laughable that nomi had the guts to claim that she's \" not a whore \" .  that's a phrase we hear a few different times and it's completely ludicrous .  of course she is !  she sells her soul to make it big , but in the end we're supposed to believe that she's a better person than that .  we're supposed to root for her .  no way !  she's a tramp and a back-stabber who deserved nothing--least of all vindication in the . . . ahem . . . climax .  she is not a good person and they take over two hours to explain that the audience should think that she is .  the sub-plot with a male dancer ( glenn plummer ) who claims to see talent in nomi is just a gratuitous opportunity to let her dance naked a little bit more .  it sure ain't character development !  plummer also appeared in \" speed \" in '94 in a smaller , yet better role .  this sub-plot goes absolutely nowhere except maybe to deliver an unsubtle hint that fornicators should practice birth control .  kyle maclachlan must have been promised a big pay-day or his standards have dipped since appearing in \" blue velvet \" .  that picture was weird , but some critics claim it's one of the best movies of the '80s .  now ol' kyle can say that he acted in one of the worst of the '90s , too .  his sleazy character is important to \" showgirls \" , but we don't learn anything about him .  he uses people to get what he wants , but that only means that he fits in well with the other characters in this movie .  is he a villain ?  who cares !  ultimately , this movie is as tiresome as it is explicit .  everyone must know by now about the soft-core acts of copulation , especially the riotous romp between berkley and maclachlan in his pool .  what few reviewers take issue with is how mean-spirited this movie is .  everyone's either having sex , exacting revenge , or wishing they were having sex or exacting revenge .  it's just too hard to take ( especially for over two hours ) .  if we must be exposed to the evils of the vegas world , why couldn't verhoeven have also made a point of highlighting the whispers , grunts , and other sounds during the dance numbers ?  it's hard to care about these people if we can't even appreciate what they're capable of doing on-stage .  berkley may have a future in hollywood because she can dance and she has a great body .  after all , the world of porn is still an active , dishonourable profession .  perhaps berkley could join their ranks and leave the real acting to pauly shore and cindy crawford .  oops , they're bad actors , too .  well , at least , they're not selfish and contemptable like good ol' slutty nomi malone .  useless trivia--ironically , elizabeth berkley played virtuous and \" holier than thou \" jessie on the teeny-bopper tv show , \" saved by the bell \" , before breaking onto the big screen .  \n"
     ]
    }
   ],
   "source": [
    "# fill in your code...\n",
    "print('Top10 negative: 1 - 10')\n",
    "for i in range(1,11):\n",
    "    print(X_test_raw[index[i-1,0]])\n"
   ]
  },
  {
   "cell_type": "markdown",
   "metadata": {},
   "source": [
    "### Discuss how did you choose model hyperparameters (e.g. learning rate and regularisation strength)? What is the relation between training epochs and learning rate? How the regularisation strength affects performance?"
   ]
  },
  {
   "cell_type": "markdown",
   "metadata": {},
   "source": [
    "Enter your answer here...\n",
    "Hyperparameter is usually selected very carefully, such as the learning rate, if the learning rate is too large, then the number of epochs will be reduced, which will lead to underfit, and if the learning rate is too small, then the model running time will increase significantly, the number of times Will increase, and easily lead to overfitting. And regularisation strength can prevent overfitting"
   ]
  },
  {
   "cell_type": "markdown",
   "metadata": {},
   "source": [
    "\n",
    "\n",
    "## Full Results\n",
    "\n",
    "Add here your results:\n",
    "\n",
    "| LR | Precision  | Recall  | F1-Score  |\n",
    "|:-:|:-:|:-:|:-:|\n",
    "| BOW-count  |0.7741935483870968   |0.84    |0.8057553956834531   |\n",
    "| BOW-tfidf  |0.7658536585365854   |0.785   |0.7753086419753088   |\n"
   ]
  },
  {
   "cell_type": "markdown",
   "metadata": {},
   "source": [
    "# Multi-class Logistic Regression \n",
    "\n",
    "Now you need to train a Multiclass Logistic Regression (MLR) Classifier by extending the Binary model you developed above. You will use the MLR model to perform topic classification on the AG news dataset consisting of three classes:"
   ]
  },
  {
   "cell_type": "markdown",
   "metadata": {},
   "source": [
    "- Class 1: World\n",
    "- Class 2: Sports\n",
    "- Class 3: Business"
   ]
  },
  {
   "cell_type": "markdown",
   "metadata": {},
   "source": [
    "You need to follow the same process as in Task 1 for data processing and feature extraction by reusing the functions you wrote."
   ]
  },
  {
   "cell_type": "code",
   "execution_count": 38,
   "metadata": {
    "ExecuteTime": {
     "end_time": "2020-02-15T14:18:03.212229Z",
     "start_time": "2020-02-15T14:18:03.185261Z"
    }
   },
   "outputs": [],
   "source": [
    "# fill in your code...\n",
    "data_tr = pd.read_csv('./data_topic/train.csv', names=[\"class\",\"article\"])\n",
    "data_dev = pd.read_csv('./data_topic/dev.csv',  names=[\"class\",\"article\"])\n",
    "data_te = pd.read_csv('./data_topic/test.csv',  names=[\"class\",\"article\"])"
   ]
  },
  {
   "cell_type": "code",
   "execution_count": 39,
   "metadata": {
    "ExecuteTime": {
     "end_time": "2020-02-15T14:18:03.515585Z",
     "start_time": "2020-02-15T14:18:03.508299Z"
    }
   },
   "outputs": [
    {
     "data": {
      "text/html": [
       "<div>\n",
       "<style scoped>\n",
       "    .dataframe tbody tr th:only-of-type {\n",
       "        vertical-align: middle;\n",
       "    }\n",
       "\n",
       "    .dataframe tbody tr th {\n",
       "        vertical-align: top;\n",
       "    }\n",
       "\n",
       "    .dataframe thead th {\n",
       "        text-align: right;\n",
       "    }\n",
       "</style>\n",
       "<table border=\"1\" class=\"dataframe\">\n",
       "  <thead>\n",
       "    <tr style=\"text-align: right;\">\n",
       "      <th></th>\n",
       "      <th>class</th>\n",
       "      <th>article</th>\n",
       "    </tr>\n",
       "  </thead>\n",
       "  <tbody>\n",
       "    <tr>\n",
       "      <td>0</td>\n",
       "      <td>1</td>\n",
       "      <td>Reuters - Venezuelans turned out early\\and in ...</td>\n",
       "    </tr>\n",
       "    <tr>\n",
       "      <td>1</td>\n",
       "      <td>1</td>\n",
       "      <td>Reuters - South Korean police used water canno...</td>\n",
       "    </tr>\n",
       "    <tr>\n",
       "      <td>2</td>\n",
       "      <td>1</td>\n",
       "      <td>Reuters - Thousands of Palestinian\\prisoners i...</td>\n",
       "    </tr>\n",
       "    <tr>\n",
       "      <td>3</td>\n",
       "      <td>1</td>\n",
       "      <td>AFP - Sporadic gunfire and shelling took place...</td>\n",
       "    </tr>\n",
       "    <tr>\n",
       "      <td>4</td>\n",
       "      <td>1</td>\n",
       "      <td>AP - Dozens of Rwandan soldiers flew into Suda...</td>\n",
       "    </tr>\n",
       "  </tbody>\n",
       "</table>\n",
       "</div>"
      ],
      "text/plain": [
       "   class                                            article\n",
       "0      1  Reuters - Venezuelans turned out early\\and in ...\n",
       "1      1  Reuters - South Korean police used water canno...\n",
       "2      1  Reuters - Thousands of Palestinian\\prisoners i...\n",
       "3      1  AFP - Sporadic gunfire and shelling took place...\n",
       "4      1  AP - Dozens of Rwandan soldiers flew into Suda..."
      ]
     },
     "execution_count": 39,
     "metadata": {},
     "output_type": "execute_result"
    }
   ],
   "source": [
    "data_tr.head()"
   ]
  },
  {
   "cell_type": "code",
   "execution_count": 40,
   "metadata": {
    "ExecuteTime": {
     "end_time": "2020-02-15T14:18:03.806523Z",
     "start_time": "2020-02-15T14:18:03.798279Z"
    }
   },
   "outputs": [],
   "source": [
    "# fill in your code...\n",
    "X_tr_raw = []\n",
    "Y_tr = []\n",
    "X_dev_raw = []\n",
    "Y_dev = []\n",
    "X_test_raw = []\n",
    "Y_te = []\n",
    "\n",
    "# add all raw data into list\n",
    "for i in range(len(data_tr)):\n",
    "    X_tr_raw.append(data_tr.iat[i, 1])\n",
    "    Y_tr.append(data_tr.iat[i, 0])\n",
    "    \n",
    "for i in range(len(data_dev)):\n",
    "    X_dev_raw.append(data_dev.iat[i, 1])\n",
    "    Y_dev.append(data_dev.iat[i, 0])\n",
    "    \n",
    "for i in range(len(data_te)):\n",
    "    X_test_raw.append(data_te.iat[i, 1])\n",
    "    Y_te.append(data_te.iat[i, 0])"
   ]
  },
  {
   "cell_type": "code",
   "execution_count": 41,
   "metadata": {
    "ExecuteTime": {
     "end_time": "2020-02-15T14:18:04.508938Z",
     "start_time": "2020-02-15T14:18:04.171071Z"
    }
   },
   "outputs": [
    {
     "name": "stdout",
     "output_type": "stream",
     "text": [
      "5000\n",
      "\n",
      "['proved', 'boost', 'added', ('reversed', 'government'), 'does', ('tore', 'through'), ('summer', 'doldrums'), ('major', 'league', 'baseball'), 'detained', 'football', ('minister', 'silvio', 'berlusconi'), 'mate', 'defense', 'cross', ('about', 'million'), ('time', 'resolve'), ('search', 'engine'), 'how', 'amp', 'howard', 'landslides', 'trying', ('fund', 'managers'), 'institutional', ('greece', 'ap'), 'hamas', 'form', ('percent', 'rise'), ('than', 'three'), 'supporters', 'avoid', 'weekly', ('anticipated', 'initial', 'public'), 'being', ('reuters', 'venezuela'), ('first', 'place'), 'collapse', ('cruciate', 'ligament', 'right'), 'showed', 'prepared', 'fighting', 'logistics', ('gaza', 'strip'), ('company', 'wednesday'), ('than', 'face'), ('jewish', 'settlements'), ('america', 'corp'), ('net', 'income'), ('up', 'energy'), 'baltimore', ('time', 'resolve', 'billing'), 'registration', ('barrel', 'wednesday'), ('ryder', 'cup'), ('all', 'star'), 'division', ('chicago', 'reuters'), 'karzai', 'thumb', 'burn', 'gain', 'involving', 'louis', 'first', ('showing', 'inflationary', 'pressure'), 'effective', ('amp', 'ltd'), 'thrown', 'change', ('fullquote', 'gt', 'hd'), 'now', 'housing', ('shi', 'ite'), 'band', 'injury', ('quarterly', 'earnings'), 'mission', ('erick', 'dampier'), 'selling', 'xinhuanet', ('had', 'added', 'american'), ('reuters', 'american'), ('up', 'million'), ('top', 'al'), ('iraqi', 'city'), 'congo', ('australia', 'ian'), 'reliever', 'tyler', ('borders', 'group', 'inc'), ('prices', 'fell'), ('monday', 'announced'), 'thursday', ('athens', 'olympics'), ('their', 'country'), 'challenge', ('tuesday', 'will'), 'walker', 'up', ('drop', 'consumer', 'prices')]\n",
      "\n",
      "[('reuters', 631), ('said', 432), ('tuesday', 413), ('wednesday', 344), ('new', 325), ('after', 295), ('ap', 275), ('athens', 245), ('monday', 221), ('first', 210)]\n"
     ]
    }
   ],
   "source": [
    "vocab, df, ngram_counts = get_vocab(X_tr_raw, ngram_range=(1,3), keep_topN=5000, stop_words=stop_words)\n",
    "print(len(vocab))\n",
    "print()\n",
    "print(list(vocab)[:100])\n",
    "print()\n",
    "print(df.most_common()[:10])"
   ]
  },
  {
   "cell_type": "code",
   "execution_count": 42,
   "metadata": {
    "ExecuteTime": {
     "end_time": "2020-02-15T14:18:04.706802Z",
     "start_time": "2020-02-15T14:18:04.511061Z"
    }
   },
   "outputs": [],
   "source": [
    "# fill in your code...\n",
    "word_id = {}\n",
    "i = 0\n",
    "for i, w in enumerate(list(vocab)):\n",
    "    word_id[w] = i\n",
    "# generate 3 file ngram list    \n",
    "X_train_ngram = []\n",
    "X_dev_ngram = []\n",
    "X_test_ngram = []\n",
    "\n",
    "for i in X_tr_raw:\n",
    "    X_train_ngram.append(extract_ngrams(i, ngram_range=(1,3), token_pattern=r'\\b[A-Za-z][A-Za-z]+\\b', stop_words=stop_words, vocab=vocab))\n",
    "for i in X_dev_raw:\n",
    "    X_dev_ngram.append(extract_ngrams(i, ngram_range=(1,3), token_pattern=r'\\b[A-Za-z][A-Za-z]+\\b', stop_words=stop_words, vocab=vocab))\n",
    "for i in X_test_raw:\n",
    "    X_test_ngram.append(extract_ngrams(i, ngram_range=(1,3), token_pattern=r'\\b[A-Za-z][A-Za-z]+\\b', stop_words=stop_words, vocab=vocab))\n",
    "\n",
    "    # vectorise 3 list    \n",
    "X_tr_count = vectorise(X_train_ngram, vocab)\n",
    "X_dev_count = vectorise(X_dev_ngram, vocab)\n",
    "X_test_count = vectorise(X_test_ngram, vocab)"
   ]
  },
  {
   "cell_type": "code",
   "execution_count": 43,
   "metadata": {},
   "outputs": [],
   "source": [
    "idfs = []\n",
    "for i in list(vocab):\n",
    "    # set a variable to record occurance times \n",
    "    df_count = 0\n",
    "    # if it occur, variable + 1\n",
    "    for j in X_train_ngram:\n",
    "        if i in j:  \n",
    "            df_count = df_count + 1\n",
    "    idfs.append(np.log10(X_tr_count.shape[0]/(df_count+1)))\n",
    "# change to numpy array\n",
    "idfs = np.array(idfs)\n",
    "\n",
    "X_tr_tfidf = X_tr_count * idfs\n",
    "X_dev_tfidf = X_dev_count * idfs\n",
    "X_test_tfidf = X_test_count * idfs"
   ]
  },
  {
   "cell_type": "markdown",
   "metadata": {},
   "source": [
    "Now you need to change `SGD` to support multiclass datasets. First you need to develop a `softmax` function. It takes as input:\n",
    "\n",
    "- `z`: array of real numbers \n",
    "\n",
    "and returns:\n",
    "\n",
    "- `smax`: the softmax of `z`"
   ]
  },
  {
   "cell_type": "code",
   "execution_count": 44,
   "metadata": {
    "ExecuteTime": {
     "end_time": "2020-02-15T14:18:07.440998Z",
     "start_time": "2020-02-15T14:18:07.437915Z"
    }
   },
   "outputs": [],
   "source": [
    "def softmax(z):\n",
    "    \n",
    "    # fill in your code...\n",
    "    smax = np.exp(z) / np.sum(np.exp(z),1,keepdims=True)\n",
    "    return smax"
   ]
  },
  {
   "cell_type": "markdown",
   "metadata": {},
   "source": [
    "Then modify `predict_proba` and `predict_class` functions for the multiclass case:"
   ]
  },
  {
   "cell_type": "code",
   "execution_count": 45,
   "metadata": {
    "ExecuteTime": {
     "end_time": "2020-02-15T14:18:07.445451Z",
     "start_time": "2020-02-15T14:18:07.442851Z"
    }
   },
   "outputs": [],
   "source": [
    "def predict_proba(X, weights):\n",
    "    \n",
    "    # fill in your code...\n",
    "    preds_proba = softmax(np.matmul(X,weights.T))\n",
    "    return preds_proba"
   ]
  },
  {
   "cell_type": "code",
   "execution_count": 46,
   "metadata": {
    "ExecuteTime": {
     "end_time": "2020-02-15T14:18:07.449814Z",
     "start_time": "2020-02-15T14:18:07.447145Z"
    }
   },
   "outputs": [],
   "source": [
    "def predict_class(X, weights):\n",
    "    \n",
    "    # fill in your code...\n",
    "    pre_pro = predict_proba(X, weights)\n",
    "    preds_class = np.argmax(pre_pro, 1)\n",
    "    \n",
    "    return preds_class+1"
   ]
  },
  {
   "cell_type": "markdown",
   "metadata": {},
   "source": [
    "Toy example and expected functionality of the functions above:"
   ]
  },
  {
   "cell_type": "code",
   "execution_count": 47,
   "metadata": {
    "ExecuteTime": {
     "end_time": "2020-02-15T14:18:08.059902Z",
     "start_time": "2020-02-15T14:18:08.056774Z"
    }
   },
   "outputs": [],
   "source": [
    "X = np.array([[0.1,0.2],[0.2,0.1],[0.1,-0.2]])\n",
    "w = np.array([[2,-5],[-5,2]])"
   ]
  },
  {
   "cell_type": "code",
   "execution_count": 48,
   "metadata": {
    "ExecuteTime": {
     "end_time": "2020-02-15T14:18:08.495464Z",
     "start_time": "2020-02-15T14:18:08.491074Z"
    }
   },
   "outputs": [
    {
     "data": {
      "text/plain": [
       "array([[0.33181223, 0.66818777],\n",
       "       [0.66818777, 0.33181223],\n",
       "       [0.89090318, 0.10909682]])"
      ]
     },
     "execution_count": 48,
     "metadata": {},
     "output_type": "execute_result"
    }
   ],
   "source": [
    "predict_proba(X, w)"
   ]
  },
  {
   "cell_type": "code",
   "execution_count": 49,
   "metadata": {
    "ExecuteTime": {
     "end_time": "2020-02-15T14:18:08.714215Z",
     "start_time": "2020-02-15T14:18:08.710098Z"
    }
   },
   "outputs": [
    {
     "data": {
      "text/plain": [
       "array([2, 1, 1], dtype=int64)"
      ]
     },
     "execution_count": 49,
     "metadata": {},
     "output_type": "execute_result"
    }
   ],
   "source": [
    "predict_class(X, w)"
   ]
  },
  {
   "cell_type": "markdown",
   "metadata": {},
   "source": [
    "Now you need to compute the categorical cross entropy loss (extending the binary loss to support multiple classes)."
   ]
  },
  {
   "cell_type": "code",
   "execution_count": 50,
   "metadata": {
    "ExecuteTime": {
     "end_time": "2020-02-15T14:30:48.047338Z",
     "start_time": "2020-02-15T14:30:48.044395Z"
    }
   },
   "outputs": [],
   "source": [
    "def categorical_loss(X, Y, weights, num_classes=5, alpha=0.00001):    \n",
    "    # fill in your code...\n",
    "    l = 0\n",
    "    log_pb = np.log(predict_proba(X, weights))\n",
    "    for i in range(X.shape[0]):\n",
    "        l = l + log_pb[i, Y[i]-1]\n",
    "    l = l/X.shape[0]\n",
    "    l = alpha * np.sum(weights**2) - l\n",
    "    return l\n",
    " "
   ]
  },
  {
   "cell_type": "markdown",
   "metadata": {
    "ExecuteTime": {
     "end_time": "2020-02-15T14:08:59.937442Z",
     "start_time": "2020-02-15T14:08:59.932221Z"
    }
   },
   "source": [
    "Finally you need to modify SGD to support the categorical cross entropy loss:"
   ]
  },
  {
   "cell_type": "code",
   "execution_count": 51,
   "metadata": {
    "ExecuteTime": {
     "end_time": "2020-02-15T14:18:10.176885Z",
     "start_time": "2020-02-15T14:18:10.165021Z"
    }
   },
   "outputs": [],
   "source": [
    "def SGD(X_tr, Y_tr, X_dev=[], Y_dev=[], num_classes=5, lr=0.01, alpha=0.00001, epochs=5, tolerance=0.001, print_progress=True):\n",
    "    \n",
    "    # fill in your code...\n",
    "    training_loss_history = []\n",
    "    validation_loss_history = []\n",
    "\n",
    "    weights = np.zeros([num_classes, X_tr.shape[1]])\n",
    "    for i in range(epochs):\n",
    "        #  generate random order of Dtrain\n",
    "        ran_order = np.random.permutation(X_tr.shape[0])\n",
    "        for j in ran_order:\n",
    "            Z_tr = predict_proba(X_tr[j:j+1,:], weights)\n",
    "            Z_tr[0, Y_tr[j]-1] -= 1\n",
    "            weights -=  lr * ( Z_tr.T * X_tr[j:j+1,:] + 2*alpha*weights)\n",
    "\n",
    "        # append every loss results into training and validation loss\n",
    "        training_loss_history.append(categorical_loss(X_tr, Y_tr, weights, alpha))\n",
    "        validation_loss_history.append(categorical_loss(X_dev, Y_dev, weights, alpha))\n",
    "\n",
    "        if print_progress:\n",
    "            print('Epoch times: {}, Training loss value: {}, Validation loss: {}'.format(i, training_loss_history[-1], validation_loss_history[-1]))\n",
    "        if len(validation_loss_history)>=2 and np.abs(validation_loss_history[-1] - validation_loss_history[-2]) < tolerance:\n",
    "            break\n",
    "\n",
    "    return weights, training_loss_history, validation_loss_history"
   ]
  },
  {
   "cell_type": "markdown",
   "metadata": {
    "ExecuteTime": {
     "end_time": "2020-02-15T14:10:15.772383Z",
     "start_time": "2020-02-15T14:10:15.767855Z"
    }
   },
   "source": [
    "Now you are ready to train and evaluate you MLR following the same steps as in Task 1 for both Count and tfidf features:"
   ]
  },
  {
   "cell_type": "code",
   "execution_count": 52,
   "metadata": {
    "ExecuteTime": {
     "end_time": "2020-02-15T14:18:55.324956Z",
     "start_time": "2020-02-15T14:18:11.720952Z"
    }
   },
   "outputs": [
    {
     "name": "stdout",
     "output_type": "stream",
     "text": [
      "Epoch times: 0, Training loss value: 1.068708232493951, Validation loss: 1.083295353188057\n",
      "Epoch times: 1, Training loss value: 1.0422324059554602, Validation loss: 1.0690588101199794\n",
      "Epoch times: 2, Training loss value: 1.0185115728419276, Validation loss: 1.0557298748233257\n",
      "Epoch times: 3, Training loss value: 0.9969516717751067, Validation loss: 1.0431493465365684\n",
      "Epoch times: 4, Training loss value: 0.9771289286330217, Validation loss: 1.0312040439389096\n",
      "Epoch times: 5, Training loss value: 0.958746183898072, Validation loss: 1.0198113190064113\n",
      "Epoch times: 6, Training loss value: 0.9415702552129657, Validation loss: 1.0089005067773322\n",
      "Epoch times: 7, Training loss value: 0.925458865055405, Validation loss: 0.9984241155679207\n",
      "Epoch times: 8, Training loss value: 0.9102629118011795, Validation loss: 0.9883405599860617\n",
      "Epoch times: 9, Training loss value: 0.89589364415022, Validation loss: 0.9786199921264755\n",
      "Epoch times: 10, Training loss value: 0.8822664569882862, Validation loss: 0.9692356264594109\n",
      "Epoch times: 11, Training loss value: 0.8693143403166321, Validation loss: 0.9601689120813767\n",
      "Epoch times: 12, Training loss value: 0.8569734719101516, Validation loss: 0.951395439368339\n",
      "Epoch times: 13, Training loss value: 0.8451989890756114, Validation loss: 0.9429005069822787\n",
      "Epoch times: 14, Training loss value: 0.833951027716232, Validation loss: 0.9346703172150013\n",
      "Epoch times: 15, Training loss value: 0.8231851434398714, Validation loss: 0.9266894217079584\n",
      "Epoch times: 16, Training loss value: 0.8128686546000007, Validation loss: 0.9189461985705197\n",
      "Epoch times: 17, Training loss value: 0.8029750570234274, Validation loss: 0.9114314403342988\n",
      "Epoch times: 18, Training loss value: 0.7934710937483657, Validation loss: 0.904133142909443\n",
      "Epoch times: 19, Training loss value: 0.7843316575692676, Validation loss: 0.8970384887758597\n",
      "Epoch times: 20, Training loss value: 0.7755372134572546, Validation loss: 0.8901420795323798\n",
      "Epoch times: 21, Training loss value: 0.76706437739028, Validation loss: 0.8834343917423013\n",
      "Epoch times: 22, Training loss value: 0.7588980563910238, Validation loss: 0.8769090240554152\n",
      "Epoch times: 23, Training loss value: 0.7510141241738522, Validation loss: 0.8705564360018943\n",
      "Epoch times: 24, Training loss value: 0.7433992869903847, Validation loss: 0.8643687533811207\n",
      "Epoch times: 25, Training loss value: 0.7360393547837344, Validation loss: 0.8583422814633456\n",
      "Epoch times: 26, Training loss value: 0.7289213059733202, Validation loss: 0.8524702324934361\n",
      "Epoch times: 27, Training loss value: 0.722028753785774, Validation loss: 0.8467448255294632\n",
      "Epoch times: 28, Training loss value: 0.7153510764269053, Validation loss: 0.8411602333477128\n",
      "Epoch times: 29, Training loss value: 0.70887912363559, Validation loss: 0.8357129622300628\n",
      "Epoch times: 30, Training loss value: 0.7025998686153346, Validation loss: 0.8303972478657752\n",
      "Epoch times: 31, Training loss value: 0.6965076771423008, Validation loss: 0.8252078374047916\n",
      "Epoch times: 32, Training loss value: 0.6905902886075139, Validation loss: 0.8201396721760214\n",
      "Epoch times: 33, Training loss value: 0.6848402756404252, Validation loss: 0.8151899022275622\n",
      "Epoch times: 34, Training loss value: 0.679249947236808, Validation loss: 0.8103523094525418\n",
      "Epoch times: 35, Training loss value: 0.6738107943154265, Validation loss: 0.8056248898784062\n",
      "Epoch times: 36, Training loss value: 0.6685178130697546, Validation loss: 0.801001695348336\n",
      "Epoch times: 37, Training loss value: 0.6633641785092367, Validation loss: 0.7964813624890674\n",
      "Epoch times: 38, Training loss value: 0.6583427328123477, Validation loss: 0.7920589770792205\n",
      "Epoch times: 39, Training loss value: 0.6534483960755386, Validation loss: 0.7877315265950361\n",
      "Epoch times: 40, Training loss value: 0.6486767921733015, Validation loss: 0.7834959629570016\n",
      "Epoch times: 41, Training loss value: 0.6440214743408121, Validation loss: 0.7793499366436618\n",
      "Epoch times: 42, Training loss value: 0.6394775754912082, Validation loss: 0.7752892865460039\n",
      "Epoch times: 43, Training loss value: 0.6350417598847207, Validation loss: 0.7713110163350263\n",
      "Epoch times: 44, Training loss value: 0.6307089134841432, Validation loss: 0.7674137364839281\n",
      "Epoch times: 45, Training loss value: 0.6264760556869573, Validation loss: 0.7635940643140139\n",
      "Epoch times: 46, Training loss value: 0.6223385827066616, Validation loss: 0.7598498791657714\n",
      "Epoch times: 47, Training loss value: 0.6182925375723114, Validation loss: 0.7561793163684822\n",
      "Epoch times: 48, Training loss value: 0.6143347606867814, Validation loss: 0.7525790210169933\n",
      "Epoch times: 49, Training loss value: 0.6104628222540468, Validation loss: 0.7490484315131285\n",
      "Epoch times: 50, Training loss value: 0.6066726896609297, Validation loss: 0.7455838121694736\n",
      "Epoch times: 51, Training loss value: 0.6029614526994393, Validation loss: 0.7421839692091533\n",
      "Epoch times: 52, Training loss value: 0.5993256577087448, Validation loss: 0.7388459776547263\n",
      "Epoch times: 53, Training loss value: 0.5957650475569269, Validation loss: 0.735570384965566\n",
      "Epoch times: 54, Training loss value: 0.5922754081124699, Validation loss: 0.7323536639429828\n",
      "Epoch times: 55, Training loss value: 0.5888545299449099, Validation loss: 0.7291947112798359\n",
      "Epoch times: 56, Training loss value: 0.5854998337620527, Validation loss: 0.726091080317967\n",
      "Epoch times: 57, Training loss value: 0.5822092345023614, Validation loss: 0.7230419284798842\n",
      "Epoch times: 58, Training loss value: 0.578980584391657, Validation loss: 0.7200449308976974\n",
      "Epoch times: 59, Training loss value: 0.5758128456485969, Validation loss: 0.7171004072311105\n",
      "Epoch times: 60, Training loss value: 0.5727031135186237, Validation loss: 0.7142055635290403\n",
      "Epoch times: 61, Training loss value: 0.5696502706065362, Validation loss: 0.7113594878056556\n",
      "Epoch times: 62, Training loss value: 0.5666519861979165, Validation loss: 0.7085607376363207\n",
      "Epoch times: 63, Training loss value: 0.5637064885090898, Validation loss: 0.705807823229123\n",
      "Epoch times: 64, Training loss value: 0.5608128857063532, Validation loss: 0.7031001288702885\n",
      "Epoch times: 65, Training loss value: 0.5579686514491089, Validation loss: 0.7004354442228446\n",
      "Epoch times: 66, Training loss value: 0.5551730173732292, Validation loss: 0.6978133079041545\n",
      "Epoch times: 67, Training loss value: 0.5524244392477933, Validation loss: 0.6952332859782256\n",
      "Epoch times: 68, Training loss value: 0.5497217563965069, Validation loss: 0.6926934857959173\n",
      "Epoch times: 69, Training loss value: 0.5470635217225263, Validation loss: 0.6901930337224412\n",
      "Epoch times: 70, Training loss value: 0.5444485072254234, Validation loss: 0.6877316586616959\n",
      "Epoch times: 71, Training loss value: 0.5418755951961921, Validation loss: 0.6853074834862809\n",
      "Epoch times: 72, Training loss value: 0.5393431248994888, Validation loss: 0.6829195955917208\n",
      "Epoch times: 73, Training loss value: 0.5368508474546883, Validation loss: 0.6805679267027329\n",
      "Epoch times: 74, Training loss value: 0.5343966030412449, Validation loss: 0.6782506716257055\n",
      "Epoch times: 75, Training loss value: 0.5319806872500511, Validation loss: 0.675967900122475\n",
      "Epoch times: 76, Training loss value: 0.5296014973241169, Validation loss: 0.6737185663281184\n",
      "Epoch times: 77, Training loss value: 0.5272578728982491, Validation loss: 0.6715020768654055\n",
      "Epoch times: 78, Training loss value: 0.5249491129181917, Validation loss: 0.6693170479855688\n",
      "Epoch times: 79, Training loss value: 0.522674295946408, Validation loss: 0.6671631405689948\n",
      "Epoch times: 80, Training loss value: 0.5204325380717038, Validation loss: 0.6650395581233464\n",
      "Epoch times: 81, Training loss value: 0.5182228594621093, Validation loss: 0.6629454863133651\n",
      "Epoch times: 82, Training loss value: 0.5160446379501581, Validation loss: 0.6608799966002471\n",
      "Epoch times: 83, Training loss value: 0.5138972148726118, Validation loss: 0.6588435162600738\n",
      "Epoch times: 84, Training loss value: 0.5117797895797245, Validation loss: 0.6568347895433985\n",
      "Epoch times: 85, Training loss value: 0.5096916231868546, Validation loss: 0.6548532152229848\n",
      "Epoch times: 86, Training loss value: 0.5076321035097582, Validation loss: 0.6528983223102384\n",
      "Epoch times: 87, Training loss value: 0.5056002985190982, Validation loss: 0.6509691665307432\n"
     ]
    },
    {
     "name": "stdout",
     "output_type": "stream",
     "text": [
      "Epoch times: 88, Training loss value: 0.5035956413853042, Validation loss: 0.6490656353665375\n",
      "Epoch times: 89, Training loss value: 0.5016176009407428, Validation loss: 0.6471869557268041\n",
      "Epoch times: 90, Training loss value: 0.499665681388952, Validation loss: 0.6453320163962593\n",
      "Epoch times: 91, Training loss value: 0.49773928998231853, Validation loss: 0.6435019344837296\n",
      "Epoch times: 92, Training loss value: 0.4958377161230093, Validation loss: 0.6416950293933386\n",
      "Epoch times: 93, Training loss value: 0.4939603562795031, Validation loss: 0.6399114658016942\n",
      "Epoch times: 94, Training loss value: 0.492106560787382, Validation loss: 0.6381496595478872\n",
      "Epoch times: 95, Training loss value: 0.4902764203731825, Validation loss: 0.6364100673439166\n",
      "Epoch times: 96, Training loss value: 0.48846890903830154, Validation loss: 0.6346918842875956\n",
      "Epoch times: 97, Training loss value: 0.48668375633204686, Validation loss: 0.632994956176559\n",
      "Epoch times: 98, Training loss value: 0.4849202491344569, Validation loss: 0.6313183273203258\n",
      "Epoch times: 99, Training loss value: 0.4831783678036038, Validation loss: 0.6296630827776352\n",
      "Epoch times: 100, Training loss value: 0.48145735003552864, Validation loss: 0.6280276432636749\n",
      "Epoch times: 101, Training loss value: 0.4797567496203385, Validation loss: 0.6264118223381339\n",
      "Epoch times: 102, Training loss value: 0.4780760083443542, Validation loss: 0.624814226165958\n",
      "Epoch times: 103, Training loss value: 0.47641490569548317, Validation loss: 0.6232359082905784\n",
      "Epoch times: 104, Training loss value: 0.47477311770082614, Validation loss: 0.6216757508477512\n",
      "Epoch times: 105, Training loss value: 0.47315042849958683, Validation loss: 0.6201339719106054\n",
      "Epoch times: 106, Training loss value: 0.4715461111187256, Validation loss: 0.6186099675150292\n",
      "Epoch times: 107, Training loss value: 0.46995983847094197, Validation loss: 0.6171030189008605\n",
      "Epoch times: 108, Training loss value: 0.46839165026861673, Validation loss: 0.6156140492046329\n",
      "Epoch times: 109, Training loss value: 0.4668408373116596, Validation loss: 0.6141412883031913\n",
      "Epoch times: 110, Training loss value: 0.4653070935209324, Validation loss: 0.6126846773258673\n",
      "Epoch times: 111, Training loss value: 0.4637903023253481, Validation loss: 0.6112453994591058\n",
      "Epoch times: 112, Training loss value: 0.4622898458069828, Validation loss: 0.6098213356272392\n",
      "Epoch times: 113, Training loss value: 0.46080563237333444, Validation loss: 0.6084128374481802\n",
      "Epoch times: 114, Training loss value: 0.45933739219304626, Validation loss: 0.6070204060055976\n",
      "Epoch times: 115, Training loss value: 0.4578846034496173, Validation loss: 0.6056419164490678\n",
      "Epoch times: 116, Training loss value: 0.45644717871055596, Validation loss: 0.6042793085477981\n",
      "Epoch times: 117, Training loss value: 0.45502470466532763, Validation loss: 0.6029305904069163\n",
      "Epoch times: 118, Training loss value: 0.4536172436533888, Validation loss: 0.6015972664462887\n",
      "Epoch times: 119, Training loss value: 0.45222431536402885, Validation loss: 0.6002779714772774\n",
      "Epoch times: 120, Training loss value: 0.4508454280909195, Validation loss: 0.5989720192476704\n",
      "Epoch times: 121, Training loss value: 0.4494805882949618, Validation loss: 0.5976798378758933\n",
      "Epoch times: 122, Training loss value: 0.44812954298072666, Validation loss: 0.5964008491701073\n",
      "Epoch times: 123, Training loss value: 0.4467919801050898, Validation loss: 0.5951354791206804\n",
      "Epoch times: 124, Training loss value: 0.4454678296198281, Validation loss: 0.5938830082329024\n",
      "Epoch times: 125, Training loss value: 0.444156685256315, Validation loss: 0.5926433651988275\n",
      "Epoch times: 126, Training loss value: 0.44285849510612424, Validation loss: 0.5914166175749334\n",
      "Epoch times: 127, Training loss value: 0.4415729139344678, Validation loss: 0.5902020740241934\n",
      "Epoch times: 128, Training loss value: 0.4402997902454152, Validation loss: 0.5889992536694564\n",
      "Epoch times: 129, Training loss value: 0.4390387785269237, Validation loss: 0.5878079247693264\n",
      "Epoch times: 130, Training loss value: 0.43778994103465746, Validation loss: 0.5866292039516929\n",
      "Epoch times: 131, Training loss value: 0.4365530070175674, Validation loss: 0.5854626777428559\n",
      "Epoch times: 132, Training loss value: 0.43532766371044634, Validation loss: 0.5843071305990161\n",
      "Epoch times: 133, Training loss value: 0.43411377292402537, Validation loss: 0.5831626664775593\n",
      "Epoch times: 134, Training loss value: 0.4329110385845682, Validation loss: 0.5820292547415374\n",
      "Epoch times: 135, Training loss value: 0.4317194705857393, Validation loss: 0.5809068398281553\n",
      "Epoch times: 136, Training loss value: 0.43053889289256947, Validation loss: 0.5797954559322681\n",
      "Epoch times: 137, Training loss value: 0.42936909499597037, Validation loss: 0.578694710442169\n",
      "Epoch times: 138, Training loss value: 0.42820978791969216, Validation loss: 0.5776039509526787\n",
      "Epoch times: 139, Training loss value: 0.4270608945114333, Validation loss: 0.5765232773031954\n",
      "Epoch times: 140, Training loss value: 0.42592235904020476, Validation loss: 0.5754533930694457\n",
      "Epoch times: 141, Training loss value: 0.42479389268718126, Validation loss: 0.5743924849389326\n",
      "Epoch times: 142, Training loss value: 0.42367544287991393, Validation loss: 0.5733422789675865\n",
      "Epoch times: 143, Training loss value: 0.42256678132641484, Validation loss: 0.5723011870305664\n",
      "Epoch times: 144, Training loss value: 0.42146767539729013, Validation loss: 0.5712693734617443\n",
      "Epoch times: 145, Training loss value: 0.4203782769077725, Validation loss: 0.5702472671205676\n",
      "Epoch times: 146, Training loss value: 0.41929820840783455, Validation loss: 0.5692344623021548\n",
      "Epoch times: 147, Training loss value: 0.4182274690693619, Validation loss: 0.5682309880622142\n",
      "Epoch times: 148, Training loss value: 0.4171658695754908, Validation loss: 0.5672367612792457\n"
     ]
    }
   ],
   "source": [
    "w_count, loss_tr_count, dev_loss_count = SGD(X_tr_count, Y_tr, \n",
    "                                             X_dev=X_dev_count, \n",
    "                                             Y_dev=Y_dev,\n",
    "                                             num_classes=3,\n",
    "                                             lr=0.0001, \n",
    "                                             alpha=0.001, \n",
    "                                             epochs=200)"
   ]
  },
  {
   "cell_type": "markdown",
   "metadata": {},
   "source": [
    "Plot training and validation process and explain if your model overfit, underfit or is about right:"
   ]
  },
  {
   "cell_type": "code",
   "execution_count": 53,
   "metadata": {
    "ExecuteTime": {
     "end_time": "2020-02-15T14:31:09.903453Z",
     "start_time": "2020-02-15T14:31:09.901360Z"
    }
   },
   "outputs": [
    {
     "data": {
      "text/plain": [
       "<matplotlib.legend.Legend at 0x2128a68ae88>"
      ]
     },
     "execution_count": 53,
     "metadata": {},
     "output_type": "execute_result"
    },
    {
     "data": {
      "image/png": "[encoded data removed]",
      "text/plain": [
       "<Figure size 432x288 with 1 Axes>"
      ]
     },
     "metadata": {
      "needs_background": "light"
     },
     "output_type": "display_data"
    }
   ],
   "source": [
    "# fill in your code...\n",
    "plt.plot(range(len(loss_tr_count)), loss_tr_count, c = 'blue', label='training loss')\n",
    "plt.plot(range(len(dev_loss_count)), dev_loss_count,cr= 'coral', label = 'validation loss', )\n",
    "plt.xlabel('Epoch times')\n",
    "plt.ylabel('Loss value')\n",
    "plt.legend()"
   ]
  },
  {
   "cell_type": "markdown",
   "metadata": {},
   "source": [
    "Answer:this model is also overfit, because the training loss is lower than the validation loss."
   ]
  },
  {
   "cell_type": "markdown",
   "metadata": {},
   "source": [
    "Compute accuracy, precision, recall and F1-scores:"
   ]
  },
  {
   "cell_type": "code",
   "execution_count": 54,
   "metadata": {
    "ExecuteTime": {
     "end_time": "2020-02-15T14:32:12.606498Z",
     "start_time": "2020-02-15T14:32:12.604164Z"
    }
   },
   "outputs": [
    {
     "name": "stdout",
     "output_type": "stream",
     "text": [
      "Accuracy: 0.8522222222222222\n",
      "Precision: 0.8545592790763165\n",
      "Recall: 0.8522222222222222\n",
      "F1-Score: 0.8514022251643323\n"
     ]
    }
   ],
   "source": [
    "# fill in your code...\n",
    "\n",
    "preds_te = predict_class(X_test_count, w_count)\n",
    "print('Accuracy:', accuracy_score(Y_te,preds_te))\n",
    "print('Precision:', precision_score(Y_te,preds_te,average='macro'))\n",
    "print('Recall:', recall_score(Y_te,preds_te,average='macro'))\n",
    "print('F1-Score:', f1_score(Y_te,preds_te,average='macro'))"
   ]
  },
  {
   "cell_type": "markdown",
   "metadata": {},
   "source": [
    "Print the top-10 words for each class respectively."
   ]
  },
  {
   "cell_type": "code",
   "execution_count": 55,
   "metadata": {
    "ExecuteTime": {
     "end_time": "2020-02-15T14:32:26.224693Z",
     "start_time": "2020-02-15T14:32:26.221886Z"
    }
   },
   "outputs": [
    {
     "name": "stdout",
     "output_type": "stream",
     "text": [
      "1\n",
      "Top10  1 NAJAF, Iraq - Iraq's most powerful Shiite cleric returned home from Britain on Wednesday to help broker an end to nearly three weeks of fighting in Najaf and is calling on his followers to join him in a march to reclaim the holy city, his spokesmen and witnesses said.    Grand Ayatollah Ali Husseini al-Sistani return came as heavy fighting persisted in Najaf's Old City...\n",
      "Top10  2 BAGHDAD, Iraq - Rebel Shiite cleric Muqtada al-Sadr called for his followers across Iraq to end fighting against U.S. and Iraqi forces and is planning to join the political process in the coming days, an al-Sadr aide said Monday...\n",
      "Top10  3 NAJAF, Iraq - Militants loyal to radical Shiite cleric Muqtada al-Sadr kept their hold on a revered shrine, and clashes flared in Najaf on Saturday, raising fears that a resolution to the crisis in the holy city could collapse amid bickering between Shiite leaders.    The clashes between U.S...\n",
      "Top10  4 BAGHDAD, Iraq - Delegates at Iraq's National Conference called on radical Shiite cleric Muqtada al-Sadr to abandon his uprising against U.S. and Iraqi troops and pull his fighters out of a holy shrine in Najaf...\n",
      "Top10  5  NAJAF, Iraq (Reuters) - A mortar attack on a packed mosque  in the town of Kufa on Thursday killed at least 25 people as  Iraq's most influential Shi'ite cleric headed to the nearby  holy city of Najaf to try to end a bloody three-week uprising.\n",
      "Top10  6  NAJAF, Iraq (Reuters) - Rebel Shi'ite fighters appeared  still to be in control of the Imam Ali mosque in the Iraqi city  Najaf early on Saturday, but the whereabouts of their leader,  the fiery cleric Moqtada al-Sadr, were unknown.\n",
      "Top10  7 A top aide to Iraq #39;s rebel Shi #39;ite leader Muqtada al-Sadr Monday called on the Mehdi Army militia to cease fire across Iraq and said Sadr was preparing to announce plans for a major political program.\n",
      "Top10  8 NAJAF, Iraq - Explosions and gunfire rattled through the city of Najaf as U.S. troops in armored vehicles and tanks rolled back into the streets here Sunday, a day after the collapse of talks - and with them a temporary cease-fire - intended to end the fighting in this holy city...\n",
      "Top10  9 US and Iraqi forces battled militants in Najaf on Tuesday and Iraqi National Guardsmen advanced to within 200 yards of the holy city #39;s Imam Ali Shrine compound, where insurgents loyal to radical cleric Muqtada al-Sadr have been holed up for weeks.\n",
      "Top10  10  NAJAF, Iraq (Reuters) - Rebel Iraqi cleric Moqtada al-Sadr  on Friday ordered his men inside Najaf's Imam Ali mosque to lay  down their weapons and join thousands of Shi'ite pilgrims  outside the shrine.\n",
      "2\n",
      "Top10  1  ATHENS (Reuters) - The U.S. women's basketball team showed  their men how to win gold Saturday as around 70,000 spectators  flocked to the Olympic stadium for a hectic athletics program  on the penultimate night of the Athens Games.\n",
      "Top10  2  ATHENS (Reuters) - The U.S. men's basketball team was  beaten by Argentina Friday, denying it an Olympic gold medal  for the first time since 1992 when NBA players started  competing.\n",
      "Top10  3 ATHENS, Greece - Right now, the Americans aren't just a Dream Team - they're more like the Perfect Team. Lisa Fernandez pitched a three-hitter Sunday and Crystl Bustos drove in two runs as the Americans rolled to their eighth shutout in eight days, 5-0 over Australia, putting them into the gold medal game...\n",
      "Top10  4  ATHENS (Reuters) - Carly Patterson upstaged Russian diva  Svetlana Khorkina to become the first American in 20 years to  win the women's Olympic gymnastics all-round gold medal on  Thursday.\n",
      "Top10  5 ATHENS (Reuters) - Greek sprinters Costas Kenteris and Katerina Thanou have arrived at an Athens hotel for an International Olympic Committee (IOC) hearing into their missed doped tests, a saga that has shamed and angered the Olympic host ...\n",
      "Top10  6 Athens, Greece (Sports Network) - Wednesday night it was Paul Hamm #39;s turn to shine for the United States, as he won the gold medal in the men #39;s all-around competition. Will Thursday produce a sweep for the US at the Olympics? ...\n",
      "Top10  7  ATHENS (Reuters) - Aaron Peirsol won his second gold medal  at the Athens Olympics Thursday after winning an appeal against  his disqualification from the men's 200 meter backstroke.\n",
      "Top10  8  ATHENS (Reuters) - An exhausted Nicolas Massu reeled in  Mardy Fish in five tortuous sets on Sunday to win Chile their  second gold medal at an Olympic Games less than 24 hours after  helping them to their first.\n",
      "Top10  9 ATHENS, Aug. 19 (Xinhuanet) -- Chinese Hercules Liu Chunhong Thursday lifted three world records on her way to winning the women #39;s 69kg gold medal at the Athens Olympics, the fourth of the power sport competition for China. \n",
      "Top10  10  ATHENS (Reuters) - World 100 meters champion Torri Edwards  will miss the Athens Olympics after her appeal against a  two-year drugs ban was dismissed on Tuesday, a source told  Reuters.\n",
      "3\n",
      "Top10  1  NEW YORK (Reuters) - Retailer Kmart Holdings Corp. &lt;A HREF=\"http://www.investor.reuters.com/FullQuote.aspx?ticker=KMRT.O target=/stocks/quickinfo/fullquote\"&gt;KMRT.O&lt;/A&gt;  on Monday said it finalized a deal to sell 18 of its stores to  Home Depot Inc. &lt;A HREF=\"http://www.investor.reuters.com/FullQuote.aspx?ticker=HD.N target=/stocks/quickinfo/fullquote\"&gt;HD.N&lt;/A&gt; for \\$271 million.\n",
      "Top10  2  BRUSSELS/SAO PAULO (Reuters) - Shareholders gave their  blessing on Friday for Belgium's Interbrew &lt;A HREF=\"http://www.investor.reuters.com/FullQuote.aspx?ticker=INTB.BR target=/stocks/quickinfo/fullquote\"&gt;INTB.BR&lt;/A&gt; to buy  Brazil's AmBev &lt;A HREF=\"http://www.investor.reuters.com/FullQuote.aspx?ticker=AMBV4.SA target=/stocks/quickinfo/fullquote\"&gt;AMBV4.SA&lt;/A&gt;&lt;ABV.N&gt; in a \\$9.7 billion deal that  will create the world's largest brewer.\n",
      "Top10  3  &lt;A HREF=\"http://www.investor.reuters.com/FullQuote.aspx?ticker=RSE.N target=/stocks/quickinfo/fullquote\"&gt;RSE.N&lt;/A&gt; jumped before the bell after General Growth  Properties Inc. &lt;A HREF=\"http://www.investor.reuters.com/FullQuote.aspx?ticker=GGP.N target=/stocks/quickinfo/fullquote\"&gt;GGP.N&lt;/A&gt;, the No. 2 U.S. shopping mall owner, on  Friday said it would buy Rouse for \\$7.2 billion.\n",
      "Top10  4  NEW YORK (Reuters) - Staples Inc. &lt;A HREF=\"http://www.investor.reuters.com/FullQuote.aspx?ticker=SPLS.O target=/stocks/quickinfo/fullquote\"&gt;SPLS.O&lt;/A&gt;, the top U.S.  office products retailer, on Tuesday reported a 39 percent jump  in quarterly profit, raised its full-year forecast and said it  plans to enter the fast-growing Chinese market, sending its  shares higher.\n",
      "Top10  5  NEW YORK (Reuters) - BlackRock Inc. &lt;A HREF=\"http://www.investor.reuters.com/FullQuote.aspx?ticker=BLK.N target=/stocks/quickinfo/fullquote\"&gt;BLK.N&lt;/A&gt;, one of the  largest U.S. fixed income managers, on Thursday said it will  buy its far smaller competitor State Street Research    Management Co., marking the biggest takeover in the asset  management business this year.\n",
      "Top10  6  NEW YORK (Reuters) - Colgate-Palmolive Co. &lt;A HREF=\"http://www.investor.reuters.com/FullQuote.aspx?ticker=CL.N target=/stocks/quickinfo/fullquote\"&gt;CL.N&lt;/A&gt; will cut  about 4,400 jobs, or 12 percent of its work force, and close  nearly a third of its factories under a restructuring, the  consumer products company said on Tuesday.\n",
      "Top10  7  NEW YORK (Reuters) - U.S. blue chips were near the  unchanged mark on Monday as a disappointing sales forecast from  retailer Wal-Mart Stores Inc. &lt;A HREF=\"http://www.investor.reuters.com/FullQuote.aspx?ticker=WMT.N target=/stocks/quickinfo/fullquote\"&gt;WMT.N&lt;/A&gt; dampened sentiment,  offsetting the benefit of easing oil prices.\n",
      "Top10  8  NEW YORK (Reuters) - Verizon Communications Inc. &lt;A HREF=\"http://www.investor.reuters.com/FullQuote.aspx?ticker=VZ.N target=/stocks/quickinfo/fullquote\"&gt;VZ.N&lt;/A&gt; is  near an agreement to sell its Canadian telephone directory  business to private equity firm Bain Capital, the New York Post  said on Wednesday.\n",
      "Top10  9  NEW YORK (Reuters) - Hartford Financial Services Group Inc.  &lt;A HREF=\"http://www.investor.reuters.com/FullQuote.aspx?ticker=HIG.N target=/stocks/quickinfo/fullquote\"&gt;HIG.N&lt;/A&gt; on Tuesday became the latest insurer to issue a profit  warning tied to Hurricane Charley, the strongest storm to hit  Florida in a dozen years.\n",
      "Top10  10  NEW YORK (Reuters) - Intel Corp's &lt;A HREF=\"http://www.investor.reuters.com/FullQuote.aspx?ticker=INTC.O target=/stocks/quickinfo/fullquote\"&gt;INTC.O&lt;/A&gt; sharp cut in its  revenue outlook dragged down shares of personal computer makers  on Friday, on fears that the chipmaker's problems could signal  weak PC markets, analysts said.\n"
     ]
    }
   ],
   "source": [
    "# fill in your code...\n",
    "\n",
    "classes = ['1', '2', '3']\n",
    "preds_test_count = predict_proba(X_test_count, w_count)\n",
    "\n",
    "for i, j in enumerate(classes):\n",
    "    print(j)\n",
    "    loc = np.argsort(preds_test_count[:,i])\n",
    "    for i in range(10):\n",
    "        print('Top10 ',i+1, X_test_raw[loc[-1-i]])"
   ]
  },
  {
   "cell_type": "markdown",
   "metadata": {},
   "source": [
    "### Discuss how did you choose model hyperparameters (e.g. learning rate and regularisation strength)? What is the relation between training epochs and learning rate? How the regularisation strength affects performance?"
   ]
  },
  {
   "cell_type": "markdown",
   "metadata": {
    "ExecuteTime": {
     "end_time": "2020-02-15T14:16:19.856538Z",
     "start_time": "2020-02-15T14:16:19.852547Z"
    }
   },
   "source": [
    "Hyperparameter is usually selected very carefully, such as the learning rate, if the learning rate is too large, then the number of epochs will be reduced, which will lead to underfit, and if the learning rate is too small, then the model running time will increase significantly, the number of times Will increase, and easily lead to overfitting. And regularisation strength can prevent overfitting"
   ]
  },
  {
   "cell_type": "markdown",
   "metadata": {},
   "source": [
    "### Now evaluate BOW-tfidf..."
   ]
  },
  {
   "cell_type": "code",
   "execution_count": 56,
   "metadata": {},
   "outputs": [
    {
     "name": "stdout",
     "output_type": "stream",
     "text": [
      "Epoch times: 0, Training loss value: 1.4998864285763875, Validation loss: 1.543383154116402\n",
      "Epoch times: 1, Training loss value: 1.4079502215284012, Validation loss: 1.4842477447964726\n",
      "Epoch times: 2, Training loss value: 1.3289975594803753, Validation loss: 1.430842536811537\n",
      "Epoch times: 3, Training loss value: 1.2597706859562698, Validation loss: 1.3821638181611893\n",
      "Epoch times: 4, Training loss value: 1.1982967347252222, Validation loss: 1.3375472560316615\n",
      "Epoch times: 5, Training loss value: 1.1433385233902527, Validation loss: 1.296530859810561\n",
      "Epoch times: 6, Training loss value: 1.0939375216301928, Validation loss: 1.2586961797775928\n",
      "Epoch times: 7, Training loss value: 1.0493071427041658, Validation loss: 1.223700963102821\n",
      "Epoch times: 8, Training loss value: 1.0088375748974956, Validation loss: 1.1912795156419114\n",
      "Epoch times: 9, Training loss value: 0.9719948410701866, Validation loss: 1.1611589192543472\n",
      "Epoch times: 10, Training loss value: 0.9383255841377797, Validation loss: 1.1331131063067306\n",
      "Epoch times: 11, Training loss value: 0.9074416681418954, Validation loss: 1.1069418281995884\n",
      "Epoch times: 12, Training loss value: 0.8790247920823092, Validation loss: 1.0824676684894363\n",
      "Epoch times: 13, Training loss value: 0.8527833065829591, Validation loss: 1.0595308447733853\n",
      "Epoch times: 14, Training loss value: 0.8284696588512933, Validation loss: 1.037982381941669\n",
      "Epoch times: 15, Training loss value: 0.8058915324238898, Validation loss: 1.0177212373877333\n",
      "Epoch times: 16, Training loss value: 0.7848577723400704, Validation loss: 0.9986249091268686\n",
      "Epoch times: 17, Training loss value: 0.7652244163941242, Validation loss: 0.9806106402685439\n",
      "Epoch times: 18, Training loss value: 0.7468318443353336, Validation loss: 0.9635660502728622\n",
      "Epoch times: 19, Training loss value: 0.7295745566885755, Validation loss: 0.94742760426081\n",
      "Epoch times: 20, Training loss value: 0.7133451959678028, Validation loss: 0.9321235882014954\n",
      "Epoch times: 21, Training loss value: 0.6980539484876525, Validation loss: 0.9175913155714871\n",
      "Epoch times: 22, Training loss value: 0.683612466015096, Validation loss: 0.9037704411030777\n",
      "Epoch times: 23, Training loss value: 0.6699496736029611, Validation loss: 0.890606975846113\n",
      "Epoch times: 24, Training loss value: 0.6569981570407555, Validation loss: 0.8780528647302411\n",
      "Epoch times: 25, Training loss value: 0.6447042441917643, Validation loss: 0.8660704551657795\n",
      "Epoch times: 26, Training loss value: 0.6330161386304336, Validation loss: 0.854616256282906\n",
      "Epoch times: 27, Training loss value: 0.6218869202642089, Validation loss: 0.8436598283646898\n",
      "Epoch times: 28, Training loss value: 0.6112736832991509, Validation loss: 0.833163022998592\n",
      "Epoch times: 29, Training loss value: 0.601139401951409, Validation loss: 0.8231000140890127\n",
      "Epoch times: 30, Training loss value: 0.5914513786248766, Validation loss: 0.8134427182447312\n",
      "Epoch times: 31, Training loss value: 0.5821789911705817, Validation loss: 0.804167887237419\n",
      "Epoch times: 32, Training loss value: 0.5732925206560567, Validation loss: 0.7952505076103747\n",
      "Epoch times: 33, Training loss value: 0.5647655140124667, Validation loss: 0.7866666239189124\n",
      "Epoch times: 34, Training loss value: 0.5565767564610375, Validation loss: 0.7784012472572934\n",
      "Epoch times: 35, Training loss value: 0.5487057750255615, Validation loss: 0.7704360883741227\n",
      "Epoch times: 36, Training loss value: 0.5411319571840607, Validation loss: 0.7627523135433022\n",
      "Epoch times: 37, Training loss value: 0.5338361752234939, Validation loss: 0.7553390139653108\n",
      "Epoch times: 38, Training loss value: 0.5268035408258527, Validation loss: 0.7481775775153662\n",
      "Epoch times: 39, Training loss value: 0.5200192272603104, Validation loss: 0.7412578313970333\n",
      "Epoch times: 40, Training loss value: 0.5134685684854239, Validation loss: 0.73456683406252\n",
      "Epoch times: 41, Training loss value: 0.5071390843356129, Validation loss: 0.7280871711667718\n",
      "Epoch times: 42, Training loss value: 0.501016958096143, Validation loss: 0.7218096508781567\n",
      "Epoch times: 43, Training loss value: 0.49509360714045886, Validation loss: 0.7157288870767254\n",
      "Epoch times: 44, Training loss value: 0.48935776951629334, Validation loss: 0.7098389202839146\n",
      "Epoch times: 45, Training loss value: 0.4838006593775776, Validation loss: 0.7041273330847426\n",
      "Epoch times: 46, Training loss value: 0.47841198409015795, Validation loss: 0.6985817282172928\n",
      "Epoch times: 47, Training loss value: 0.47318463276716166, Validation loss: 0.6931984777985927\n",
      "Epoch times: 48, Training loss value: 0.468109383907855, Validation loss: 0.6879660457784632\n",
      "Epoch times: 49, Training loss value: 0.4631803225815443, Validation loss: 0.6828816430918565\n",
      "Epoch times: 50, Training loss value: 0.4583909484533268, Validation loss: 0.6779367934848003\n",
      "Epoch times: 51, Training loss value: 0.45373422194922863, Validation loss: 0.6731279384597897\n",
      "Epoch times: 52, Training loss value: 0.44920375783460875, Validation loss: 0.668449738393906\n",
      "Epoch times: 53, Training loss value: 0.4447948607619883, Validation loss: 0.663894882150336\n",
      "Epoch times: 54, Training loss value: 0.440500949810877, Validation loss: 0.659457606544021\n",
      "Epoch times: 55, Training loss value: 0.4363186697563718, Validation loss: 0.6551305872933915\n",
      "Epoch times: 56, Training loss value: 0.43224249217576005, Validation loss: 0.6509136543318825\n",
      "Epoch times: 57, Training loss value: 0.42826856381814316, Validation loss: 0.6468027697382172\n",
      "Epoch times: 58, Training loss value: 0.42439213715856833, Validation loss: 0.6427906443890017\n",
      "Epoch times: 59, Training loss value: 0.4206102832569638, Validation loss: 0.6388770017835361\n",
      "Epoch times: 60, Training loss value: 0.416917459519831, Validation loss: 0.6350541365031062\n",
      "Epoch times: 61, Training loss value: 0.4133116736109746, Validation loss: 0.6313249604659845\n",
      "Epoch times: 62, Training loss value: 0.40978917058199654, Validation loss: 0.6276796707826695\n",
      "Epoch times: 63, Training loss value: 0.4063465067401868, Validation loss: 0.6241173294727083\n",
      "Epoch times: 64, Training loss value: 0.40298158275963064, Validation loss: 0.6206381315667914\n",
      "Epoch times: 65, Training loss value: 0.39969071915315013, Validation loss: 0.6172350115372464\n",
      "Epoch times: 66, Training loss value: 0.39647203203169773, Validation loss: 0.613908886137385\n",
      "Epoch times: 67, Training loss value: 0.3933220235801159, Validation loss: 0.6106525863887837\n",
      "Epoch times: 68, Training loss value: 0.390238948856457, Validation loss: 0.6074668594287814\n",
      "Epoch times: 69, Training loss value: 0.38722026554251987, Validation loss: 0.6043482452531242\n",
      "Epoch times: 70, Training loss value: 0.38426350486944494, Validation loss: 0.6012923154716734\n",
      "Epoch times: 71, Training loss value: 0.38136713823629004, Validation loss: 0.5983041547008895\n",
      "Epoch times: 72, Training loss value: 0.37852909701587606, Validation loss: 0.5953785383840275\n",
      "Epoch times: 73, Training loss value: 0.3757470538030941, Validation loss: 0.592509663859984\n",
      "Epoch times: 74, Training loss value: 0.37301941885490114, Validation loss: 0.5896968695679015\n",
      "Epoch times: 75, Training loss value: 0.370344451553259, Validation loss: 0.5869408469491997\n",
      "Epoch times: 76, Training loss value: 0.3677207147992579, Validation loss: 0.5842395564613854\n",
      "Epoch times: 77, Training loss value: 0.3651459329028581, Validation loss: 0.5815846750132876\n",
      "Epoch times: 78, Training loss value: 0.36261925360303093, Validation loss: 0.5789826604352217\n",
      "Epoch times: 79, Training loss value: 0.36013919453998006, Validation loss: 0.5764321195471703\n",
      "Epoch times: 80, Training loss value: 0.35770409657228913, Validation loss: 0.5739294752468981\n",
      "Epoch times: 81, Training loss value: 0.355312511543147, Validation loss: 0.571474221012873\n",
      "Epoch times: 82, Training loss value: 0.35296331821647775, Validation loss: 0.569059870704168\n",
      "Epoch times: 83, Training loss value: 0.35065542255651005, Validation loss: 0.5666911069149801\n",
      "Epoch times: 84, Training loss value: 0.34838759735226826, Validation loss: 0.5643667662606251\n",
      "Epoch times: 85, Training loss value: 0.346158623371595, Validation loss: 0.5620814642066524\n",
      "Epoch times: 86, Training loss value: 0.3439672669684144, Validation loss: 0.5598378645843606\n",
      "Epoch times: 87, Training loss value: 0.34181272531770823, Validation loss: 0.5576332082797169\n"
     ]
    },
    {
     "name": "stdout",
     "output_type": "stream",
     "text": [
      "Epoch times: 88, Training loss value: 0.3396940080300522, Validation loss: 0.5554668941409533\n",
      "Epoch times: 89, Training loss value: 0.33761007067728604, Validation loss: 0.5533358793419051\n",
      "Epoch times: 90, Training loss value: 0.33555981859675493, Validation loss: 0.5512402335162184\n",
      "Epoch times: 91, Training loss value: 0.33354265975602393, Validation loss: 0.5491795105290911\n",
      "Epoch times: 92, Training loss value: 0.3315576789634805, Validation loss: 0.5471527678882872\n",
      "Epoch times: 93, Training loss value: 0.3296038903790837, Validation loss: 0.5451635183645163\n",
      "Epoch times: 94, Training loss value: 0.32768065167649735, Validation loss: 0.543204595093892\n",
      "Epoch times: 95, Training loss value: 0.32578685440802635, Validation loss: 0.5412741189135784\n",
      "Epoch times: 96, Training loss value: 0.32392191061818176, Validation loss: 0.539374003744537\n",
      "Epoch times: 97, Training loss value: 0.322085402041006, Validation loss: 0.537506567382286\n",
      "Epoch times: 98, Training loss value: 0.32027626936229936, Validation loss: 0.5356683140852905\n",
      "Epoch times: 99, Training loss value: 0.31849404411594245, Validation loss: 0.5338595675024105\n",
      "Epoch times: 100, Training loss value: 0.31673790565379356, Validation loss: 0.532077170878982\n",
      "Epoch times: 101, Training loss value: 0.3150073604731961, Validation loss: 0.5303221320981188\n",
      "Epoch times: 102, Training loss value: 0.3133017045971547, Validation loss: 0.5285939748605842\n",
      "Epoch times: 103, Training loss value: 0.31162032862409994, Validation loss: 0.5268917326508765\n",
      "Epoch times: 104, Training loss value: 0.30996272661887864, Validation loss: 0.5252160772766905\n",
      "Epoch times: 105, Training loss value: 0.30832859472211316, Validation loss: 0.5235644055745807\n",
      "Epoch times: 106, Training loss value: 0.3067170542381084, Validation loss: 0.5219344792004931\n",
      "Epoch times: 107, Training loss value: 0.3051277581359136, Validation loss: 0.5203312970651383\n",
      "Epoch times: 108, Training loss value: 0.3035600936117678, Validation loss: 0.5187504108412306\n",
      "Epoch times: 109, Training loss value: 0.30201373283169064, Validation loss: 0.5171912096993551\n",
      "Epoch times: 110, Training loss value: 0.30048811375002704, Validation loss: 0.515653370929109\n",
      "Epoch times: 111, Training loss value: 0.29898281687302586, Validation loss: 0.5141375171503093\n",
      "Epoch times: 112, Training loss value: 0.29749732842180243, Validation loss: 0.512643883011588\n",
      "Epoch times: 113, Training loss value: 0.29603123722492763, Validation loss: 0.5111701806999221\n",
      "Epoch times: 114, Training loss value: 0.2945842837017245, Validation loss: 0.509718456185163\n",
      "Epoch times: 115, Training loss value: 0.2931559134892196, Validation loss: 0.5082855469225784\n",
      "Epoch times: 116, Training loss value: 0.29174579723683197, Validation loss: 0.5068716295797648\n",
      "Epoch times: 117, Training loss value: 0.2903535079848691, Validation loss: 0.5054775624209421\n",
      "Epoch times: 118, Training loss value: 0.28897882983017925, Validation loss: 0.5040974442124813\n",
      "Epoch times: 119, Training loss value: 0.28762117334686627, Validation loss: 0.5027373411703813\n",
      "Epoch times: 120, Training loss value: 0.28628027552826396, Validation loss: 0.5013966960511187\n",
      "Epoch times: 121, Training loss value: 0.284955836987016, Validation loss: 0.5000732452620882\n",
      "Epoch times: 122, Training loss value: 0.28364746766954424, Validation loss: 0.4987677384259842\n",
      "Epoch times: 123, Training loss value: 0.282354967565047, Validation loss: 0.49747770013436104\n",
      "Epoch times: 124, Training loss value: 0.28107792913614976, Validation loss: 0.49620637605311296\n",
      "Epoch times: 125, Training loss value: 0.2798162058657116, Validation loss: 0.49494985501481514\n",
      "Epoch times: 126, Training loss value: 0.27856923651932214, Validation loss: 0.49370785998545297\n",
      "Epoch times: 127, Training loss value: 0.27733688256654837, Validation loss: 0.4924814812454007\n",
      "Epoch times: 128, Training loss value: 0.27611897883862757, Validation loss: 0.491272008175759\n",
      "Epoch times: 129, Training loss value: 0.274915125343316, Validation loss: 0.49007656595107774\n",
      "Epoch times: 130, Training loss value: 0.27372507707935406, Validation loss: 0.4888989627709379\n",
      "Epoch times: 131, Training loss value: 0.2725486618869778, Validation loss: 0.48773163686071097\n",
      "Epoch times: 132, Training loss value: 0.2713854918277006, Validation loss: 0.48657838488857846\n",
      "Epoch times: 133, Training loss value: 0.2702353926963148, Validation loss: 0.4854405565362446\n",
      "Epoch times: 134, Training loss value: 0.26909810852166355, Validation loss: 0.48431735355409733\n",
      "Epoch times: 135, Training loss value: 0.26797341943421366, Validation loss: 0.483205156861213\n",
      "Epoch times: 136, Training loss value: 0.26686111236126264, Validation loss: 0.48210563758352554\n",
      "Epoch times: 137, Training loss value: 0.26576096380157155, Validation loss: 0.4810204830420123\n",
      "Epoch times: 138, Training loss value: 0.2646727535703585, Validation loss: 0.4799453488357324\n",
      "Epoch times: 139, Training loss value: 0.26359627850377926, Validation loss: 0.4788851731138472\n",
      "Epoch times: 140, Training loss value: 0.2625313254683447, Validation loss: 0.47783687752746185\n",
      "Epoch times: 141, Training loss value: 0.2614776745360141, Validation loss: 0.47680067787515873\n",
      "Epoch times: 142, Training loss value: 0.2604351547482261, Validation loss: 0.47577637599511774\n",
      "Epoch times: 143, Training loss value: 0.2594036280993426, Validation loss: 0.4747620402546725\n",
      "Epoch times: 144, Training loss value: 0.25838282964506937, Validation loss: 0.47376004279864514\n",
      "Epoch times: 145, Training loss value: 0.25737259767655324, Validation loss: 0.472769407407139\n"
     ]
    }
   ],
   "source": [
    "w_tfidf, trl, devl = SGD(X_tr_tfidf, Y_tr, \n",
    "                         X_dev=X_dev_tfidf, \n",
    "                         Y_dev=Y_dev, \n",
    "                         lr=0.0001, \n",
    "                         alpha=0.001, \n",
    "                         epochs=200)"
   ]
  },
  {
   "cell_type": "code",
   "execution_count": 57,
   "metadata": {},
   "outputs": [
    {
     "data": {
      "text/plain": [
       "<matplotlib.legend.Legend at 0x2128a66da88>"
      ]
     },
     "execution_count": 57,
     "metadata": {},
     "output_type": "execute_result"
    },
    {
     "data": {
      "image/png": "[encoded data removed]",
      "text/plain": [
       "<Figure size 432x288 with 1 Axes>"
      ]
     },
     "metadata": {
      "needs_background": "light"
     },
     "output_type": "display_data"
    }
   ],
   "source": [
    "plt.plot(range(len(trl)), trl, color = 'blue', label='training loss')\n",
    "plt.plot(range(len(devl)), devl,color= 'red', label = 'validation loss', )\n",
    "plt.xlabel('Epoch times')\n",
    "plt.ylabel('Loss value')\n",
    "plt.legend()"
   ]
  },
  {
   "cell_type": "markdown",
   "metadata": {},
   "source": [
    "this model is also overfit, because the training loss is lower than the validation loss"
   ]
  },
  {
   "cell_type": "code",
   "execution_count": 58,
   "metadata": {},
   "outputs": [
    {
     "name": "stdout",
     "output_type": "stream",
     "text": [
      "Accuracy: 0.88\n",
      "Precision: 0.881547680555811\n",
      "Recall: 0.8799999999999999\n",
      "F1-Score: 0.8793734034496704\n"
     ]
    }
   ],
   "source": [
    "preds_te = predict_class(X_test_tfidf, w_tfidf)\n",
    "print('Accuracy:', accuracy_score(Y_te,preds_te))\n",
    "print('Precision:', precision_score(Y_te,preds_te,average='macro'))\n",
    "print('Recall:', recall_score(Y_te,preds_te,average='macro'))\n",
    "print('F1-Score:', f1_score(Y_te,preds_te,average='macro'))"
   ]
  },
  {
   "cell_type": "code",
   "execution_count": 59,
   "metadata": {},
   "outputs": [
    {
     "name": "stdout",
     "output_type": "stream",
     "text": [
      "1\n",
      "Top10  1 NAJAF, Iraq - Iraq's most powerful Shiite cleric returned home from Britain on Wednesday to help broker an end to nearly three weeks of fighting in Najaf and is calling on his followers to join him in a march to reclaim the holy city, his spokesmen and witnesses said.    Grand Ayatollah Ali Husseini al-Sistani return came as heavy fighting persisted in Najaf's Old City...\n",
      "Top10  2 BAGHDAD, Iraq - Rebel Shiite cleric Muqtada al-Sadr called for his followers across Iraq to end fighting against U.S. and Iraqi forces and is planning to join the political process in the coming days, an al-Sadr aide said Monday...\n",
      "Top10  3 NAJAF, Iraq - Militants loyal to radical Shiite cleric Muqtada al-Sadr kept their hold on a revered shrine, and clashes flared in Najaf on Saturday, raising fears that a resolution to the crisis in the holy city could collapse amid bickering between Shiite leaders.    The clashes between U.S...\n",
      "Top10  4 BAGHDAD, Iraq - Delegates at Iraq's National Conference called on radical Shiite cleric Muqtada al-Sadr to abandon his uprising against U.S. and Iraqi troops and pull his fighters out of a holy shrine in Najaf...\n",
      "Top10  5  NAJAF, Iraq (Reuters) - A mortar attack on a packed mosque  in the town of Kufa on Thursday killed at least 25 people as  Iraq's most influential Shi'ite cleric headed to the nearby  holy city of Najaf to try to end a bloody three-week uprising.\n",
      "Top10  6 AFP - Democratic White House hopeful Senator John Kerry warned that President George W. Bush's plan to withdraw 70,000 troops from Europe and Asia would hinder the war on terrorism and embolden North Korea.\n",
      "Top10  7 US forces and radical Shiite cleric Muqtada al-Sadr #39;s militia battled Saturday in Baghdad even as the truce that ended the bloody fighting between US-Iraqi troops and the militia forces in Najaf held for a second day.\n",
      "Top10  8  NAJAF, Iraq (Reuters) - Rebel Shi'ite fighters appeared  still to be in control of the Imam Ali mosque in the Iraqi city  Najaf early on Saturday, but the whereabouts of their leader,  the fiery cleric Moqtada al-Sadr, were unknown.\n",
      "Top10  9 US and Iraqi forces battled militants in Najaf on Tuesday and Iraqi National Guardsmen advanced to within 200 yards of the holy city #39;s Imam Ali Shrine compound, where insurgents loyal to radical cleric Muqtada al-Sadr have been holed up for weeks.\n",
      "Top10  10 AFP - Georgian and South Ossetian forces overnight accused each other of trying to storm the other side's positions in Georgia's breakaway region of South Ossetia, as four Georgian soldiers were reported to be wounded.\n",
      "2\n",
      "Top10  1  ATHENS (Reuters) - The U.S. women's basketball team showed  their men how to win gold Saturday as around 70,000 spectators  flocked to the Olympic stadium for a hectic athletics program  on the penultimate night of the Athens Games.\n",
      "Top10  2 Athens, Greece (Sports Network) - Wednesday night it was Paul Hamm #39;s turn to shine for the United States, as he won the gold medal in the men #39;s all-around competition. Will Thursday produce a sweep for the US at the Olympics? ...\n",
      "Top10  3  ATHENS (Reuters) - The U.S. men's basketball team was  beaten by Argentina Friday, denying it an Olympic gold medal  for the first time since 1992 when NBA players started  competing.\n",
      "Top10  4 Andruw Jones hit a two-run homer off Trevor Hoffman in the ninth inning and the Atlanta Braves threw out the potential tying run at the plate for the final out Wednesday night, preserving a 6-5 come-from-behind win over the San Diego Padres. \n",
      "Top10  5  ATHENS (Reuters) - World 100 meters champion Torri Edwards  will miss the Athens Olympics after her appeal against a  two-year drugs ban was dismissed on Tuesday, a source told  Reuters.\n",
      "Top10  6 Heather O #39;Reilly, minutes after missing a wide open net, scored in the ninth minute of overtime Monday to give the United States a 2-1 victory over World Cup champion Germany and a place in Thursday #39;s gold-medal game.\n",
      "Top10  7 ATHENS, Greece - Right now, the Americans aren't just a Dream Team - they're more like the Perfect Team. Lisa Fernandez pitched a three-hitter Sunday and Crystl Bustos drove in two runs as the Americans rolled to their eighth shutout in eight days, 5-0 over Australia, putting them into the gold medal game...\n",
      "Top10  8 -- The United States men #39;s basketball team capped off a big day for the USA by fighting off Greece for a vital win, 77-71.  quot;They played with heart, quot; said Coach Larry Brown.  quot;That #39;s all you can ask. quot; ...\n",
      "Top10  9 AP - Manny Ramirez and David Ortiz homered on consecutive pitches to start the eighth inning Sunday night and the streaking Boston Red Sox beat the Chicago White Sox 6-5 for their sixth straight win.\n",
      "Top10  10  ATHENS (Reuters) - Hungarian Olympic discus champion Robert  Fazekas will lose his gold medal and be expelled from the Games  after breaking doping rules, the International Olympic  Committee (IOC) said Tuesday.\n",
      "3\n",
      "Top10  1  NEW YORK (Reuters) - Retailer Kmart Holdings Corp. &lt;A HREF=\"http://www.investor.reuters.com/FullQuote.aspx?ticker=KMRT.O target=/stocks/quickinfo/fullquote\"&gt;KMRT.O&lt;/A&gt;  on Monday said it finalized a deal to sell 18 of its stores to  Home Depot Inc. &lt;A HREF=\"http://www.investor.reuters.com/FullQuote.aspx?ticker=HD.N target=/stocks/quickinfo/fullquote\"&gt;HD.N&lt;/A&gt; for \\$271 million.\n",
      "Top10  2  BRUSSELS/SAO PAULO (Reuters) - Shareholders gave their  blessing on Friday for Belgium's Interbrew &lt;A HREF=\"http://www.investor.reuters.com/FullQuote.aspx?ticker=INTB.BR target=/stocks/quickinfo/fullquote\"&gt;INTB.BR&lt;/A&gt; to buy  Brazil's AmBev &lt;A HREF=\"http://www.investor.reuters.com/FullQuote.aspx?ticker=AMBV4.SA target=/stocks/quickinfo/fullquote\"&gt;AMBV4.SA&lt;/A&gt;&lt;ABV.N&gt; in a \\$9.7 billion deal that  will create the world's largest brewer.\n",
      "Top10  3  &lt;A HREF=\"http://www.investor.reuters.com/FullQuote.aspx?ticker=RSE.N target=/stocks/quickinfo/fullquote\"&gt;RSE.N&lt;/A&gt; jumped before the bell after General Growth  Properties Inc. &lt;A HREF=\"http://www.investor.reuters.com/FullQuote.aspx?ticker=GGP.N target=/stocks/quickinfo/fullquote\"&gt;GGP.N&lt;/A&gt;, the No. 2 U.S. shopping mall owner, on  Friday said it would buy Rouse for \\$7.2 billion.\n",
      "Top10  4  NEW YORK (Reuters) - BlackRock Inc. &lt;A HREF=\"http://www.investor.reuters.com/FullQuote.aspx?ticker=BLK.N target=/stocks/quickinfo/fullquote\"&gt;BLK.N&lt;/A&gt;, one of the  largest U.S. fixed income managers, on Thursday said it will  buy its far smaller competitor State Street Research    Management Co., marking the biggest takeover in the asset  management business this year.\n",
      "Top10  5  NEW YORK (Reuters) - Staples Inc. &lt;A HREF=\"http://www.investor.reuters.com/FullQuote.aspx?ticker=SPLS.O target=/stocks/quickinfo/fullquote\"&gt;SPLS.O&lt;/A&gt;, the top U.S.  office products retailer, on Tuesday reported a 39 percent jump  in quarterly profit, raised its full-year forecast and said it  plans to enter the fast-growing Chinese market, sending its  shares higher.\n",
      "Top10  6  NEW YORK (Reuters) - Colgate-Palmolive Co. &lt;A HREF=\"http://www.investor.reuters.com/FullQuote.aspx?ticker=CL.N target=/stocks/quickinfo/fullquote\"&gt;CL.N&lt;/A&gt; will cut  about 4,400 jobs, or 12 percent of its work force, and close  nearly a third of its factories under a restructuring, the  consumer products company said on Tuesday.\n",
      "Top10  7  CHICAGO (Reuters) - Medtronic Inc. &lt;A HREF=\"http://www.investor.reuters.com/FullQuote.aspx?ticker=MDT.N target=/stocks/quickinfo/fullquote\"&gt;MDT.N&lt;/A&gt; on Wednesday  said its quarterly earnings rose amid brisk demand for devices  that manage irregular heart beats and products used to treat  the spine.\n",
      "Top10  8  CHICAGO (Reuters) - Medtronic Inc. &lt;A HREF=\"http://www.investor.reuters.com/FullQuote.aspx?ticker=MDT.N target=/stocks/quickinfo/fullquote\"&gt;MDT.N&lt;/A&gt; on Wednesday  said its quarterly earnings rose on brisk demand for devices  that manage irregular heart beats and products used to treat  the spine.\n",
      "Top10  9  NEW YORK (Reuters) - Verizon Communications Inc. &lt;A HREF=\"http://www.investor.reuters.com/FullQuote.aspx?ticker=VZ.N target=/stocks/quickinfo/fullquote\"&gt;VZ.N&lt;/A&gt; is  near an agreement to sell its Canadian telephone directory  business to private equity firm Bain Capital, the New York Post  said on Wednesday.\n",
      "Top10  10 NEW YORK, August 26 (New Ratings) - BlackRock Inc (BLK.NYS), a leading US-based fixed-income asset management company, has reportedly agreed to buy State Street Research  amp; Management Company, a unit of MetLife Inc, for \\$375 million in a cash and stock \n"
     ]
    }
   ],
   "source": [
    "classes = ['1', '2', '3']\n",
    "pred_test_tfidf = predict_proba(X_test_tfidf, w_tfidf)\n",
    "\n",
    "for i, j in enumerate(classes):\n",
    "    print(j)\n",
    "    loc = np.argsort(pred_test_tfidf[:,i])\n",
    "    for i in range(10):\n",
    "        print('Top10 ',i+1, X_test_raw[loc[-1-i]])"
   ]
  },
  {
   "cell_type": "markdown",
   "metadata": {
    "ExecuteTime": {
     "end_time": "2020-02-15T14:16:42.567569Z",
     "start_time": "2020-02-15T14:16:42.562560Z"
    }
   },
   "source": [
    "## Full Results\n",
    "\n",
    "Add here your results:\n",
    "\n",
    "| LR | Precision  | Recall  | F1-Score  |\n",
    "|:-:|:-:|:-:|:-:|\n",
    "| BOW-count  |0.8545592790763165   |0.8522222222222222   |0.8514022251643323   |\n",
    "| BOW-tfidf  |0.881547680555811   |0.8799999999999999   |0.8793734034496704   |\n"
   ]
  }
 ],
 "metadata": {
  "kernelspec": {
   "display_name": "Python 3",
   "language": "python",
   "name": "python3"
  },
  "language_info": {
   "codemirror_mode": {
    "name": "ipython",
    "version": 3
   },
   "file_extension": ".py",
   "mimetype": "text/x-python",
   "name": "python",
   "nbconvert_exporter": "python",
   "pygments_lexer": "ipython3",
   "version": "3.7.4"
  }
 },
 "nbformat": 4,
 "nbformat_minor": 2
}
