{
 "cells": [
  {
   "cell_type": "markdown",
   "metadata": {},
   "source": [
    "# [COM4513-6513] Assignment 1: Text Classification with Logistic Regression\n",
    "\n",
    "### Instructor: Nikos Aletras\n",
    "\n",
    "\n",
    "The goal of this assignment is to develop and test two text classification systems: \n",
    "\n",
    "- **Task 1:** sentiment analysis, in particular to predict the sentiment of movie review, i.e. positive or negative (binary classification).\n",
    "- **Task 2:** topic classification, to predict whether a news article is about International issues, Sports or Business (multiclass classification).\n",
    "\n",
    "\n",
    "For that purpose, you will implement:\n",
    "\n",
    "- Text processing methods for extracting Bag-Of-Word features, using (1) unigrams, bigrams and trigrams to obtain vector representations of documents. Two vector weighting schemes should be tested: (1) raw frequencies (**3 marks; 1 for each ngram type**); (2) tf.idf (**1 marks**). \n",
    "- Binary Logistic Regression classifiers that will be able to accurately classify movie reviews trained with (1) BOW-count (raw frequencies); and (2) BOW-tfidf (tf.idf weighted) for Task 1. \n",
    "- Multiclass Logistic Regression classifiers that will be able to accurately classify news articles trained with (1) BOW-count (raw frequencies); and (2) BOW-tfidf (tf.idf weighted) for Task 2. \n",
    "- The Stochastic Gradient Descent (SGD) algorithm to estimate the parameters of your Logistic Regression models. Your SGD algorithm should:\n",
    "    - Minimise the Binary Cross-entropy loss function for Task 1 (**3 marks**)\n",
    "    - Minimise the Categorical Cross-entropy loss function for Task 2 (**3 marks**)\n",
    "    - Use L2 regularisation (both tasks) (**1 mark**)\n",
    "    - Perform multiple passes (epochs) over the training data (**1 mark**)\n",
    "    - Randomise the order of training data after each pass (**1 mark**)\n",
    "    - Stop training if the difference between the current and previous validation loss is smaller than a threshold (**1 mark**)\n",
    "    - After each epoch print the training and development loss (**1 mark**)\n",
    "- Discuss how did you choose hyperparameters (e.g. learning rate and regularisation strength)?  (**2 marks; 0.5 for each model in each task**).\n",
    "- After training the LR models, plot the learning process (i.e. training and validation loss in each epoch) using a line plot (**1 mark; 0.5 for both BOW-count and BOW-tfidf LR models in each task**) and discuss if your model overfits/underfits/is about right.\n",
    "- Model interpretability by showing the most important features for each class (i.e. most positive/negative weights). Give the top 10 for each class and comment on whether they make sense (if they don't you might have a bug!).  If we were to apply the classifier we've learned into a different domain such laptop reviews or restaurant reviews, do you think these features would generalise well? Can you propose what features the classifier could pick up as important in the new domain? (**2 marks; 0.5 for BOW-count and BOW-tfidf LR models respectively in each task**)\n",
    "\n",
    "\n",
    "### Data - Task 1 \n",
    "\n",
    "The data you will use for Task 1 are taken from here: [http://www.cs.cornell.edu/people/pabo/movie-review-data/](http://www.cs.cornell.edu/people/pabo/movie-review-data/) and you can find it in the `./data_sentiment` folder in CSV format:\n",
    "\n",
    "- `data_sentiment/train.csv`: contains 1,400 reviews, 700 positive (label: 1) and 700 negative (label: 0) to be used for training.\n",
    "- `data_sentiment/dev.csv`: contains 200 reviews, 100 positive and 100 negative to be used for hyperparameter selection and monitoring the training process.\n",
    "- `data_sentiment/test.csv`: contains 400 reviews, 200 positive and 200 negative to be used for testing.\n",
    "\n",
    "### Data - Task 2\n",
    "\n",
    "The data you will use for Task 2 is a subset of the [AG News Corpus](http://groups.di.unipi.it/~gulli/AG_corpus_of_news_articles.html) and you can find it in the `./data_topic` folder in CSV format:\n",
    "\n",
    "- `data_topic/train.csv`: contains 2,400 news articles, 800 for each class to be used for training.\n",
    "- `data_topic/dev.csv`: contains 150 news articles, 50 for each class to be used for hyperparameter selection and monitoring the training process.\n",
    "- `data_topic/test.csv`: contains 900 news articles, 300 for each class to be used for testing.\n",
    "\n",
    "\n",
    "### Submission Instructions\n",
    "\n",
    "You should submit a Jupyter Notebook file (assignment1.ipynb) and an exported PDF version (you can do it from Jupyter: `File->Download as->PDF via Latex`).\n",
    "\n",
    "You are advised to follow the code structure given in this notebook by completing all given funtions. You can also write any auxilliary/helper functions (and arguments for the functions) that you might need but note that you can provide a full solution without any such functions. Similarly, you can just use only the packages imported below but you are free to use any functionality from the [Python Standard Library](https://docs.python.org/2/library/index.html), NumPy, SciPy and Pandas. You are not allowed to use any third-party library such as Scikit-learn (apart from metric functions already provided), NLTK, Spacy, Keras etc..\n",
    "\n",
    "Please make sure to comment your code. You should also mention if you've used Windows (not recommended) to write and test your code. There is no single correct answer on what your accuracy should be, but correct implementations usually achieve F1-scores around 80\\% or higher. The quality of the analysis of the results is as important as the accuracy itself. \n",
    "\n",
    "This assignment will be marked out of 20. It is worth 20\\% of your final grade in the module.\n",
    "\n",
    "The deadline for this assignment is **23:59 on Fri, 20 Mar 2020** and it needs to be submitted via MOLE. Standard departmental penalties for lateness will be applied. We use a range of strategies to detect [unfair means](https://www.sheffield.ac.uk/ssid/unfair-means/index), including Turnitin which helps detect plagiarism, so make sure you do not plagiarise.\n",
    "\n"
   ]
  },
  {
   "cell_type": "code",
   "execution_count": 1,
   "metadata": {
    "ExecuteTime": {
     "end_time": "2020-02-15T14:31:36.292691Z",
     "start_time": "2020-02-15T14:31:35.549108Z"
    }
   },
   "outputs": [],
   "source": [
    "import pandas as pd\n",
    "import numpy as np\n",
    "import re\n",
    "import matplotlib.pyplot as plt\n",
    "from sklearn.metrics import accuracy_score, precision_score, recall_score, f1_score\n",
    "import random\n",
    "\n",
    "# fixing random seed for reproducibility\n",
    "random.seed(123)\n",
    "np.random.seed(123)\n"
   ]
  },
  {
   "cell_type": "markdown",
   "metadata": {},
   "source": [
    "## Load Raw texts and labels into arrays\n",
    "\n",
    "First, you need to load the training, development and test sets from their corresponding CSV files (tip: you can use Pandas dataframes)."
   ]
  },
  {
   "cell_type": "code",
   "execution_count": 2,
   "metadata": {
    "ExecuteTime": {
     "end_time": "2020-02-15T14:17:28.145788Z",
     "start_time": "2020-02-15T14:17:28.066100Z"
    }
   },
   "outputs": [],
   "source": [
    "data_tr=pd.read_csv('./data_sentiment/train.csv',names=[\"text\",\"label\"])\n",
    "data_dev = pd.read_csv('./data_sentiment/dev.csv', names=[\"text\",\"label\"])\n",
    "data_te = pd.read_csv('./data_sentiment/test.csv', names=[\"text\",\"label\"])\n"
   ]
  },
  {
   "cell_type": "markdown",
   "metadata": {},
   "source": [
    "If you use Pandas you can see a sample of the data."
   ]
  },
  {
   "cell_type": "code",
   "execution_count": 3,
   "metadata": {
    "ExecuteTime": {
     "end_time": "2020-02-15T14:17:28.900892Z",
     "start_time": "2020-02-15T14:17:28.891221Z"
    }
   },
   "outputs": [
    {
     "data": {
      "text/html": [
       "<div>\n",
       "<style scoped>\n",
       "    .dataframe tbody tr th:only-of-type {\n",
       "        vertical-align: middle;\n",
       "    }\n",
       "\n",
       "    .dataframe tbody tr th {\n",
       "        vertical-align: top;\n",
       "    }\n",
       "\n",
       "    .dataframe thead th {\n",
       "        text-align: right;\n",
       "    }\n",
       "</style>\n",
       "<table border=\"1\" class=\"dataframe\">\n",
       "  <thead>\n",
       "    <tr style=\"text-align: right;\">\n",
       "      <th></th>\n",
       "      <th>text</th>\n",
       "      <th>label</th>\n",
       "    </tr>\n",
       "  </thead>\n",
       "  <tbody>\n",
       "    <tr>\n",
       "      <td>0</td>\n",
       "      <td>note : some may consider portions of the follo...</td>\n",
       "      <td>1</td>\n",
       "    </tr>\n",
       "    <tr>\n",
       "      <td>1</td>\n",
       "      <td>note : some may consider portions of the follo...</td>\n",
       "      <td>1</td>\n",
       "    </tr>\n",
       "    <tr>\n",
       "      <td>2</td>\n",
       "      <td>every once in a while you see a film that is s...</td>\n",
       "      <td>1</td>\n",
       "    </tr>\n",
       "    <tr>\n",
       "      <td>3</td>\n",
       "      <td>when i was growing up in 1970s , boys in my sc...</td>\n",
       "      <td>1</td>\n",
       "    </tr>\n",
       "    <tr>\n",
       "      <td>4</td>\n",
       "      <td>the muppet movie is the first , and the best m...</td>\n",
       "      <td>1</td>\n",
       "    </tr>\n",
       "  </tbody>\n",
       "</table>\n",
       "</div>"
      ],
      "text/plain": [
       "                                                text  label\n",
       "0  note : some may consider portions of the follo...      1\n",
       "1  note : some may consider portions of the follo...      1\n",
       "2  every once in a while you see a film that is s...      1\n",
       "3  when i was growing up in 1970s , boys in my sc...      1\n",
       "4  the muppet movie is the first , and the best m...      1"
      ]
     },
     "execution_count": 3,
     "metadata": {},
     "output_type": "execute_result"
    }
   ],
   "source": [
    "data_tr.head()"
   ]
  },
  {
   "cell_type": "markdown",
   "metadata": {},
   "source": [
    "The next step is to put the raw texts into Python lists and their corresponding labels into NumPy arrays:\n"
   ]
  },
  {
   "cell_type": "code",
   "execution_count": 4,
   "metadata": {
    "ExecuteTime": {
     "end_time": "2020-02-15T14:17:31.115577Z",
     "start_time": "2020-02-15T14:17:31.108038Z"
    }
   },
   "outputs": [],
   "source": [
    "# fill in your code...\n",
    "# put all 3 file into lists and array\n",
    "X_tr_raw = data_tr['text'].tolist() #DataFrame to python list\n",
    "Y_tr = data_tr['label'].values # DataFrame to numpy arrays\n",
    "\n",
    "X_dev_raw = data_dev['text'].tolist()\n",
    "Y_dev = data_dev['label'].values\n",
    "\n",
    "X_test_raw = data_te['text'].tolist()\n",
    "Y_te = data_te['label'].values  "
   ]
  },
  {
   "cell_type": "markdown",
   "metadata": {},
   "source": [
    "# Bag-of-Words Representation \n",
    "\n",
    "\n",
    "To train and test Logisitc Regression models, you first need to obtain vector representations for all documents given a vocabulary of features (unigrams, bigrams, trigrams).\n",
    "\n",
    "\n",
    "## Text Pre-Processing Pipeline\n",
    "\n",
    "To obtain a vocabulary of features, you should: \n",
    "- tokenise all texts into a list of unigrams (tip: using a regular expression) \n",
    "- remove stop words (using the one provided or one of your preference) \n",
    "- compute bigrams, trigrams given the remaining unigrams\n",
    "- remove ngrams appearing in less than K documents\n",
    "- use the remaining to create a vocabulary of unigrams, bigrams and trigrams (you can keep top N if you encounter memory issues).\n"
   ]
  },
  {
   "cell_type": "code",
   "execution_count": 2,
   "metadata": {
    "ExecuteTime": {
     "end_time": "2020-02-15T14:17:31.860420Z",
     "start_time": "2020-02-15T14:17:31.855439Z"
    }
   },
   "outputs": [],
   "source": [
    "stop_words = ['a','in','on','at','and','or', \n",
    "              'to', 'the', 'of', 'an', 'by', \n",
    "              'as', 'is', 'was', 'were', 'been', 'be', \n",
    "              'are','for', 'this', 'that', 'these', 'those', 'you', 'i',\n",
    "             'it', 'he', 'she', 'we', 'they' 'will', 'have', 'has',\n",
    "              'do', 'did', 'can', 'could', 'who', 'which', 'what', \n",
    "             'his', 'her', 'they', 'them', 'from', 'with', 'its']"
   ]
  },
  {
   "cell_type": "markdown",
   "metadata": {},
   "source": [
    "### N-gram extraction from a document\n",
    "\n",
    "You first need to implement the `extract_ngrams` function. It takes as input:\n",
    "- `x_raw`: a string corresponding to the raw text of a document\n",
    "- `ngram_range`: a tuple of two integers denoting the type of ngrams you want to extract, e.g. (1,2) denotes extracting unigrams and bigrams.\n",
    "- `token_pattern`: a string to be used within a regular expression to extract all tokens. Note that data is already tokenised so you could opt for a simple white space tokenisation.\n",
    "- `stop_words`: a list of stop words\n",
    "- `vocab`: a given vocabulary. It should be used to extract specific features.\n",
    "\n",
    "and returns:\n",
    "\n",
    "- a list of all extracted features.\n",
    "\n",
    "See the examples below to see how this function should work."
   ]
  },
  {
   "cell_type": "code",
   "execution_count": 3,
   "metadata": {
    "ExecuteTime": {
     "end_time": "2020-02-15T14:17:33.169090Z",
     "start_time": "2020-02-15T14:17:33.161268Z"
    }
   },
   "outputs": [],
   "source": [
    "def extract_ngrams(x_raw, ngram_range=(1,3), token_pattern=r'\\b[A-Za-z][A-Za-z]+\\b', stop_words=[], vocab=set()):\n",
    "    x = []\n",
    "    # Regular expression\n",
    "    pattern = re.compile(token_pattern).findall(x_raw.lower())    \n",
    "    # Get words without stop word\n",
    "    unigram = [word for word in pattern if word not in stop_words and re.match(token_pattern, word)] \n",
    "    # generate 3 types ngrams\n",
    "    for n in range(ngram_range[0], ngram_range[1]+1):\n",
    "        if n == 1:\n",
    "            x.extend(unigram)\n",
    "        elif n == 2:\n",
    "            x.extend([(word1, word2) for word1, word2 in zip(unigram[:-1], unigram[1:])])\n",
    "        elif n == 3:\n",
    "            x.extend([(word1, word2, word3) for word1, word2, word3 in zip(unigram[:-2], unigram[1:-1], unigram[2:])])\n",
    "        if len(vocab) != 0:\n",
    "            x = [w for w in x if w in vocab]        \n",
    "    return x\n",
    "    \n",
    "    # fill in your code...\n",
    "\n",
    "\n"
   ]
  },
  {
   "cell_type": "code",
   "execution_count": 7,
   "metadata": {
    "ExecuteTime": {
     "end_time": "2020-02-15T14:17:33.680114Z",
     "start_time": "2020-02-15T14:17:33.675339Z"
    }
   },
   "outputs": [
    {
     "data": {
      "text/plain": [
       "['great',\n",
       " 'movie',\n",
       " 'watch',\n",
       " ('great', 'movie'),\n",
       " ('movie', 'watch'),\n",
       " ('great', 'movie', 'watch')]"
      ]
     },
     "execution_count": 7,
     "metadata": {},
     "output_type": "execute_result"
    }
   ],
   "source": [
    "extract_ngrams(\"this is a great movie to watch\", \n",
    "               ngram_range=(1,3), \n",
    "               stop_words=stop_words)"
   ]
  },
  {
   "cell_type": "code",
   "execution_count": 8,
   "metadata": {
    "ExecuteTime": {
     "end_time": "2020-02-15T14:17:34.278189Z",
     "start_time": "2020-02-15T14:17:34.273722Z"
    }
   },
   "outputs": [
    {
     "data": {
      "text/plain": [
       "['great', ('great', 'movie')]"
      ]
     },
     "execution_count": 8,
     "metadata": {},
     "output_type": "execute_result"
    }
   ],
   "source": [
    "extract_ngrams(\"this is a great movie to watch\", \n",
    "               ngram_range=(1,2), \n",
    "               stop_words=stop_words, \n",
    "               vocab=set(['great',  ('great','movie')]))"
   ]
  },
  {
   "cell_type": "markdown",
   "metadata": {},
   "source": [
    "Note that it is OK to represent n-grams using lists instead of tuples: e.g. `['great', ['great', 'movie']]`"
   ]
  },
  {
   "cell_type": "markdown",
   "metadata": {},
   "source": [
    "### Create a vocabulary of n-grams\n",
    "\n",
    "Then the `get_vocab` function will be used to (1) create a vocabulary of ngrams; (2) count the document frequencies of ngrams; (3) their raw frequency. It takes as input:\n",
    "- `X_raw`: a list of strings each corresponding to the raw text of a document\n",
    "- `ngram_range`: a tuple of two integers denoting the type of ngrams you want to extract, e.g. (1,2) denotes extracting unigrams and bigrams.\n",
    "- `token_pattern`: a string to be used within a regular expression to extract all tokens. Note that data is already tokenised so you could opt for a simple white space tokenisation.\n",
    "- `stop_words`: a list of stop words\n",
    "- `vocab`: a given vocabulary. It should be used to extract specific features.\n",
    "- `min_df`: keep ngrams with a minimum document frequency.\n",
    "- `keep_topN`: keep top-N more frequent ngrams.\n",
    "\n",
    "and returns:\n",
    "\n",
    "- `vocab`: a set of the n-grams that will be used as features.\n",
    "- `df`: a Counter (or dict) that contains ngrams as keys and their corresponding document frequency as values.\n",
    "- `ngram_counts`: counts of each ngram in vocab\n",
    "\n",
    "Hint: it should make use of the `extract_ngrams` function."
   ]
  },
  {
   "cell_type": "code",
   "execution_count": 4,
   "metadata": {
    "ExecuteTime": {
     "end_time": "2020-02-15T14:17:35.821240Z",
     "start_time": "2020-02-15T14:17:35.814722Z"
    }
   },
   "outputs": [],
   "source": [
    "from collections import Counter\n",
    "\n",
    "def get_vocab(X_raw, ngram_range=(1,3), token_pattern=r'\\b[A-Za-z][A-Za-z]+\\b', min_df=0, keep_topN=0, stop_words=[]):\n",
    "    grams = []\n",
    "    for x in X_raw:\n",
    "          grams.extend(set(extract_ngrams(x, ngram_range, token_pattern, stop_words))) # get n-grams vocabulary list\n",
    "    df_grams = Counter(grams)\n",
    "    for key in df_grams.keys(): # if df value is smaller than required value, delete the element\n",
    "        if df_grams[key] < min_df:\n",
    "            del df_grams[key]\n",
    "    # get top N occur times in df\n",
    "    ngram_counts = df_grams.most_common(keep_topN) \n",
    "    # get word in ngram counts\n",
    "    vocab = set([word[0] for word in ngram_counts])\n",
    "    \n",
    "    # fill in your code...\n",
    "    \n",
    "    \n",
    "    return vocab, df_grams, ngram_counts"
   ]
  },
  {
   "cell_type": "markdown",
   "metadata": {},
   "source": [
    "Now you should use `get_vocab` to create your vocabulary and get document and raw frequencies of n-grams:"
   ]
  },
  {
   "cell_type": "code",
   "execution_count": 10,
   "metadata": {
    "ExecuteTime": {
     "end_time": "2020-02-15T14:17:39.319793Z",
     "start_time": "2020-02-15T14:17:36.836545Z"
    }
   },
   "outputs": [
    {
     "name": "stdout",
     "output_type": "stream",
     "text": [
      "5000\n",
      "\n",
      "['moment', ('one', 'movie'), 'hopefully', 'kinds', 'couldn', ('good', 'guys'), 'land', 'guy', ('title', 'character'), ('things', 'up'), 'stronger', 'underneath', 'asking', ('many', 'people'), 'currently', 'craig', 'related', ('larger', 'than'), 'comic', 'craft', 'cat', 'purely', 'hanks', 'noticeable', 'empty', 'decision', 'beating', 'angel', 'penned', 'notes', 'wayne', 'flash', 'began', 'rebecca', 'wood', 'science', ('how', 'much'), 'paint', 'millions', 'equivalent', ('but', 'certainly'), 'laid', 'cinematographer', 'frankly', 'constantly', ('some', 'may'), 'release', 'susan', 'ms', 'spoken', 'beauty', 'thoughts', 'sword', ('him', 'out'), 'yet', ('whole', 'film'), 'horror', 'filmmakers', 'whenever', 'population', 'joins', 'move', ('after', 'seeing'), 'criminal', 'ben', 'focused', ('than', 'anything'), 'dean', 'ass', 'strange', 'force', ('doesn', 'seem'), ('many', 'years'), 'cultural', ('other', 'words'), 'voice', 'respectively', 'gibson', 'aside', ('anyone', 'else'), 'boasts', ('just', 'one'), 'cars', ('film', 'begins'), 'dragon', 'written', ('but', 'also'), 'apart', 'drunk', 'gas', 'ready', 'behind', ('one', 'two'), 'express', 'balance', ('just', 'right'), 'kinda', 'searching', 'entire', 'unlike']\n",
      "\n",
      "[('but', 1334), ('one', 1247), ('film', 1231), ('not', 1170), ('all', 1117), ('movie', 1095), ('out', 1080), ('so', 1047), ('there', 1046), ('like', 1043)]\n"
     ]
    }
   ],
   "source": [
    "vocab, df, ngram_counts = get_vocab(X_tr_raw, ngram_range=(1,3), keep_topN=5000, stop_words=stop_words)\n",
    "print(len(vocab))\n",
    "print()\n",
    "print(list(vocab)[:100])\n",
    "print()\n",
    "print(df.most_common()[:10])"
   ]
  },
  {
   "cell_type": "markdown",
   "metadata": {},
   "source": [
    "Then, you need to create vocabulary id -> word and id -> word dictionaries for reference:"
   ]
  },
  {
   "cell_type": "code",
   "execution_count": 11,
   "metadata": {
    "ExecuteTime": {
     "end_time": "2020-02-15T14:17:39.326811Z",
     "start_time": "2020-02-15T14:17:39.322256Z"
    }
   },
   "outputs": [],
   "source": [
    "# fill in your code...\n",
    "# generate word and corresponding id\n",
    "word_id = {}\n",
    "i = 0\n",
    "for i, w in enumerate(list(vocab)):\n",
    "    word_id[w] = i"
   ]
  },
  {
   "cell_type": "code",
   "execution_count": 12,
   "metadata": {},
   "outputs": [
    {
     "data": {
      "text/plain": [
       "{'moment': 0,\n",
       " ('one', 'movie'): 1,\n",
       " 'hopefully': 2,\n",
       " 'kinds': 3,\n",
       " 'couldn': 4,\n",
       " ('good', 'guys'): 5,\n",
       " 'land': 6,\n",
       " 'guy': 7,\n",
       " ('title', 'character'): 8,\n",
       " ('things', 'up'): 9,\n",
       " 'stronger': 10,\n",
       " 'underneath': 11,\n",
       " 'asking': 12,\n",
       " ('many', 'people'): 13,\n",
       " 'currently': 14,\n",
       " 'craig': 15,\n",
       " 'related': 16,\n",
       " ('larger', 'than'): 17,\n",
       " 'comic': 18,\n",
       " 'craft': 19,\n",
       " 'cat': 20,\n",
       " 'purely': 21,\n",
       " 'hanks': 22,\n",
       " 'noticeable': 23,\n",
       " 'empty': 24,\n",
       " 'decision': 25,\n",
       " 'beating': 26,\n",
       " 'angel': 27,\n",
       " 'penned': 28,\n",
       " 'notes': 29,\n",
       " 'wayne': 30,\n",
       " 'flash': 31,\n",
       " 'began': 32,\n",
       " 'rebecca': 33,\n",
       " 'wood': 34,\n",
       " 'science': 35,\n",
       " ('how', 'much'): 36,\n",
       " 'paint': 37,\n",
       " 'millions': 38,\n",
       " 'equivalent': 39,\n",
       " ('but', 'certainly'): 40,\n",
       " 'laid': 41,\n",
       " 'cinematographer': 42,\n",
       " 'frankly': 43,\n",
       " 'constantly': 44,\n",
       " ('some', 'may'): 45,\n",
       " 'release': 46,\n",
       " 'susan': 47,\n",
       " 'ms': 48,\n",
       " 'spoken': 49,\n",
       " 'beauty': 50,\n",
       " 'thoughts': 51,\n",
       " 'sword': 52,\n",
       " ('him', 'out'): 53,\n",
       " 'yet': 54,\n",
       " ('whole', 'film'): 55,\n",
       " 'horror': 56,\n",
       " 'filmmakers': 57,\n",
       " 'whenever': 58,\n",
       " 'population': 59,\n",
       " 'joins': 60,\n",
       " 'move': 61,\n",
       " ('after', 'seeing'): 62,\n",
       " 'criminal': 63,\n",
       " 'ben': 64,\n",
       " 'focused': 65,\n",
       " ('than', 'anything'): 66,\n",
       " 'dean': 67,\n",
       " 'ass': 68,\n",
       " 'strange': 69,\n",
       " 'force': 70,\n",
       " ('doesn', 'seem'): 71,\n",
       " ('many', 'years'): 72,\n",
       " 'cultural': 73,\n",
       " ('other', 'words'): 74,\n",
       " 'voice': 75,\n",
       " 'respectively': 76,\n",
       " 'gibson': 77,\n",
       " 'aside': 78,\n",
       " ('anyone', 'else'): 79,\n",
       " 'boasts': 80,\n",
       " ('just', 'one'): 81,\n",
       " 'cars': 82,\n",
       " ('film', 'begins'): 83,\n",
       " 'dragon': 84,\n",
       " 'written': 85,\n",
       " ('but', 'also'): 86,\n",
       " 'apart': 87,\n",
       " 'drunk': 88,\n",
       " 'gas': 89,\n",
       " 'ready': 90,\n",
       " 'behind': 91,\n",
       " ('one', 'two'): 92,\n",
       " 'express': 93,\n",
       " 'balance': 94,\n",
       " ('just', 'right'): 95,\n",
       " 'kinda': 96,\n",
       " 'searching': 97,\n",
       " 'entire': 98,\n",
       " 'unlike': 99,\n",
       " 'corner': 100,\n",
       " 'laughed': 101,\n",
       " ('ve', 'never'): 102,\n",
       " ('over', 'years'): 103,\n",
       " 'gothic': 104,\n",
       " ('gives', 'us'): 105,\n",
       " 'drama': 106,\n",
       " 'comedic': 107,\n",
       " 'la': 108,\n",
       " 'hears': 109,\n",
       " 'sentence': 110,\n",
       " 'prostitute': 111,\n",
       " 'daily': 112,\n",
       " 'gem': 113,\n",
       " 'hints': 114,\n",
       " 'screenwriter': 115,\n",
       " 'forgettable': 116,\n",
       " 'obsessed': 117,\n",
       " 'religion': 118,\n",
       " 'fourth': 119,\n",
       " 'agents': 120,\n",
       " 'record': 121,\n",
       " ('film', 'first'): 122,\n",
       " 'awards': 123,\n",
       " 'cartoonish': 124,\n",
       " ('really', 'good'): 125,\n",
       " ('than', 'life'): 126,\n",
       " 'king': 127,\n",
       " ('one', 'many'): 128,\n",
       " 'broad': 129,\n",
       " 'frequent': 130,\n",
       " 'protagonists': 131,\n",
       " 'proved': 132,\n",
       " ('film', 'looks'): 133,\n",
       " 'labor': 134,\n",
       " 'happening': 135,\n",
       " 'sam': 136,\n",
       " ('while', 'watching'): 137,\n",
       " 'blonde': 138,\n",
       " 'ego': 139,\n",
       " ('science', 'fiction'): 140,\n",
       " 'train': 141,\n",
       " 'expression': 142,\n",
       " 'appropriately': 143,\n",
       " ('black', 'comedy'): 144,\n",
       " ('other', 'things'): 145,\n",
       " 'shine': 146,\n",
       " ('about', 'movie'): 147,\n",
       " 'satisfy': 148,\n",
       " 'wanders': 149,\n",
       " 'triumph': 150,\n",
       " 'kicks': 151,\n",
       " 'supposedly': 152,\n",
       " 'ultimate': 153,\n",
       " ('horror', 'movie'): 154,\n",
       " 'lack': 155,\n",
       " ('good', 'one'): 156,\n",
       " 'story': 157,\n",
       " 'originality': 158,\n",
       " 'time': 159,\n",
       " 'tie': 160,\n",
       " 'intricate': 161,\n",
       " 'most': 162,\n",
       " ('does', 'not'): 163,\n",
       " 'ethan': 164,\n",
       " 'singer': 165,\n",
       " 'bacon': 166,\n",
       " 'creatures': 167,\n",
       " 'brilliant': 168,\n",
       " 'framed': 169,\n",
       " 'co': 170,\n",
       " 'scream': 171,\n",
       " ('there', 'not'): 172,\n",
       " ('better', 'off'): 173,\n",
       " 'handle': 174,\n",
       " 'charming': 175,\n",
       " 'beautiful': 176,\n",
       " ('so', 'if'): 177,\n",
       " 'home': 178,\n",
       " ('runs', 'into'): 179,\n",
       " 'lived': 180,\n",
       " ('but', 'unfortunately'): 181,\n",
       " 'team': 182,\n",
       " ('don', 'care'): 183,\n",
       " 'perhaps': 184,\n",
       " 'course': 185,\n",
       " 'captured': 186,\n",
       " 'endearing': 187,\n",
       " 'am': 188,\n",
       " 'politics': 189,\n",
       " 'less': 190,\n",
       " 'hunt': 191,\n",
       " ('take', 'over'): 192,\n",
       " 'show': 193,\n",
       " ('sit', 'through'): 194,\n",
       " 'eight': 195,\n",
       " 'viewing': 196,\n",
       " 'support': 197,\n",
       " ('movie', 'made'): 198,\n",
       " ('probably', 'not'): 199,\n",
       " 'concerned': 200,\n",
       " 'alec': 201,\n",
       " 'fights': 202,\n",
       " 'rolling': 203,\n",
       " ('worth', 'seeing'): 204,\n",
       " ('too', 'far'): 205,\n",
       " 'signs': 206,\n",
       " 'true': 207,\n",
       " 'flight': 208,\n",
       " 'mentally': 209,\n",
       " 'era': 210,\n",
       " 'rarely': 211,\n",
       " ('never', 'really'): 212,\n",
       " 'chicken': 213,\n",
       " 'dangerous': 214,\n",
       " 'mindless': 215,\n",
       " 'generic': 216,\n",
       " ('no', 'more'): 217,\n",
       " 'dinner': 218,\n",
       " 'experienced': 219,\n",
       " 'wilson': 220,\n",
       " 'foul': 221,\n",
       " 'towards': 222,\n",
       " 'notice': 223,\n",
       " ('happy', 'ending'): 224,\n",
       " 'victims': 225,\n",
       " 'ups': 226,\n",
       " 'authorities': 227,\n",
       " ('get', 'away'): 228,\n",
       " 'reached': 229,\n",
       " 'seem': 230,\n",
       " 'period': 231,\n",
       " 'visit': 232,\n",
       " 'comfortable': 233,\n",
       " ('but', 'does'): 234,\n",
       " 'constant': 235,\n",
       " ('makes', 'him'): 236,\n",
       " 'talents': 237,\n",
       " 'badly': 238,\n",
       " 'whose': 239,\n",
       " 'early': 240,\n",
       " 'information': 241,\n",
       " 'supposed': 242,\n",
       " 'obvious': 243,\n",
       " 'carry': 244,\n",
       " 'expected': 245,\n",
       " 'merely': 246,\n",
       " 'gangster': 247,\n",
       " ('any', 'way'): 248,\n",
       " 'liners': 249,\n",
       " 'wonderful': 250,\n",
       " 'stylish': 251,\n",
       " ('just', 'how'): 252,\n",
       " ('film', 'makes'): 253,\n",
       " 'stunning': 254,\n",
       " 'exists': 255,\n",
       " 'ludicrous': 256,\n",
       " 'fallen': 257,\n",
       " 'american': 258,\n",
       " 'connected': 259,\n",
       " 'technology': 260,\n",
       " ('two', 'films'): 261,\n",
       " ('much', 'like'): 262,\n",
       " 'captain': 263,\n",
       " 'wins': 264,\n",
       " 'excellent': 265,\n",
       " 'shares': 266,\n",
       " 'proof': 267,\n",
       " 'releases': 268,\n",
       " 'two': 269,\n",
       " 'encounters': 270,\n",
       " 'newcomer': 271,\n",
       " 'idiotic': 272,\n",
       " ('see', 'how'): 273,\n",
       " ('two', 'leads'): 274,\n",
       " 'arrow': 275,\n",
       " 'neeson': 276,\n",
       " 'last': 277,\n",
       " 'proper': 278,\n",
       " 'almost': 279,\n",
       " ('one', 'my'): 280,\n",
       " 'commanding': 281,\n",
       " 'filming': 282,\n",
       " 'contrast': 283,\n",
       " 'about': 284,\n",
       " 'dollar': 285,\n",
       " 'composed': 286,\n",
       " 'based': 287,\n",
       " 'numbers': 288,\n",
       " ('out', 'into'): 289,\n",
       " 'band': 290,\n",
       " 'months': 291,\n",
       " 'bottom': 292,\n",
       " 'insight': 293,\n",
       " 'religious': 294,\n",
       " 'eerie': 295,\n",
       " 'weak': 296,\n",
       " 'birth': 297,\n",
       " 'stumbles': 298,\n",
       " ('film', 'not'): 299,\n",
       " 'prominent': 300,\n",
       " 'firm': 301,\n",
       " 'hired': 302,\n",
       " 'vague': 303,\n",
       " 'greatly': 304,\n",
       " 'girls': 305,\n",
       " 'showed': 306,\n",
       " 'crisp': 307,\n",
       " 'pacing': 308,\n",
       " ('good', 'performances'): 309,\n",
       " 'portions': 310,\n",
       " ('but', 'isn'): 311,\n",
       " 'miscast': 312,\n",
       " 'satire': 313,\n",
       " 'thurman': 314,\n",
       " 'beat': 315,\n",
       " 'gross': 316,\n",
       " ('some', 'good'): 317,\n",
       " 'cannot': 318,\n",
       " 'workers': 319,\n",
       " ('their', 'own'): 320,\n",
       " 'steal': 321,\n",
       " 'crafted': 322,\n",
       " ('stands', 'out'): 323,\n",
       " 'became': 324,\n",
       " 'possessed': 325,\n",
       " 'keaton': 326,\n",
       " ('but', 'most'): 327,\n",
       " ('writer', 'director'): 328,\n",
       " ('trying', 'get'): 329,\n",
       " 'marry': 330,\n",
       " 'soap': 331,\n",
       " 'prevent': 332,\n",
       " 'like': 333,\n",
       " 'fable': 334,\n",
       " ('watching', 'movie'): 335,\n",
       " 'studio': 336,\n",
       " ('give', 'us'): 337,\n",
       " 'topic': 338,\n",
       " 'briefly': 339,\n",
       " 'serial': 340,\n",
       " 'watched': 341,\n",
       " 'joined': 342,\n",
       " 'service': 343,\n",
       " 'proud': 344,\n",
       " 'designer': 345,\n",
       " 'mortal': 346,\n",
       " ('good', 'job'): 347,\n",
       " 'didn': 348,\n",
       " 'easier': 349,\n",
       " 'troubles': 350,\n",
       " 'unfortunate': 351,\n",
       " 'viewer': 352,\n",
       " 'effort': 353,\n",
       " 'richard': 354,\n",
       " ('there', 'several'): 355,\n",
       " 'painting': 356,\n",
       " 'primary': 357,\n",
       " 'friendly': 358,\n",
       " 'psychotic': 359,\n",
       " 'image': 360,\n",
       " 'lovable': 361,\n",
       " 'happily': 362,\n",
       " 'basic': 363,\n",
       " 'pierce': 364,\n",
       " 'cliff': 365,\n",
       " 'critically': 366,\n",
       " 'pivotal': 367,\n",
       " 'understand': 368,\n",
       " ('tells', 'story'): 369,\n",
       " 'leads': 370,\n",
       " 'uneven': 371,\n",
       " 'subtle': 372,\n",
       " 'attempt': 373,\n",
       " 'defense': 374,\n",
       " 'boxing': 375,\n",
       " 'convicted': 376,\n",
       " 'style': 377,\n",
       " 'nowhere': 378,\n",
       " 'frequently': 379,\n",
       " 'mine': 380,\n",
       " 'antics': 381,\n",
       " 'wanted': 382,\n",
       " ('characters', 'not'): 383,\n",
       " ('takes', 'place'): 384,\n",
       " 'heroine': 385,\n",
       " 'timing': 386,\n",
       " 'crack': 387,\n",
       " ('not', 'exactly'): 388,\n",
       " 'travel': 389,\n",
       " ('but', 'here'): 390,\n",
       " 'figures': 391,\n",
       " ('james', 'bond'): 392,\n",
       " 'thought': 393,\n",
       " 'superb': 394,\n",
       " 'buck': 395,\n",
       " 'pieces': 396,\n",
       " 'nicholson': 397,\n",
       " ('but', 'instead'): 398,\n",
       " 'clueless': 399,\n",
       " 'reads': 400,\n",
       " 'eyed': 401,\n",
       " 'trying': 402,\n",
       " 'responsible': 403,\n",
       " 'picked': 404,\n",
       " 'awake': 405,\n",
       " 'luck': 406,\n",
       " ('too', 'much'): 407,\n",
       " 'cameron': 408,\n",
       " 'ship': 409,\n",
       " 'beneath': 410,\n",
       " 'jumping': 411,\n",
       " 'innocence': 412,\n",
       " 'preview': 413,\n",
       " 'replaced': 414,\n",
       " 'lives': 415,\n",
       " 'club': 416,\n",
       " 'soldier': 417,\n",
       " 'reduced': 418,\n",
       " ('never', 'seen'): 419,\n",
       " 'factor': 420,\n",
       " 'respect': 421,\n",
       " 'bad': 422,\n",
       " 'immediate': 423,\n",
       " 'routine': 424,\n",
       " 'pleasant': 425,\n",
       " 'confidence': 426,\n",
       " 'par': 427,\n",
       " ('one', 'would'): 428,\n",
       " 'playing': 429,\n",
       " 'hand': 430,\n",
       " 'wildly': 431,\n",
       " 'typical': 432,\n",
       " 'african': 433,\n",
       " ('five', 'years'): 434,\n",
       " 'convincingly': 435,\n",
       " 'leaves': 436,\n",
       " 'reluctant': 437,\n",
       " 'via': 438,\n",
       " 'joan': 439,\n",
       " ('people', 'will'): 440,\n",
       " 'moral': 441,\n",
       " 'appeal': 442,\n",
       " ('one', 'film'): 443,\n",
       " 'him': 444,\n",
       " 'fantasies': 445,\n",
       " ('jurassic', 'park'): 446,\n",
       " 'ending': 447,\n",
       " ('most', 'memorable'): 448,\n",
       " ('several', 'times'): 449,\n",
       " 'correct': 450,\n",
       " 'lovers': 451,\n",
       " 'pants': 452,\n",
       " 'crisis': 453,\n",
       " 'credits': 454,\n",
       " ('after', 'all'): 455,\n",
       " ('larger', 'than', 'life'): 456,\n",
       " ('young', 'girl'): 457,\n",
       " 'meat': 458,\n",
       " 'back': 459,\n",
       " 'hope': 460,\n",
       " 'ride': 461,\n",
       " 'able': 462,\n",
       " 'jedi': 463,\n",
       " 'nomination': 464,\n",
       " 'ahead': 465,\n",
       " ('pull', 'off'): 466,\n",
       " 'new': 467,\n",
       " 'hates': 468,\n",
       " ('film', 'one'): 469,\n",
       " 'biggest': 470,\n",
       " 'slightly': 471,\n",
       " 'tape': 472,\n",
       " ('movie', 'doesn'): 473,\n",
       " 'martin': 474,\n",
       " 'makes': 475,\n",
       " 'plus': 476,\n",
       " 'tune': 477,\n",
       " 'believes': 478,\n",
       " 'desperate': 479,\n",
       " 'children': 480,\n",
       " 'wouldn': 481,\n",
       " 'thoughtful': 482,\n",
       " ('other', 'films'): 483,\n",
       " 'threatens': 484,\n",
       " 'sole': 485,\n",
       " 'stage': 486,\n",
       " 'simon': 487,\n",
       " 'pre': 488,\n",
       " 'batman': 489,\n",
       " 'shocking': 490,\n",
       " 'comparison': 491,\n",
       " ('movie', 'will'): 492,\n",
       " 'dozens': 493,\n",
       " 'word': 494,\n",
       " 'accompanied': 495,\n",
       " 'curiosity': 496,\n",
       " ('close', 'ups'): 497,\n",
       " ('real', 'world'): 498,\n",
       " 'remarkably': 499,\n",
       " 'menacing': 500,\n",
       " 'understanding': 501,\n",
       " ('only', 'few'): 502,\n",
       " 'tyler': 503,\n",
       " ('just', 'because'): 504,\n",
       " 'interview': 505,\n",
       " ('soap', 'opera'): 506,\n",
       " 'realizing': 507,\n",
       " 'puts': 508,\n",
       " 'danger': 509,\n",
       " 'different': 510,\n",
       " 'naked': 511,\n",
       " 'accidentally': 512,\n",
       " 'flashbacks': 513,\n",
       " 'things': 514,\n",
       " 'thinks': 515,\n",
       " 'crucial': 516,\n",
       " 'numerous': 517,\n",
       " 'nonsense': 518,\n",
       " ('neve', 'campbell'): 519,\n",
       " 'sit': 520,\n",
       " ('so', 'called'): 521,\n",
       " 'believable': 522,\n",
       " 'careers': 523,\n",
       " 'cruel': 524,\n",
       " 'product': 525,\n",
       " ('time', 'when'): 526,\n",
       " ('non', 'stop'): 527,\n",
       " 'knight': 528,\n",
       " 'master': 529,\n",
       " 'broken': 530,\n",
       " 'texas': 531,\n",
       " ('good', 'movie'): 532,\n",
       " 'involving': 533,\n",
       " 'speech': 534,\n",
       " 'easy': 535,\n",
       " 'scale': 536,\n",
       " ('just', 'so'): 537,\n",
       " 'hanging': 538,\n",
       " 'immediately': 539,\n",
       " 'claims': 540,\n",
       " 'claire': 541,\n",
       " 'police': 542,\n",
       " 'morgan': 543,\n",
       " 'aforementioned': 544,\n",
       " 'covers': 545,\n",
       " 'values': 546,\n",
       " ('when', 'one'): 547,\n",
       " 'arise': 548,\n",
       " ('out', 'way'): 549,\n",
       " 'cliches': 550,\n",
       " 'phantom': 551,\n",
       " 'occasional': 552,\n",
       " 'buddies': 553,\n",
       " 'tale': 554,\n",
       " 'missing': 555,\n",
       " 'section': 556,\n",
       " 'photography': 557,\n",
       " 'brilliantly': 558,\n",
       " 'gene': 559,\n",
       " 'meaning': 560,\n",
       " 'paper': 561,\n",
       " 'financial': 562,\n",
       " 'reaction': 563,\n",
       " 'paced': 564,\n",
       " 'follow': 565,\n",
       " 'chair': 566,\n",
       " 'climactic': 567,\n",
       " ('any', 'more'): 568,\n",
       " ('but', 'my'): 569,\n",
       " 'arrogant': 570,\n",
       " 'roll': 571,\n",
       " 'produce': 572,\n",
       " 'seemingly': 573,\n",
       " 'slapstick': 574,\n",
       " 'influence': 575,\n",
       " 'knife': 576,\n",
       " ('course', 'there'): 577,\n",
       " ('there', 'scene'): 578,\n",
       " ('lines', 'like'): 579,\n",
       " ('comes', 'back'): 580,\n",
       " 'fine': 581,\n",
       " 'mysterious': 582,\n",
       " 'matters': 583,\n",
       " ('matter', 'how'): 584,\n",
       " 'acted': 585,\n",
       " 'owns': 586,\n",
       " 'motions': 587,\n",
       " 'woo': 588,\n",
       " 'authority': 589,\n",
       " 'power': 590,\n",
       " 'nevertheless': 591,\n",
       " 'shooting': 592,\n",
       " 'explains': 593,\n",
       " 'means': 594,\n",
       " 'cinematic': 595,\n",
       " 'ways': 596,\n",
       " 'upcoming': 597,\n",
       " 'progress': 598,\n",
       " 'class': 599,\n",
       " ('movie', 'no'): 600,\n",
       " 'standard': 601,\n",
       " 'wrong': 602,\n",
       " 'conceived': 603,\n",
       " 'perfection': 604,\n",
       " 'short': 605,\n",
       " 'hype': 606,\n",
       " 'cartoon': 607,\n",
       " ('there', 'isn'): 608,\n",
       " 'space': 609,\n",
       " ('there', 'one'): 610,\n",
       " 'arms': 611,\n",
       " ('characters', 'film'): 612,\n",
       " ('along', 'way'): 613,\n",
       " 'underdeveloped': 614,\n",
       " 'critic': 615,\n",
       " ('go', 'see'): 616,\n",
       " 'titled': 617,\n",
       " 'trademark': 618,\n",
       " 'everybody': 619,\n",
       " 'established': 620,\n",
       " 'assume': 621,\n",
       " 'attacks': 622,\n",
       " 'sequel': 623,\n",
       " 'built': 624,\n",
       " 'chose': 625,\n",
       " ('if', 'not'): 626,\n",
       " 'truth': 627,\n",
       " 'drives': 628,\n",
       " 'whatever': 629,\n",
       " 'serves': 630,\n",
       " 'sake': 631,\n",
       " 'dark': 632,\n",
       " 'initially': 633,\n",
       " 'nightmare': 634,\n",
       " 'generated': 635,\n",
       " 'wonders': 636,\n",
       " 'eve': 637,\n",
       " 'continue': 638,\n",
       " 'negative': 639,\n",
       " 'role': 640,\n",
       " ('just', 'too'): 641,\n",
       " 'looking': 642,\n",
       " ('but', 'some'): 643,\n",
       " 'encounter': 644,\n",
       " 'crime': 645,\n",
       " ('much', 'better'): 646,\n",
       " 'hilarious': 647,\n",
       " 'cruise': 648,\n",
       " 'redemption': 649,\n",
       " 'condition': 650,\n",
       " 'face': 651,\n",
       " ('next', 'day'): 652,\n",
       " 'manage': 653,\n",
       " 'dimensional': 654,\n",
       " 'deeper': 655,\n",
       " 'asleep': 656,\n",
       " ('no', 'other'): 657,\n",
       " 'hated': 658,\n",
       " 'achievement': 659,\n",
       " 'sidekick': 660,\n",
       " 'professor': 661,\n",
       " 'world': 662,\n",
       " ('film', 'only'): 663,\n",
       " ('action', 'scenes'): 664,\n",
       " 'arquette': 665,\n",
       " 'care': 666,\n",
       " 'clich': 667,\n",
       " 'sucked': 668,\n",
       " ('action', 'movie'): 669,\n",
       " 'reveals': 670,\n",
       " 'convinces': 671,\n",
       " 'lengthy': 672,\n",
       " 'hadn': 673,\n",
       " 'inevitable': 674,\n",
       " 'shower': 675,\n",
       " 'attempting': 676,\n",
       " 'colors': 677,\n",
       " 'modern': 678,\n",
       " 'drawing': 679,\n",
       " ('but', 'not'): 680,\n",
       " 'anna': 681,\n",
       " 'teenage': 682,\n",
       " ('so', 'far'): 683,\n",
       " 'problems': 684,\n",
       " 'deserves': 685,\n",
       " 'long': 686,\n",
       " 'throughout': 687,\n",
       " ('doesn', 'get'): 688,\n",
       " 'season': 689,\n",
       " 'japanese': 690,\n",
       " 'delivered': 691,\n",
       " 'told': 692,\n",
       " 'mark': 693,\n",
       " 'exception': 694,\n",
       " ('film', 'about'): 695,\n",
       " 'potential': 696,\n",
       " 'child': 697,\n",
       " 'appearance': 698,\n",
       " ('plot', 'twists'): 699,\n",
       " 'search': 700,\n",
       " ('would', 'want'): 701,\n",
       " 'mix': 702,\n",
       " ('but', 'other'): 703,\n",
       " 'portman': 704,\n",
       " 'beyond': 705,\n",
       " 'sexual': 706,\n",
       " 'walking': 707,\n",
       " 'lifeless': 708,\n",
       " 'plans': 709,\n",
       " 'grand': 710,\n",
       " ('little', 'bit'): 711,\n",
       " 'closing': 712,\n",
       " 'fresh': 713,\n",
       " 'fargo': 714,\n",
       " 'saved': 715,\n",
       " 'dose': 716,\n",
       " 'party': 717,\n",
       " ('musical', 'score'): 718,\n",
       " 'bits': 719,\n",
       " 'technique': 720,\n",
       " 'operation': 721,\n",
       " ('quite', 'bit'): 722,\n",
       " 'mother': 723,\n",
       " ('seems', 'like'): 724,\n",
       " 'aspects': 725,\n",
       " 'lifetime': 726,\n",
       " 'immensely': 727,\n",
       " 'neve': 728,\n",
       " 'facial': 729,\n",
       " 'check': 730,\n",
       " 'dawn': 731,\n",
       " 'covering': 732,\n",
       " 'window': 733,\n",
       " 'legendary': 734,\n",
       " 'dying': 735,\n",
       " 'gambling': 736,\n",
       " 'make': 737,\n",
       " 'convincing': 738,\n",
       " 'robbery': 739,\n",
       " 'stock': 740,\n",
       " 'evil': 741,\n",
       " ('main', 'character'): 742,\n",
       " 'attorney': 743,\n",
       " 'lisa': 744,\n",
       " 'send': 745,\n",
       " 'teaching': 746,\n",
       " 'travels': 747,\n",
       " ('come', 'up'): 748,\n",
       " 'string': 749,\n",
       " 'owned': 750,\n",
       " 'worthwhile': 751,\n",
       " ('samuel', 'jackson'): 752,\n",
       " 'handful': 753,\n",
       " 'popularity': 754,\n",
       " 'feelings': 755,\n",
       " 'hasn': 756,\n",
       " 'abyss': 757,\n",
       " ('am', 'not'): 758,\n",
       " 'entertaining': 759,\n",
       " 'offensive': 760,\n",
       " 'special': 761,\n",
       " 'sister': 762,\n",
       " ('don', 'even'): 763,\n",
       " 'throwing': 764,\n",
       " 'narrative': 765,\n",
       " 'jersey': 766,\n",
       " ('care', 'about'): 767,\n",
       " 'failure': 768,\n",
       " ('obi', 'wan'): 769,\n",
       " 'relate': 770,\n",
       " 'honestly': 771,\n",
       " 'frightened': 772,\n",
       " 'category': 773,\n",
       " 'good': 774,\n",
       " 'think': 775,\n",
       " 'phenomenon': 776,\n",
       " 'amazed': 777,\n",
       " 'moving': 778,\n",
       " 'threat': 779,\n",
       " 'idea': 780,\n",
       " 'outside': 781,\n",
       " 'live': 782,\n",
       " ('there', 'plenty'): 783,\n",
       " 'female': 784,\n",
       " ('oh', 'yeah'): 785,\n",
       " 'drop': 786,\n",
       " 'setup': 787,\n",
       " 'till': 788,\n",
       " 'robin': 789,\n",
       " 'surrounding': 790,\n",
       " 'situation': 791,\n",
       " 'suitable': 792,\n",
       " 'vaguely': 793,\n",
       " 'homage': 794,\n",
       " 'reeves': 795,\n",
       " 'lover': 796,\n",
       " 'steve': 797,\n",
       " 'western': 798,\n",
       " 'bumbling': 799,\n",
       " 'passed': 800,\n",
       " 'sorts': 801,\n",
       " 'camp': 802,\n",
       " 'bob': 803,\n",
       " ('no', 'way'): 804,\n",
       " 'groups': 805,\n",
       " ('great', 'deal'): 806,\n",
       " 'douglas': 807,\n",
       " 'quickly': 808,\n",
       " 'community': 809,\n",
       " 'bear': 810,\n",
       " 'flashback': 811,\n",
       " 'let': 812,\n",
       " 'ones': 813,\n",
       " 'france': 814,\n",
       " 'mention': 815,\n",
       " 'sexy': 816,\n",
       " ('get', 'out'): 817,\n",
       " 'uplifting': 818,\n",
       " 'solid': 819,\n",
       " 'load': 820,\n",
       " 'brother': 821,\n",
       " ('out', 'film'): 822,\n",
       " ('make', 'movie'): 823,\n",
       " 'ironic': 824,\n",
       " 'finished': 825,\n",
       " 'result': 826,\n",
       " 'bunch': 827,\n",
       " 'dress': 828,\n",
       " 'joseph': 829,\n",
       " ('not', 'so'): 830,\n",
       " ('seen', 'all'): 831,\n",
       " 'cope': 832,\n",
       " 'deserve': 833,\n",
       " 'capsule': 834,\n",
       " 'doubt': 835,\n",
       " ('just', 'another'): 836,\n",
       " ('bad', 'but'): 837,\n",
       " 'terminator': 838,\n",
       " 'southern': 839,\n",
       " 'succeeds': 840,\n",
       " 'wondering': 841,\n",
       " ('george', 'clooney'): 842,\n",
       " 'including': 843,\n",
       " 'formulaic': 844,\n",
       " 'explosions': 845,\n",
       " ('great', 'job'): 846,\n",
       " ('watching', 'film'): 847,\n",
       " 'captures': 848,\n",
       " ('bad', 'guy'): 849,\n",
       " 'trick': 850,\n",
       " 'somebody': 851,\n",
       " 'stealing': 852,\n",
       " 'reality': 853,\n",
       " 'books': 854,\n",
       " 'survive': 855,\n",
       " 'magical': 856,\n",
       " 'possibly': 857,\n",
       " 'describe': 858,\n",
       " 'business': 859,\n",
       " 'benefit': 860,\n",
       " 'inspiration': 861,\n",
       " 'war': 862,\n",
       " 'mean': 863,\n",
       " 'various': 864,\n",
       " 'circumstances': 865,\n",
       " 'friday': 866,\n",
       " ('make', 'sense'): 867,\n",
       " 'detective': 868,\n",
       " 'albeit': 869,\n",
       " 'reaches': 870,\n",
       " 'lawrence': 871,\n",
       " 'breaks': 872,\n",
       " 'question': 873,\n",
       " ('only', 'two'): 874,\n",
       " ('movie', 'if'): 875,\n",
       " 'flesh': 876,\n",
       " 'kill': 877,\n",
       " 'series': 878,\n",
       " 'headed': 879,\n",
       " 'advance': 880,\n",
       " 'hot': 881,\n",
       " 'dollars': 882,\n",
       " 'christopher': 883,\n",
       " ('going', 'through'): 884,\n",
       " 'advice': 885,\n",
       " 'eager': 886,\n",
       " 'belief': 887,\n",
       " ('most', 'film'): 888,\n",
       " ('where', 'film'): 889,\n",
       " 'hoped': 890,\n",
       " 'described': 891,\n",
       " 'kim': 892,\n",
       " 'neat': 893,\n",
       " ('running', 'time'): 894,\n",
       " 'canadian': 895,\n",
       " 'writes': 896,\n",
       " 'amazing': 897,\n",
       " 'pursuit': 898,\n",
       " 'billing': 899,\n",
       " 'see': 900,\n",
       " 'safe': 901,\n",
       " 'hills': 902,\n",
       " 'wedding': 903,\n",
       " ('probably', 'best'): 904,\n",
       " 'execution': 905,\n",
       " 'suffers': 906,\n",
       " 'suffice': 907,\n",
       " 'non': 908,\n",
       " 'basis': 909,\n",
       " 'shame': 910,\n",
       " 'hank': 911,\n",
       " 'attack': 912,\n",
       " 'leaving': 913,\n",
       " ('time', 'but'): 914,\n",
       " 'flick': 915,\n",
       " ('had', 'me'): 916,\n",
       " 'nearly': 917,\n",
       " ('everyone', 'else'): 918,\n",
       " 'awkward': 919,\n",
       " ('first', 'one'): 920,\n",
       " 'dilemma': 921,\n",
       " ('doesn', 'quite'): 922,\n",
       " 'lonely': 923,\n",
       " ('but', 'then'): 924,\n",
       " 'fact': 925,\n",
       " 'donald': 926,\n",
       " 'enjoying': 927,\n",
       " ('either', 'way'): 928,\n",
       " 'seriously': 929,\n",
       " 'day': 930,\n",
       " 'williams': 931,\n",
       " 'prepared': 932,\n",
       " 'dry': 933,\n",
       " 'priest': 934,\n",
       " ('watch', 'film'): 935,\n",
       " ('film', 'takes', 'place'): 936,\n",
       " 'dazzling': 937,\n",
       " 'ten': 938,\n",
       " 'fantastic': 939,\n",
       " ('ve', 'got'): 940,\n",
       " ('there', 'little'): 941,\n",
       " ('don', 'know'): 942,\n",
       " 'deserved': 943,\n",
       " 'removed': 944,\n",
       " ('some', 'kind'): 945,\n",
       " 'provided': 946,\n",
       " 'food': 947,\n",
       " 'glory': 948,\n",
       " 'rating': 949,\n",
       " 'dialog': 950,\n",
       " ('opening', 'credits'): 951,\n",
       " ('though', 'not'): 952,\n",
       " ('not', 'sure'): 953,\n",
       " 'message': 954,\n",
       " 'year': 955,\n",
       " 'trash': 956,\n",
       " 'levels': 957,\n",
       " ('talking', 'about'): 958,\n",
       " 'logical': 959,\n",
       " 'oddly': 960,\n",
       " ('really', 'bad'): 961,\n",
       " 'presence': 962,\n",
       " ('romantic', 'comedy'): 963,\n",
       " ('when', 'first'): 964,\n",
       " 'ends': 965,\n",
       " 'midst': 966,\n",
       " 'critique': 967,\n",
       " ('but', 'when'): 968,\n",
       " ('would', 'better'): 969,\n",
       " 'lousy': 970,\n",
       " 'disappointment': 971,\n",
       " 'toilet': 972,\n",
       " 'orders': 973,\n",
       " 'killer': 974,\n",
       " ('will', 'go'): 975,\n",
       " ('so', 'much'): 976,\n",
       " 'kind': 977,\n",
       " 'already': 978,\n",
       " 'city': 979,\n",
       " 'sidney': 980,\n",
       " ('just', 'about'): 981,\n",
       " 'halloween': 982,\n",
       " 'audiences': 983,\n",
       " 'begins': 984,\n",
       " 'ok': 985,\n",
       " 'public': 986,\n",
       " 'storyline': 987,\n",
       " 'give': 988,\n",
       " 'delivery': 989,\n",
       " 'wonder': 990,\n",
       " 'fbi': 991,\n",
       " 'de': 992,\n",
       " 'respectable': 993,\n",
       " 'still': 994,\n",
       " 'watches': 995,\n",
       " ('one', 'best'): 996,\n",
       " 'throw': 997,\n",
       " ('two', 'people'): 998,\n",
       " 'paranoid': 999,\n",
       " ...}"
      ]
     },
     "execution_count": 12,
     "metadata": {},
     "output_type": "execute_result"
    }
   ],
   "source": [
    "word_id"
   ]
  },
  {
   "cell_type": "markdown",
   "metadata": {},
   "source": [
    "Now you should be able to extract n-grams for each text in the training, development and test sets:"
   ]
  },
  {
   "cell_type": "code",
   "execution_count": 13,
   "metadata": {
    "ExecuteTime": {
     "end_time": "2020-02-15T14:17:40.213253Z",
     "start_time": "2020-02-15T14:17:39.329147Z"
    }
   },
   "outputs": [],
   "source": [
    "# fill in your code...\n",
    "X_train_ngram = []\n",
    "X_dev_ngram = []\n",
    "X_test_ngram = []\n",
    "\n",
    "# generate 3 file's ngrams list\n",
    "for i in X_tr_raw:\n",
    "    X_train_ngram.append(extract_ngrams(i, ngram_range=(1,3), token_pattern=r'\\b[A-Za-z][A-Za-z]+\\b', stop_words=stop_words, vocab=vocab))\n",
    "for i in X_dev_raw:\n",
    "    X_dev_ngram.append(extract_ngrams(i, ngram_range=(1,3), token_pattern=r'\\b[A-Za-z][A-Za-z]+\\b', stop_words=stop_words, vocab=vocab))\n",
    "for i in X_test_raw:\n",
    "    X_test_ngram.append(extract_ngrams(i, ngram_range=(1,3), token_pattern=r'\\b[A-Za-z][A-Za-z]+\\b', stop_words=stop_words, vocab=vocab))"
   ]
  },
  {
   "cell_type": "code",
   "execution_count": 14,
   "metadata": {},
   "outputs": [],
   "source": [
    "#X_train_ngram\n",
    "#X_dev_ngram\n",
    "#X_test_ngram"
   ]
  },
  {
   "cell_type": "markdown",
   "metadata": {},
   "source": [
    "## Vectorise documents "
   ]
  },
  {
   "cell_type": "markdown",
   "metadata": {},
   "source": [
    "Next, write a function `vectoriser` to obtain Bag-of-ngram representations for a list of documents. The function should take as input:\n",
    "- `X_ngram`: a list of texts (documents), where each text is represented as list of n-grams in the `vocab`\n",
    "- `vocab`: a set of n-grams to be used for representing the documents\n",
    "\n",
    "and return:\n",
    "- `X_vec`: an array with dimensionality Nx|vocab| where N is the number of documents and |vocab| is the size of the vocabulary. Each element of the array should represent the frequency of a given n-gram in a document.\n"
   ]
  },
  {
   "cell_type": "code",
   "execution_count": 5,
   "metadata": {
    "ExecuteTime": {
     "end_time": "2020-02-15T14:17:40.219201Z",
     "start_time": "2020-02-15T14:17:40.215129Z"
    }
   },
   "outputs": [],
   "source": [
    "def vectorise(X_ngram, vocab):\n",
    "    \n",
    "    # fill in your code...\n",
    "    X_vec = []\n",
    "    for i in X_ngram:\n",
    "        # creater counter object\n",
    "        counter = Counter(i)\n",
    "        # create zero lists\n",
    "        vector = list(0 for j in range(len(vocab)))         \n",
    "        for j in counter.keys():\n",
    "            # add number into list correspond to the position\n",
    "            vector[word_id[j]] = vector[word_id[j]]+ counter[j]\n",
    "        X_vec.append(vector)\n",
    "    # change to np array format    \n",
    "    X_vec = np.array(X_vec)\n",
    "        \n",
    "    \n",
    "    return X_vec"
   ]
  },
  {
   "cell_type": "markdown",
   "metadata": {},
   "source": [
    "Finally, use `vectorise` to obtain document vectors for each document in the train, development and test set. You should extract both count and tf.idf vectors respectively:"
   ]
  },
  {
   "cell_type": "markdown",
   "metadata": {},
   "source": [
    "#### Count vectors"
   ]
  },
  {
   "cell_type": "code",
   "execution_count": 16,
   "metadata": {
    "ExecuteTime": {
     "end_time": "2020-02-15T14:17:41.999574Z",
     "start_time": "2020-02-15T14:17:40.376534Z"
    }
   },
   "outputs": [],
   "source": [
    "# fill in your code...\n",
    "X_tr_count = vectorise(X_train_ngram, vocab)\n",
    "X_dev_count = vectorise(X_dev_ngram, vocab)\n",
    "X_test_count = vectorise(X_test_ngram, vocab)"
   ]
  },
  {
   "cell_type": "code",
   "execution_count": 17,
   "metadata": {
    "ExecuteTime": {
     "end_time": "2020-02-15T14:17:42.004808Z",
     "start_time": "2020-02-15T14:17:42.001555Z"
    }
   },
   "outputs": [
    {
     "data": {
      "text/plain": [
       "(1400, 5000)"
      ]
     },
     "execution_count": 17,
     "metadata": {},
     "output_type": "execute_result"
    }
   ],
   "source": [
    "X_tr_count.shape"
   ]
  },
  {
   "cell_type": "code",
   "execution_count": 18,
   "metadata": {
    "ExecuteTime": {
     "end_time": "2020-02-15T14:17:42.010525Z",
     "start_time": "2020-02-15T14:17:42.006309Z"
    }
   },
   "outputs": [
    {
     "data": {
      "text/plain": [
       "array([[1, 0, 0, 0, 0, 0, 0, 0, 0, 0, 0, 0, 0, 0, 0, 0, 0, 0, 1, 0, 0, 0,\n",
       "        0, 0, 0, 0, 0, 0, 0, 0, 0, 0, 0, 0, 0, 0, 0, 0, 0, 0, 0, 0, 0, 0,\n",
       "        0, 1, 5, 0, 2, 0],\n",
       "       [1, 0, 0, 0, 1, 0, 0, 0, 0, 0, 0, 0, 0, 0, 0, 0, 0, 0, 0, 0, 0, 1,\n",
       "        0, 0, 0, 0, 0, 0, 0, 0, 0, 0, 0, 0, 0, 0, 0, 0, 0, 0, 0, 0, 0, 0,\n",
       "        0, 1, 0, 0, 0, 0]])"
      ]
     },
     "execution_count": 18,
     "metadata": {},
     "output_type": "execute_result"
    }
   ],
   "source": [
    "X_tr_count[:2,:50]"
   ]
  },
  {
   "cell_type": "markdown",
   "metadata": {},
   "source": [
    "#### TF.IDF vectors\n",
    "\n",
    "First compute `idfs` an array containing inverted document frequencies (Note: its elements should correspond to your `vocab`)"
   ]
  },
  {
   "cell_type": "code",
   "execution_count": 19,
   "metadata": {
    "ExecuteTime": {
     "end_time": "2020-02-15T14:17:42.022692Z",
     "start_time": "2020-02-15T14:17:42.012315Z"
    }
   },
   "outputs": [],
   "source": [
    "idfs = []\n",
    "for i in list(vocab):\n",
    "    # set a variable to record occurance times \n",
    "    df_count = 0\n",
    "    # if it occur, variable + 1\n",
    "    for j in X_train_ngram:\n",
    "        if i in j:  \n",
    "            df_count = df_count + 1\n",
    "    idfs.append(np.log10(X_tr_count.shape[0]/(df_count+1)))\n",
    "# change to numpy array\n",
    "idfs = np.array(idfs)\n",
    "    "
   ]
  },
  {
   "cell_type": "markdown",
   "metadata": {},
   "source": [
    "Then transform your count vectors to tf.idf vectors:"
   ]
  },
  {
   "cell_type": "code",
   "execution_count": 20,
   "metadata": {
    "ExecuteTime": {
     "end_time": "2020-02-15T14:17:42.802265Z",
     "start_time": "2020-02-15T14:17:42.752448Z"
    }
   },
   "outputs": [],
   "source": [
    "# fill in your code...\n",
    "X_tr_tfidf = X_tr_count * idfs\n",
    "X_dev_tfidf = X_dev_count * idfs\n",
    "X_test_tfidf = X_test_count * idfs"
   ]
  },
  {
   "cell_type": "code",
   "execution_count": 21,
   "metadata": {
    "ExecuteTime": {
     "end_time": "2020-02-15T14:17:43.211619Z",
     "start_time": "2020-02-15T14:17:43.207266Z"
    }
   },
   "outputs": [
    {
     "data": {
      "text/plain": [
       "array([0.88605665, 0.        , 0.        , 0.        , 1.07058107,\n",
       "       0.        , 0.        , 0.        , 0.        , 0.        ,\n",
       "       0.        , 0.        , 0.        , 0.        , 0.        ,\n",
       "       0.        , 0.        , 0.        , 0.        , 0.        ,\n",
       "       0.        , 1.84509804, 0.        , 0.        , 0.        ,\n",
       "       0.        , 0.        , 0.        , 0.        , 0.        ,\n",
       "       0.        , 0.        , 0.        , 0.        , 0.        ,\n",
       "       0.        , 0.        , 0.        , 0.        , 0.        ,\n",
       "       0.        , 0.        , 0.        , 0.        , 0.        ,\n",
       "       1.73115469, 0.        , 0.        , 0.        , 0.        ])"
      ]
     },
     "execution_count": 21,
     "metadata": {},
     "output_type": "execute_result"
    }
   ],
   "source": [
    "X_tr_tfidf[1,:50]"
   ]
  },
  {
   "cell_type": "markdown",
   "metadata": {},
   "source": [
    "# Binary Logistic Regression\n",
    "\n",
    "After obtaining vector representations of the data, now you are ready to implement Binary Logistic Regression for classifying sentiment."
   ]
  },
  {
   "cell_type": "markdown",
   "metadata": {},
   "source": [
    "First, you need to implement the `sigmoid` function. It takes as input:\n",
    "\n",
    "- `z`: a real number or an array of real numbers \n",
    "\n",
    "and returns:\n",
    "\n",
    "- `sig`: the sigmoid of `z`"
   ]
  },
  {
   "cell_type": "code",
   "execution_count": 22,
   "metadata": {
    "ExecuteTime": {
     "end_time": "2020-02-15T14:17:44.160661Z",
     "start_time": "2020-02-15T14:17:44.157902Z"
    }
   },
   "outputs": [],
   "source": [
    "def sigmoid(z):    \n",
    "    # fill in your code...\n",
    "    z = 1/(z+np.exp(-z))    \n",
    "    return z"
   ]
  },
  {
   "cell_type": "code",
   "execution_count": 23,
   "metadata": {
    "ExecuteTime": {
     "end_time": "2020-02-15T14:17:44.351292Z",
     "start_time": "2020-02-15T14:17:44.346822Z"
    }
   },
   "outputs": [
    {
     "name": "stdout",
     "output_type": "stream",
     "text": [
      "1.0\n",
      "[0.00697286 0.66613633]\n"
     ]
    }
   ],
   "source": [
    "print(sigmoid(0)) \n",
    "print(sigmoid(np.array([-5., 1.2])))"
   ]
  },
  {
   "cell_type": "markdown",
   "metadata": {},
   "source": [
    "Then, implement the `predict_proba` function to obtain prediction probabilities. It takes as input:\n",
    "\n",
    "- `X`: an array of inputs, i.e. documents represented by bag-of-ngram vectors ($N \\times |vocab|$)\n",
    "- `weights`: a 1-D array of the model's weights $(1, |vocab|)$\n",
    "\n",
    "and returns:\n",
    "\n",
    "- `preds_proba`: the prediction probabilities of X given the weights"
   ]
  },
  {
   "cell_type": "code",
   "execution_count": 24,
   "metadata": {
    "ExecuteTime": {
     "end_time": "2020-02-15T14:17:44.718566Z",
     "start_time": "2020-02-15T14:17:44.715017Z"
    }
   },
   "outputs": [],
   "source": [
    "def predict_proba(X, weights):    \n",
    "    preds_proba = sigmoid(np.matmul(X, weights.T))    \n",
    "    \n",
    "    return preds_proba"
   ]
  },
  {
   "cell_type": "markdown",
   "metadata": {},
   "source": [
    "Then, implement the `predict_class` function to obtain the most probable class for each vector in an array of input vectors. It takes as input:\n",
    "\n",
    "- `X`: an array of documents represented by bag-of-ngram vectors ($N \\times |vocab|$)\n",
    "- `weights`: a 1-D array of the model's weights $(1, |vocab|)$\n",
    "\n",
    "and returns:\n",
    "\n",
    "- `preds_class`: the predicted class for each x in X given the weights"
   ]
  },
  {
   "cell_type": "code",
   "execution_count": 34,
   "metadata": {
    "ExecuteTime": {
     "end_time": "2020-02-15T14:17:45.002125Z",
     "start_time": "2020-02-15T14:17:44.998668Z"
    }
   },
   "outputs": [],
   "source": [
    "def predict_class(X, weights):    \n",
    "    pre_pro = predict_proba(X, weights)\n",
    "    preds_class = (pre_pro > 0.5)    \n",
    "    \n",
    "    return preds_class"
   ]
  },
  {
   "cell_type": "markdown",
   "metadata": {},
   "source": [
    "To learn the weights from data, we need to minimise the binary cross-entropy loss. Implement `binary_loss` that takes as input:\n",
    "\n",
    "- `X`: input vectors\n",
    "- `Y`: labels\n",
    "- `weights`: model weights\n",
    "- `alpha`: regularisation strength\n",
    "\n",
    "and return:\n",
    "\n",
    "- `l`: the loss score"
   ]
  },
  {
   "cell_type": "code",
   "execution_count": 26,
   "metadata": {
    "ExecuteTime": {
     "end_time": "2020-02-15T14:17:45.455533Z",
     "start_time": "2020-02-15T14:17:45.451475Z"
    }
   },
   "outputs": [],
   "source": [
    "def binary_loss(X, Y, weights, alpha=0.00001):\n",
    "\n",
    "    l = - np.mean(np.reshape(Y,[-1,1]) * np.log(predict_proba(X, weights)) + (1 - np.reshape(Y,[-1,1])) * np.log(1 - predict_proba(X, weights))) + alpha * np.sum(weights**2)\n",
    "\n",
    "    return l\n",
    "    "
   ]
  },
  {
   "cell_type": "markdown",
   "metadata": {},
   "source": [
    "Now, you can implement Stochastic Gradient Descent to learn the weights of your sentiment classifier. The `SGD` function takes as input:\n",
    "\n",
    "- `X_tr`: array of training data (vectors)\n",
    "- `Y_tr`: labels of `X_tr`\n",
    "- `X_dev`: array of development (i.e. validation) data (vectors)\n",
    "- `Y_dev`: labels of `X_dev`\n",
    "- `lr`: learning rate\n",
    "- `alpha`: regularisation strength\n",
    "- `epochs`: number of full passes over the training data\n",
    "- `tolerance`: stop training if the difference between the current and previous validation loss is smaller than a threshold\n",
    "- `print_progress`: flag for printing the training progress (train/validation loss)\n",
    "\n",
    "\n",
    "and returns:\n",
    "\n",
    "- `weights`: the weights learned\n",
    "- `training_loss_history`: an array with the average losses of the whole training set after each epoch\n",
    "- `validation_loss_history`: an array with the average losses of the whole development set after each epoch"
   ]
  },
  {
   "cell_type": "code",
   "execution_count": 27,
   "metadata": {
    "ExecuteTime": {
     "end_time": "2020-02-15T14:17:45.968510Z",
     "start_time": "2020-02-15T14:17:45.958185Z"
    }
   },
   "outputs": [],
   "source": [
    "def SGD(X_tr, Y_tr, X_dev=[], Y_dev=[], loss=\"binary\", lr=0.1, alpha=0.00001, epochs=5, tolerance=0.0001, print_progress=True):\n",
    "    \n",
    "    cur_loss_tr = 1.\n",
    "    cur_loss_dev = 1.\n",
    "    training_loss_history = []\n",
    "    validation_loss_history = []\n",
    "    \n",
    "    # fill in your code...\n",
    "    weights = np.zeros([1, X_tr.shape[1]])\n",
    "    for i in range(epochs):\n",
    "        # generate random order of Dtrain\n",
    "        ran_order = np.random.permutation(X_tr.shape[0])\n",
    "        for j in ran_order:\n",
    "            Y_pred = predict_proba(X_tr[j:j+1,:], weights)\n",
    "            weights = weights - lr * ((Y_pred - Y_tr[j])*X_tr[j:j+1,:] + 2*alpha*weights)\n",
    "        training_loss_history.append(binary_loss(X_tr, Y_tr, weights, alpha))\n",
    "        validation_loss_history.append(binary_loss(X_dev, Y_dev, weights, alpha))\n",
    "        \n",
    "        if print_progress:\n",
    "            print('Epoch: {}| Training loss: {}| Validation loss: {}'.format(i, training_loss_history[-1], validation_loss_history[-1]))\n",
    "\n",
    "\n",
    "        if len(validation_loss_history)>=2 and np.abs(validation_loss_history[-1] - validation_loss_history[-2]) < tolerance:\n",
    "            break\n",
    "        \n",
    "    return weights, training_loss_history, validation_loss_history"
   ]
  },
  {
   "cell_type": "markdown",
   "metadata": {},
   "source": [
    "## Train and Evaluate Logistic Regression with Count vectors\n",
    "\n",
    "First train the model using SGD:"
   ]
  },
  {
   "cell_type": "code",
   "execution_count": 28,
   "metadata": {
    "ExecuteTime": {
     "end_time": "2020-02-15T14:17:51.480197Z",
     "start_time": "2020-02-15T14:17:46.362729Z"
    },
    "scrolled": true
   },
   "outputs": [
    {
     "name": "stdout",
     "output_type": "stream",
     "text": [
      "Epoch: 0| Training loss: 0.7491269740971648| Validation loss: 0.8046943590266113\n",
      "Epoch: 1| Training loss: 0.6632066163643529| Validation loss: 0.744190337094286\n",
      "Epoch: 2| Training loss: 0.6012556577953684| Validation loss: 0.7082787296712248\n",
      "Epoch: 3| Training loss: 0.5542493607279751| Validation loss: 0.67929906245208\n",
      "Epoch: 4| Training loss: 0.5189291567893745| Validation loss: 0.6554786732594617\n",
      "Epoch: 5| Training loss: 0.48892717200937713| Validation loss: 0.6405629730318463\n",
      "Epoch: 6| Training loss: 0.4746160889664381| Validation loss: 0.6270948106541989\n",
      "Epoch: 7| Training loss: 0.44158921162430104| Validation loss: 0.6212175013094797\n",
      "Epoch: 8| Training loss: 0.42338785970266113| Validation loss: 0.6144844947084669\n",
      "Epoch: 9| Training loss: 0.40613722554342724| Validation loss: 0.6165126257172049\n",
      "Epoch: 10| Training loss: 0.3938301960805225| Validation loss: 0.6034109985053359\n",
      "Epoch: 11| Training loss: 0.3826897251573584| Validation loss: 0.5975038071970652\n",
      "Epoch: 12| Training loss: 0.36769214552621543| Validation loss: 0.610575919725975\n",
      "Epoch: 13| Training loss: 0.3567637119789832| Validation loss: 0.6007406912792547\n",
      "Epoch: 14| Training loss: 0.34728039849264347| Validation loss: 0.5967732707763563\n",
      "Epoch: 15| Training loss: 0.34157293243102876| Validation loss: 0.5956035517924237\n",
      "Epoch: 16| Training loss: 0.3310080760850817| Validation loss: 0.5952691428490792\n",
      "Epoch: 17| Training loss: 0.3249585003770718| Validation loss: 0.588533674056405\n",
      "Epoch: 18| Training loss: 0.31934718504547577| Validation loss: 0.5884514926098178\n"
     ]
    }
   ],
   "source": [
    "w_count, loss_tr_count, dev_loss_count = SGD(X_tr_count, Y_tr, \n",
    "                                             X_dev=X_dev_count, \n",
    "                                             Y_dev=Y_dev, \n",
    "                                             lr=0.0001, \n",
    "                                             alpha=0.001, \n",
    "                                             epochs=100)"
   ]
  },
  {
   "cell_type": "markdown",
   "metadata": {},
   "source": [
    "Now plot the training and validation history per epoch. Does your model underfit, overfit or is it about right? Explain why."
   ]
  },
  {
   "cell_type": "code",
   "execution_count": 31,
   "metadata": {
    "ExecuteTime": {
     "end_time": "2020-02-15T14:17:51.598911Z",
     "start_time": "2020-02-15T14:17:51.482307Z"
    }
   },
   "outputs": [
    {
     "data": {
      "text/plain": [
       "Text(0, 0.5, 'Loss')"
      ]
     },
     "execution_count": 31,
     "metadata": {},
     "output_type": "execute_result"
    },
    {
     "data": {
      "image/png": "[encoded data removed]",
      "text/plain": [
       "<Figure size 432x288 with 1 Axes>"
      ]
     },
     "metadata": {
      "needs_background": "light"
     },
     "output_type": "display_data"
    }
   ],
   "source": [
    "plt.plot(range(19), loss_tr_count, color = 'blue', label='training loss')\n",
    "plt.plot(range(19), dev_loss_count,color = 'red', label = 'validation loss')\n",
    "plt.legend()\n",
    "plt.xlabel('Epochs')\n",
    "plt.ylabel('Loss')"
   ]
  },
  {
   "cell_type": "markdown",
   "metadata": {
    "ExecuteTime": {
     "end_time": "2020-01-21T16:52:26.583150Z",
     "start_time": "2020-01-21T16:52:26.578754Z"
    }
   },
   "source": [
    "**From the graph above, we can know my model is overfitting, because the training loss is lower than the validation loss.**"
   ]
  },
  {
   "cell_type": "markdown",
   "metadata": {},
   "source": [
    "Compute accuracy, precision, recall and F1-scores:"
   ]
  },
  {
   "cell_type": "code",
   "execution_count": 37,
   "metadata": {
    "ExecuteTime": {
     "end_time": "2020-02-15T14:37:40.569499Z",
     "start_time": "2020-02-15T14:37:40.566796Z"
    }
   },
   "outputs": [
    {
     "name": "stdout",
     "output_type": "stream",
     "text": [
      "Accuracy: 0.7975\n",
      "Precision: 0.7741935483870968\n",
      "Recall: 0.84\n",
      "F1-Score: 0.8057553956834531\n"
     ]
    }
   ],
   "source": [
    "# fill in your code...\n",
    "\n",
    "\n",
    "preds_te_count = predict_class(X_test_count, w_count)\n",
    "print('Accuracy:', accuracy_score(Y_te,preds_te_count))\n",
    "print('Precision:', precision_score(Y_te,preds_te_count))\n",
    "print('Recall:', recall_score(Y_te,preds_te_count))\n",
    "print('F1-Score:', f1_score(Y_te,preds_te_count))"
   ]
  },
  {
   "cell_type": "markdown",
   "metadata": {},
   "source": [
    "Finally, print the top-10 words for the negative and positive class respectively."
   ]
  },
  {
   "cell_type": "code",
   "execution_count": 40,
   "metadata": {
    "ExecuteTime": {
     "end_time": "2020-02-15T14:37:07.638179Z",
     "start_time": "2020-02-15T14:37:07.635838Z"
    }
   },
   "outputs": [
    {
     "name": "stdout",
     "output_type": "stream",
     "text": [
      "top 10 postive, 1-10\n",
      "weir is well-respected in hollywood for turning scripts with difficult subject-matter into deceptively simple , powerful films , the mosquito coast ( utopia ) and fearless ( post-traumatic stress disorder ) among them .  in the truman show , weir essentially breathes life into the now-tired concept of media-manipulation by tackling the material from the inside-out .  it certainly helps that he has an underrated performer in top-form playing the title character , truman burbank .  by now you must be aware of the premise : unbeknownst to him , truman ( carrey ) is the star of his own tv series , a 24-7 peep-show in which he is surrounded by actors and placed in loosely scripted situations ; people around the world tune in for the voyeuristic thrill of his genuine reactions to fictitious stimulants .  `seahaven' , his hometown , and the show itself , are the brainchild of christof ( harris ) , who presides over his creation in the base of a fake moon , directing over 500 cameras and hundreds of actors and extras .  for 30 years , truman suspects nothing-`we accept the reality we're given , ' poses christof-but a desire to break free of the sunny town and visit a long lost love in `fiji' ( mcelhone , who was actually an actress fired by christof for trying to break the confidentiality agreement ) overwhelms him .  thus , christof and his team suddenly find themselves working twice as hard to keep the veneer of seahaven intact , lest truman discover the world outside and put an end to the highly-rated program .  in a few broad strokes , weir creates a convincing second-reality , and he has the good sense not to bring christof into the picture until almost three-quarters through .  this allows us to comprehend and accept truman's world before we contextualize it .  for all his madness , christof has shown the world a place without violence and hardship , and demonstrated that a human being can function well within it .  truman is an inspiration to his audience because he grew up to be , well , so darn nice ; like a sibling ( or , perhaps more appropriately , a caged animal in an interactive zoo ) , they want to see him succeed .  the surrealistic soap opera is completely plausible thanks to a tight screenplay and a sympathetic carrey-he really is an everyman here , abandoning his facial contortions in favour of a credible , wide-eyed bewilderment .  cinematically , the truman show is impeccable , stylishly photographed by peter biziou and littered with symbolic images .  as well , it employs wojciech kilar's piece \" zycie za zycie' masterfully and beautifully .  if the film has any flaws , one may find them in laura linney's characterization as meryl , truman's \" wife \" ( i doubt that betty crocker impersonation would fool anyone ) , and in a subplot involving truman's `father' , which feels curiously incomplete .  there are a few stupendous sequences , and the film pulls off a wonderful trick : we become truman's audience as much as the loyal viewers in the film .  they wear buttons asking `how will it end ? '  i couldn't wait to know myself , though i didn't exactly want it to end , for this inspired movie is possibly the best-and most complex-summer picture in years .  \n",
      "kolya is one of the richest films i've seen in some time .  zdenek sverak plays a confirmed old bachelor ( who's likely to remain so ) , who finds his life as a czech cellist increasingly impacted by the five-year old boy that he's taking care of .  though it ends rather abruptly-- and i'm whining , 'cause i wanted to spend more time with these characters-- the acting , writing , and production values are as high as , if not higher than , comparable american dramas .  this father-and-son delight-- sverak also wrote the script , while his son , jan , directed-- won a golden globe for best foreign language film and , a couple days after i saw it , walked away an oscar .  in czech and russian , with english subtitles .  \n",
      "the jekyll and hyde story told from his maid's point of view is , in a word , \" dark \" .  you wouldn't expect something bright and cheery based on robert louis stevenson's novel , but the film is surprisingly dreary and dismal .  jekyll/hyde ( john malkovich ) is terminally depressed and desperate .  mary reilly ( julia roberts ) is a victim of monstrous child abuse and the anti-woman sentiment of the times .  director stephen fears' version of the london slums makes us marvel that anyone survived them .  the lighting level is exceedingly low throughout the movie : it almost appears to be filmed in black and white .  the direction and cinematography are brilliant and liquid .  scenes flow into the next scene like honey oozing off a strawberry .   ( except there's no red , of course . )  the look is so moody and melodramatic that you'll be shocked when you leave the theater .  i saw it at a matinee and took quite a while to adjust to the sunny skies afterward .  often the jekyll and hyde archetypes are viewed as splitting a whole person into components of good and evil or perhaps cerebral and emotional parts .  here the doctor is intellectual and perhaps good , but certainly powerless .  his alter ego is forceful and totally without conscience .  two parts that make up a whole .  neither are capable of functioning without the other and once separated , disaster is inevitable .  the differences between the two characters would be more effective if it were accomplished by demeanor and attitude .  when we finally see the transformation , the special effects thrust the story into the realm of science fiction , not the psychological horror that the tale demands .  roberts and malkovich are skillful in their roles .  both are suitably melancholy , fitting in with the rest of the film .  the only flash of life and color comes from glenn close ( and her lips ) as the madam of a whorehouse where hyde lives , and surprisingly , jekyll apparently frequents .  life and color maybe , but this is not close's best role .  she seems little more than a cardboard cutout character .  a beautiful film in its own dreary way .  you'll appreciate the filmmaking craft , but don't expect to leave in an upbeat mood .  \n",
      "i can sum up first strike in one word : awesome .  never in my life have i seen an actor as insanely dedicated as jackie chan .  for the simple reason that he has performed his own stunts in his every movie he's ever appeared in , he should be awarded greatly .  the same tom and jerry formula that was used to make chan's rumble in the bronx and supercop so entertaining can be found here as well .  however , first strike was probably the most exciting out of the three , for the simple reason that practice makes perfect .  his last two movies were almost like practice and this one was great .  like rumble , this film is about the mafia , the former kgb .  now chan must do battle in the freezing arctic temperatures of the ukraine against a group of very large bad men .  the trailer for the film sums it up quite well .  first strike is action-packed , but the fight scenes are so fast and furious , they almost have a witty , italian-like humor to them .  jackie chan is a regular comedian .  well , he's no eddie murphy , but he can really crack you up .  for example , he is hanging off a roof and he humorously taunts his foes to come and get him , as he claims to be the korean 007 ( that's secret agent james bond ) .  even the plot to this film improved above the others , as a sort-of twisted nuclear-weapon smuggling deal is botched and jackie takes the blame .  but never fear , as the chinese mafia aids him in uncovering the truth behind the incident .  with some of the most high-flying stunts and side-splitting comedy , first strike is a sure-fire hit that's guaranteed to draw some major , world-wide attention .   ,  \n",
      "a costume drama set in the 1500s , england , elizabeth is a lush , romantic , political masterpiece about the upset over the crossing of a protestant queen from a respected catholic one .  when the court and country are a whole after the passing of the queens , the royal family , so to speak , are upset that a protestant should be crowened , and not another catholic , plus , the new queen , elizabeth i ( cate blanchette ) , was the bastard baby of the previous queen mary's father .  the persecution over catholics and protestants isn't the only majority in elizabeth .  elizabeth i must face the decision to give up personal pleasures , and her lover ( joseph fiennes of shakespeare in love ) , in order to rule , successfully , the country , which she did for 40 more years .  both elizabeth and shakespeare in love are set in the elizabethian era , and both feature a queen elizabeth i ( judi dench plays her in love ) , or course .  yet , i found elizabeth more stimulating and involving than love , not just because elizabeth features a great deal more of elizabeth i , but because i found blanchette a more powerful , hypnotic sense for the role .  elizabeth , also featuring geoffrey rush and richard attenborough , is my pick for the best picture of 1998 award .  it's a dynamic , important , breathtaking film of loyalty , power , greed , and trust .  shakespeare would die for the book rights .  \n",
      "seen september 5 , 1998 at 10 p . m . at the sony nickelodeon theaters ( boston , ma ) , theater #2 , with matt perreault for free using my sony/loews critic's pass .  [theater rating : * * 1/2 : okay seats , sound , and picture]  modern society is now inundated with more sex and sexuality than it ever has been before , from teenage sitcoms to nc-17-rated films about fetishes .  the biggest debate of the subject is whether or not it affects reality or just reflects it .   \" your friends and neighbors \" takes a different approach as it's a film that revolves almost entirely around sex and how can be used for both pain and pleasure even within a small circle of friends .  one of the most important aspects of the film that most be noted and analyzed before the film can really be dissected as a whole is writer/director neil labute's basic setup and some of the unique methods he employs to tell the story .  firstly , and most importantly is the fact the script tells a rather complex , detailed story of lust , betrayal , arrogance , hypocrisy , greed , and just plain stupidity between six different characters ( three men , three women ) , without hardly any supporting characters , ( a few have a line or two ) , mostly extras .  everything they do will somehow affect another character and ultimately come full-circle back to themselves , whether it be positive or negative .  but to just state this is arbitrary , and explaining and criticizing the process is difficult .  labute's ability to tell his story through a few characters is a remarkable feat , but what's specifically impressive is the fact the characters' names are never revealed until the end credits roll .  for the sake of this review , i will describe the characters and refer to them as their main characteristic .  another interesting accomplishment is the fact every scene takes place inside with limited focus .  we're always able to tell where the characters are ( someone's home , the gym , a restaurant , hotel room , etc . ) , but what the city they live in , what year it is , what the society is like , etc . is relatively unknown .  the film is a complete character study with the tight , intense drama of the theater .  no one plot dominates the story , which makes the first act a bit tedious for its lack of background .  we're simply dropped in on the characters' lives and are expected to figure out the rest .  the characters are a group of middle-class white people who are all successful at what they do , but they're only concern right now seems to be their sex lives .  first there's barry ( eckhart ) and mary ( brenneman ) , a married couple who are going through a dry spell not unlike many other couples in other situations who don't know what they're problem is .  barry is kind of a dorky businessman who loves his wife , and the sex they have , but doesn't have a lot of ambition - he just follows everyone else .  mary is a writer of some sort , but lacks aggression and emotion like her husband and is the meekness character , but ironically , doesn't hesitate to commit adultery just to feel something .  labute's script does a good job in characterizing mary and barry as individuals , but is very light on chemistry and connection between the two .  obviously , this is the theme , which is enhanced by the actors' good performances , but at the same time seems just a bit hollow .  another couple is jerry ( stiller ) and terri ( keener ) who live together and seem to have been involved with each other for a long time , yet they constantly argue over anything and everything .  their sex life is also fraught with problems and for some reason they continue to do it throughout their infidelitous relationship .  if only one aspect of the film could use improvement , it would be this area .  it's natural for a married couple to become bored with each other , but why would two people who can barely stand each other continue to have sex and live together ?  what did they ever see in the other person to begin with ?  labute never really answers , but since the film is more concerned with the payoff than the process , it still makes for good drama , tension , and manip ulation so intricate and deceitful it's fascinating .  two other characters act as catalysts , cary ( jason patric ) and cheri ( natassja kinski ) .  cary is an arrogant , hostile sex-maniac who defines the word \" bastard . \"  somehow he is able to bend women to his will , either through charm or just attitude , into getting his way .  he's the kind of guy everyone should stay away from as we realize he's secretly perverted , but somehow barry finds comfort in his company , although jerry is always nervous around him .  patric gives an outstanding performance , so much so that we want to know more about him despite how intimidating and unlikable he is .  cheri is a character labute uses as a catalyst to see how the other characters react to her .  she works in an art museum and at some point throughout the film , each character will engage her in almost the exact same conversation and her reaction is always different , from becoming involved in a relationship with one , to brushing it off as small talk with another , to being outright appalled by yet another .  she's a sweet woman , perhaps the most normal of any of the characters , and although her symbolism is obvious , her role as the outsider is the most relatable .  i will not reveal who cheats on who and how each character is specifically affected by the others' action , as that's the hook of the film .  the first two acts begin to set up the characters and each's scenarios , but it's often difficult to tell what they will do about it and with whom .  the result is sometimes surprising , other times predictable , but the actual course of actions is always fascinating .  for a while everyone has their fun , but ultimately each character's guilt , attitude , or ignorance will disserve them .  one of the most important things to note is how realistic the story is supposed to be .  since the characters only interact with each other there isn't much pop culture references , as almost everything has a deeper philosophy behind it .  are we to assume that these people are , as the title states , our friends and neighbors ?  i don't know of anyone going through the same situations as these people .  often times the film is not unlike a network melodrama , other times situations are like those not seen outside a porno movie .  but what this film does have that the others don't is repercussions in the end .  although the film creates its own reality , it goes to show that even the immoral aren't immortal .  in what way \" your friends and neighbors \" is supposed to work is open to interpretation .  it definitely has a lot to say about the price that comes with infidelity , but it could have been even better had it expanded on that theme more specifically .  still , it's an accomplishment in film-making because it has put a timeless theme into a modern perspective .  \n",
      "synopsis : upper middle class , suburban family man lester ( kevin spacey ) realizes that he is just going through the motions : he is unable to feel passion ; he is soulless , cynical , and no longer able to feel the edge between success and failure .  everyone else around him has similar symptoms .  lester's unassertive daughter jane ( thora birch ) is too lethargic to change her world , yet all too ready to whine and complain .  his wife carolyn ( annette bening ) is reduced to keeping up appearances and reciting commercialist slogans .  and these are people with a big house and a decent standard of living .  the only person who seems able to appreciate beauty and freedom and life is the person most deprived of it : a dope-dealing teen from across the street who is practically imprisoned by a domineering , bullying father .  when lester embarks on a mad scramble to feel the edge again , the fact that he has quit his job to feel what it's like - - and his newfound interest in exercise to impress a teenage girl - - ruffle a lot of feathers in the family .  will lester regain his ability to appreciate life ?  opinion : people say it all the time : you never appreciate good health until it's gone .  likewise , people raised in fabulously pampered prosperity can become unhappy and spiteful over the dumbest , most inconsequential problems , simply because they have no clue how good they have it .  sometimes it takes a near fall - - accidentally or through deliberate fasting - - to move out of apathy and reclaim your ability to challenge the world .  the deprivation/appreciation cycle is a major theme of american beauty .  american beauty is a non-formula , intelligent and articulate movie that offers fantastic performances by everyone in the cast , especially kevin spacey , who is simply gosh darn amazing this movie .  the thing i like about american beauty is that there is no sentimental music , no hospital scene nor any overly dramatic hokum .  the movie entertains and offers brilliant performances just as is .  if you are in the mood for a thoughtful , non-formula flick , i highly recommend american beauty .  \n",
      "i'm an avid fan of the \" alien \" saga , so this review is obviously a tad biased ( at least i admitted it ) .  of course , that doesn't mean that i'm gonna be giving this a four-star review or something , because \" alien : resurrection , \" the fourth film in the cool-as-hell series is not an absolutely amazing film , much like the first two were .  however , it's a very good film which never fails to entertain , and consists of yet another mutation in the style of the series .  in short , i had a good time .   \" alien : resurrection \" leaves off 200 years after the last one , where our heroine protagonist , ellen ripley ( sigourney weaver ) , the science fiction genre's answer to job , had killed herself after discovering that an alien was inside her body , waiting to pop out like it did to john hurt in the first one .  of course , the last one wasn't very great or anything ( i liked it , though not as much as the first two ) , and more importantly , it wasn't financially successful ( a tawdry 55 million bucks ! ) .  so back we are , with ripley back as a clone , which means we get another little satirical look at cloning ( not that that's a bad thing , but it's becoming a cliche ) .  so she's cloned aboard an even more futuristic-looking ship called \" the auriga \" by some doctors ( including the necessary bad government guy , dr . wren , played by j . e . freeman , as well as the little-seen dr . gediman , played by none other than brad douriff ) , mainly because they have a version of her with the alien still inside her .  once you get past the fact that you can't figure out where they got her blood ( although i think it might have been from the blood samples taken by charles dance in the third one ) , the film's okay .  also on board are a band of mercenary pirates , including michael wincott , ron perlman , kim flowers , raymond cruz , dominique pinon ( a jeunet sytable ) and . . . winona ryder , who plays analee call , who turns out to have a bit of a secret ( i won't state it , but unless you've been shacking up with salinger for the past two years , you probably know all about it - although it's nicely covered up ) .  there's a bit of a non-sexual-yet-slightly-homoerotic relationship between her and ripley , but it's never really deepened enough .  oh well .  well , as you might have guessed , the alien and its spawn escape and run around the ship .  and it pretty much does away with most of the people on the ship ( including some shocks - dan hedaya , for instance , who's death is comical yet sad since , well , he's dan hedaya ) , and the remaining people ( about 7 or 8 ) are left to try and escape and stop the aliens from doing any major harm since the ship is heading quickly towards earth .  of course , the plot is all balderdash , and just an excuse for some good old \" alien \" -brand fun .  the real focus of the series seems to be on style , not really substance ( although there's always a bit of it , most notably in \" aliens \" with the relationship between ripley and the little girl ) .  what's interesting about the series is that each film is stylistically different in its approach .   \" alien \" is a claustrophobic exercise in quiet frights .   \" aliens \" is a wild , tense thriller .   \" alien 3 \" is a bleak , moody piece of semi-noir .   \" alien 4 \" is kind of like an off-beat french film , filled with lots of humor , and cool scares .  jean-pierre jeunet ( without his usual directing partner , marc caro ) creates a ship filled with the kind of scares films like \" das boot \" has , with echoes hinting at a possible threat .  the chills in the film are really cool , especially with the music , which is sometimes turned down completely for certain scenes ( there's the most tense surgery scene since \" face/off \" towards the beginning ) .  and not every chill turns into a bloody mess or anything like that .  this all combined with some good old humor makes this as interesting visually and stylistically as the others .  there are even a couple scenes which just stick out afterwards as being brilliantly executed .  one is the aforementioned surgery scene .  another one takes place between call and ripley , which is just awesome .  the underwater chase scene and the ladder scene afterwards is one of the most tense , thrilling , and jaw-dropping scenes in the entire saga ( with a small allusion to jeunet's earlier film , \" delicatessen \" ) .  and the way they do in the final alien is hysterically cool ( with a lovely allusion to \" goldfinger \" ) .  but the best scene in the entire film ( i'm sure i'm not the first to mention it ) takes place when ripley sees all the variations on her as they cloned her ( she has a an \" 8 \" tatooed on her arm ) .  it might be the most emotionally stimulating scene in the entire saga .  the screenplay by joss whedon is not a great piece of work , as it never really deapens a lot of the characters .  however , it does make us care about most of them , so that when there's very little of them , and it looks like one or more of them may become alien chow , we are pretty scared .  and , yeah , there are some very funny lines ( ripley : \" who do i have to fuck to get off this boat ? ! \"  johner : \" well , i can get you off .  but not this ship . \" )  the acting is good all around , with stand-out performances from ron perlman as the male chauvenist pig johner , and leland orser ( the poor bastad in \" se7en \" who performed the \" lust \" sin ) as an anxiety-ridden wannabe woody allen who has an alien inside him .  winona ryder is good , but not amazing like she usually is ( although she meshes well with the film ) .  of course , and as usual , sigourney weaver steals the show .  playing a variation on the ripley character ( less emotional , and more rude and bitter ) , she pulls it off while still being utterly lovable .  she's not going to get an oscar nomination like she did for \" aliens , \" but she's just awesome .  overall , it's a thrilling , entertaining film which doesn't really amaze like the first two , but is much more amazing than the third installment .  the style is the best part of the film , which isn't really a bad thing , but it being the best part takes away from a lot of the depth the film occasionally tries to apply .  but it's entertaining as hell , and it's definitely fit for the \" alien \" series .  \n",
      "that thing you do ! , from first-time film director tom hanks , is an enjoyable tale about a fictional band , the wonders , that goes from a garage band to the band with the fastest selling album in the country .  but , the question arrises , will the seduction of fame and fortune corrupt the band and lead them to become just another one-hit wonder , or will they stick together and become the next teen sensations ?  the \" oneders \" , as they are originally known , have their first gig at a very small-time contest .  jimmy , the lead singer , has written a catchy song and intends to play it at the contest .  but , a short time before the contest begins , the current drummer becomes injured and a replacement is needed .  enter guy patterson , skilled musician who currently works at his father's appliance store and is looking to break free from the restricting clutches that bind him .  he seems to fit in well , until the group takes the stage .  when they begin to play , guy's beat is much too fast and the pace is way off for the intended song .  it looks as though the group is doomed to failure .  but , the \" new \" song is a hit !  this leads to another gig , and soon enough , the group has an agent .  he doesn't do too much for them , but they do get their song played on the radio .  eventually , mr . white of playtone records approaches the group , and he informs them that they want to release a record .  before you can say \" billboard \" , the band is now renamed \" the wonders \" and the members are speeding their way to fame .  the gigs are getting better , their fame is increasing , and they have the fastest selling album in playtone records history .  the band is invited to appear in a feature film , and , they then fly out to hollywood to appear on television .  after the appearance on television , things start to fall apart .  two of the members of the band pretty much disappear , and things are not working out well between jimmy and guy .  will the band work it out , or will they split up and go on their own separate journeys towards success ?  that thing you do ! , complete with a nifty original song that actually sounded authentic , is a fun and enjoyable movie that , although it doesn't become clear if it wants to be a comedy , drama , or romance , is a well-made look into the world of music .  tom hanks' directorial debut was a good one and should lead to more work for him .  \n",
      "if there's one thing in common about all of hollywood's major studios , it's that their productions are moving toward mainstream more and more .  although twentieth century fox and new line cinema have spawned subsidiaries which specialize in independant or controversial motion pictures ( fox searchlight and fine line respectively ) , it's obvious there's no significant movement underway to promote inventive ideas at the theater .  so when a movie like gary ross' pleasantville comes along , wrapped in a blanket of innovative ideas and served up on a platter of fine production , it's a welcome change of pace for all who frequent the cineplexes .  although the atmosphere and buzz about the movie are cheery and lighthearted , pleasantville should not be mistaken for a no-thought movie .  quite the opposite is true , in fact , as director ross skillfully brings a narrative with intense and intelligent undertones to the screen .  the story , both about the joys of living life to the fullest as well as the social ills of segregation , captures the essence of statement-making in the cinema .  not in recent memory has a movie carried such weight of theme into widescale distribution , and even if mass audiences fail to see the ingenuity of ross' work , it is still a testament that his picture was considered worthy enough .  kudos to both he and his production staff for putting together this fine picture .  it stars tobey maguire and reese witherspoon as two nineties teenagers who , through quite a bit of luck , find themselves zapped into a fifties sitcom named \" pleasantville . \"  maguire , as the reserved bud parker , is perfect for the pseudo-world ; but the rebellious mary sue ( witherspoon ) is not at all made for the father-knows-best times .  it's not long before she sets the town of pleasantville on end , and begins to teach the townspeople - in a quite unlikely way - what life is * really * like .  soon hues of color creep into the black and white world , and while some embrace the change in the passion of realism , others fear the strangeness .  at one end is a soda shop owner-turned-painter named mr . johnson ( jeff daniels ) and at the other end is a close-minded mayor ( j . t .  walsh ) and his chamber of commerce ; but the two sides are simply fronts for a clash of ideas that soon involves the entire town .  fine performances are turned in all around .  maguire and witherspoon are effective as the leads , but the true complements go out to jeff daniels and j . t .  walsh ( in his latest and final posthumous performance ) .  daniels brings an atmosphere of awe , inspiration , and hope to his character , whereas walsh simply drips of sinister closemindedness - almost to the point where you can sense gene hackman's envy .  for daniels , it's his most commendable performance of the last three years - or more - and for walsh , it's a complementary exclamation point on a fine career .  also of lesser note is the supporting role by joan allen , and in viewing the entire cast works well together from start to finish .  there's not much to dislike about pleasantville , and its dynamic nature makes it the perfect movie for those who want serious as well as those who don't .  \n"
     ]
    }
   ],
   "source": [
    "# fill in your code...\n",
    "pre_word = predict_proba(X_test_count, w_count)\n",
    "index = np.argsort(pre_word,axis = 0)\n",
    "print('top 10 postive, 1-10')\n",
    "for i in range(1,11):\n",
    "    print(X_test_raw[index[-i,0]])\n",
    "    "
   ]
  },
  {
   "cell_type": "code",
   "execution_count": 41,
   "metadata": {
    "ExecuteTime": {
     "end_time": "2020-02-15T14:37:08.381103Z",
     "start_time": "2020-02-15T14:37:08.378641Z"
    }
   },
   "outputs": [
    {
     "name": "stdout",
     "output_type": "stream",
     "text": [
      "top 10 negative 1-10\n",
      " \" battlefield earth \" is the best comedy of the year .  it has to be .  the other prospect is just too horrifying to consider .  bad movie syndrome struck me again , so after witnessing how much \" battlefield earth \" has been proclaimed a train wreck in both critical and popular circles , i felt the masochistic urge to see the disaster first-hand .  is it as bad as advertised ?  oh yes , very much so .  the plot is incomprehensible .  the acting is atrocious .  the special effects are mediocre .  the action is dull .  the implausibilities are legion .  the dialogue is cringe-inducing .  the whole package is funny when it wants to be serious and irritating when it wants to be funny .  i don't even want to continue reviewing this movie ; i'd like to purge the atrocity from my mind as soon as possible , but you probably want to read my thrashing in all its sarcastic glory , so here it is :  the premise is basically a rip-off of \" planet of the apes , \" only minus the apes and philosophical discussion , and plus a race of evil aliens from the planet psychlo .  the year is 3000 , the psychlos have conquered earth , and the human population has been enslaved .  only a handful of humans escaped to radiation-rich areas to escape the aliens ; they live out their lives in fear .  one man , johnny goodboy ( i know , i know ) tyler ( barry pepper ) , ventures to the outworld and is captured by the psychlos .  there he confronts the psychlo head of security : a big , ugly , klingon-looking creature called terl ( john travolta ) .  pressed into slavery , johnny vows to lead a revolution and take the planet back .  meanwhile , terl is faced with his own problems : he has recently learned that he's stuck living on earth ( which he hates ) for the rest of his career because he pissed off his boss by sleeping with the big man's daughter .  he decides to give johnny knowledge of the psychlo language and technology ( this is where the plot gets ridiculous .   .   . )  so the \" man-animal \" can lead a mining expedition into places the psychlos can't go .  terl then plans to keep the mined gold for himself .  of course , his plan doesn't work .  so many things wrong with this movie -- where to begin ?  how about with travolta , whose hollywood clout brought about this , the cinematic version of scientology guru l . ron hubbard's sci-fi novel ?  early previews for \" battlefield earth , \" with constant shots of a makeup-laden travolta cackling like lex luthor , had me ( and several audience members ) remarking , \" what the hell is travolta thinking ? \"  the movie did nothing to stem such remarks .  all that ridiculous cackling he did in the trailers is in full force here : terl cackles after nearly every line , and so does every other psychlo .  of course , this makes every scene hilariously overwrought , no more so than when the script clumsily stumbles into political commentary .  the psychlos are probably supposed to be some kind of satire of corporate america , but ceos generally don't laugh maniacally after denying pay raises to their employees .   ( \" you were going to be promoted -- but now you're not !  fwahahahahahahahaha ! ! ! ! ! \" )  it's no big surprise terl loses to the humans -- he's an idiot .  he breaks every kind of supervillain rule in the book .  he underestimates his enemies , assuming he'll win just because he's smarter .   ( he uses the word \" leverage \" like some sort of scientologist mantra . )  not content to go the james bond villain route of explaining his plans to the hero , he hooks him up to a machine that gives him knowledge of all the psychlos' language and technology .   ( why this machine is even around in the first place is beyond me . )  he then appears shocked that johnny points a gun at him .  no wonder this guy never got his promotion .  the plot inconsistencies are too numerous to mention .  why do the psychlos build an earth base in which both they and the human slaves must wear little breathing apparatuses to survive ?  how come the psychlos are wasting their time mining for gold when the doors of fort knox are wide open ?  how in the world did all those fighter jets survive sitting in a hangar for 1 , 000 years ?  and how do all these previously brain-dead cavemen learn to fly them so quickly ?  there's a whole lot more to scratch one's head about in \" battlefield earth . \"  bring a scorecard to track the plot holes .  director roger christian shoots \" battlefield earth \" in the most distracting way possible , tilting nearly every shot sideways for no discernible reason .  all the characters appear to be standing on the walls , and it's awfully difficult to watch a movie when you must tilt your head just to watch ordinary passages of dialogue .  the action sequences are atrociously edited , every one turned into an endless slow-motion parade that drains all potential excitement .  are these things really so hard to construct ?  my respect for supposed \" lightweight \" action directors has grown by leaps and bounds after witnessing in \" battlefield earth \" how badly an action sequence can be shot .  this movie is an absolute headache .  it's not just the shot selection and editing ; the movie , quite frankly , makes no sense .  for most of \" battlefield earth's \" running time , i just didn't know what was happening .  it didn't have anything to do with me finding the events stupid or illogical ( though they certainly are ) -- i really had no idea what the hell was going on .  when i pieced the plot together later , it didn't look any better .  here's how much of a disaster this is : \" battlefield earth \" is already the worst movie of the year , and it's going to take something really , really inept to top it .  the only thing we can take comfort in about the film is that no one will be suckered into joining the church of scientology because of it .  in fact , i'd think that hubbard's cult would want to distance themselves from this bomb as fast as possible .  that'll teach me to give into bad movie syndrome again .  \n",
      "one of the responses those that enjoy \" detroit rock city \" ( probably kiss fans , mostly ) might have upon first glance at the rating i've given the film might be something like : \" oh , that casey's gone and become a jaded critic on us .  just what did he expect out of a dumb teenage rock n' roll movie like this ? \"  i'm wondering the same thing .  i feel like i should have had a grand time with \" detroit rock city . \"  it's the sort of movie i wish i could've had a lot of fun with , but i didn't .  i just didn't .  surely this film isn't trying to win any major awards , so should i have expected an oscar-caliber film ?  no , but i expected something .  a funny joke .  a clever prank .  a plot development .  anything .  the movie never delivers .  you've got to marvel at how the filmmakers managed to come up with a movie that is truly about nothing .   \" detroit rock city \" is one of those films that you walk out of after the credits have rolled and realize that you just spent 90 minutes watching a movie in which absolutely nothing happened to justify the film's existence , and it's not a very satisfying realization .  the film is about four teenage boys , all huge kiss fans from cleveland , trying to get into a kiss concert in detroit , michigan .  that's it .  there is no big plot description in this review , because the movie has very little plot .  the characters are hawk ( edward furlong ) , lex ( giuseppe andrews ) , trip ( james debello ) , and jam ( sam huntington ) .  they have a garage band .  they're pathetic , like all garage bands , but they like kiss and they like rock n' roll , so i guess that means we root for them .  they have tickets , they lose them .  they get more tickets , they lose those too .  they come up with crazy schemes to get tickets , most of which backfire .  there's not much more to it .  frankly , it becomes a little less than exciting to see them try to get kiss tickets about halfway through the film , when a total of eight tickets have already graced the boys' hands , only to be lost because of their sheer stupidity .  oh , and jam ( real name jeremiah ) has a really , really annoying ultra-religious mother who ought to be reported to the child welfare agency .  she doesn't want them to see kiss , if you hadn't figured that out already .  it's really quite disheartening to see such a fine soundtrack go to waste in a pointless movie like this .  we've got plenty of kiss , along with some ac/dc , ramones , and thin lizzy .  then again , \" maximum overdrive \" had an awesome soundtrack ( me being the big ac/dc fan that i am ) , but is probably one of the worst movies of all time .   \" detroit rock city \" doesn't quite reach that level of ineptitude , but it gets dangerously close .  in fact , the music is the only thing that keeps this movie from being a complete failure in my mind .  basically , the soundtrack has earned the film a full half-star , which means all the bands involved can pat themselves on the back ( except for marilyn manson , whose half-hearted cover of ac/dc's \" highway to hell \" sounds like something my neighbor's cat coughed up ) .  it's also really sad to see the talents of the cast go to waste , because it' s evident that they're all trying really hard to squeeze some life out of this dead turkey of a movie .  edward furlong has done far better work than this , and so has natasha lyonne , and so has lin shaye , but hey , they've got to make a living in hollywood .  people wanting to see kiss , and lots of it will probably be disappointed , considering the band appears for about five minutes and plays one song .  too bad , they might have provided some energy to this mess .  director adam rifkin knows he hasn't got much material to work with , so he takes a chapter from the michael bay book of directing and keeps his camera spinning .  we get an endless parade of quick-cuts , split-screens , zoom-outs , zoom-ins , and rotating cameras , all in an effort to cover up the sheer stupidity of the script .  it's fun for a while , but eventually it becomes disorienting .  i would recommend that those who felt seasick at \" the blair witch project \" stay far away from \" detroit rock city , \" because the witch has got nothing on this baby .  i haven't felt such an urge to reach out and hold the camera still since \" armageddon . \"  and what about that script ?  it's written by carl j . dupr ? , which sounds like as made-up a name as i've ever heard .  if it is , i can't say i blame the writer for distancing himself as far from this script as possible .  a plotless , pointless rock n' roll movie can be fun , if the jokes and gags are actually funny .  the jokes in \" detroit rock city \" rarely are .  in fact , the only time i really laughed was when a priest gets stoned on a marijuana-laced pizza , and that was just because it was so surreal .  the rest of the movie just seems like they just threw a bunch of vulgar stuff up on screen and called it \" comedy . \"  there is no set-up , just a succession of punchlines that don't provide for much in the way of chuckles , precisely because there was no set-up .  it's as if they just whacked someone on the head , pointed at him and said , \" see ?  funny ! \"  look , that woman was so shocked by hearing loud kiss music that she spilled her drink .  see ?  funny !  look , that guy just got clocked by a telephone receiver .  twice .  see ?  funny !  look , that kid has been vomiting for 20 minutes after drinking an inordinate amount of alcohol and is now about to perform an exotic dance for money .  see ?  funny !  a word of advice to mr . dupr ? : no , these things aren't funny all by themselves .  they must be preceded by a clever set-up so the audience hasn 't predicted them five minutes in advance .  that's it , i've said enough about this movie .  it's a waste of time and money .  i liked the music , but don't bother buying the soundtrack .  i hear it' s just modern bands doing inferior versions of the songs that are actually in the movie .  you want to see this concept executed well ?  go rent roger corman's 1979 classic \" rock n' roll high school . \"  it features another late-seventies rock band ( the ramones ) and a far more interesting story about a girl trying to get tickets to their show .  yes , go rent that , and skip \" detroit rock city , \" which will probably bomb , and deservedly so .  \n",
      "reindeer games is easily the worst of the three recent films penned by ehren kruger ( scream 3 and arlington rd are the others , each derivative in their own special way ) .  the guy can't seem to write believable dialogue ( sample from reindeer games : \" rule #1 : never put a car thief behind the wheel \" ) , create multi-faceted characters , or even engineer coherent plots but he sure knows how to pile on numerous nonsensical twists and turns ( no matter if each one deems the actual story increasingly unlikely ) .  his screenplay for reindeer games turns the tables on the audience so many times that watching the film becomes something of a punishment with no reward anywhere in sight .  i can just envision kruger laughing behind his keyboard , \" oh you thought my movie was gonna go here , f * ck you jack ass , take that twist , decipher this mother f * cker ! \"  it's almost as if the writer were angry at us for shelling out money to see his stupid movie .  and why the hell would anyone want to invest time in a movie when the screenwriter keeps changing his own rules for no reason other than to congratulate himself on how damn clever he is ?  auteur theory be damned ; it's kruger's \" style \" , not the director's that winds up on screen .  kruger has obviously never paid much mind to the old chestnut \" sometimes less is more \" .  and his numerous twists can't even claim to be originals ; arlington rd's ending is a direct steal from the much better alan j . pakula thriller the parallax view , and in reindeer games we get this ol' gem ; character incriminates themself by saying something they shouldn't know ( pronouns used to protect the gender of the \" character \" . . . grammar  be damned ) .   \" how did you know that ? \"  the stunned protagonist asks , suddenly realizing that the character was in on the whole thing all along .   .   .  since twist endings are currently so in vogue , and seeing as how kruger's screenplays usually come equipped with about three twists per ending , i guess it's no wonder why he works so frequently .  he's quickly becoming miramax's mickey mouse ; the company has already signed him to work on several of their upcoming projects .  this is appropriate considering that miramax ( which used to place their label on some of the most artistically daring films ) has quickly become a grindhouse for coddling foreign imports ( life is beautiful ) and freddie prinze jr . vehicles .  their company's current logo could be \" we ride the trends \" .  reindeer games stars ben affleck as rudy , a supposedly hardened criminal spending his days and nights behind bars with fantasies of pecan pies dancing atop his head .  although affleck is given some barbed wire tattoos to insinuate bad assness , he plays the role like steve guttenberg preciously mugging through a police academy flick .  affleck is such a puppy dog that it's impossible to believe he could survive in a harsh prison environment without becoming nearly everyone's bitch .  the role itself is so badly written ( the character only grows balls when the plot calls for it ) , the twists so outrageous , and the directing so self consciously gritty that this is about as close to self parody as i can recall a recent \" serious \" movie getting .  it may have been wiser had the film makers simply went all the way in that direction , casting jerry seinfeld as the hardened criminal and howard stern as the sniveling bad guy ( who's played here by gary sinise in yet another over the top villain performance )  james frain is nick , rudy's cellmate , a manslaughterer who's found a pen pal in the gorgeous ashley mason ( charlize theron ) .  ashley is a prison groupie who sends nick many cheesecake photos of her though she's never seen one picture of him .  which works out fine since the character is killed in a near-riot , and rudy ( who was to be paroled on the same day as nick ) takes his place , which leads to a sudden and very frenzied sex scene between ashley and rudy ( so frenzied it kinda looks like rape ) and a surprise visit from ashley's brother , gabriel ( gary sinise ) , who waltzes into their shabby hotel room flanked by his thuggish co-horts .  he plans to rob an indian casino on christmas eve with the assistance of rudy who he thinks is nick who , according to what he wrote in the letters to ashley , used to work as a guard in the indian casino .  though by the end , the film pulls the rug out from under us so frequently that everything i've described might as well be irrelevant .  this is what you can expect should you chose to take this reindeer on ; several scenes in which , after catching his prey , the bad guy proceeds to stall interminably until the good guy has a chance to kill his captor and crack a stupid one-liner .  included : two ( 2 ) scenes of two ( 2 ) different bad guys explaining their motives to the hero when they should be killing him ( one following the other no less ) .  though it's an action film , the ending is more a talkfest where we get the whole movie explained to us by one flustered character actor after another while affleck looks on , incredulous as the audience .  the flick was directed by john frankenheimer , a straightforward action director who lucked into the manchurian candidate early in his career , fell off the a-list following a string of flops and now , in his old age , is slowly climbing his way back up .  it would be a success story if he were choosing better scripts but his last major film was ronin ( one of those almost but not quite movies ) which followed the island of dr . morneau   ( you remember , the one with marlon brando in mime make-up and a not so flattering moo-moo ) , and now this .  he films action sequences with a minimum of quick cutting which i like considering that nowadays action scenes are commonly comprised of millisecond flash cuts strung together and laid out for a brain-zapped mtv audience to pick apart .  problem is these action scenes ( nearly all failed escapes ) serve no purpose in the story other than to further pad out the running time and to remind the audience that their watching an action movie rather than a filmed radio play .  character problems abound ; rudy is made to shift between sweet boy next door earnestness and hard edged wiseacre , the latter of which is not ( at least at this point ) something ben affleck is capable of pulling off .  the former he can do with ease and often the actor coasts on his lackadaisical charm while those around him growl and swear .  but then suddenly affleck starts growling and swearing alongside them like the class clown imitating a tarantino gangster .  charlize theron , an extraordinary talent , is , like affleck , playing whatever part the script requires her to play , whether it be vulnerability at one moment , anger at the next .  she never has a chance to evince any charm or make much of an impression beyond her obvious physical attributes ( frankenheimer has her needlessly pop her top to further italicize this .  gary sinise has played this role frequently , and here , as in snake eyes , he does the snarling bad guy thing with such over the top vitriol ( the guy must be so incredibly bored of stomping through the same paces that going out of control is the only thing that keeps him interested any more ) , that it becomes more of an annoyance ( oh there he goes again ? ? ? ) than a threat .  these are talented people who made the mistake of jumping on to a script with little but stock characters and a bag of tricks that it dully springs on its audience .  \n",
      "synopsis : valerie , a high school junior who doesn't look a day under 22 , writes bad poetry , complains about how much she hates school , fantasizes about a young guy on trial for raping and murdering six women , chooses him as a pen pal , and plays hooky to see him in court .  after a jailbreak , the killer puts on big sunglasses , wears a half-buttoned jacket , and uses his fatal charm to go after valerie .  comments : \" alan smithee \" directed fatal charm , which should have been more appropriately titled \" fatal bore \" or \" fatal crap \" .  if you find out that a film you're about to see is directed by \" alan smithee , \" then you should seriously , seriously , seriously consider watching something , anything , else .   \" alan smithee \" is a pseudonym which a number of directors have used when they produce something really bad .  frankly , i'd be embarrassed if i had directed this turkey , so i think i understand why the director might have picked the \" alan smithee \" moniker for this film .  where to begin with this painfully poor thriller ?  let's start with the acting .  it's pretty bad .  amanda peterson plays valerie and shows at least some talent ( the rest of the cast don't ) , even though her performance isn't exactly stellar material .  she's also miscast ; she seems way too old to still have a year of high school to complete .  her scenes with valerie's mother , played by mary frann , are a joke .  the two look as though they're a couple of coworkers going out to lunch together , rather than a daughter with her mother who just doesn't understand .  christopher atkins , a handsome enough actor who plays the killer , adam , looks like a clown in the second half of fatal charm .  trying to appear malicious and dangerous , he wears large sunglasses and a half-buttoned jacket .  if disney decided to do a zany comedy caper about the unabomber , atkins would probably be a perfect candidate for the lead , but he doesn't cut it here .  early on in the movie , a number of scenes occurs in a courtroom .  outside of the laughably poor performances given by the actors portraying lawyers , the people sitting in the benches provide the silliest effort at drama in the film .  they constantly shift and turn and arc their heads in mock interest in what has got to be one of the worst perfomances that a large group of people have given at one time ever .  fatal charm's storyline , such as it is , inspires more yawns than thrills .  the script belabors a red herring , early on , about a second suspect who may have committed the murders for which adam ( atkins ) is charged with .  this suspect , however , turns up strangled and drowned halfway through the film : an obvious plot fault .  even for the idiots who didn't consider the movie's title as valerie and a blond newsreporter commented how innocent and charming the defendant seemed , it becomes quite obvious that adam is dangerous when the other suspect washes up .  so , the audience must wait ( if they haven't already stopped watching ) as the necessary details fall into place and the killer goes after the heroine in the drawn-out finale .  the video box for this dud describes fatal charm as an \" erotic thriller \" .  a thriller it isn't , and neither is it particularly erotic .  i can't imagine , if someone were in the mood for something \" erotic , \" that he'd be happy after watching this fluff .  a few erotic moments occur in the film ; they take place in a van with little lighting and are filmed out of focus ( see , they're supposed to be valerie's fantasies -- how creative ) .  on a personal note , i was disturbed by the ludicrous english literature class shown in this film which valerie had to suffer through .  it's no wonder why she hated high school so much .  as an instructor of english myself , i have a hard time accepting the fact that in a course emphasizing great literature , a teacher would stoop to reading a student's bad poetry ( of course , it's valerie's ) about boyfriends out loud and then embarassing its author in front of class with questions about the poem's inspiration .  i guess the public school system is still setting dubious standards for its students .  fatal charm won't charm anyone , unless there's someone that's charmed by boring , lifeless , insipid , suspenseless thrillers .  if you happen upon this turkey , just keep moving on .  \n",
      "note : some may consider portions of the following text to be spoilers .  be forewarned .   \" quick , robin !  the anti-shark repellant ! \"  - adam west in the 1966 batman feature film , casually kicking at a pathetic-looking rubber shark attached to his leg  i had never thought that an entry in the modern incarnation of the batman feature film would approach this level of campiness , but in many instances batman and robin nears , and at some point even exceeds this standard .  this is a disasterously bad film , easily the worst in the series to date , and fairly epitomizes a cinematic definition of the word excessive - it's loud , garish , and obnoxious , with pointless , gratuitous action sequences and set pieces which clutter up the screen with elaborate production design to the point of overkill .  batman and robin features the caped crusaders ( george clooney debuting as batman , with chris o'donnell returing as robin ) squaring off against another bevy of chemically-induced villains - the nefarious ice-cold mr . freeze ( arnold schwarzenegger ) , armed with a weapon which freezes everything in its sights , and the slinky poison ivy ( uma thurman ) , who has the ability to blow powerful love dust into the faces of men in order so that they will fall helplessly in love with her ( not that the dust is really necessary to accomplish this result , but whatever ) , and then dispatch them with a poisoned kiss .  by ivy's side is the giant steroid monster bane ( jeep swanson ) , a grunting hulk of a beast .  the villains' goals are noble ones - freeze steals diamonds to power his climate suit ( in order to keep his body temperature at zero degrees ) , so that he can survive in order to devise a cure for his beloved wife ( vendela ) , dying of a degenerative disease and frozen in suspended animation , and ivy's intent is to restore the dominance of plant life on earth , albeit by destroying all human life .  meanwhile , on the homefront , life at wayne manor is thrown into upheaval by the illness of butler alfred pennyworth ( michael gough ) , and the arrival of his niece barbara ( alicia silverstone ) .  akiva goldsman's screenplay for the film is ridiculous and laughably bad , with astonishingly terrible dialogue , lame jokes , and an awful by-the-number plot which simply coasts along and fails to generate any genuine excitement .  it makes goldsman's screenplay of batman forever , which i thought was dreadful , look positively inspired in comparison .  i am still astonished that a cheesy plot device which i'd seen used in - no joke - an episode of gilligan's island somehow make its way into a multimillion dollar blockbuster production .  joel schumacher's direction of batman and robin is horrific , with a terrible balance of flashiness over substance .  there is a clear conceit towards neon in this film , even moreso than with his previous batman forever , with the revamped batcave helpfully sporting gigantic glowing emblems for the dynamic duo ( just in case , i suppose , if they ever happen to forget that the batcave is the headquarters of batman and robin ) , and with neon prominently figuring in an utterly-pointless fight sequence with bane and a street gang over ivy's chosen new abode .  another action sequence which fails to serve any useful point other than to chew up five minutes of screentime involves an incredibly uninvolving late-night motorcycle race with barbara and some gotham goons .  mr . schumacher's focus for batman and robin appears to be to make the film as visually striking as possible , to the detriment of the story - there are drastic shifts in the tone of the film between all-out camp and heartfelt drama , with the latter completely unconvincing and ineffective .  it is perhaps not the most promising of signs when the group i was with burst out laughing within twenty seconds of the film's opening , even before a single line of dialogue had been uttered .  is batman and robin supposed to be campy ?  i think it is - it's hard to imagine that the filmmakers could have intended many parts of the film to be taken at all seriously .   ( one of my favourites was when bane helpfully grunted \" bomb ! \"  each time he laid down an explosive device in the gotham observatory . )  is it supposed to be as overly campy as it turned out to be ?  i somehow doubt it - the subplot involving afred is delivered so solemnly and with such graveness that the impression is made that the film isn't attempting to be the utter farce which it is .  arnold schwarzenegger is top-billed in the film as the villainous mr . freeze , and is bland and uninteresting , perhaps the worst thing that a villain can be .  mr . schwarzenegger's attempts to be menacing are laughable , and his attempts at conveying pathos are laughable ; frankly , everything he does onscreen is laughable .  by the end of the film , i was stifling a chuckle every time he simply appeared onscreen .  the bulk of his performance consists of uttering near-unintelligble puns and one-liners featuring every possible permutation of \" cool ! \"  in the least inventive way .  george clooney has been given very little to do in batman and robin , being overshadowed by the villains , and consequently he looks rather uncomfortable in the film .  his batman is hardly an imposing figure .  chris o'donnell is unimpressive in a one-note performance , while alicia silverstone lackadasically fails to make any impression at all .  the film's one saving grace ?  undoubtably uma thurman's entertaining performance as sexy villainess poison ivy .  her work in batman and robin is certainly over-the-top , but in a controlled fashion which works splendidly within the tone of the film .  ms . thurman's comic timing is impeccable , and reminds us that it takes skilled performers to make campiness work successfully .   ( i'm already starting to positively reassess jim carrey's performance in batman forever . )  her amusing poison ivy is the most entertaining character in the film , and when she's offscreen the film greatly suffers .  i figure that if one has to die , being kissed to death by uma thurman isn't a half-bad way to go .  while batman and robin was hardly a ride of pulse-pounding excitement , i must admit that i was not bored watching it , although i did glance at my watch repeatedly through the screening - my attention was kept through anticipation of the utterance of yet another terrible pun or one-liner , and by awaiting yet another scene to fall flat .  it's been a long time since i've laughed so much at a movie .   \" at \" , of course , is the operative word .  \n",
      "i have a great idea for a movie , one that can't miss .  see , i've got coolio to do a song for the soundtrack , and about fifty athletes and celebrities to do cameo appearances .  it's about professional basketball , so i'll release it right around the nba finals to guarantee added publicity .  as for what the movie is actually about . . . well , that will all sort itself out eventually .  i figure it will be a comedy , so i'll throw a half-dozen writers at it and take the best of whatever they come up with .  maybe we'll put a gender spin on it , see if we can get some women out to see it , too .  eddie is one of those phenomenally lazy films that infuriates me more than any other kind .  twister , as inane as the script might have been , at least required some creative technicians ; mission : impossible , overwrought plot and all , at least involved genuine effort .  eddie just sits there , hawking up a formula story without any laughs , and makes every possible bad decision when a decision is required .  whoopi goldberg plays eddie franklin , a new york limo driver and die-hard knicks fan who is suffering through a dismal season for her beloved team .  coach john bailey ( dennis farina ) has lost control of his overpaid prima donnas , and the losses are beginning to mount .  the dwindling attendance inspires new team owner wild bill burgess ( frank langella ) to try a publicity stunt in which a lucky fan will get to be an honorary coach of the team .  the winner ( surprise , surprise ) is eddie , who becomes a fan favorite , and eventually the actual coach .  the knicks continue to lose , but eddie has some sassy tricks up her sleeve to inspire her troops .  incidentally , the knicks eventually start winning .  please raise your hand if that comes as a shock , and i will invite you to my all-night marathon of the bad news bears , major league , angels in the outfield , the mighty ducks , the big green , cool runnings and little giants .  awful teams in sports comedies make miraculous turnarounds ; it's what they do .  those teams usually involve kids , for a very sound comedic reason : it's funnier when they screw up , and they're more sympathetic .  those which _don't_ involve kids usually have actual actors in the lead roles , for another very sound comedic reason : they generally have developed some sort of comic timing .  eddie was cast under the misguided premise that it's easier to make basketball players look like actors than it is to make actors look like basketball players .  this finds nba players like greg ostertag , dwayne schintzius , rick fox and malik sealy delivering punch lines as though they were reading them for the first time off a bazooka wrapper ( though sacramento kings center olden polynice has a nice moment describing a black hole to fellow players ) .  perhaps that all didn't matter to anyone because there are so few punch lines , and because the whole film is one big casting gimmick .  steve rash directs the spiritless script as though waving a flag of surrender and screaming , \" don't blame me , i just work here . \"  perhaps it was patently obvious to him that eddie isn't a movie -- it's a cameo appearance that trips over a plot every once in a while .  among the notables who lend their faces to this travesty are donald trump , new york mayor rudolph giulianni , former new york mayor ed koch , david letterman , letterman regulars mujibur rahman and sirajul islam , espn broadcaster chris berman and knicks announcer marv albert , as well as dozens of nba players and several nba arenas .  and those are the real jokes in eddie .  nothing these individuals say or do is funny ; you are supposed to be laughing simply because you notice , \" hey , it's donald trump ! \"  or \" hey , it's mujibur and sirajul ! \"  it's difficult to decide whether eddie is so bad because it was so shamelessly lacking in imagination or because it can't even get the cliches in a cliche-ridden genre script right .  the knicks coach who is eddie's antagonist early in the film reappears at the end , but he isn't given a chance to be the villain eddie desperately needs .  neither is frank langella , and none of the athlete-actors have the ability to give whoopi goldberg anything to play off of .  that leaves her to do her street-wise miss thang routine , but with no character , no sharp lines and no help .  eddie isn't just a bad movie with a formulaic premise .  it's a movie that makes you feel cheated and offended , because someone came up with a poster and a marketing plan to which they had to attach an actual movie , and you had the nerve to believe it was going to be a comedy .  \n",
      "i'm really starting to wonder about alicia silverstone .  sure , she is one of the most beautiful creatures on god's green earth ( second only to that movie critic at large guy ) , but when it comes to choosing what movies she stars in , she always strikes out .  the crush was a slow-moving , predictable piece of fluff .  hideaway was a horrific novel adaptation alicia had only a minor role in .  clueless was an annoying , unfunny waste of time .  and people have e-mailed me too , saying clueless is a good movie and that i'm the only one who doesn't like it .  one girl said if i'd seen the movie with \" an open mind , \" i would have enjoyed it .  nothing could be further from the truth .  i went into the theater expecting to love the movie .  the preview looked good and of course i'm crazymadinlove with alicia , but the movie was a bunch of bad jokes coming from whiny , unlikable characters .  almost everyone i saw the movie with felt the same way .  when we were walking out of the theater , one guy ( and it wasn't me ) yelled out , \" that was the worst f$&#in' movie i've ever seen \" and the rest of us had to laugh in agreement .  so last night i walked into the video store and saw alicia's pretty face on the cover of some made-for-video thriller called the babysitter .  i knew it would be bad but some inner compulsion i'll probably never understand made me rent it anyway .  what i got was 90 minutes of regret--the worst alicia silverstone movie ever .  and you already know from the last paragraph what the competition is like .  where to begin in criticizing this movie ?  the plot is a thin shred that moves slower than a glacier , the writing could have been done ( and for all we know it was ) by a ten year old , alicia is the star and she's still wasted in a movie that has no appeal whatsoever .  there is zero humor , zero suspense , zero drama and zero action , until the last ten minutes , when the story is needlessly and pointlessly concluded with a violent sequence .  zero plus zero plus zero plus zero equals zero .  so why does this movie get one star out of me ?  well , alicia spends twenty minutes of the movie in the bathtub .  and if it wasn't bubble bath , the babysitter would have instantly joined the ranks of our other four- star features , but you settle for what you can get .  alicia plays a babysitter who's spending friday night looking after two kids whose parents are out getting drunk at a cocktail party .  and of course anyone as beautiful as alicia automatically spends their friday nights at home ( at least that movie critic at large guy does ) .  as the movie trods along , we discover she's not only the mostly-silent star of the movie but also the object of every male character's fantasies ( and probably every male viewer's too ) .  the drunken father thinks she's just the thing to recapture his lost youth , her boyfriend lets his imagination run wild while spying on alicia from outside , even the prepubescent boy looks in on alicia through the bathroom keyhole while she's taking her bubble bath .  they even throw in the middle aged wife's fantasies about a male counterpart at the party .  not that any of us asked or ever even thought about seeing this 200+ pound woman in a black silk teddy .  at least none of the sex fanatasies ever leave the realm of the pg-rated .  in fact , i could imagine the babysitter becoming a cinemax late-night staple if not for the fact that there's absolutely no nudity in it .  so you can't call it a sex flick .  i've already pointed out that it can't fall under drama , comedy , thriller or action , so what do you classify the babysitter as ?  bad .  \n",
      "this review contains spoilers , but believe me , i don't say anything you can't guess 10 minutes into the movie .  i * did * go into this one with high expectations .  i had been exposed to media reports that this film would signify a departure from the slasher flicks .  i sort of expected another exorcist or the shining .  i even put aside my general rule of not seeing this type of film .  boy , was i wrong !  another garbage slasher flick , the only difference being that * this * one has a story !  the story , you ask ?  well , a scumball buys a chinese puzzle from a guy in an arab souk .  he takes it home , somehow getting it past customs : - ) and starts fiddling with it in his attic .  lo and behold , after he takes it apart , three demons appear and start taking him apart , but with meat hooks .  when they're finished , his gizzards are hanging from the ceiling .  they botch up their cleanup job , however , and manage to leave his heart ( or some gland ; i didn't really recognize the organ ) under a floorboard .  the guy's brother and his brother's wife appear at the door soon after , and decide to move in .  they throw away scumball's belongings , and set up house .  turns out that wife is a bit of a nympho , and screwed around with scumball right before her marriage .  she starts having some wild hallucinations .  later , hubby spills some blood on the attic floorboards ( slow-mo special effects of the buckets of blood hitting the ground--all from the tiny cut on his hand ) .  said blood is eagerly sucked up by scumball's organ .  the organ grows into a thing that requires yet more blood in order to complete the regeneration into a really ugly thing .  it establishes mind contact with wife , who agrees to help him get more blood , because she really wants to be screwed again .  so , she helps him kill three businessmen .  scumball , at this time , gradually gets his strength back and grows all his organs back .  problem is , he doesn't have any skin , and even after three or four corpses , still doesn't get any skin .  he finally gets some , though , but strangely enough , he ends up looking like his brother .  guess they couldn't get the original actor back .  who knows .  scumball ( whose name is frank ) is not a nice guy .  he describes his torture by the demons fondly , as the \" ultimate pleasure and pain , since at that level there is no difference between the two . \"  somehow , i don't see getting torn apart by 90 fish- and meat-hooks a lot of fun .  this guy is * so * bad ( \" how bad * is * he ? \" ) ,   * so * bad that the * rats * cower in a corner in fear .  for good reason , too ; he crucifies two of them for fun , and carves a third while the nympho's horsing around with hubby .  anyway . hubby's daughter ( who , if course , is not * wife's * daughter ) starts to suspect something is wrong after she sees wife going into the attic with one of her johns and the ensuing screams .  the dumb bimbo meets scumball , and is not impressed .  she manages to escape with the chinese puzzle , and brings out the demons .  at any rate , the demons are pissed off that they screwed up their cleanup ; they're normally quite meticulous about that type of thing .  the story boils down to the demons trying to correct their mistake .  the demons are not , however , the good guys .  the dumb bimbo's the good guy .  she somehow not only gets them to take care of frank , but also banishes them to hell or oblivion , we're not too sure which .  not too shabby for someone with single-digit iq .  this is basically a \" bad jinn \" story .  it is an * awful * movie .  awful acting , bad focus in the photography , many scenes of skin being penetrated by meathooks , which is really unrealistic , and looks like the latex that it is .  continuity ?  who cares .  acting ?   * terrible * .  script ?  horrible .  sounds canned .  unrealistic .  story is so-so , but the impact is lost long , long before the film ends .  i do think the * rat * acting was quite good .  i have never seen rats look afraid .  they should get nominated for an award .  really good acting there , the best in the movie .   \" the envelope for best furry rodent , please . . . \"  a \" \" rating would be far too generous .  a \" 1/10 \" rating ( or -4 in the -4 to +4 rating system ) is far more accurate .  this movie is so bad that people in the audience were laughing , chortling at the bad acting and crummy dialog .  i can see this film turning into the next rocky horror picture show .  people were getting so fed up they were yelling warnings up to the characters on the screen .  had to have something to do .  dumb , dumb , dumb movie .  i was embarrassed that i spent money to see it .  it goes without saying that i disagree with the other reviews on the board that attempt to review the film for itself .  lots of slime and red-dyed corn syrup does not constitute \" horror , \" in my opinion .  \n",
      "godzilla is the ultimate culmination of the \" who cares about plot \" summer movie .  a loose remake of the 1954 \" classic \" japanese monster movie , godzilla , king of the monsters ( which is itself pretty thin in the story department ) , roland emmerich and dean devlin's big-budget lizard-stomps-manhattan disaster flick has been written with the brain dead in mind .  the script isn't just \" dumbed down , \" it's lobotomized .  godzilla lives and dies on special effects alone .  presumably , the primary target group for this film is teenage boys , the demographic most likely to shell out $7 repeatedly to see the same images of monster-instigated carnage .  that's not to say that females and other age groups are immune to the special effects seduction ; they're just not as readily susceptible .  this is the third straight movie in a row where emmerich and devlin have demonstrated that a mastery of computer-generated visuals is far more important for making money than the ability to write and direct for actors .  stargate was a financial success .  independence day was a runaway hit .  and , with godzilla already drowning in hype and merchandising tie-ins before it even opens , it's virtually guaranteed at least $100 million .  nice numbers for a film that could have been penned by a not-too-precocious grade school kid .  godzilla isn't completely without merit , although it is close .  there's a certain visceral thrill inherent in watching the giant lizard rip his way through manhattan , but it wears off quickly .  frankly , while the special effects are competent , they're not all that stunning .  there's nothing new here ; it's jurassic park meets aliens , with a little independence day thrown in for bad measure .  maybe it will require george lucas and his new star wars movie to take computer-generated visuals to the next level .  godzilla never really pushes the envelope , preferring to remain within a comfort zone .  the imagination of monster movies like king kong has been replaced by a crass , formulaic approach which disallows creativity .   ( how disturbing is it to know that godzilla has been chosen to close the 51st cannes film festival ? )  worst of all , godzilla isn't even exciting .  with the possible exception of a mildly enjoyable car chase near the end , there isn't a sequence in this film that raises the pulse .  even the scenes with dozens of aircraft attacking the monster are so devoid of tension and suspense that they are yawn-provoking .  independence day may have been dumb , but it was full of \" adrenaline moments \" capable of getting the audience involved in the action .  in this aspect of its production , as in so many others , godzilla is lacking .  actually , part of the problem is that we're never sure who we're supposed to be rooting for : the green monster with an attitude or the paper-thin humans trying to stop him .  the plot , such as it is , can be summed up rather simply .  after sinking a few ships and leaving some footprints on tropical islands , godzilla shows up in the big apple .  he does some of the usual tourist things : stops by madison square garden , visits the chrysler building , goes on a walk through central park , and takes the subway .  in the process , he knocks over a few buildings and steps on countless cabs , but he never has trouble with traffic jams .  on hand to stop him is an elite u . s . army unit , led by a slightly less-arrogant-than-usual military man ( kevin dunn ) and a biologist named nick tatopoulos , who has a theory about godzilla .  in his opinion , the big guy is actually a lizard grown to enormous proportions as a result of the radiation given off by french atomic bomb tests in the south pacific .  in nick's words , godzilla is \" a mutated aberration ? an incipient creature ? the first of its kind . \"  as luck would have it , nick's old girlfriend , audrey ( maria pitillo ) , is a reporter based at a new york tv station .  along with her cameraman friend , animal ( hank azaria ) , she decides to follow nick around as he trails godzilla .  then , just when the military has rejected nick's theory about why godzilla is in new york , a member of the french secret service ( jean reno ) recruits him for a special assignment .  instead of stomping around tokyo this time , godzilla has chosen new york city .  unfortunately , manhattan has been destroyed so many times in recent disaster movies ( independence day , deep impact , armageddon ) that it's becoming boring .  the whole tradition of monsters roaming around the city started with king kong , but the big ape was only about 30 feet tall .  he could climb the empire state building .  at ten times that height , godzilla would be more likely to knock it over .  godzilla contains a few lame attempts at humor .  there's an ongoing feud between animal and his wife that plays like sit-com material , an unfunny and repetitive gag about how no one can pronounce nick's last name properly , and a rather tame attack on film critics roger ebert and gene siskel .  both of the popular personalities have alter egos in the film : \" ebert , \" the mayor of new york , is played by michael lerner , and \" gene \" ( lorry goldman ) is his campaign manager .  ebert's re-election slogan is , not surprisingly , \" thumbs up for new york . \"  the siskel/ebert stuff is amusing the first time it's used , but , after a while , it grows tiresome .  and , although the \" characters \" don't serve any real purpose , they keep popping up .  godzilla is saddled with an unimpressive cast .  this is largely because emmerich doesn't want to risk a human performance upstaging his lizard .  that's not to say that matthew broderick and jean reno aren't capable of good performances ( both have done their share of solid acting in the past ) , but they aren't a-list names .  then again , considering the quality of the writing , even pacino and deniro would have been hard- pressed to shine .  maria pitillo ( dear god ) plays the love interest and hank azaria ( great expectations ) is on hand to present what is supposed to be comic relief .  ultimately , it doesn't really matter what i ( or any other critic , for that matter ) have to say about the movie .  tristar has assumed that godzilla , like all self-proclaimed summer event motion pictures , is pretty much critic-proof .  it may also be word-of-mouth-proof .  those who want to see the movie will see it no matter what i write or their friends say .  so , when i go on record to assert that godzilla is one of the most idiotic blockbuster movies of all time , it's like spitting into the wind .  emmerich and devlin are master illusionists , waving their wands and mesmerizing audiences with their smoke and mirrors .  it's probably too much to hope that some day , movie-goers will wake up and realize that they've been had .  \n",
      "over 40 years ago , a japanese production company called toho introduced the land of the rising sun to gojira , a reptilian creature of immense proportions created by mankind's nuclear testing .  partly flight of fancy , partly commentary on the exploitation of atomic power and weaponry , gojira emerged from the ocean to terrorize tokyo .  a year later , gojira was marketed to the united states by adding three things : a new name , a dubbed english track , and raymond burr .  as godzilla , the film took on the rest of the world .  thirty years later , toho remade the classic film and once again took it to the american market by adding the same three things ( yes , including raymond burr ) and called it godzilla 1985 .  now it's 14 years after toho's remake , and director roland emmerich has allowed the giant lizard to make an american first run .  in emmerich's godzilla , matthew broderick plays dr . niko tatopoulos , a biologist who is called in to join other scientists in the south pacific already studying the existence of a radiation-induced super mutant which leaves footprints the size of livingrooms .  when the mutant reptile suddenly appears out of the hudson river , tatopoulos and the rest of the team relocate themselves back to the states .  meanwhile , tatopoulos's college girlfriend , audrey timmonds ( maria pitillo ) , works in new york city as an assistant to a big-time news reporter .  she'd like to be a reporter herself , and when godzilla comes ashore , she figures this is her big break .  of course , with the big guy running amok in the city , niko and audrey are bound to cross paths , and are joined by victor \" animal \" palotti ( hank azaria ) , audrey's trusty cameraman friend , and phillipe roche ( jean reno ) , an operative for the french government , whose nuclear testing started the whole problem in the first place .  together they attempt to find and destroy the surprisingly elusive godzilla .  with the resources of the most cutting edge special effects houses and the clout of one of the nation's premiere movie production companies , one would think emmerich could make a film truly deserving of the name godzilla .  he didn't .  right up there with the lost world , godzilla is one of the biggest disappointments in recent cinematic history .  the plot is pretty much what we expect : the big dinosaur-like creature comes out of the water and starts smashing new york city , and it's up to our heroes to figure out why this thing is on its rampage and how it can be stopped , while the military makes futile attempts to bring the creature down .  the script , however , is painfully bad .  it's fraught with lines so corny , they don't even belong in b-movies , and includes many character actions which make you think , \" you idiot , \" or \" you stupid girl . \"  i suppose when you've got a movie with a giant lizard loose in new york , any other semblance of reality goes out the window as well .  why is it that godzilla topples some buildings by merely brushing against them , but is conveniently able to leap atop others ?  why do helicopters have to follow godzilla by flying dangerously between buildings where they can lose sight of him , when they could more easily keep track of him by flying a little higher and in a straight line ?  why do sidewinder missiles , which have small explosive warheads , blow up entire buildings when they miss godzilla ?  why is a mission to bomb madison square garden carried out by three f-18 fighter-bombers , when flights of such aircraft are always comprised of multiples of two ?  okay , maybe the last one was a bit nit-picky , but hey , i was on a roll .  broderick is usually a good actor , but in this film he's weighed down by an unexciting character and an atrocious screenplay which seem to fight against him every step of the way .  hank azaria does what he can , but don't expect to see development of any of the promise he showed in the birdcage .  like broderick's , azaria's character is quite simply lacking in color .  what really annoyed me was maria pitillo , who actually takes the bad script and makes it worse with her acting .  casting must have been asleep on this one .  the one bright spot here is jean reno , who oddly enough seems to fit well into a role which is often comedic , quite unlike what we've seem him do in the past .  although his character is contradictory to the unfolding disaster , reno brings a style to the role of phillipe which makes him enjoyable .  unfortunately , the same cannot be said of the other incongruities .  the entire feel of the movie is tongue-in-cheek , and seems to pay comical homage to a dozen or so films that have come before it .  this results in a significant amount of parody , which contrasts sharply with the threat of the monster , and ends up just producing a mess .  most of the characters seem to be there for comic relief , and almost none are smart enough for the audience to take seriously .  although emmerich obviously wanted to make a fun action picture , what good is it to sink millions into a cgi creature whose ferocity is undermined by the humans he threatens ?  if we can't take the characters seriously , the threat they face is an empty one because we simply don't care what happens to them .  godzilla simply pulls too many punches in its attempt to be a film more light-hearted than it should be .  far be it from me to want to see more carnage in the theaters , but here's a behemoth running through the city !  there's bound to be a lot of casualties , but instead godzilla is afflicted with the after-school g . i .  joe cartoon syndrome , where almost everyone seems to get out of harm's way just in time .  in a couple of scenes , godzilla briefly breathes fire .  none of the characters even remark upon this ability , nor is it used to any particular advantage by the filmmakers .  it's as if the special effects people just wanted to show that yes , godzilla can do this , just like in the old movie .  consider another punch pulled .  through creative script writing , you can make a sequel out of just about any movie , but the final scene in this one doesn't just leave the door open , it opens into a hallway leading directly into a room where godzilla ii is waiting patiently .  it made me want to gag .  emmerich should have done away with 90% of the humor and in-jokes and played this one as a straight action film .  with an intelligently written screenplay , godzilla could have been so much more .  however , by confusing the viewer with a ton of add-ins and parodies , the movie ends up being something that just doesn't work .  now if they only had raymond burr . . . .  \n"
     ]
    }
   ],
   "source": [
    "# fill in your code...\n",
    "print('top 10 negative 1-10')\n",
    "for i in range(1,11):\n",
    "    print(X_test_raw[index[i-1,0]])\n"
   ]
  },
  {
   "cell_type": "markdown",
   "metadata": {},
   "source": [
    "If we were to apply the classifier we've learned into a different domain such laptop reviews or restaurant reviews, do you think these features would generalise well? Can you propose what features the classifier could pick up as important in the new domain?"
   ]
  },
  {
   "cell_type": "markdown",
   "metadata": {},
   "source": [
    "I think it might be a little difficult to apply this classifier,because this classifier is about movies, emotional vocabulary will account for the vast majority. However, laptops may have comparisons such as numerical values, comparison of objective attributes, such as comparison of CPU and GPU models, and comparison of such attributes."
   ]
  },
  {
   "cell_type": "markdown",
   "metadata": {},
   "source": [
    "## Train and Evaluate Logistic Regression with TF.IDF vectors\n",
    "\n",
    "Follow the same steps as above (i.e. evaluating count n-gram representations).\n"
   ]
  },
  {
   "cell_type": "code",
   "execution_count": 42,
   "metadata": {
    "ExecuteTime": {
     "end_time": "2020-02-15T14:17:54.414637Z",
     "start_time": "2020-02-15T14:17:51.625934Z"
    },
    "scrolled": true
   },
   "outputs": [
    {
     "name": "stdout",
     "output_type": "stream",
     "text": [
      "Epoch: 0| Training loss: 0.8038633500631666| Validation loss: 0.8915041272949156\n",
      "Epoch: 1| Training loss: 0.6975957919197865| Validation loss: 0.8209185396624762\n",
      "Epoch: 2| Training loss: 0.6254700327634073| Validation loss: 0.7728505384433151\n",
      "Epoch: 3| Training loss: 0.570576897404115| Validation loss: 0.7388854033798617\n",
      "Epoch: 4| Training loss: 0.5272616455923209| Validation loss: 0.7106334731992932\n",
      "Epoch: 5| Training loss: 0.4896492105540743| Validation loss: 0.6887722917445382\n",
      "Epoch: 6| Training loss: 0.45979342240005777| Validation loss: 0.6691228496057504\n",
      "Epoch: 7| Training loss: 0.4319216647755657| Validation loss: 0.6532248724963562\n",
      "Epoch: 8| Training loss: 0.41124004275303855| Validation loss: 0.6389239894139627\n",
      "Epoch: 9| Training loss: 0.39000332624221634| Validation loss: 0.626702061840681\n",
      "Epoch: 10| Training loss: 0.37244198250446503| Validation loss: 0.6159713522885258\n",
      "Epoch: 11| Training loss: 0.35662892276890235| Validation loss: 0.6065538496308409\n",
      "Epoch: 12| Training loss: 0.34033060909701657| Validation loss: 0.5975018163923983\n",
      "Epoch: 13| Training loss: 0.3289087377336204| Validation loss: 0.5903843946691032\n",
      "Epoch: 14| Training loss: 0.31641463456867214| Validation loss: 0.5832415299735726\n",
      "Epoch: 15| Training loss: 0.3078104963116864| Validation loss: 0.5780289955322814\n",
      "Epoch: 16| Training loss: 0.2952529636338314| Validation loss: 0.571070226709826\n",
      "Epoch: 17| Training loss: 0.28781867678096246| Validation loss: 0.5667883035879496\n",
      "Epoch: 18| Training loss: 0.2795477823142061| Validation loss: 0.5622851288325327\n",
      "Epoch: 19| Training loss: 0.2701168146880797| Validation loss: 0.557407944064812\n",
      "Epoch: 20| Training loss: 0.265519724132945| Validation loss: 0.555155098889644\n",
      "Epoch: 21| Training loss: 0.25752505582946195| Validation loss: 0.5517777644614821\n",
      "Epoch: 22| Training loss: 0.25215768958557006| Validation loss: 0.550199612387296\n",
      "Epoch: 23| Training loss: 0.2478465570431881| Validation loss: 0.5498498644686142\n",
      "Epoch: 24| Training loss: 0.2436151493722381| Validation loss: 0.5505374498031423\n",
      "Epoch: 25| Training loss: 0.24022230213124424| Validation loss: 0.5557963604445416\n",
      "Epoch: 26| Training loss: 0.23987698275800073| Validation loss: 0.5704802035645619\n",
      "Epoch: 27| Training loss: 0.234313684439794| Validation loss: 0.5474944083630442\n",
      "Epoch: 28| Training loss: 0.23130904869080998| Validation loss: 0.5396663727579375\n",
      "Epoch: 29| Training loss: 0.23062770115286996| Validation loss: 0.534758389285419\n",
      "Epoch: 30| Training loss: 0.23862904894077067| Validation loss: 0.5317685655589001\n",
      "Epoch: 31| Training loss: 0.22679572533819115| Validation loss: 0.5304045583352627\n",
      "Epoch: 32| Training loss: 0.22440597346476923| Validation loss: 0.530463530673755\n"
     ]
    }
   ],
   "source": [
    "w_tfidf, trl, devl = SGD(X_tr_tfidf, Y_tr, \n",
    "                         X_dev=X_dev_tfidf, \n",
    "                         Y_dev=Y_dev, \n",
    "                         lr=0.0001, \n",
    "                         alpha=0.00001, \n",
    "                         epochs=50)"
   ]
  },
  {
   "cell_type": "markdown",
   "metadata": {},
   "source": [
    "Now plot the training and validation history per epoch. Does your model underfit, overfit or is it about right? Explain why."
   ]
  },
  {
   "cell_type": "code",
   "execution_count": 43,
   "metadata": {
    "ExecuteTime": {
     "end_time": "2020-02-15T14:17:54.517668Z",
     "start_time": "2020-02-15T14:17:54.417118Z"
    }
   },
   "outputs": [
    {
     "data": {
      "text/plain": [
       "<matplotlib.legend.Legend at 0x15410946948>"
      ]
     },
     "execution_count": 43,
     "metadata": {},
     "output_type": "execute_result"
    },
    {
     "data": {
      "image/png": "[encoded data removed]",
      "text/plain": [
       "<Figure size 432x288 with 1 Axes>"
      ]
     },
     "metadata": {
      "needs_background": "light"
     },
     "output_type": "display_data"
    }
   ],
   "source": [
    "# fill in your code...\n",
    "plt.plot(range(33), trl, color = 'blue', label='training loss')\n",
    "plt.plot(range(33), devl, color = 'red',label = 'validation loss')\n",
    "plt.xlabel('Epoch')\n",
    "plt.ylabel('Loss ')\n",
    "plt.legend()\n"
   ]
  },
  {
   "cell_type": "markdown",
   "metadata": {},
   "source": [
    "**Answer:this model is also overfit, because the training loss is lower than the validation loss.**"
   ]
  },
  {
   "cell_type": "markdown",
   "metadata": {},
   "source": [
    "Compute accuracy, precision, recall and F1-scores:"
   ]
  },
  {
   "cell_type": "code",
   "execution_count": 47,
   "metadata": {
    "ExecuteTime": {
     "end_time": "2020-02-15T14:37:56.489814Z",
     "start_time": "2020-02-15T14:37:56.487014Z"
    }
   },
   "outputs": [
    {
     "name": "stdout",
     "output_type": "stream",
     "text": [
      "Accuracy: 0.7725\n",
      "Precision: 0.7658536585365854\n",
      "Recall: 0.785\n",
      "F1-Score: 0.7753086419753088\n"
     ]
    }
   ],
   "source": [
    "# fill in your code...\n",
    "preds_te = predict_class(X_test_tfidf, w_tfidf)\n",
    "print('Accuracy:', accuracy_score(Y_te,preds_te))\n",
    "print('Precision:', precision_score(Y_te,preds_te))\n",
    "print('Recall:', recall_score(Y_te,preds_te))\n",
    "print('F1-Score:', f1_score(Y_te,preds_te))"
   ]
  },
  {
   "cell_type": "markdown",
   "metadata": {},
   "source": [
    "Print top-10 most positive and negative words:"
   ]
  },
  {
   "cell_type": "code",
   "execution_count": 50,
   "metadata": {
    "ExecuteTime": {
     "end_time": "2020-02-15T14:38:17.845485Z",
     "start_time": "2020-02-15T14:38:17.842557Z"
    }
   },
   "outputs": [
    {
     "name": "stdout",
     "output_type": "stream",
     "text": [
      "Top10 positive:1-10\n",
      "what if one of our cities became the target for terror ?  what can we do ?  what can america really do about the increasing threat of terrorism ?  what basic human rights are we willing to sacrifice to prevent another oklahoma city disaster ?  so far america has been the leading nation , opposing the fundamentalist terrorists around the world .  it is the land of opportunities .  it is the land of freedom .  but what if it became the new target ?  this dark fantasy has unfortunately a very strong grounding in reality .  when a special branch of the united states military , under the command of general william devereaux ( bruce willis ) , takes prisoner suspected terrorist mastermind sheik ahmed bin talal , islamic fundamentalists across the world take notice .  the only warning the fbi receives is a single , cryptic message : \" release him . \"  then all hell breaks loose in new york .  a bus is destroyed , killing 25 civilians .  a broadway theater is bombed .  hostages are taken at a school .  as the wave of terrorist activity crests , the president must consider if the only way to save the city and break the grip of fear is to declare martial law .  devereaux argues against that eventuality , but is nevertheless ready to lead 10 , 000 men into action on american soil .  another person not in favor of martial law is anthony hubbard ( denzel washington ) , the fbi agent in charge of investigating the terrorist activities .  his staff is comprised of smart , energetic , intelligent men and women very much unlike the usual group o !  f moronic feds we're used to seeing in movies .  hubbard develops an uneasy alliance with cia agent elise kraft ( annette bening ) , whose department knows more about the situation than they're willing to reveal .  but the attacks escalate .  the fbi are helpless , chasing an invisible enemy .  the land is under siege .  they have lost control . . a  terror is coming from within . .  what's great about this film is that it is made as if holding up a mirror to life .  it reflects reality .  and that's why it makes such an impact .  edward zwick has created a clever , well written and terrifying thriller that may very well be one of the best films of the season .  the director manages to tell several stories simultaneously .  and so his film plays on several levels , never loosing focus on its main objective .  he is exploring the abuse of power , the distrustful relationships that exist between various segments of the u . s . government ( the army , the fbi , and the cia ) .  he takes a look at the complexities inherent when so many secrets and lies are involved .  the palestinian community in 1998 new york is treated exactly as japanese americans were during world war ii .  there are concentration camps and unlawful interments , all in the name of the \" greater good . \"  in the latter part of the film the land of opportunities looses its heart and soul -- freedom .  was that what the terror !  ists really wanted ?  this film has evoked protests and objections from the arab-american population in the u . s . and n . y . especially .  but to me these protests seem unnecessary .  zwick is careful to not step over the line and make the palestinians typical hollywood bad guys .  the script is therefore wonderfully balanced .  agent hubbard's best friend and loyal colleague frank haddad ( tony shalhoub ) is lebanese-american .  and it is quite often you hear lines such as \" my first boyfriend was palestinian .  they seduce you with their suffering \" or \" they love this country as much as we do . \"  but no matter how you twist this matter , you won't get away from the fact that when it comes to world wide terrorism it is arab-speaking population who are in the great majority .  more to the point , the siege demonstrates the injustice of blanket condemnation of any ethnic group by depicting the unfair treatment of all arab-americans by the u . s . military .  and thus this film does not serve as a source for discrimination in any !  way .  denzel washington is dashing as always .  in this role he is much more determined and stronger than usual .  anette bening is enjoyable and believable as a shadowy cia operative who prefers espionage , a network of snitches and seduction to gather information . .  bruce willis is terrifying as the sadist , hungry for power , that never looses his connection with the audience , since his point of view is not too hard to understand .  the film is elegantly shaped .  the scenes are easily floating into each other and the film never seems overlong .  zwick knows exactly how to provoke tension , horror and emotions and does it with a rarely observed professionalism .  he tightens the intensity as the events progress .  and when a plot twist comes , it actually is surprising .  it is not a film drained in patriotism , like the work of roland emerich .  nor is it a film that portrays explosions purely for entertainment values .  it is a daring picture that has courage enough to undertake such a risky story and difficult journey .  it has courage enough to get involved in politics .  it questions our foreign policies , mentality and defense .  i must admit that it ends rather disappointing , as the director turns the patriotism way up and innovation down .  but despite of that , it is certainly an intelligent and thrilling film that provokes emotions and thoughts ; a virtue that few summer films can boast of .   \" this is the u . s . army .  it's a broadsword , not a scalpel .  believe me , you do not want us in an american city \" - gen . william devereaux , \" the siege \"  \n",
      "roberto benigni is a clown in the tradition of chaplin and keaton .  this italian film star , best known in the united states for the poorly received son of the pink panther , has done the near impossible by creating a comic fable about the holocaust .  but benigni's life is beautiful ( la vita e bella ) is not so much a story of the holocaust as it uses that monstrous outrage against humanity as a backdrop to tell a story of familial love , devotion and sacrifice .  the movie starts out as a typical slapstick farce with benigni's guido arriving in the small tuscan town of arezzo in 1938 to fulfill his dream of owning a bookstore .  like many of the slapstick clowns who preceded him , most notably the almost-forgotten harry langdon , benigni's guido has a childlike innocence .  he ignores the growing anti-semitism of the fascist government .  instead , guido ardently falls in love and persues dora , a local school teacher who already is engaged to a local fascist official .  in benigni's tightly wound script this is the same fascist official with whom guido had an earlier unfortunate - yet slapstick - encounter .  guido wins dora .  they marry .  fast forward about five years .  guido , dora , and their 5-year-old son , giosue ? ( giorgio cantarini ) are a happy family .  guido has finally fulfilled his dream of opening a bookstore .  but racial and anti-semitic tensions are on the rise in italy , and guido has determined to do his best to shield his son from these harsh realities .  the task becomes even the more difficult when the family is deported to a concentration camp .  here , guido must use all his skill and imagination not only to shield his son , but to keep him from being exterminated .  it is at this juncture in life is beautiful may tend to offend those whom the holocaust has touched .  for the scenes in the concentration camp lack the horror , the pain , the unimaginable suffering of a schindler's list .  true , many italian jews were not deported until the war was nearly over , and most were not sent to the death camps , but to work camps where they were used as slave labor .  unlike steven spielberg , benigni is not out to tell the story of the holocaust .  his story is about family and the lengths a parent will go to protect a child .  for guido , to save his son , transforms the entire experience into an elaborate game .  giosue ? must follow the rules without question to amass 1 , 000 points .  the winner takes home a tank .  therefore , guido tells him , he must remain hidden in the barracks .  he cannot make a sound nor allow the guards to see him .  guido explains this during a hilarious sequence when a german guard barks the camp instructions to the newly arrived inmates .  guido , lying that he understands german and can translate for his fellow prisoners , instead lays down the rules for his son to allow him a chance to survive .  throughout their imprisonment , guido's quick thinking continually keeps his son from harm's way .  ultimately , the allies rescue the camp .  in a poignant scene , giosue ? comes out of hiding just as an american tank rolls into the compound .  the boy goes wide-eyed with wonderment and delight , thinking he has won the game .  the price for his victory is most high .  benigni has succeeded in using the blackest moment in human history to prove that even in hell , a ray of hope and salvation can penetrate the darkness .  life is beautiful is a fantasy , a fable .  it is not to be taken as a record of the holocaust .  those who object to it are missing its point .  and that is simply where there is hope , where there is life and where there is love , the spark of humanity will never be extinguished .  committed to lifelong learning through effective communication  \n",
      "waiting at the train station near the beginning of fury , joe says : `after all , we're human . '  in the context of events to transpire , joe's line is prophetic , foreshadowing the internal conflict of the protagonist in the latter half of the film .  does being human necessarily imply humane behavior ?  through the baseness of human character exemplified in the formation of a mob , fritz lang prompts the viewer to consider whether our inclination towards impulsiveness supersedes our civility .  expressing his abhorrence towards the rise of nazism in his homeland , lang takes great care in creating a sense of discomfort during the scenes of mob hysteria .  in the scene prefacing the lynching , the mob achieves critical mass at the bar .  deputy meyers is brought in as an exalted informant , but when he is unable to augment the mob's myth of joe , he is quickly renounced from his position as town gossip .  we see in a shot where two bar patrons are arguing that the deputy looks around nervously at the growing monster and then carefully slips out of the bar .  what is quietly horrifying is the realization by both the audience and the deputy that the crowd no longer exists within the confines of reason and has succumbed to what the barber referred to as impulse .  what once was excitement to the deputy has turned into fear with the realization that he is now powerless .  to the audience , the deputy's quiet exit concurs with their own sinking feeling of uneasiness as the mob's delirium crescendos .  lang educes this discomfort not through movement of the camera , but rather its stillness .  the shot's composition places the audience equidistant and directly across from the pair of arguing patrons and the deputy effectively becomes a mirror to our own apprehensions .  as the intensity of the mob closes around deputy meyers , it does so around the viewer as well .  the stationary camera in this shot heightens our fears because when the deputy escapes , we are deserted by our reflection and the viewer becomes the sole proprietor of sensibility amongst a swarm of irrationality .  because the camera does not track the deputy's movement , we are left with an amplified perception of desertion and vulnerability .  as the bar scene progresses , the camera pans 180 degrees to reveal the fury of the mob .  this shot is unique because it is a point-of-view shot where the audience , not a character in the film is the subject .  while a long , or dolly shot may objectively reveal the size of the mob , panning from the mob's belly distorts the audience's spatial reference and exaggerates the claustrophobia of the scene ; we feel we are at the epicenter of something infinitely large .  we see close shots of people's faces , contorted by their rage .  with the pivot of the pan being in the center of the mob and angry members within a short radius of the pan , lang offers the viewer a sense of what it feels like to be the subject of a lynching .  in this shot the audience is at the mercy of the mob ; lang's camera makes us feel vulnerable and powerless as joe must have felt in the jail .  in some greater sense , it must have been what lang felt when he saw his countrymen overcome with unjustifiable hatred towards their own humankind .  lang's observations of his fellow man succumbing to mob behavior left him with an indelible image of malevolent human behavior .  as joe faces his peril , trapped in his burning cell , his dog rainbow rushes to be by his side .  lang makes rainbow a martyr to contrast his humanity against the recklessness of his human counterparts .  using his camera to create shots that elicit disturbing images of mob mentality , lang depicts man's volatility and `impulse' towards inconceivable cruelty .  reprising joe' s line at the train station , we are induced to question why our primeval impulses so easily transcend our humanity .  \n",
      "at first glance , three kings looks to be just another war movie , the 90s version of all those favourite war movies with names i cannot remember .  the 90s version , it definitely is , just another war movie ?  not in your dreams !  imagine pulp fiction approach to saving private ryan , that\u0012s three kings for you .  believe it or not , it bears the cool of the former and the stark humane meaning of the latter .  the story brings us to the twilight of the gulf war , with the allied troops victorious .  majpr archie gates ( clooney ) leads an enterprising bunch of grunts to a rather unorthodox post-war looting spree ; the millions in gold bars secretly stowed away by saddam in a desolate village in the desert .  as the rest of the troops are celebrating their victory and getting ready to be shipped home , this `wild bunch\u0012 goes awol on an armed hum-vee ( the vehicle of choice of the us army ) .  they soon find out that they have much resistance , as they get tangled with the local rebellion against saddam\u0012s forces .  frequently switching their modes between looters and robin hood\u0012s merry men , they become consciously attacked by their own morals .  as the film begins to roll , it seemed to have a rather `light\u0012 mood to it .  `special\u0012 effects such as when gates describes to his men how a bullet can kill simply paves the way for a light-hearted funny action movie .  three kings is much smarter than that .  as the conflict becomes more and more complex , the audience will be trapped in a limbo , trying to stay focussed on that light-mood/serious-mood that the film seem to portray .  i personally found this analogous to the same feelings of the main characters involved in the film ; trapped between their initial plan paved by greed and their own sense of humanity .  this simply made the entire experience of watching three kings truly brilliant .  action sequences are not shot as your old-fashioned war films nor anything like steven spielberg\u0012s in-your-face war violence .  they are carefully built to generate tension with just the right tight close-ups and pauses , right before the action starts .  not john woo for sure but more of sergio leone\u0012s spaghetti western style ( tons of them starring clint eastwood ) .  great performances by clooney and wahlberg but the brilliance have to lie in the conception of this film ; the screenwriter and the director .  three kings ranks among the best films of the year , well , for me at least .  highly recommended .  \n",
      "synopsis : in this movie , steven spielberg , one of today's finest directors , attempts to spice up the 1800s story of a long courtroom battle over the fate of prisoner cinque ( djimon hounsou ) - - a young angry man from sierra leone who was kidnapped into slavery - - and his fellow prisoners .  cinque and friends have landed a ship on the shores of america after escaping spanish slave traders , but since the americans don't speak cinque's language , the black men are hauled into court to determine whether or not they are legally slaves .  technically , since the international slave trade was outlawed at that time , people like cinque couldn't be kidnapped into slavery ; one had to be born a slave to be legally considered a slave .  lawyers baldwin and adams ( matthew mcconaughey and anthony hopkins ) must prove cinque and the others were captured into slavery , rather than born slaves , in order to get them out of prison as free men .  three lengthy court cases are portrayed with spielberg's trademark panache - - flashy beginning , lots of facial close-ups , big music , and dramatic imagery .  a final speech by adams is followed by an anticlimax where subtitles show what eventually happened to the various characters .  opinion : making a fictional movie is easier than making one about real life .  in fiction , one invents purposeful , clear-cut good guys and bad guys , puts the fictional characters in conflict , and takes the tale to its exciting conclusion .  real life , however , consists of long stretches of boredom with a few dramatic moments and characters who stand around , think thoughts and do nothing , or come and go before events are resolved .  spielberg gives us a visually spicy and historically accurate real life story .  djimon hounsou and anthony hopkins turn in excellent performances .  \n",
      "confession time : i have never , ever seen gone with the wind .  i don't know why , really .  haven't wanted to check it out on video , haven't been at home the nights it was on network tv , and it was too far to drive the last time it was on the big-screen .  so right up front , i'll admit that i don't know what the heck i'm talking about , but here goes . . .  is titanic the gone with the wind of the 1990's ?  maybe that's going a little bit too far .  as good a job as leonardo dicaprio and kate winslet do in this movie , they're no clark gable and vivien leigh .  but . . .  the parallels are there .  gwtw was the first movie to take real advantage of the most revolutionary technology available -- technicolor .  titanic takes revolutionary steps forward in seamlessly integrating computer graphic design with actors .  gwtw places america's greatest tragedy in the background of a classic love story , titanic does the same with the atlantic's most legendary tragedy .  they both have strong-willed redheaded heroines , they both exploit the class differences between the aristocracy and the slaves/steerage bums , they were both incredibly expensive and popular . . .  ok , maybe that's not enough parallels .  so titanic's not in gwtw's league .  no matter .  titanic is a great movie in its own right , complete with spills , thrills and ( especially ) chills .  much has been made of the humongous cost of the production , and all of the care than went into making the huge luxury liner come alive again .  the money was obviously well-spent .  the costumes look great , the sets look great , the cgi graphics look great .  i especially liked the expensive little touches , like spending tons of money on authentic titanic china only to break it all on the floor as the ship sinks .  but writer/director/producer james cameron's real challenge in writing/directing/ producing titanic wasn't just costuming and set design and special effects .  cameron's major headache was keeping the audience interested in a tale where everybody knows the ending going in .  he succeeds masterfully .  cameron does two things that work incredibly well .  first , he shows us modern-day salvage operations on titanic ( that's just \" titanic \" , not \" the titanic \" , mind you ) .  the first glimpse we get of titanic is the ship in its present state , corroding slowly away under the hammering pressure of the north atlantic , from the window of a minisub piloted by treasure hunter brock lovett ( bill paxton ) .  television coverage of the exploration of titanic intrigues 101-year-old rose calvert ( gloria stuart ) , who survived the wreck in 1912 .  stuart does a phenomenal job in a brief role , narrating the story of her experience to a stunned paxton and his roughneck crew .  secondly , cameron keeps the storyline focused almost exclusively on the rose character , and the romantic triangle between rose ( winslet ) , her bastard millionaire fiancee cal hockley ( billy zane ) and the irrepressible young artist jack daswon ( dicaprio ) .  the way that big-budget disaster movies usually go wrong is to have an all-star cast , so we see the impact of the disaster on a wide group of people .  cameron wisely chooses to stick with rose and jack , while paying scant heed to the celebrities on board .  the supporting cast is professional , but mostly anonymous -- other than kathy bates as the unsinkable molly brown , there's no moment when you stop and say , oh , yeah , i know him , what's he been in .   ( although i would like to have seen colm meaney in a white star uniform , or even as the ill-fated engineer . )  the love story itself is rather conventional .  i think some reviewers found it weak , and that may be a fair criticism .  the performances are the key here .  zane has the meatiest part in the movie , and he plays the arrogant , condescending steel millionaire to the hilt .  he's smooth , he looks great in a tuxedo , and he's a convincing enough jerk that the winslet-dicaprio relationship looks plausible .  at the moment when he sees a little girl too frightened to get aboard a lifeboat , you can hear the wheels in his mind turning , saying not \" can i save this little girl ? \" ,  but \" can she help me get on a lifeboat ? \"  dicaprio is a revelation .  i hadn't seen him before in anything , and didn't know what the heck to expect , really .   ( honestly , i expected a bad irish accent , but cameron evidently decided that was a bad idea , so dicaprio plays a poor american artist who wins a ticket in a poker game . )  dicaprio exhibits an infectious joy at being alive , and being on the titanic , that it's hard not to like him .  from the moment that the ship leaves port until it hits the iceberg , dicaprio has to carry the movie and keep our interest , and he never falters .  winslet's character grows up a lot during the movie , and so does her performance .  at first , she's not required to do anything but wear period clothing and look drop-dead gorgeous .  we know from the narration that she's monstrously unhappy with her arranged marriage to zane , but there isn't any expression of these feelings until she encounters dicaprio .  winslet and dicaprio develop a chemistry that manages to propel the movie along until the ship hits the iceberg .  it's at that moment where winslet's character really comes alive .  faced with real danger , she drops her spoiled-rich-girl mannerisms and does a splendid job .  as rose and jack race around the doomed ship , looking for shelter from the freezing water and cal's fiery temper , winslet turns in a superb acting performance , mixing courage and compassion and anger with sheer shrieking terror .  of course , the most interesting character is the ship itself .  cameron has clearly fallen in love with titanic , and shows her in every mood -- as a deserted wreck , down in the boiler room , up on the bridge , down in the hold , at the captain's table , down in steerage -- and manages to bring the great ship back from the dead .  cameron's greatest gift is that he allows us to fall in love with titanic as well .  \n",
      "after a rather disappointing \" mary railly \" , stephen frears is now officially back in business with a comeback worthy of praise .  this is one of the best surprises of this season -- a sweet , small budget comedy with a big heart .  in fact it's not even a comedy .  it's a drama or even more precise -- a clever satire on human relationships and needs .  based on a 1995 critically acclaimed novel by british author nick hornby , ``high fidelity'' is a wry and likable story about a man's quest for fulfillment and happiness .  rob gordon was a dj .  it seems that he could make everything spin -- except his own life .  now he owns championship vinyl , a little musical store , somewhere in new york .  when he suddenly gets dumped by his girlfriend , a gorgeous blond attorney , life suddenly looses every purpose .  decimated , humiliated and on the verge of a mental ( and emotional ) breakdown , he starts meditating over his life and the way it could have been -- about what's right and what's important .  he starts \" categorizing \" life , dividing it into \" top 5 lists \" .  and the most important is the \" top 5 list \" over the most painful breakups of his life , starting with 5th grade , when he found his young girlfriend with another boy .  though you might think that people change , grow more mature with age , it just doesn't seem that way and all rob's relationships were different versions of that first .  where did he go wrong ?  was it he that screwed up ?  or maybe life just stinks ?  while he is lost in his own self-pity , he must think of the \" top 5 list \" over his needs for the future , find the right elements and mix his life together .  with clever parallels to the cult of celebrity , music and with incredibly direct narration , it addresses the average audience member , in other words -- people like you and me .  although a lot of this honor should be addressed to the screenwriter ______ and frears , the director , the acting is equally important as the written word .  and here john cusack should absolutely be mentioned .  he is simply superb .  it is as much his movie as it is frears' .  the film would not be the same without him .  cusack -- whose character is sadder , wiser and 35 -- brings intelligence and warmth to post- mod irony .  most of his dialogue is delivered directly to the camera -- not an easy task -- but cusack pulls it off .  his interpretation feels so emotionally right , so incredibly realistic and precise that frears' message simply can't be ignored or overseen .  the other members of the cast do an equally remarkable job .  both ______ and jack black are fabulous .  even catherine zeta jones appears in a role where she actually acts , not just looks beautiful .  however , the most unexpected pleasant surprises is provided by todd louiso who delivers a spectacular comic performance as rob's co-worker and friend dick .  this is such an impressive achievement that it's almost worth a oscar-nomination .  he is simply a joy to behold .  otherwise , everyone are in their place , and at the right time -- all part of frears' colorful blend .  pretty much like edward norton's \" keeping the faith \" , this film doesn't follow any formula or belong to any genre -- it's dramatic , tragic , sarcastic , comic and even cynical , but never bitter or angry .  it's a little bit of everything , pretty much like life itself .  nothing seems unreal or staged .  it reflects reality as a mirror .  as you watch it , you go through the same emotional problems as the main character .  you feel and think and reflect .  this effect has become a rarity nowadays .  although it's primarily about the perils of love , ``high fidelity'' is secondarily about pop music .  rob owns championship vinyl and his employees , timid dick ( todd louiso ) and overbearing barry ( jack black ) , are fellow music snobs .  music is the language in their lives , the measure by which they define themselves and mark the significant events of their lives .  and so does the movie .  it is as much a musical film as anything else , as rob's journey is wonderfully portrayed through carefully inserted musical fragments .  in the end , you have gained something while watching it .  it's not the film of the century or even of the year .  it's not an special effects extravaganza .  it doesn't require big explosions or digital creatures to succeed .  it's a small movie about the big things .  and even though it does not contain heavy philosophy , you feel as if you have experienced something of significance , and you will experience that nice warm feeling for quite some time .  \n",
      "if there's one thing in common about all of hollywood's major studios , it's that their productions are moving toward mainstream more and more .  although twentieth century fox and new line cinema have spawned subsidiaries which specialize in independant or controversial motion pictures ( fox searchlight and fine line respectively ) , it's obvious there's no significant movement underway to promote inventive ideas at the theater .  so when a movie like gary ross' pleasantville comes along , wrapped in a blanket of innovative ideas and served up on a platter of fine production , it's a welcome change of pace for all who frequent the cineplexes .  although the atmosphere and buzz about the movie are cheery and lighthearted , pleasantville should not be mistaken for a no-thought movie .  quite the opposite is true , in fact , as director ross skillfully brings a narrative with intense and intelligent undertones to the screen .  the story , both about the joys of living life to the fullest as well as the social ills of segregation , captures the essence of statement-making in the cinema .  not in recent memory has a movie carried such weight of theme into widescale distribution , and even if mass audiences fail to see the ingenuity of ross' work , it is still a testament that his picture was considered worthy enough .  kudos to both he and his production staff for putting together this fine picture .  it stars tobey maguire and reese witherspoon as two nineties teenagers who , through quite a bit of luck , find themselves zapped into a fifties sitcom named \" pleasantville . \"  maguire , as the reserved bud parker , is perfect for the pseudo-world ; but the rebellious mary sue ( witherspoon ) is not at all made for the father-knows-best times .  it's not long before she sets the town of pleasantville on end , and begins to teach the townspeople - in a quite unlikely way - what life is * really * like .  soon hues of color creep into the black and white world , and while some embrace the change in the passion of realism , others fear the strangeness .  at one end is a soda shop owner-turned-painter named mr . johnson ( jeff daniels ) and at the other end is a close-minded mayor ( j . t .  walsh ) and his chamber of commerce ; but the two sides are simply fronts for a clash of ideas that soon involves the entire town .  fine performances are turned in all around .  maguire and witherspoon are effective as the leads , but the true complements go out to jeff daniels and j . t .  walsh ( in his latest and final posthumous performance ) .  daniels brings an atmosphere of awe , inspiration , and hope to his character , whereas walsh simply drips of sinister closemindedness - almost to the point where you can sense gene hackman's envy .  for daniels , it's his most commendable performance of the last three years - or more - and for walsh , it's a complementary exclamation point on a fine career .  also of lesser note is the supporting role by joan allen , and in viewing the entire cast works well together from start to finish .  there's not much to dislike about pleasantville , and its dynamic nature makes it the perfect movie for those who want serious as well as those who don't .  \n",
      "dora ( fernanda montenegro ) sits behind a make-shift desk at rio+s major train station .  she , in her colorful demeanor , offers a service that is unheard of in the states .  she writes letters for the illiterate , who pass through , to try to find lost relatives , find love , or search after lost debts .  she+s quirky , she+s elderly , she+s caring .  totally trustworthy , right ?  not a chance .  once home , she never sends these letters , saving money on postage , and relishing in the drama contained therein with her neighbor irene ( mar ? lia p ? ra ) .  one of the letters is sent by a young mother with her nine-year old son , looking for their father .  shortly thereafter , she gets hit by a bus , and the son is orphaned .  days go by , and the boy , named josu ? , roams around the station , hungry , desperate , and somewhat clueless to his predictament .  through a series of circumstances too precious to elaborate upon , dora somehow takes a responsibility in trying to find josu ? +s father .  this means leaving the security of rio , traveling to the outskirts of brazil , where unpaved roads , religious devotees and the poverty-stricken become commonplace .  films like this remind me as to what i enjoy about some foreign films .  it is an opportunity for me to get a fresh breath in another part of the world , so distant from my own .  it does so entertainingly , and so heart-wrenchingly .  and yet , it+s backdrop is merely that .  the focus is on the minute transformation of dora , of how she learns to love this little kid , without being cloying or sentimental .  the most interesting backdrop is the amount of religious dedication is in the film .  dora being an amoral scam-artist , could care less about the amount of bickering between the candle-lighting of the catholics versus the bumper-sticker mentality of the evangelicals .  but neither side is trivialized .  she even begins to develop an affection for a non-drinking evangelical , who sees the problems with dora , if not initially .  fernanda montenegro surprisingly got an oscar nomination for this very delicate performance , but the true marvel is that of vinicius de oliveira , who plays josu ? .  he , like the discoveries of j ? r ? mie renier ( _la promesse_ ) and giorgio cantarini ( _life is beautiful_ ) , prove that the true acting discoveries may be outside of the united states .  he is a natural , and never once grating .  send a memo to jonathan taylor thomas .  \n",
      "not since attending an ingmar bergman retrospective a few years ago have i seen a film as uncompromising in its portrayal of emotional truth as secrets & lies .  like bergman , director mike leigh is interested in probing his characters' inner depths through hypernaturally blunt confrontations .  also like bergman , leigh engages in frequent closeups of his characters' ravished and wracked faces .  and the prominent mournfulness of a cello on the soundtrack recalls bergman's own use of a bach cello suite in an earlier film .  all that is missing is a discussion of god .  which is not to say that secrets & lies is nothing more than an homage to the swedish master .  in fact , it is quite possible leigh had no such intentions in mind .  nonetheless , what we get is so far removed from the average moviegoing experience -- even from the reason we go to the movies in the first place -- that it takes some effort to adjust to the film's rhythms .  once the adjustment is made , however , there are great rewards .  one such is the chance to see life on the screen as it really is .  though leigh may have adopted some of bergman's stylistic touches , most obviously in an early scene of terse cross-cutting during a married couple's strained conversation , as well as in that somewhat obtrusive score , the overall feeling of the film is that it eschews any \" style \" at all .  whereas bergman uses artifice as a tool to expose reality , leigh makes the camera a mere observer , almost as in a pbs documentary .  the effect of this is to focus all of your attention on the actors .  it is a tribute to everyone involved that , despite such scrutiny , only infrequently are we aware that anyone * is * acting .  much has been made of brenda blethyn's performance , and rightly so , but it is only when you remind yourself that you are watching a fiction that you realize how good she is .  there are a few missteps .  for one , except for one scene ( tragicomic , as it happens ) , there is scant humor in the film .  this leads to a certain monotonous tone throughout .  and occasionally ( as with bergman ) the bluntness of the situations can seem forced .  for all that , this longish film manages to keep hold of your attention .  it is unfortunate that the audience for secrets & lies will most likely be limited to an intellectual elite , for there is nothing inherently intellectual about this film .  in fact , it might easily resonate more strongly for millions of working class filmgoers who will likely never see it .  there is even a sweet but significant irony in the film's unspoken take on race relations , something an american audience at least would do well to observe .  nonetheless , secrets & lies is not for the faint of heart .  though there is nothing physically horrific to make one squeamish , the exploration of common human frailty can be so raw and unsparing that it is tempting to turn from the screen .  needless to say , it is also very depressing at times .  but for many of us , of course , so is life .  and though the film is too honest to tack on a phony happy ending , that same honesty allows it to admit that things can also get better .  \n"
     ]
    }
   ],
   "source": [
    "# fill in your code...\n",
    "pred_te_tfidf = predict_proba(X_test_tfidf,w_tfidf)\n",
    "# get index by ascend order \n",
    "index = np.argsort(pred_te_tfidf,axis = 0)\n",
    "print('Top10 positive:1-10')\n",
    "for i in range(1,11):\n",
    "    print(X_test_raw[index[-i,0]])"
   ]
  },
  {
   "cell_type": "code",
   "execution_count": 51,
   "metadata": {
    "ExecuteTime": {
     "end_time": "2020-02-15T14:38:22.781128Z",
     "start_time": "2020-02-15T14:38:22.778590Z"
    }
   },
   "outputs": [
    {
     "name": "stdout",
     "output_type": "stream",
     "text": [
      "Top10 negative: 1 - 10\n",
      "note : some may consider portions of the following text to be spoilers .  be forewarned .   \" quick , robin !  the anti-shark repellant ! \"  - adam west in the 1966 batman feature film , casually kicking at a pathetic-looking rubber shark attached to his leg  i had never thought that an entry in the modern incarnation of the batman feature film would approach this level of campiness , but in many instances batman and robin nears , and at some point even exceeds this standard .  this is a disasterously bad film , easily the worst in the series to date , and fairly epitomizes a cinematic definition of the word excessive - it's loud , garish , and obnoxious , with pointless , gratuitous action sequences and set pieces which clutter up the screen with elaborate production design to the point of overkill .  batman and robin features the caped crusaders ( george clooney debuting as batman , with chris o'donnell returing as robin ) squaring off against another bevy of chemically-induced villains - the nefarious ice-cold mr . freeze ( arnold schwarzenegger ) , armed with a weapon which freezes everything in its sights , and the slinky poison ivy ( uma thurman ) , who has the ability to blow powerful love dust into the faces of men in order so that they will fall helplessly in love with her ( not that the dust is really necessary to accomplish this result , but whatever ) , and then dispatch them with a poisoned kiss .  by ivy's side is the giant steroid monster bane ( jeep swanson ) , a grunting hulk of a beast .  the villains' goals are noble ones - freeze steals diamonds to power his climate suit ( in order to keep his body temperature at zero degrees ) , so that he can survive in order to devise a cure for his beloved wife ( vendela ) , dying of a degenerative disease and frozen in suspended animation , and ivy's intent is to restore the dominance of plant life on earth , albeit by destroying all human life .  meanwhile , on the homefront , life at wayne manor is thrown into upheaval by the illness of butler alfred pennyworth ( michael gough ) , and the arrival of his niece barbara ( alicia silverstone ) .  akiva goldsman's screenplay for the film is ridiculous and laughably bad , with astonishingly terrible dialogue , lame jokes , and an awful by-the-number plot which simply coasts along and fails to generate any genuine excitement .  it makes goldsman's screenplay of batman forever , which i thought was dreadful , look positively inspired in comparison .  i am still astonished that a cheesy plot device which i'd seen used in - no joke - an episode of gilligan's island somehow make its way into a multimillion dollar blockbuster production .  joel schumacher's direction of batman and robin is horrific , with a terrible balance of flashiness over substance .  there is a clear conceit towards neon in this film , even moreso than with his previous batman forever , with the revamped batcave helpfully sporting gigantic glowing emblems for the dynamic duo ( just in case , i suppose , if they ever happen to forget that the batcave is the headquarters of batman and robin ) , and with neon prominently figuring in an utterly-pointless fight sequence with bane and a street gang over ivy's chosen new abode .  another action sequence which fails to serve any useful point other than to chew up five minutes of screentime involves an incredibly uninvolving late-night motorcycle race with barbara and some gotham goons .  mr . schumacher's focus for batman and robin appears to be to make the film as visually striking as possible , to the detriment of the story - there are drastic shifts in the tone of the film between all-out camp and heartfelt drama , with the latter completely unconvincing and ineffective .  it is perhaps not the most promising of signs when the group i was with burst out laughing within twenty seconds of the film's opening , even before a single line of dialogue had been uttered .  is batman and robin supposed to be campy ?  i think it is - it's hard to imagine that the filmmakers could have intended many parts of the film to be taken at all seriously .   ( one of my favourites was when bane helpfully grunted \" bomb ! \"  each time he laid down an explosive device in the gotham observatory . )  is it supposed to be as overly campy as it turned out to be ?  i somehow doubt it - the subplot involving afred is delivered so solemnly and with such graveness that the impression is made that the film isn't attempting to be the utter farce which it is .  arnold schwarzenegger is top-billed in the film as the villainous mr . freeze , and is bland and uninteresting , perhaps the worst thing that a villain can be .  mr . schwarzenegger's attempts to be menacing are laughable , and his attempts at conveying pathos are laughable ; frankly , everything he does onscreen is laughable .  by the end of the film , i was stifling a chuckle every time he simply appeared onscreen .  the bulk of his performance consists of uttering near-unintelligble puns and one-liners featuring every possible permutation of \" cool ! \"  in the least inventive way .  george clooney has been given very little to do in batman and robin , being overshadowed by the villains , and consequently he looks rather uncomfortable in the film .  his batman is hardly an imposing figure .  chris o'donnell is unimpressive in a one-note performance , while alicia silverstone lackadasically fails to make any impression at all .  the film's one saving grace ?  undoubtably uma thurman's entertaining performance as sexy villainess poison ivy .  her work in batman and robin is certainly over-the-top , but in a controlled fashion which works splendidly within the tone of the film .  ms . thurman's comic timing is impeccable , and reminds us that it takes skilled performers to make campiness work successfully .   ( i'm already starting to positively reassess jim carrey's performance in batman forever . )  her amusing poison ivy is the most entertaining character in the film , and when she's offscreen the film greatly suffers .  i figure that if one has to die , being kissed to death by uma thurman isn't a half-bad way to go .  while batman and robin was hardly a ride of pulse-pounding excitement , i must admit that i was not bored watching it , although i did glance at my watch repeatedly through the screening - my attention was kept through anticipation of the utterance of yet another terrible pun or one-liner , and by awaiting yet another scene to fall flat .  it's been a long time since i've laughed so much at a movie .   \" at \" , of course , is the operative word .  \n",
      "synopsis : valerie , a high school junior who doesn't look a day under 22 , writes bad poetry , complains about how much she hates school , fantasizes about a young guy on trial for raping and murdering six women , chooses him as a pen pal , and plays hooky to see him in court .  after a jailbreak , the killer puts on big sunglasses , wears a half-buttoned jacket , and uses his fatal charm to go after valerie .  comments : \" alan smithee \" directed fatal charm , which should have been more appropriately titled \" fatal bore \" or \" fatal crap \" .  if you find out that a film you're about to see is directed by \" alan smithee , \" then you should seriously , seriously , seriously consider watching something , anything , else .   \" alan smithee \" is a pseudonym which a number of directors have used when they produce something really bad .  frankly , i'd be embarrassed if i had directed this turkey , so i think i understand why the director might have picked the \" alan smithee \" moniker for this film .  where to begin with this painfully poor thriller ?  let's start with the acting .  it's pretty bad .  amanda peterson plays valerie and shows at least some talent ( the rest of the cast don't ) , even though her performance isn't exactly stellar material .  she's also miscast ; she seems way too old to still have a year of high school to complete .  her scenes with valerie's mother , played by mary frann , are a joke .  the two look as though they're a couple of coworkers going out to lunch together , rather than a daughter with her mother who just doesn't understand .  christopher atkins , a handsome enough actor who plays the killer , adam , looks like a clown in the second half of fatal charm .  trying to appear malicious and dangerous , he wears large sunglasses and a half-buttoned jacket .  if disney decided to do a zany comedy caper about the unabomber , atkins would probably be a perfect candidate for the lead , but he doesn't cut it here .  early on in the movie , a number of scenes occurs in a courtroom .  outside of the laughably poor performances given by the actors portraying lawyers , the people sitting in the benches provide the silliest effort at drama in the film .  they constantly shift and turn and arc their heads in mock interest in what has got to be one of the worst perfomances that a large group of people have given at one time ever .  fatal charm's storyline , such as it is , inspires more yawns than thrills .  the script belabors a red herring , early on , about a second suspect who may have committed the murders for which adam ( atkins ) is charged with .  this suspect , however , turns up strangled and drowned halfway through the film : an obvious plot fault .  even for the idiots who didn't consider the movie's title as valerie and a blond newsreporter commented how innocent and charming the defendant seemed , it becomes quite obvious that adam is dangerous when the other suspect washes up .  so , the audience must wait ( if they haven't already stopped watching ) as the necessary details fall into place and the killer goes after the heroine in the drawn-out finale .  the video box for this dud describes fatal charm as an \" erotic thriller \" .  a thriller it isn't , and neither is it particularly erotic .  i can't imagine , if someone were in the mood for something \" erotic , \" that he'd be happy after watching this fluff .  a few erotic moments occur in the film ; they take place in a van with little lighting and are filmed out of focus ( see , they're supposed to be valerie's fantasies -- how creative ) .  on a personal note , i was disturbed by the ludicrous english literature class shown in this film which valerie had to suffer through .  it's no wonder why she hated high school so much .  as an instructor of english myself , i have a hard time accepting the fact that in a course emphasizing great literature , a teacher would stoop to reading a student's bad poetry ( of course , it's valerie's ) about boyfriends out loud and then embarassing its author in front of class with questions about the poem's inspiration .  i guess the public school system is still setting dubious standards for its students .  fatal charm won't charm anyone , unless there's someone that's charmed by boring , lifeless , insipid , suspenseless thrillers .  if you happen upon this turkey , just keep moving on .  \n",
      " \" battlefield earth \" is the best comedy of the year .  it has to be .  the other prospect is just too horrifying to consider .  bad movie syndrome struck me again , so after witnessing how much \" battlefield earth \" has been proclaimed a train wreck in both critical and popular circles , i felt the masochistic urge to see the disaster first-hand .  is it as bad as advertised ?  oh yes , very much so .  the plot is incomprehensible .  the acting is atrocious .  the special effects are mediocre .  the action is dull .  the implausibilities are legion .  the dialogue is cringe-inducing .  the whole package is funny when it wants to be serious and irritating when it wants to be funny .  i don't even want to continue reviewing this movie ; i'd like to purge the atrocity from my mind as soon as possible , but you probably want to read my thrashing in all its sarcastic glory , so here it is :  the premise is basically a rip-off of \" planet of the apes , \" only minus the apes and philosophical discussion , and plus a race of evil aliens from the planet psychlo .  the year is 3000 , the psychlos have conquered earth , and the human population has been enslaved .  only a handful of humans escaped to radiation-rich areas to escape the aliens ; they live out their lives in fear .  one man , johnny goodboy ( i know , i know ) tyler ( barry pepper ) , ventures to the outworld and is captured by the psychlos .  there he confronts the psychlo head of security : a big , ugly , klingon-looking creature called terl ( john travolta ) .  pressed into slavery , johnny vows to lead a revolution and take the planet back .  meanwhile , terl is faced with his own problems : he has recently learned that he's stuck living on earth ( which he hates ) for the rest of his career because he pissed off his boss by sleeping with the big man's daughter .  he decides to give johnny knowledge of the psychlo language and technology ( this is where the plot gets ridiculous .   .   . )  so the \" man-animal \" can lead a mining expedition into places the psychlos can't go .  terl then plans to keep the mined gold for himself .  of course , his plan doesn't work .  so many things wrong with this movie -- where to begin ?  how about with travolta , whose hollywood clout brought about this , the cinematic version of scientology guru l . ron hubbard's sci-fi novel ?  early previews for \" battlefield earth , \" with constant shots of a makeup-laden travolta cackling like lex luthor , had me ( and several audience members ) remarking , \" what the hell is travolta thinking ? \"  the movie did nothing to stem such remarks .  all that ridiculous cackling he did in the trailers is in full force here : terl cackles after nearly every line , and so does every other psychlo .  of course , this makes every scene hilariously overwrought , no more so than when the script clumsily stumbles into political commentary .  the psychlos are probably supposed to be some kind of satire of corporate america , but ceos generally don't laugh maniacally after denying pay raises to their employees .   ( \" you were going to be promoted -- but now you're not !  fwahahahahahahahaha ! ! ! ! ! \" )  it's no big surprise terl loses to the humans -- he's an idiot .  he breaks every kind of supervillain rule in the book .  he underestimates his enemies , assuming he'll win just because he's smarter .   ( he uses the word \" leverage \" like some sort of scientologist mantra . )  not content to go the james bond villain route of explaining his plans to the hero , he hooks him up to a machine that gives him knowledge of all the psychlos' language and technology .   ( why this machine is even around in the first place is beyond me . )  he then appears shocked that johnny points a gun at him .  no wonder this guy never got his promotion .  the plot inconsistencies are too numerous to mention .  why do the psychlos build an earth base in which both they and the human slaves must wear little breathing apparatuses to survive ?  how come the psychlos are wasting their time mining for gold when the doors of fort knox are wide open ?  how in the world did all those fighter jets survive sitting in a hangar for 1 , 000 years ?  and how do all these previously brain-dead cavemen learn to fly them so quickly ?  there's a whole lot more to scratch one's head about in \" battlefield earth . \"  bring a scorecard to track the plot holes .  director roger christian shoots \" battlefield earth \" in the most distracting way possible , tilting nearly every shot sideways for no discernible reason .  all the characters appear to be standing on the walls , and it's awfully difficult to watch a movie when you must tilt your head just to watch ordinary passages of dialogue .  the action sequences are atrociously edited , every one turned into an endless slow-motion parade that drains all potential excitement .  are these things really so hard to construct ?  my respect for supposed \" lightweight \" action directors has grown by leaps and bounds after witnessing in \" battlefield earth \" how badly an action sequence can be shot .  this movie is an absolute headache .  it's not just the shot selection and editing ; the movie , quite frankly , makes no sense .  for most of \" battlefield earth's \" running time , i just didn't know what was happening .  it didn't have anything to do with me finding the events stupid or illogical ( though they certainly are ) -- i really had no idea what the hell was going on .  when i pieced the plot together later , it didn't look any better .  here's how much of a disaster this is : \" battlefield earth \" is already the worst movie of the year , and it's going to take something really , really inept to top it .  the only thing we can take comfort in about the film is that no one will be suckered into joining the church of scientology because of it .  in fact , i'd think that hubbard's cult would want to distance themselves from this bomb as fast as possible .  that'll teach me to give into bad movie syndrome again .  \n",
      "one of the responses those that enjoy \" detroit rock city \" ( probably kiss fans , mostly ) might have upon first glance at the rating i've given the film might be something like : \" oh , that casey's gone and become a jaded critic on us .  just what did he expect out of a dumb teenage rock n' roll movie like this ? \"  i'm wondering the same thing .  i feel like i should have had a grand time with \" detroit rock city . \"  it's the sort of movie i wish i could've had a lot of fun with , but i didn't .  i just didn't .  surely this film isn't trying to win any major awards , so should i have expected an oscar-caliber film ?  no , but i expected something .  a funny joke .  a clever prank .  a plot development .  anything .  the movie never delivers .  you've got to marvel at how the filmmakers managed to come up with a movie that is truly about nothing .   \" detroit rock city \" is one of those films that you walk out of after the credits have rolled and realize that you just spent 90 minutes watching a movie in which absolutely nothing happened to justify the film's existence , and it's not a very satisfying realization .  the film is about four teenage boys , all huge kiss fans from cleveland , trying to get into a kiss concert in detroit , michigan .  that's it .  there is no big plot description in this review , because the movie has very little plot .  the characters are hawk ( edward furlong ) , lex ( giuseppe andrews ) , trip ( james debello ) , and jam ( sam huntington ) .  they have a garage band .  they're pathetic , like all garage bands , but they like kiss and they like rock n' roll , so i guess that means we root for them .  they have tickets , they lose them .  they get more tickets , they lose those too .  they come up with crazy schemes to get tickets , most of which backfire .  there's not much more to it .  frankly , it becomes a little less than exciting to see them try to get kiss tickets about halfway through the film , when a total of eight tickets have already graced the boys' hands , only to be lost because of their sheer stupidity .  oh , and jam ( real name jeremiah ) has a really , really annoying ultra-religious mother who ought to be reported to the child welfare agency .  she doesn't want them to see kiss , if you hadn't figured that out already .  it's really quite disheartening to see such a fine soundtrack go to waste in a pointless movie like this .  we've got plenty of kiss , along with some ac/dc , ramones , and thin lizzy .  then again , \" maximum overdrive \" had an awesome soundtrack ( me being the big ac/dc fan that i am ) , but is probably one of the worst movies of all time .   \" detroit rock city \" doesn't quite reach that level of ineptitude , but it gets dangerously close .  in fact , the music is the only thing that keeps this movie from being a complete failure in my mind .  basically , the soundtrack has earned the film a full half-star , which means all the bands involved can pat themselves on the back ( except for marilyn manson , whose half-hearted cover of ac/dc's \" highway to hell \" sounds like something my neighbor's cat coughed up ) .  it's also really sad to see the talents of the cast go to waste , because it' s evident that they're all trying really hard to squeeze some life out of this dead turkey of a movie .  edward furlong has done far better work than this , and so has natasha lyonne , and so has lin shaye , but hey , they've got to make a living in hollywood .  people wanting to see kiss , and lots of it will probably be disappointed , considering the band appears for about five minutes and plays one song .  too bad , they might have provided some energy to this mess .  director adam rifkin knows he hasn't got much material to work with , so he takes a chapter from the michael bay book of directing and keeps his camera spinning .  we get an endless parade of quick-cuts , split-screens , zoom-outs , zoom-ins , and rotating cameras , all in an effort to cover up the sheer stupidity of the script .  it's fun for a while , but eventually it becomes disorienting .  i would recommend that those who felt seasick at \" the blair witch project \" stay far away from \" detroit rock city , \" because the witch has got nothing on this baby .  i haven't felt such an urge to reach out and hold the camera still since \" armageddon . \"  and what about that script ?  it's written by carl j . dupr ? , which sounds like as made-up a name as i've ever heard .  if it is , i can't say i blame the writer for distancing himself as far from this script as possible .  a plotless , pointless rock n' roll movie can be fun , if the jokes and gags are actually funny .  the jokes in \" detroit rock city \" rarely are .  in fact , the only time i really laughed was when a priest gets stoned on a marijuana-laced pizza , and that was just because it was so surreal .  the rest of the movie just seems like they just threw a bunch of vulgar stuff up on screen and called it \" comedy . \"  there is no set-up , just a succession of punchlines that don't provide for much in the way of chuckles , precisely because there was no set-up .  it's as if they just whacked someone on the head , pointed at him and said , \" see ?  funny ! \"  look , that woman was so shocked by hearing loud kiss music that she spilled her drink .  see ?  funny !  look , that guy just got clocked by a telephone receiver .  twice .  see ?  funny !  look , that kid has been vomiting for 20 minutes after drinking an inordinate amount of alcohol and is now about to perform an exotic dance for money .  see ?  funny !  a word of advice to mr . dupr ? : no , these things aren't funny all by themselves .  they must be preceded by a clever set-up so the audience hasn 't predicted them five minutes in advance .  that's it , i've said enough about this movie .  it's a waste of time and money .  i liked the music , but don't bother buying the soundtrack .  i hear it' s just modern bands doing inferior versions of the songs that are actually in the movie .  you want to see this concept executed well ?  go rent roger corman's 1979 classic \" rock n' roll high school . \"  it features another late-seventies rock band ( the ramones ) and a far more interesting story about a girl trying to get tickets to their show .  yes , go rent that , and skip \" detroit rock city , \" which will probably bomb , and deservedly so .  \n",
      "i have a great idea for a movie , one that can't miss .  see , i've got coolio to do a song for the soundtrack , and about fifty athletes and celebrities to do cameo appearances .  it's about professional basketball , so i'll release it right around the nba finals to guarantee added publicity .  as for what the movie is actually about . . . well , that will all sort itself out eventually .  i figure it will be a comedy , so i'll throw a half-dozen writers at it and take the best of whatever they come up with .  maybe we'll put a gender spin on it , see if we can get some women out to see it , too .  eddie is one of those phenomenally lazy films that infuriates me more than any other kind .  twister , as inane as the script might have been , at least required some creative technicians ; mission : impossible , overwrought plot and all , at least involved genuine effort .  eddie just sits there , hawking up a formula story without any laughs , and makes every possible bad decision when a decision is required .  whoopi goldberg plays eddie franklin , a new york limo driver and die-hard knicks fan who is suffering through a dismal season for her beloved team .  coach john bailey ( dennis farina ) has lost control of his overpaid prima donnas , and the losses are beginning to mount .  the dwindling attendance inspires new team owner wild bill burgess ( frank langella ) to try a publicity stunt in which a lucky fan will get to be an honorary coach of the team .  the winner ( surprise , surprise ) is eddie , who becomes a fan favorite , and eventually the actual coach .  the knicks continue to lose , but eddie has some sassy tricks up her sleeve to inspire her troops .  incidentally , the knicks eventually start winning .  please raise your hand if that comes as a shock , and i will invite you to my all-night marathon of the bad news bears , major league , angels in the outfield , the mighty ducks , the big green , cool runnings and little giants .  awful teams in sports comedies make miraculous turnarounds ; it's what they do .  those teams usually involve kids , for a very sound comedic reason : it's funnier when they screw up , and they're more sympathetic .  those which _don't_ involve kids usually have actual actors in the lead roles , for another very sound comedic reason : they generally have developed some sort of comic timing .  eddie was cast under the misguided premise that it's easier to make basketball players look like actors than it is to make actors look like basketball players .  this finds nba players like greg ostertag , dwayne schintzius , rick fox and malik sealy delivering punch lines as though they were reading them for the first time off a bazooka wrapper ( though sacramento kings center olden polynice has a nice moment describing a black hole to fellow players ) .  perhaps that all didn't matter to anyone because there are so few punch lines , and because the whole film is one big casting gimmick .  steve rash directs the spiritless script as though waving a flag of surrender and screaming , \" don't blame me , i just work here . \"  perhaps it was patently obvious to him that eddie isn't a movie -- it's a cameo appearance that trips over a plot every once in a while .  among the notables who lend their faces to this travesty are donald trump , new york mayor rudolph giulianni , former new york mayor ed koch , david letterman , letterman regulars mujibur rahman and sirajul islam , espn broadcaster chris berman and knicks announcer marv albert , as well as dozens of nba players and several nba arenas .  and those are the real jokes in eddie .  nothing these individuals say or do is funny ; you are supposed to be laughing simply because you notice , \" hey , it's donald trump ! \"  or \" hey , it's mujibur and sirajul ! \"  it's difficult to decide whether eddie is so bad because it was so shamelessly lacking in imagination or because it can't even get the cliches in a cliche-ridden genre script right .  the knicks coach who is eddie's antagonist early in the film reappears at the end , but he isn't given a chance to be the villain eddie desperately needs .  neither is frank langella , and none of the athlete-actors have the ability to give whoopi goldberg anything to play off of .  that leaves her to do her street-wise miss thang routine , but with no character , no sharp lines and no help .  eddie isn't just a bad movie with a formulaic premise .  it's a movie that makes you feel cheated and offended , because someone came up with a poster and a marketing plan to which they had to attach an actual movie , and you had the nerve to believe it was going to be a comedy .  \n",
      "let me open this one with a confession : i love cop movies .  i adore them with such an unwavering , near foolish passion that i was actually one of the first in line to see 1998's one tough cop starring the smirkiest of the baldwin brothers , steven .  was it any good ?  well , just about as good as baldwin's steven seagal impression ( for those i've confused the answer is a resounding no ! ) .  now let me clarify , i don't love just any cop movie ; i'm not too keen on the smug buddy cop flicks that were so in vogue in the 80's and now slowly ( gulp ) returning thanks to jackie chan and chris tucker .  i'm partial to those gritty , earthy cop dramas like serpico , donnie brasco , and the french connection .  problem is these films come along just about as often as george w . bush makes a cogent point so whenever a \" true \" cop movie does hit multiplexes , i come running towards it like an eager puppy ? ? ? and inevitably i leave , head bowed , tripping over my squiggly tail .  so what is it about cop movies that transform me into a moron willing to shell out $7 . 50 for a movie called one tough cop ( which actually sounds a lot like a wiseguy spin-off , no ? ) ?  truth is i'm a sucker for those barren streets , that gritty , graffiti strewn modernist jungle where dangerous criminals lurk and cops , like modern day knights , must shield us from their iniquitous clutches .  yes it's all very corny and awfully boys clubish , which , i'm guessing , is precisely where these feelings come from .  as little tots us boys are brought up to create our own wars with gi joe's , enact cops and robbers or cowboy and indian fantasies , etc . the best gritty cop films tap into those gleeful adolescent fantasies , and heighten them , turning it all into an existential nightmare of thin moral lines and psychological chaos .  as an adult my tastes haven't changed all that drastically ; sure i can get a cerebral high from the emotional complexities of a krzysztof kieslowski film , but i still delight at the promise a \" guy \" film could potentially bring .  now what if it's the cops who're the corrupt ones ?  ooh that one really gets me going , these protectors using all that at their service , taking advantage of others for their own gain .  throw a courtroom drama ( yech ! )  into the pot and you have the tremendously absorbing sidney lumet film prince of the city .  how absorbing is prince of the city , you ask ?  so damn absorbing that when the film shifts from gritty undercover cop drama to courtroom drama ( a sub-genre i loath the way kristy swanson must loath sarah michelle gellar ) i remained completely and utterly involved .  the film stars treat williams , who gives the kind of performance that should have skyrocketed his career up to the level that brad pitt currently resides at .  since i was hatched a mere two years prior to the release of prince of the city , i cannot provide an answer as to why it didn't .   ( though judging from his recent roles in tripe like deep rising and dead heat i would guess that it probably has something to do with quite a few bad career moves ) .  like mickey rourke and eric roberts ( both of whom are currently doing time in direct to video purgatory ) williams is a talented leading man who didn't make it to where he should have .   ( if there was any justice in this dog gone world keanu reeves would be the one banished to direct to video hell ) .  here , the actor is given a role not all that dissimilar from al pacino's in serpico ( also directed by lumet ) .  williams plays danny ciello , a member of an elite squad of police officers who take down drug dealers on the gritty pre-juliani streets of new york .  they work without uniforms or hours much like paid vigilantes .  and that analogy is more than apt seeing as how the bunch are kinda sorta forced into using corrupt means to get the job done .  the squad relies entirely on informants ( low level junkies ) to gain access to the big wigs , and in order to obtain the info they seek , they sometimes have to provide the junkies with the junk of their choice .  danny has done this , and though he's a fairly honorable guy , who took the job in order to do good , his intentions have gotten a bit skewed along the way .  he seeks redemption and concludes that the best way to go about getting it is by talking to internal affairs who then convince him to go undercover as a \" double agent \" .  he does so with one condition : he will not rat on his partners .  right away we know that that is exactly what he'll have to do .  and watching the movie build to that is thrilling in the way that any great character driven story can be .  undercover cop films are almost innately exciting , even the kind that pull out all the cliches ( like in too deep ) .  how can one not be moved by the issues of betrayal , ambiguity , and the danger in putting oneself in such a risky position ?  prince of the city takes all this and charges it with a perceptive , hard boiled script and taut unintrusive direction by old pro sidney lumet , as well as a handful of intense performances , most notably by treat .  lumet's greatest contribution to the movie is how he lays back , and lets the camera soak up the action .  his scenes transition rapidly from one to the next building layers of tension , and he rarely holds for reaction shots , instead he clicks away at precisely the moment a character stops yakking .  lumet's worst tendency is one that many film makers ( especially oliver stone ) tend to overuse : he relies a little too heavily on actors shouting their lines at each other presumably in order to ratchet up the tension .  this isn't as much a problem here as it was in night falls on manhattan , lumet's most recent cop \\ lawyer endeavor , a movie that nearly gave me an ulcer from just watching .  though of late lumet has made several really awful career choices ( maybe he and treat should get together for a drink or something ) , the most recent a completely unnecessary remake of gloria , here he was on , sustaining tension in a film that runs for 167 minutes with not one dull spot .  some of the formula pictures i like the best are the most simplistic .  hollywood often forgets how easy it is to make these kinds of pictures even tolerable .  of course cop movies aren't popular anymore ( yes buddy cop flicks are popular but those are more like extended sitcoms with gunfire amid the punch lines ) , but just look at the average hollywood action movies , flicks so bloated and full of unnecessary fat like the boring love interest that serves no purpose other than to stall the action and demonstrate that our hero isn't gay , the lame comic relief character who's never funny , and on and on .  for all its moral ambiguities prince of the city is a back to the basics cop \\ courtroom drama that leaves out all the crap and really thrills .  it focuses completely on its story , and its characters all of whom are completely believable from the cops to the lawyers to the junkies .  there's a great scene early on where an irate williams shouts at an ia officer and looks as if he's about to go into one of those corny braveheart inspirational speeches , but instead he breaks down in front of the cop and begins sobbing .  this is a scene that would never make it into a michael bay film ( even though bruce willis sacrifices his life at the end of armageddon , not one damn tear ) it would be cut out because the director would say oh that makes him too human , excuse me , weak .  in the very next scene danny speaks in a hushed raspiness , straining to get the words out .  he's lost his voice .  does that little itty bitty detail matter ?  maybe not to most , but it sure made my night .  and in a sprawling epic of corruption , greed , betrayal and violence it's nice to see that someone is paying attention to the little things .  \n",
      "godzilla is the ultimate culmination of the \" who cares about plot \" summer movie .  a loose remake of the 1954 \" classic \" japanese monster movie , godzilla , king of the monsters ( which is itself pretty thin in the story department ) , roland emmerich and dean devlin's big-budget lizard-stomps-manhattan disaster flick has been written with the brain dead in mind .  the script isn't just \" dumbed down , \" it's lobotomized .  godzilla lives and dies on special effects alone .  presumably , the primary target group for this film is teenage boys , the demographic most likely to shell out $7 repeatedly to see the same images of monster-instigated carnage .  that's not to say that females and other age groups are immune to the special effects seduction ; they're just not as readily susceptible .  this is the third straight movie in a row where emmerich and devlin have demonstrated that a mastery of computer-generated visuals is far more important for making money than the ability to write and direct for actors .  stargate was a financial success .  independence day was a runaway hit .  and , with godzilla already drowning in hype and merchandising tie-ins before it even opens , it's virtually guaranteed at least $100 million .  nice numbers for a film that could have been penned by a not-too-precocious grade school kid .  godzilla isn't completely without merit , although it is close .  there's a certain visceral thrill inherent in watching the giant lizard rip his way through manhattan , but it wears off quickly .  frankly , while the special effects are competent , they're not all that stunning .  there's nothing new here ; it's jurassic park meets aliens , with a little independence day thrown in for bad measure .  maybe it will require george lucas and his new star wars movie to take computer-generated visuals to the next level .  godzilla never really pushes the envelope , preferring to remain within a comfort zone .  the imagination of monster movies like king kong has been replaced by a crass , formulaic approach which disallows creativity .   ( how disturbing is it to know that godzilla has been chosen to close the 51st cannes film festival ? )  worst of all , godzilla isn't even exciting .  with the possible exception of a mildly enjoyable car chase near the end , there isn't a sequence in this film that raises the pulse .  even the scenes with dozens of aircraft attacking the monster are so devoid of tension and suspense that they are yawn-provoking .  independence day may have been dumb , but it was full of \" adrenaline moments \" capable of getting the audience involved in the action .  in this aspect of its production , as in so many others , godzilla is lacking .  actually , part of the problem is that we're never sure who we're supposed to be rooting for : the green monster with an attitude or the paper-thin humans trying to stop him .  the plot , such as it is , can be summed up rather simply .  after sinking a few ships and leaving some footprints on tropical islands , godzilla shows up in the big apple .  he does some of the usual tourist things : stops by madison square garden , visits the chrysler building , goes on a walk through central park , and takes the subway .  in the process , he knocks over a few buildings and steps on countless cabs , but he never has trouble with traffic jams .  on hand to stop him is an elite u . s . army unit , led by a slightly less-arrogant-than-usual military man ( kevin dunn ) and a biologist named nick tatopoulos , who has a theory about godzilla .  in his opinion , the big guy is actually a lizard grown to enormous proportions as a result of the radiation given off by french atomic bomb tests in the south pacific .  in nick's words , godzilla is \" a mutated aberration ? an incipient creature ? the first of its kind . \"  as luck would have it , nick's old girlfriend , audrey ( maria pitillo ) , is a reporter based at a new york tv station .  along with her cameraman friend , animal ( hank azaria ) , she decides to follow nick around as he trails godzilla .  then , just when the military has rejected nick's theory about why godzilla is in new york , a member of the french secret service ( jean reno ) recruits him for a special assignment .  instead of stomping around tokyo this time , godzilla has chosen new york city .  unfortunately , manhattan has been destroyed so many times in recent disaster movies ( independence day , deep impact , armageddon ) that it's becoming boring .  the whole tradition of monsters roaming around the city started with king kong , but the big ape was only about 30 feet tall .  he could climb the empire state building .  at ten times that height , godzilla would be more likely to knock it over .  godzilla contains a few lame attempts at humor .  there's an ongoing feud between animal and his wife that plays like sit-com material , an unfunny and repetitive gag about how no one can pronounce nick's last name properly , and a rather tame attack on film critics roger ebert and gene siskel .  both of the popular personalities have alter egos in the film : \" ebert , \" the mayor of new york , is played by michael lerner , and \" gene \" ( lorry goldman ) is his campaign manager .  ebert's re-election slogan is , not surprisingly , \" thumbs up for new york . \"  the siskel/ebert stuff is amusing the first time it's used , but , after a while , it grows tiresome .  and , although the \" characters \" don't serve any real purpose , they keep popping up .  godzilla is saddled with an unimpressive cast .  this is largely because emmerich doesn't want to risk a human performance upstaging his lizard .  that's not to say that matthew broderick and jean reno aren't capable of good performances ( both have done their share of solid acting in the past ) , but they aren't a-list names .  then again , considering the quality of the writing , even pacino and deniro would have been hard- pressed to shine .  maria pitillo ( dear god ) plays the love interest and hank azaria ( great expectations ) is on hand to present what is supposed to be comic relief .  ultimately , it doesn't really matter what i ( or any other critic , for that matter ) have to say about the movie .  tristar has assumed that godzilla , like all self-proclaimed summer event motion pictures , is pretty much critic-proof .  it may also be word-of-mouth-proof .  those who want to see the movie will see it no matter what i write or their friends say .  so , when i go on record to assert that godzilla is one of the most idiotic blockbuster movies of all time , it's like spitting into the wind .  emmerich and devlin are master illusionists , waving their wands and mesmerizing audiences with their smoke and mirrors .  it's probably too much to hope that some day , movie-goers will wake up and realize that they've been had .  \n",
      "over 40 years ago , a japanese production company called toho introduced the land of the rising sun to gojira , a reptilian creature of immense proportions created by mankind's nuclear testing .  partly flight of fancy , partly commentary on the exploitation of atomic power and weaponry , gojira emerged from the ocean to terrorize tokyo .  a year later , gojira was marketed to the united states by adding three things : a new name , a dubbed english track , and raymond burr .  as godzilla , the film took on the rest of the world .  thirty years later , toho remade the classic film and once again took it to the american market by adding the same three things ( yes , including raymond burr ) and called it godzilla 1985 .  now it's 14 years after toho's remake , and director roland emmerich has allowed the giant lizard to make an american first run .  in emmerich's godzilla , matthew broderick plays dr . niko tatopoulos , a biologist who is called in to join other scientists in the south pacific already studying the existence of a radiation-induced super mutant which leaves footprints the size of livingrooms .  when the mutant reptile suddenly appears out of the hudson river , tatopoulos and the rest of the team relocate themselves back to the states .  meanwhile , tatopoulos's college girlfriend , audrey timmonds ( maria pitillo ) , works in new york city as an assistant to a big-time news reporter .  she'd like to be a reporter herself , and when godzilla comes ashore , she figures this is her big break .  of course , with the big guy running amok in the city , niko and audrey are bound to cross paths , and are joined by victor \" animal \" palotti ( hank azaria ) , audrey's trusty cameraman friend , and phillipe roche ( jean reno ) , an operative for the french government , whose nuclear testing started the whole problem in the first place .  together they attempt to find and destroy the surprisingly elusive godzilla .  with the resources of the most cutting edge special effects houses and the clout of one of the nation's premiere movie production companies , one would think emmerich could make a film truly deserving of the name godzilla .  he didn't .  right up there with the lost world , godzilla is one of the biggest disappointments in recent cinematic history .  the plot is pretty much what we expect : the big dinosaur-like creature comes out of the water and starts smashing new york city , and it's up to our heroes to figure out why this thing is on its rampage and how it can be stopped , while the military makes futile attempts to bring the creature down .  the script , however , is painfully bad .  it's fraught with lines so corny , they don't even belong in b-movies , and includes many character actions which make you think , \" you idiot , \" or \" you stupid girl . \"  i suppose when you've got a movie with a giant lizard loose in new york , any other semblance of reality goes out the window as well .  why is it that godzilla topples some buildings by merely brushing against them , but is conveniently able to leap atop others ?  why do helicopters have to follow godzilla by flying dangerously between buildings where they can lose sight of him , when they could more easily keep track of him by flying a little higher and in a straight line ?  why do sidewinder missiles , which have small explosive warheads , blow up entire buildings when they miss godzilla ?  why is a mission to bomb madison square garden carried out by three f-18 fighter-bombers , when flights of such aircraft are always comprised of multiples of two ?  okay , maybe the last one was a bit nit-picky , but hey , i was on a roll .  broderick is usually a good actor , but in this film he's weighed down by an unexciting character and an atrocious screenplay which seem to fight against him every step of the way .  hank azaria does what he can , but don't expect to see development of any of the promise he showed in the birdcage .  like broderick's , azaria's character is quite simply lacking in color .  what really annoyed me was maria pitillo , who actually takes the bad script and makes it worse with her acting .  casting must have been asleep on this one .  the one bright spot here is jean reno , who oddly enough seems to fit well into a role which is often comedic , quite unlike what we've seem him do in the past .  although his character is contradictory to the unfolding disaster , reno brings a style to the role of phillipe which makes him enjoyable .  unfortunately , the same cannot be said of the other incongruities .  the entire feel of the movie is tongue-in-cheek , and seems to pay comical homage to a dozen or so films that have come before it .  this results in a significant amount of parody , which contrasts sharply with the threat of the monster , and ends up just producing a mess .  most of the characters seem to be there for comic relief , and almost none are smart enough for the audience to take seriously .  although emmerich obviously wanted to make a fun action picture , what good is it to sink millions into a cgi creature whose ferocity is undermined by the humans he threatens ?  if we can't take the characters seriously , the threat they face is an empty one because we simply don't care what happens to them .  godzilla simply pulls too many punches in its attempt to be a film more light-hearted than it should be .  far be it from me to want to see more carnage in the theaters , but here's a behemoth running through the city !  there's bound to be a lot of casualties , but instead godzilla is afflicted with the after-school g . i .  joe cartoon syndrome , where almost everyone seems to get out of harm's way just in time .  in a couple of scenes , godzilla briefly breathes fire .  none of the characters even remark upon this ability , nor is it used to any particular advantage by the filmmakers .  it's as if the special effects people just wanted to show that yes , godzilla can do this , just like in the old movie .  consider another punch pulled .  through creative script writing , you can make a sequel out of just about any movie , but the final scene in this one doesn't just leave the door open , it opens into a hallway leading directly into a room where godzilla ii is waiting patiently .  it made me want to gag .  emmerich should have done away with 90% of the humor and in-jokes and played this one as a straight action film .  with an intelligently written screenplay , godzilla could have been so much more .  however , by confusing the viewer with a ton of add-ins and parodies , the movie ends up being something that just doesn't work .  now if they only had raymond burr . . . .  \n",
      "movie reviewers have an obligation to see the good , the bad , and the despicable .  i originally wrote this review for my college newspaper back in '95 , but i wanted to re-write it because not all retro reviews should be about the classics .  we need to be warned about some truly awful films , too .  this picture was so bad , it inspired the description for my 1/10 rating ( see ratings chart below ) .  the only thing saving it from a 0/10 rating is that being able to rent a movie like this is slightly less embarassing than renting a porno .  so , it does indeed have some plusses . . .  in fairness , elizabeth berkley is certainly worth seeing in the buff .  and her ability to whine and irritate us , even while nude , was appropriate in her role as selfish temptress nomi malone .  this character is not smart , not interesting , and ( deliberately ? )  far too annoying far too often .  like in 1998s \" bulworth \" , when the movie was over i didn't care one little iota about the main character .  at least warren beatty tried to make a statement with his dreary and overrated film , though .   \" showgirls \" is too stupid to make a statement .  some people claim that the story is based on the legendary \" all about eve \" of all things !  if exploitation expert joe eszterhas was half the screenwriter that joseph l . mankiewicz was , he'd be . . . well ,  he'd be a good screenwriter .  instead , this project may have sunk his career .  he wrote the ( ha ha ! )  script and the usually reliable paul verhoeven directed .  the same team who created a good sex-film in 1992 ( \" basic instinct \" ) struck out here with their occasional violence , gratuitous x-rated sex scenes , and numerous ( and quite unnecessary ) lesbian overtones .  the predictable storyline revolves around nomi streaking into las vegas to make it big as a dancer .  after the supposed street-smart young \" lady \" gets conned out of her suitcase by a slack-jawed yokel in the opening sequence , she befriends a tailor of the glamorous stage production at the \" stardust hotel \" .  nomi doesn't take advantage of this contact to break into the big-time of dirty dancing right away .  first , she becomes a lap dancer at a scummy strip club .  she sells her hot little wares at \" the cheetah \" for a short time , turning on the fictitious customers and the actual theatre audience .  hey , i never said she wasn't a hot number . . .  maybe it's that , her body , which gets her into the big-time when the star of the \" stardust hotel \" , crystal connors ( gina gershon ) stops into the strip club ( it certainly isn't her brains or pleasant disposition ! ) .  crystal requests a private lap dance for her boyfriend ( kyle maclachlan ) .  he also happens to be the pleasure-seeking worm who runs the big show .  crystal gets nomi onto the \" stardust \" team and , after an interminable amount of time , nomi \" earns \" the role of crystal's understudy .  the slut then deliberately injures and hospitalizes crystal .  it was almost laughable that nomi had the guts to claim that she's \" not a whore \" .  that's a phrase we hear a few different times and it's completely ludicrous .  of course she is !  she sells her soul to make it big , but in the end we're supposed to believe that she's a better person than that .  we're supposed to root for her .  no way !  she's a tramp and a back-stabber who deserved nothing--least of all vindication in the . . . ahem . . . climax .  she is not a good person and they take over two hours to explain that the audience should think that she is .  the sub-plot with a male dancer ( glenn plummer ) who claims to see talent in nomi is just a gratuitous opportunity to let her dance naked a little bit more .  it sure ain't character development !  plummer also appeared in \" speed \" in '94 in a smaller , yet better role .  this sub-plot goes absolutely nowhere except maybe to deliver an unsubtle hint that fornicators should practice birth control .  kyle maclachlan must have been promised a big pay-day or his standards have dipped since appearing in \" blue velvet \" .  that picture was weird , but some critics claim it's one of the best movies of the '80s .  now ol' kyle can say that he acted in one of the worst of the '90s , too .  his sleazy character is important to \" showgirls \" , but we don't learn anything about him .  he uses people to get what he wants , but that only means that he fits in well with the other characters in this movie .  is he a villain ?  who cares !  ultimately , this movie is as tiresome as it is explicit .  everyone must know by now about the soft-core acts of copulation , especially the riotous romp between berkley and maclachlan in his pool .  what few reviewers take issue with is how mean-spirited this movie is .  everyone's either having sex , exacting revenge , or wishing they were having sex or exacting revenge .  it's just too hard to take ( especially for over two hours ) .  if we must be exposed to the evils of the vegas world , why couldn't verhoeven have also made a point of highlighting the whispers , grunts , and other sounds during the dance numbers ?  it's hard to care about these people if we can't even appreciate what they're capable of doing on-stage .  berkley may have a future in hollywood because she can dance and she has a great body .  after all , the world of porn is still an active , dishonourable profession .  perhaps berkley could join their ranks and leave the real acting to pauly shore and cindy crawford .  oops , they're bad actors , too .  well , at least , they're not selfish and contemptable like good ol' slutty nomi malone .  useless trivia--ironically , elizabeth berkley played virtuous and \" holier than thou \" jessie on the teeny-bopper tv show , \" saved by the bell \" , before breaking onto the big screen .  \n",
      "reindeer games is easily the worst of the three recent films penned by ehren kruger ( scream 3 and arlington rd are the others , each derivative in their own special way ) .  the guy can't seem to write believable dialogue ( sample from reindeer games : \" rule #1 : never put a car thief behind the wheel \" ) , create multi-faceted characters , or even engineer coherent plots but he sure knows how to pile on numerous nonsensical twists and turns ( no matter if each one deems the actual story increasingly unlikely ) .  his screenplay for reindeer games turns the tables on the audience so many times that watching the film becomes something of a punishment with no reward anywhere in sight .  i can just envision kruger laughing behind his keyboard , \" oh you thought my movie was gonna go here , f * ck you jack ass , take that twist , decipher this mother f * cker ! \"  it's almost as if the writer were angry at us for shelling out money to see his stupid movie .  and why the hell would anyone want to invest time in a movie when the screenwriter keeps changing his own rules for no reason other than to congratulate himself on how damn clever he is ?  auteur theory be damned ; it's kruger's \" style \" , not the director's that winds up on screen .  kruger has obviously never paid much mind to the old chestnut \" sometimes less is more \" .  and his numerous twists can't even claim to be originals ; arlington rd's ending is a direct steal from the much better alan j . pakula thriller the parallax view , and in reindeer games we get this ol' gem ; character incriminates themself by saying something they shouldn't know ( pronouns used to protect the gender of the \" character \" . . . grammar  be damned ) .   \" how did you know that ? \"  the stunned protagonist asks , suddenly realizing that the character was in on the whole thing all along .   .   .  since twist endings are currently so in vogue , and seeing as how kruger's screenplays usually come equipped with about three twists per ending , i guess it's no wonder why he works so frequently .  he's quickly becoming miramax's mickey mouse ; the company has already signed him to work on several of their upcoming projects .  this is appropriate considering that miramax ( which used to place their label on some of the most artistically daring films ) has quickly become a grindhouse for coddling foreign imports ( life is beautiful ) and freddie prinze jr . vehicles .  their company's current logo could be \" we ride the trends \" .  reindeer games stars ben affleck as rudy , a supposedly hardened criminal spending his days and nights behind bars with fantasies of pecan pies dancing atop his head .  although affleck is given some barbed wire tattoos to insinuate bad assness , he plays the role like steve guttenberg preciously mugging through a police academy flick .  affleck is such a puppy dog that it's impossible to believe he could survive in a harsh prison environment without becoming nearly everyone's bitch .  the role itself is so badly written ( the character only grows balls when the plot calls for it ) , the twists so outrageous , and the directing so self consciously gritty that this is about as close to self parody as i can recall a recent \" serious \" movie getting .  it may have been wiser had the film makers simply went all the way in that direction , casting jerry seinfeld as the hardened criminal and howard stern as the sniveling bad guy ( who's played here by gary sinise in yet another over the top villain performance )  james frain is nick , rudy's cellmate , a manslaughterer who's found a pen pal in the gorgeous ashley mason ( charlize theron ) .  ashley is a prison groupie who sends nick many cheesecake photos of her though she's never seen one picture of him .  which works out fine since the character is killed in a near-riot , and rudy ( who was to be paroled on the same day as nick ) takes his place , which leads to a sudden and very frenzied sex scene between ashley and rudy ( so frenzied it kinda looks like rape ) and a surprise visit from ashley's brother , gabriel ( gary sinise ) , who waltzes into their shabby hotel room flanked by his thuggish co-horts .  he plans to rob an indian casino on christmas eve with the assistance of rudy who he thinks is nick who , according to what he wrote in the letters to ashley , used to work as a guard in the indian casino .  though by the end , the film pulls the rug out from under us so frequently that everything i've described might as well be irrelevant .  this is what you can expect should you chose to take this reindeer on ; several scenes in which , after catching his prey , the bad guy proceeds to stall interminably until the good guy has a chance to kill his captor and crack a stupid one-liner .  included : two ( 2 ) scenes of two ( 2 ) different bad guys explaining their motives to the hero when they should be killing him ( one following the other no less ) .  though it's an action film , the ending is more a talkfest where we get the whole movie explained to us by one flustered character actor after another while affleck looks on , incredulous as the audience .  the flick was directed by john frankenheimer , a straightforward action director who lucked into the manchurian candidate early in his career , fell off the a-list following a string of flops and now , in his old age , is slowly climbing his way back up .  it would be a success story if he were choosing better scripts but his last major film was ronin ( one of those almost but not quite movies ) which followed the island of dr . morneau   ( you remember , the one with marlon brando in mime make-up and a not so flattering moo-moo ) , and now this .  he films action sequences with a minimum of quick cutting which i like considering that nowadays action scenes are commonly comprised of millisecond flash cuts strung together and laid out for a brain-zapped mtv audience to pick apart .  problem is these action scenes ( nearly all failed escapes ) serve no purpose in the story other than to further pad out the running time and to remind the audience that their watching an action movie rather than a filmed radio play .  character problems abound ; rudy is made to shift between sweet boy next door earnestness and hard edged wiseacre , the latter of which is not ( at least at this point ) something ben affleck is capable of pulling off .  the former he can do with ease and often the actor coasts on his lackadaisical charm while those around him growl and swear .  but then suddenly affleck starts growling and swearing alongside them like the class clown imitating a tarantino gangster .  charlize theron , an extraordinary talent , is , like affleck , playing whatever part the script requires her to play , whether it be vulnerability at one moment , anger at the next .  she never has a chance to evince any charm or make much of an impression beyond her obvious physical attributes ( frankenheimer has her needlessly pop her top to further italicize this .  gary sinise has played this role frequently , and here , as in snake eyes , he does the snarling bad guy thing with such over the top vitriol ( the guy must be so incredibly bored of stomping through the same paces that going out of control is the only thing that keeps him interested any more ) , that it becomes more of an annoyance ( oh there he goes again ? ? ? ) than a threat .  these are talented people who made the mistake of jumping on to a script with little but stock characters and a bag of tricks that it dully springs on its audience .  \n"
     ]
    }
   ],
   "source": [
    "# fill in your code...\n",
    "print('Top10 negative: 1 - 10')\n",
    "for i in range(1,11):\n",
    "    print(X_test_raw[index[i-1,0]])\n"
   ]
  },
  {
   "cell_type": "markdown",
   "metadata": {},
   "source": [
    "### Discuss how did you choose model hyperparameters (e.g. learning rate and regularisation strength)? What is the relation between training epochs and learning rate? How the regularisation strength affects performance?"
   ]
  },
  {
   "cell_type": "markdown",
   "metadata": {},
   "source": [
    "Enter your answer here...\n",
    "Hyperparameter is usually selected very carefully, such as the learning rate, if the learning rate is too large, then the number of epochs will be reduced, which will lead to underfit, and if the learning rate is too small, then the model running time will increase significantly, the number of times Will increase, and easily lead to overfitting. And regularisation strength can prevent overfitting"
   ]
  },
  {
   "cell_type": "markdown",
   "metadata": {},
   "source": [
    "\n",
    "\n",
    "## Full Results\n",
    "\n",
    "Add here your results:\n",
    "\n",
    "| LR | Precision  | Recall  | F1-Score  |\n",
    "|:-:|:-:|:-:|:-:|\n",
    "| BOW-count  |0.7741935483870968   |0.84    |0.8057553956834531   |\n",
    "| BOW-tfidf  |0.7658536585365854   |0.785   |0.7753086419753088   |\n"
   ]
  },
  {
   "cell_type": "markdown",
   "metadata": {},
   "source": [
    "# Multi-class Logistic Regression \n",
    "\n",
    "Now you need to train a Multiclass Logistic Regression (MLR) Classifier by extending the Binary model you developed above. You will use the MLR model to perform topic classification on the AG news dataset consisting of three classes:"
   ]
  },
  {
   "cell_type": "markdown",
   "metadata": {},
   "source": [
    "- Class 1: World\n",
    "- Class 2: Sports\n",
    "- Class 3: Business"
   ]
  },
  {
   "cell_type": "markdown",
   "metadata": {},
   "source": [
    "You need to follow the same process as in Task 1 for data processing and feature extraction by reusing the functions you wrote."
   ]
  },
  {
   "cell_type": "code",
   "execution_count": 6,
   "metadata": {
    "ExecuteTime": {
     "end_time": "2020-02-15T14:18:03.212229Z",
     "start_time": "2020-02-15T14:18:03.185261Z"
    }
   },
   "outputs": [],
   "source": [
    "# fill in your code...\n",
    "data_tr = pd.read_csv('./data_topic/train.csv', names=[\"class\",\"article\"])\n",
    "data_dev = pd.read_csv('./data_topic/dev.csv',  names=[\"class\",\"article\"])\n",
    "data_te = pd.read_csv('./data_topic/test.csv',  names=[\"class\",\"article\"])"
   ]
  },
  {
   "cell_type": "code",
   "execution_count": 62,
   "metadata": {
    "ExecuteTime": {
     "end_time": "2020-02-15T14:18:03.515585Z",
     "start_time": "2020-02-15T14:18:03.508299Z"
    }
   },
   "outputs": [
    {
     "data": {
      "text/html": [
       "<div>\n",
       "<style scoped>\n",
       "    .dataframe tbody tr th:only-of-type {\n",
       "        vertical-align: middle;\n",
       "    }\n",
       "\n",
       "    .dataframe tbody tr th {\n",
       "        vertical-align: top;\n",
       "    }\n",
       "\n",
       "    .dataframe thead th {\n",
       "        text-align: right;\n",
       "    }\n",
       "</style>\n",
       "<table border=\"1\" class=\"dataframe\">\n",
       "  <thead>\n",
       "    <tr style=\"text-align: right;\">\n",
       "      <th></th>\n",
       "      <th>class</th>\n",
       "      <th>article</th>\n",
       "    </tr>\n",
       "  </thead>\n",
       "  <tbody>\n",
       "    <tr>\n",
       "      <td>0</td>\n",
       "      <td>1</td>\n",
       "      <td>Reuters - Venezuelans turned out early\\and in ...</td>\n",
       "    </tr>\n",
       "    <tr>\n",
       "      <td>1</td>\n",
       "      <td>1</td>\n",
       "      <td>Reuters - South Korean police used water canno...</td>\n",
       "    </tr>\n",
       "    <tr>\n",
       "      <td>2</td>\n",
       "      <td>1</td>\n",
       "      <td>Reuters - Thousands of Palestinian\\prisoners i...</td>\n",
       "    </tr>\n",
       "    <tr>\n",
       "      <td>3</td>\n",
       "      <td>1</td>\n",
       "      <td>AFP - Sporadic gunfire and shelling took place...</td>\n",
       "    </tr>\n",
       "    <tr>\n",
       "      <td>4</td>\n",
       "      <td>1</td>\n",
       "      <td>AP - Dozens of Rwandan soldiers flew into Suda...</td>\n",
       "    </tr>\n",
       "  </tbody>\n",
       "</table>\n",
       "</div>"
      ],
      "text/plain": [
       "   class                                            article\n",
       "0      1  Reuters - Venezuelans turned out early\\and in ...\n",
       "1      1  Reuters - South Korean police used water canno...\n",
       "2      1  Reuters - Thousands of Palestinian\\prisoners i...\n",
       "3      1  AFP - Sporadic gunfire and shelling took place...\n",
       "4      1  AP - Dozens of Rwandan soldiers flew into Suda..."
      ]
     },
     "execution_count": 62,
     "metadata": {},
     "output_type": "execute_result"
    }
   ],
   "source": [
    "data_tr.head()"
   ]
  },
  {
   "cell_type": "code",
   "execution_count": 7,
   "metadata": {
    "ExecuteTime": {
     "end_time": "2020-02-15T14:18:03.806523Z",
     "start_time": "2020-02-15T14:18:03.798279Z"
    }
   },
   "outputs": [],
   "source": [
    "# fill in your code...\n",
    "X_tr_raw = []\n",
    "Y_tr = []\n",
    "X_dev_raw = []\n",
    "Y_dev = []\n",
    "X_test_raw = []\n",
    "Y_te = []\n",
    "\n",
    "# add all raw data into list\n",
    "for i in range(len(data_tr)):\n",
    "    X_tr_raw.append(data_tr.iat[i, 1])\n",
    "    Y_tr.append(data_tr.iat[i, 0])\n",
    "    \n",
    "for i in range(len(data_dev)):\n",
    "    X_dev_raw.append(data_dev.iat[i, 1])\n",
    "    Y_dev.append(data_dev.iat[i, 0])\n",
    "    \n",
    "for i in range(len(data_te)):\n",
    "    X_test_raw.append(data_te.iat[i, 1])\n",
    "    Y_te.append(data_te.iat[i, 0])"
   ]
  },
  {
   "cell_type": "code",
   "execution_count": 8,
   "metadata": {
    "ExecuteTime": {
     "end_time": "2020-02-15T14:18:04.508938Z",
     "start_time": "2020-02-15T14:18:04.171071Z"
    }
   },
   "outputs": [
    {
     "name": "stdout",
     "output_type": "stream",
     "text": [
      "5000\n",
      "\n",
      "[('over', 'toronto'), 'routines', 'militants', 'banking', ('sudan', 'troubled', 'darfur'), ('familiar', 'matter'), ('sprinters', 'kostas', 'kenteris'), ('mortgage', 'interest'), ('iraqi', 'city', 'najaf'), ('topping', 'estimates'), 'wisconsin', ('german', 'chancellor', 'gerhard'), 'stand', ('prime', 'minister', 'john'), ('start', 'trading', 'nasdaq'), ('nepal', 'capital'), 'jcp', ('week', 'during'), ('no', 'search', 'engine'), 'sales', ('four', 'private'), ('rwandan', 'soldiers'), 'annual', 'attacks', ('killing', 'thousands'), 'league', 'chess', 'member', ('company', 'wall'), ('year', 'earlier'), ('day', 'after'), 'veterans', 'got', 'bhp', 'greatest', ('will', 'withdraw'), ('housing', 'starts', 'rebounded'), 'helicopter', ('reuters', 'united', 'states'), 'taken', 'required', ('one', 'most'), ('new', 'high'), ('size', 'closely', 'watched'), 'worst', 'bargaining', ('inventory', 'controls'), ('shi', 'ite', 'cleric'), ('costas', 'kenteris'), 'owners', ('chicago', 'aug', 'reuters'), ('us', 'women'), 'supplies', 'st', ('wednesday', 'posted'), ('payment', 'percent', 'future'), ('less', 'than', 'billion'), 'largest', 'knee', ('olympic', 'committee'), ('watched', 'initial', 'public'), 'front', 'halliburton', 'suspend', ('monday', 'reported', 'third'), 'money', 'freddie', 'xinhuanet', ('supply', 'disruptions'), 'gorda', 'damages', ('three', 'man'), ('left', 'wing'), 'terrorists', 'united', 'charge', 'wife', ('resolve', 'billing'), ('declare', 'initial'), 'field', 'source', 'shrines', 'enough', ('reuters', 'prime', 'minister'), ('more', 'than', 'three'), 'rampage', ('water', 'touted'), 'right', ('sexual', 'assault'), ('easing', 'inflationary', 'pressure'), 'holding', ('number', 'one', 'roger'), 'mind', 'number', 'mutual', ('out', 'top'), 'along', 'hour', 'sad', ('inc', 'slashed')]\n",
      "\n",
      "[('reuters', 631), ('said', 432), ('tuesday', 413), ('wednesday', 344), ('new', 325), ('after', 295), ('ap', 275), ('athens', 245), ('monday', 221), ('first', 210)]\n"
     ]
    }
   ],
   "source": [
    "vocab, df, ngram_counts = get_vocab(X_tr_raw, ngram_range=(1,3), keep_topN=5000, stop_words=stop_words)\n",
    "print(len(vocab))\n",
    "print()\n",
    "print(list(vocab)[:100])\n",
    "print()\n",
    "print(df.most_common()[:10])"
   ]
  },
  {
   "cell_type": "code",
   "execution_count": 9,
   "metadata": {
    "ExecuteTime": {
     "end_time": "2020-02-15T14:18:04.706802Z",
     "start_time": "2020-02-15T14:18:04.511061Z"
    }
   },
   "outputs": [],
   "source": [
    "# fill in your code...\n",
    "word_id = {}\n",
    "i = 0\n",
    "for i, w in enumerate(list(vocab)):\n",
    "    word_id[w] = i\n",
    "# generate 3 file ngram list    \n",
    "X_train_ngram = []\n",
    "X_dev_ngram = []\n",
    "X_test_ngram = []\n",
    "\n",
    "for i in X_tr_raw:\n",
    "    X_train_ngram.append(extract_ngrams(i, ngram_range=(1,3), token_pattern=r'\\b[A-Za-z][A-Za-z]+\\b', stop_words=stop_words, vocab=vocab))\n",
    "for i in X_dev_raw:\n",
    "    X_dev_ngram.append(extract_ngrams(i, ngram_range=(1,3), token_pattern=r'\\b[A-Za-z][A-Za-z]+\\b', stop_words=stop_words, vocab=vocab))\n",
    "for i in X_test_raw:\n",
    "    X_test_ngram.append(extract_ngrams(i, ngram_range=(1,3), token_pattern=r'\\b[A-Za-z][A-Za-z]+\\b', stop_words=stop_words, vocab=vocab))\n",
    "\n",
    "    # vectorise 3 list    \n",
    "X_tr_count = vectorise(X_train_ngram, vocab)\n",
    "X_dev_count = vectorise(X_dev_ngram, vocab)\n",
    "X_test_count = vectorise(X_test_ngram, vocab)"
   ]
  },
  {
   "cell_type": "code",
   "execution_count": 10,
   "metadata": {},
   "outputs": [],
   "source": [
    "idfs = []\n",
    "for i in list(vocab):\n",
    "    # set a variable to record occurance times \n",
    "    df_count = 0\n",
    "    # if it occur, variable + 1\n",
    "    for j in X_train_ngram:\n",
    "        if i in j:  \n",
    "            df_count = df_count + 1\n",
    "    idfs.append(np.log10(X_tr_count.shape[0]/(df_count+1)))\n",
    "# change to numpy array\n",
    "idfs = np.array(idfs)\n",
    "\n",
    "X_tr_tfidf = X_tr_count * idfs\n",
    "X_dev_tfidf = X_dev_count * idfs\n",
    "X_test_tfidf = X_test_count * idfs"
   ]
  },
  {
   "cell_type": "markdown",
   "metadata": {},
   "source": [
    "Now you need to change `SGD` to support multiclass datasets. First you need to develop a `softmax` function. It takes as input:\n",
    "\n",
    "- `z`: array of real numbers \n",
    "\n",
    "and returns:\n",
    "\n",
    "- `smax`: the softmax of `z`"
   ]
  },
  {
   "cell_type": "code",
   "execution_count": 11,
   "metadata": {
    "ExecuteTime": {
     "end_time": "2020-02-15T14:18:07.440998Z",
     "start_time": "2020-02-15T14:18:07.437915Z"
    }
   },
   "outputs": [],
   "source": [
    "def softmax(z):\n",
    "    \n",
    "    # fill in your code...\n",
    "    smax = np.exp(z) / np.sum(np.exp(z),1,keepdims=True)\n",
    "    return smax"
   ]
  },
  {
   "cell_type": "markdown",
   "metadata": {},
   "source": [
    "Then modify `predict_proba` and `predict_class` functions for the multiclass case:"
   ]
  },
  {
   "cell_type": "code",
   "execution_count": 28,
   "metadata": {
    "ExecuteTime": {
     "end_time": "2020-02-15T14:18:07.445451Z",
     "start_time": "2020-02-15T14:18:07.442851Z"
    }
   },
   "outputs": [],
   "source": [
    "def predict_proba(X, weights):\n",
    "    \n",
    "    # fill in your code...\n",
    "    preds_proba = softmax(np.matmul(X,weights.T))\n",
    "    return preds_proba"
   ]
  },
  {
   "cell_type": "code",
   "execution_count": 29,
   "metadata": {
    "ExecuteTime": {
     "end_time": "2020-02-15T14:18:07.449814Z",
     "start_time": "2020-02-15T14:18:07.447145Z"
    }
   },
   "outputs": [],
   "source": [
    "def predict_class(X, weights):\n",
    "    \n",
    "    # fill in your code...\n",
    "    pre_pro = predict_proba(X, weights)\n",
    "    preds_class = np.argmax(pre_pro, 1)\n",
    "    \n",
    "    return preds_class+1"
   ]
  },
  {
   "cell_type": "markdown",
   "metadata": {},
   "source": [
    "Toy example and expected functionality of the functions above:"
   ]
  },
  {
   "cell_type": "code",
   "execution_count": 30,
   "metadata": {
    "ExecuteTime": {
     "end_time": "2020-02-15T14:18:08.059902Z",
     "start_time": "2020-02-15T14:18:08.056774Z"
    }
   },
   "outputs": [],
   "source": [
    "X = np.array([[0.1,0.2],[0.2,0.1],[0.1,-0.2]])\n",
    "w = np.array([[2,-5],[-5,2]])"
   ]
  },
  {
   "cell_type": "code",
   "execution_count": 31,
   "metadata": {
    "ExecuteTime": {
     "end_time": "2020-02-15T14:18:08.495464Z",
     "start_time": "2020-02-15T14:18:08.491074Z"
    }
   },
   "outputs": [
    {
     "data": {
      "text/plain": [
       "array([[0.33181223, 0.66818777],\n",
       "       [0.66818777, 0.33181223],\n",
       "       [0.89090318, 0.10909682]])"
      ]
     },
     "execution_count": 31,
     "metadata": {},
     "output_type": "execute_result"
    }
   ],
   "source": [
    "predict_proba(X, w)"
   ]
  },
  {
   "cell_type": "code",
   "execution_count": 32,
   "metadata": {
    "ExecuteTime": {
     "end_time": "2020-02-15T14:18:08.714215Z",
     "start_time": "2020-02-15T14:18:08.710098Z"
    }
   },
   "outputs": [
    {
     "data": {
      "text/plain": [
       "array([2, 1, 1], dtype=int64)"
      ]
     },
     "execution_count": 32,
     "metadata": {},
     "output_type": "execute_result"
    }
   ],
   "source": [
    "predict_class(X, w)"
   ]
  },
  {
   "cell_type": "markdown",
   "metadata": {},
   "source": [
    "Now you need to compute the categorical cross entropy loss (extending the binary loss to support multiple classes)."
   ]
  },
  {
   "cell_type": "code",
   "execution_count": 33,
   "metadata": {
    "ExecuteTime": {
     "end_time": "2020-02-15T14:30:48.047338Z",
     "start_time": "2020-02-15T14:30:48.044395Z"
    }
   },
   "outputs": [],
   "source": [
    "def categorical_loss(X, Y, weights, num_classes=5, alpha=0.00001):    \n",
    "    # fill in your code...\n",
    "    l = 0\n",
    "    log_pb = np.log(predict_proba(X, weights))\n",
    "    for i in range(X.shape[0]):\n",
    "        l = l + log_pb[i, Y[i]-1]\n",
    "    l = l/X.shape[0]\n",
    "    l = alpha * np.sum(weights**2) - l\n",
    "    return l\n",
    " "
   ]
  },
  {
   "cell_type": "markdown",
   "metadata": {
    "ExecuteTime": {
     "end_time": "2020-02-15T14:08:59.937442Z",
     "start_time": "2020-02-15T14:08:59.932221Z"
    }
   },
   "source": [
    "Finally you need to modify SGD to support the categorical cross entropy loss:"
   ]
  },
  {
   "cell_type": "code",
   "execution_count": 53,
   "metadata": {
    "ExecuteTime": {
     "end_time": "2020-02-15T14:18:10.176885Z",
     "start_time": "2020-02-15T14:18:10.165021Z"
    }
   },
   "outputs": [],
   "source": [
    "def SGD(X_tr, Y_tr, X_dev=[], Y_dev=[], num_classes=5, lr=0.01, alpha=0.00001, epochs=5, tolerance=0.001, print_progress=True):\n",
    "    \n",
    "    # fill in your code...\n",
    "    training_loss_history = []\n",
    "    validation_loss_history = []\n",
    "\n",
    "    weights = np.zeros([num_classes, X_tr.shape[1]])\n",
    "    for i in range(epochs):\n",
    "        #  generate random order of Dtrain\n",
    "        ran_order = np.random.permutation(X_tr.shape[0])\n",
    "        for j in ran_order:\n",
    "            Z_tr = predict_proba(X_tr[j:j+1,:], weights)\n",
    "            Z_tr[0, Y_tr[j]-1] -= 1\n",
    "            weights -=  lr * ( Z_tr.T * X_tr[j:j+1,:] + 2*alpha*weights)\n",
    "\n",
    "        # append every loss results into training and validation loss\n",
    "        training_loss_history.append(categorical_loss(X_tr, Y_tr, weights, alpha))\n",
    "        validation_loss_history.append(categorical_loss(X_dev, Y_dev, weights, alpha))\n",
    "\n",
    "        if print_progress:\n",
    "            print('Epoch times: {}, Training loss value: {}, Validation loss: {}'.format(i, training_loss_history[-1], validation_loss_history[-1]))\n",
    "        if len(validation_loss_history)>=2 and np.abs(validation_loss_history[-1] - validation_loss_history[-2]) < tolerance:\n",
    "            break\n",
    "\n",
    "    return weights, training_loss_history, validation_loss_history"
   ]
  },
  {
   "cell_type": "markdown",
   "metadata": {
    "ExecuteTime": {
     "end_time": "2020-02-15T14:10:15.772383Z",
     "start_time": "2020-02-15T14:10:15.767855Z"
    }
   },
   "source": [
    "Now you are ready to train and evaluate you MLR following the same steps as in Task 1 for both Count and tfidf features:"
   ]
  },
  {
   "cell_type": "code",
   "execution_count": 54,
   "metadata": {
    "ExecuteTime": {
     "end_time": "2020-02-15T14:18:55.324956Z",
     "start_time": "2020-02-15T14:18:11.720952Z"
    }
   },
   "outputs": [
    {
     "name": "stdout",
     "output_type": "stream",
     "text": [
      "Epoch times: 0, Training loss value: 1.06871153705053, Validation loss: 1.0832974610299926\n",
      "Epoch times: 1, Training loss value: 1.0422434786376484, Validation loss: 1.069065555486003\n",
      "Epoch times: 2, Training loss value: 1.0185309215508764, Validation loss: 1.0557414171258988\n",
      "Epoch times: 3, Training loss value: 0.9969590558249927, Validation loss: 1.0431600465890944\n",
      "Epoch times: 4, Training loss value: 0.9771419232443248, Validation loss: 1.031218115367468\n",
      "Epoch times: 5, Training loss value: 0.9587627254554502, Validation loss: 1.0198238935324733\n",
      "Epoch times: 6, Training loss value: 0.9415905789203911, Validation loss: 1.0089127734734733\n",
      "Epoch times: 7, Training loss value: 0.9254700343029902, Validation loss: 0.99843389533281\n",
      "Epoch times: 8, Training loss value: 0.9102736628507736, Validation loss: 0.98835078808231\n",
      "Epoch times: 9, Training loss value: 0.8958994855318175, Validation loss: 0.9786292065290251\n",
      "Epoch times: 10, Training loss value: 0.8822709559565971, Validation loss: 0.9692436434645051\n",
      "Epoch times: 11, Training loss value: 0.8693154157416452, Validation loss: 0.9601745436952751\n",
      "Epoch times: 12, Training loss value: 0.8569746755148615, Validation loss: 0.9514010310571613\n",
      "Epoch times: 13, Training loss value: 0.8452018309116366, Validation loss: 0.9429049137252729\n",
      "Epoch times: 14, Training loss value: 0.8339526593475637, Validation loss: 0.9346733309028898\n",
      "Epoch times: 15, Training loss value: 0.8231861925537665, Validation loss: 0.9266926342990085\n",
      "Epoch times: 16, Training loss value: 0.8128716212378776, Validation loss: 0.9189490876922202\n",
      "Epoch times: 17, Training loss value: 0.8029776420372103, Validation loss: 0.9114342125322731\n",
      "Epoch times: 18, Training loss value: 0.793473510380114, Validation loss: 0.9041348503597759\n",
      "Epoch times: 19, Training loss value: 0.7843353104819693, Validation loss: 0.897040367039163\n",
      "Epoch times: 20, Training loss value: 0.7755400980568566, Validation loss: 0.8901446567158852\n",
      "Epoch times: 21, Training loss value: 0.767066645606414, Validation loss: 0.8834367243157603\n",
      "Epoch times: 22, Training loss value: 0.7588978313160075, Validation loss: 0.8769096002172764\n",
      "Epoch times: 23, Training loss value: 0.7510122791707622, Validation loss: 0.870556391623912\n",
      "Epoch times: 24, Training loss value: 0.7433957280733386, Validation loss: 0.8643699579291564\n",
      "Epoch times: 25, Training loss value: 0.7360341736101685, Validation loss: 0.8583427786199347\n",
      "Epoch times: 26, Training loss value: 0.7289145410722505, Validation loss: 0.8524692223953396\n",
      "Epoch times: 27, Training loss value: 0.7220226854446161, Validation loss: 0.84674351793638\n",
      "Epoch times: 28, Training loss value: 0.7153456771131415, Validation loss: 0.841159406706189\n",
      "Epoch times: 29, Training loss value: 0.7088744041952736, Validation loss: 0.8357132307131614\n",
      "Epoch times: 30, Training loss value: 0.7025958942173481, Validation loss: 0.8303964359799868\n",
      "Epoch times: 31, Training loss value: 0.6965023243368526, Validation loss: 0.82520631364397\n",
      "Epoch times: 32, Training loss value: 0.6905839510890708, Validation loss: 0.8201380195917968\n",
      "Epoch times: 33, Training loss value: 0.6848339935299128, Validation loss: 0.8151875216103404\n",
      "Epoch times: 34, Training loss value: 0.6792442359526758, Validation loss: 0.8103508938052156\n",
      "Epoch times: 35, Training loss value: 0.6738061468434761, Validation loss: 0.8056232721547956\n",
      "Epoch times: 36, Training loss value: 0.6685132198221624, Validation loss: 0.8010000569905575\n",
      "Epoch times: 37, Training loss value: 0.663358764247885, Validation loss: 0.7964783153917342\n",
      "Epoch times: 38, Training loss value: 0.6583384241128115, Validation loss: 0.7920563963497294\n",
      "Epoch times: 39, Training loss value: 0.6534452343316703, Validation loss: 0.7877287951505758\n",
      "Epoch times: 40, Training loss value: 0.6486724594484844, Validation loss: 0.7834923039568334\n",
      "Epoch times: 41, Training loss value: 0.6440177423773451, Validation loss: 0.7793461158835729\n",
      "Epoch times: 42, Training loss value: 0.6394744379680807, Validation loss: 0.7752848140243496\n",
      "Epoch times: 43, Training loss value: 0.6350388636505385, Validation loss: 0.7713070835876916\n",
      "Epoch times: 44, Training loss value: 0.6307057612582622, Validation loss: 0.7674095403538741\n",
      "Epoch times: 45, Training loss value: 0.6264726612946757, Validation loss: 0.7635896809577126\n",
      "Epoch times: 46, Training loss value: 0.6223352263109309, Validation loss: 0.7598460836489725\n",
      "Epoch times: 47, Training loss value: 0.6182890169704326, Validation loss: 0.7561750565962353\n",
      "Epoch times: 48, Training loss value: 0.6143313353785852, Validation loss: 0.7525749251055067\n",
      "Epoch times: 49, Training loss value: 0.6104586921116113, Validation loss: 0.7490436227492037\n",
      "Epoch times: 50, Training loss value: 0.6066687816984955, Validation loss: 0.7455791791236743\n",
      "Epoch times: 51, Training loss value: 0.6029576628190215, Validation loss: 0.7421791770720022\n",
      "Epoch times: 52, Training loss value: 0.59932273262011, Validation loss: 0.7388418432773387\n",
      "Epoch times: 53, Training loss value: 0.595761796441005, Validation loss: 0.7355659777500756\n",
      "Epoch times: 54, Training loss value: 0.5922719787473217, Validation loss: 0.7323491849197806\n",
      "Epoch times: 55, Training loss value: 0.5888507164343513, Validation loss: 0.729189691408867\n",
      "Epoch times: 56, Training loss value: 0.5854963307856401, Validation loss: 0.726086205554676\n",
      "Epoch times: 57, Training loss value: 0.582205442321905, Validation loss: 0.7230366064874555\n",
      "Epoch times: 58, Training loss value: 0.5789772805811466, Validation loss: 0.7200403132155697\n",
      "Epoch times: 59, Training loss value: 0.5758093451435311, Validation loss: 0.7170946421893476\n",
      "Epoch times: 60, Training loss value: 0.5726996478352121, Validation loss: 0.7141994112849812\n",
      "Epoch times: 61, Training loss value: 0.5696462112850266, Validation loss: 0.7113529927576044\n",
      "Epoch times: 62, Training loss value: 0.5666477773530417, Validation loss: 0.7085539808218638\n",
      "Epoch times: 63, Training loss value: 0.5637024151138377, Validation loss: 0.705801158101126\n",
      "Epoch times: 64, Training loss value: 0.5608089402933022, Validation loss: 0.7030940571203742\n",
      "Epoch times: 65, Training loss value: 0.5579647055413672, Validation loss: 0.7004297819961454\n",
      "Epoch times: 66, Training loss value: 0.5551695128069045, Validation loss: 0.6978088316253503\n",
      "Epoch times: 67, Training loss value: 0.5524212934367085, Validation loss: 0.6952282590080013\n",
      "Epoch times: 68, Training loss value: 0.5497190219101743, Validation loss: 0.6926893000434446\n",
      "Epoch times: 69, Training loss value: 0.5470608469684182, Validation loss: 0.6901890384119764\n",
      "Epoch times: 70, Training loss value: 0.5444457719565499, Validation loss: 0.687727297346809\n",
      "Epoch times: 71, Training loss value: 0.5418728012170623, Validation loss: 0.6853030335562909\n",
      "Epoch times: 72, Training loss value: 0.5393406035915796, Validation loss: 0.682915728359342\n",
      "Epoch times: 73, Training loss value: 0.5368484130690431, Validation loss: 0.6805646307215132\n",
      "Epoch times: 74, Training loss value: 0.5343947363448278, Validation loss: 0.6782481095926908\n",
      "Epoch times: 75, Training loss value: 0.5319785495105175, Validation loss: 0.6759652996077283\n",
      "Epoch times: 76, Training loss value: 0.5295993349778458, Validation loss: 0.673715715301504\n",
      "Epoch times: 77, Training loss value: 0.5272557114002382, Validation loss: 0.6714988614563036\n",
      "Epoch times: 78, Training loss value: 0.5249469020515971, Validation loss: 0.6693134521278249\n",
      "Epoch times: 79, Training loss value: 0.52267199220242, Validation loss: 0.6671595860323067\n",
      "Epoch times: 80, Training loss value: 0.5204300962234724, Validation loss: 0.6650357943448164\n",
      "Epoch times: 81, Training loss value: 0.5182206028769446, Validation loss: 0.6629419765722869\n",
      "Epoch times: 82, Training loss value: 0.5160425857857347, Validation loss: 0.6608770739710946\n",
      "Epoch times: 83, Training loss value: 0.513895159351123, Validation loss: 0.6588406944190655\n",
      "Epoch times: 84, Training loss value: 0.5117779857479625, Validation loss: 0.6568322536464922\n",
      "Epoch times: 85, Training loss value: 0.5096898042477223, Validation loss: 0.6548507757568717\n",
      "Epoch times: 86, Training loss value: 0.507630143212597, Validation loss: 0.6528953172778442\n",
      "Epoch times: 87, Training loss value: 0.505598559526267, Validation loss: 0.6509663022495766\n"
     ]
    },
    {
     "name": "stdout",
     "output_type": "stream",
     "text": [
      "Epoch times: 88, Training loss value: 0.5035939453822854, Validation loss: 0.6490626199277507\n",
      "Epoch times: 89, Training loss value: 0.501615973723924, Validation loss: 0.6471838738961488\n",
      "Epoch times: 90, Training loss value: 0.49966408092103315, Validation loss: 0.6453296179204383\n",
      "Epoch times: 91, Training loss value: 0.49773755921072116, Validation loss: 0.6434991112843436\n",
      "Epoch times: 92, Training loss value: 0.49583589390448446, Validation loss: 0.6416911861496409\n",
      "Epoch times: 93, Training loss value: 0.4939587282005571, Validation loss: 0.6399069628476328\n",
      "Epoch times: 94, Training loss value: 0.49210526454097275, Validation loss: 0.6381458255597731\n",
      "Epoch times: 95, Training loss value: 0.490275076131738, Validation loss: 0.6364064070101152\n",
      "Epoch times: 96, Training loss value: 0.48846759906457116, Validation loss: 0.6346883710022722\n",
      "Epoch times: 97, Training loss value: 0.486682273963451, Validation loss: 0.6329911804421231\n",
      "Epoch times: 98, Training loss value: 0.48491888159704033, Validation loss: 0.631314922584974\n",
      "Epoch times: 99, Training loss value: 0.4831767841181517, Validation loss: 0.629658776669387\n",
      "Epoch times: 100, Training loss value: 0.48145549385079667, Validation loss: 0.6280224865661723\n",
      "Epoch times: 101, Training loss value: 0.4797550850653529, Validation loss: 0.6264070780528742\n",
      "Epoch times: 102, Training loss value: 0.478074522714602, Validation loss: 0.6248100484393704\n",
      "Epoch times: 103, Training loss value: 0.476413615857171, Validation loss: 0.623232050362313\n",
      "Epoch times: 104, Training loss value: 0.474772066481018, Validation loss: 0.621673208466241\n",
      "Epoch times: 105, Training loss value: 0.47314943872985094, Validation loss: 0.62013174316657\n",
      "Epoch times: 106, Training loss value: 0.47154511845769054, Validation loss: 0.6186081677945566\n",
      "Epoch times: 107, Training loss value: 0.469959005845805, Validation loss: 0.6171014157205464\n",
      "Epoch times: 108, Training loss value: 0.46839075944185077, Validation loss: 0.615612339596317\n",
      "Epoch times: 109, Training loss value: 0.4668399868425229, Validation loss: 0.6141399135481339\n",
      "Epoch times: 110, Training loss value: 0.46530633086771306, Validation loss: 0.6126832673406668\n",
      "Epoch times: 111, Training loss value: 0.46378949117964796, Validation loss: 0.611243468285683\n",
      "Epoch times: 112, Training loss value: 0.462289171102031, Validation loss: 0.6098199490988261\n",
      "Epoch times: 113, Training loss value: 0.46080502270097, Validation loss: 0.608411626231729\n",
      "Epoch times: 114, Training loss value: 0.45933670731297405, Validation loss: 0.6070186927441319\n",
      "Epoch times: 115, Training loss value: 0.4578841175132153, Validation loss: 0.6056408455889343\n",
      "Epoch times: 116, Training loss value: 0.45644668028543284, Validation loss: 0.6042779809412672\n",
      "Epoch times: 117, Training loss value: 0.4550243394644676, Validation loss: 0.6029298420794604\n",
      "Epoch times: 118, Training loss value: 0.45361680781460184, Validation loss: 0.6015957130627462\n",
      "Epoch times: 119, Training loss value: 0.4522236462515765, Validation loss: 0.6002756425373573\n",
      "Epoch times: 120, Training loss value: 0.45084483839981443, Validation loss: 0.5989696008365645\n",
      "Epoch times: 121, Training loss value: 0.44948003276177745, Validation loss: 0.5976776301758568\n",
      "Epoch times: 122, Training loss value: 0.4481290961615621, Validation loss: 0.596399259159396\n",
      "Epoch times: 123, Training loss value: 0.4467915821857133, Validation loss: 0.5951338650753162\n",
      "Epoch times: 124, Training loss value: 0.4454674057738635, Validation loss: 0.5938820178812653\n",
      "Epoch times: 125, Training loss value: 0.4441563190236949, Validation loss: 0.5926423271994254\n",
      "Epoch times: 126, Training loss value: 0.44285813020053194, Validation loss: 0.5914156781034744\n",
      "Epoch times: 127, Training loss value: 0.44157256865026834, Validation loss: 0.5902011311572299\n",
      "Epoch times: 128, Training loss value: 0.4402994430402072, Validation loss: 0.5889984894947551\n",
      "Epoch times: 129, Training loss value: 0.439038650053597, Validation loss: 0.5878083657092998\n",
      "Epoch times: 130, Training loss value: 0.4377897381774514, Validation loss: 0.5866292010271537\n",
      "Epoch times: 131, Training loss value: 0.4365526775215252, Validation loss: 0.5854624813994527\n",
      "Epoch times: 132, Training loss value: 0.4353272744617485, Validation loss: 0.5843065729663842\n",
      "Epoch times: 133, Training loss value: 0.4341133204243165, Validation loss: 0.5831619640112735\n",
      "Epoch times: 134, Training loss value: 0.4329107167548342, Validation loss: 0.5820281801438258\n",
      "Epoch times: 135, Training loss value: 0.4317191566962585, Validation loss: 0.5809053754506277\n",
      "Epoch times: 136, Training loss value: 0.43053853853833457, Validation loss: 0.5797930764427636\n",
      "Epoch times: 137, Training loss value: 0.4293685852909029, Validation loss: 0.5786915717016072\n",
      "Epoch times: 138, Training loss value: 0.4282093582434194, Validation loss: 0.5776013416912301\n",
      "Epoch times: 139, Training loss value: 0.4270605686078358, Validation loss: 0.5765207491199595\n",
      "Epoch times: 140, Training loss value: 0.42592204054235466, Validation loss: 0.575450551526851\n",
      "Epoch times: 141, Training loss value: 0.42479361300548213, Validation loss: 0.5743904134506856\n",
      "Epoch times: 142, Training loss value: 0.42367509737873194, Validation loss: 0.5733395094645932\n",
      "Epoch times: 143, Training loss value: 0.4225663590782984, Validation loss: 0.5722979635382066\n",
      "Epoch times: 144, Training loss value: 0.42146737015152075, Validation loss: 0.5712666927865907\n",
      "Epoch times: 145, Training loss value: 0.4203780052460905, Validation loss: 0.5702451478289364\n",
      "Epoch times: 146, Training loss value: 0.4192980002146444, Validation loss: 0.5692326405005226\n",
      "Epoch times: 147, Training loss value: 0.41822720073907155, Validation loss: 0.5682291030795149\n",
      "Epoch times: 148, Training loss value: 0.4171655626660582, Validation loss: 0.5672345371181999\n"
     ]
    }
   ],
   "source": [
    "w_count, loss_tr_count, dev_loss_count = SGD(X_tr_count, Y_tr, \n",
    "                                             X_dev=X_dev_count, \n",
    "                                             Y_dev=Y_dev,\n",
    "                                             num_classes=3,\n",
    "                                             lr=0.0001, \n",
    "                                             alpha=0.001, \n",
    "                                             epochs=200)"
   ]
  },
  {
   "cell_type": "markdown",
   "metadata": {},
   "source": [
    "Plot training and validation process and explain if your model overfit, underfit or is about right:"
   ]
  },
  {
   "cell_type": "code",
   "execution_count": 43,
   "metadata": {
    "ExecuteTime": {
     "end_time": "2020-02-15T14:31:09.903453Z",
     "start_time": "2020-02-15T14:31:09.901360Z"
    }
   },
   "outputs": [
    {
     "data": {
      "text/plain": [
       "<matplotlib.legend.Legend at 0x2499e3bf348>"
      ]
     },
     "execution_count": 43,
     "metadata": {},
     "output_type": "execute_result"
    },
    {
     "data": {
      "image/png": "[encoded data removed]",
      "text/plain": [
       "<Figure size 432x288 with 1 Axes>"
      ]
     },
     "metadata": {
      "needs_background": "light"
     },
     "output_type": "display_data"
    }
   ],
   "source": [
    "# fill in your code...\n",
    "plt.plot(range(len(loss_tr_count)), loss_tr_count, color = 'blue', label='training loss')\n",
    "plt.plot(range(len(dev_loss_count)), dev_loss_count,color= 'coral', label = 'validation loss', )\n",
    "plt.xlabel('Epoch times')\n",
    "plt.ylabel('Loss value')\n",
    "plt.legend()"
   ]
  },
  {
   "cell_type": "markdown",
   "metadata": {},
   "source": [
    "Answer:this model is also overfit, because the training loss is lower than the validation loss."
   ]
  },
  {
   "cell_type": "markdown",
   "metadata": {},
   "source": [
    "Compute accuracy, precision, recall and F1-scores:"
   ]
  },
  {
   "cell_type": "code",
   "execution_count": 36,
   "metadata": {
    "ExecuteTime": {
     "end_time": "2020-02-15T14:32:12.606498Z",
     "start_time": "2020-02-15T14:32:12.604164Z"
    }
   },
   "outputs": [
    {
     "name": "stdout",
     "output_type": "stream",
     "text": [
      "Accuracy: 0.8522222222222222\n",
      "Precision: 0.8545592790763165\n",
      "Recall: 0.8522222222222222\n",
      "F1-Score: 0.8514022251643323\n"
     ]
    }
   ],
   "source": [
    "# fill in your code...\n",
    "\n",
    "preds_te = predict_class(X_test_count, w_count)\n",
    "print('Accuracy:', accuracy_score(Y_te,preds_te))\n",
    "print('Precision:', precision_score(Y_te,preds_te,average='macro'))\n",
    "print('Recall:', recall_score(Y_te,preds_te,average='macro'))\n",
    "print('F1-Score:', f1_score(Y_te,preds_te,average='macro'))"
   ]
  },
  {
   "cell_type": "markdown",
   "metadata": {},
   "source": [
    "Print the top-10 words for each class respectively."
   ]
  },
  {
   "cell_type": "code",
   "execution_count": 52,
   "metadata": {
    "ExecuteTime": {
     "end_time": "2020-02-15T14:32:26.224693Z",
     "start_time": "2020-02-15T14:32:26.221886Z"
    }
   },
   "outputs": [
    {
     "name": "stdout",
     "output_type": "stream",
     "text": [
      "1\n",
      "Top10  1 NAJAF, Iraq - Iraq's most powerful Shiite cleric returned home from Britain on Wednesday to help broker an end to nearly three weeks of fighting in Najaf and is calling on his followers to join him in a march to reclaim the holy city, his spokesmen and witnesses said.    Grand Ayatollah Ali Husseini al-Sistani return came as heavy fighting persisted in Najaf's Old City...\n",
      "Top10  2 BAGHDAD, Iraq - Rebel Shiite cleric Muqtada al-Sadr called for his followers across Iraq to end fighting against U.S. and Iraqi forces and is planning to join the political process in the coming days, an al-Sadr aide said Monday...\n",
      "Top10  3 NAJAF, Iraq - Militants loyal to radical Shiite cleric Muqtada al-Sadr kept their hold on a revered shrine, and clashes flared in Najaf on Saturday, raising fears that a resolution to the crisis in the holy city could collapse amid bickering between Shiite leaders.    The clashes between U.S...\n",
      "Top10  4 BAGHDAD, Iraq - Delegates at Iraq's National Conference called on radical Shiite cleric Muqtada al-Sadr to abandon his uprising against U.S. and Iraqi troops and pull his fighters out of a holy shrine in Najaf...\n",
      "Top10  5  NAJAF, Iraq (Reuters) - A mortar attack on a packed mosque  in the town of Kufa on Thursday killed at least 25 people as  Iraq's most influential Shi'ite cleric headed to the nearby  holy city of Najaf to try to end a bloody three-week uprising.\n",
      "Top10  6  NAJAF, Iraq (Reuters) - Rebel Shi'ite fighters appeared  still to be in control of the Imam Ali mosque in the Iraqi city  Najaf early on Saturday, but the whereabouts of their leader,  the fiery cleric Moqtada al-Sadr, were unknown.\n",
      "Top10  7 A top aide to Iraq #39;s rebel Shi #39;ite leader Muqtada al-Sadr Monday called on the Mehdi Army militia to cease fire across Iraq and said Sadr was preparing to announce plans for a major political program.\n",
      "Top10  8 NAJAF, Iraq - Explosions and gunfire rattled through the city of Najaf as U.S. troops in armored vehicles and tanks rolled back into the streets here Sunday, a day after the collapse of talks - and with them a temporary cease-fire - intended to end the fighting in this holy city...\n",
      "Top10  9 US and Iraqi forces battled militants in Najaf on Tuesday and Iraqi National Guardsmen advanced to within 200 yards of the holy city #39;s Imam Ali Shrine compound, where insurgents loyal to radical cleric Muqtada al-Sadr have been holed up for weeks.\n",
      "Top10  10  NAJAF, Iraq (Reuters) - Rebel Iraqi cleric Moqtada al-Sadr  on Friday ordered his men inside Najaf's Imam Ali mosque to lay  down their weapons and join thousands of Shi'ite pilgrims  outside the shrine.\n",
      "2\n",
      "Top10  1  ATHENS (Reuters) - The U.S. women's basketball team showed  their men how to win gold Saturday as around 70,000 spectators  flocked to the Olympic stadium for a hectic athletics program  on the penultimate night of the Athens Games.\n",
      "Top10  2  ATHENS (Reuters) - The U.S. men's basketball team was  beaten by Argentina Friday, denying it an Olympic gold medal  for the first time since 1992 when NBA players started  competing.\n",
      "Top10  3 ATHENS, Greece - Right now, the Americans aren't just a Dream Team - they're more like the Perfect Team. Lisa Fernandez pitched a three-hitter Sunday and Crystl Bustos drove in two runs as the Americans rolled to their eighth shutout in eight days, 5-0 over Australia, putting them into the gold medal game...\n",
      "Top10  4  ATHENS (Reuters) - Carly Patterson upstaged Russian diva  Svetlana Khorkina to become the first American in 20 years to  win the women's Olympic gymnastics all-round gold medal on  Thursday.\n",
      "Top10  5 ATHENS (Reuters) - Greek sprinters Costas Kenteris and Katerina Thanou have arrived at an Athens hotel for an International Olympic Committee (IOC) hearing into their missed doped tests, a saga that has shamed and angered the Olympic host ...\n",
      "Top10  6 Athens, Greece (Sports Network) - Wednesday night it was Paul Hamm #39;s turn to shine for the United States, as he won the gold medal in the men #39;s all-around competition. Will Thursday produce a sweep for the US at the Olympics? ...\n",
      "Top10  7  ATHENS (Reuters) - Aaron Peirsol won his second gold medal  at the Athens Olympics Thursday after winning an appeal against  his disqualification from the men's 200 meter backstroke.\n",
      "Top10  8  ATHENS (Reuters) - An exhausted Nicolas Massu reeled in  Mardy Fish in five tortuous sets on Sunday to win Chile their  second gold medal at an Olympic Games less than 24 hours after  helping them to their first.\n",
      "Top10  9 ATHENS, Aug. 19 (Xinhuanet) -- Chinese Hercules Liu Chunhong Thursday lifted three world records on her way to winning the women #39;s 69kg gold medal at the Athens Olympics, the fourth of the power sport competition for China. \n",
      "Top10  10  ATHENS (Reuters) - World 100 meters champion Torri Edwards  will miss the Athens Olympics after her appeal against a  two-year drugs ban was dismissed on Tuesday, a source told  Reuters.\n",
      "3\n",
      "Top10  1  NEW YORK (Reuters) - Retailer Kmart Holdings Corp. &lt;A HREF=\"http://www.investor.reuters.com/FullQuote.aspx?ticker=KMRT.O target=/stocks/quickinfo/fullquote\"&gt;KMRT.O&lt;/A&gt;  on Monday said it finalized a deal to sell 18 of its stores to  Home Depot Inc. &lt;A HREF=\"http://www.investor.reuters.com/FullQuote.aspx?ticker=HD.N target=/stocks/quickinfo/fullquote\"&gt;HD.N&lt;/A&gt; for \\$271 million.\n",
      "Top10  2  BRUSSELS/SAO PAULO (Reuters) - Shareholders gave their  blessing on Friday for Belgium's Interbrew &lt;A HREF=\"http://www.investor.reuters.com/FullQuote.aspx?ticker=INTB.BR target=/stocks/quickinfo/fullquote\"&gt;INTB.BR&lt;/A&gt; to buy  Brazil's AmBev &lt;A HREF=\"http://www.investor.reuters.com/FullQuote.aspx?ticker=AMBV4.SA target=/stocks/quickinfo/fullquote\"&gt;AMBV4.SA&lt;/A&gt;&lt;ABV.N&gt; in a \\$9.7 billion deal that  will create the world's largest brewer.\n",
      "Top10  3  &lt;A HREF=\"http://www.investor.reuters.com/FullQuote.aspx?ticker=RSE.N target=/stocks/quickinfo/fullquote\"&gt;RSE.N&lt;/A&gt; jumped before the bell after General Growth  Properties Inc. &lt;A HREF=\"http://www.investor.reuters.com/FullQuote.aspx?ticker=GGP.N target=/stocks/quickinfo/fullquote\"&gt;GGP.N&lt;/A&gt;, the No. 2 U.S. shopping mall owner, on  Friday said it would buy Rouse for \\$7.2 billion.\n",
      "Top10  4  NEW YORK (Reuters) - Staples Inc. &lt;A HREF=\"http://www.investor.reuters.com/FullQuote.aspx?ticker=SPLS.O target=/stocks/quickinfo/fullquote\"&gt;SPLS.O&lt;/A&gt;, the top U.S.  office products retailer, on Tuesday reported a 39 percent jump  in quarterly profit, raised its full-year forecast and said it  plans to enter the fast-growing Chinese market, sending its  shares higher.\n",
      "Top10  5  NEW YORK (Reuters) - BlackRock Inc. &lt;A HREF=\"http://www.investor.reuters.com/FullQuote.aspx?ticker=BLK.N target=/stocks/quickinfo/fullquote\"&gt;BLK.N&lt;/A&gt;, one of the  largest U.S. fixed income managers, on Thursday said it will  buy its far smaller competitor State Street Research    Management Co., marking the biggest takeover in the asset  management business this year.\n",
      "Top10  6  NEW YORK (Reuters) - Colgate-Palmolive Co. &lt;A HREF=\"http://www.investor.reuters.com/FullQuote.aspx?ticker=CL.N target=/stocks/quickinfo/fullquote\"&gt;CL.N&lt;/A&gt; will cut  about 4,400 jobs, or 12 percent of its work force, and close  nearly a third of its factories under a restructuring, the  consumer products company said on Tuesday.\n",
      "Top10  7  NEW YORK (Reuters) - U.S. blue chips were near the  unchanged mark on Monday as a disappointing sales forecast from  retailer Wal-Mart Stores Inc. &lt;A HREF=\"http://www.investor.reuters.com/FullQuote.aspx?ticker=WMT.N target=/stocks/quickinfo/fullquote\"&gt;WMT.N&lt;/A&gt; dampened sentiment,  offsetting the benefit of easing oil prices.\n",
      "Top10  8  NEW YORK (Reuters) - Verizon Communications Inc. &lt;A HREF=\"http://www.investor.reuters.com/FullQuote.aspx?ticker=VZ.N target=/stocks/quickinfo/fullquote\"&gt;VZ.N&lt;/A&gt; is  near an agreement to sell its Canadian telephone directory  business to private equity firm Bain Capital, the New York Post  said on Wednesday.\n",
      "Top10  9  NEW YORK (Reuters) - Hartford Financial Services Group Inc.  &lt;A HREF=\"http://www.investor.reuters.com/FullQuote.aspx?ticker=HIG.N target=/stocks/quickinfo/fullquote\"&gt;HIG.N&lt;/A&gt; on Tuesday became the latest insurer to issue a profit  warning tied to Hurricane Charley, the strongest storm to hit  Florida in a dozen years.\n",
      "Top10  10  NEW YORK (Reuters) - Intel Corp's &lt;A HREF=\"http://www.investor.reuters.com/FullQuote.aspx?ticker=INTC.O target=/stocks/quickinfo/fullquote\"&gt;INTC.O&lt;/A&gt; sharp cut in its  revenue outlook dragged down shares of personal computer makers  on Friday, on fears that the chipmaker's problems could signal  weak PC markets, analysts said.\n"
     ]
    }
   ],
   "source": [
    "# fill in your code...\n",
    "\n",
    "classes = ['1', '2', '3']\n",
    "preds_test_count = predict_proba(X_test_count, w_count)\n",
    "\n",
    "for i, j in enumerate(classes):\n",
    "    print(j)\n",
    "    loc = np.argsort(preds_test_count[:,i])\n",
    "    for i in range(10):\n",
    "        print('Top10 ',i+1, X_test_raw[loc[-1-i]])"
   ]
  },
  {
   "cell_type": "markdown",
   "metadata": {},
   "source": [
    "### Discuss how did you choose model hyperparameters (e.g. learning rate and regularisation strength)? What is the relation between training epochs and learning rate? How the regularisation strength affects performance?"
   ]
  },
  {
   "cell_type": "markdown",
   "metadata": {
    "ExecuteTime": {
     "end_time": "2020-02-15T14:16:19.856538Z",
     "start_time": "2020-02-15T14:16:19.852547Z"
    }
   },
   "source": [
    "Hyperparameter is usually selected very carefully, such as the learning rate, if the learning rate is too large, then the number of epochs will be reduced, which will lead to underfit, and if the learning rate is too small, then the model running time will increase significantly, the number of times Will increase, and easily lead to overfitting. And regularisation strength can prevent overfitting"
   ]
  },
  {
   "cell_type": "markdown",
   "metadata": {},
   "source": [
    "### Now evaluate BOW-tfidf..."
   ]
  },
  {
   "cell_type": "code",
   "execution_count": 37,
   "metadata": {},
   "outputs": [
    {
     "name": "stdout",
     "output_type": "stream",
     "text": [
      "Epoch: 0| Training loss: 1.4999002596194548| Validation loss: 1.5433926036853007\n",
      "Epoch: 1| Training loss: 1.4079688166194237| Validation loss: 1.4842918393822688\n",
      "Epoch: 2| Training loss: 1.3289773340352196| Validation loss: 1.43086516363534\n",
      "Epoch: 3| Training loss: 1.259715751948791| Validation loss: 1.3821633691731943\n",
      "Epoch: 4| Training loss: 1.1982694287615465| Validation loss: 1.3375619739299236\n",
      "Epoch: 5| Training loss: 1.1433258996682318| Validation loss: 1.29654160420618\n",
      "Epoch: 6| Training loss: 1.093945164028015| Validation loss: 1.2587220490169662\n",
      "Epoch: 7| Training loss: 1.0493483794439622| Validation loss: 1.223754454505734\n",
      "Epoch: 8| Training loss: 1.0088758372272006| Validation loss: 1.1913239000267881\n",
      "Epoch: 9| Training loss: 0.9720239003521579| Validation loss: 1.1611902877413627\n",
      "Epoch: 10| Training loss: 0.9383516134042781| Validation loss: 1.1331364325496918\n",
      "Epoch: 11| Training loss: 0.9074691340004285| Validation loss: 1.106956611086664\n",
      "Epoch: 12| Training loss: 0.8790419185030219| Validation loss: 1.0824731341182967\n",
      "Epoch: 13| Training loss: 0.8527942783565433| Validation loss: 1.0595316097228895\n",
      "Epoch: 14| Training loss: 0.8284946255434407| Validation loss: 1.038001174340241\n",
      "Epoch: 15| Training loss: 0.8059138043868129| Validation loss: 1.0177366393585272\n",
      "Epoch: 16| Training loss: 0.7848870801232256| Validation loss: 0.9986492416838763\n",
      "Epoch: 17| Training loss: 0.7652396886398142| Validation loss: 0.9806240735980919\n",
      "Epoch: 18| Training loss: 0.7468501030807748| Validation loss: 0.9635848936990278\n",
      "Epoch: 19| Training loss: 0.7295892487338336| Validation loss: 0.947444328443051\n",
      "Epoch: 20| Training loss: 0.7133585348479337| Validation loss: 0.9321380238734434\n",
      "Epoch: 21| Training loss: 0.6980589324217916| Validation loss: 0.9175992355506596\n",
      "Epoch: 22| Training loss: 0.6836173802450164| Validation loss: 0.9037763339642862\n",
      "Epoch: 23| Training loss: 0.669952523661552| Validation loss: 0.8906117946711479\n",
      "Epoch: 24| Training loss: 0.6569997769728265| Validation loss: 0.8780583236288405\n",
      "Epoch: 25| Training loss: 0.6447060602418265| Validation loss: 0.8660779763115249\n",
      "Epoch: 26| Training loss: 0.6330194318109029| Validation loss: 0.8546248728509841\n",
      "Epoch: 27| Training loss: 0.6218887271293715| Validation loss: 0.8436628492932473\n",
      "Epoch: 28| Training loss: 0.6112760866242289| Validation loss: 0.8331652602050925\n",
      "Epoch: 29| Training loss: 0.6011414565617135| Validation loss: 0.8231041161162131\n",
      "Epoch: 30| Training loss: 0.5914514329174019| Validation loss: 0.8134494410792584\n",
      "Epoch: 31| Training loss: 0.5821780945197851| Validation loss: 0.8041738742467036\n",
      "Epoch: 32| Training loss: 0.573292366333547| Validation loss: 0.7952573340047855\n",
      "Epoch: 33| Training loss: 0.5647647642221532| Validation loss: 0.7866720385225429\n",
      "Epoch: 34| Training loss: 0.5565779529788912| Validation loss: 0.7784132156528889\n",
      "Epoch: 35| Training loss: 0.5487061833602227| Validation loss: 0.7704494459504355\n",
      "Epoch: 36| Training loss: 0.5411328740380391| Validation loss: 0.7627710537255885\n",
      "Epoch: 37| Training loss: 0.5338387511739033| Validation loss: 0.755355752602177\n",
      "Epoch: 38| Training loss: 0.5268074091786371| Validation loss: 0.7481972390298988\n",
      "Epoch: 39| Training loss: 0.5200220397109468| Validation loss: 0.7412726374762137\n",
      "Epoch: 40| Training loss: 0.5134710659794309| Validation loss: 0.7345808652609603\n",
      "Epoch: 41| Training loss: 0.5071403884217243| Validation loss: 0.728102828723641\n",
      "Epoch: 42| Training loss: 0.5010193369867341| Validation loss: 0.7218311534245789\n",
      "Epoch: 43| Training loss: 0.49509596693301766| Validation loss: 0.7157562097508655\n",
      "Epoch: 44| Training loss: 0.48936037263439547| Validation loss: 0.7098643845698651\n",
      "Epoch: 45| Training loss: 0.4838033721269224| Validation loss: 0.7041484945675246\n",
      "Epoch: 46| Training loss: 0.47841480416322085| Validation loss: 0.698602748111511\n",
      "Epoch: 47| Training loss: 0.4731869071213788| Validation loss: 0.6932181454737982\n",
      "Epoch: 48| Training loss: 0.4681113660747889| Validation loss: 0.6879843564365639\n",
      "Epoch: 49| Training loss: 0.4631825271706776| Validation loss: 0.6829011872424104\n",
      "Epoch: 50| Training loss: 0.45839238067363586| Validation loss: 0.6779582405370839\n",
      "Epoch: 51| Training loss: 0.4537357663246597| Validation loss: 0.6731486775612091\n",
      "Epoch: 52| Training loss: 0.44920505654876225| Validation loss: 0.6684658350148214\n",
      "Epoch: 53| Training loss: 0.4447958553117566| Validation loss: 0.6639071594021398\n",
      "Epoch: 54| Training loss: 0.44050216002649784| Validation loss: 0.6594660576819539\n",
      "Epoch: 55| Training loss: 0.43631988735738897| Validation loss: 0.6551416615783912\n",
      "Epoch: 56| Training loss: 0.4322435682618136| Validation loss: 0.6509218192799124\n",
      "Epoch: 57| Training loss: 0.42826921734501355| Validation loss: 0.6468103283437316\n",
      "Epoch: 58| Training loss: 0.4243925682872733| Validation loss: 0.642798341930287\n",
      "Epoch: 59| Training loss: 0.42060956918333664| Validation loss: 0.6388824458035236\n",
      "Epoch: 60| Training loss: 0.41691664109909904| Validation loss: 0.6350579856656131\n",
      "Epoch: 61| Training loss: 0.4133107205088055| Validation loss: 0.6313259728445987\n",
      "Epoch: 62| Training loss: 0.4097881595191859| Validation loss: 0.6276833998771121\n",
      "Epoch: 63| Training loss: 0.4063458402845291| Validation loss: 0.6241242483034714\n",
      "Epoch: 64| Training loss: 0.40298061336832214| Validation loss: 0.6206440764106645\n",
      "Epoch: 65| Training loss: 0.3996903671683779| Validation loss: 0.6172433431574237\n",
      "Epoch: 66| Training loss: 0.3964718460342719| Validation loss: 0.6139186729799826\n",
      "Epoch: 67| Training loss: 0.39332185137921594| Validation loss: 0.6106624989863554\n",
      "Epoch: 68| Training loss: 0.3902390766798287| Validation loss: 0.6074775926899143\n",
      "Epoch: 69| Training loss: 0.38722060013352955| Validation loss: 0.6043585835975199\n",
      "Epoch: 70| Training loss: 0.38426409559288427| Validation loss: 0.601306721160588\n",
      "Epoch: 71| Training loss: 0.38136757741222144| Validation loss: 0.5983178521389376\n",
      "Epoch: 72| Training loss: 0.3785292254076402| Validation loss: 0.595388807715205\n",
      "Epoch: 73| Training loss: 0.3757470860256802| Validation loss: 0.5925182894261973\n",
      "Epoch: 74| Training loss: 0.37301946897494176| Validation loss: 0.589707263842446\n",
      "Epoch: 75| Training loss: 0.3703446124827081| Validation loss: 0.5869490891277969\n",
      "Epoch: 76| Training loss: 0.36772091188438893| Validation loss: 0.5842439060840144\n",
      "Epoch: 77| Training loss: 0.3651464632894652| Validation loss: 0.5815951473598656\n",
      "Epoch: 78| Training loss: 0.3626200952793465| Validation loss: 0.5789970538269862\n",
      "Epoch: 79| Training loss: 0.36013983367408486| Validation loss: 0.576445835089812\n",
      "Epoch: 80| Training loss: 0.3577046228594466| Validation loss: 0.5739426776584104\n",
      "Epoch: 81| Training loss: 0.35531309474638323| Validation loss: 0.5714838015384669\n",
      "Epoch: 82| Training loss: 0.35296403867035364| Validation loss: 0.5690717432169698\n",
      "Epoch: 83| Training loss: 0.3506560238790764| Validation loss: 0.5667020317622995\n",
      "Epoch: 84| Training loss: 0.34838820358480677| Validation loss: 0.564376584465045\n",
      "Epoch: 85| Training loss: 0.3461592909061805| Validation loss: 0.562092569896083\n",
      "Epoch: 86| Training loss: 0.34396810700493313| Validation loss: 0.5598444668965614\n",
      "Epoch: 87| Training loss: 0.34181359446066933| Validation loss: 0.557636886417927\n",
      "Epoch: 88| Training loss: 0.3396948011108232| Validation loss: 0.5554699486134321\n",
      "Epoch: 89| Training loss: 0.33761094782212253| Validation loss: 0.5533403378018116\n",
      "Epoch: 90| Training loss: 0.335560867163941| Validation loss: 0.5512457284040763\n",
      "Epoch: 91| Training loss: 0.3335436292204812| Validation loss: 0.5491870596649415\n",
      "Epoch: 92| Training loss: 0.3315586563980035| Validation loss: 0.5471618458983541\n",
      "Epoch: 93| Training loss: 0.32960491017469623| Validation loss: 0.5451694271941063\n",
      "Epoch: 94| Training loss: 0.3276815188109197| Validation loss: 0.5432082786980139\n",
      "Epoch: 95| Training loss: 0.32578788215708787| Validation loss: 0.5412761213150487\n",
      "Epoch: 96| Training loss: 0.32392291256322364| Validation loss: 0.5393749454356549\n",
      "Epoch: 97| Training loss: 0.3220862713425831| Validation loss: 0.537507202483173\n",
      "Epoch: 98| Training loss: 0.32027703279664727| Validation loss: 0.5356687784745996\n",
      "Epoch: 99| Training loss: 0.3184946820151514| Validation loss: 0.5338577634702825\n"
     ]
    },
    {
     "name": "stdout",
     "output_type": "stream",
     "text": [
      "Epoch: 100| Training loss: 0.31673851350628573| Validation loss: 0.5320748996632305\n",
      "Epoch: 101| Training loss: 0.3150079193361205| Validation loss: 0.5303217766671855\n",
      "Epoch: 102| Training loss: 0.3133023672160684| Validation loss: 0.5285937959780659\n",
      "Epoch: 103| Training loss: 0.31162116798794315| Validation loss: 0.5268931704065675\n",
      "Epoch: 104| Training loss: 0.30996374055356896| Validation loss: 0.5252155726941454\n",
      "Epoch: 105| Training loss: 0.3083295843556993| Validation loss: 0.5235639523461597\n",
      "Epoch: 106| Training loss: 0.30671801236759305| Validation loss: 0.521937530537289\n",
      "Epoch: 107| Training loss: 0.3051286553536971| Validation loss: 0.5203327769902978\n",
      "Epoch: 108| Training loss: 0.3035611025741433| Validation loss: 0.5187522248119645\n",
      "Epoch: 109| Training loss: 0.30201475967048463| Validation loss: 0.5171944582007363\n",
      "Epoch: 110| Training loss: 0.30048913775116026| Validation loss: 0.5156596635800296\n",
      "Epoch: 111| Training loss: 0.29898385419205664| Validation loss: 0.5141429685472058\n",
      "Epoch: 112| Training loss: 0.2974983527698457| Validation loss: 0.5126504565136909\n",
      "Epoch: 113| Training loss: 0.29603211455817235| Validation loss: 0.5111766388972954\n",
      "Epoch: 114| Training loss: 0.294585043782305| Validation loss: 0.509722492816741\n",
      "Epoch: 115| Training loss: 0.2931565024498549| Validation loss: 0.5082888711357604\n",
      "Epoch: 116| Training loss: 0.2917463251168584| Validation loss: 0.5068740272701368\n",
      "Epoch: 117| Training loss: 0.29035402117068987| Validation loss: 0.505479018082514\n",
      "Epoch: 118| Training loss: 0.2889791278835641| Validation loss: 0.5041022816695612\n",
      "Epoch: 119| Training loss: 0.2876215010356156| Validation loss: 0.5027444617470443\n",
      "Epoch: 120| Training loss: 0.28628063413157223| Validation loss: 0.5014027152057638\n",
      "Epoch: 121| Training loss: 0.2849561862598891| Validation loss: 0.5000793080301086\n",
      "Epoch: 122| Training loss: 0.2836480010104854| Validation loss: 0.4987737174599033\n",
      "Epoch: 123| Training loss: 0.28235543823434217| Validation loss: 0.4974840448787887\n",
      "Epoch: 124| Training loss: 0.2810784675906175| Validation loss: 0.4962108285253453\n",
      "Epoch: 125| Training loss: 0.27981672706904714| Validation loss: 0.4949540670084737\n",
      "Epoch: 126| Training loss: 0.27856979604810816| Validation loss: 0.49371490464834894\n",
      "Epoch: 127| Training loss: 0.2773375743602552| Validation loss: 0.49249016722617767\n",
      "Epoch: 128| Training loss: 0.2761195775595329| Validation loss: 0.49127955544430807\n",
      "Epoch: 129| Training loss: 0.2749157312168876| Validation loss: 0.49008422306014965\n",
      "Epoch: 130| Training loss: 0.2737257255866182| Validation loss: 0.4889031239352302\n",
      "Epoch: 131| Training loss: 0.2725493227657205| Validation loss: 0.4877361447463376\n",
      "Epoch: 132| Training loss: 0.27138620931960133| Validation loss: 0.4865833501504531\n",
      "Epoch: 133| Training loss: 0.2702360987419883| Validation loss: 0.485446165272529\n",
      "Epoch: 134| Training loss: 0.2690988217730677| Validation loss: 0.4843221247277728\n",
      "Epoch: 135| Training loss: 0.26797405762414944| Validation loss: 0.4832088973463342\n",
      "Epoch: 136| Training loss: 0.2668617483058613| Validation loss: 0.48210931065570867\n",
      "Epoch: 137| Training loss: 0.2657615023737177| Validation loss: 0.481023401562111\n",
      "Epoch: 138| Training loss: 0.26467329694350117| Validation loss: 0.4799500882955868\n",
      "Epoch: 139| Training loss: 0.26359678996347824| Validation loss: 0.478889305347089\n",
      "Epoch: 140| Training loss: 0.2625318764035574| Validation loss: 0.4778400163831924\n",
      "Epoch: 141| Training loss: 0.26147823809002824| Validation loss: 0.4768033963396989\n",
      "Epoch: 142| Training loss: 0.26043568363955466| Validation loss: 0.47578047041199784\n",
      "Epoch: 143| Training loss: 0.25940412647128647| Validation loss: 0.4747668518731624\n",
      "Epoch: 144| Training loss: 0.2583833479521383| Validation loss: 0.47376383506625985\n",
      "Epoch: 145| Training loss: 0.2573732070075388| Validation loss: 0.47277076477985047\n"
     ]
    }
   ],
   "source": [
    "w_tfidf, trl, devl = SGD(X_tr_tfidf, Y_tr, \n",
    "                         X_dev=X_dev_tfidf, \n",
    "                         Y_dev=Y_dev, \n",
    "                         lr=0.0001, \n",
    "                         alpha=0.001, \n",
    "                         epochs=200)"
   ]
  },
  {
   "cell_type": "code",
   "execution_count": 38,
   "metadata": {},
   "outputs": [
    {
     "data": {
      "text/plain": [
       "<matplotlib.legend.Legend at 0x2c420b931c8>"
      ]
     },
     "execution_count": 38,
     "metadata": {},
     "output_type": "execute_result"
    },
    {
     "data": {
      "image/png": "[encoded data removed]",
      "text/plain": [
       "<Figure size 432x288 with 1 Axes>"
      ]
     },
     "metadata": {
      "needs_background": "light"
     },
     "output_type": "display_data"
    }
   ],
   "source": [
    "plt.plot(range(len(trl)), trl, color = 'blue', label='training loss')\n",
    "plt.plot(range(len(devl)), devl,color= 'red', label = 'validation loss', )\n",
    "plt.xlabel('Epoch times')\n",
    "plt.ylabel('Loss value')\n",
    "plt.legend()"
   ]
  },
  {
   "cell_type": "markdown",
   "metadata": {},
   "source": [
    "this model is also overfit, because the training loss is lower than the validation loss"
   ]
  },
  {
   "cell_type": "code",
   "execution_count": 40,
   "metadata": {},
   "outputs": [
    {
     "name": "stdout",
     "output_type": "stream",
     "text": [
      "Accuracy: 0.88\n",
      "Precision: 0.881547680555811\n",
      "Recall: 0.8799999999999999\n",
      "F1-Score: 0.8793734034496704\n"
     ]
    }
   ],
   "source": [
    "preds_te = predict_class(X_test_tfidf, w_tfidf)\n",
    "print('Accuracy:', accuracy_score(Y_te,preds_te))\n",
    "print('Precision:', precision_score(Y_te,preds_te,average='macro'))\n",
    "print('Recall:', recall_score(Y_te,preds_te,average='macro'))\n",
    "print('F1-Score:', f1_score(Y_te,preds_te,average='macro'))"
   ]
  },
  {
   "cell_type": "code",
   "execution_count": 51,
   "metadata": {},
   "outputs": [
    {
     "name": "stdout",
     "output_type": "stream",
     "text": [
      "1\n",
      "Top10  1 NAJAF, Iraq - Iraq's most powerful Shiite cleric returned home from Britain on Wednesday to help broker an end to nearly three weeks of fighting in Najaf and is calling on his followers to join him in a march to reclaim the holy city, his spokesmen and witnesses said.    Grand Ayatollah Ali Husseini al-Sistani return came as heavy fighting persisted in Najaf's Old City...\n",
      "Top10  2 BAGHDAD, Iraq - Rebel Shiite cleric Muqtada al-Sadr called for his followers across Iraq to end fighting against U.S. and Iraqi forces and is planning to join the political process in the coming days, an al-Sadr aide said Monday...\n",
      "Top10  3 NAJAF, Iraq - Militants loyal to radical Shiite cleric Muqtada al-Sadr kept their hold on a revered shrine, and clashes flared in Najaf on Saturday, raising fears that a resolution to the crisis in the holy city could collapse amid bickering between Shiite leaders.    The clashes between U.S...\n",
      "Top10  4 BAGHDAD, Iraq - Delegates at Iraq's National Conference called on radical Shiite cleric Muqtada al-Sadr to abandon his uprising against U.S. and Iraqi troops and pull his fighters out of a holy shrine in Najaf...\n",
      "Top10  5  NAJAF, Iraq (Reuters) - A mortar attack on a packed mosque  in the town of Kufa on Thursday killed at least 25 people as  Iraq's most influential Shi'ite cleric headed to the nearby  holy city of Najaf to try to end a bloody three-week uprising.\n",
      "Top10  6 AFP - Democratic White House hopeful Senator John Kerry warned that President George W. Bush's plan to withdraw 70,000 troops from Europe and Asia would hinder the war on terrorism and embolden North Korea.\n",
      "Top10  7 US forces and radical Shiite cleric Muqtada al-Sadr #39;s militia battled Saturday in Baghdad even as the truce that ended the bloody fighting between US-Iraqi troops and the militia forces in Najaf held for a second day.\n",
      "Top10  8  NAJAF, Iraq (Reuters) - Rebel Shi'ite fighters appeared  still to be in control of the Imam Ali mosque in the Iraqi city  Najaf early on Saturday, but the whereabouts of their leader,  the fiery cleric Moqtada al-Sadr, were unknown.\n",
      "Top10  9 US and Iraqi forces battled militants in Najaf on Tuesday and Iraqi National Guardsmen advanced to within 200 yards of the holy city #39;s Imam Ali Shrine compound, where insurgents loyal to radical cleric Muqtada al-Sadr have been holed up for weeks.\n",
      "Top10  10 AFP - Georgian and South Ossetian forces overnight accused each other of trying to storm the other side's positions in Georgia's breakaway region of South Ossetia, as four Georgian soldiers were reported to be wounded.\n",
      "2\n",
      "Top10  1  ATHENS (Reuters) - The U.S. women's basketball team showed  their men how to win gold Saturday as around 70,000 spectators  flocked to the Olympic stadium for a hectic athletics program  on the penultimate night of the Athens Games.\n",
      "Top10  2 Athens, Greece (Sports Network) - Wednesday night it was Paul Hamm #39;s turn to shine for the United States, as he won the gold medal in the men #39;s all-around competition. Will Thursday produce a sweep for the US at the Olympics? ...\n",
      "Top10  3  ATHENS (Reuters) - The U.S. men's basketball team was  beaten by Argentina Friday, denying it an Olympic gold medal  for the first time since 1992 when NBA players started  competing.\n",
      "Top10  4 Andruw Jones hit a two-run homer off Trevor Hoffman in the ninth inning and the Atlanta Braves threw out the potential tying run at the plate for the final out Wednesday night, preserving a 6-5 come-from-behind win over the San Diego Padres. \n",
      "Top10  5  ATHENS (Reuters) - World 100 meters champion Torri Edwards  will miss the Athens Olympics after her appeal against a  two-year drugs ban was dismissed on Tuesday, a source told  Reuters.\n",
      "Top10  6 Heather O #39;Reilly, minutes after missing a wide open net, scored in the ninth minute of overtime Monday to give the United States a 2-1 victory over World Cup champion Germany and a place in Thursday #39;s gold-medal game.\n",
      "Top10  7 ATHENS, Greece - Right now, the Americans aren't just a Dream Team - they're more like the Perfect Team. Lisa Fernandez pitched a three-hitter Sunday and Crystl Bustos drove in two runs as the Americans rolled to their eighth shutout in eight days, 5-0 over Australia, putting them into the gold medal game...\n",
      "Top10  8 -- The United States men #39;s basketball team capped off a big day for the USA by fighting off Greece for a vital win, 77-71.  quot;They played with heart, quot; said Coach Larry Brown.  quot;That #39;s all you can ask. quot; ...\n",
      "Top10  9 AP - Manny Ramirez and David Ortiz homered on consecutive pitches to start the eighth inning Sunday night and the streaking Boston Red Sox beat the Chicago White Sox 6-5 for their sixth straight win.\n",
      "Top10  10  ATHENS (Reuters) - Hungarian Olympic discus champion Robert  Fazekas will lose his gold medal and be expelled from the Games  after breaking doping rules, the International Olympic  Committee (IOC) said Tuesday.\n",
      "3\n",
      "Top10  1  NEW YORK (Reuters) - Retailer Kmart Holdings Corp. &lt;A HREF=\"http://www.investor.reuters.com/FullQuote.aspx?ticker=KMRT.O target=/stocks/quickinfo/fullquote\"&gt;KMRT.O&lt;/A&gt;  on Monday said it finalized a deal to sell 18 of its stores to  Home Depot Inc. &lt;A HREF=\"http://www.investor.reuters.com/FullQuote.aspx?ticker=HD.N target=/stocks/quickinfo/fullquote\"&gt;HD.N&lt;/A&gt; for \\$271 million.\n",
      "Top10  2  BRUSSELS/SAO PAULO (Reuters) - Shareholders gave their  blessing on Friday for Belgium's Interbrew &lt;A HREF=\"http://www.investor.reuters.com/FullQuote.aspx?ticker=INTB.BR target=/stocks/quickinfo/fullquote\"&gt;INTB.BR&lt;/A&gt; to buy  Brazil's AmBev &lt;A HREF=\"http://www.investor.reuters.com/FullQuote.aspx?ticker=AMBV4.SA target=/stocks/quickinfo/fullquote\"&gt;AMBV4.SA&lt;/A&gt;&lt;ABV.N&gt; in a \\$9.7 billion deal that  will create the world's largest brewer.\n",
      "Top10  3  &lt;A HREF=\"http://www.investor.reuters.com/FullQuote.aspx?ticker=RSE.N target=/stocks/quickinfo/fullquote\"&gt;RSE.N&lt;/A&gt; jumped before the bell after General Growth  Properties Inc. &lt;A HREF=\"http://www.investor.reuters.com/FullQuote.aspx?ticker=GGP.N target=/stocks/quickinfo/fullquote\"&gt;GGP.N&lt;/A&gt;, the No. 2 U.S. shopping mall owner, on  Friday said it would buy Rouse for \\$7.2 billion.\n",
      "Top10  4  NEW YORK (Reuters) - BlackRock Inc. &lt;A HREF=\"http://www.investor.reuters.com/FullQuote.aspx?ticker=BLK.N target=/stocks/quickinfo/fullquote\"&gt;BLK.N&lt;/A&gt;, one of the  largest U.S. fixed income managers, on Thursday said it will  buy its far smaller competitor State Street Research    Management Co., marking the biggest takeover in the asset  management business this year.\n",
      "Top10  5  NEW YORK (Reuters) - Staples Inc. &lt;A HREF=\"http://www.investor.reuters.com/FullQuote.aspx?ticker=SPLS.O target=/stocks/quickinfo/fullquote\"&gt;SPLS.O&lt;/A&gt;, the top U.S.  office products retailer, on Tuesday reported a 39 percent jump  in quarterly profit, raised its full-year forecast and said it  plans to enter the fast-growing Chinese market, sending its  shares higher.\n",
      "Top10  6  NEW YORK (Reuters) - Colgate-Palmolive Co. &lt;A HREF=\"http://www.investor.reuters.com/FullQuote.aspx?ticker=CL.N target=/stocks/quickinfo/fullquote\"&gt;CL.N&lt;/A&gt; will cut  about 4,400 jobs, or 12 percent of its work force, and close  nearly a third of its factories under a restructuring, the  consumer products company said on Tuesday.\n",
      "Top10  7  CHICAGO (Reuters) - Medtronic Inc. &lt;A HREF=\"http://www.investor.reuters.com/FullQuote.aspx?ticker=MDT.N target=/stocks/quickinfo/fullquote\"&gt;MDT.N&lt;/A&gt; on Wednesday  said its quarterly earnings rose amid brisk demand for devices  that manage irregular heart beats and products used to treat  the spine.\n",
      "Top10  8  CHICAGO (Reuters) - Medtronic Inc. &lt;A HREF=\"http://www.investor.reuters.com/FullQuote.aspx?ticker=MDT.N target=/stocks/quickinfo/fullquote\"&gt;MDT.N&lt;/A&gt; on Wednesday  said its quarterly earnings rose on brisk demand for devices  that manage irregular heart beats and products used to treat  the spine.\n",
      "Top10  9  NEW YORK (Reuters) - Verizon Communications Inc. &lt;A HREF=\"http://www.investor.reuters.com/FullQuote.aspx?ticker=VZ.N target=/stocks/quickinfo/fullquote\"&gt;VZ.N&lt;/A&gt; is  near an agreement to sell its Canadian telephone directory  business to private equity firm Bain Capital, the New York Post  said on Wednesday.\n",
      "Top10  10 NEW YORK, August 26 (New Ratings) - BlackRock Inc (BLK.NYS), a leading US-based fixed-income asset management company, has reportedly agreed to buy State Street Research  amp; Management Company, a unit of MetLife Inc, for \\$375 million in a cash and stock \n"
     ]
    }
   ],
   "source": [
    "classes = ['1', '2', '3']\n",
    "pred_test_tfidf = predict_proba(X_test_tfidf, w_tfidf)\n",
    "\n",
    "for i, j in enumerate(classes):\n",
    "    print(j)\n",
    "    loc = np.argsort(pred_test_tfidf[:,i])\n",
    "    for i in range(10):\n",
    "        print('Top10 ',i+1, X_test_raw[loc[-1-i]])"
   ]
  },
  {
   "cell_type": "markdown",
   "metadata": {
    "ExecuteTime": {
     "end_time": "2020-02-15T14:16:42.567569Z",
     "start_time": "2020-02-15T14:16:42.562560Z"
    }
   },
   "source": [
    "## Full Results\n",
    "\n",
    "Add here your results:\n",
    "\n",
    "| LR | Precision  | Recall  | F1-Score  |\n",
    "|:-:|:-:|:-:|:-:|\n",
    "| BOW-count  |0.8545592790763165   |0.8522222222222222   |0.8514022251643323   |\n",
    "| BOW-tfidf  |0.881547680555811   |0.8799999999999999   |0.8793734034496704   |\n"
   ]
  }
 ],
 "metadata": {
  "kernelspec": {
   "display_name": "Python 3",
   "language": "python",
   "name": "python3"
  },
  "language_info": {
   "codemirror_mode": {
    "name": "ipython",
    "version": 3
   },
   "file_extension": ".py",
   "mimetype": "text/x-python",
   "name": "python",
   "nbconvert_exporter": "python",
   "pygments_lexer": "ipython3",
   "version": "3.7.4"
  }
 },
 "nbformat": 4,
 "nbformat_minor": 2
}
