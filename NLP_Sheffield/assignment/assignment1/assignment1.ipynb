{
 "cells": [
  {
   "cell_type": "markdown",
   "metadata": {},
   "source": [
    "# [COM4513-6513] Assignment 1: Text Classification with Logistic Regression\n",
    "\n",
    "### Instructor: Nikos Aletras\n",
    "\n",
    "\n",
    "The goal of this assignment is to develop and test two text classification systems: \n",
    "\n",
    "- **Task 1:** sentiment analysis, in particular to predict the sentiment of movie review, i.e. positive or negative (binary classification).\n",
    "- **Task 2:** topic classification, to predict whether a news article is about International issues, Sports or Business (multiclass classification).\n",
    "\n",
    "\n",
    "For that purpose, you will implement:\n",
    "\n",
    "- Text processing methods for extracting Bag-Of-Word features, using (1) unigrams, bigrams and trigrams to obtain vector representations of documents. Two vector weighting schemes should be tested: (1) raw frequencies (**3 marks; 1 for each ngram type**); (2) tf.idf (**1 marks**). \n",
    "- Binary Logistic Regression classifiers that will be able to accurately classify movie reviews trained with (1) BOW-count (raw frequencies); and (2) BOW-tfidf (tf.idf weighted) for Task 1. \n",
    "- Multiclass Logistic Regression classifiers that will be able to accurately classify news articles trained with (1) BOW-count (raw frequencies); and (2) BOW-tfidf (tf.idf weighted) for Task 2. \n",
    "- The Stochastic Gradient Descent (SGD) algorithm to estimate the parameters of your Logistic Regression models. Your SGD algorithm should:\n",
    "    - Minimise the Binary Cross-entropy loss function for Task 1 (**3 marks**)\n",
    "    - Minimise the Categorical Cross-entropy loss function for Task 2 (**3 marks**)\n",
    "    - Use L2 regularisation (both tasks) (**1 mark**)\n",
    "    - Perform multiple passes (epochs) over the training data (**1 mark**)\n",
    "    - Randomise the order of training data after each pass (**1 mark**)\n",
    "    - Stop training if the difference between the current and previous validation loss is smaller than a threshold (**1 mark**)\n",
    "    - After each epoch print the training and development loss (**1 mark**)\n",
    "- Discuss how did you choose hyperparameters (e.g. learning rate and regularisation strength)?  (**2 marks; 0.5 for each model in each task**).\n",
    "- After training the LR models, plot the learning process (i.e. training and validation loss in each epoch) using a line plot (**1 mark; 0.5 for both BOW-count and BOW-tfidf LR models in each task**) and discuss if your model overfits/underfits/is about right.\n",
    "- Model interpretability by showing the most important features for each class (i.e. most positive/negative weights). Give the top 10 for each class and comment on whether they make sense (if they don't you might have a bug!).  If we were to apply the classifier we've learned into a different domain such laptop reviews or restaurant reviews, do you think these features would generalise well? Can you propose what features the classifier could pick up as important in the new domain? (**2 marks; 0.5 for BOW-count and BOW-tfidf LR models respectively in each task**)\n",
    "\n",
    "\n",
    "### Data - Task 1 \n",
    "\n",
    "The data you will use for Task 1 are taken from here: [http://www.cs.cornell.edu/people/pabo/movie-review-data/](http://www.cs.cornell.edu/people/pabo/movie-review-data/) and you can find it in the `./data_sentiment` folder in CSV format:\n",
    "\n",
    "- `data_sentiment/train.csv`: contains 1,400 reviews, 700 positive (label: 1) and 700 negative (label: 0) to be used for training.\n",
    "- `data_sentiment/dev.csv`: contains 200 reviews, 100 positive and 100 negative to be used for hyperparameter selection and monitoring the training process.\n",
    "- `data_sentiment/test.csv`: contains 400 reviews, 200 positive and 200 negative to be used for testing.\n",
    "\n",
    "### Data - Task 2\n",
    "\n",
    "The data you will use for Task 2 is a subset of the [AG News Corpus](http://groups.di.unipi.it/~gulli/AG_corpus_of_news_articles.html) and you can find it in the `./data_topic` folder in CSV format:\n",
    "\n",
    "- `data_topic/train.csv`: contains 2,400 news articles, 800 for each class to be used for training.\n",
    "- `data_topic/dev.csv`: contains 150 news articles, 50 for each class to be used for hyperparameter selection and monitoring the training process.\n",
    "- `data_topic/test.csv`: contains 900 news articles, 300 for each class to be used for testing.\n",
    "\n",
    "\n",
    "### Submission Instructions\n",
    "\n",
    "You should submit a Jupyter Notebook file (assignment1.ipynb) and an exported PDF version (you can do it from Jupyter: `File->Download as->PDF via Latex`).\n",
    "\n",
    "You are advised to follow the code structure given in this notebook by completing all given funtions. You can also write any auxilliary/helper functions (and arguments for the functions) that you might need but note that you can provide a full solution without any such functions. Similarly, you can just use only the packages imported below but you are free to use any functionality from the [Python Standard Library](https://docs.python.org/2/library/index.html), NumPy, SciPy and Pandas. You are not allowed to use any third-party library such as Scikit-learn (apart from metric functions already provided), NLTK, Spacy, Keras etc..\n",
    "\n",
    "Please make sure to comment your code. You should also mention if you've used Windows (not recommended) to write and test your code. There is no single correct answer on what your accuracy should be, but correct implementations usually achieve F1-scores around 80\\% or higher. The quality of the analysis of the results is as important as the accuracy itself. \n",
    "\n",
    "This assignment will be marked out of 20. It is worth 20\\% of your final grade in the module.\n",
    "\n",
    "The deadline for this assignment is **23:59 on Fri, 20 Mar 2020** and it needs to be submitted via MOLE. Standard departmental penalties for lateness will be applied. We use a range of strategies to detect [unfair means](https://www.sheffield.ac.uk/ssid/unfair-means/index), including Turnitin which helps detect plagiarism, so make sure you do not plagiarise.\n",
    "\n"
   ]
  },
  {
   "cell_type": "code",
   "execution_count": 2,
   "metadata": {
    "ExecuteTime": {
     "end_time": "2020-02-15T14:31:36.292691Z",
     "start_time": "2020-02-15T14:31:35.549108Z"
    }
   },
   "outputs": [],
   "source": [
    "import pandas as pd\n",
    "import numpy as np\n",
    "from collections import Counter\n",
    "import re\n",
    "import matplotlib.pyplot as plt\n",
    "#from sklearn.metrics import accuracy_score, precision_score, recall_score, f1_score\n",
    "import random\n",
    "\n",
    "# fixing random seed for reproducibility\n",
    "random.seed(123)\n",
    "np.random.seed(123)\n"
   ]
  },
  {
   "cell_type": "markdown",
   "metadata": {},
   "source": [
    "## Load Raw texts and labels into arrays\n",
    "\n",
    "First, you need to load the training, development and test sets from their corresponding CSV files (tip: you can use Pandas dataframes)."
   ]
  },
  {
   "cell_type": "code",
   "execution_count": 3,
   "metadata": {
    "ExecuteTime": {
     "end_time": "2020-02-15T14:17:28.145788Z",
     "start_time": "2020-02-15T14:17:28.066100Z"
    }
   },
   "outputs": [],
   "source": [
    "data_tr=pd.read_csv('./data_sentiment/train.csv',names=[\"text\",\"label\"])\n"
   ]
  },
  {
   "cell_type": "markdown",
   "metadata": {},
   "source": [
    "If you use Pandas you can see a sample of the data."
   ]
  },
  {
   "cell_type": "code",
   "execution_count": 4,
   "metadata": {
    "ExecuteTime": {
     "end_time": "2020-02-15T14:17:28.900892Z",
     "start_time": "2020-02-15T14:17:28.891221Z"
    }
   },
   "outputs": [
    {
     "data": {
      "text/html": [
       "<div>\n",
       "<style scoped>\n",
       "    .dataframe tbody tr th:only-of-type {\n",
       "        vertical-align: middle;\n",
       "    }\n",
       "\n",
       "    .dataframe tbody tr th {\n",
       "        vertical-align: top;\n",
       "    }\n",
       "\n",
       "    .dataframe thead th {\n",
       "        text-align: right;\n",
       "    }\n",
       "</style>\n",
       "<table border=\"1\" class=\"dataframe\">\n",
       "  <thead>\n",
       "    <tr style=\"text-align: right;\">\n",
       "      <th></th>\n",
       "      <th>text</th>\n",
       "      <th>label</th>\n",
       "    </tr>\n",
       "  </thead>\n",
       "  <tbody>\n",
       "    <tr>\n",
       "      <th>0</th>\n",
       "      <td>note : some may consider portions of the follo...</td>\n",
       "      <td>1</td>\n",
       "    </tr>\n",
       "    <tr>\n",
       "      <th>1</th>\n",
       "      <td>note : some may consider portions of the follo...</td>\n",
       "      <td>1</td>\n",
       "    </tr>\n",
       "    <tr>\n",
       "      <th>2</th>\n",
       "      <td>every once in a while you see a film that is s...</td>\n",
       "      <td>1</td>\n",
       "    </tr>\n",
       "    <tr>\n",
       "      <th>3</th>\n",
       "      <td>when i was growing up in 1970s , boys in my sc...</td>\n",
       "      <td>1</td>\n",
       "    </tr>\n",
       "    <tr>\n",
       "      <th>4</th>\n",
       "      <td>the muppet movie is the first , and the best m...</td>\n",
       "      <td>1</td>\n",
       "    </tr>\n",
       "  </tbody>\n",
       "</table>\n",
       "</div>"
      ],
      "text/plain": [
       "                                                text  label\n",
       "0  note : some may consider portions of the follo...      1\n",
       "1  note : some may consider portions of the follo...      1\n",
       "2  every once in a while you see a film that is s...      1\n",
       "3  when i was growing up in 1970s , boys in my sc...      1\n",
       "4  the muppet movie is the first , and the best m...      1"
      ]
     },
     "execution_count": 4,
     "metadata": {},
     "output_type": "execute_result"
    }
   ],
   "source": [
    "data_tr.head()"
   ]
  },
  {
   "cell_type": "markdown",
   "metadata": {},
   "source": [
    "The next step is to put the raw texts into Python lists and their corresponding labels into NumPy arrays:\n"
   ]
  },
  {
   "cell_type": "code",
   "execution_count": 9,
   "metadata": {
    "ExecuteTime": {
     "end_time": "2020-02-15T14:17:31.115577Z",
     "start_time": "2020-02-15T14:17:31.108038Z"
    }
   },
   "outputs": [
    {
     "data": {
      "text/plain": [
       "array([1, 1, 1, ..., 0, 0, 0], dtype=int64)"
      ]
     },
     "execution_count": 9,
     "metadata": {},
     "output_type": "execute_result"
    }
   ],
   "source": [
    "# fill in your code...\n",
    "data_tr['text'].tolist()  #DataFrame to python list\n",
    " # DataFrame to numpy array\n",
    "data_tr['label'].values #DataFrame to numpy arrays"
   ]
  },
  {
   "cell_type": "markdown",
   "metadata": {},
   "source": [
    "# Bag-of-Words Representation \n",
    "\n",
    "\n",
    "To train and test Logisitc Regression models, you first need to obtain vector representations for all documents given a vocabulary of features (unigrams, bigrams, trigrams).\n",
    "\n",
    "\n",
    "## Text Pre-Processing Pipeline\n",
    "\n",
    "To obtain a vocabulary of features, you should: \n",
    "- tokenise all texts into a list of unigrams (tip: using a regular expression) \n",
    "- remove stop words (using the one provided or one of your preference) \n",
    "- compute bigrams, trigrams given the remaining unigrams\n",
    "- remove ngrams appearing in less than K documents\n",
    "- use the remaining to create a vocabulary of unigrams, bigrams and trigrams (you can keep top N if you encounter memory issues).\n"
   ]
  },
  {
   "cell_type": "code",
   "execution_count": 5,
   "metadata": {
    "ExecuteTime": {
     "end_time": "2020-02-15T14:17:31.860420Z",
     "start_time": "2020-02-15T14:17:31.855439Z"
    }
   },
   "outputs": [],
   "source": [
    "stop_words = ['a','in','on','at','and','or', \n",
    "              'to', 'the', 'of', 'an', 'by', \n",
    "              'as', 'is', 'was', 'were', 'been', 'be', \n",
    "              'are','for', 'this', 'that', 'these', 'those', 'you', 'i',\n",
    "             'it', 'he', 'she', 'we', 'they' 'will', 'have', 'has',\n",
    "              'do', 'did', 'can', 'could', 'who', 'which', 'what', \n",
    "             'his', 'her', 'they', 'them', 'from', 'with', 'its']"
   ]
  },
  {
   "cell_type": "markdown",
   "metadata": {},
   "source": [
    "### N-gram extraction from a document\n",
    "\n",
    "You first need to implement the `extract_ngrams` function. It takes as input:\n",
    "- `x_raw`: a string corresponding to the raw text of a document\n",
    "- `ngram_range`: a tuple of two integers denoting the type of ngrams you want to extract, e.g. (1,2) denotes extracting unigrams and bigrams.\n",
    "- `token_pattern`: a string to be used within a regular expression to extract all tokens. Note that data is already tokenised so you could opt for a simple white space tokenisation.\n",
    "- `stop_words`: a list of stop words\n",
    "- `vocab`: a given vocabulary. It should be used to extract specific features.\n",
    "\n",
    "and returns:\n",
    "\n",
    "- a list of all extracted features.\n",
    "\n",
    "See the examples below to see how this function should work."
   ]
  },
  {
   "cell_type": "code",
   "execution_count": 6,
   "metadata": {
    "ExecuteTime": {
     "end_time": "2020-02-15T14:17:33.169090Z",
     "start_time": "2020-02-15T14:17:33.161268Z"
    }
   },
   "outputs": [],
   "source": [
    "def extract_ngrams(x_raw, ngram_range=(1,3), token_pattern=r'\\b[A-Za-z][A-Za-z]+\\b', stop_words=[], vocab=set()):\n",
    "    \n",
    "    # fill in your code...\n",
    "        \n",
    "    return x\n",
    "\n",
    "\n"
   ]
  },
  {
   "cell_type": "code",
   "execution_count": 7,
   "metadata": {
    "ExecuteTime": {
     "end_time": "2020-02-15T14:17:33.680114Z",
     "start_time": "2020-02-15T14:17:33.675339Z"
    }
   },
   "outputs": [
    {
     "data": {
      "text/plain": [
       "['great',\n",
       " 'movie',\n",
       " 'watch',\n",
       " ('great', 'movie'),\n",
       " ('movie', 'watch'),\n",
       " ('great', 'movie', 'watch')]"
      ]
     },
     "execution_count": 7,
     "metadata": {},
     "output_type": "execute_result"
    }
   ],
   "source": [
    "extract_ngrams(\"this is a great movie to watch\", \n",
    "               ngram_range=(1,3), \n",
    "               stop_words=stop_words)"
   ]
  },
  {
   "cell_type": "code",
   "execution_count": 8,
   "metadata": {
    "ExecuteTime": {
     "end_time": "2020-02-15T14:17:34.278189Z",
     "start_time": "2020-02-15T14:17:34.273722Z"
    }
   },
   "outputs": [
    {
     "data": {
      "text/plain": [
       "['great', ('great', 'movie')]"
      ]
     },
     "execution_count": 8,
     "metadata": {},
     "output_type": "execute_result"
    }
   ],
   "source": [
    "extract_ngrams(\"this is a great movie to watch\", \n",
    "               ngram_range=(1,2), \n",
    "               stop_words=stop_words, \n",
    "               vocab=set(['great',  ('great','movie')]))"
   ]
  },
  {
   "cell_type": "markdown",
   "metadata": {},
   "source": [
    "Note that it is OK to represent n-grams using lists instead of tuples: e.g. `['great', ['great', 'movie']]`"
   ]
  },
  {
   "cell_type": "markdown",
   "metadata": {},
   "source": [
    "### Create a vocabulary of n-grams\n",
    "\n",
    "Then the `get_vocab` function will be used to (1) create a vocabulary of ngrams; (2) count the document frequencies of ngrams; (3) their raw frequency. It takes as input:\n",
    "- `X_raw`: a list of strings each corresponding to the raw text of a document\n",
    "- `ngram_range`: a tuple of two integers denoting the type of ngrams you want to extract, e.g. (1,2) denotes extracting unigrams and bigrams.\n",
    "- `token_pattern`: a string to be used within a regular expression to extract all tokens. Note that data is already tokenised so you could opt for a simple white space tokenisation.\n",
    "- `stop_words`: a list of stop words\n",
    "- `vocab`: a given vocabulary. It should be used to extract specific features.\n",
    "- `min_df`: keep ngrams with a minimum document frequency.\n",
    "- `keep_topN`: keep top-N more frequent ngrams.\n",
    "\n",
    "and returns:\n",
    "\n",
    "- `vocab`: a set of the n-grams that will be used as features.\n",
    "- `df`: a Counter (or dict) that contains ngrams as keys and their corresponding document frequency as values.\n",
    "- `ngram_counts`: counts of each ngram in vocab\n",
    "\n",
    "Hint: it should make use of the `extract_ngrams` function."
   ]
  },
  {
   "cell_type": "code",
   "execution_count": 9,
   "metadata": {
    "ExecuteTime": {
     "end_time": "2020-02-15T14:17:35.821240Z",
     "start_time": "2020-02-15T14:17:35.814722Z"
    }
   },
   "outputs": [],
   "source": [
    "def get_vocab(X_raw, ngram_range=(1,3), token_pattern=r'\\b[A-Za-z][A-Za-z]+\\b', min_df=0, keep_topN=0, stop_words=[]):\n",
    "    \n",
    "    \n",
    "    # fill in your code...\n",
    "    \n",
    "    \n",
    "    return vocab, df, ngram_counts"
   ]
  },
  {
   "cell_type": "markdown",
   "metadata": {},
   "source": [
    "Now you should use `get_vocab` to create your vocabulary and get document and raw frequencies of n-grams:"
   ]
  },
  {
   "cell_type": "code",
   "execution_count": 10,
   "metadata": {
    "ExecuteTime": {
     "end_time": "2020-02-15T14:17:39.319793Z",
     "start_time": "2020-02-15T14:17:36.836545Z"
    }
   },
   "outputs": [
    {
     "name": "stdout",
     "output_type": "stream",
     "text": [
      "5000\n",
      "\n",
      "['manages', 'questions', 'covered', 'body', 'ron', 'flair', 'drunken', 'approach', 'etc', 'allowing', 'lebowski', 'strong', 'model', 'category', 'family', 'couldn', 'argento', 'why', 'shown', ('doesn', 'work'), 'ocean', ('lot', 'more'), 'lou', 'attorney', 'kick', 'thinking', 'worth', 'larger', ('waste', 'time'), ('back', 'forth'), 'roles', 'adventures', ('million', 'dollars'), 'critics', 'according', ('ghost', 'dog'), 'outside', 'protect', ('last', 'time'), ('but', 'so'), 'creative', 'sell', 'pile', 'needless', 'immediately', 'screens', 'cards', 'blonde', 'meets', 'place', 'needs', 'needed', 'teacher', 'conceived', 'competition', 'powerful', 'expected', ('first', 'movie'), ('but', 'least'), 'gave', 'pleasures', 'spectacular', 'safe', 'wishes', 'stuff', ('there', 'something'), 'robert', 'kid', 'latest', ('bad', 'guy'), 'comet', 'street', 'intelligent', 'allow', ('tim', 'roth'), ('production', 'design'), 'living', 'abyss', 'clean', ('makes', 'him'), 'aware', 'footage', 'vicious', 'sharon', 'genuinely', 'south', 'draw', 'wall', ('will', 'smith'), 'romeo', ('scenes', 'but'), 'sometimes', 'friend', 'millionaire', 'families', 'technique', 'spirit', ('not', 'going'), 'horrifying', 'national']\n",
      "\n",
      "[('but', 1334), ('one', 1247), ('film', 1231), ('not', 1170), ('all', 1117), ('movie', 1095), ('out', 1080), ('so', 1047), ('there', 1046), ('like', 1043)]\n"
     ]
    }
   ],
   "source": [
    "vocab, df, ngram_counts = get_vocab(X_tr_raw, ngram_range=(1,3), keep_topN=5000, stop_words=stop_words)\n",
    "print(len(vocab))\n",
    "print()\n",
    "print(list(vocab)[:100])\n",
    "print()\n",
    "print(df.most_common()[:10])"
   ]
  },
  {
   "cell_type": "markdown",
   "metadata": {},
   "source": [
    "Then, you need to create vocabulary id -> word and id -> word dictionaries for reference:"
   ]
  },
  {
   "cell_type": "code",
   "execution_count": 11,
   "metadata": {
    "ExecuteTime": {
     "end_time": "2020-02-15T14:17:39.326811Z",
     "start_time": "2020-02-15T14:17:39.322256Z"
    }
   },
   "outputs": [],
   "source": [
    "# fill in your code..."
   ]
  },
  {
   "cell_type": "markdown",
   "metadata": {},
   "source": [
    "Now you should be able to extract n-grams for each text in the training, development and test sets:"
   ]
  },
  {
   "cell_type": "code",
   "execution_count": 12,
   "metadata": {
    "ExecuteTime": {
     "end_time": "2020-02-15T14:17:40.213253Z",
     "start_time": "2020-02-15T14:17:39.329147Z"
    }
   },
   "outputs": [],
   "source": [
    "# fill in your code..."
   ]
  },
  {
   "cell_type": "markdown",
   "metadata": {},
   "source": [
    "## Vectorise documents "
   ]
  },
  {
   "cell_type": "markdown",
   "metadata": {},
   "source": [
    "Next, write a function `vectoriser` to obtain Bag-of-ngram representations for a list of documents. The function should take as input:\n",
    "- `X_ngram`: a list of texts (documents), where each text is represented as list of n-grams in the `vocab`\n",
    "- `vocab`: a set of n-grams to be used for representing the documents\n",
    "\n",
    "and return:\n",
    "- `X_vec`: an array with dimensionality Nx|vocab| where N is the number of documents and |vocab| is the size of the vocabulary. Each element of the array should represent the frequency of a given n-gram in a document.\n"
   ]
  },
  {
   "cell_type": "code",
   "execution_count": 13,
   "metadata": {
    "ExecuteTime": {
     "end_time": "2020-02-15T14:17:40.219201Z",
     "start_time": "2020-02-15T14:17:40.215129Z"
    }
   },
   "outputs": [],
   "source": [
    "def vectorise(X_ngram, vocab):\n",
    "    \n",
    "    # fill in your code...\n",
    "    \n",
    "    return X_vec"
   ]
  },
  {
   "cell_type": "markdown",
   "metadata": {},
   "source": [
    "Finally, use `vectorise` to obtain document vectors for each document in the train, development and test set. You should extract both count and tf.idf vectors respectively:"
   ]
  },
  {
   "cell_type": "markdown",
   "metadata": {},
   "source": [
    "#### Count vectors"
   ]
  },
  {
   "cell_type": "code",
   "execution_count": 14,
   "metadata": {
    "ExecuteTime": {
     "end_time": "2020-02-15T14:17:41.999574Z",
     "start_time": "2020-02-15T14:17:40.376534Z"
    }
   },
   "outputs": [],
   "source": [
    "# fill in your code..."
   ]
  },
  {
   "cell_type": "code",
   "execution_count": 15,
   "metadata": {
    "ExecuteTime": {
     "end_time": "2020-02-15T14:17:42.004808Z",
     "start_time": "2020-02-15T14:17:42.001555Z"
    }
   },
   "outputs": [
    {
     "data": {
      "text/plain": [
       "(1400, 5000)"
      ]
     },
     "execution_count": 15,
     "metadata": {},
     "output_type": "execute_result"
    }
   ],
   "source": [
    "X_tr_count.shape"
   ]
  },
  {
   "cell_type": "code",
   "execution_count": 16,
   "metadata": {
    "ExecuteTime": {
     "end_time": "2020-02-15T14:17:42.010525Z",
     "start_time": "2020-02-15T14:17:42.006309Z"
    }
   },
   "outputs": [
    {
     "data": {
      "text/plain": [
       "array([[0., 0., 0., 0., 0., 0., 0., 0., 0., 1., 0., 1., 0., 0., 1., 0.,\n",
       "        0., 0., 1., 0., 0., 0., 0., 0., 0., 0., 1., 0., 0., 0., 1., 0.,\n",
       "        0., 0., 0., 0., 0., 0., 0., 0., 0., 0., 0., 0., 0., 0., 0., 0.,\n",
       "        0., 0.],\n",
       "       [0., 0., 0., 1., 0., 0., 0., 2., 0., 0., 0., 0., 0., 0., 0., 1.,\n",
       "        0., 0., 0., 0., 0., 0., 0., 0., 0., 0., 0., 0., 0., 0., 0., 0.,\n",
       "        0., 0., 0., 0., 0., 0., 0., 0., 0., 0., 0., 0., 1., 0., 0., 0.,\n",
       "        0., 0.]])"
      ]
     },
     "execution_count": 16,
     "metadata": {},
     "output_type": "execute_result"
    }
   ],
   "source": [
    "X_tr_count[:2,:50]"
   ]
  },
  {
   "cell_type": "markdown",
   "metadata": {},
   "source": [
    "#### TF.IDF vectors\n",
    "\n",
    "First compute `idfs` an array containing inverted document frequencies (Note: its elements should correspond to your `vocab`)"
   ]
  },
  {
   "cell_type": "code",
   "execution_count": 17,
   "metadata": {
    "ExecuteTime": {
     "end_time": "2020-02-15T14:17:42.022692Z",
     "start_time": "2020-02-15T14:17:42.012315Z"
    }
   },
   "outputs": [],
   "source": [
    "# fill in your code..."
   ]
  },
  {
   "cell_type": "markdown",
   "metadata": {},
   "source": [
    "Then transform your count vectors to tf.idf vectors:"
   ]
  },
  {
   "cell_type": "code",
   "execution_count": 18,
   "metadata": {
    "ExecuteTime": {
     "end_time": "2020-02-15T14:17:42.802265Z",
     "start_time": "2020-02-15T14:17:42.752448Z"
    }
   },
   "outputs": [],
   "source": [
    "# fill in your code..."
   ]
  },
  {
   "cell_type": "code",
   "execution_count": 19,
   "metadata": {
    "ExecuteTime": {
     "end_time": "2020-02-15T14:17:43.211619Z",
     "start_time": "2020-02-15T14:17:43.207266Z"
    }
   },
   "outputs": [
    {
     "data": {
      "text/plain": [
       "array([0.        , 0.        , 0.        , 2.24028121, 0.        ,\n",
       "       0.        , 0.        , 5.67501654, 0.        , 0.        ,\n",
       "       0.        , 0.        , 0.        , 0.        , 0.        ,\n",
       "       2.47354289, 0.        , 0.        , 0.        , 0.        ,\n",
       "       0.        , 0.        , 0.        , 0.        , 0.        ,\n",
       "       0.        , 0.        , 0.        , 0.        , 0.        ,\n",
       "       0.        , 0.        , 0.        , 0.        , 0.        ,\n",
       "       0.        , 0.        , 0.        , 0.        , 0.        ,\n",
       "       0.        , 0.        , 0.        , 0.        , 2.56209629,\n",
       "       0.        , 0.        , 0.        , 0.        , 0.        ])"
      ]
     },
     "execution_count": 19,
     "metadata": {},
     "output_type": "execute_result"
    }
   ],
   "source": [
    "X_tr_tfidf[1,:50]"
   ]
  },
  {
   "cell_type": "code",
   "execution_count": null,
   "metadata": {},
   "outputs": [],
   "source": []
  },
  {
   "cell_type": "markdown",
   "metadata": {},
   "source": [
    "# Binary Logistic Regression\n",
    "\n",
    "After obtaining vector representations of the data, now you are ready to implement Binary Logistic Regression for classifying sentiment."
   ]
  },
  {
   "cell_type": "markdown",
   "metadata": {},
   "source": [
    "First, you need to implement the `sigmoid` function. It takes as input:\n",
    "\n",
    "- `z`: a real number or an array of real numbers \n",
    "\n",
    "and returns:\n",
    "\n",
    "- `sig`: the sigmoid of `z`"
   ]
  },
  {
   "cell_type": "code",
   "execution_count": 20,
   "metadata": {
    "ExecuteTime": {
     "end_time": "2020-02-15T14:17:44.160661Z",
     "start_time": "2020-02-15T14:17:44.157902Z"
    }
   },
   "outputs": [],
   "source": [
    "def sigmoid(z):\n",
    "    \n",
    "    # fill in your code...\n",
    "    \n",
    "    return z"
   ]
  },
  {
   "cell_type": "code",
   "execution_count": 21,
   "metadata": {
    "ExecuteTime": {
     "end_time": "2020-02-15T14:17:44.351292Z",
     "start_time": "2020-02-15T14:17:44.346822Z"
    }
   },
   "outputs": [
    {
     "name": "stdout",
     "output_type": "stream",
     "text": [
      "0.5\n",
      "[0.00669285 0.76852478]\n"
     ]
    }
   ],
   "source": [
    "print(sigmoid(0)) \n",
    "print(sigmoid(np.array([-5., 1.2])))"
   ]
  },
  {
   "cell_type": "markdown",
   "metadata": {},
   "source": [
    "Then, implement the `predict_proba` function to obtain prediction probabilities. It takes as input:\n",
    "\n",
    "- `X`: an array of inputs, i.e. documents represented by bag-of-ngram vectors ($N \\times |vocab|$)\n",
    "- `weights`: a 1-D array of the model's weights $(1, |vocab|)$\n",
    "\n",
    "and returns:\n",
    "\n",
    "- `preds_proba`: the prediction probabilities of X given the weights"
   ]
  },
  {
   "cell_type": "code",
   "execution_count": 22,
   "metadata": {
    "ExecuteTime": {
     "end_time": "2020-02-15T14:17:44.718566Z",
     "start_time": "2020-02-15T14:17:44.715017Z"
    }
   },
   "outputs": [],
   "source": [
    "def predict_proba(X, weights):\n",
    "    \n",
    "    # fill in your code...\n",
    "    \n",
    "    return preds_proba"
   ]
  },
  {
   "cell_type": "markdown",
   "metadata": {},
   "source": [
    "Then, implement the `predict_class` function to obtain the most probable class for each vector in an array of input vectors. It takes as input:\n",
    "\n",
    "- `X`: an array of documents represented by bag-of-ngram vectors ($N \\times |vocab|$)\n",
    "- `weights`: a 1-D array of the model's weights $(1, |vocab|)$\n",
    "\n",
    "and returns:\n",
    "\n",
    "- `preds_class`: the predicted class for each x in X given the weights"
   ]
  },
  {
   "cell_type": "code",
   "execution_count": 23,
   "metadata": {
    "ExecuteTime": {
     "end_time": "2020-02-15T14:17:45.002125Z",
     "start_time": "2020-02-15T14:17:44.998668Z"
    }
   },
   "outputs": [],
   "source": [
    "def predict_class(X, weights):\n",
    "    \n",
    "    # fill in your code...\n",
    "    \n",
    "    return preds_class"
   ]
  },
  {
   "cell_type": "markdown",
   "metadata": {},
   "source": [
    "To learn the weights from data, we need to minimise the binary cross-entropy loss. Implement `binary_loss` that takes as input:\n",
    "\n",
    "- `X`: input vectors\n",
    "- `Y`: labels\n",
    "- `weights`: model weights\n",
    "- `alpha`: regularisation strength\n",
    "\n",
    "and return:\n",
    "\n",
    "- `l`: the loss score"
   ]
  },
  {
   "cell_type": "code",
   "execution_count": 24,
   "metadata": {
    "ExecuteTime": {
     "end_time": "2020-02-15T14:17:45.455533Z",
     "start_time": "2020-02-15T14:17:45.451475Z"
    }
   },
   "outputs": [],
   "source": [
    "def binary_loss(X, Y, weights, alpha=0.00001):\n",
    "    \n",
    "    # fill in your code...\n",
    "\n",
    "    return l\n",
    "    \n",
    "\n"
   ]
  },
  {
   "cell_type": "markdown",
   "metadata": {},
   "source": [
    "Now, you can implement Stochastic Gradient Descent to learn the weights of your sentiment classifier. The `SGD` function takes as input:\n",
    "\n",
    "- `X_tr`: array of training data (vectors)\n",
    "- `Y_tr`: labels of `X_tr`\n",
    "- `X_dev`: array of development (i.e. validation) data (vectors)\n",
    "- `Y_dev`: labels of `X_dev`\n",
    "- `lr`: learning rate\n",
    "- `alpha`: regularisation strength\n",
    "- `epochs`: number of full passes over the training data\n",
    "- `tolerance`: stop training if the difference between the current and previous validation loss is smaller than a threshold\n",
    "- `print_progress`: flag for printing the training progress (train/validation loss)\n",
    "\n",
    "\n",
    "and returns:\n",
    "\n",
    "- `weights`: the weights learned\n",
    "- `training_loss_history`: an array with the average losses of the whole training set after each epoch\n",
    "- `validation_loss_history`: an array with the average losses of the whole development set after each epoch"
   ]
  },
  {
   "cell_type": "code",
   "execution_count": 25,
   "metadata": {
    "ExecuteTime": {
     "end_time": "2020-02-15T14:17:45.968510Z",
     "start_time": "2020-02-15T14:17:45.958185Z"
    }
   },
   "outputs": [],
   "source": [
    "def SGD(X_tr, Y_tr, X_dev=[], Y_dev=[], loss=\"binary\", lr=0.1, alpha=0.00001, epochs=5, tolerance=0.0001, print_progress=True):\n",
    "    \n",
    "    cur_loss_tr = 1.\n",
    "    cur_loss_dev = 1.\n",
    "    training_loss_history = []\n",
    "    validation_loss_history = []\n",
    "    \n",
    "    # fill in your code...\n",
    "    \n",
    "\n",
    "    return weights, training_loss_history, validation_loss_history"
   ]
  },
  {
   "cell_type": "markdown",
   "metadata": {},
   "source": [
    "## Train and Evaluate Logistic Regression with Count vectors\n",
    "\n",
    "First train the model using SGD:"
   ]
  },
  {
   "cell_type": "code",
   "execution_count": 26,
   "metadata": {
    "ExecuteTime": {
     "end_time": "2020-02-15T14:17:51.480197Z",
     "start_time": "2020-02-15T14:17:46.362729Z"
    },
    "scrolled": true
   },
   "outputs": [
    {
     "name": "stderr",
     "output_type": "stream",
     "text": [
      "/anaconda3/lib/python3.7/site-packages/ipykernel_launcher.py:50: DeprecationWarning: elementwise == comparison failed; this will raise an error in the future.\n"
     ]
    },
    {
     "name": "stdout",
     "output_type": "stream",
     "text": [
      "Epoch: 0| Training loss: 0.6281849626714022| Validation loss: 0.6459904270912492\n",
      "Epoch: 1| Training loss: 0.58394973349301| Validation loss: 0.615917609244642\n",
      "Epoch: 2| Training loss: 0.5505425987370951| Validation loss: 0.5920179207204117\n",
      "Epoch: 3| Training loss: 0.5239076409919164| Validation loss: 0.5742090121213917\n",
      "Epoch: 4| Training loss: 0.500731542158432| Validation loss: 0.5599256616458367\n",
      "Epoch: 5| Training loss: 0.481386614351927| Validation loss: 0.5483399203516909\n",
      "Epoch: 6| Training loss: 0.46462260481387196| Validation loss: 0.536726260641603\n",
      "Epoch: 7| Training loss: 0.4500982582962053| Validation loss: 0.5293935827417584\n",
      "Epoch: 8| Training loss: 0.4361300598154409| Validation loss: 0.5194135185643873\n",
      "Epoch: 9| Training loss: 0.42421092133995136| Validation loss: 0.5128852380111468\n",
      "Epoch: 10| Training loss: 0.41424666156856305| Validation loss: 0.5081058150491683\n",
      "Epoch: 11| Training loss: 0.40290405763261916| Validation loss: 0.4998331750481731\n",
      "Epoch: 12| Training loss: 0.39344726405965164| Validation loss: 0.4940158979403169\n",
      "Epoch: 13| Training loss: 0.38503789030766256| Validation loss: 0.48976802503845507\n",
      "Epoch: 14| Training loss: 0.37654890135179875| Validation loss: 0.484037098115325\n",
      "Epoch: 15| Training loss: 0.36894058100253413| Validation loss: 0.4798610532741002\n",
      "Epoch: 16| Training loss: 0.3617911351634668| Validation loss: 0.47588612765070365\n",
      "Epoch: 17| Training loss: 0.3551265404206662| Validation loss: 0.47234842804380855\n",
      "Epoch: 18| Training loss: 0.3486529010996841| Validation loss: 0.46797755621787246\n",
      "Epoch: 19| Training loss: 0.34244316989524753| Validation loss: 0.464938665019058\n",
      "Epoch: 20| Training loss: 0.3366343015770723| Validation loss: 0.4616842926731529\n",
      "Epoch: 21| Training loss: 0.3312023236130169| Validation loss: 0.4590262056110472\n",
      "Epoch: 22| Training loss: 0.3260007588631569| Validation loss: 0.4563979800942745\n",
      "Epoch: 23| Training loss: 0.32083959589960936| Validation loss: 0.45317017998003734\n",
      "Epoch: 24| Training loss: 0.31705059120551277| Validation loss: 0.4527182622861437\n",
      "Epoch: 25| Training loss: 0.31137245815884257| Validation loss: 0.4484012987783105\n",
      "Epoch: 26| Training loss: 0.3069467760380594| Validation loss: 0.4461629481765205\n",
      "Epoch: 27| Training loss: 0.30267985376747814| Validation loss: 0.4440273276849877\n",
      "Epoch: 28| Training loss: 0.298560387521571| Validation loss: 0.4418603123640002\n",
      "Epoch: 29| Training loss: 0.29558254986979837| Validation loss: 0.44172617207437204\n",
      "Epoch: 30| Training loss: 0.29078322582916094| Validation loss: 0.4380952460056868\n",
      "Epoch: 31| Training loss: 0.28718417285149966| Validation loss: 0.4362850387634425\n",
      "Epoch: 32| Training loss: 0.28408560988552123| Validation loss: 0.43577239283434904\n",
      "Epoch: 33| Training loss: 0.28009737012982255| Validation loss: 0.4331545678568254\n",
      "Epoch: 34| Training loss: 0.2767640337246711| Validation loss: 0.431657490301419\n",
      "Epoch: 35| Training loss: 0.27350820080571875| Validation loss: 0.43010420069230215\n",
      "Epoch: 36| Training loss: 0.27036735251938776| Validation loss: 0.42862832552853375\n",
      "Epoch: 37| Training loss: 0.2673211984298023| Validation loss: 0.42731624333970303\n",
      "Epoch: 38| Training loss: 0.2643682626690211| Validation loss: 0.4260636123942821\n",
      "Epoch: 39| Training loss: 0.2615143553313424| Validation loss: 0.4247602930846561\n",
      "Epoch: 40| Training loss: 0.25872058410623594| Validation loss: 0.4235425412009785\n",
      "Epoch: 41| Training loss: 0.2560177969586485| Validation loss: 0.42236637774851515\n",
      "Epoch: 42| Training loss: 0.2533546845784477| Validation loss: 0.42128448240471866\n",
      "Epoch: 43| Training loss: 0.2507883305559025| Validation loss: 0.4202410832783033\n",
      "Epoch: 44| Training loss: 0.24825701835297637| Validation loss: 0.41923554264174134\n",
      "Epoch: 45| Training loss: 0.2458218689350721| Validation loss: 0.41821537954238325\n",
      "Epoch: 46| Training loss: 0.2435181956552816| Validation loss: 0.4175138038837945\n",
      "Epoch: 47| Training loss: 0.241183986857215| Validation loss: 0.4165877792887614\n",
      "Epoch: 48| Training loss: 0.2389589545183026| Validation loss: 0.41557310746919895\n",
      "Epoch: 49| Training loss: 0.23680171011929335| Validation loss: 0.4147816507167802\n",
      "Epoch: 50| Training loss: 0.23450601755766678| Validation loss: 0.41387587000162357\n",
      "Epoch: 51| Training loss: 0.23247124983002218| Validation loss: 0.4131240893983248\n",
      "Epoch: 52| Training loss: 0.23033786650938054| Validation loss: 0.41233527047381\n",
      "Epoch: 53| Training loss: 0.2282567887396891| Validation loss: 0.41156614941290953\n",
      "Epoch: 54| Training loss: 0.22647270304097009| Validation loss: 0.41099267683408564\n",
      "Epoch: 55| Training loss: 0.2246358767100557| Validation loss: 0.41042708711540626\n",
      "Epoch: 56| Training loss: 0.22246017419395409| Validation loss: 0.40954002861607436\n",
      "Epoch: 57| Training loss: 0.22060668292241928| Validation loss: 0.40889556239058955\n",
      "Epoch: 58| Training loss: 0.2187885160668603| Validation loss: 0.4082432051363766\n",
      "Epoch: 59| Training loss: 0.2170224169340236| Validation loss: 0.4076163788242318\n",
      "Epoch: 60| Training loss: 0.21530320470315473| Validation loss: 0.40713880258386625\n",
      "Epoch: 61| Training loss: 0.21357932142988068| Validation loss: 0.4065210097418873\n",
      "Epoch: 62| Training loss: 0.21191185411079208| Validation loss: 0.4060224089558166\n",
      "Epoch: 63| Training loss: 0.21032271463596797| Validation loss: 0.4054921850332128\n",
      "Epoch: 64| Training loss: 0.2087609426053154| Validation loss: 0.40501547722330933\n",
      "Epoch: 65| Training loss: 0.2071890996095131| Validation loss: 0.4045265690542238\n",
      "Epoch: 66| Training loss: 0.20560751820427933| Validation loss: 0.4040820565490143\n",
      "Epoch: 67| Training loss: 0.20406864906806577| Validation loss: 0.40361262444820656\n",
      "Epoch: 68| Training loss: 0.2025156464996579| Validation loss: 0.4030518995290221\n",
      "Epoch: 69| Training loss: 0.2010378950218318| Validation loss: 0.4025949361740047\n",
      "Epoch: 70| Training loss: 0.1997728849127573| Validation loss: 0.4023991394978512\n",
      "Epoch: 71| Training loss: 0.19841801966004854| Validation loss: 0.40200966293582197\n",
      "Epoch: 72| Training loss: 0.1968157840876145| Validation loss: 0.4013443623862235\n",
      "Epoch: 73| Training loss: 0.19555410813697371| Validation loss: 0.4011169859186285\n",
      "Epoch: 74| Training loss: 0.19413924871716362| Validation loss: 0.4006309698407786\n",
      "Epoch: 75| Training loss: 0.19278085382790883| Validation loss: 0.40022613590881917\n",
      "Epoch: 76| Training loss: 0.1914947308475946| Validation loss: 0.3998871578256288\n",
      "Epoch: 77| Training loss: 0.190261922351623| Validation loss: 0.39960823107953586\n",
      "Epoch: 78| Training loss: 0.18896911417129283| Validation loss: 0.39922627783002923\n",
      "Epoch: 79| Training loss: 0.1877191702258717| Validation loss: 0.3988834207898679\n",
      "Epoch: 80| Training loss: 0.18650134006367705| Validation loss: 0.3985725136186029\n",
      "Epoch: 81| Training loss: 0.1853023306621783| Validation loss: 0.3982626757047629\n",
      "Epoch: 82| Training loss: 0.18425246300322776| Validation loss: 0.3981454498168277\n",
      "Epoch: 83| Training loss: 0.18298816020164818| Validation loss: 0.39772399858098695\n"
     ]
    }
   ],
   "source": [
    "w_count, loss_tr_count, dev_loss_count = SGD(X_tr_count, Y_tr, \n",
    "                                             X_dev=X_dev_count, \n",
    "                                             Y_dev=Y_dev, \n",
    "                                             lr=0.0001, \n",
    "                                             alpha=0.001, \n",
    "                                             epochs=100)"
   ]
  },
  {
   "cell_type": "markdown",
   "metadata": {},
   "source": [
    "Now plot the training and validation history per epoch. Does your model underfit, overfit or is it about right? Explain why."
   ]
  },
  {
   "cell_type": "code",
   "execution_count": 27,
   "metadata": {
    "ExecuteTime": {
     "end_time": "2020-02-15T14:17:51.598911Z",
     "start_time": "2020-02-15T14:17:51.482307Z"
    }
   },
   "outputs": [
    {
     "data": {
      "image/png": "[encoded data removed]",
      "text/plain": [
       "<Figure size 432x288 with 1 Axes>"
      ]
     },
     "metadata": {
      "needs_background": "light"
     },
     "output_type": "display_data"
    }
   ],
   "source": []
  },
  {
   "cell_type": "markdown",
   "metadata": {
    "ExecuteTime": {
     "end_time": "2020-01-21T16:52:26.583150Z",
     "start_time": "2020-01-21T16:52:26.578754Z"
    }
   },
   "source": [
    "Explain here..."
   ]
  },
  {
   "cell_type": "markdown",
   "metadata": {},
   "source": [
    "Compute accuracy, precision, recall and F1-scores:"
   ]
  },
  {
   "cell_type": "code",
   "execution_count": 10,
   "metadata": {
    "ExecuteTime": {
     "end_time": "2020-02-15T14:37:40.569499Z",
     "start_time": "2020-02-15T14:37:40.566796Z"
    }
   },
   "outputs": [],
   "source": [
    "# fill in your code...\n",
    "\n",
    "print('Accuracy:', accuracy_score(Y_te,preds_te_count))\n",
    "print('Precision:', precision_score(Y_te,preds_te_count))\n",
    "print('Recall:', recall_score(Y_te,preds_te_count))\n",
    "print('F1-Score:', f1_score(Y_te,preds_te_count))"
   ]
  },
  {
   "cell_type": "markdown",
   "metadata": {},
   "source": [
    "Finally, print the top-10 words for the negative and positive class respectively."
   ]
  },
  {
   "cell_type": "code",
   "execution_count": 8,
   "metadata": {
    "ExecuteTime": {
     "end_time": "2020-02-15T14:37:07.638179Z",
     "start_time": "2020-02-15T14:37:07.635838Z"
    }
   },
   "outputs": [],
   "source": [
    "# fill in your code..."
   ]
  },
  {
   "cell_type": "code",
   "execution_count": 9,
   "metadata": {
    "ExecuteTime": {
     "end_time": "2020-02-15T14:37:08.381103Z",
     "start_time": "2020-02-15T14:37:08.378641Z"
    }
   },
   "outputs": [],
   "source": [
    "# fill in your code..."
   ]
  },
  {
   "cell_type": "markdown",
   "metadata": {},
   "source": [
    "If we were to apply the classifier we've learned into a different domain such laptop reviews or restaurant reviews, do you think these features would generalise well? Can you propose what features the classifier could pick up as important in the new domain?"
   ]
  },
  {
   "cell_type": "markdown",
   "metadata": {},
   "source": [
    "Provide your answer here..."
   ]
  },
  {
   "cell_type": "markdown",
   "metadata": {},
   "source": [
    "## Train and Evaluate Logistic Regression with TF.IDF vectors\n",
    "\n",
    "Follow the same steps as above (i.e. evaluating count n-gram representations).\n"
   ]
  },
  {
   "cell_type": "code",
   "execution_count": 31,
   "metadata": {
    "ExecuteTime": {
     "end_time": "2020-02-15T14:17:54.414637Z",
     "start_time": "2020-02-15T14:17:51.625934Z"
    },
    "scrolled": true
   },
   "outputs": [
    {
     "name": "stdout",
     "output_type": "stream",
     "text": [
      "Epoch: 0| Training loss: 0.496538116279205| Validation loss: 0.5895899274588817\n",
      "Epoch: 1| Training loss: 0.4084394710560143| Validation loss: 0.544649086837174\n"
     ]
    },
    {
     "name": "stderr",
     "output_type": "stream",
     "text": [
      "/anaconda3/lib/python3.7/site-packages/ipykernel_launcher.py:50: DeprecationWarning: elementwise == comparison failed; this will raise an error in the future.\n"
     ]
    },
    {
     "name": "stdout",
     "output_type": "stream",
     "text": [
      "Epoch: 2| Training loss: 0.35196590407420064| Validation loss: 0.5150876603863132\n",
      "Epoch: 3| Training loss: 0.3116844242022623| Validation loss: 0.49489773731674874\n",
      "Epoch: 4| Training loss: 0.2810715774838783| Validation loss: 0.47997275137676726\n",
      "Epoch: 5| Training loss: 0.25668747878708276| Validation loss: 0.46763654113258013\n",
      "Epoch: 6| Training loss: 0.23654276549913594| Validation loss: 0.45767733688153556\n",
      "Epoch: 7| Training loss: 0.21965240746100156| Validation loss: 0.4492067736453032\n",
      "Epoch: 8| Training loss: 0.20518502986248432| Validation loss: 0.44195046817180716\n",
      "Epoch: 9| Training loss: 0.1926379393530923| Validation loss: 0.4358175343417367\n",
      "Epoch: 10| Training loss: 0.18161013121343478| Validation loss: 0.430927744935762\n",
      "Epoch: 11| Training loss: 0.17183241812407454| Validation loss: 0.4267194647775054\n",
      "Epoch: 12| Training loss: 0.1631180196151434| Validation loss: 0.42287948202462305\n",
      "Epoch: 13| Training loss: 0.1552643554313739| Validation loss: 0.4185174243921952\n",
      "Epoch: 14| Training loss: 0.14816016424795736| Validation loss: 0.41535439115243267\n",
      "Epoch: 15| Training loss: 0.14171645583977022| Validation loss: 0.41354500028973346\n",
      "Epoch: 16| Training loss: 0.13573592746279245| Validation loss: 0.41050631949541183\n",
      "Epoch: 17| Training loss: 0.13034674080565548| Validation loss: 0.40873127609435583\n",
      "Epoch: 18| Training loss: 0.12530074212468914| Validation loss: 0.4062032520033557\n",
      "Epoch: 19| Training loss: 0.1206804384762821| Validation loss: 0.4042355558277022\n",
      "Epoch: 20| Training loss: 0.11641749849268634| Validation loss: 0.40343553356873935\n",
      "Epoch: 21| Training loss: 0.11238278831491308| Validation loss: 0.4016416833615827\n",
      "Epoch: 22| Training loss: 0.10865156439664284| Validation loss: 0.4000595888878182\n",
      "Epoch: 23| Training loss: 0.10516197433948125| Validation loss: 0.39868784044604255\n",
      "Epoch: 24| Training loss: 0.10189115553121805| Validation loss: 0.3979524616390154\n",
      "Epoch: 25| Training loss: 0.09882058648610967| Validation loss: 0.3970440497535089\n",
      "Epoch: 26| Training loss: 0.09592138473665975| Validation loss: 0.395778881579832\n",
      "Epoch: 27| Training loss: 0.09320843385055887| Validation loss: 0.3953557357339525\n",
      "Epoch: 28| Training loss: 0.09063019016289853| Validation loss: 0.39470595909680056\n",
      "Epoch: 29| Training loss: 0.08817629918827585| Validation loss: 0.3937076446246101\n",
      "Epoch: 30| Training loss: 0.08586942642600201| Validation loss: 0.3932263994003147\n",
      "Epoch: 31| Training loss: 0.08367305497260015| Validation loss: 0.3925446707702044\n",
      "Epoch: 32| Training loss: 0.08158397572757985| Validation loss: 0.39185414682427805\n",
      "Epoch: 33| Training loss: 0.0795957520805118| Validation loss: 0.3912667860138064\n",
      "Epoch: 34| Training loss: 0.0777226931855252| Validation loss: 0.3914079793827536\n",
      "Epoch: 35| Training loss: 0.07590268082740566| Validation loss: 0.39055218226682514\n",
      "Epoch: 36| Training loss: 0.07417745810765715| Validation loss: 0.39023461847996976\n",
      "Epoch: 37| Training loss: 0.07253087010654821| Validation loss: 0.3899764154646073\n",
      "Epoch: 38| Training loss: 0.07095338295428982| Validation loss: 0.38952321238763404\n",
      "Epoch: 39| Training loss: 0.06944490333053023| Validation loss: 0.3891662489075472\n",
      "Epoch: 40| Training loss: 0.06799534146111857| Validation loss: 0.389052493545359\n",
      "Epoch: 41| Training loss: 0.06660689466800641| Validation loss: 0.3887629118157739\n",
      "Epoch: 42| Training loss: 0.06527371405647933| Validation loss: 0.38843451100305176\n"
     ]
    }
   ],
   "source": [
    "w_tfidf, trl, devl = SGD(X_tr_tfidf, Y_tr, \n",
    "                         X_dev=X_dev_tfidf, \n",
    "                         Y_dev=Y_dev, \n",
    "                         lr=0.0001, \n",
    "                         alpha=0.00001, \n",
    "                         epochs=50)"
   ]
  },
  {
   "cell_type": "markdown",
   "metadata": {},
   "source": [
    "Now plot the training and validation history per epoch. Does your model underfit, overfit or is it about right? Explain why."
   ]
  },
  {
   "cell_type": "code",
   "execution_count": 32,
   "metadata": {
    "ExecuteTime": {
     "end_time": "2020-02-15T14:17:54.517668Z",
     "start_time": "2020-02-15T14:17:54.417118Z"
    }
   },
   "outputs": [
    {
     "data": {
      "image/png": "[encoded data removed]",
      "text/plain": [
       "<Figure size 432x288 with 1 Axes>"
      ]
     },
     "metadata": {
      "needs_background": "light"
     },
     "output_type": "display_data"
    }
   ],
   "source": [
    "# fill in your code..."
   ]
  },
  {
   "cell_type": "markdown",
   "metadata": {},
   "source": [
    "Compute accuracy, precision, recall and F1-scores:"
   ]
  },
  {
   "cell_type": "code",
   "execution_count": 11,
   "metadata": {
    "ExecuteTime": {
     "end_time": "2020-02-15T14:37:56.489814Z",
     "start_time": "2020-02-15T14:37:56.487014Z"
    }
   },
   "outputs": [],
   "source": [
    "# fill in your code...\n",
    "\n",
    "print('Accuracy:', accuracy_score(Y_te,preds_te))\n",
    "print('Precision:', precision_score(Y_te,preds_te))\n",
    "print('Recall:', recall_score(Y_te,preds_te))\n",
    "print('F1-Score:', f1_score(Y_te,preds_te))"
   ]
  },
  {
   "cell_type": "markdown",
   "metadata": {},
   "source": [
    "Print top-10 most positive and negative words:"
   ]
  },
  {
   "cell_type": "code",
   "execution_count": 13,
   "metadata": {
    "ExecuteTime": {
     "end_time": "2020-02-15T14:38:17.845485Z",
     "start_time": "2020-02-15T14:38:17.842557Z"
    }
   },
   "outputs": [],
   "source": [
    "# fill in your code..."
   ]
  },
  {
   "cell_type": "code",
   "execution_count": 14,
   "metadata": {
    "ExecuteTime": {
     "end_time": "2020-02-15T14:38:22.781128Z",
     "start_time": "2020-02-15T14:38:22.778590Z"
    }
   },
   "outputs": [],
   "source": [
    "# fill in your code..."
   ]
  },
  {
   "cell_type": "markdown",
   "metadata": {},
   "source": [
    "### Discuss how did you choose model hyperparameters (e.g. learning rate and regularisation strength)? What is the relation between training epochs and learning rate? How the regularisation strength affects performance?"
   ]
  },
  {
   "cell_type": "markdown",
   "metadata": {},
   "source": [
    "Enter your answer here..."
   ]
  },
  {
   "cell_type": "markdown",
   "metadata": {},
   "source": [
    "\n",
    "\n",
    "## Full Results\n",
    "\n",
    "Add here your results:\n",
    "\n",
    "| LR | Precision  | Recall  | F1-Score  |\n",
    "|:-:|:-:|:-:|:-:|\n",
    "| BOW-count  |   |   |   |\n",
    "| BOW-tfidf  |   |   |   |\n"
   ]
  },
  {
   "cell_type": "markdown",
   "metadata": {},
   "source": [
    "# Multi-class Logistic Regression \n",
    "\n",
    "Now you need to train a Multiclass Logistic Regression (MLR) Classifier by extending the Binary model you developed above. You will use the MLR model to perform topic classification on the AG news dataset consisting of three classes:"
   ]
  },
  {
   "cell_type": "markdown",
   "metadata": {},
   "source": [
    "- Class 1: World\n",
    "- Class 2: Sports\n",
    "- Class 3: Business"
   ]
  },
  {
   "cell_type": "markdown",
   "metadata": {},
   "source": [
    "You need to follow the same process as in Task 1 for data processing and feature extraction by reusing the functions you wrote."
   ]
  },
  {
   "cell_type": "code",
   "execution_count": 36,
   "metadata": {
    "ExecuteTime": {
     "end_time": "2020-02-15T14:18:03.212229Z",
     "start_time": "2020-02-15T14:18:03.185261Z"
    }
   },
   "outputs": [],
   "source": [
    "# fill in your code..."
   ]
  },
  {
   "cell_type": "code",
   "execution_count": 37,
   "metadata": {
    "ExecuteTime": {
     "end_time": "2020-02-15T14:18:03.515585Z",
     "start_time": "2020-02-15T14:18:03.508299Z"
    }
   },
   "outputs": [
    {
     "data": {
      "text/html": [
       "<div>\n",
       "<style scoped>\n",
       "    .dataframe tbody tr th:only-of-type {\n",
       "        vertical-align: middle;\n",
       "    }\n",
       "\n",
       "    .dataframe tbody tr th {\n",
       "        vertical-align: top;\n",
       "    }\n",
       "\n",
       "    .dataframe thead th {\n",
       "        text-align: right;\n",
       "    }\n",
       "</style>\n",
       "<table border=\"1\" class=\"dataframe\">\n",
       "  <thead>\n",
       "    <tr style=\"text-align: right;\">\n",
       "      <th></th>\n",
       "      <th>label</th>\n",
       "      <th>text</th>\n",
       "    </tr>\n",
       "  </thead>\n",
       "  <tbody>\n",
       "    <tr>\n",
       "      <th>0</th>\n",
       "      <td>1</td>\n",
       "      <td>Reuters - Venezuelans turned out early\\and in ...</td>\n",
       "    </tr>\n",
       "    <tr>\n",
       "      <th>1</th>\n",
       "      <td>1</td>\n",
       "      <td>Reuters - South Korean police used water canno...</td>\n",
       "    </tr>\n",
       "    <tr>\n",
       "      <th>2</th>\n",
       "      <td>1</td>\n",
       "      <td>Reuters - Thousands of Palestinian\\prisoners i...</td>\n",
       "    </tr>\n",
       "    <tr>\n",
       "      <th>3</th>\n",
       "      <td>1</td>\n",
       "      <td>AFP - Sporadic gunfire and shelling took place...</td>\n",
       "    </tr>\n",
       "    <tr>\n",
       "      <th>4</th>\n",
       "      <td>1</td>\n",
       "      <td>AP - Dozens of Rwandan soldiers flew into Suda...</td>\n",
       "    </tr>\n",
       "  </tbody>\n",
       "</table>\n",
       "</div>"
      ],
      "text/plain": [
       "   label                                               text\n",
       "0      1  Reuters - Venezuelans turned out early\\and in ...\n",
       "1      1  Reuters - South Korean police used water canno...\n",
       "2      1  Reuters - Thousands of Palestinian\\prisoners i...\n",
       "3      1  AFP - Sporadic gunfire and shelling took place...\n",
       "4      1  AP - Dozens of Rwandan soldiers flew into Suda..."
      ]
     },
     "execution_count": 37,
     "metadata": {},
     "output_type": "execute_result"
    }
   ],
   "source": [
    "data_tr.head()"
   ]
  },
  {
   "cell_type": "code",
   "execution_count": 38,
   "metadata": {
    "ExecuteTime": {
     "end_time": "2020-02-15T14:18:03.806523Z",
     "start_time": "2020-02-15T14:18:03.798279Z"
    }
   },
   "outputs": [],
   "source": [
    "# fill in your code..."
   ]
  },
  {
   "cell_type": "code",
   "execution_count": 39,
   "metadata": {
    "ExecuteTime": {
     "end_time": "2020-02-15T14:18:04.508938Z",
     "start_time": "2020-02-15T14:18:04.171071Z"
    }
   },
   "outputs": [
    {
     "name": "stdout",
     "output_type": "stream",
     "text": [
      "5000\n",
      "\n",
      "['questions', ('exhibition', 'game'), ('computer', 'maker'), ('chavez', 'won'), ('invoices', 'halliburton'), ('den', 'hoogenband', 'netherlands'), 'body', ('anterior', 'cruciate'), ('billion', 'cash', 'stock'), ('nortel', 'networks', 'corp'), ('offering', 'nearly'), ('prime', 'minister'), ('july', 'first', 'time'), 'strong', ('hang', 'over'), 'model', 'ease', 'assets', 'category', 'family', 'disappeared', ('olympic', 'men'), 'couldn', 'why', 'shift', ('world', 'largest', 'food'), 'oust', ('settler', 'homes'), ('jerusalem', 'reuters'), ('wisconsin', 'reuters'), 'luis', 'bowl', ('monday', 'said', 'quarterly'), ('baltimore', 'orioles'), ('more', 'israeli'), ('army', 'had', 'decided'), 'economic', ('after', 'web', 'no'), 'lynn', ('defensive', 'end'), 'according', 'facilities', ('company', 'wednesday'), ('lt', 'gt', 'wednesday'), 'tutsi', ('dillard', 'inc'), 'outside', 'protect', 'uk', 'weather', 'sell', 'pile', 'immediately', 'senate', ('venus', 'williams'), ('four', 'months'), 'pope', ('assistant', 'manager'), 'nyse', 'place', 'needs', 'needed', 'competition', 'powerful', 'outlooks', 'expected', 'gave', ('holding', 'corp'), ('minister', 'alexander'), 'spectacular', ('world', 'biggest'), 'barrel', ('store', 'sales'), 'venezuela', 'groups', 'robert', 'calf', 'brokerage', ('fears', 'about', 'country'), ('retailer', 'behind'), 'kid', 'latest', 'street', 'allow', 'surge', 'living', ('aug', 'reuters'), 'aware', 'thens', 'stunned', 'sending', 'sharon', 'south', 'draw', 'wall', 'declare', ('inc', 'said'), 'lows', ('cincinnati', 'reds'), 'families']\n",
      "\n",
      "[('reuters', 631), ('said', 432), ('tuesday', 413), ('wednesday', 344), ('new', 325), ('after', 295), ('ap', 275), ('athens', 245), ('monday', 221), ('first', 210)]\n"
     ]
    }
   ],
   "source": [
    "vocab, df, ngram_counts = get_vocab(X_tr_raw, ngram_range=(1,3), keep_topN=5000, stop_words=stop_words)\n",
    "print(len(vocab))\n",
    "print()\n",
    "print(list(vocab)[:100])\n",
    "print()\n",
    "print(df.most_common()[:10])"
   ]
  },
  {
   "cell_type": "code",
   "execution_count": 40,
   "metadata": {
    "ExecuteTime": {
     "end_time": "2020-02-15T14:18:04.706802Z",
     "start_time": "2020-02-15T14:18:04.511061Z"
    }
   },
   "outputs": [],
   "source": [
    "# fill in your code..."
   ]
  },
  {
   "cell_type": "markdown",
   "metadata": {},
   "source": [
    "Now you need to change `SGD` to support multiclass datasets. First you need to develop a `softmax` function. It takes as input:\n",
    "\n",
    "- `z`: array of real numbers \n",
    "\n",
    "and returns:\n",
    "\n",
    "- `smax`: the softmax of `z`"
   ]
  },
  {
   "cell_type": "code",
   "execution_count": 42,
   "metadata": {
    "ExecuteTime": {
     "end_time": "2020-02-15T14:18:07.440998Z",
     "start_time": "2020-02-15T14:18:07.437915Z"
    }
   },
   "outputs": [],
   "source": [
    "def softmax(z):\n",
    "    \n",
    "    # fill in your code...\n",
    "    \n",
    "    return smax"
   ]
  },
  {
   "cell_type": "markdown",
   "metadata": {},
   "source": [
    "Then modify `predict_proba` and `predict_class` functions for the multiclass case:"
   ]
  },
  {
   "cell_type": "code",
   "execution_count": 43,
   "metadata": {
    "ExecuteTime": {
     "end_time": "2020-02-15T14:18:07.445451Z",
     "start_time": "2020-02-15T14:18:07.442851Z"
    }
   },
   "outputs": [],
   "source": [
    "def predict_proba(X, weights):\n",
    "    \n",
    "    # fill in your code...\n",
    "    \n",
    "    return preds_proba"
   ]
  },
  {
   "cell_type": "code",
   "execution_count": 44,
   "metadata": {
    "ExecuteTime": {
     "end_time": "2020-02-15T14:18:07.449814Z",
     "start_time": "2020-02-15T14:18:07.447145Z"
    }
   },
   "outputs": [],
   "source": [
    "def predict_class(X, weights):\n",
    "    \n",
    "    # fill in your code...\n",
    "    \n",
    "    return preds_class"
   ]
  },
  {
   "cell_type": "markdown",
   "metadata": {},
   "source": [
    "Toy example and expected functionality of the functions above:"
   ]
  },
  {
   "cell_type": "code",
   "execution_count": 45,
   "metadata": {
    "ExecuteTime": {
     "end_time": "2020-02-15T14:18:08.059902Z",
     "start_time": "2020-02-15T14:18:08.056774Z"
    }
   },
   "outputs": [],
   "source": [
    "X = np.array([[0.1,0.2],[0.2,0.1],[0.1,-0.2]])\n",
    "w = np.array([[2,-5],[-5,2]])"
   ]
  },
  {
   "cell_type": "code",
   "execution_count": 46,
   "metadata": {
    "ExecuteTime": {
     "end_time": "2020-02-15T14:18:08.495464Z",
     "start_time": "2020-02-15T14:18:08.491074Z"
    }
   },
   "outputs": [
    {
     "data": {
      "text/plain": [
       "array([[0.33181223, 0.66818777],\n",
       "       [0.66818777, 0.33181223],\n",
       "       [0.89090318, 0.10909682]])"
      ]
     },
     "execution_count": 46,
     "metadata": {},
     "output_type": "execute_result"
    }
   ],
   "source": [
    "predict_proba(X, w)"
   ]
  },
  {
   "cell_type": "code",
   "execution_count": 47,
   "metadata": {
    "ExecuteTime": {
     "end_time": "2020-02-15T14:18:08.714215Z",
     "start_time": "2020-02-15T14:18:08.710098Z"
    }
   },
   "outputs": [
    {
     "data": {
      "text/plain": [
       "array([2, 1, 1])"
      ]
     },
     "execution_count": 47,
     "metadata": {},
     "output_type": "execute_result"
    }
   ],
   "source": [
    "predict_class(X, w)"
   ]
  },
  {
   "cell_type": "markdown",
   "metadata": {},
   "source": [
    "Now you need to compute the categorical cross entropy loss (extending the binary loss to support multiple classes)."
   ]
  },
  {
   "cell_type": "code",
   "execution_count": 1,
   "metadata": {
    "ExecuteTime": {
     "end_time": "2020-02-15T14:30:48.047338Z",
     "start_time": "2020-02-15T14:30:48.044395Z"
    }
   },
   "outputs": [],
   "source": [
    "def categorical_loss(X, Y, weights, num_classes=5, alpha=0.00001):\n",
    "    \n",
    "    # fill in your code...\n",
    "    \n",
    "    return l\n",
    "    "
   ]
  },
  {
   "cell_type": "markdown",
   "metadata": {
    "ExecuteTime": {
     "end_time": "2020-02-15T14:08:59.937442Z",
     "start_time": "2020-02-15T14:08:59.932221Z"
    }
   },
   "source": [
    "Finally you need to modify SGD to support the categorical cross entropy loss:"
   ]
  },
  {
   "cell_type": "code",
   "execution_count": 49,
   "metadata": {
    "ExecuteTime": {
     "end_time": "2020-02-15T14:18:10.176885Z",
     "start_time": "2020-02-15T14:18:10.165021Z"
    }
   },
   "outputs": [],
   "source": [
    "def SGD(X_tr, Y_tr, X_dev=[], Y_dev=[], num_classes=5, lr=0.01, alpha=0.00001, epochs=5, tolerance=0.001, print_progress=True):\n",
    "    \n",
    "    # fill in your code...\n",
    "\n",
    "    return weights, training_loss_history, validation_loss_history"
   ]
  },
  {
   "cell_type": "markdown",
   "metadata": {
    "ExecuteTime": {
     "end_time": "2020-02-15T14:10:15.772383Z",
     "start_time": "2020-02-15T14:10:15.767855Z"
    }
   },
   "source": [
    "Now you are ready to train and evaluate you MLR following the same steps as in Task 1 for both Count and tfidf features:"
   ]
  },
  {
   "cell_type": "code",
   "execution_count": 50,
   "metadata": {
    "ExecuteTime": {
     "end_time": "2020-02-15T14:18:55.324956Z",
     "start_time": "2020-02-15T14:18:11.720952Z"
    }
   },
   "outputs": [
    {
     "name": "stderr",
     "output_type": "stream",
     "text": [
      "/anaconda3/lib/python3.7/site-packages/ipykernel_launcher.py:55: DeprecationWarning: elementwise == comparison failed; this will raise an error in the future.\n"
     ]
    },
    {
     "name": "stdout",
     "output_type": "stream",
     "text": [
      "Epoch: 0| Training loss: 1.0797445295473487| Validation loss: 1.081372090349833\n",
      "Epoch: 1| Training loss: 1.079316160352198| Validation loss: 1.0640685482079149\n",
      "Epoch: 2| Training loss: 1.0560473439817515| Validation loss: 1.0466716664674833\n",
      "Epoch: 3| Training loss: 1.0823272116547453| Validation loss: 1.0293144599016153\n",
      "Epoch: 4| Training loss: 1.0541411400498168| Validation loss: 1.0120430537618956\n",
      "Epoch: 5| Training loss: 0.6018201485747277| Validation loss: 0.9949501699020834\n",
      "Epoch: 6| Training loss: 0.9408020769124341| Validation loss: 0.9780518842493735\n",
      "Epoch: 7| Training loss: 0.9785218029526777| Validation loss: 0.961399507260303\n",
      "Epoch: 8| Training loss: 1.105504123262664| Validation loss: 0.945017429821232\n",
      "Epoch: 9| Training loss: 0.9330426453622344| Validation loss: 0.9289397744769093\n",
      "Epoch: 10| Training loss: 0.7202271854150083| Validation loss: 0.9131712383598369\n",
      "Epoch: 11| Training loss: 0.980165568395653| Validation loss: 0.8977588631301825\n",
      "Epoch: 12| Training loss: 0.9350596877302814| Validation loss: 0.8826257874396408\n",
      "Epoch: 13| Training loss: 1.015964417226491| Validation loss: 0.8678640000045689\n",
      "Epoch: 14| Training loss: 0.7853481727623568| Validation loss: 0.8534092079475973\n",
      "Epoch: 15| Training loss: 1.1280839072469695| Validation loss: 0.8392859262760239\n",
      "Epoch: 16| Training loss: 0.45596125168525925| Validation loss: 0.8254557688887008\n",
      "Epoch: 17| Training loss: 1.0070191455181927| Validation loss: 0.8120053087983156\n",
      "Epoch: 18| Training loss: 0.9938827745552048| Validation loss: 0.7989146470042358\n",
      "Epoch: 19| Training loss: 0.5941619165230784| Validation loss: 0.7861148779646865\n",
      "Epoch: 20| Training loss: 0.347645483062249| Validation loss: 0.773639617757056\n",
      "Epoch: 21| Training loss: 0.8615779910495689| Validation loss: 0.7614413103814573\n",
      "Epoch: 22| Training loss: 0.8559620095999312| Validation loss: 0.7495740843572936\n",
      "Epoch: 23| Training loss: 0.7123026165421295| Validation loss: 0.7380118770283757\n",
      "Epoch: 24| Training loss: 0.628420348319027| Validation loss: 0.7267497405327836\n",
      "Epoch: 25| Training loss: 1.1143453645268255| Validation loss: 0.7157650456550849\n",
      "Epoch: 26| Training loss: 0.5053554837538091| Validation loss: 0.7050752398160355\n",
      "Epoch: 27| Training loss: 0.8580561710864723| Validation loss: 0.6946265481406195\n",
      "Epoch: 28| Training loss: 1.0145821027394442| Validation loss: 0.6844644903515154\n",
      "Epoch: 29| Training loss: 0.889803100593025| Validation loss: 0.6745416521972386\n",
      "Epoch: 30| Training loss: 0.3512373705994844| Validation loss: 0.6649076709998702\n",
      "Epoch: 31| Training loss: 0.6946077278013651| Validation loss: 0.6554896489368593\n",
      "Epoch: 32| Training loss: 0.5721038746595615| Validation loss: 0.6463159196618706\n",
      "Epoch: 33| Training loss: 0.9286421195752351| Validation loss: 0.6374037446331372\n",
      "Epoch: 34| Training loss: 0.3043301520488227| Validation loss: 0.6286933702647342\n",
      "Epoch: 35| Training loss: 0.8412715058863925| Validation loss: 0.6201950715638889\n",
      "Epoch: 36| Training loss: 1.0162421996444875| Validation loss: 0.6119312128918258\n",
      "Epoch: 37| Training loss: 0.9800875509382644| Validation loss: 0.6038364508265476\n",
      "Epoch: 38| Training loss: 0.2529787526410042| Validation loss: 0.5959680427407086\n",
      "Epoch: 39| Training loss: 0.5204508487025243| Validation loss: 0.5882845644274958\n",
      "Epoch: 40| Training loss: 0.663760559879069| Validation loss: 0.5807678321194896\n",
      "Epoch: 41| Training loss: 0.15865889006553835| Validation loss: 0.5734687699728561\n",
      "Epoch: 42| Training loss: 0.6408607725036662| Validation loss: 0.5663184689700342\n",
      "Epoch: 43| Training loss: 0.2797611441024611| Validation loss: 0.5593606258380786\n",
      "Epoch: 44| Training loss: 0.7852857528209075| Validation loss: 0.552554302011612\n",
      "Epoch: 45| Training loss: 1.006186400841472| Validation loss: 0.5459031927551995\n",
      "Epoch: 46| Training loss: 1.121242812418955| Validation loss: 0.5394152242463135\n",
      "Epoch: 47| Training loss: 0.45275382650303764| Validation loss: 0.5330716806209664\n",
      "Epoch: 48| Training loss: 0.5002302346473977| Validation loss: 0.5268516486205744\n",
      "Epoch: 49| Training loss: 0.2927756479030764| Validation loss: 0.520796556633722\n",
      "Epoch: 50| Training loss: 0.5815213659515958| Validation loss: 0.514875429745833\n",
      "Epoch: 51| Training loss: 0.43511107264972204| Validation loss: 0.509093372083549\n",
      "Epoch: 52| Training loss: 0.2004456471210612| Validation loss: 0.5034369186797815\n",
      "Epoch: 53| Training loss: 0.6927294724851424| Validation loss: 0.4978805528962536\n",
      "Epoch: 54| Training loss: 0.22762255875684806| Validation loss: 0.49248110263913736\n",
      "Epoch: 55| Training loss: 0.41286842099956444| Validation loss: 0.4871768560097116\n",
      "Epoch: 56| Training loss: 0.2858867912825694| Validation loss: 0.4820023098168036\n",
      "Epoch: 57| Training loss: 1.07945594292479| Validation loss: 0.4769355688611146\n",
      "Epoch: 58| Training loss: 0.08632099484327364| Validation loss: 0.4719707627364577\n",
      "Epoch: 59| Training loss: 0.4380467526003749| Validation loss: 0.4671259629523961\n",
      "Epoch: 60| Training loss: 0.4504033371479604| Validation loss: 0.4623682646862233\n",
      "Epoch: 61| Training loss: 0.8991535203093632| Validation loss: 0.45772777193305997\n",
      "Epoch: 62| Training loss: 0.37976053429018847| Validation loss: 0.453170172687834\n",
      "Epoch: 63| Training loss: 0.6690249969029779| Validation loss: 0.4487003465696454\n",
      "Epoch: 64| Training loss: 0.12214122740982129| Validation loss: 0.4443374960034709\n",
      "Epoch: 65| Training loss: 0.6816289535486254| Validation loss: 0.4400584436398409\n",
      "Epoch: 66| Training loss: 0.18194708158942638| Validation loss: 0.4358569111132549\n",
      "Epoch: 67| Training loss: 0.5175968359577696| Validation loss: 0.4317374156856518\n",
      "Epoch: 68| Training loss: 0.2748850713851889| Validation loss: 0.42768780305615756\n",
      "Epoch: 69| Training loss: 0.47027298142101503| Validation loss: 0.42374507168474584\n",
      "Epoch: 70| Training loss: 0.19929430369829634| Validation loss: 0.4198554513354222\n",
      "Epoch: 71| Training loss: 0.3119339792974164| Validation loss: 0.4160593000805275\n",
      "Epoch: 72| Training loss: 0.2802330752147449| Validation loss: 0.4123300080340496\n",
      "Epoch: 73| Training loss: 1.4068722074169777| Validation loss: 0.4086685670109219\n",
      "Epoch: 74| Training loss: 1.2289700039889522| Validation loss: 0.4050692506591351\n",
      "Epoch: 75| Training loss: 0.5879134607806588| Validation loss: 0.4015404749982959\n",
      "Epoch: 76| Training loss: 0.5598034047715446| Validation loss: 0.3980768791999669\n",
      "Epoch: 77| Training loss: 0.4072390166320532| Validation loss: 0.3946781657347487\n",
      "Epoch: 78| Training loss: 0.4720387020720993| Validation loss: 0.39135074144554305\n",
      "Epoch: 79| Training loss: 0.8652127247147093| Validation loss: 0.3880767411953969\n",
      "Epoch: 80| Training loss: 0.49502493338551296| Validation loss: 0.38485336346274324\n",
      "Epoch: 81| Training loss: 0.8478719397159928| Validation loss: 0.3816873793123302\n",
      "Epoch: 82| Training loss: 0.5769432672302212| Validation loss: 0.3785768379529342\n",
      "Epoch: 83| Training loss: 0.25865075231928386| Validation loss: 0.37552080913970615\n",
      "Epoch: 84| Training loss: 0.6780205857236974| Validation loss: 0.37251982296888037\n",
      "Epoch: 85| Training loss: 0.5717729327147981| Validation loss: 0.36958152892125545\n",
      "Epoch: 86| Training loss: 0.7185798657407652| Validation loss: 0.36668874595841955\n",
      "Epoch: 87| Training loss: 0.32730720069458585| Validation loss: 0.3638467143325988\n",
      "Epoch: 88| Training loss: 0.9394375601966297| Validation loss: 0.3610402229621626\n",
      "Epoch: 89| Training loss: 0.5314941113071576| Validation loss: 0.3582963265282113\n",
      "Epoch: 90| Training loss: 0.9159430629959491| Validation loss: 0.3556047452606419\n",
      "Epoch: 91| Training loss: 0.27830594341362347| Validation loss: 0.3529452396878083\n",
      "Epoch: 92| Training loss: 0.08922609875671272| Validation loss: 0.3503285390711649\n",
      "Epoch: 93| Training loss: 0.5109477286610166| Validation loss: 0.34776466510396653\n",
      "Epoch: 94| Training loss: 0.8247015373951916| Validation loss: 0.34523113629834656\n",
      "Epoch: 95| Training loss: 1.4111970700349956| Validation loss: 0.3427459408526143\n",
      "Epoch: 96| Training loss: 0.9973410892711908| Validation loss: 0.3403031775623844\n",
      "Epoch: 97| Training loss: 0.9298826919970149| Validation loss: 0.3378961810444463\n",
      "Epoch: 98| Training loss: 0.14036615190332108| Validation loss: 0.33552333229158426\n",
      "Epoch: 99| Training loss: 0.42857059017867416| Validation loss: 0.3331908153000918\n"
     ]
    },
    {
     "name": "stdout",
     "output_type": "stream",
     "text": [
      "Epoch: 100| Training loss: 0.5909452468922335| Validation loss: 0.3308943792523601\n",
      "Epoch: 101| Training loss: 0.0582537404726638| Validation loss: 0.3286410364885621\n",
      "Epoch: 102| Training loss: 0.8460500582683682| Validation loss: 0.32641969802577286\n",
      "Epoch: 103| Training loss: 0.5298538159246153| Validation loss: 0.324225708977352\n",
      "Epoch: 104| Training loss: 0.3002611196487631| Validation loss: 0.3220709147432522\n",
      "Epoch: 105| Training loss: 0.6857676458335961| Validation loss: 0.31995106501678755\n",
      "Epoch: 106| Training loss: 0.5195060392225062| Validation loss: 0.31785403975508386\n",
      "Epoch: 107| Training loss: 0.6192846034415994| Validation loss: 0.3157920207863501\n",
      "Epoch: 108| Training loss: 0.09917322459957126| Validation loss: 0.31376264796419107\n",
      "Epoch: 109| Training loss: 0.3136491065708976| Validation loss: 0.3117644717911298\n",
      "Epoch: 110| Training loss: 0.2961228303588815| Validation loss: 0.30979000698586306\n",
      "Epoch: 111| Training loss: 0.028415357821764815| Validation loss: 0.30785497759094477\n",
      "Epoch: 112| Training loss: 0.3321063258469021| Validation loss: 0.3059320900816925\n",
      "Epoch: 113| Training loss: 0.2679899421174463| Validation loss: 0.30404511603354395\n",
      "Epoch: 114| Training loss: 0.8990533088234927| Validation loss: 0.30218664002975204\n",
      "Epoch: 115| Training loss: 0.12905768556887146| Validation loss: 0.3003505904610916\n",
      "Epoch: 116| Training loss: 0.4506684356556081| Validation loss: 0.2985291037359777\n",
      "Epoch: 117| Training loss: 0.844468526893116| Validation loss: 0.29674277317528236\n",
      "Epoch: 118| Training loss: 0.6767336880461876| Validation loss: 0.2949822521732923\n",
      "Epoch: 119| Training loss: 0.01799443908408846| Validation loss: 0.29324461004936575\n",
      "Epoch: 120| Training loss: 0.3418078466994673| Validation loss: 0.2915307136152019\n",
      "Epoch: 121| Training loss: 0.6270705561081482| Validation loss: 0.28984127182168334\n",
      "Epoch: 122| Training loss: 1.1478485044448523| Validation loss: 0.2881789628649678\n",
      "Epoch: 123| Training loss: 0.2949766090593473| Validation loss: 0.2865338197457586\n",
      "Epoch: 124| Training loss: 1.4238940813590628| Validation loss: 0.2849148292705895\n",
      "Epoch: 125| Training loss: 0.5994789520817773| Validation loss: 0.28331862128435503\n",
      "Epoch: 126| Training loss: 0.24891273419811613| Validation loss: 0.2817370423727986\n",
      "Epoch: 127| Training loss: 0.39238436079518574| Validation loss: 0.2801812115027427\n",
      "Epoch: 128| Training loss: 1.5600414187349476| Validation loss: 0.27864540709644464\n",
      "Epoch: 129| Training loss: 0.9472198772310756| Validation loss: 0.27712518454869994\n",
      "Epoch: 130| Training loss: 0.1584699773317698| Validation loss: 0.2756290475247621\n",
      "Epoch: 131| Training loss: 0.20644196621222938| Validation loss: 0.2741530162974089\n",
      "Epoch: 132| Training loss: 0.18215283594621412| Validation loss: 0.2726944798834253\n",
      "Epoch: 133| Training loss: 0.8414874757451525| Validation loss: 0.2712551700923043\n",
      "Epoch: 134| Training loss: 0.37457828472756166| Validation loss: 0.269827937621642\n",
      "Epoch: 135| Training loss: 0.00774395687073208| Validation loss: 0.26842030110408316\n",
      "Epoch: 136| Training loss: 0.75978129405607| Validation loss: 0.2670359677369942\n",
      "Epoch: 137| Training loss: 0.04094798273170632| Validation loss: 0.2656598668535911\n",
      "Epoch: 138| Training loss: 1.1939040225650244| Validation loss: 0.2642977146554992\n",
      "Epoch: 139| Training loss: 0.2706364434128102| Validation loss: 0.26296275384475015\n",
      "Epoch: 140| Training loss: 0.4041706720632301| Validation loss: 0.2616457843006157\n",
      "Epoch: 141| Training loss: 0.3930983060172604| Validation loss: 0.2603420380125703\n",
      "Epoch: 142| Training loss: 0.08588635860652719| Validation loss: 0.2590556686494602\n",
      "Epoch: 143| Training loss: 0.24441280871964122| Validation loss: 0.25778064807349627\n",
      "Epoch: 144| Training loss: 0.8777114045822041| Validation loss: 0.25652165984926234\n",
      "Epoch: 145| Training loss: 0.8194686345456902| Validation loss: 0.25528228171012946\n",
      "Epoch: 146| Training loss: 0.5319086987289504| Validation loss: 0.2540533247787649\n",
      "Epoch: 147| Training loss: 0.09005366358246589| Validation loss: 0.2528353480461422\n",
      "Epoch: 148| Training loss: 0.21640847881454545| Validation loss: 0.251638801334596\n",
      "Epoch: 149| Training loss: 0.14749728182299668| Validation loss: 0.2504513185602062\n",
      "Epoch: 150| Training loss: 0.9646686003838391| Validation loss: 0.249274942485048\n",
      "Epoch: 151| Training loss: 0.8459778376210175| Validation loss: 0.24811939173669992\n",
      "Epoch: 152| Training loss: 0.3289512046629609| Validation loss: 0.24697182796581005\n",
      "Epoch: 153| Training loss: 0.010146911359652084| Validation loss: 0.2458389491289637\n",
      "Epoch: 154| Training loss: 0.08495971132730216| Validation loss: 0.244718975192335\n",
      "Epoch: 155| Training loss: 0.5977737889322374| Validation loss: 0.24360572221188478\n",
      "Epoch: 156| Training loss: 0.0851881124765378| Validation loss: 0.24251352180512406\n",
      "Epoch: 157| Training loss: 0.8071434173631403| Validation loss: 0.2414341422328391\n",
      "Epoch: 158| Training loss: 0.16374943118546553| Validation loss: 0.24036653931680665\n",
      "Epoch: 159| Training loss: 0.19922472773981986| Validation loss: 0.23930460979725618\n",
      "Epoch: 160| Training loss: 0.2204896358048265| Validation loss: 0.23826151753367814\n",
      "Epoch: 161| Training loss: 0.4573968802025281| Validation loss: 0.23722811498264912\n",
      "Epoch: 162| Training loss: 0.1810635314345012| Validation loss: 0.23620717993755244\n",
      "Epoch: 163| Training loss: 0.5517398742853074| Validation loss: 0.2351936795375895\n",
      "Epoch: 164| Training loss: 0.061671999023491436| Validation loss: 0.234190439908011\n"
     ]
    }
   ],
   "source": [
    "w_count, loss_tr_count, dev_loss_count = SGD(X_tr_count, Y_tr, \n",
    "                                             X_dev=X_dev_count, \n",
    "                                             Y_dev=Y_dev,\n",
    "                                             num_classes=3,\n",
    "                                             lr=0.0001, \n",
    "                                             alpha=0.001, \n",
    "                                             epochs=200)"
   ]
  },
  {
   "cell_type": "markdown",
   "metadata": {},
   "source": [
    "Plot training and validation process and explain if your model overfit, underfit or is about right:"
   ]
  },
  {
   "cell_type": "code",
   "execution_count": 2,
   "metadata": {
    "ExecuteTime": {
     "end_time": "2020-02-15T14:31:09.903453Z",
     "start_time": "2020-02-15T14:31:09.901360Z"
    }
   },
   "outputs": [],
   "source": [
    "# fill in your code..."
   ]
  },
  {
   "cell_type": "markdown",
   "metadata": {},
   "source": [
    "Compute accuracy, precision, recall and F1-scores:"
   ]
  },
  {
   "cell_type": "code",
   "execution_count": 6,
   "metadata": {
    "ExecuteTime": {
     "end_time": "2020-02-15T14:32:12.606498Z",
     "start_time": "2020-02-15T14:32:12.604164Z"
    }
   },
   "outputs": [],
   "source": [
    "# fill in your code...\n",
    "\n",
    "print('Accuracy:', accuracy_score(Y_te,preds_te))\n",
    "print('Precision:', precision_score(Y_te,preds_te,average='macro'))\n",
    "print('Recall:', recall_score(Y_te,preds_te,average='macro'))\n",
    "print('F1-Score:', f1_score(Y_te,preds_te,average='macro'))"
   ]
  },
  {
   "cell_type": "markdown",
   "metadata": {},
   "source": [
    "Print the top-10 words for each class respectively."
   ]
  },
  {
   "cell_type": "code",
   "execution_count": 7,
   "metadata": {
    "ExecuteTime": {
     "end_time": "2020-02-15T14:32:26.224693Z",
     "start_time": "2020-02-15T14:32:26.221886Z"
    }
   },
   "outputs": [],
   "source": [
    "# fill in your code..."
   ]
  },
  {
   "cell_type": "markdown",
   "metadata": {},
   "source": [
    "### Discuss how did you choose model hyperparameters (e.g. learning rate and regularisation strength)? What is the relation between training epochs and learning rate? How the regularisation strength affects performance?"
   ]
  },
  {
   "cell_type": "markdown",
   "metadata": {
    "ExecuteTime": {
     "end_time": "2020-02-15T14:16:19.856538Z",
     "start_time": "2020-02-15T14:16:19.852547Z"
    }
   },
   "source": [
    "Explain here..."
   ]
  },
  {
   "cell_type": "markdown",
   "metadata": {},
   "source": [
    "### Now evaluate BOW-tfidf..."
   ]
  },
  {
   "cell_type": "markdown",
   "metadata": {
    "ExecuteTime": {
     "end_time": "2020-02-15T14:16:42.567569Z",
     "start_time": "2020-02-15T14:16:42.562560Z"
    }
   },
   "source": [
    "## Full Results\n",
    "\n",
    "Add here your results:\n",
    "\n",
    "| LR | Precision  | Recall  | F1-Score  |\n",
    "|:-:|:-:|:-:|:-:|\n",
    "| BOW-count  |   |   |   |\n",
    "| BOW-tfidf  |   |   |   |\n"
   ]
  },
  {
   "cell_type": "code",
   "execution_count": null,
   "metadata": {},
   "outputs": [],
   "source": []
  }
 ],
 "metadata": {
  "kernelspec": {
   "display_name": "Python 3",
   "language": "python",
   "name": "python3"
  },
  "language_info": {
   "codemirror_mode": {
    "name": "ipython",
    "version": 3
   },
   "file_extension": ".py",
   "mimetype": "text/x-python",
   "name": "python",
   "nbconvert_exporter": "python",
   "pygments_lexer": "ipython3",
   "version": "3.7.3"
  }
 },
 "nbformat": 4,
 "nbformat_minor": 2
}
