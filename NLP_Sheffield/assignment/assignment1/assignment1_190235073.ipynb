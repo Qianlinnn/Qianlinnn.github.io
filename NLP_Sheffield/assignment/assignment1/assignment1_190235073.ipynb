{
 "cells": [
  {
   "cell_type": "markdown",
   "metadata": {},
   "source": [
    "# [COM4513-6513] Assignment 1: Text Classification with Logistic Regression\n",
    "\n",
    "### Instructor: Nikos Aletras\n",
    "\n",
    "\n",
    "The goal of this assignment is to develop and test two text classification systems: \n",
    "\n",
    "- **Task 1:** sentiment analysis, in particular to predict the sentiment of movie review, i.e. positive or negative (binary classification).\n",
    "- **Task 2:** topic classification, to predict whether a news article is about International issues, Sports or Business (multiclass classification).\n",
    "\n",
    "\n",
    "For that purpose, you will implement:\n",
    "\n",
    "- Text processing methods for extracting Bag-Of-Word features, using (1) unigrams, bigrams and trigrams to obtain vector representations of documents. Two vector weighting schemes should be tested: (1) raw frequencies (**3 marks; 1 for each ngram type**); (2) tf.idf (**1 marks**). \n",
    "- Binary Logistic Regression classifiers that will be able to accurately classify movie reviews trained with (1) BOW-count (raw frequencies); and (2) BOW-tfidf (tf.idf weighted) for Task 1. \n",
    "- Multiclass Logistic Regression classifiers that will be able to accurately classify news articles trained with (1) BOW-count (raw frequencies); and (2) BOW-tfidf (tf.idf weighted) for Task 2. \n",
    "- The Stochastic Gradient Descent (SGD) algorithm to estimate the parameters of your Logistic Regression models. Your SGD algorithm should:\n",
    "    - Minimise the Binary Cross-entropy loss function for Task 1 (**3 marks**)\n",
    "    - Minimise the Categorical Cross-entropy loss function for Task 2 (**3 marks**)\n",
    "    - Use L2 regularisation (both tasks) (**1 mark**)\n",
    "    - Perform multiple passes (epochs) over the training data (**1 mark**)\n",
    "    - Randomise the order of training data after each pass (**1 mark**)\n",
    "    - Stop training if the difference between the current and previous validation loss is smaller than a threshold (**1 mark**)\n",
    "    - After each epoch print the training and development loss (**1 mark**)\n",
    "- Discuss how did you choose hyperparameters (e.g. learning rate and regularisation strength)?  (**2 marks; 0.5 for each model in each task**).\n",
    "- After training the LR models, plot the learning process (i.e. training and validation loss in each epoch) using a line plot (**1 mark; 0.5 for both BOW-count and BOW-tfidf LR models in each task**) and discuss if your model overfits/underfits/is about right.\n",
    "- Model interpretability by showing the most important features for each class (i.e. most positive/negative weights). Give the top 10 for each class and comment on whether they make sense (if they don't you might have a bug!).  If we were to apply the classifier we've learned into a different domain such laptop reviews or restaurant reviews, do you think these features would generalise well? Can you propose what features the classifier could pick up as important in the new domain? (**2 marks; 0.5 for BOW-count and BOW-tfidf LR models respectively in each task**)\n",
    "\n",
    "\n",
    "### Data - Task 1 \n",
    "\n",
    "The data you will use for Task 1 are taken from here: [http://www.cs.cornell.edu/people/pabo/movie-review-data/](http://www.cs.cornell.edu/people/pabo/movie-review-data/) and you can find it in the `./data_sentiment` folder in CSV format:\n",
    "\n",
    "- `data_sentiment/train.csv`: contains 1,400 reviews, 700 positive (label: 1) and 700 negative (label: 0) to be used for training.\n",
    "- `data_sentiment/dev.csv`: contains 200 reviews, 100 positive and 100 negative to be used for hyperparameter selection and monitoring the training process.\n",
    "- `data_sentiment/test.csv`: contains 400 reviews, 200 positive and 200 negative to be used for testing.\n",
    "\n",
    "### Data - Task 2\n",
    "\n",
    "The data you will use for Task 2 is a subset of the [AG News Corpus](http://groups.di.unipi.it/~gulli/AG_corpus_of_news_articles.html) and you can find it in the `./data_topic` folder in CSV format:\n",
    "\n",
    "- `data_topic/train.csv`: contains 2,400 news articles, 800 for each class to be used for training.\n",
    "- `data_topic/dev.csv`: contains 150 news articles, 50 for each class to be used for hyperparameter selection and monitoring the training process.\n",
    "- `data_topic/test.csv`: contains 900 news articles, 300 for each class to be used for testing.\n",
    "\n",
    "\n",
    "### Submission Instructions\n",
    "\n",
    "You should submit a Jupyter Notebook file (assignment1.ipynb) and an exported PDF version (you can do it from Jupyter: `File->Download as->PDF via Latex`).\n",
    "\n",
    "You are advised to follow the code structure given in this notebook by completing all given funtions. You can also write any auxilliary/helper functions (and arguments for the functions) that you might need but note that you can provide a full solution without any such functions. Similarly, you can just use only the packages imported below but you are free to use any functionality from the [Python Standard Library](https://docs.python.org/2/library/index.html), NumPy, SciPy and Pandas. You are not allowed to use any third-party library such as Scikit-learn (apart from metric functions already provided), NLTK, Spacy, Keras etc..\n",
    "\n",
    "Please make sure to comment your code. You should also mention if you've used Windows (not recommended) to write and test your code. There is no single correct answer on what your accuracy should be, but correct implementations usually achieve F1-scores around 80\\% or higher. The quality of the analysis of the results is as important as the accuracy itself. \n",
    "\n",
    "This assignment will be marked out of 20. It is worth 20\\% of your final grade in the module.\n",
    "\n",
    "The deadline for this assignment is **23:59 on Fri, 20 Mar 2020** and it needs to be submitted via MOLE. Standard departmental penalties for lateness will be applied. We use a range of strategies to detect [unfair means](https://www.sheffield.ac.uk/ssid/unfair-means/index), including Turnitin which helps detect plagiarism, so make sure you do not plagiarise.\n",
    "\n"
   ]
  },
  {
   "cell_type": "code",
   "execution_count": 1,
   "metadata": {
    "ExecuteTime": {
     "end_time": "2020-02-15T14:31:36.292691Z",
     "start_time": "2020-02-15T14:31:35.549108Z"
    }
   },
   "outputs": [],
   "source": [
    "import pandas as pd\n",
    "import numpy as np\n",
    "import re\n",
    "import matplotlib.pyplot as plt\n",
    "from sklearn.metrics import accuracy_score, precision_score, recall_score, f1_score\n",
    "import random\n",
    "\n",
    "# fixing random seed for reproducibility\n",
    "random.seed(123)\n",
    "np.random.seed(123)\n"
   ]
  },
  {
   "cell_type": "markdown",
   "metadata": {},
   "source": [
    "## Load Raw texts and labels into arrays\n",
    "\n",
    "First, you need to load the training, development and test sets from their corresponding CSV files (tip: you can use Pandas dataframes)."
   ]
  },
  {
   "cell_type": "code",
   "execution_count": 2,
   "metadata": {
    "ExecuteTime": {
     "end_time": "2020-02-15T14:17:28.145788Z",
     "start_time": "2020-02-15T14:17:28.066100Z"
    }
   },
   "outputs": [],
   "source": [
    "data_tr=pd.read_csv('./data_sentiment/train.csv',names=[\"text\",\"label\"])\n",
    "data_dev = pd.read_csv('./data_sentiment/dev.csv', names=[\"text\",\"label\"])\n",
    "data_te = pd.read_csv('./data_sentiment/test.csv', names=[\"text\",\"label\"])\n"
   ]
  },
  {
   "cell_type": "markdown",
   "metadata": {},
   "source": [
    "If you use Pandas you can see a sample of the data."
   ]
  },
  {
   "cell_type": "code",
   "execution_count": 3,
   "metadata": {
    "ExecuteTime": {
     "end_time": "2020-02-15T14:17:28.900892Z",
     "start_time": "2020-02-15T14:17:28.891221Z"
    }
   },
   "outputs": [
    {
     "data": {
      "text/html": [
       "<div>\n",
       "<style scoped>\n",
       "    .dataframe tbody tr th:only-of-type {\n",
       "        vertical-align: middle;\n",
       "    }\n",
       "\n",
       "    .dataframe tbody tr th {\n",
       "        vertical-align: top;\n",
       "    }\n",
       "\n",
       "    .dataframe thead th {\n",
       "        text-align: right;\n",
       "    }\n",
       "</style>\n",
       "<table border=\"1\" class=\"dataframe\">\n",
       "  <thead>\n",
       "    <tr style=\"text-align: right;\">\n",
       "      <th></th>\n",
       "      <th>text</th>\n",
       "      <th>label</th>\n",
       "    </tr>\n",
       "  </thead>\n",
       "  <tbody>\n",
       "    <tr>\n",
       "      <td>0</td>\n",
       "      <td>note : some may consider portions of the follo...</td>\n",
       "      <td>1</td>\n",
       "    </tr>\n",
       "    <tr>\n",
       "      <td>1</td>\n",
       "      <td>note : some may consider portions of the follo...</td>\n",
       "      <td>1</td>\n",
       "    </tr>\n",
       "    <tr>\n",
       "      <td>2</td>\n",
       "      <td>every once in a while you see a film that is s...</td>\n",
       "      <td>1</td>\n",
       "    </tr>\n",
       "    <tr>\n",
       "      <td>3</td>\n",
       "      <td>when i was growing up in 1970s , boys in my sc...</td>\n",
       "      <td>1</td>\n",
       "    </tr>\n",
       "    <tr>\n",
       "      <td>4</td>\n",
       "      <td>the muppet movie is the first , and the best m...</td>\n",
       "      <td>1</td>\n",
       "    </tr>\n",
       "  </tbody>\n",
       "</table>\n",
       "</div>"
      ],
      "text/plain": [
       "                                                text  label\n",
       "0  note : some may consider portions of the follo...      1\n",
       "1  note : some may consider portions of the follo...      1\n",
       "2  every once in a while you see a film that is s...      1\n",
       "3  when i was growing up in 1970s , boys in my sc...      1\n",
       "4  the muppet movie is the first , and the best m...      1"
      ]
     },
     "execution_count": 3,
     "metadata": {},
     "output_type": "execute_result"
    }
   ],
   "source": [
    "data_tr.head()"
   ]
  },
  {
   "cell_type": "markdown",
   "metadata": {},
   "source": [
    "The next step is to put the raw texts into Python lists and their corresponding labels into NumPy arrays:\n"
   ]
  },
  {
   "cell_type": "code",
   "execution_count": 4,
   "metadata": {
    "ExecuteTime": {
     "end_time": "2020-02-15T14:17:31.115577Z",
     "start_time": "2020-02-15T14:17:31.108038Z"
    }
   },
   "outputs": [],
   "source": [
    "# fill in your code...\n",
    "# put all 3 file into lists and array\n",
    "X_tr_raw = data_tr['text'].tolist() #DataFrame to python list\n",
    "Y_tr = data_tr['label'].values # DataFrame to numpy arrays\n",
    "\n",
    "X_dev_raw = data_dev['text'].tolist()\n",
    "Y_dev = data_dev['label'].values\n",
    "\n",
    "X_test_raw = data_te['text'].tolist()\n",
    "Y_te = data_te['label'].values  "
   ]
  },
  {
   "cell_type": "markdown",
   "metadata": {},
   "source": [
    "# Bag-of-Words Representation \n",
    "\n",
    "\n",
    "To train and test Logisitc Regression models, you first need to obtain vector representations for all documents given a vocabulary of features (unigrams, bigrams, trigrams).\n",
    "\n",
    "\n",
    "## Text Pre-Processing Pipeline\n",
    "\n",
    "To obtain a vocabulary of features, you should: \n",
    "- tokenise all texts into a list of unigrams (tip: using a regular expression) \n",
    "- remove stop words (using the one provided or one of your preference) \n",
    "- compute bigrams, trigrams given the remaining unigrams\n",
    "- remove ngrams appearing in less than K documents\n",
    "- use the remaining to create a vocabulary of unigrams, bigrams and trigrams (you can keep top N if you encounter memory issues).\n"
   ]
  },
  {
   "cell_type": "code",
   "execution_count": 5,
   "metadata": {
    "ExecuteTime": {
     "end_time": "2020-02-15T14:17:31.860420Z",
     "start_time": "2020-02-15T14:17:31.855439Z"
    }
   },
   "outputs": [],
   "source": [
    "stop_words = ['a','in','on','at','and','or', \n",
    "              'to', 'the', 'of', 'an', 'by', \n",
    "              'as', 'is', 'was', 'were', 'been', 'be', \n",
    "              'are','for', 'this', 'that', 'these', 'those', 'you', 'i',\n",
    "             'it', 'he', 'she', 'we', 'they' 'will', 'have', 'has',\n",
    "              'do', 'did', 'can', 'could', 'who', 'which', 'what', \n",
    "             'his', 'her', 'they', 'them', 'from', 'with', 'its']"
   ]
  },
  {
   "cell_type": "markdown",
   "metadata": {},
   "source": [
    "### N-gram extraction from a document\n",
    "\n",
    "You first need to implement the `extract_ngrams` function. It takes as input:\n",
    "- `x_raw`: a string corresponding to the raw text of a document\n",
    "- `ngram_range`: a tuple of two integers denoting the type of ngrams you want to extract, e.g. (1,2) denotes extracting unigrams and bigrams.\n",
    "- `token_pattern`: a string to be used within a regular expression to extract all tokens. Note that data is already tokenised so you could opt for a simple white space tokenisation.\n",
    "- `stop_words`: a list of stop words\n",
    "- `vocab`: a given vocabulary. It should be used to extract specific features.\n",
    "\n",
    "and returns:\n",
    "\n",
    "- a list of all extracted features.\n",
    "\n",
    "See the examples below to see how this function should work."
   ]
  },
  {
   "cell_type": "code",
   "execution_count": 6,
   "metadata": {
    "ExecuteTime": {
     "end_time": "2020-02-15T14:17:33.169090Z",
     "start_time": "2020-02-15T14:17:33.161268Z"
    }
   },
   "outputs": [],
   "source": [
    "def extract_ngrams(x_raw, ngram_range=(1,3), token_pattern=r'\\b[A-Za-z][A-Za-z]+\\b', stop_words=[], vocab=set()):\n",
    "    x = []\n",
    "    # Regular expression\n",
    "    pattern = re.compile(token_pattern).findall(x_raw.lower())    \n",
    "    # Get words without stop word\n",
    "    unigram = [word for word in pattern if word not in stop_words and re.match(token_pattern, word)] \n",
    "    # generate 3 types ngrams\n",
    "    for n in range(ngram_range[0], ngram_range[1]+1):\n",
    "        if n == 1:\n",
    "            x.extend(unigram)\n",
    "        elif n == 2:\n",
    "            x.extend([(word1, word2) for word1, word2 in zip(unigram[:-1], unigram[1:])])\n",
    "        elif n == 3:\n",
    "            x.extend([(word1, word2, word3) for word1, word2, word3 in zip(unigram[:-2], unigram[1:-1], unigram[2:])])\n",
    "        if len(vocab) != 0:\n",
    "            x = [w for w in x if w in vocab]        \n",
    "    return x\n",
    "    \n",
    "    # fill in your code...\n",
    "\n",
    "\n"
   ]
  },
  {
   "cell_type": "code",
   "execution_count": 7,
   "metadata": {
    "ExecuteTime": {
     "end_time": "2020-02-15T14:17:33.680114Z",
     "start_time": "2020-02-15T14:17:33.675339Z"
    }
   },
   "outputs": [
    {
     "data": {
      "text/plain": [
       "['great',\n",
       " 'movie',\n",
       " 'watch',\n",
       " ('great', 'movie'),\n",
       " ('movie', 'watch'),\n",
       " ('great', 'movie', 'watch')]"
      ]
     },
     "execution_count": 7,
     "metadata": {},
     "output_type": "execute_result"
    }
   ],
   "source": [
    "extract_ngrams(\"this is a great movie to watch\", \n",
    "               ngram_range=(1,3), \n",
    "               stop_words=stop_words)"
   ]
  },
  {
   "cell_type": "code",
   "execution_count": 8,
   "metadata": {
    "ExecuteTime": {
     "end_time": "2020-02-15T14:17:34.278189Z",
     "start_time": "2020-02-15T14:17:34.273722Z"
    }
   },
   "outputs": [
    {
     "data": {
      "text/plain": [
       "['great', ('great', 'movie')]"
      ]
     },
     "execution_count": 8,
     "metadata": {},
     "output_type": "execute_result"
    }
   ],
   "source": [
    "extract_ngrams(\"this is a great movie to watch\", \n",
    "               ngram_range=(1,2), \n",
    "               stop_words=stop_words, \n",
    "               vocab=set(['great',  ('great','movie')]))"
   ]
  },
  {
   "cell_type": "markdown",
   "metadata": {},
   "source": [
    "Note that it is OK to represent n-grams using lists instead of tuples: e.g. `['great', ['great', 'movie']]`"
   ]
  },
  {
   "cell_type": "markdown",
   "metadata": {},
   "source": [
    "### Create a vocabulary of n-grams\n",
    "\n",
    "Then the `get_vocab` function will be used to (1) create a vocabulary of ngrams; (2) count the document frequencies of ngrams; (3) their raw frequency. It takes as input:\n",
    "- `X_raw`: a list of strings each corresponding to the raw text of a document\n",
    "- `ngram_range`: a tuple of two integers denoting the type of ngrams you want to extract, e.g. (1,2) denotes extracting unigrams and bigrams.\n",
    "- `token_pattern`: a string to be used within a regular expression to extract all tokens. Note that data is already tokenised so you could opt for a simple white space tokenisation.\n",
    "- `stop_words`: a list of stop words\n",
    "- `vocab`: a given vocabulary. It should be used to extract specific features.\n",
    "- `min_df`: keep ngrams with a minimum document frequency.\n",
    "- `keep_topN`: keep top-N more frequent ngrams.\n",
    "\n",
    "and returns:\n",
    "\n",
    "- `vocab`: a set of the n-grams that will be used as features.\n",
    "- `df`: a Counter (or dict) that contains ngrams as keys and their corresponding document frequency as values.\n",
    "- `ngram_counts`: counts of each ngram in vocab\n",
    "\n",
    "Hint: it should make use of the `extract_ngrams` function."
   ]
  },
  {
   "cell_type": "code",
   "execution_count": 9,
   "metadata": {
    "ExecuteTime": {
     "end_time": "2020-02-15T14:17:35.821240Z",
     "start_time": "2020-02-15T14:17:35.814722Z"
    }
   },
   "outputs": [],
   "source": [
    "from collections import Counter\n",
    "\n",
    "def get_vocab(X_raw, ngram_range=(1,3), token_pattern=r'\\b[A-Za-z][A-Za-z]+\\b', min_df=0, keep_topN=0, stop_words=[]):\n",
    "    grams = []\n",
    "    for x in X_raw:\n",
    "          grams.extend(set(extract_ngrams(x, ngram_range, token_pattern, stop_words))) # get n-grams vocabulary list\n",
    "    df_grams = Counter(grams)\n",
    "    for key in df_grams.keys(): # if df value is smaller than required value, delete the element\n",
    "        if df_grams[key] < min_df:\n",
    "            del df_grams[key]\n",
    "    # get top N occur times in df\n",
    "    ngram_counts = df_grams.most_common(keep_topN) \n",
    "    # get word in ngram counts\n",
    "    vocab = set([word[0] for word in ngram_counts])\n",
    "    \n",
    "    # fill in your code...\n",
    "    \n",
    "    \n",
    "    return vocab, df_grams, ngram_counts"
   ]
  },
  {
   "cell_type": "markdown",
   "metadata": {},
   "source": [
    "Now you should use `get_vocab` to create your vocabulary and get document and raw frequencies of n-grams:"
   ]
  },
  {
   "cell_type": "code",
   "execution_count": 10,
   "metadata": {
    "ExecuteTime": {
     "end_time": "2020-02-15T14:17:39.319793Z",
     "start_time": "2020-02-15T14:17:36.836545Z"
    }
   },
   "outputs": [
    {
     "name": "stdout",
     "output_type": "stream",
     "text": [
      "5000\n",
      "\n",
      "[('might', 'well'), ('not', 'so'), ('few', 'years'), 'cheating', 'ups', 'getting', 'after', 'join', 'ask', 'gross', 'surrounding', ('comic', 'relief'), 'glenn', ('little', 'too'), ('beginning', 'end'), ('after', 'being'), ('know', 'but'), 'drew', 'issues', 'travel', 'path', 'awake', 'president', ('their', 'characters'), 'notice', 'complex', 'built', 'groups', ('both', 'films'), 'plausible', 'entertaining', 'elaborate', 'reputation', 'efforts', ('more', 'more'), ('most', 'notably'), 'really', 'pointless', 'destroy', 'alike', 'hanks', 'remake', 'connected', 'walks', 'fell', 'done', ('one', 'their'), 'room', 'list', ('however', 'when'), 'dedicated', 'progress', 'cards', 'martin', 'special', ('so', 'there'), 'sky', 'ridiculous', 'object', 'section', 'boredom', 'dreams', 'blockbuster', 'miscast', 've', 'appreciated', ('small', 'town'), 'average', 'shannon', 'terrifying', 'contrived', 'beautiful', 'twice', 'hostage', 'allen', 'bringing', ('all', 'too'), 'develops', 'devil', 'slightly', 'kong', 'language', 'security', 'promised', ('good', 'time'), 'help', 'comedy', 'uplifting', 'subplots', 'viewers', 'laughable', ('film', 'had'), 'investigation', 'written', ('out', 'film'), ('martial', 'arts'), 'moments', ('there', 'but'), 'weapons', 'disappointment']\n",
      "\n",
      "[('but', 1334), ('one', 1247), ('film', 1231), ('not', 1170), ('all', 1117), ('movie', 1095), ('out', 1080), ('so', 1047), ('there', 1046), ('like', 1043)]\n"
     ]
    }
   ],
   "source": [
    "vocab, df, ngram_counts = get_vocab(X_tr_raw, ngram_range=(1,3), keep_topN=5000, stop_words=stop_words)\n",
    "print(len(vocab))\n",
    "print()\n",
    "print(list(vocab)[:100])\n",
    "print()\n",
    "print(df.most_common()[:10])"
   ]
  },
  {
   "cell_type": "markdown",
   "metadata": {},
   "source": [
    "Then, you need to create vocabulary id -> word and id -> word dictionaries for reference:"
   ]
  },
  {
   "cell_type": "code",
   "execution_count": 11,
   "metadata": {
    "ExecuteTime": {
     "end_time": "2020-02-15T14:17:39.326811Z",
     "start_time": "2020-02-15T14:17:39.322256Z"
    }
   },
   "outputs": [],
   "source": [
    "# fill in your code...\n",
    "# generate word and corresponding id\n",
    "word_id = {}\n",
    "i = 0\n",
    "for i, w in enumerate(list(vocab)):\n",
    "    word_id[w] = i"
   ]
  },
  {
   "cell_type": "code",
   "execution_count": 12,
   "metadata": {},
   "outputs": [
    {
     "data": {
      "text/plain": [
       "{('might', 'well'): 0,\n",
       " ('not', 'so'): 1,\n",
       " ('few', 'years'): 2,\n",
       " 'cheating': 3,\n",
       " 'ups': 4,\n",
       " 'getting': 5,\n",
       " 'after': 6,\n",
       " 'join': 7,\n",
       " 'ask': 8,\n",
       " 'gross': 9,\n",
       " 'surrounding': 10,\n",
       " ('comic', 'relief'): 11,\n",
       " 'glenn': 12,\n",
       " ('little', 'too'): 13,\n",
       " ('beginning', 'end'): 14,\n",
       " ('after', 'being'): 15,\n",
       " ('know', 'but'): 16,\n",
       " 'drew': 17,\n",
       " 'issues': 18,\n",
       " 'travel': 19,\n",
       " 'path': 20,\n",
       " 'awake': 21,\n",
       " 'president': 22,\n",
       " ('their', 'characters'): 23,\n",
       " 'notice': 24,\n",
       " 'complex': 25,\n",
       " 'built': 26,\n",
       " 'groups': 27,\n",
       " ('both', 'films'): 28,\n",
       " 'plausible': 29,\n",
       " 'entertaining': 30,\n",
       " 'elaborate': 31,\n",
       " 'reputation': 32,\n",
       " 'efforts': 33,\n",
       " ('more', 'more'): 34,\n",
       " ('most', 'notably'): 35,\n",
       " 'really': 36,\n",
       " 'pointless': 37,\n",
       " 'destroy': 38,\n",
       " 'alike': 39,\n",
       " 'hanks': 40,\n",
       " 'remake': 41,\n",
       " 'connected': 42,\n",
       " 'walks': 43,\n",
       " 'fell': 44,\n",
       " 'done': 45,\n",
       " ('one', 'their'): 46,\n",
       " 'room': 47,\n",
       " 'list': 48,\n",
       " ('however', 'when'): 49,\n",
       " 'dedicated': 50,\n",
       " 'progress': 51,\n",
       " 'cards': 52,\n",
       " 'martin': 53,\n",
       " 'special': 54,\n",
       " ('so', 'there'): 55,\n",
       " 'sky': 56,\n",
       " 'ridiculous': 57,\n",
       " 'object': 58,\n",
       " 'section': 59,\n",
       " 'boredom': 60,\n",
       " 'dreams': 61,\n",
       " 'blockbuster': 62,\n",
       " 'miscast': 63,\n",
       " 've': 64,\n",
       " 'appreciated': 65,\n",
       " ('small', 'town'): 66,\n",
       " 'average': 67,\n",
       " 'shannon': 68,\n",
       " 'terrifying': 69,\n",
       " 'contrived': 70,\n",
       " 'beautiful': 71,\n",
       " 'twice': 72,\n",
       " 'hostage': 73,\n",
       " 'allen': 74,\n",
       " 'bringing': 75,\n",
       " ('all', 'too'): 76,\n",
       " 'develops': 77,\n",
       " 'devil': 78,\n",
       " 'slightly': 79,\n",
       " 'kong': 80,\n",
       " 'language': 81,\n",
       " 'security': 82,\n",
       " 'promised': 83,\n",
       " ('good', 'time'): 84,\n",
       " 'help': 85,\n",
       " 'comedy': 86,\n",
       " 'uplifting': 87,\n",
       " 'subplots': 88,\n",
       " 'viewers': 89,\n",
       " 'laughable': 90,\n",
       " ('film', 'had'): 91,\n",
       " 'investigation': 92,\n",
       " 'written': 93,\n",
       " ('out', 'film'): 94,\n",
       " ('martial', 'arts'): 95,\n",
       " 'moments': 96,\n",
       " ('there', 'but'): 97,\n",
       " 'weapons': 98,\n",
       " 'disappointment': 99,\n",
       " 'jim': 100,\n",
       " 'amounts': 101,\n",
       " ('never', 'seen'): 102,\n",
       " 'reporter': 103,\n",
       " 'everyone': 104,\n",
       " 'hands': 105,\n",
       " 'moral': 106,\n",
       " 'eat': 107,\n",
       " 'praise': 108,\n",
       " 'interviews': 109,\n",
       " 'gas': 110,\n",
       " 'frightening': 111,\n",
       " 'develop': 112,\n",
       " 'll': 113,\n",
       " 'granted': 114,\n",
       " 'scott': 115,\n",
       " ('much', 'better'): 116,\n",
       " ('around', 'him'): 117,\n",
       " 'hang': 118,\n",
       " 'internet': 119,\n",
       " ('doesn', 'really'): 120,\n",
       " 'collection': 121,\n",
       " 'get': 122,\n",
       " 'frame': 123,\n",
       " 'reference': 124,\n",
       " 'island': 125,\n",
       " 'wanders': 126,\n",
       " 'stupid': 127,\n",
       " ('picks', 'up'): 128,\n",
       " 'fortunately': 129,\n",
       " ('character', 'development'): 130,\n",
       " 'feet': 131,\n",
       " 'crowd': 132,\n",
       " 'barry': 133,\n",
       " ('had', 'no'): 134,\n",
       " 'answers': 135,\n",
       " ('slow', 'motion'): 136,\n",
       " 'cares': 137,\n",
       " 'con': 138,\n",
       " 'worn': 139,\n",
       " ('first', 'all'): 140,\n",
       " ('just', 'about'): 141,\n",
       " ('all', 'all'): 142,\n",
       " 'dare': 143,\n",
       " 'greatest': 144,\n",
       " ('neve', 'campbell'): 145,\n",
       " 'waves': 146,\n",
       " 'realistic': 147,\n",
       " 'surprising': 148,\n",
       " 'comedian': 149,\n",
       " ('first', 'place'): 150,\n",
       " 'attracted': 151,\n",
       " 'look': 152,\n",
       " 'resembles': 153,\n",
       " 'commentary': 154,\n",
       " 'elfman': 155,\n",
       " 'jurassic': 156,\n",
       " 'sidney': 157,\n",
       " 'someone': 158,\n",
       " 'mentally': 159,\n",
       " 'impressed': 160,\n",
       " 'expectations': 161,\n",
       " 'admirable': 162,\n",
       " ('film', 'film'): 163,\n",
       " ('halfway', 'through'): 164,\n",
       " 'opposite': 165,\n",
       " 'motions': 166,\n",
       " ('how', 'about'): 167,\n",
       " 'loose': 168,\n",
       " 'extended': 169,\n",
       " 'seeing': 170,\n",
       " 'pulp': 171,\n",
       " 'anthony': 172,\n",
       " 'suddenly': 173,\n",
       " 'regardless': 174,\n",
       " 'guilt': 175,\n",
       " 'baby': 176,\n",
       " 'giving': 177,\n",
       " 'pure': 178,\n",
       " ('feature', 'film'): 179,\n",
       " ('would', 'take'): 180,\n",
       " ('take', 'over'): 181,\n",
       " 'graphic': 182,\n",
       " 'girl': 183,\n",
       " 'fit': 184,\n",
       " 'anymore': 185,\n",
       " 'guessing': 186,\n",
       " 'enjoying': 187,\n",
       " 'loaded': 188,\n",
       " 'friends': 189,\n",
       " 'bugs': 190,\n",
       " 'allows': 191,\n",
       " ('would', 'want'): 192,\n",
       " ('their', 'first'): 193,\n",
       " ('movie', 'if'): 194,\n",
       " 'fly': 195,\n",
       " 'conspiracy': 196,\n",
       " 'pg': 197,\n",
       " 'conventional': 198,\n",
       " 'civil': 199,\n",
       " 'richard': 200,\n",
       " 'predict': 201,\n",
       " ('film', 'makes'): 202,\n",
       " 'distracting': 203,\n",
       " 'studios': 204,\n",
       " 'roles': 205,\n",
       " 'paul': 206,\n",
       " 'similarly': 207,\n",
       " 'boring': 208,\n",
       " 'guess': 209,\n",
       " ('chemistry', 'between'): 210,\n",
       " 'viewer': 211,\n",
       " ('don', 'care'): 212,\n",
       " 'got': 213,\n",
       " 'background': 214,\n",
       " ('will', 'probably'): 215,\n",
       " ('never', 'really'): 216,\n",
       " 'steal': 217,\n",
       " ('than', 'one'): 218,\n",
       " 'comedic': 219,\n",
       " 'crime': 220,\n",
       " 'ms': 221,\n",
       " 'aging': 222,\n",
       " 'secret': 223,\n",
       " 'ambitious': 224,\n",
       " 'eager': 225,\n",
       " 'otherwise': 226,\n",
       " 'williams': 227,\n",
       " 'scares': 228,\n",
       " 'manage': 229,\n",
       " 'decided': 230,\n",
       " 'pathetic': 231,\n",
       " 'realizing': 232,\n",
       " 'mark': 233,\n",
       " ('bad', 'film'): 234,\n",
       " ('one', 'scene'): 235,\n",
       " 'plain': 236,\n",
       " 'satisfy': 237,\n",
       " ('woody', 'allen'): 238,\n",
       " 'fake': 239,\n",
       " 'hopes': 240,\n",
       " 'find': 241,\n",
       " 'wonderfully': 242,\n",
       " 'argument': 243,\n",
       " 'suit': 244,\n",
       " 'sharp': 245,\n",
       " ('but', 'nothing'): 246,\n",
       " ('no', 'more'): 247,\n",
       " 'trouble': 248,\n",
       " 'miserable': 249,\n",
       " 'ran': 250,\n",
       " ('some', 'time'): 251,\n",
       " 'protagonist': 252,\n",
       " 'humorous': 253,\n",
       " 'coherent': 254,\n",
       " ('follow', 'up'): 255,\n",
       " 'todd': 256,\n",
       " 'dozen': 257,\n",
       " 'wreck': 258,\n",
       " 'requires': 259,\n",
       " 'offended': 260,\n",
       " 'tear': 261,\n",
       " ('couldn', 'help'): 262,\n",
       " 'value': 263,\n",
       " 'books': 264,\n",
       " 'haunting': 265,\n",
       " 'period': 266,\n",
       " ('lot', 'fun'): 267,\n",
       " 'simply': 268,\n",
       " 'times': 269,\n",
       " 'pity': 270,\n",
       " ('two', 'men'): 271,\n",
       " 'yet': 272,\n",
       " 'portraying': 273,\n",
       " ('end', 'movie'): 274,\n",
       " 'hunt': 275,\n",
       " 'voice': 276,\n",
       " 'sat': 277,\n",
       " 'enjoy': 278,\n",
       " 'successfully': 279,\n",
       " 'decides': 280,\n",
       " 'god': 281,\n",
       " 'program': 282,\n",
       " 'arrow': 283,\n",
       " 'strangely': 284,\n",
       " 'nightmares': 285,\n",
       " 'jet': 286,\n",
       " 'tried': 287,\n",
       " ('but', 're'): 288,\n",
       " 'outcome': 289,\n",
       " 'lesser': 290,\n",
       " 'accurate': 291,\n",
       " 'drinking': 292,\n",
       " 'situation': 293,\n",
       " 'numbers': 294,\n",
       " 'prison': 295,\n",
       " 'required': 296,\n",
       " 'jay': 297,\n",
       " ('whether', 'not'): 298,\n",
       " 'guilty': 299,\n",
       " 'fi': 300,\n",
       " ('matter', 'how'): 301,\n",
       " 'throwing': 302,\n",
       " 'fix': 303,\n",
       " ('but', 'their'): 304,\n",
       " ('through', 'film'): 305,\n",
       " ('between', 'two'): 306,\n",
       " 'spends': 307,\n",
       " 'firm': 308,\n",
       " 'eyes': 309,\n",
       " 'naturally': 310,\n",
       " 'served': 311,\n",
       " 'rule': 312,\n",
       " 'steps': 313,\n",
       " ('wonder', 'why'): 314,\n",
       " 'hope': 315,\n",
       " 'mike': 316,\n",
       " ('make', 'me'): 317,\n",
       " ('film', 'festival'): 318,\n",
       " 'social': 319,\n",
       " 'linda': 320,\n",
       " 'latter': 321,\n",
       " ('knows', 'how'): 322,\n",
       " ('when', 'first'): 323,\n",
       " 'method': 324,\n",
       " 'susan': 325,\n",
       " 'subject': 326,\n",
       " 'presumably': 327,\n",
       " 'face': 328,\n",
       " 'scream': 329,\n",
       " 'damon': 330,\n",
       " ('jack', 'nicholson'): 331,\n",
       " 'techniques': 332,\n",
       " 'curiosity': 333,\n",
       " ('academy', 'award'): 334,\n",
       " 'became': 335,\n",
       " 'thief': 336,\n",
       " 'level': 337,\n",
       " ('all', 'but'): 338,\n",
       " 'dealer': 339,\n",
       " ('comes', 'across'): 340,\n",
       " 'long': 341,\n",
       " 'relies': 342,\n",
       " ('made', 'me'): 343,\n",
       " 'convoluted': 344,\n",
       " ('make', 'film'): 345,\n",
       " 'draw': 346,\n",
       " 'waters': 347,\n",
       " 'shocking': 348,\n",
       " 'overbearing': 349,\n",
       " ('cover', 'up'): 350,\n",
       " 'ripped': 351,\n",
       " 'stick': 352,\n",
       " 'half': 353,\n",
       " ('many', 'people'): 354,\n",
       " 'storyline': 355,\n",
       " ('film', 'isn'): 356,\n",
       " 'writer': 357,\n",
       " ('work', 'out'): 358,\n",
       " 'planet': 359,\n",
       " 'never': 360,\n",
       " 'angry': 361,\n",
       " 'fifteen': 362,\n",
       " 'choose': 363,\n",
       " 'producers': 364,\n",
       " ('times', 'before'): 365,\n",
       " 'frustrating': 366,\n",
       " ('no', 'other'): 367,\n",
       " 'freedom': 368,\n",
       " 'street': 369,\n",
       " 'various': 370,\n",
       " ('one', 'liners'): 371,\n",
       " ('just', 'because'): 372,\n",
       " ('comes', 'back'): 373,\n",
       " ('make', 'movie'): 374,\n",
       " 'aspect': 375,\n",
       " 'finally': 376,\n",
       " 'works': 377,\n",
       " ('there', 'really'): 378,\n",
       " 'overly': 379,\n",
       " 'mere': 380,\n",
       " 'fu': 381,\n",
       " 'terms': 382,\n",
       " 'disappears': 383,\n",
       " 'change': 384,\n",
       " 'normal': 385,\n",
       " 'people': 386,\n",
       " ('but', 'none'): 387,\n",
       " ('not', 'going'): 388,\n",
       " 'upcoming': 389,\n",
       " 'style': 390,\n",
       " 'sucks': 391,\n",
       " 'outrageous': 392,\n",
       " 'comic': 393,\n",
       " 'holiday': 394,\n",
       " 'generated': 395,\n",
       " 'california': 396,\n",
       " 'surface': 397,\n",
       " 'my': 398,\n",
       " 'luckily': 399,\n",
       " 'anywhere': 400,\n",
       " 'essentially': 401,\n",
       " 'grace': 402,\n",
       " 'majority': 403,\n",
       " 'ticket': 404,\n",
       " 'gain': 405,\n",
       " 'nobody': 406,\n",
       " 'pacing': 407,\n",
       " 'entertain': 408,\n",
       " 'fits': 409,\n",
       " ('romantic', 'comedy'): 410,\n",
       " 'wise': 411,\n",
       " 'jeff': 412,\n",
       " 'seek': 413,\n",
       " 'nowhere': 414,\n",
       " 'drag': 415,\n",
       " 'took': 416,\n",
       " 'your': 417,\n",
       " 'master': 418,\n",
       " 'musical': 419,\n",
       " 'body': 420,\n",
       " ('so', 'long'): 421,\n",
       " 'hurt': 422,\n",
       " ('more', 'often'): 423,\n",
       " 'win': 424,\n",
       " 'actor': 425,\n",
       " 'commercials': 426,\n",
       " 'goes': 427,\n",
       " 'wit': 428,\n",
       " 'night': 429,\n",
       " ('if', 'anything'): 430,\n",
       " 'chicago': 431,\n",
       " 'missing': 432,\n",
       " 'brown': 433,\n",
       " 'interest': 434,\n",
       " 'provoking': 435,\n",
       " 'imagine': 436,\n",
       " 'skip': 437,\n",
       " ('tv', 'series'): 438,\n",
       " 'lifeless': 439,\n",
       " 'born': 440,\n",
       " ('if', 'there'): 441,\n",
       " 'feels': 442,\n",
       " 'beating': 443,\n",
       " 'struggle': 444,\n",
       " 'nine': 445,\n",
       " 'field': 446,\n",
       " 'robot': 447,\n",
       " 'maker': 448,\n",
       " 'dull': 449,\n",
       " 'just': 450,\n",
       " 'de': 451,\n",
       " ('go', 'out'): 452,\n",
       " 'revolves': 453,\n",
       " 'robbery': 454,\n",
       " 'eerie': 455,\n",
       " ('oh', 'yeah'): 456,\n",
       " 'mountain': 457,\n",
       " 'amidst': 458,\n",
       " 'protect': 459,\n",
       " 'cliches': 460,\n",
       " 'neeson': 461,\n",
       " 'survivors': 462,\n",
       " 'useless': 463,\n",
       " ('world', 'war'): 464,\n",
       " ('one', 'not'): 465,\n",
       " 'dead': 466,\n",
       " 'eddie': 467,\n",
       " 'decide': 468,\n",
       " 'lousy': 469,\n",
       " 'tragic': 470,\n",
       " 'threatens': 471,\n",
       " 'performers': 472,\n",
       " 'marvelous': 473,\n",
       " ('film', 'ever'): 474,\n",
       " 'families': 475,\n",
       " 'particularly': 476,\n",
       " 'touching': 477,\n",
       " ('not', 'mention'): 478,\n",
       " 'raising': 479,\n",
       " 'inane': 480,\n",
       " ('all', 'more'): 481,\n",
       " 'drives': 482,\n",
       " 'learn': 483,\n",
       " 'jumps': 484,\n",
       " 'grasp': 485,\n",
       " 'low': 486,\n",
       " 'strikes': 487,\n",
       " 'fights': 488,\n",
       " 'consistently': 489,\n",
       " ('figure', 'out'): 490,\n",
       " 'piece': 491,\n",
       " ('set', 'pieces'): 492,\n",
       " 'shame': 493,\n",
       " 'kidnapped': 494,\n",
       " 'matrix': 495,\n",
       " 'private': 496,\n",
       " 'passed': 497,\n",
       " ('films', 'year'): 498,\n",
       " 'hunting': 499,\n",
       " ('first', 'two'): 500,\n",
       " 'lucas': 501,\n",
       " 'vice': 502,\n",
       " ('each', 'other'): 503,\n",
       " ('relationship', 'between'): 504,\n",
       " ('but', 'rather'): 505,\n",
       " 'category': 506,\n",
       " ('life', 'but'): 507,\n",
       " ('probably', 'best'): 508,\n",
       " 'newcomer': 509,\n",
       " ('because', 're'): 510,\n",
       " 'recently': 511,\n",
       " 'product': 512,\n",
       " 'failing': 513,\n",
       " 'held': 514,\n",
       " 'apparent': 515,\n",
       " 'history': 516,\n",
       " 'tired': 517,\n",
       " 'stuck': 518,\n",
       " ('really', 'bad'): 519,\n",
       " 'wrong': 520,\n",
       " 'model': 521,\n",
       " 'facial': 522,\n",
       " 'table': 523,\n",
       " 'sit': 524,\n",
       " ('him', 'into'): 525,\n",
       " 'romance': 526,\n",
       " 'uninteresting': 527,\n",
       " ('although', 'not'): 528,\n",
       " 'ultra': 529,\n",
       " 'account': 530,\n",
       " 'remote': 531,\n",
       " ('each', 'one'): 532,\n",
       " ('don', 'see'): 533,\n",
       " ('sci', 'fi'): 534,\n",
       " ('absolutely', 'nothing'): 535,\n",
       " ('good', 'performances'): 536,\n",
       " 'deeply': 537,\n",
       " 'clue': 538,\n",
       " 'asked': 539,\n",
       " ('bad', 'guys'): 540,\n",
       " 'namely': 541,\n",
       " 'orders': 542,\n",
       " 'imagination': 543,\n",
       " 'lively': 544,\n",
       " 'ideal': 545,\n",
       " 'live': 546,\n",
       " ('one', 'big'): 547,\n",
       " ('but', 'not'): 548,\n",
       " 'michelle': 549,\n",
       " 'cheesy': 550,\n",
       " 'off': 551,\n",
       " 'vacation': 552,\n",
       " 'grows': 553,\n",
       " 'excuse': 554,\n",
       " 'whose': 555,\n",
       " 'properly': 556,\n",
       " ('seen', 'all'): 557,\n",
       " ('box', 'office'): 558,\n",
       " 'weapon': 559,\n",
       " 'weren': 560,\n",
       " 'sequence': 561,\n",
       " 'hopkins': 562,\n",
       " ('john', 'woo'): 563,\n",
       " 'matter': 564,\n",
       " 'themes': 565,\n",
       " 'holding': 566,\n",
       " ('united', 'states'): 567,\n",
       " 'timing': 568,\n",
       " 'emotional': 569,\n",
       " ('not', 'good'): 570,\n",
       " 'happily': 571,\n",
       " 'afterwards': 572,\n",
       " 'assigned': 573,\n",
       " 'baldwin': 574,\n",
       " ('not', 'one'): 575,\n",
       " 'crazed': 576,\n",
       " 'cusack': 577,\n",
       " 'phil': 578,\n",
       " 'ego': 579,\n",
       " 'chose': 580,\n",
       " 'installment': 581,\n",
       " 'force': 582,\n",
       " 'must': 583,\n",
       " 'large': 584,\n",
       " 'neighbor': 585,\n",
       " ('art', 'direction'): 586,\n",
       " 'six': 587,\n",
       " ('soap', 'opera'): 588,\n",
       " 'random': 589,\n",
       " 'tim': 590,\n",
       " 'carter': 591,\n",
       " 'route': 592,\n",
       " 'mortal': 593,\n",
       " 'kate': 594,\n",
       " 'prior': 595,\n",
       " 'editing': 596,\n",
       " 'phony': 597,\n",
       " 'delivering': 598,\n",
       " 'capture': 599,\n",
       " 'respective': 600,\n",
       " 'sutherland': 601,\n",
       " 'bored': 602,\n",
       " 'receive': 603,\n",
       " 'prominent': 604,\n",
       " 'separate': 605,\n",
       " ('doesn', 'get'): 606,\n",
       " 'calls': 607,\n",
       " 'plays': 608,\n",
       " 'relationship': 609,\n",
       " 'clear': 610,\n",
       " ('science', 'fiction'): 611,\n",
       " 'screens': 612,\n",
       " ('into', 'movie'): 613,\n",
       " 'stereotypical': 614,\n",
       " 'sentence': 615,\n",
       " 'smooth': 616,\n",
       " 'presentation': 617,\n",
       " 'relatively': 618,\n",
       " ('but', 'after'): 619,\n",
       " 'concerns': 620,\n",
       " 'stylish': 621,\n",
       " 'portions': 622,\n",
       " 'believable': 623,\n",
       " 'bear': 624,\n",
       " 'sea': 625,\n",
       " ('good', 'thing'): 626,\n",
       " 'suspect': 627,\n",
       " 'naked': 628,\n",
       " 'calling': 629,\n",
       " 'directors': 630,\n",
       " ('film', 'however'): 631,\n",
       " 'directed': 632,\n",
       " 'remain': 633,\n",
       " 'discover': 634,\n",
       " 'sight': 635,\n",
       " 'person': 636,\n",
       " 'boxing': 637,\n",
       " 'breaking': 638,\n",
       " ('only', 'reason'): 639,\n",
       " 'ending': 640,\n",
       " 'our': 641,\n",
       " 'distance': 642,\n",
       " 'describe': 643,\n",
       " 'advantage': 644,\n",
       " 'butt': 645,\n",
       " ('one', 'more'): 646,\n",
       " 'extra': 647,\n",
       " ('something', 'more'): 648,\n",
       " 'besides': 649,\n",
       " 'robert': 650,\n",
       " 'comfortable': 651,\n",
       " 'wonder': 652,\n",
       " 'why': 653,\n",
       " ('years', 'after'): 654,\n",
       " 'police': 655,\n",
       " 'fatal': 656,\n",
       " 'lack': 657,\n",
       " 'shoots': 658,\n",
       " 'acclaimed': 659,\n",
       " 'add': 660,\n",
       " ('made', 'up'): 661,\n",
       " 'annie': 662,\n",
       " ('about', 'movie'): 663,\n",
       " 'explained': 664,\n",
       " ('come', 'out'): 665,\n",
       " 'several': 666,\n",
       " 'shows': 667,\n",
       " 'herself': 668,\n",
       " 'occurs': 669,\n",
       " ('action', 'film'): 670,\n",
       " ('how', 'many'): 671,\n",
       " 'established': 672,\n",
       " 'familiar': 673,\n",
       " 'overdone': 674,\n",
       " 'discuss': 675,\n",
       " 'individual': 676,\n",
       " 'harris': 677,\n",
       " ('but', 'doesn'): 678,\n",
       " 'poor': 679,\n",
       " 'hype': 680,\n",
       " 'hey': 681,\n",
       " 'love': 682,\n",
       " 'frankly': 683,\n",
       " 'convey': 684,\n",
       " ('one', 'two'): 685,\n",
       " 'humans': 686,\n",
       " 'shooting': 687,\n",
       " 'responsible': 688,\n",
       " 'corny': 689,\n",
       " ('real', 'life'): 690,\n",
       " 'treatment': 691,\n",
       " 'curtis': 692,\n",
       " 'actually': 693,\n",
       " ('but', 'also'): 694,\n",
       " 'peace': 695,\n",
       " 'directing': 696,\n",
       " ('music', 'video'): 697,\n",
       " 'artistic': 698,\n",
       " 'potentially': 699,\n",
       " 'further': 700,\n",
       " ('than', 'most'): 701,\n",
       " 'claims': 702,\n",
       " ('award', 'winning'): 703,\n",
       " 'age': 704,\n",
       " 'accidentally': 705,\n",
       " 'murphy': 706,\n",
       " ('ended', 'up'): 707,\n",
       " 'desperate': 708,\n",
       " 'stewart': 709,\n",
       " 'confusing': 710,\n",
       " 'scheme': 711,\n",
       " 'token': 712,\n",
       " 'cell': 713,\n",
       " 'red': 714,\n",
       " 'rights': 715,\n",
       " 'questions': 716,\n",
       " 'shoulders': 717,\n",
       " 'toys': 718,\n",
       " 'front': 719,\n",
       " 'events': 720,\n",
       " ('up', 'but'): 721,\n",
       " 'physical': 722,\n",
       " 'impression': 723,\n",
       " 'had': 724,\n",
       " 'bobby': 725,\n",
       " 'warm': 726,\n",
       " 'mysterious': 727,\n",
       " 'promise': 728,\n",
       " 'stars': 729,\n",
       " 'ii': 730,\n",
       " 'newly': 731,\n",
       " 'ones': 732,\n",
       " 'beast': 733,\n",
       " ('little', 'more'): 734,\n",
       " 'anything': 735,\n",
       " 'character': 736,\n",
       " 'broadcast': 737,\n",
       " 'die': 738,\n",
       " 'brain': 739,\n",
       " 'apartment': 740,\n",
       " ('most', 'people'): 741,\n",
       " 'amusing': 742,\n",
       " 'teenage': 743,\n",
       " 'based': 744,\n",
       " 'edited': 745,\n",
       " 'trilogy': 746,\n",
       " ('horror', 'movie'): 747,\n",
       " 'fortune': 748,\n",
       " 'dating': 749,\n",
       " 'gorgeous': 750,\n",
       " 'catches': 751,\n",
       " 'trio': 752,\n",
       " 'clearly': 753,\n",
       " 'crack': 754,\n",
       " 'called': 755,\n",
       " 'disturbed': 756,\n",
       " 'speak': 757,\n",
       " ('no', 'idea'): 758,\n",
       " 'woo': 759,\n",
       " 'fun': 760,\n",
       " 'harsh': 761,\n",
       " ('sounds', 'like'): 762,\n",
       " ('any', 'sense'): 763,\n",
       " 'wide': 764,\n",
       " ('phantom', 'menace'): 765,\n",
       " 'possessed': 766,\n",
       " 'elderly': 767,\n",
       " 'heavy': 768,\n",
       " 'handle': 769,\n",
       " 'seen': 770,\n",
       " 'story': 771,\n",
       " 'fight': 772,\n",
       " 'glaring': 773,\n",
       " 'overcome': 774,\n",
       " ('give', 'up'): 775,\n",
       " 'critical': 776,\n",
       " 'either': 777,\n",
       " 'former': 778,\n",
       " 'liam': 779,\n",
       " 'dialog': 780,\n",
       " 'appropriate': 781,\n",
       " 'becomes': 782,\n",
       " ('so', 'well'): 783,\n",
       " 'crossing': 784,\n",
       " 'let': 785,\n",
       " 'standout': 786,\n",
       " 'created': 787,\n",
       " 'spoken': 788,\n",
       " 'depressed': 789,\n",
       " 'inept': 790,\n",
       " 'assassin': 791,\n",
       " 'aside': 792,\n",
       " 'embarrassed': 793,\n",
       " 'exciting': 794,\n",
       " 'profound': 795,\n",
       " 'results': 796,\n",
       " 'likes': 797,\n",
       " 'pay': 798,\n",
       " 'friday': 799,\n",
       " 'mass': 800,\n",
       " 'pet': 801,\n",
       " 'steven': 802,\n",
       " 'sound': 803,\n",
       " 'michael': 804,\n",
       " ('than', 'just'): 805,\n",
       " 'drama': 806,\n",
       " 'mild': 807,\n",
       " ('because', 'not'): 808,\n",
       " 'nurse': 809,\n",
       " 'aspects': 810,\n",
       " 'short': 811,\n",
       " 'tremendous': 812,\n",
       " 'ice': 813,\n",
       " 'larger': 814,\n",
       " 'teaching': 815,\n",
       " 'art': 816,\n",
       " 'full': 817,\n",
       " 'hear': 818,\n",
       " 'insult': 819,\n",
       " 'whole': 820,\n",
       " 'bleak': 821,\n",
       " 'jeffrey': 822,\n",
       " 'craig': 823,\n",
       " 'down': 824,\n",
       " 'little': 825,\n",
       " 'effect': 826,\n",
       " 'pierce': 827,\n",
       " 'use': 828,\n",
       " 'millions': 829,\n",
       " 'include': 830,\n",
       " 'highlights': 831,\n",
       " ('one', 'movie'): 832,\n",
       " ('story', 'but'): 833,\n",
       " 'caliber': 834,\n",
       " ('but', 'too'): 835,\n",
       " 'affleck': 836,\n",
       " 'seriously': 837,\n",
       " 'johnny': 838,\n",
       " 'meat': 839,\n",
       " 'southern': 840,\n",
       " 'pride': 841,\n",
       " 'folks': 842,\n",
       " 'tongue': 843,\n",
       " ('las', 'vegas'): 844,\n",
       " 'realism': 845,\n",
       " 'job': 846,\n",
       " 'related': 847,\n",
       " 'stopped': 848,\n",
       " 'actions': 849,\n",
       " 'place': 850,\n",
       " 'loser': 851,\n",
       " ('want', 'see'): 852,\n",
       " 'suffer': 853,\n",
       " 'charge': 854,\n",
       " 'strip': 855,\n",
       " 'root': 856,\n",
       " 'utterly': 857,\n",
       " 'combination': 858,\n",
       " 'wear': 859,\n",
       " 'players': 860,\n",
       " 'warning': 861,\n",
       " 'fiction': 862,\n",
       " 'window': 863,\n",
       " 'sweet': 864,\n",
       " 'degree': 865,\n",
       " 'species': 866,\n",
       " 'appreciate': 867,\n",
       " 'weak': 868,\n",
       " ('tells', 'story'): 869,\n",
       " 'inspiration': 870,\n",
       " ('good', 'film'): 871,\n",
       " 'picking': 872,\n",
       " ('just', 'don'): 873,\n",
       " ('my', 'favorite'): 874,\n",
       " 'middle': 875,\n",
       " 'come': 876,\n",
       " ('robin', 'williams'): 877,\n",
       " 'adults': 878,\n",
       " 'possibly': 879,\n",
       " 'conflict': 880,\n",
       " 'whenever': 881,\n",
       " 'strength': 882,\n",
       " 'thanks': 883,\n",
       " 'mask': 884,\n",
       " ('but', 'instead'): 885,\n",
       " ('our', 'heroes'): 886,\n",
       " 'nonetheless': 887,\n",
       " 'edge': 888,\n",
       " 'breaks': 889,\n",
       " ('plot', 'twists'): 890,\n",
       " 'lie': 891,\n",
       " 'likable': 892,\n",
       " ('not', 'particularly'): 893,\n",
       " ('first', 'half'): 894,\n",
       " ('him', 'out'): 895,\n",
       " 'partner': 896,\n",
       " 'theme': 897,\n",
       " ('way', 'through'): 898,\n",
       " 'sitting': 899,\n",
       " 'revelation': 900,\n",
       " 'waste': 901,\n",
       " ('but', 'movie'): 902,\n",
       " 'running': 903,\n",
       " 'mixed': 904,\n",
       " 'move': 905,\n",
       " 'name': 906,\n",
       " 'strange': 907,\n",
       " 'spectacular': 908,\n",
       " 'trapped': 909,\n",
       " ('but', 'would'): 910,\n",
       " 'note': 911,\n",
       " ('most', 'interesting'): 912,\n",
       " ('will', 'make'): 913,\n",
       " 'delight': 914,\n",
       " 'dad': 915,\n",
       " ('film', 'plot'): 916,\n",
       " 'save': 917,\n",
       " 'wan': 918,\n",
       " 'extraordinary': 919,\n",
       " 'willis': 920,\n",
       " ('one', 'thing'): 921,\n",
       " 'crisp': 922,\n",
       " 'premise': 923,\n",
       " ('bit', 'more'): 924,\n",
       " 'unfunny': 925,\n",
       " 'pie': 926,\n",
       " ('happy', 'ending'): 927,\n",
       " 'twist': 928,\n",
       " ('my', 'opinion'): 929,\n",
       " 'daily': 930,\n",
       " 'wasted': 931,\n",
       " ('but', 'soon'): 932,\n",
       " 'bare': 933,\n",
       " 'wants': 934,\n",
       " ('pretty', 'well'): 935,\n",
       " ('film', 'director'): 936,\n",
       " ('film', 'most'): 937,\n",
       " 'caught': 938,\n",
       " 'challenging': 939,\n",
       " 'black': 940,\n",
       " 'motives': 941,\n",
       " 'disbelief': 942,\n",
       " 'aid': 943,\n",
       " 'gun': 944,\n",
       " 'portrait': 945,\n",
       " ('make', 'him'): 946,\n",
       " 'fire': 947,\n",
       " ('but', 'there'): 948,\n",
       " 'kubrick': 949,\n",
       " 'sounding': 950,\n",
       " 'pieces': 951,\n",
       " ('seen', 'film'): 952,\n",
       " 'lawrence': 953,\n",
       " 'town': 954,\n",
       " 'house': 955,\n",
       " 'adapted': 956,\n",
       " 'calm': 957,\n",
       " 'underneath': 958,\n",
       " 'nicely': 959,\n",
       " ('great', 'film'): 960,\n",
       " ('tv', 'show'): 961,\n",
       " ('five', 'minutes'): 962,\n",
       " ('feel', 'good'): 963,\n",
       " 'agent': 964,\n",
       " 'initially': 965,\n",
       " 'younger': 966,\n",
       " ('hour', 'half'): 967,\n",
       " 'experiment': 968,\n",
       " 'hate': 969,\n",
       " ('some', 'sort'): 970,\n",
       " 'search': 971,\n",
       " ('oscar', 'nomination'): 972,\n",
       " 'ad': 973,\n",
       " 'likeable': 974,\n",
       " 'immediately': 975,\n",
       " ('not', 'even'): 976,\n",
       " ('million', 'dollars'): 977,\n",
       " ('first', 'movie'): 978,\n",
       " 'read': 979,\n",
       " 'year': 980,\n",
       " 'chick': 981,\n",
       " 'al': 982,\n",
       " 'pilot': 983,\n",
       " 'form': 984,\n",
       " ('their', 'roles'): 985,\n",
       " 'statement': 986,\n",
       " 'keeping': 987,\n",
       " ('kung', 'fu'): 988,\n",
       " 'topic': 989,\n",
       " 'hears': 990,\n",
       " 'cops': 991,\n",
       " 'astronaut': 992,\n",
       " ('far', 'superior'): 993,\n",
       " 'finding': 994,\n",
       " 'strong': 995,\n",
       " 'pat': 996,\n",
       " 'gives': 997,\n",
       " ('film', 'also'): 998,\n",
       " 'oliver': 999,\n",
       " ...}"
      ]
     },
     "execution_count": 12,
     "metadata": {},
     "output_type": "execute_result"
    }
   ],
   "source": [
    "word_id"
   ]
  },
  {
   "cell_type": "markdown",
   "metadata": {},
   "source": [
    "Now you should be able to extract n-grams for each text in the training, development and test sets:"
   ]
  },
  {
   "cell_type": "code",
   "execution_count": 13,
   "metadata": {
    "ExecuteTime": {
     "end_time": "2020-02-15T14:17:40.213253Z",
     "start_time": "2020-02-15T14:17:39.329147Z"
    }
   },
   "outputs": [],
   "source": [
    "# fill in your code...\n",
    "X_train_ngram = []\n",
    "X_dev_ngram = []\n",
    "X_test_ngram = []\n",
    "\n",
    "# generate 3 file's ngrams list\n",
    "for i in X_tr_raw:\n",
    "    X_train_ngram.append(extract_ngrams(i, ngram_range=(1,3), token_pattern=r'\\b[A-Za-z][A-Za-z]+\\b', stop_words=stop_words, vocab=vocab))\n",
    "for i in X_dev_raw:\n",
    "    X_dev_ngram.append(extract_ngrams(i, ngram_range=(1,3), token_pattern=r'\\b[A-Za-z][A-Za-z]+\\b', stop_words=stop_words, vocab=vocab))\n",
    "for i in X_test_raw:\n",
    "    X_test_ngram.append(extract_ngrams(i, ngram_range=(1,3), token_pattern=r'\\b[A-Za-z][A-Za-z]+\\b', stop_words=stop_words, vocab=vocab))"
   ]
  },
  {
   "cell_type": "code",
   "execution_count": 14,
   "metadata": {},
   "outputs": [],
   "source": [
    "#X_train_ngram\n",
    "#X_dev_ngram\n",
    "#X_test_ngram"
   ]
  },
  {
   "cell_type": "markdown",
   "metadata": {},
   "source": [
    "## Vectorise documents "
   ]
  },
  {
   "cell_type": "markdown",
   "metadata": {},
   "source": [
    "Next, write a function `vectoriser` to obtain Bag-of-ngram representations for a list of documents. The function should take as input:\n",
    "- `X_ngram`: a list of texts (documents), where each text is represented as list of n-grams in the `vocab`\n",
    "- `vocab`: a set of n-grams to be used for representing the documents\n",
    "\n",
    "and return:\n",
    "- `X_vec`: an array with dimensionality Nx|vocab| where N is the number of documents and |vocab| is the size of the vocabulary. Each element of the array should represent the frequency of a given n-gram in a document.\n"
   ]
  },
  {
   "cell_type": "code",
   "execution_count": 15,
   "metadata": {
    "ExecuteTime": {
     "end_time": "2020-02-15T14:17:40.219201Z",
     "start_time": "2020-02-15T14:17:40.215129Z"
    }
   },
   "outputs": [],
   "source": [
    "def vectorise(X_ngram, vocab):\n",
    "    \n",
    "    # fill in your code...\n",
    "    X_vec = []\n",
    "    for i in X_ngram:\n",
    "        # creater counter object\n",
    "        counter = Counter(i)\n",
    "        # create zero lists\n",
    "        vector = list(0 for j in range(len(vocab)))         \n",
    "        for j in counter.keys():\n",
    "            # add number into list correspond to the position\n",
    "            vector[word_id[j]] = vector[word_id[j]]+ counter[j]\n",
    "        X_vec.append(vector)\n",
    "    # change to np array format    \n",
    "    X_vec = np.array(X_vec)\n",
    "        \n",
    "    \n",
    "    return X_vec"
   ]
  },
  {
   "cell_type": "markdown",
   "metadata": {},
   "source": [
    "Finally, use `vectorise` to obtain document vectors for each document in the train, development and test set. You should extract both count and tf.idf vectors respectively:"
   ]
  },
  {
   "cell_type": "markdown",
   "metadata": {},
   "source": [
    "#### Count vectors"
   ]
  },
  {
   "cell_type": "code",
   "execution_count": 16,
   "metadata": {
    "ExecuteTime": {
     "end_time": "2020-02-15T14:17:41.999574Z",
     "start_time": "2020-02-15T14:17:40.376534Z"
    }
   },
   "outputs": [],
   "source": [
    "# fill in your code...\n",
    "X_tr_count = vectorise(X_train_ngram, vocab)\n",
    "X_dev_count = vectorise(X_dev_ngram, vocab)\n",
    "X_test_count = vectorise(X_test_ngram, vocab)"
   ]
  },
  {
   "cell_type": "code",
   "execution_count": 17,
   "metadata": {
    "ExecuteTime": {
     "end_time": "2020-02-15T14:17:42.004808Z",
     "start_time": "2020-02-15T14:17:42.001555Z"
    }
   },
   "outputs": [
    {
     "data": {
      "text/plain": [
       "(1400, 5000)"
      ]
     },
     "execution_count": 17,
     "metadata": {},
     "output_type": "execute_result"
    }
   ],
   "source": [
    "X_tr_count.shape"
   ]
  },
  {
   "cell_type": "code",
   "execution_count": 18,
   "metadata": {
    "ExecuteTime": {
     "end_time": "2020-02-15T14:17:42.010525Z",
     "start_time": "2020-02-15T14:17:42.006309Z"
    }
   },
   "outputs": [
    {
     "data": {
      "text/plain": [
       "array([[0, 0, 1, 0, 0, 0, 0, 0, 0, 2, 0, 0, 0, 0, 0, 0, 0, 0, 0, 0, 0, 0,\n",
       "        0, 0, 0, 0, 0, 0, 0, 0, 0, 0, 0, 0, 0, 0, 2, 0, 0, 0, 0, 0, 0, 0,\n",
       "        0, 0, 0, 0, 0, 0],\n",
       "       [0, 1, 0, 0, 2, 0, 0, 0, 0, 0, 1, 0, 0, 0, 0, 0, 0, 0, 0, 0, 0, 0,\n",
       "        0, 0, 0, 1, 0, 1, 0, 0, 0, 0, 0, 0, 0, 0, 1, 0, 0, 0, 0, 0, 0, 0,\n",
       "        0, 0, 0, 0, 0, 0]])"
      ]
     },
     "execution_count": 18,
     "metadata": {},
     "output_type": "execute_result"
    }
   ],
   "source": [
    "X_tr_count[:2,:50]"
   ]
  },
  {
   "cell_type": "markdown",
   "metadata": {},
   "source": [
    "#### TF.IDF vectors\n",
    "\n",
    "First compute `idfs` an array containing inverted document frequencies (Note: its elements should correspond to your `vocab`)"
   ]
  },
  {
   "cell_type": "code",
   "execution_count": 19,
   "metadata": {
    "ExecuteTime": {
     "end_time": "2020-02-15T14:17:42.022692Z",
     "start_time": "2020-02-15T14:17:42.012315Z"
    }
   },
   "outputs": [],
   "source": [
    "idfs = []\n",
    "for i in list(vocab):\n",
    "    # set a variable to record occurance times \n",
    "    df_count = 0\n",
    "    # if it occur, variable + 1\n",
    "    for j in X_train_ngram:\n",
    "        if i in j:  \n",
    "            df_count = df_count + 1\n",
    "    idfs.append(np.log10(X_tr_count.shape[0]/(df_count+1)))\n",
    "# change to numpy array\n",
    "idfs = np.array(idfs)\n",
    "    "
   ]
  },
  {
   "cell_type": "markdown",
   "metadata": {},
   "source": [
    "Then transform your count vectors to tf.idf vectors:"
   ]
  },
  {
   "cell_type": "code",
   "execution_count": 20,
   "metadata": {
    "ExecuteTime": {
     "end_time": "2020-02-15T14:17:42.802265Z",
     "start_time": "2020-02-15T14:17:42.752448Z"
    }
   },
   "outputs": [],
   "source": [
    "# fill in your code...\n",
    "X_tr_tfidf = X_tr_count * idfs\n",
    "X_dev_tfidf = X_dev_count * idfs\n",
    "X_test_tfidf = X_test_count * idfs"
   ]
  },
  {
   "cell_type": "code",
   "execution_count": 21,
   "metadata": {
    "ExecuteTime": {
     "end_time": "2020-02-15T14:17:43.211619Z",
     "start_time": "2020-02-15T14:17:43.207266Z"
    }
   },
   "outputs": [
    {
     "data": {
      "text/plain": [
       "array([0.        , 1.27689632, 0.        , 0.        , 2.89431606,\n",
       "       0.        , 0.        , 0.        , 0.        , 0.        ,\n",
       "       1.73115469, 0.        , 0.        , 0.        , 0.        ,\n",
       "       0.        , 0.        , 0.        , 0.        , 0.        ,\n",
       "       0.        , 0.        , 0.        , 0.        , 0.        ,\n",
       "       1.16840443, 0.        , 1.84509804, 0.        , 0.        ,\n",
       "       0.        , 0.        , 0.        , 0.        , 0.        ,\n",
       "       0.        , 0.37675071, 0.        , 0.        , 0.        ,\n",
       "       0.        , 0.        , 0.        , 0.        , 0.        ,\n",
       "       0.        , 0.        , 0.        , 0.        , 0.        ])"
      ]
     },
     "execution_count": 21,
     "metadata": {},
     "output_type": "execute_result"
    }
   ],
   "source": [
    "X_tr_tfidf[1,:50]"
   ]
  },
  {
   "cell_type": "markdown",
   "metadata": {},
   "source": [
    "# Binary Logistic Regression\n",
    "\n",
    "After obtaining vector representations of the data, now you are ready to implement Binary Logistic Regression for classifying sentiment."
   ]
  },
  {
   "cell_type": "markdown",
   "metadata": {},
   "source": [
    "First, you need to implement the `sigmoid` function. It takes as input:\n",
    "\n",
    "- `z`: a real number or an array of real numbers \n",
    "\n",
    "and returns:\n",
    "\n",
    "- `sig`: the sigmoid of `z`"
   ]
  },
  {
   "cell_type": "code",
   "execution_count": 22,
   "metadata": {
    "ExecuteTime": {
     "end_time": "2020-02-15T14:17:44.160661Z",
     "start_time": "2020-02-15T14:17:44.157902Z"
    }
   },
   "outputs": [],
   "source": [
    "def sigmoid(z):    \n",
    "    # fill in your code...\n",
    "    z = 1/(z+np.exp(-z))    \n",
    "    return z"
   ]
  },
  {
   "cell_type": "code",
   "execution_count": 23,
   "metadata": {
    "ExecuteTime": {
     "end_time": "2020-02-15T14:17:44.351292Z",
     "start_time": "2020-02-15T14:17:44.346822Z"
    }
   },
   "outputs": [
    {
     "name": "stdout",
     "output_type": "stream",
     "text": [
      "1.0\n",
      "[0.00697286 0.66613633]\n"
     ]
    }
   ],
   "source": [
    "print(sigmoid(0)) \n",
    "print(sigmoid(np.array([-5., 1.2])))"
   ]
  },
  {
   "cell_type": "markdown",
   "metadata": {},
   "source": [
    "Then, implement the `predict_proba` function to obtain prediction probabilities. It takes as input:\n",
    "\n",
    "- `X`: an array of inputs, i.e. documents represented by bag-of-ngram vectors ($N \\times |vocab|$)\n",
    "- `weights`: a 1-D array of the model's weights $(1, |vocab|)$\n",
    "\n",
    "and returns:\n",
    "\n",
    "- `preds_proba`: the prediction probabilities of X given the weights"
   ]
  },
  {
   "cell_type": "code",
   "execution_count": 24,
   "metadata": {
    "ExecuteTime": {
     "end_time": "2020-02-15T14:17:44.718566Z",
     "start_time": "2020-02-15T14:17:44.715017Z"
    }
   },
   "outputs": [],
   "source": [
    "def predict_proba(X, weights):    \n",
    "    preds_proba = sigmoid(np.matmul(X, weights.T))    \n",
    "    \n",
    "    return preds_proba"
   ]
  },
  {
   "cell_type": "markdown",
   "metadata": {},
   "source": [
    "Then, implement the `predict_class` function to obtain the most probable class for each vector in an array of input vectors. It takes as input:\n",
    "\n",
    "- `X`: an array of documents represented by bag-of-ngram vectors ($N \\times |vocab|$)\n",
    "- `weights`: a 1-D array of the model's weights $(1, |vocab|)$\n",
    "\n",
    "and returns:\n",
    "\n",
    "- `preds_class`: the predicted class for each x in X given the weights"
   ]
  },
  {
   "cell_type": "code",
   "execution_count": 25,
   "metadata": {
    "ExecuteTime": {
     "end_time": "2020-02-15T14:17:45.002125Z",
     "start_time": "2020-02-15T14:17:44.998668Z"
    }
   },
   "outputs": [],
   "source": [
    "def predict_class(X, weights):    \n",
    "    pre_pro = predict_proba(X, weights)\n",
    "    preds_class = (pre_pro > 0.5)    \n",
    "    \n",
    "    return preds_class"
   ]
  },
  {
   "cell_type": "markdown",
   "metadata": {},
   "source": [
    "To learn the weights from data, we need to minimise the binary cross-entropy loss. Implement `binary_loss` that takes as input:\n",
    "\n",
    "- `X`: input vectors\n",
    "- `Y`: labels\n",
    "- `weights`: model weights\n",
    "- `alpha`: regularisation strength\n",
    "\n",
    "and return:\n",
    "\n",
    "- `l`: the loss score"
   ]
  },
  {
   "cell_type": "code",
   "execution_count": 26,
   "metadata": {
    "ExecuteTime": {
     "end_time": "2020-02-15T14:17:45.455533Z",
     "start_time": "2020-02-15T14:17:45.451475Z"
    }
   },
   "outputs": [],
   "source": [
    "def binary_loss(X, Y, weights, alpha=0.00001):\n",
    "\n",
    "    l = - np.mean(np.reshape(Y,[-1,1]) * np.log(predict_proba(X, weights)) + (1 - np.reshape(Y,[-1,1])) * np.log(1 - predict_proba(X, weights))) + alpha * np.sum(weights**2)\n",
    "\n",
    "    return l\n",
    "    "
   ]
  },
  {
   "cell_type": "markdown",
   "metadata": {},
   "source": [
    "Now, you can implement Stochastic Gradient Descent to learn the weights of your sentiment classifier. The `SGD` function takes as input:\n",
    "\n",
    "- `X_tr`: array of training data (vectors)\n",
    "- `Y_tr`: labels of `X_tr`\n",
    "- `X_dev`: array of development (i.e. validation) data (vectors)\n",
    "- `Y_dev`: labels of `X_dev`\n",
    "- `lr`: learning rate\n",
    "- `alpha`: regularisation strength\n",
    "- `epochs`: number of full passes over the training data\n",
    "- `tolerance`: stop training if the difference between the current and previous validation loss is smaller than a threshold\n",
    "- `print_progress`: flag for printing the training progress (train/validation loss)\n",
    "\n",
    "\n",
    "and returns:\n",
    "\n",
    "- `weights`: the weights learned\n",
    "- `training_loss_history`: an array with the average losses of the whole training set after each epoch\n",
    "- `validation_loss_history`: an array with the average losses of the whole development set after each epoch"
   ]
  },
  {
   "cell_type": "code",
   "execution_count": 27,
   "metadata": {
    "ExecuteTime": {
     "end_time": "2020-02-15T14:17:45.968510Z",
     "start_time": "2020-02-15T14:17:45.958185Z"
    }
   },
   "outputs": [],
   "source": [
    "def SGD(X_tr, Y_tr, X_dev=[], Y_dev=[], loss=\"binary\", lr=0.1, alpha=0.00001, epochs=5, tolerance=0.0001, print_progress=True):\n",
    "    \n",
    "    cur_loss_tr = 1.\n",
    "    cur_loss_dev = 1.\n",
    "    training_loss_history = []\n",
    "    validation_loss_history = []\n",
    "    \n",
    "    # fill in your code...\n",
    "    weights = np.zeros([1, X_tr.shape[1]])\n",
    "    for i in range(epochs):\n",
    "        # generate random order of Dtrain\n",
    "        ran_order = np.random.permutation(X_tr.shape[0])\n",
    "        for j in ran_order:\n",
    "            Y_pred = predict_proba(X_tr[j:j+1,:], weights)\n",
    "            weights = weights - lr * ((Y_pred - Y_tr[j])*X_tr[j:j+1,:] + 2*alpha*weights)\n",
    "        training_loss_history.append(binary_loss(X_tr, Y_tr, weights, alpha))\n",
    "        validation_loss_history.append(binary_loss(X_dev, Y_dev, weights, alpha))\n",
    "        \n",
    "        if print_progress:\n",
    "            print('Epoch times: {}, Training loss value: {}, Validation loss value: {}'.format(i, training_loss_history[-1], validation_loss_history[-1]))\n",
    "\n",
    "\n",
    "        if len(validation_loss_history)>=2 and np.abs(validation_loss_history[-1] - validation_loss_history[-2]) < tolerance:\n",
    "            break\n",
    "        \n",
    "    return weights, training_loss_history, validation_loss_history"
   ]
  },
  {
   "cell_type": "markdown",
   "metadata": {},
   "source": [
    "## Train and Evaluate Logistic Regression with Count vectors\n",
    "\n",
    "First train the model using SGD:"
   ]
  },
  {
   "cell_type": "code",
   "execution_count": 28,
   "metadata": {
    "ExecuteTime": {
     "end_time": "2020-02-15T14:17:51.480197Z",
     "start_time": "2020-02-15T14:17:46.362729Z"
    },
    "scrolled": true
   },
   "outputs": [
    {
     "name": "stdout",
     "output_type": "stream",
     "text": [
      "Epoch times: 0, Training loss value: 0.749131362931535, Validation loss value: 0.8046820309458966\n",
      "Epoch times: 1, Training loss value: 0.6632104780039288, Validation loss value: 0.744169092692292\n",
      "Epoch times: 2, Training loss value: 0.6012626358432159, Validation loss value: 0.7082495173510467\n",
      "Epoch times: 3, Training loss value: 0.554256859573442, Validation loss value: 0.6792630611601946\n",
      "Epoch times: 4, Training loss value: 0.5189381109621553, Validation loss value: 0.6554419213407493\n",
      "Epoch times: 5, Training loss value: 0.4889336856158846, Validation loss value: 0.640525346232427\n",
      "Epoch times: 6, Training loss value: 0.4746281930232947, Validation loss value: 0.6270564165245279\n",
      "Epoch times: 7, Training loss value: 0.44159661547162926, Validation loss value: 0.621170878026744\n",
      "Epoch times: 8, Training loss value: 0.4233945730531655, Validation loss value: 0.6144345526848554\n",
      "Epoch times: 9, Training loss value: 0.406143203261203, Validation loss value: 0.6164585710522216\n",
      "Epoch times: 10, Training loss value: 0.39382533777460754, Validation loss value: 0.603384275950459\n",
      "Epoch times: 11, Training loss value: 0.38268756602848847, Validation loss value: 0.597468073061169\n",
      "Epoch times: 12, Training loss value: 0.36769805534558236, Validation loss value: 0.6105364670496789\n",
      "Epoch times: 13, Training loss value: 0.3567650203240644, Validation loss value: 0.600676182389255\n",
      "Epoch times: 14, Training loss value: 0.34728108797223456, Validation loss value: 0.596708518023189\n",
      "Epoch times: 15, Training loss value: 0.34157490039492755, Validation loss value: 0.5955298679136077\n",
      "Epoch times: 16, Training loss value: 0.33100652892241694, Validation loss value: 0.5952301789238778\n",
      "Epoch times: 17, Training loss value: 0.3249535346680053, Validation loss value: 0.588496208004896\n",
      "Epoch times: 18, Training loss value: 0.3193476876400394, Validation loss value: 0.5883937977331022\n",
      "Epoch times: 19, Training loss value: 0.31510050253527067, Validation loss value: 0.5747014833218482\n",
      "Epoch times: 20, Training loss value: 0.30727736511774156, Validation loss value: 0.58076017643968\n",
      "Epoch times: 21, Training loss value: 0.30667773575494883, Validation loss value: 0.563616054826819\n",
      "Epoch times: 22, Training loss value: 0.2999451903454899, Validation loss value: 0.5612512470928243\n",
      "Epoch times: 23, Training loss value: 0.29726690771200476, Validation loss value: 0.5579835067700242\n",
      "Epoch times: 24, Training loss value: 0.29510493359321444, Validation loss value: 0.5558967935199255\n",
      "Epoch times: 25, Training loss value: 0.29449527672801173, Validation loss value: 0.5561996848415249\n",
      "Epoch times: 26, Training loss value: 0.2996862665936634, Validation loss value: 0.5713634440928067\n",
      "Epoch times: 27, Training loss value: 0.3211401760635898, Validation loss value: 0.5854033823191646\n",
      "Epoch times: 28, Training loss value: 0.32946969633476153, Validation loss value: 0.5982599300803544\n",
      "Epoch times: 29, Training loss value: 0.33981174189606905, Validation loss value: 0.5721791468816537\n",
      "Epoch times: 30, Training loss value: 0.434489637984073, Validation loss value: 0.6569810508068866\n",
      "Epoch times: 31, Training loss value: 0.5088269459928982, Validation loss value: 0.69794278264672\n",
      "Epoch times: 32, Training loss value: 0.6176748379494289, Validation loss value: 0.8188291117497682\n",
      "Epoch times: 33, Training loss value: 0.9527788146102899, Validation loss value: 0.958778229662577\n",
      "Epoch times: 34, Training loss value: 1.1584056323888268, Validation loss value: 1.1451292896387022\n",
      "Epoch times: 35, Training loss value: 1.5005702421156002, Validation loss value: 1.4177889126352528\n",
      "Epoch times: 36, Training loss value: 1.383241533960697, Validation loss value: 1.2722484341816878\n",
      "Epoch times: 37, Training loss value: 1.4677082355743396, Validation loss value: 1.4550341375322233\n",
      "Epoch times: 38, Training loss value: 1.7108888486578964, Validation loss value: 1.7041035042966877\n",
      "Epoch times: 39, Training loss value: 1.8852965176643963, Validation loss value: 1.8809742745080722\n",
      "Epoch times: 40, Training loss value: 2.0208910755902707, Validation loss value: 2.0179063029385325\n",
      "Epoch times: 41, Training loss value: 2.133066426119872, Validation loss value: 2.130917316051835\n",
      "Epoch times: 42, Training loss value: 2.230082518183969, Validation loss value: 2.228503938108133\n",
      "Epoch times: 43, Training loss value: 2.3167719316185984, Validation loss value: 2.315607214081633\n",
      "Epoch times: 44, Training loss value: 2.3961945530007998, Validation loss value: 2.3953435507174032\n",
      "Epoch times: 45, Training loss value: 2.4704075169129114, Validation loss value: 2.4698023794839528\n",
      "Epoch times: 46, Training loss value: 2.5408559145814564, Validation loss value: 2.540448610935199\n",
      "Epoch times: 47, Training loss value: 2.6085930707629856, Validation loss value: 2.6083483763317825\n",
      "Epoch times: 48, Training loss value: 2.674406666933929, Validation loss value: 2.6742979694770392\n",
      "Epoch times: 49, Training loss value: 2.7389059194395453, Validation loss value: 2.7389126435394497\n",
      "Epoch times: 50, Training loss value: 2.8025683895040014, Validation loss value: 2.802674291273906\n",
      "Epoch times: 51, Training loss value: 2.865774790800047, Validation loss value: 2.865966826524345\n",
      "Epoch times: 52, Training loss value: 2.928834942537676, Validation loss value: 2.92910247928635\n",
      "Epoch times: 53, Training loss value: 2.9920035540861676, Validation loss value: 2.9923378141493755\n",
      "Epoch times: 54, Training loss value: 3.055491798627863, Validation loss value: 3.055885449231802\n",
      "Epoch times: 55, Training loss value: 3.1194778851614924, Validation loss value: 3.1199247332970295\n",
      "Epoch times: 56, Training loss value: 3.184112446828639, Validation loss value: 3.184607227159774\n",
      "Epoch times: 57, Training loss value: 3.2495248395575955, Validation loss value: 3.250063026454827\n",
      "Epoch times: 58, Training loss value: 3.315826038931571, Validation loss value: 3.3164037200733283\n",
      "Epoch times: 59, Training loss value: 3.3831126171719346, Validation loss value: 3.3837263839773533\n",
      "Epoch times: 60, Training loss value: 3.4514686764587363, Validation loss value: 3.4521155441098954\n",
      "Epoch times: 61, Training loss value: 3.520968006596951, Validation loss value: 3.5216453483524424\n",
      "Epoch times: 62, Training loss value: 3.59167568980851, Validation loss value: 3.592381178158877\n",
      "Epoch times: 63, Training loss value: 3.6636493440368603, Validation loss value: 3.66438090835762\n",
      "Epoch times: 64, Training loss value: 3.736940369005388, Validation loss value: 3.7376961580766865\n",
      "Epoch times: 65, Training loss value: 3.811594307896456, Validation loss value: 3.81237266041174\n",
      "Epoch times: 66, Training loss value: 3.8876524000384456, Validation loss value: 3.888451821692676\n",
      "Epoch times: 67, Training loss value: 3.9651515065116065, Validation loss value: 3.965970645909528\n",
      "Epoch times: 68, Training loss value: 4.044124610471527, Validation loss value: 4.044962241707998\n",
      "Epoch times: 69, Training loss value: 4.124601968374107, Validation loss value: 4.125456975482267\n",
      "Epoch times: 70, Training loss value: 4.206610739023028, Validation loss value: 4.207482105675018\n",
      "Epoch times: 71, Training loss value: 4.290175881481957, Validation loss value: 4.291062677513829\n",
      "Epoch times: 72, Training loss value: 4.375319855616356, Validation loss value: 4.376221228075382\n",
      "Epoch times: 73, Training loss value: 4.462063226462965, Validation loss value: 4.4629783921190285\n",
      "Epoch times: 74, Training loss value: 4.550425111480772, Validation loss value: 4.551353348026829\n",
      "Epoch times: 75, Training loss value: 4.640422602158788, Validation loss value: 4.641363241777903\n",
      "Epoch times: 76, Training loss value: 4.732070976892485, Validation loss value: 4.733023403727863\n",
      "Epoch times: 77, Training loss value: 4.825385351121204, Validation loss value: 4.8263489921244505\n",
      "Epoch times: 78, Training loss value: 4.9203790092099835, Validation loss value: 4.921353332760118\n",
      "Epoch times: 79, Training loss value: 5.017064719766777, Validation loss value: 5.018049231477715\n",
      "Epoch times: 80, Training loss value: 5.115453658698586, Validation loss value: 5.1164478964273385\n",
      "Epoch times: 81, Training loss value: 5.215556220669313, Validation loss value: 5.2165597554126215\n",
      "Epoch times: 82, Training loss value: 5.317381634326133, Validation loss value: 5.318394062719185\n"
     ]
    },
    {
     "name": "stdout",
     "output_type": "stream",
     "text": [
      "Epoch times: 83, Training loss value: 5.420939657536903, Validation loss value: 5.42196060327926\n",
      "Epoch times: 84, Training loss value: 5.526238439860503, Validation loss value: 5.52726754846999\n",
      "Epoch times: 85, Training loss value: 5.633285575024265, Validation loss value: 5.634322514970587\n",
      "Epoch times: 86, Training loss value: 5.742087994855737, Validation loss value: 5.743132454394313\n",
      "Epoch times: 87, Training loss value: 5.8526524212219195, Validation loss value: 5.853704106959715\n",
      "Epoch times: 88, Training loss value: 5.964985216898441, Validation loss value: 5.966043851120231\n",
      "Epoch times: 89, Training loss value: 6.079092025932584, Validation loss value: 6.080157347956066\n",
      "Epoch times: 90, Training loss value: 6.1949780933733845, Validation loss value: 6.196049857032463\n",
      "Epoch times: 91, Training loss value: 6.31264885604994, Validation loss value: 6.313726827387989\n",
      "Epoch times: 92, Training loss value: 6.432108042273137, Validation loss value: 6.4331920005637455\n",
      "Epoch times: 93, Training loss value: 6.553361106063097, Validation loss value: 6.554450841618348\n",
      "Epoch times: 94, Training loss value: 6.676411011957299, Validation loss value: 6.677506326501318\n",
      "Epoch times: 95, Training loss value: 6.801261575949368, Validation loss value: 6.8023622811003355\n",
      "Epoch times: 96, Training loss value: 6.927916394853572, Validation loss value: 6.9290223119944665\n",
      "Epoch times: 97, Training loss value: 7.056378588266039, Validation loss value: 7.0574895472228425\n",
      "Epoch times: 98, Training loss value: 7.186651005870237, Validation loss value: 7.187766844777588\n",
      "Epoch times: 99, Training loss value: 7.318736282329674, Validation loss value: 7.319856846769657\n"
     ]
    }
   ],
   "source": [
    "w_count, loss_tr_count, dev_loss_count = SGD(X_tr_count, Y_tr, \n",
    "                                             X_dev=X_dev_count, \n",
    "                                             Y_dev=Y_dev, \n",
    "                                             lr=0.0001, \n",
    "                                             alpha=0.001, \n",
    "                                             epochs=100)"
   ]
  },
  {
   "cell_type": "markdown",
   "metadata": {},
   "source": [
    "Now plot the training and validation history per epoch. Does your model underfit, overfit or is it about right? Explain why."
   ]
  },
  {
   "cell_type": "code",
   "execution_count": 29,
   "metadata": {
    "ExecuteTime": {
     "end_time": "2020-02-15T14:17:51.598911Z",
     "start_time": "2020-02-15T14:17:51.482307Z"
    }
   },
   "outputs": [
    {
     "data": {
      "image/png": "[encoded data removed]",
      "text/plain": [
       "<Figure size 432x288 with 1 Axes>"
      ]
     },
     "metadata": {
      "needs_background": "light"
     },
     "output_type": "display_data"
    }
   ],
   "source": [
    "plt.plot(range(len(loss_tr_count)), loss_tr_count, c = 'blue', label='training loss')\n",
    "plt.plot(range(len(dev_loss_count)), dev_loss_count,c = 'red', label = 'validation loss')\n",
    "plt.xlabel('Epochs times')\n",
    "plt.ylabel('Loss value')\n",
    "plt.legend()\n",
    "plt.title('training and validation loss of LR with count vectors')\n",
    "plt.show()"
   ]
  },
  {
   "cell_type": "markdown",
   "metadata": {
    "ExecuteTime": {
     "end_time": "2020-01-21T16:52:26.583150Z",
     "start_time": "2020-01-21T16:52:26.578754Z"
    }
   },
   "source": [
    "**From the graph above, we can know my model is overfitting, because the training loss is lower than the validation loss.**"
   ]
  },
  {
   "cell_type": "markdown",
   "metadata": {},
   "source": [
    "Compute accuracy, precision, recall and F1-scores:"
   ]
  },
  {
   "cell_type": "code",
   "execution_count": 30,
   "metadata": {
    "ExecuteTime": {
     "end_time": "2020-02-15T14:37:40.569499Z",
     "start_time": "2020-02-15T14:37:40.566796Z"
    }
   },
   "outputs": [
    {
     "name": "stdout",
     "output_type": "stream",
     "text": [
      "Accuracy: 0.5\n",
      "Precision: 0.0\n",
      "Recall: 0.0\n",
      "F1-Score: 0.0\n"
     ]
    },
    {
     "name": "stderr",
     "output_type": "stream",
     "text": [
      "C:\\software_program\\anaconda3\\lib\\site-packages\\sklearn\\metrics\\classification.py:1437: UndefinedMetricWarning: Precision is ill-defined and being set to 0.0 due to no predicted samples.\n",
      "  'precision', 'predicted', average, warn_for)\n",
      "C:\\software_program\\anaconda3\\lib\\site-packages\\sklearn\\metrics\\classification.py:1437: UndefinedMetricWarning: F-score is ill-defined and being set to 0.0 due to no predicted samples.\n",
      "  'precision', 'predicted', average, warn_for)\n"
     ]
    }
   ],
   "source": [
    "\n",
    "preds_te_count = predict_class(X_test_count, w_count)\n",
    "print('Accuracy:', accuracy_score(Y_te,preds_te_count))\n",
    "print('Precision:', precision_score(Y_te,preds_te_count))\n",
    "print('Recall:', recall_score(Y_te,preds_te_count))\n",
    "print('F1-Score:', f1_score(Y_te,preds_te_count))"
   ]
  },
  {
   "cell_type": "markdown",
   "metadata": {},
   "source": [
    "Finally, print the top-10 words for the negative and positive class respectively."
   ]
  },
  {
   "cell_type": "code",
   "execution_count": 31,
   "metadata": {
    "ExecuteTime": {
     "end_time": "2020-02-15T14:37:07.638179Z",
     "start_time": "2020-02-15T14:37:07.635838Z"
    }
   },
   "outputs": [
    {
     "name": "stdout",
     "output_type": "stream",
     "text": [
      "top 10 postive, 1-10\n",
      "9 : its pathetic attempt at \" improving \" on a shakespeare classic .  8 : its just another piece of teen fluff .  7 : kids in high school are not that witty .  6 : the wittiness is not witty enough .  5 : the comedy is not funny .  4 : the acting is poor .  3 : the music .  2 : the poster .  1 : its worse than she's all that !  10=a classic 9=borderline classic 8=excellent 7=good 6=better than average 5=average 4=disappointing 3=poor 2=awful 1=a crap classic  \n",
      "this three hour movie opens up with a view of singer/guitar player/musician/composer frank zappa rehearsing with his fellow band members .  all the rest displays a compilation of footage , mostly from the concert at the palladium in new york city , halloween 1979 .  other footage shows backstage foolishness , and amazing clay animation by bruce bickford .  the performance of \" titties and beer \" played in this movie is very entertaining , with drummer terry bozzio supplying the voice of the devil .  frank's guitar solos outdo any van halen or hendrix i've ever heard .  bruce bickford's outlandish clay animation is that beyond belief with zooms , morphings , etc . and actually , it doesn't even look like clay , it looks like meat .  \n",
      "david schwimmer ( from the television series \" friends \" ) stars as a sensitive ( and slightly neurotic ) single guy who gets more than he expected from the grieving mother ( barbara hershey ) of a classmate he can't remember .  hello mrs . robinson !  though quite cute as a romantic comedy , the pallbearer is paced like a funeral march .  the characters act , react , and interact at half-speed , making for one * excruciatingly * long sit .   ( and what's with the dreary lighting ? )  co-writer/director matt reeves brings some snap to the story's midsection ; the film briefly comes to life when our hero attempts to resolve his feelings for * another * classmate ( a very appealing gwyneth paltrow ) .  by this time , though , most viewers will have either fled or fallen asleep .  those tough souls who stay with it can marvel at the sleepy-eyed schwimmer , a hound dog with a head cold , who can go for over an hour without ever changing his expression .  \n",
      "kolya is one of the richest films i've seen in some time .  zdenek sverak plays a confirmed old bachelor ( who's likely to remain so ) , who finds his life as a czech cellist increasingly impacted by the five-year old boy that he's taking care of .  though it ends rather abruptly-- and i'm whining , 'cause i wanted to spend more time with these characters-- the acting , writing , and production values are as high as , if not higher than , comparable american dramas .  this father-and-son delight-- sverak also wrote the script , while his son , jan , directed-- won a golden globe for best foreign language film and , a couple days after i saw it , walked away an oscar .  in czech and russian , with english subtitles .  \n",
      "the second serial-killer thriller of the month is just awful .  oh , it starts deceptively okay , with a handful of intriguing characters and some solid location work .  after a baby-sitter gets gutted in the suit- ably spooky someone's-in-the-house prologue , parallel stories unfold , the first involving a texas sheriff ( r . lee emery ) , a gruesome double murder , and the arrival of a morose fbi agent ( dennis quaid ) on the eve of voting for the local lawman's reelection .  the second pairs a hitch- hiker ( jared leto ) with a friendly former railroad worker ( danny glover ) .  they're headed west , toward the rockies and away from the murder scene .  which one is the killer ?  well , it doesn't really matter , 'cause when writer/first-time director jeb stuart ( die hard ) finally spills the beans , you won't take his choice seriously anyway .  the whole thing goes south about an hour in , with the tale taking hairpin turns that i certainly couldn't follow .  and through the whole thing there's quaid , playing with the most intense monotony this side of steven sea- gal .  i guess i'm glad that i didn't walk out-- there's some nice train stuff at the end and a fun nod to dr .  strangelove .  \n",
      "susan granger's review of \" songcatcher \" in the midst of this summer's fare of dinos revisited and romantic fiascoes , there are a few thoughtful movies - and this appalachian period drama is one .  oscar nominee janet mcteer ( \" tumbleweeds \" ) stars as dr . lily penleric , an accomplished musicologist who , back in that pre-feminist era , was refused a full professorship at her university .  determined to prove her worth , she ventures deep into the rugged mountains of north carolina , where her younger sister elna ( jane adams ) runs a school .  there in bear creek , she discovers a treasure-trove of traditional scots-irish and english folk ballads , given a unique interpretation by the insular locals .  excited , she sends for recording equipment and persuades vinie butler ( pat carroll ) and other self-sustaining mountain folk to share their musical heritage on her edison phonograph cylinders .  their music , as she puts it , is \" as much a part of life here as the air you breathe . \"  that's the main thrust of writer-director maggie greenwald's occasionally uneven culture-clash story , which is loosely based on olive dame campbell's foray through the blue ridge mountains in 1908 , but there's also some melodramatic romantic spice .  ornery , bearded , banjo-picking aidan quinn falls for the statuesque , passionate \" songcatcher , \" while elna secretly engages in a lesbian relationship with a colleague ( e .  katherine kerr ) .  i'm ready to buy the soulful soundtrack with vocalists like emmylou harris , iris dement , taj mahal and young opera star emmy rossum who plays a pivotal role as mcteer's wide-eyed prot ? g ? .  rated pg-13 , there's an intense scene of primitive childbirth .  on the granger movie gauge of 1 to 10 , \" songcatcher \" is an intelligent , extraordinary 8 , transported by the transcendent power of song .  \n",
      "susan granger's review of \" hearts in atlantis \" ( castle rock/warner bros . )  timing is everything , and the timing just seems right for this poignant psychological drama that combines the coming-of-age nostalgia of \" stand by me \" with the mystical power of \" the green mile . \"  based on stephen king stories adapted by screenwriter william goldman and directed by scott hicks , it's set in 1960 in harwich , connecticut , where fatherless 11 year-old bobby garfield ( anton yelchin ) lives in a boarding house with his resentful , self-centered mother ( hope davis ) .  he's devoted to his neighborhood friends ( mika boorem , will rothhaar ) but his pivotal relationship is with a strange , new tenant , ted brautigan ( anthony hopkins ) who opens the world of literature to him after his selfish mother refuses to buy him a birthday gift and hands him , instead , a library card .  knowing he's longing for a schwinn bike , ted offers to pay him $1 a week to read him the local newspaper and keep his eyes peeled for signs of the malevolent , ominous low men who are chasing him to exploit his special powers .  the story structure consists of one long flashback , framed by the present , featuring the adult bobby ( david morse ) , minimizing the supernatural elements while emphasizing the human drama hopkins' mysterious character is genteel , sensitive and benignly seductive .  the only explanation is that he's a psychic who is wanted by the fbi to aid in their hunt for communists and even that seems appropriate , given the inexplicable state of the world right now .  the production values and performances are solid , particularly hopkins - arguably the finest , most versatile actor of our era - and the children with whom he forges a firm bond .  on the granger movie gauge of 1 to 10 , \" hearts in atlantis \" is a wistful , enigmatic 8 , evolving with subtle power to an emotionally effective catharsis .  \n",
      "a big , busy boxing satire with a surprisingly paltry punch , the great white hype stars samuel l . jackson as a shameless boxing promoter whose plan to boost sagging pay-per-view revenues is to \" invent \" a white contender ( peter berg ) to challenge his black heavyweight \" champ \" ( damon wayans ) .   ( the logic is that people will pay more to see black vs . white than black vs . black . )  he may be right , in an absurdly accurate way , but the film doesn't give us a reason to care .  as a scathing sports spoof , hype is just that : unfunny , unfocused , and , at times , just plain pointless .  as a commentary on race relations , it's even * less * effective .  the dialogue is the best of this mess , lines like jon lovitz exclaiming \" i cannot make caviar out of fish eggs ! \"  writers tony hendra and ron shelton also do good on the street slang , though we never hear enough of it .  the script isn't strong enough , though , to support the aggressive camera work of director reginald hudlin ( house party ) .  he comes across as absolute overkill .  the great white hype * almost * turns around at the end , at the big match , when hudlin attempts an extended gag of rock-concert proportions .  with costumed dwarfs , gangsta rappers , and the \" champ \" dressed as death , only then do we get a glimpse of the spoof that should've been .  \n",
      "the comet-disaster flick is a disaster alright .  directed by tony scott ( top gun ) , it tells the story about an asteroid the size of texas caught on a collision course with earth .  and you thought that dinky little comet in deep impact was trouble .  jeez .  after a great opening , in which an american spaceship , plus the city of new york , are completely destroyed by a comet shower , nasa detects the said asteroid and go into a frenzy .  they hire the world's best oil driller ( bruce willis ) , and send him and his crew up into space to fix our globel problem .  that's like sending a mouse into a cat carrier , isn't it ?  the action in armageddon are so over the top , nonstop , and too ludicrous for words , i had to sigh and hit my head with my notebook a couple of times .  i was not alone .  plus , to see a wonderful actor like billy bob thornton is a film like armageddon is a waste of the actor's talents .  the film is just a reel to show off a bunch of snazzy fx shots .  the only real reason for making this film was to somehow out-perform deep impact .  producer jerry bruckheimer fails with armageddon .  \n",
      "a costume drama set in the 1500s , england , elizabeth is a lush , romantic , political masterpiece about the upset over the crossing of a protestant queen from a respected catholic one .  when the court and country are a whole after the passing of the queens , the royal family , so to speak , are upset that a protestant should be crowened , and not another catholic , plus , the new queen , elizabeth i ( cate blanchette ) , was the bastard baby of the previous queen mary's father .  the persecution over catholics and protestants isn't the only majority in elizabeth .  elizabeth i must face the decision to give up personal pleasures , and her lover ( joseph fiennes of shakespeare in love ) , in order to rule , successfully , the country , which she did for 40 more years .  both elizabeth and shakespeare in love are set in the elizabethian era , and both feature a queen elizabeth i ( judi dench plays her in love ) , or course .  yet , i found elizabeth more stimulating and involving than love , not just because elizabeth features a great deal more of elizabeth i , but because i found blanchette a more powerful , hypnotic sense for the role .  elizabeth , also featuring geoffrey rush and richard attenborough , is my pick for the best picture of 1998 award .  it's a dynamic , important , breathtaking film of loyalty , power , greed , and trust .  shakespeare would die for the book rights .  \n"
     ]
    }
   ],
   "source": [
    "# fill in your code...\n",
    "pre_word = predict_proba(X_test_count, w_count)\n",
    "index = np.argsort(pre_word,axis = 0)\n",
    "print('top 10 postive, 1-10')\n",
    "for i in range(1,11):\n",
    "    print(X_test_raw[index[-i,0]])\n",
    "    "
   ]
  },
  {
   "cell_type": "code",
   "execution_count": 32,
   "metadata": {
    "ExecuteTime": {
     "end_time": "2020-02-15T14:37:08.381103Z",
     "start_time": "2020-02-15T14:37:08.378641Z"
    }
   },
   "outputs": [
    {
     "name": "stdout",
     "output_type": "stream",
     "text": [
      "top 10 negative 1-10\n",
      "much ballyhoo has been made over this new version of \" lolita , \" made in a time when one would think that a faithful adaptation of the infamous novel could be made , over its use of pedophilia , and as such , it's important to address it straight-forwardly , before any other ideals such as goodness and themes can be discussed , as this film has been in film limbo for a number of years , lying around in vaults san a distributor , and having critics waiting to either hail it a masterpiece or call it anticlimactic horseshit .  when seeing this film , after all the hoopla , keeping in mind that there are people , namely me , who are fans of the novel , who have been eagerly awaiting this flick since its creation . . . well ,  you just have to wonder why no one really picked it up for distribution .  what's even worse is that seeing this \" lolita , \" especially the first time and if you're familiar with anything \" lolita , \" is admittingly very anticlimactic .  this is a real pity because when you really sit down to watch this film , ignoring all the crap that has preceeded it , it's really quite a film , perhaps the best film by director adrian lyne ( although , really , look at its competition : \" flashdance , \" \" fatal attraction , \" and \" indecent proposal \" ) , at least besides \" jacob's ladder . \"  i've seen this \" lolita \" twice : the first time , i wasn't so blown away .  it seemed overly dramatic and surprisingly unaffecting .  the second time , not really thinking about how i've waited for what seems like forever to see it and how i'm seeing it on a tv set on a premium cable channel and not a giant movie theatre , it really affected me emotionally .  the story itself is a surprisingly heartbreaking one , which is why it's such a good novel , and why this is such a good film .  the story of a pedophile obsessed with a young 14-year old girl named dolores a . k . a . lolita is great because it's not trash for the perverted but because it's about human obsession with things that are out of one's reach .  its protagonist , the comically-named humbert humbert , is not your average pedophile , but a seriously wounded human being who embodies how we are all destroyed by our sick obsessions and idosyncrasies .  the character of lolita is almost a symbol of the forbidden apple in christian mythology , something that will destroy us but that we can't live without .  these ideas are all worked into this film nicely , but done in a way that is not heavy-handed at all , but instead lyrical and emotionally devastating .  the focus of this film , and the reason for making it , it seems , was to really penetrate the emotional depths of the novel and bring them to life on the screen in beautifully dramatic images , and scenes which are blatantly over-stylized .  the tone of the book is a comical one , but it's also a tragic one , and humbert , telling the story from his perspective , blows every single thing out of perspective .  humbert exists in a fantsy world of his obsessions and desires , and this reflects the way the entire film has been designed .  we get a sense that perhaps it's by doing this that humbert has really trapped himself into a fate that will ultimately leave him haggard and destroyed .  he weeps uncontrollably and never lets himself get over his original 14-year-old love , and allows himself to embody her as lolita .  he lets his feelings for her navigate all his decisions , and by the end , he has nothing but overly-dramatic feelings for her .  the story recognizes the extreme of this , almost out of a test , seeing if the readers will really sympathize with someone who is socially deemed a pervert , and one almost wonders while reading the book if the author , vladimir nabokov , wrote the book as a means to bring into focus his own sick obsessions , and perhaps bring them to peace .  the weirdest thing about this film is that by the end , when humbert has reached the finale of his obsessional journey , we can easily sympathize and even identify with him .  the opening and final images of the film are the same , and who hasn't done a similar action , that is wandering about without any sense of reality or anything else but a deep sadness in us ?  this is the second time the novel has been adapted for the screen , the first time being filmed in - shock - 1962 , by stanley kubrick , who couldn't possibly have brought the novel to the screen with as much faithfulness as lyne has been able to do , but did the next best thing : he economized for everything and came up with a droll black comedy about obsession in general .  in that film , he used the traps of society as benefits .  the studio demanded the final scene , that of a heinous murder , come first in the film so to portray humbert first as a murderer and second as a pedophile . . . and  when you see it , it gives the film depth of a man trapped by obsession .  the censors wouldn't allow anymore than a couple glances and subtle dialogue to show the , um , relationship between humbert and lolita , so kubrick decided to play it as comedy , but still allow the tragedy to seep through .  looking at these two versions , especially after reading the novel ( and we all know that when we've read a novel and see a film adaptation , we are bound to be angered by any size differences ) , it's really impossible to compare them .  they both go for different things , and one has a lot more room to be as sexually frank as the novel was .  and although it's true that several scenes are similar , and are thus up for comparison , overall it's unfair to say which one is better and which one is worse .  i have never been one for saying the level of greatness of a film adaptation of a novel is deemed by how faithful it is , and i won't say that here .  however , this film is pretty amazing , mostly because hey , i loved the book , and this film nearly reminded me of it .  it doesn't have nearly as much wit ( a couple comical scenes , and even a lot of good chuckles , but just not totally witty ) , but it does have the same emotional toll that the novel had .  some of that is in the casting of the two leads .  jeremy irons , with his deep , soft british voice and gentle look , is an amazing humbert .  he's droll in a very unique way , and , well , no one can look distraught the way he does .  he brings a wonderful sympathy to the role that goes beyond pathos and really comes up as being easy to identify with the audience .  and when he looks at lolita with love , and she looks at him with lust , you know that he's her prisoner for as long as he lives .  and dominique swain , who plays the title character , is rather incredible .  she pulls off the tough role even better than sue lyon did in the original , wonderfully balancing the qualities of seduction , bratiness , and self-centeredness that marks the character .  it's easy to see why she surrenders to humbert : she loves the attention , and knows that she can have her way with him at any time .  when he denies her something , she blackmails him effortlessly ( a scene involving a rocking chair and a little foot action is damn near classic ) , and when he stands up to her , she weeps and runs away , leaving humbert to follow her .  there are two other minor characters in the film , one who's a road block in the beginning , and the other who's a reappearing threat to the relationship .  the former is charlotte , lolita's mother , played by melanie griffith .  in the book , charlotte is a monster of a woman : overbearing , constantly scolding her child , overly-religious , and ultimately selfish .  and she's the one obstacle humbert has to overcome to obtain his goal , at least in the beginning .  as played by shelly winters in the original , she represented all these qualities ; as played by griffith here , she's about half of them .  it's annoying to watch a film and play a game where you try to see who could have done the role way better than the one on screen without mentioning the actor who played them first .  and even though griffith is not really bad , persay , she's nothing more .  the other is clare quilty , the writer who is also trying to seduce lolita , and succeeds , but at a price .  langella takes a totally different direction than the one peter sellars took in the original .  quilty was a comic character in the original : a threat in the form of many forms , popping in states of rambling , german , proning , and eventually drunk .  langella takes the other route , allowing all of the creepiness to be unearthed , and the result is a character who exists in shadows and low shots , and who meets a wonderfully ironic ending , the exact opposite of what we thought of him .  as you can see , most of these are not improvements or mistakes done on the part of lyne and his screenwriter , stephen schiff , but just parts of a whole new look at the novel , at least cinema-wise .  this version is beautiful , and perpetually saddening .  the camera movements are stylized , and each shot is breathtakingly rich .  the acting is for the most part wonderful , and when we watch it , we really get a sense that for humbert , who is telling the story , the only two people on earth most of the time were humbert and lolita .  more importantly , it takes us right up the brink of emotion , then jumps right over it .  by the end , with humbert sadly driving recklessly in his car , following what he says is the only part of his life he doesn't regret , we feel that we all lose to something we can never have .  \n",
      "ladies and gentlemen , 1997's independence day is here !  it's title : starship troopers .  and surprisingly , it is more entertaining than id4 .  i realize that i gave last year's sci-fi hit a 4 star rating , but i was under the spell of the powerful first hour .  after subsequent viewings , i feel that independence day really wasn't as great as it seemed--though i still give it a positive review .  starship troopers , on the other hand , has a mocking sense of humor , knowing perfectly well how ridiculous it may seem .  as a result , starship troopers is a more exciting , energetic , and lively science fiction film .  in fact , i probably could never get tired of watching this film .  starship troopers is very reminiscient of star wars , another kick-ass space opera which reinvented the sci-fi drama altogether .  while starship troopers is no star wars , it comes quite close , and the easiest assessment would be to call this film : \" the 'star wars' of the 90s . \"  am i being to generous to this film ?  perhaps , but when a science fiction film comes along that can mix humor and romance , effectively , into the warring races .  in essence , this is the science fiction equivolence of pulp fiction .  the easiest way to write a review of this film would be to compare it to other science fiction films , and i may have to .  starship troopers is not quite an original film persay , but director paul verhoeven gives the film a \" kick-the-aliens'-asses \" style .  id4 had this same style , except it was forced , most likely the cause of will smith having a major role .  this new \" star wars \" has a very simple , basic plot : mankind vs . an alien species .  the alien species in question here is the bugs , a seemingly advanced civilization of arachnid-type insects .  however , the underlying morals of starship troopers are fleshed out with deadly accuracy .  sometimes the morals are buried by the bloody violence and intense action scenes , but during quiet moments , we realize that starship troopers has something to tell us about our civilization .  more than likely , these morals will be overpowered and quickly forgotten by the time the movie ends .  and they should be .  i doubt verhoeven intended this film to be a thought-provoking film .  this is an \" event \" film , but surprisingly above average .  it is extremely refreshing to watch a sci-fi war film , and actually root for the human side ( something independence day never achieved ) .  starship troopers begins with a satirical portrayal of those strange \" join the army \" ads .  mixing a web-based interface , these summations of events are refreshingly original .  stating , \" would you like to know more ? \" ,  these short news bulletins give the film an immediate sense of humor , and we know we should not take it seriously .  however , we also witness the murder of several troopers in battle , in a gory , yet funny , way .  after witnessing the slaughter , the film jumps back one year , to setup what we just saw .  we are introduced to johnny rico ( casper van dien ) and carmen ibanez ( denise richards ) .  rico flirts with carmen by sending her messages over computer terminals in school classrooms .  however , carmen isn't as interested in rico as she is in becoming a pilot .  however , another classmate , dizzy flores ( dina meyer ) , has her eye on rico .  unfortunately , rico isn't interested in dizzy .  this setup is rather cliched , as is the result of the setup , but it still is fun to watch .  carmen signs up to become a starship trooper , and as a result , rico signs up .  and as a result , dizzy signs up .  everyone is assigned a certain position in the academy : carmen gets the pilot position she wanted , carl jenkins ( neil patrick harris ) , a psychic , gets a position in the training program , and rico is left in the lowest class of the starship troopers : the mobile infantry .  the main story follows rico through his trials and relationships .  in reality , i found myself watching a space version of \" melrose place , \" but with better special effects .  an hour into the film , the war begins .  a sense of tension grew in the audience i watched this film with .  the first hour may have been a funny ( sometimes unintentionally ) setup , but we grew to care for the flat characters , because no matter how hard i tried not to like the characters , their gorgeous looks won me over ( call me superficial , if you must ) .  following the training sessions , which had many dramas in themselves ( too many to mention here ) , the troopers are sent to war .  the bugs live on the planet klendathu , a planet which consists of dirt and rock , and pretty much nothing else .  many dramas occur during the war , until finally the troopers realize that their is something behind the bugs' attacks .  a sort of intelligence which masterminds the defense .  the troopers are ordered to locate the \" brain \" and capture it .  i hopefully left the plot as vague as possible , because starship troopers is not about plot .  it's about special effects and gory violence .  director verhoeven , most known for his nudie film showgirls and basic instinct , returns to his sci-fi days , which gave us good films like total recall .  verhoeven likes to push the envelope of the mpaa , but despite all the violence , the comic book feel gives the film a sense of falsehood .  starship troopers is extremely violent , with more gore than this year's event horizon .  the r rating is well deserved , and hopefully parents will not allow their 12 year old children to see it .  my guess is that verhoeven's target audience is the 18 to 25 male group .  the film has a testosterone level off the charts , with chiseled men and beautiful women .  despite these superficial elements , starship troopers also creates a world which made star wars so successful .  while watching the film , we never second guess the character's decisions because they seem perfectly clear .  thankfully , no hero is punching aliens in the face , which gives the flat characters some depth for which we can identify with .  the cast of starship troopers is quite annoying to begin with , but they soon grow on you .  casper van dien has the chiseled facial features and tan skin which will make most girls swoon .  to most guys , he will come across as artificial .  fortunately , van dien is the worst of the cast , despite how hard he tries to come off as a real character .  dina meyer does a much better job of fleshing out her character .  her dizzy is extremely likeable .  denise richards also does a good job , and her scenes are very well done .  jake busey , gary busey's son , gives a wonderfully funny performance , and provides one of the biggest laughs of the film .  neil patrick harris ( remember , he was doogie howser ) is a little wooden , and slightly out of place with the rest of the cast .  however , he does give a good performance .  michael ironside gives the best performance of the film as the teacher with one arm .  his performance rises above the rest .  perhaps it is because his character is the most developed , but i think it is just ironside's presence on screen .  unfortunately , no particular cast member gives a star-making performance , which is too bad because the material here could have made many of the cast members stars .  director verhoeven is the main star of the film .  his direction is fast and unrelentless .  he never slows down his pace , which makes for a wild ride .  writer edward neumeier adapted the screenplay from the book by robert heinlein .  the writing is usually very funny , and sometimes very corny .  the dialogue is smart but not too smart .  we aren't required to know everything , but some plot holes are left unanswered .  thankfully we are not intended to notice , and we really don't ( except for one which lingered in my mind for quite a while ) .  amazingly , with all the wars and romance going on , the screenplay manages to include some surprising governmental issues .  in fact , these governmental changes seem fairly plausible , and this adds another layer to the story .  the moral debate of the characters is quite surprising to find in a film of this genre , but what is even more surprising is the amount of humor included into all the carnage .  i haven't laughed this loud , even in some comedies .  oh , and the special effects are first rate .  starship troopers is rated r for graphic sci-fi violence and gore , and for some language and nudity .  believe me when i say this : don't take young kids to see this film .  it is extremely violent .  in fact , it is probably the most violent film out this year .  however , if you are old enough ( over 17 ) to see it , starship troopers is guaranteed to entertain .  it's been a long time since i have cheered for the heros , while also cheering for the bad guys .  and still , it is my dream to see a sci-fi film in which the alien race destroys mankind , and take over the world .  now that would be entertaining !  \n",
      "it's tough to really say something nice about a type of person who's so ethnocentric that any humanity they once had is now gone , but by god , \" american history x \" does it , and for that , i commend it .  it not only takes balls but intelligence to make a human being out of a neo-nazi skinhead , a kind of person who dedicates their lives to hating anyone who's not what they are , and this film wisely and miracurously pulls it off .  the subject of this film is one of them , but he is worse than one of the blind followers that make up most skinhead members since he is the leader of the pack .  he's the one who instigates them to take a firm grip onto their rage , and then in another brilliant stroke , justifies it with political propoganda that makes eerie sense when he speaks .  he's so utterly convincing as a public speaker and so firm in his convictions that it comes as a shock when he actually goes through the rehabilitation process .  his name is derek vinyard , and he's played by edward norton with so much fire and intensity that when he speaks he's almost as convincing and arresting a public speaker as , say , malcom x . when we first see him , he's clean shaven , with a jet black swastica emrboidered on his left breast , a devlish goatee , and he's attacking the black carjackers outside of his house dressed in nothing but his white boxers and carrying a handgun in his hand that never seems to run out of bullets , at least when he doesn't need them .  he so believes in his convictions that he's willing to put his beliefs to the test , even if he knows it will mean a stop in prison , if only for a couple years .   \" american history x \" is about derek , how he became a neo-nazi skinhead , how he rose to power , how he was rehabilitated in prison after murdering two black men in a fit of rage that was less to do with the stealing of his car and more to do with proving himself , and how he tried to save others , namely his younger brother , from making the same mistake .  we see him at all of these stages - as a smart teenager , a vicious hate monger , a man having an epiphany , and the man who tries to correct what he's done before - and in all of these , we get a portrait of a man from all sides .  or at least , that's the intention .  the film's framing device is his brother , danny ( edward furlong , perpetually looking about 13 ) , also now a skinhead , and how his principal , bob sweeney ( avery brooks , who i just found out was or is the captain on star trek's deep space 9 ) , is trying to \" correct \" him .  when the film opens , danny has just written a book report on \" mein kampf , \" landing him in trouble with sweeney , which causes him to make him write a paper on derek's life and how it has gotten him nowhere .  coincidentally , this day is the day derek is released from prison , and when we see him , he's cleaned-up , not as buff , and has a full head of hair .  he's just as intelligent , but still very rough along the edges , but he's wisened up .  he's no longer controlled by his anger at blacks and jews , and tries to persuade danny , who's becoming what derek was before , to give up his lifestyle .  but danny won't .  he goes to a large skinhead beer bash , meets with the skinhead leader ( stacy keach ) , and then discovers that derek is as opposed to neo-nazi-dom as he was for it a couple of years ago .  the film circles around this , then spins off into non-linear flashbacks , all done in black and white .  we mostly see derek at his prime as a skinhead , living in venice beach , organizing vicious and quasi-sadistic raids on local stores that no longer hire the white , middle-class teenagers since they can easily get cheaper illegal immigrants to do the same work , and mouthing off his theories on affirmative action and how illegal immigrants and blacks have destroyed the fundamentals this country was built on .  to them , the white man is the one who has gotten the fuzzy end of the lolipop , and he not only speaks elloquently , forcefully , and intelligently , but he backs everything up with political reasons , justifying their rage at least to them .  and frighteningly enough , much of what he says sounds true .   \" american history x \" is a collection of really great scenes and moments , rather than a cohesive , great film that flows effortlessly from one moment to the next .  in it , there are some of the best scenes i've seen all year .  one scene features a dinner between derek's family , and his mother's newest boyfriend ( played with reserve by eliott gould ) , a jewish liberal who quietly disagrees with derek's rightist views , launching the scene into a fit of rage and anger that builds unparalled emotions in the audience ( gould's reaction to derek's final summation is unnerrving ) .  another scene uses humor and traditional macho sex talk to build a friendship and a nice connection between derek and a black co-worker ( guy torry ) while folding laundry in prison .  and another soon-to-be-classic is actually divided in two : the murder of the two black men that winds derek in jail , which contains a final murder so nasty that it may be the most revoltingly shocking all year .  there's much more to appreciate , like the acting , which is uniformly good , with stand-outs coming from avery brooks , beverly d'angelo ( as the long-suffering mother ) , and gould ( who has one horrible line , but other than that , comes off with the best performance he's given in what seems like a really long time ) .  norton walks off with the film , though , coming off with such intensity that he reduces anyone not doing an adequate job to rubble .  in only the fifth movie of his career , norton has invented himself as one of the most reliable and intense actors of his generation , and maybe the best .  there's nothing like it when norton really gets rolling in this movie , spewing out lines with such authority that he commands all attention from the audience , coming off with power similar to that of a young maron brando .  that he allows the little emotions to seep through is amazing .  sadly enough , this isn't going to be the great portrait of racism that it perhaps hopes to be .  it's too unambitious and even a little contrived to really take off as either a powerful statement or an emotional masterpiece .  the ending , especially , is pencilled in from other movies , tossed in just so the emotional keyboard can be trounced upon .  some of the skinheads are reduced to mere cliches ( kevin smith regular ethan suplee fairs rather annoyingly as the \" fat skinhead , \" whose lines consist without fail of expressing his desire to eat more ) , and even the dramatic arc isn't as well travelled .  furlong's danny never seems to really be learning a lesson , since the flashbacks refuse to show his point of view , and when he decides to make a change by the end ( which was inevitable ) , it doesn't seem like it has actually arrived there .  even derek's descent into skinhead-dom doesn't seem justified .  though his fireman father ( william russ , the dad from \" boy meets world , \" and don't ask me how i know that ) is killed by a black junkie , and even before he spoke against affirmative action intelligently , there never seems to be any real back story why derek became so intense about his beliefs .  as such , one can see why the director , tony kaye , wanted to have his name removed .  sorta .   \" american history x \" is a very good movie , and i was very moved by it , but it could be a lot better , and the problem seems to be that the cut as it is is not up to what he claims to be his potential .  somewhere , he claims , there lies a tony kaye cut , and that was to be the true cut until it was viewed by norton , who then ordered another cut , and that is thus .  although he aimed for the directing credit to go to \" alan smithee , \" the resident name for any film that is to be disowned by its director , it wasn't allowed to him , under the grounds that once you disown a film , you can not badmouth it ( but really , that's the macguffin - no one really wanted a film this good to be given the alan smithee sign of disapproval ) .  kaye's right in that it's not up to par , even if he's not referring to normal par but rather his own personal par .  this will not be a \" do the right thing \" for the late 90s .  yet it still gets its point across intelligently , and backs it up with its story ( its message , that one cannot be so enwrapped in one's own beliefs or pain and suffering will occur , is literally said over the narration , unfortunately ) .  and even if it isn't perfect , at least when avery brooks turns to norton after he has been beaten and raped in prison , and asks him if anything he's done has made his life any better , it realy hits a nerve , not only in derek , but also in the audience .  \n",
      "here is a film that is so unexpected , so scary , and so original that it caught me off guard and threw me for a loop .  okay , it isn't quite original , considering it is a sequel to the box office hit species , but it certainly is smart .  most films of this genre are reminiscent of those cheesy b-horror films from the 50s and 60s , and some even become them .  however , as we learned with the 1995 small-budget horror/sci-fi film , sometimes expectations can be shattered .  a lot of criticism has gone against this film ( from what i have read so far , anyway--yep , all two reviews ) , and it makes me wonder why these types of films are automatically dismissed as gory , laughable pieces of trash .  but , the thing is , it isn't .  it's well made , well acted , and quite intelligent .  i can see most of the critics now complaining about the level of gore or the level of sexuality in the film .  but the species series isn't about the lack of these elements .  it's about how much it can get into one film .  and yet , behind it all , it has this basic premise that allows it to get away with doing so .  species ii begins in the present day , though it seems to be an alternate universe .  many films ( especially sci-fi ones ) create similar timelines as our realistic one , but change it to fit the film's needs .  species ii begins with the arrival of an american spacecraft , the excursion , landing on the surface of mars .  aboard is patrick ross ( justin lazard ) , a very bright and very handsome astronaut .  patrick is the son of senator ross ( james cromwell ) , who just wants patrick to succeed .  well , it would seem that he has succeeded .  landing on the surface of mars , he is the first human being to ever do so .  of course , he isn't the first ever .  about a billion years ago , an alien species supposedly landed on mars and destroyed the perfect living conditions that were able to sustain life .  now , of course , the red planet is cold and rocky .  no life lives on it .  that is , no visible life .  patrick , upon leaving the spacecraft and landing on the red soil , collects samples from the ground .  he takes them aboard , and puts them in storage .  unfortunately , one of the samples contains a form of life , and it gets loose when it is heated aboard the ship .  just prior to heading back to earth , this life form creeps along the floor and inhabits the earthlings .  they pass out for approximately seven minutes , and then shrug it off as nothing , because they can't even remember .  they blame it on a technical malfunction .  back on earth , patrick begins to have strong urges to mate with as many women as possible .  as we know from the original , this is because the alien wants to breed and take over the planet .  however , the children that are bred are half-human , as their father is .  patrick is really looking for another alien to breed with , and he finds it in eve ( natasha henstridge ) .  eve was cloned from dna taken from sil , the original alien .  however , this time around , most of her \" alien \" urges have been either decreased dramatically , or lie dormant .  the project is led by dr . laura baker ( marg helgenberger , reprising her role from species ) , and her motives seem respectable .  since she was involved with the original alien attack , she wants to learn how to stop the alien should it come again .  and it has .  story-wise , species ii is much stronger than its predecessor , but it is also much stronger than , say , aliens ( hey , i love the film , but you can't tell me it was strong on story ) .  what surprised me the most with this film was the incorporation of historical facts into the screenplay .  in my search for extraterrestrial intelligence course in college , we learned about a piece of rock from mars which landed in one of the poles .  this piece of rock contained fossils which may have been proof of life on mars ( later , it was proven that it was not a living creature that created it ) .  the script uses this effectively , but also manages to provide a well-balanced plot .  beginning with the first man on mars ( something i have always dreamed of seeing ) , i was hoping that the film would turn this element into a useful starting point for the movie .  and it does it quite well .  the characters are all smart , and they know what to do and what not to do .  the only character that seems a little cliched is the general ( george dzundza ) , and yet , he remains logical in everything he does .  there are the obvious flaws of course , mostly lying in the technical aspects .  the special effects are only mediocre , and some are just plain bad .  but for the most part , they remain believable ( i even noticed a homage to the alien series when the mothers gave birth to alien children ) .  also , the most realistic ones are usually the goriest , ranging from people being torn open , or someone's head being blown off .  however , some plot elements also may elicit laughs from the audience , including a menage a troi that is all but necessary .  many people dislike the species series because all it is is an excuse for sex , nudity , and gory violence .  however , i tend to disagree .  what were the alien films about ?  and , if an alien species ever did come to earth , and their sole purpose was to destroy us , wouldn't you mate as quickly as possible with as many people as possible ?  my only gripe with this is during the scene where patrick goes searching for a mate in a grocery store .  i didn't realize that aliens were that picky on choosing women to mate with ( i just assume it is his part-human side looking for the most beautiful one ) .  the acting is quite good for this kind of film .  it is a vast improvement over the first film , at least .  the acting is the key element to this film : if it was bad , it would have lowered itself into camp ; if it was good , it would have asked for comparison with films like aliens .  okay , so it isn't that good .  george dzundza is probably the most obvious mistake on casting , as his over-the-top impersonation of a general makes him annoying and distracting .  natasha henstridge is limited this time around , as she is usually enclosed in a cage .  however , she does manage a very impressive performance with this aspect hindering any of her talent .  oh yeah , and she's quite fun to just plain watch .  marg helgenberger is immensely better this time around , and her performance is probably the best in this film .  michael madsen is so-so , but he isn't annoying , and he soon becomes rather appealing ( with his nice cynic personality ) .  james cromwell has a small part , but he makes it much better than what it could have been with a more incapable actor .  as i say , any film with james cromwell dramatically increases in likeability .  mykelti williamson gives an enjoyable performance , and he gives the film a more down-to-earth feel .  and , of course , justin lazard .  lazard has so far been ridiculed for his performance , but i think he is effective .  sure , he is wooden , but isn't that what his character is like ?  the moment when he touches the glass separating henstridge from him was extremely well done , due to the couple's acting .  species ii is rated r for strong sexuality , sci-fi violence/gore and language .  this is definitely an r rated film that young kids should not see .  more than likely , they would probably have nightmares and never have sex for the rest of their lives .  hell , i don't even know if i will .  what is sure to be a critically lambasted film turns out to be the surprise film of the year .  i probably won't see another film where i was expecting so little and got so much for quite a while .  director peter medak has crafted a very suspenseful , and sometimes very scary movie out of a mediocre series .  medak has also mastered the wonderful \" jump ! \"  moments , and has probably the second scariest moment i have ever seen on film ( scream still has the first ) .  strong acting , smart dialogue , intelligent plotting , and a sure-handed director , species ii is exactly what these films should be : entertaining .  \n",
      "one of the biggest cliches of any serial killer film is also one of the most believable .  you know , the one where the detective looks at a wall of pictures and other police information , and suddenly spots the clue which reveals who the killer is .  sure , it's been used over and over , but for some reason , it is always fun to watch .  this cliche pretty much describes the level kiss the girls works on : overused , but always fun .  one of my personal rules about watching a film is not how original the film is , but how it goes around giving its story .  this rule applies highly to kiss the girls .  there is something psychologically stimulating in a well-crafted serial killer movie , and kiss the girls is certainly well made .  however , the whole film screams of unoriginality , and so it relies on the power of its actors and the technical detail to pull it through .  well , not only are the actors capable of pulling it through , but they add so much to the film that nearly every flaw is covered up .  unfortunately , one of the most revealing and rather insulting choices by the filmmakers ( one that seven , a film a lot like this one , knew not to make ) was to put the name of the killer in the opening credits .  that may give the actor credit for the role , but throughout the film , hidden in my mind , i was waiting for him to appear on screen , which spoiled the mystery .  however , credit must be given to the director for suspending this knowledge through most of the film .  plotwise , kiss the girls shows almost no originality .  we are introduced to detective alex cross ( morgan freeman ) , a forensic psychologist , and immediately we are given the cliched scene establishing him as the hero .  he gets a call about a woman who has shot her husband and is now threatening to kill herself .  obviously cross succeeds at getting the gun , but this scene is quickly forgotten during the next scene .  at his house , cross is told that his neice , naomi ( gina ravera ) , has been missing for four days .  this provides the motivation for cross to find the killer , but we are never given a chance to establish the relationship between the two , and as a result , we can't sympathize with detective cross .  however , what makes kiss the girls slightly original is the introduction of one of the abductees . . .  before she is abducted .  dr . kate mctiernan ( ashley judd , the actress of the judd family ) is a smart , athletic woman , and because of these traits , becomes a target for casanova--what the serial killer likes to call himself .  because of these character-developing scenes , we care for mctiernan , making the abduction scene all that more suspenseful .  after being abducted , mctiernan wakes up and finds herself in a cell somewhere in the woods .  remembering that the killer gave her certain rules , she decides to break one of them by calling out .  when casanova comes to punish her , she breaks out and escapes by jumping over a waterfall .  after she is found , she begins to help cross find his neice .  from this moment on , kiss the girls takes on the form of every other serial killer film , as the two leads search for the rest of the victims held captive .  many people will compare this film to 1995's seven , another killer film starring morgan freeman , but i presume that the similarities are intentional .  the screenplay , by david klass , is adapted from the novel written by james patterson , and yet i don't quite see how this story could have worked in novel form .  what makes kiss the girls so good is the acting and the technical and visual impressiveness .  the cinematography , by aaron schneider , is reminiscient of seven , and sometimes i felt that many of the shots were trying too hard to impress us .  sometimes a simple shot is the best one .  however , many of the shots are stunning , and unlike seven , most of them take place during the day , in sunlight .  the scene when ashley judd is running through the forest is extremely well done , in more than one way .  the camera work is terrific , but the editing makes this scene work so well .  the chaotic and mtv-type cutting gives the audience a sense of confusion and unawareness , exactly what judd's character is experiencing .  however , the best aspect of kiss the girls is its actors .  morgan freeman is one of today's most powerful and believable actors .  detective cross is a very good character for him , although it is just a similar one to the character in seven .  because of freeman's powerful presence , he carries half the film by himself .  the other half is carried by ashley judd , one of today's most promising dramatic actresses .  in fact , her performance is better than freeman's , if that is even possible .  her character is more original than freeman's , and she handles it wonderfully .  we finally have a female character in a movie like this who does more than just scream .  the supporting cast is highly underdeveloped , but the cast members do as much as they can with it .  cary elwes portrays a cop in north carolina , and unfortunately has scraps for a character .  tony goldwyn fairs slightly better , but we don't really get to know his character either .  gina ravera gives a good performance , but again she isn't in many of the scenes .  so as a result of all these small supporting parts , the weight of the film lies on the two leads , and they do a phenomenal job .  some of the best acting of this genre , and some of the best acting of the year .  two other essential aspects of the film are quite good .  director gary fleder does a good job of controlling his actors , but the second half of the film loses believability , especially during the revelation of the killer .  he also doesn't handle the suspenseful scenes as a better director would have , losing a lot of tension during many scenes .  however , to his credit , he does manage a terrific first half .  part of the blame falls on david klass .  i'm sure the book developed many of the lesser characters more , but klass focuses on the two main parts .  while this may give the two leads more screentime , many of the small characters are one-dimensional , and the killer , when revealed , is extremely implausible .  thanks to the smart dialogue adapted from the novel , kiss the girls always seems intelligent .  none of the conversations are laughable , and all move the plot forward without seeming forced .  one of the biggest problems i had with the movie was the motive of the killer .  i blame this mainly on the casting director , because the killer's motive is because of rejection from women ( or so i assume from the opening monologue ) , but the killer himself is very attractive ( one of my friends is a , shall we say , big admirer of the killer ) .  kiss the girls is rated r for terror , violence , language , and suggested sex .  with all the implausibilities of this film , and with the mediocre second half , kiss the girls somehow manages to thoroughly entertain .  in fact , i had the urge to see it again just for the performances .  the cinematography adds a lot of mood to the already creepy tone , and the script is usually smart .  this is clearly one of those movies which rely on the acting to pull it through .  morgan freeman is possibly today's most convincing actor , and ashley judd adds another notch on her acting belt .  i must also say that i loved the ending .  the showdown between good and evil was quite tense , and the resolution of the scene makes almost anyone cheer .  perhaps it may not be possible , but most of the film isn't anyway .  \n",
      "there are certain people in the world who have some talent that very few people have , but they chose not to take advantage of this for some personal reason .   \" good will hunting \" is about one of those people .  the will hunting of the ( horrible ) title ( let's face it , this film would be a bitch to title ) , played by co-writer matt damon , is a mathematical genius .  he can do almost any mathematical connundrum in about the time it takes to brew a cup of irish cream cappuccino .  and he works at mit . . . as the janitor .  one day , the professor of one of the most challenging courses , proffessor lambeau ( \" breaking the waves \" 's stellan skarsg ? rd ) , puts a big problem on the board for his students to attempt to complete .  the next day , it's already done on the board , but no one in his class claims to have done it .  so lambeau puts another problem on the board , this time one that took he and his colleagues over two years to prove .  and , duh , it's done again .  of course , they catch the guy who did it red handed - will .  before lambeau can find will again ( he ran away when he caught him ) , will has gotten into a fight with a bunch of punks on a basketball court , and struck a police officer , so lambeau gets him out on probation with two agreements : a ) he work with him on math , and b ) he get some therapy .  after going through some therapists whom he psyches out in one way or another ( for a hypnotist , he fakes being under his spell , then launches into an impromptu performance of the 70s classic , \" afternoon delight \" ) .  finally , lambeau's old college roomate , sean mcguire ( robin williams ) , a psych professor , agrees to treat him , and the two begin a rocky relationship , as sean tries to get will to open up .  turns out will had a rough childhood , being abandoned , and placed in foster homes and what not .  it also turns out that will does not want to do simple mathematics all his life ; he wants a challenge .  and that is to hang out with his buds ( including the other co-writer , ben affleck ) , and do honorable jobs , like construction .  is it right to make this genius follow in the footsteps of einstein and kasinsky ?  should this guy be forced to do something he doesn't want to do ?  this appears to be one of the million questions in this film , which is jam-packed with greatness , but does not have the totally brilliant whole it should .  i'm not saying \" good will hunting \" is a bad film at all .  it's a very enjoyable film with tons of great moments , and lots of great things about it .  the acting is amazing , with two oscar-nomination-worthy performances from damon and williams , who have amazing chemistry together .  we also get some great support from stellan skarsg ? rd ( great name ) , ben affleck , and from minnie driver , who plays will's love interest , skylar .  there are tons of individual moments that i adored .  i loved all the comedy in the film , especially a scene where damon proves a schmuck out of a college student who is quoting a historian to impress some chicks , his various attempts at therapy , and of course , my favorite scene in the entire film , the one where he delivers a long , exstensive rant to some nsa agents about the downside of working for them .  i liked the relationship between some of the people , like will and skylar , will and sean , sean and lambeau , and will and his friends .  there are scenes between them which are just amazing to watch .  and there are even moments in the film which are so honest in their portrayal , that i felt rightfully uncomfortable .  like the break-up scene between will and skylar , will and sean's first meeting , a bar scene between sean and lambeau , and a scene where sean tells in detail how he doesn't regret meeting his first wife , who would later suffer a slow , painful death , and leave him lonely and slightly bitter .  however , the main flaw of the film is there's too much of everything , and not enough of it either .  the film tries for deeper relations between the characters , but they're sometimes either overwritten or underwritten .  take for example the relationship between sean and will : the film gets an interesting father/son as well as doctor/patient relationship going with out any problems , but when it tries to show them as equals , it falls on its face .  we hear how they went to the same town , and there are even scenes where the film shows how hypocritical both of them are at times .  but this never takes off like the other parts of their relationship do .  also , will's relationship with his best friend , chuckie ( affleck ) , has a nice climax , but not enough rising action .  we see them joking around , but when chuckie arrives at a decision between the two of them , it seems more like a superficial reasoning than a more selected one .  their relationship never goes beyond \" just best friends , \" and his decision just seems to be a generalization of any two best friends instead of something more . . . human .  maybe it was just me .  and it also goes for a parallelism with the relationship between sean and lambeau , but that , again , is underwritten .  and , of course , as in most films like this , the girl/boy relationship is pretty underwritten .  we never understand what they see in each other , so when skylar confesses that she loves him , it seems more like it's there for plot details that anything else .  minnie driver is interesting , though , and breathes life into her character .  the writing is a bit at fault here , but what makes all this worthwhile is the little moments in the film where it acheives true awesomeness .  sure , it feels overstuffed , but it's extremely enjoyable .  the dialogue that affleck and damon have written is amazingly fresh , and seems extremely human .  i think that they should get a nomination for their script chiefly because of the dialogue , which is amazing .  while this is probably director gus van sant's most conservative film ( you'd hardly know it's the same director of \" to die for , \" the only van sant film i've seen , really ) , it's still a pretty remarkable film , albeit a tad overrated ( what's this \" best picture \" deal ? ) .  and if a film puts a smile on my face despite posessing a lot of flaws , i have no problem with reccomending it to anyone .  \n",
      "in the wake of the smashing success of \" rumble in the bronx , \" it's looking more and more likely that more jackie chan films will see american release .  rumor has it that one of these films will be drunken master ii .  the version i have is a copy from the laserdisc ; it's widescreen and bilingually-subtitled , as are most hong kong films these days .  availability over here in the united states is very limited ; these films must either be purchased via pirates or sought out from asian distributors such as tai seng .  the subtitling on the copy i have is slightly hard to read ; the letters are white and a bit small .  although the american release will almost certainly be dubbed , this review is of the subtitled version , so please keep that in mind if you're reading this review to help you decide whether to go out and see it .  to be fair , i must admit that i've never been very fond of \" period-piece \" martial arts movies--the ones set in some nebulous china of the distant or not so distant past .  perhaps it's because most of those i've seen were filmed on inferior stock , with either butchered dubbing or all-but-illegible subtitling , or perhaps it's because their plots all tend to be very similar to each other and , in many cases , all but nonexistant .  in fact , many of them get so wrapped up in their subplots that they seem to forget their main plot entirely until only a few minutes before the end .  or , for that matter , it might be because the jackie chan films with more modern settings ( armour of god , rumble in the bronx , etc . ) tend to have more spectacular stunts , often involving large motor vehicles and large explosions , whereas period pieces simply have the martial arts .  having said that , i must now turn right around and say that drunken master ii is a remarkable exception to all or most of the above , is one of the better martial arts films i've seen , and i quite enjoyed it .  surprised ?  well , so was i .  drunken master ii is about a young man named wong fei-hong ( played by jackie chan ) who is a master of the drunken boxing style of kung fu .  where he learned this style is uncertain , as his father , wong kei-ying ( ti lung ) is steadfast in his opposition to fei-hong's practicing it rather than some more normal style of kung fu .  apparently , fei-hong is some sort of figure from chinese folklore , rather like paul bunyan is for americans , but i've heard very little about this , and could quite well be wrong , so i'll leave analysis of that to the people who know it better .  one of my friends points out that the character of wong fei-hong is also featured in the \" once upon a time in china \" movies , but i have not yet seen those .  the plot of drunken master ii is somewhat hazy , as are the plots to many such films , but if you're watching a jackie chan film , odds are you aren't expecting something on the order of \" war and peace \" .  the story seems to revolve around those evil foreigners who are spiriting away ancient chinese relics ( and hence , china's cultural heritage ) while overworking , underpaying , and beating up chinese workers in a nearby steel mill .  however , this plot merely serves as a framework for the other main story of the film--fei-hong's perpetual struggle to win his girlfriend , supplicate his father , keep his ( pregnant ) mother ( played by anita mui ) from fighting , and keep from getting beaten up by evil foreigner thugs .  the macguffin that drives the plot ( s ) is a precious antique jade imperial seal which is being taken away by the evil foreigners .  in the beginning , fei-hong accidentally steals it while trying to recover an identically-wrapped box containing the medicinal ginseng his father was bringing back for a customer .  in the process , he clashes with another thief , who is himself trying for the seal but ends up instead with the ginseng .  after fei-hong narrowly avoids getting caught with the seal by the evil foreigners' lackies , thanks to some timely intervention by a general's son ( a cameo appearance by andy lau , who would later take on the starring role in drunken master iii ! ) , comedic chaos ensues back at the wong household when fei-hong and his mother attempt to come up with a replacement for the missing ginseng .  and so it goes .  and the plot thickens later on , such as when fei-hong's girlfriend maneuvers him into a kung fu match with a rival , or when fei-hong and the thief , now revealed to be a loyalist manchu officer trying to recover the seal and stop the evil foreigners , are attacked en masse ( another grand kung-fu movie tradition ) , but i think i've already spent more time on the plot than it really deserves .  let's move on to the real draw of jackie chan movies . . . the  action .  there's plenty of martial arts action to be found in this movie . . . of  course , in a kung fu film , that's to be expected .  however , this isn't just another kung fu movie ; this one has jackie chan doing the fight and stunt choreography , and jackie chan is a genius .  the primary martial arts \" style \" featured in the film is drunken boxing , a form of kung fu which attempts to draw the adversary off his guard by making it seem like the fellow using it is drunk .  further , for the purposes of this film at least , drunken boxers fight better when they actually _are_ intoxicated . . . but  there's a fine line between just drunk enough and drunk into a stupor .  under normal circumstances , the idea of someone staggering around looking sloshed but managing to fight effectively and even incredibly might seem rather stupid , but jackie pulls it off with flair .  the kung fu sequences are so intricate in their staging and execution that it is pointless to try to describe it on paper , so i'll just say that the fights--especially the big climactic fight at the end--in themselves make the movie worth watching .  another thing drunken master ii has going for it is the stunt work .  even without motor vehicles ( well , not counting a train ) , there are some remarkable stunts in this film .  among other things , jackie dives off a balcony into a table and crawls across hot coals ( not once , but at _least_ twice , if you count the outtake shown during the credits ) .   ( quicktime movies of these stunts can be found through the www movie database . )  unlike in american films , these stunts are _not_ faked .  drunken master ii stars several veteran actors of the hong kong movie scene , including jackie , ti lung ( \" a better tomorrow \" 1 & 2 ) , and anita mui ( the \" heroic trio \" series , \" rumble in the bronx \" ) .  the performances are first-rate , especially when it comes to the comedy parts of the film .  the scene where fei-hong and his mother conspire literally behind fei-hong's father's back to cover up for the missing ginseng root is hilarious , as is the scene where fei-hong's mother , having just revealed that she is pregnant , is threatening to hurt herself ( in order to draw her husband's anger away from fei-hong ) .  jackie has developed his knack for physical comedy into a sort of mastery over the years , and he's in fine form all through drunken master ii .  as far as cinematography is concerned , it certainly works for this film .  it's nothing spectacular , but is at least a dozen times better than all those old kung fu movies of the 70s .  the picture is crisp and clear .  one thing i find particularly worthy of mention is that , at least in the copy i have , the screen was wider than any film i've ever seen on videotape before--almost a whole 1/3 of the screen was blocked out above and below .   ( watch this on a bigscreen tv or movie theater if you can . )  it will be an utter shame if this film is eventually pan-and-scanned for american video release .  drunken master ii shows the full potential of \" period piece \" kung fu movies , and it's good enough to overcome even my usual distaste for such movies .  the plot does meander a bit , but that's to be expected in this type of film .  if you like this kind of movie , you'll love this movie , and if not , well , give it a chance anyway .  if nothing else , the martial arts and stunt sequences are by themselves worth the price of admission or rental .  \n",
      " \" love is the devil \" is a challenging film , munundating its audience with wild imagery and a plot structure that disallows a plot , perhaps in an attempt to get us to know the artist's psyche rather than the artist's lifeline .  watching it , i was enthralled with the look of the film , the way the director shot everything like it was looking through a bizarre , personalized filter .  everything looks like it is not how life looks like but how painter francis bacon , the film's subject , looked at it personally .  but while i was engrossed , i stumbled upon my thoughts halfway through the film , awakened from my trance by some inner distraction , and began to try and follow what's going on .  exactly what was i looking at ?  watching this film , i wasn't sure if it was the most insightful film i had ever seen or the most vacuous .  directed ( and written ) by john maybury , \" love is the devil \" is stylish masterpiece for the senses .  everything looks originally bizarre and perplexing .  the camera angles are ferociously askew , and the close-ups are uncomfortably too close .  the editing is deft , occasionally cutting away to something bizarre every couple seconds , but other times holding on a shot for so long that you wonder if the audience is not supposed to be voyeurs , or rather , intruders to bacon's world and psyche .  as such , there is no real story .  i've not heard much about francis bacon that i didn't read prior to the film , but what i learned was this : he was a painter in england who reached his peak during the 60s and 70s , drawing hideously bizarre drawings of carnage and the like .  he was one of the first to really come out of the closet , and in interviews , he was notoriously drunk yet incredibly witty .  as played by great shakesperean actor derek jacobi , he's like a foppish and self-absorbed cross between oscar wilde and nero .  he lives life the way he wants to live it , to the disatisfaction of those who have the privelege of being really close to him .  it's as if he were taking delight in the destruction of others and maybe himself ( \" champagne for my real friends , and pain for my sham friends , \" he says one night at the bar he frequents ) .   \" love is the devil \" chronicles the latter part of his life .  bacon , well-known in his mid-life , awakens one night when he hears a man tumble through his ceiling window and land on the floor .  he walks in , unafraid of what he finds , and discovers a thief , george dyer ( daniel craig ) .  bacon gives him an offer : if he spends the night with him , he can take anything he wants in the morning .  george agrees to this , and off to bed he goes , but ends up staying with him , for whatever reason .  the film shows their lives together , at least in reference to one another .  while creating bacon's world of friends ( like \" high art , \" this film minors in showing a certain group of people who radiate a connection that is not shown but is understood ) , the film shows the relationship of bacon and george as it remains rather stagnant .  bacon is haughty and bizarre ; george is simple and doesn't understand bacon in the least , especially not his paintings .  while watching this , that's basically all i thought was there .  the film has a hypnotic feel , free of any restraints of form , and is shot so uniquely that i felt my attention was almost entirely on the way this film was made rather than what it is about .  once the film is over , it's easier to piece it together .  i kept on thinking about this film , wondering what the point to all of it was .  someone doesn't merely make a film of all style and no substance at all , and if they do , they do it by accident , but still allow some substance to creep in .  thinking about it , i remembered how the two fed off of eachother .  i thought about how bacon was a masochist , in love with cruelty ( in one scene , he watches a boxing match with a orgiastic delight , and lets out a squeal of pleasure when blood from the one boxer's head splashes across his face ; in another scene , he masturbates to the odessa steps sequence of eisenstein's \" battleship potemkin \" ) , and perhaps he drove george too far in his delight for pain .  he drove him over the edge , and for him that was love , even if it wasn't for george .  i guess that explains the title .  a bit .  that's great and all , but i almost wish the film was devoid of any meaning .  i wish it hadn't reduced itself to making some point about humanity , about how love is the most selfish thing in the world ( and it is , if you look at it a certain way ) .  or maybe if it had avoided any meaning about humanity and merely drove itself into being the one film that was truly inside one man's twisted pysche .  it's almost always best to obtain insights from looking at one man's uniqueness than it is forcing universality down an audience's throat .  that way you don't reduce your film to something it's just not .  i can't say i totally enjoyed \" love is the devil , \" though .  despite all of the things i respect about this movie , it's still rather uncomfortable to sit through .  even at a normally trite length of ninety minutes , the film still seems like an arduous task to sit through , especially after an exhausting first hour .  though hypnotic , it still almost seems gimmicky and even redundant at times , as if it were taking advantage of one man's truly bizarre nature but not doing anything deeper with it .  as such , i respect the way the film looks .  it's beautiful and painstakingly crafted so that , along with \" what dreams may come \" and \" dark city , \" it's the year's most visually stunning film .  in fact , if a better script had been forged , i'd almost compare it in visual power to a peter greenaway film , complete with similar haunting images that stick in the mind forever .  and with a dymanite performance by derek jacobi , it has the comic and distanced tone that it needs .  i just wish it had been more than mostly style and just a hair bit of substance .  then i would have had something to hold me over even now .  \n",
      "making a sequel to a widely beloved film is a weighty proposition indeed , especially when the first film is considered by many to be a masterpiece .  when it comes to living up to expectations , a filmmaker is almost doomed to some degree of failure .  for a sequel to live up to or even surpass the original's greatness is very rare indeed .  and whereas \" babe : pig in the city \" misses equaling the greatness of its best picture nominated predecessor babe , it is a worthy companion piece .  more than that , it is a spectacular work of art that deserves to stand alone in its own right .   \" babe : pig in the city \" warrants the classification of being recognized with such classics like \" the godfather : part ii \" and \" the empire strikes back \" as being one of the greatest sequels ever produced .   \" babe : pig in the city \" picks up precisely where \" babe \" left off .  having won the sheep herding competition , farmer hoggett ( james cromwell ) and his pig are elevated to fame status .  a series of unfortunate circumstances and hilariously freakish events leads to mrs . hoggett taking babe from the small country farm into the big city .  in doing so , the film transports us into a wonderfully imaginative world that simultaneously mirrors and exceeds the creative design seen in the original .   \" babe : pig in the city \" flourishes where so many sequels fail .  most sequels simply rehash the events of the first film .  not \" babe : pig in the city \" .  this is a completely original tale that offers up a story drastically different than the first .  also , by not being content to utilize most of the old characters , this film gives us many new ones to enjoy .  in essence , it doesn't attempt to copy itself .  instead , it strives to achieve an originality of its own .  and it succeeds .  that's not to say the familiar is absent .   \" babe : pig in the city \" retains some of the best core elements and characters from the first film .  along with babe himself , ferdinand the duck comes along for the ride , as does mrs . hoggett ( one of this decade's best and most underappreciated comic characterizations , hilariously performed by magda szubanski ) .  the three singing mice also make the journey , chiming in with their cute high-pitched vocals .  the story structure is also similar as each segment is introduced with title cards read by the aforementioned mice .  from there , we are guided once again by roscoe lee browne's soothingly deep narrative .  composer nigel westlake also returns with his whimsical music style that is perfect for cinematic fables such as these .  but these elements are simply the frame that surrounds an entirely new painting .  while staying at the flealands hotel , babe encounters a veritable ark-full of new animals .  monkeys , kittens , and dogs of various breeds and sizes are some of the new \" urbanites \" that babe befriends , as well as some wonderfully comical pelicans that ferdinand the duck happens to encounter .  each character is distinctly unique , some of which are imbued with personal human-like struggles that are endearing and touching .  and while this world focuses largely on these animals , we are introduced to two new human characters as well .  mary stein plays the owner of the flealands hotel , an animal-loving young spinster who harbors these lost creatures much to the dismaying anger of her fellow neighbors .  stein's landlady is a wonderfully odd caricature .  we also meet fugly floom , an old soft-spoken clown who owns many of the animals in the flealands hotel , utilizing them as a part of the act that he performs at different parties and functions .  not having known who portrayed fugly floom prior to seeing the film , it came as an unexpected pleasant surprise to see who it was .  so as not to ruin this well-kept secret , i won't reveal the actor's identity here .  it was a treat indeed to see one of cinema's legends grace the screen again in what was a superbly gentle and heartwarming performance .  the greatest triumph of \" babe : pig in the city \" is the art direction .  simply put--it bleeds creativity , taking the look of the original film to a whole new level .  restricted primarily to a farm the first time around , this second installment creates an entire city , dazzling us with unique fable-like architecture .  but the stroke of pure genius by production designer roger ford is his use of our world's architectural landmarks .  designing a skyline that includes the statue of liberty , the sydney opera house , the brooklyn bridge , the hollywood sign and the eiffel tower , ford has created a singular city that encompasses all of our cities ( as seen in the film photo and pre-production drawing to your right ) .  added to that , many of this city's streets are the twin siblings of venice's gondola-trekked rivers .  the metropolis that has sprung from ford's vision is a wondrous sight to behold .  it is a world that you want to walk around in .  norma moriceau's costume designs belong in this world , vibrant in color and style equal to that of the ford's landscape .  most of the costumes are imaginatively cartoonish , with the most exotically grand design going to that of fugly floom's clown outfit .  andrew lesnie's photography captures these elements with various lighting moods that are beautifully effective in creating the film's multiple emotional tones .  much press fodder has been made over the weeks leading up to the release of \" babe : pig in the city \" .  reports stated that its original cut was branded with a pg-13 rating .  these reports were discovered to be false as it was assigned a pg rating .  but even so , to be anything harsher than the original' s g rating had many parents and fans up in arms .  by deleting a minimal number of shots , \" babe : pig in the city \" was eventually given the coveted g rating .  although appeased , many fans were still concerned that it would be too dark , fearing that the film may have come to be possessed by tim burton himself .  well , to coin a phrase , the reports of \" babe : pig in the city \" 's death at the hands of a dark , scary , felliniesque interpretation have been greatly exaggerated .  granted it has its moments of pseudo-morbidity , but all-in-all \" babe : pig in the city \" is the funny and charming adventure that everyone was hoping it would be .  whatever \" dark \" moments it may have can be attributed to director george miller ( the \" mad max \" trilogy , \" the witches of eastwick \" , \" lorenzo's oil \" ) .  having served as a producer and co-writer on the first film , miller moves into the director's chair for this one , putting his own unique sense of style into this budding franchise .  the story of \" babe : pig in the city \" is an enchanting yarn , but one that doesn't achieve the emotional or character depth of the original .  missing here is the attempt to broach such heady themes as personal identity , an individual's worth , challenging conformity , and one's purpose in life .   \" babe \" dealt with this weighty subject matter , creating a timeless fable .   \" babe : pig in the city \" should not have rehashed these themes , but i do wish it would have attempted to explore new ones .  this film is not bereft of moral or message as it parallels such issues as urban strife , class differences , sacrificial courage , and so on .  but this film's goals aren't as lofty as the first's , instead choosing to take a more straightforward approach , allowing its themes to take a back seat to an exciting , sometimes intense , fable adventure that is undeniably clever and inventive .   \" babe : pig in the city \" also decides against developing a relationship to the level of which was present in the first film , specifically the one between farmer hoggett and babe .  hoggett's love for babe , which grew ever so gently , is what gave that film its charming and endearing quality .  best exemplified in hoggett's dance for babe , this moving relationship was truly unique .  it is something that i wish would have been present again ( and could have through fugly floom ) , but was not .  please understand , these are not negative criticisms , per se' , but simply statements of what i see as the differences between \" babe : pig in the city \" being a very good film and the original being a great one .  but having said that , these observations are minor critiques at best .  as an overall piece , \" babe : pig in the city \" is a thoroughly enchanting and entertaining fable from beginning to end .  sure , it isn't a great film , but it is an excellent one that possesses elements of greatness .  it is a film that is magical with its charm and humor , exciting in its adventurous exploits , funny with its dry wit and cute voices , and breathtaking in its presentation .   \" babe : pig in the city \" may not be moviemaking at its absolute best , but it is on level of cinematic quality that is rarely achieved or seen in cinema .  as a result , if you choose to let this film pass you by , you will be missing of the year's best cinematic treats .  \n",
      "seen september 5 , 1998 at 10 p . m . at the sony nickelodeon theaters ( boston , ma ) , theater #2 , with matt perreault for free using my sony/loews critic's pass .  [theater rating : * * 1/2 : okay seats , sound , and picture]  modern society is now inundated with more sex and sexuality than it ever has been before , from teenage sitcoms to nc-17-rated films about fetishes .  the biggest debate of the subject is whether or not it affects reality or just reflects it .   \" your friends and neighbors \" takes a different approach as it's a film that revolves almost entirely around sex and how can be used for both pain and pleasure even within a small circle of friends .  one of the most important aspects of the film that most be noted and analyzed before the film can really be dissected as a whole is writer/director neil labute's basic setup and some of the unique methods he employs to tell the story .  firstly , and most importantly is the fact the script tells a rather complex , detailed story of lust , betrayal , arrogance , hypocrisy , greed , and just plain stupidity between six different characters ( three men , three women ) , without hardly any supporting characters , ( a few have a line or two ) , mostly extras .  everything they do will somehow affect another character and ultimately come full-circle back to themselves , whether it be positive or negative .  but to just state this is arbitrary , and explaining and criticizing the process is difficult .  labute's ability to tell his story through a few characters is a remarkable feat , but what's specifically impressive is the fact the characters' names are never revealed until the end credits roll .  for the sake of this review , i will describe the characters and refer to them as their main characteristic .  another interesting accomplishment is the fact every scene takes place inside with limited focus .  we're always able to tell where the characters are ( someone's home , the gym , a restaurant , hotel room , etc . ) , but what the city they live in , what year it is , what the society is like , etc . is relatively unknown .  the film is a complete character study with the tight , intense drama of the theater .  no one plot dominates the story , which makes the first act a bit tedious for its lack of background .  we're simply dropped in on the characters' lives and are expected to figure out the rest .  the characters are a group of middle-class white people who are all successful at what they do , but they're only concern right now seems to be their sex lives .  first there's barry ( eckhart ) and mary ( brenneman ) , a married couple who are going through a dry spell not unlike many other couples in other situations who don't know what they're problem is .  barry is kind of a dorky businessman who loves his wife , and the sex they have , but doesn't have a lot of ambition - he just follows everyone else .  mary is a writer of some sort , but lacks aggression and emotion like her husband and is the meekness character , but ironically , doesn't hesitate to commit adultery just to feel something .  labute's script does a good job in characterizing mary and barry as individuals , but is very light on chemistry and connection between the two .  obviously , this is the theme , which is enhanced by the actors' good performances , but at the same time seems just a bit hollow .  another couple is jerry ( stiller ) and terri ( keener ) who live together and seem to have been involved with each other for a long time , yet they constantly argue over anything and everything .  their sex life is also fraught with problems and for some reason they continue to do it throughout their infidelitous relationship .  if only one aspect of the film could use improvement , it would be this area .  it's natural for a married couple to become bored with each other , but why would two people who can barely stand each other continue to have sex and live together ?  what did they ever see in the other person to begin with ?  labute never really answers , but since the film is more concerned with the payoff than the process , it still makes for good drama , tension , and manip ulation so intricate and deceitful it's fascinating .  two other characters act as catalysts , cary ( jason patric ) and cheri ( natassja kinski ) .  cary is an arrogant , hostile sex-maniac who defines the word \" bastard . \"  somehow he is able to bend women to his will , either through charm or just attitude , into getting his way .  he's the kind of guy everyone should stay away from as we realize he's secretly perverted , but somehow barry finds comfort in his company , although jerry is always nervous around him .  patric gives an outstanding performance , so much so that we want to know more about him despite how intimidating and unlikable he is .  cheri is a character labute uses as a catalyst to see how the other characters react to her .  she works in an art museum and at some point throughout the film , each character will engage her in almost the exact same conversation and her reaction is always different , from becoming involved in a relationship with one , to brushing it off as small talk with another , to being outright appalled by yet another .  she's a sweet woman , perhaps the most normal of any of the characters , and although her symbolism is obvious , her role as the outsider is the most relatable .  i will not reveal who cheats on who and how each character is specifically affected by the others' action , as that's the hook of the film .  the first two acts begin to set up the characters and each's scenarios , but it's often difficult to tell what they will do about it and with whom .  the result is sometimes surprising , other times predictable , but the actual course of actions is always fascinating .  for a while everyone has their fun , but ultimately each character's guilt , attitude , or ignorance will disserve them .  one of the most important things to note is how realistic the story is supposed to be .  since the characters only interact with each other there isn't much pop culture references , as almost everything has a deeper philosophy behind it .  are we to assume that these people are , as the title states , our friends and neighbors ?  i don't know of anyone going through the same situations as these people .  often times the film is not unlike a network melodrama , other times situations are like those not seen outside a porno movie .  but what this film does have that the others don't is repercussions in the end .  although the film creates its own reality , it goes to show that even the immoral aren't immortal .  in what way \" your friends and neighbors \" is supposed to work is open to interpretation .  it definitely has a lot to say about the price that comes with infidelity , but it could have been even better had it expanded on that theme more specifically .  still , it's an accomplishment in film-making because it has put a timeless theme into a modern perspective .  \n"
     ]
    }
   ],
   "source": [
    "# fill in your code...\n",
    "print('top 10 negative 1-10')\n",
    "for i in range(1,11):\n",
    "    print(X_test_raw[index[i-1,0]])\n"
   ]
  },
  {
   "cell_type": "markdown",
   "metadata": {},
   "source": [
    "If we were to apply the classifier we've learned into a different domain such laptop reviews or restaurant reviews, do you think these features would generalise well? Can you propose what features the classifier could pick up as important in the new domain?"
   ]
  },
  {
   "cell_type": "markdown",
   "metadata": {},
   "source": [
    "I think it might be a little difficult to apply this classifier,because this classifier is about movies, emotional vocabulary will account for the vast majority. However, laptops may have comparisons such as numerical values, comparison of objective attributes, such as comparison of CPU and GPU models, and comparison of such attributes."
   ]
  },
  {
   "cell_type": "markdown",
   "metadata": {},
   "source": [
    "## Train and Evaluate Logistic Regression with TF.IDF vectors\n",
    "\n",
    "Follow the same steps as above (i.e. evaluating count n-gram representations).\n"
   ]
  },
  {
   "cell_type": "code",
   "execution_count": 33,
   "metadata": {
    "ExecuteTime": {
     "end_time": "2020-02-15T14:17:54.414637Z",
     "start_time": "2020-02-15T14:17:51.625934Z"
    },
    "scrolled": true
   },
   "outputs": [
    {
     "name": "stdout",
     "output_type": "stream",
     "text": [
      "Epoch times: 0, Training loss value: 0.7961803324262857, Validation loss value: 0.8805536715692955\n",
      "Epoch times: 1, Training loss value: 0.695720397715392, Validation loss value: 0.8157106366431993\n",
      "Epoch times: 2, Training loss value: 0.625428781520306, Validation loss value: 0.7736591046570265\n",
      "Epoch times: 3, Training loss value: 0.5717758283666531, Validation loss value: 0.7375531347311709\n",
      "Epoch times: 4, Training loss value: 0.5258114869056711, Validation loss value: 0.7130212236252071\n",
      "Epoch times: 5, Training loss value: 0.4903877821693669, Validation loss value: 0.6884843956364922\n",
      "Epoch times: 6, Training loss value: 0.460763008736669, Validation loss value: 0.6690819661256523\n",
      "Epoch times: 7, Training loss value: 0.4330799677798458, Validation loss value: 0.6529878232147064\n",
      "Epoch times: 8, Training loss value: 0.41158260673321195, Validation loss value: 0.6389297020287383\n",
      "Epoch times: 9, Training loss value: 0.38965605207868853, Validation loss value: 0.6265527736274082\n",
      "Epoch times: 10, Training loss value: 0.3738271100947649, Validation loss value: 0.6160716767636649\n",
      "Epoch times: 11, Training loss value: 0.3555557199265661, Validation loss value: 0.6058568096042866\n",
      "Epoch times: 12, Training loss value: 0.3419479773451733, Validation loss value: 0.5976050362956542\n",
      "Epoch times: 13, Training loss value: 0.3281448737935226, Validation loss value: 0.5897199170564139\n",
      "Epoch times: 14, Training loss value: 0.31533442702956765, Validation loss value: 0.5824827216437057\n",
      "Epoch times: 15, Training loss value: 0.30636065361100256, Validation loss value: 0.5768809779312594\n",
      "Epoch times: 16, Training loss value: 0.2965556311739513, Validation loss value: 0.5713556105442689\n",
      "Epoch times: 17, Training loss value: 0.2868911078490977, Validation loss value: 0.5659787056658382\n",
      "Epoch times: 18, Training loss value: 0.2787972608109175, Validation loss value: 0.5615930982266102\n",
      "Epoch times: 19, Training loss value: 0.27043617449561236, Validation loss value: 0.5571498004530983\n",
      "Epoch times: 20, Training loss value: 0.26396961179360995, Validation loss value: 0.5539060267441416\n",
      "Epoch times: 21, Training loss value: 0.2578157760038303, Validation loss value: 0.5513381764036314\n",
      "Epoch times: 22, Training loss value: 0.2528207799138613, Validation loss value: 0.5496686332861351\n",
      "Epoch times: 23, Training loss value: 0.24691717288661758, Validation loss value: 0.548486663655729\n",
      "Epoch times: 24, Training loss value: 0.24265012446881262, Validation loss value: 0.5491210477910337\n",
      "Epoch times: 25, Training loss value: 0.23976055526061293, Validation loss value: 0.5529670352881416\n",
      "Epoch times: 26, Training loss value: 0.23820551595067865, Validation loss value: 0.6238498974076809\n",
      "Epoch times: 27, Training loss value: 0.23434507726650364, Validation loss value: 0.5482149053419598\n",
      "Epoch times: 28, Training loss value: 0.23095671464260292, Validation loss value: 0.5397218772733001\n",
      "Epoch times: 29, Training loss value: 0.2297548318429224, Validation loss value: 0.5347155832482573\n",
      "Epoch times: 30, Training loss value: 0.23435531295281897, Validation loss value: 0.5314423865807424\n",
      "Epoch times: 31, Training loss value: 0.22774399521726743, Validation loss value: 0.5309538074703617\n",
      "Epoch times: 32, Training loss value: 0.22447644111087597, Validation loss value: 0.5319733944295846\n",
      "Epoch times: 33, Training loss value: 0.22302086501186347, Validation loss value: 0.5423449055610428\n",
      "Epoch times: 34, Training loss value: 0.2231491965659912, Validation loss value: 0.5383054147286351\n",
      "Epoch times: 35, Training loss value: 0.2249684107767035, Validation loss value: 0.5287975049942935\n",
      "Epoch times: 36, Training loss value: 0.22964080848840418, Validation loss value: 0.5271671259756285\n",
      "Epoch times: 37, Training loss value: 0.230788483144239, Validation loss value: 0.5288318734119134\n",
      "Epoch times: 38, Training loss value: 0.23492633834564294, Validation loss value: 0.5357598038520336\n",
      "Epoch times: 39, Training loss value: 0.2418216631574089, Validation loss value: 0.5506422918015005\n",
      "Epoch times: 40, Training loss value: 0.2518327000507637, Validation loss value: 0.5729131096179386\n",
      "Epoch times: 41, Training loss value: 0.265764486350773, Validation loss value: 0.5767499848800016\n",
      "Epoch times: 42, Training loss value: 0.2867462068864808, Validation loss value: 0.6113031301118718\n",
      "Epoch times: 43, Training loss value: 0.3143644513269891, Validation loss value: 0.6408757976977851\n",
      "Epoch times: 44, Training loss value: 0.3557035414613691, Validation loss value: 0.7065746484553901\n",
      "Epoch times: 45, Training loss value: 0.42622067807176783, Validation loss value: 0.8187802388683976\n",
      "Epoch times: 46, Training loss value: 0.48628885731619154, Validation loss value: 0.932272529964589\n",
      "Epoch times: 47, Training loss value: 0.5975512747845166, Validation loss value: 1.0733779322377754\n",
      "Epoch times: 48, Training loss value: 0.7257814180907898, Validation loss value: 1.2443914738648174\n",
      "Epoch times: 49, Training loss value: 0.8836244899047402, Validation loss value: 1.2817174719321212\n"
     ]
    }
   ],
   "source": [
    "w_tfidf, trl, devl = SGD(X_tr_tfidf, Y_tr, \n",
    "                         X_dev=X_dev_tfidf, \n",
    "                         Y_dev=Y_dev, \n",
    "                         lr=0.0001, \n",
    "                         alpha=0.00001, \n",
    "                         epochs=50)"
   ]
  },
  {
   "cell_type": "markdown",
   "metadata": {},
   "source": [
    "Now plot the training and validation history per epoch. Does your model underfit, overfit or is it about right? Explain why."
   ]
  },
  {
   "cell_type": "code",
   "execution_count": 34,
   "metadata": {
    "ExecuteTime": {
     "end_time": "2020-02-15T14:17:54.517668Z",
     "start_time": "2020-02-15T14:17:54.417118Z"
    }
   },
   "outputs": [
    {
     "data": {
      "image/png": "[encoded data removed]",
      "text/plain": [
       "<Figure size 432x288 with 1 Axes>"
      ]
     },
     "metadata": {
      "needs_background": "light"
     },
     "output_type": "display_data"
    }
   ],
   "source": [
    "# fill in your code...\n",
    "plt.plot(range(len(trl)), trl, c = 'blue', label='training loss')\n",
    "plt.plot(range(len(devl)), devl, c = 'red',label = 'validation loss')\n",
    "plt.xlabel('Epoch times')\n",
    "plt.ylabel('Loss value ')\n",
    "plt.legend()\n",
    "plt.title('training and validation loss of LR with tfitf')\n",
    "plt.show()"
   ]
  },
  {
   "cell_type": "markdown",
   "metadata": {},
   "source": [
    "**Answer:this model is also overfit, because the training loss is lower than the validation loss.**"
   ]
  },
  {
   "cell_type": "markdown",
   "metadata": {},
   "source": [
    "Compute accuracy, precision, recall and F1-scores:"
   ]
  },
  {
   "cell_type": "code",
   "execution_count": 35,
   "metadata": {
    "ExecuteTime": {
     "end_time": "2020-02-15T14:37:56.489814Z",
     "start_time": "2020-02-15T14:37:56.487014Z"
    }
   },
   "outputs": [
    {
     "name": "stdout",
     "output_type": "stream",
     "text": [
      "Accuracy: 0.4925\n",
      "Precision: 0.4944237918215613\n",
      "Recall: 0.665\n",
      "F1-Score: 0.5671641791044776\n"
     ]
    }
   ],
   "source": [
    "# fill in your code...\n",
    "preds_te = predict_class(X_test_tfidf, w_tfidf)\n",
    "print('Accuracy:', accuracy_score(Y_te,preds_te))\n",
    "print('Precision:', precision_score(Y_te,preds_te))\n",
    "print('Recall:', recall_score(Y_te,preds_te))\n",
    "print('F1-Score:', f1_score(Y_te,preds_te))"
   ]
  },
  {
   "cell_type": "markdown",
   "metadata": {},
   "source": [
    "Print top-10 most positive and negative words:"
   ]
  },
  {
   "cell_type": "code",
   "execution_count": 36,
   "metadata": {
    "ExecuteTime": {
     "end_time": "2020-02-15T14:38:17.845485Z",
     "start_time": "2020-02-15T14:38:17.842557Z"
    }
   },
   "outputs": [
    {
     "name": "stdout",
     "output_type": "stream",
     "text": [
      "Top10 positive:1-10\n",
      "susan granger's review of \" big eden \" ( jour de fete )  it's utopia , this tiny town tucked away in the timberland of northwestern montana , where old codgers lounge on the porch of the general store to pass the time away and the local matchmakers ( nan martin , louise fletcher ) eagerly pair off the young people , regardless of sexual preference .  there's nary a homophobe or bigot around , much to the surprise of henry hart ( arye gross ) , a successful but lonely manhattan artist who returns home to care for sam ( george coe ) , the ailing grandfather who raised him .  and with the simultaneous re-appearance of his best-friend from high-school and object of his unrequited love ( tim dekay ) , now divorced with two young sons , the fact of his homosexuality must be faced .  to complete the triangle , there's the tall , taciturn native american ( eric schweig ) who owns the general store and lovingly yet secretly prepares gourmet meals for henry and sam .  this fable about home and family is a major debut for first-time film-maker thomas bezucha ( a former designer for coach and polo/ralph lauren ) who is meticulous about minding details , using ballads like \" welcome to my world \" and \" achin' , breakin' heart \" to set up the concept of our universal longing to find a place in which we can love and be loved .  in the paradise of big eden , what you are doesn't matter as much as generosity of spirit , respect and kindness .  sure , the plot's implausible but it's a good-natured fantasy so allowances should be made .  and rob sweeney's photography of glacier national park is spectacular !  on the granger movie gauge of 1 to 10 , \" big eden \" is a charming , quirky , off-beat 7 .  it's a heart-warming romantic comedy about a gay man who doesn't die of aids or wind up alone at the end .  \n",
      "a documentary from the twin hughes brothers , allen and albert ( dead presidents , menace ii society ) , about street pimps , all of whom are african-american .  an offscreen interviewer questions them about their lives and profession .  it is mostly the pimps who do the talking for their ho's , and the egotistical and flamboyant way you would expect them to be , is what you get .  i learned that the word \" bitch \" is their favorite word , as it seemed to crop up in every sentence they used .  it makes for a film with no surprises or nothing fresh to say , but if one has a sense a humor for what their lifestyle is about , then some of what they rap about might seem amusing .  they seem to all want to be thought of as businessmen , in the business because it is the easiest way for them to make big money .  it's also a power trip , accomplished by manipulating the girls to work for them , mostly by humiliating them and keeping them in place .  this sleazy pic , soon became grating and wore out its welcome to my unreceptive ears .  these verbose pimps had a smart answer for everything and never knew when to shut their face .  the hughes brothers used as their pimp role models , the feather-hatted , fur-coated , diamond ring-wearing , gold chain wearing , flashy cadillac-cruising pimp of the late '70s blaxploitation movies--like the mack and willie dynamite .  also used as reference , was iceberg slim's best-seller pimp , the story of my life .  we meet pimps such as : fillmore slim , c-note , charm , k-red , gorgeous dre , bishop don magic juan , and rosebudd .  they readily discuss their business arrangements : including percentages , lifestyles , knockin ( stealing another pimp's ho ) , and the thrill they get from women giving them money .  these dudes needed no prompting to talk , as they just love to brag about about themselves .   \" priests need nuns , '' yaps c-note , a san francisco pimp .   \" doctors need nurses .  so ho's need pimps . ''  as he tries to persuasively make the same case all the other pimps in the film make ; that the girls need them to show them the ropes , how to make money , to be their security blankets , protectors , and counselors .  the race issue was brought up right from the film's onset , as a number of white interviewees , regular citizens , note that their impression of a pimp , is that he's the lowest form of human .  while , we are told , in the black community , the pimp is looked upon as a successful entrepenaur , riding around in fancy cars , flashing wads of money , dressed in a flamboyant style , where his snake-gaiter shoes might cost him a grand , and where he boasts hollywood style status in the community .  we also see that the black pimps have a number of white girls in their stable and we see how they treat them like dirt , as the film implies that this could be payback for the days of slavery , of master and slave relations .  the film was all about pimp style and their projected image , as they run a hard-sell riff about the virtues of their work .  there are different styles of pimping , but the film mentions them only as being \" macks \" and \" players \" or \" real pimps \" and \" perpetrator pimps , \" but no further clarity is attempted .  it is also failed to get the women's side to this story of abuse , primarily taking the pimp at his word .  the film could never get to the core of what makes the pimp think in such a perverted way as he does , as the filmmakers were taking for a ride by the pimps , who were looking only to pose in front of the camera and say their thing , hungry for their 15-minutes of fame .  the only laughs i got out of this bleak look at an american subculture , was hearing how a few pimps retired and what they are now up to .  danny brown became a blues singer so he could keep his pimp's wardrobe .  while a hollywood pimp called rosebudd , married his ho and turned square , working to support his wife and daughter as a telemarketer .  \n",
      "how could a g-rated disney film based on meg cabot's novel \" the princess diaries \" be anything but cute , harmless fun ?  easy .  take all the cute , harmless fun out of it .  and while you're at it make it borrr-ring .  that's what director garry marshall , screenwriter gina wendkos and , not to be outdone , producer whitney houston have done with the g-rated disney film \" the princess diaries . \"  you couldn't tell it from the audience though , a braintree , mass . of growing , glowing pre-pubescent girls ( and the odd parental , popcorn perched about their persons ) , who positively cheered when the end credits rolled ( ah the film had struck a lovely nerve with them but not with fuddy-duddy old me ) .  well , i might have cheered that the utter tripe was now well and truly over , but that would have been too obvious .  too obvious is the least of the problems with marshall's film ( garry made a couple of other \" princess \" movies-- \" pretty woman \" and \" runaway bride \" --but this one's way without julia roberts so maybe * that's * its problem ) .  in addition to being predictable as molasses , \" the princess diaries \" has hardly got a laugh in it ( it's a comedy ) , could bore the pants off an abyssinian for long , long stretches , and is so sloppily edited the principals refer to scenes we haven't even seen yet ( and probably never will except , perhaps , in the dvd edition ) .  marshall should take virtually all of the blame here , since he's been at this for some time and should know when a scene or two isn't working . . .  and hardly * any * of \" the princess diaries \" works ( \" works , \" alas , implies cleverness and there's none of that here either ) .  newcomer anne hathaway stars as mia thermopolis , a bright but socially invisible san franciscan teen who learns that her single mom ( a wacky artist played by the likable caroline goodall ) had a bit of a fling with some royal member of some miniscule european country nobody ever heard of ( the filmmakers go out of their way * not * to call it serbia , which is pretty much what all miniscule european countries are called in the movies mark my words ) and now she , mia , is next in line to rule \" genovia \" ( hence the headphones/tiara combo in the print ads ) .  julie andrews , with the luminous factor cranked to 11 , plays mia's grandmother ( aka queen clarisse renaldi ) , who shows up out of the royal blue and lends mia much advice and direction in the eating , talking , and looking like a princess department ( although mia's big makeover simply transforms her from ugly duckling to ugly swan ) .  does queen julie lose her dignity for the sake of a good laugh ?  not really .  consuming a corn dog is about the worst that it gets .  also on stereotypical hand are a brainless jock , an evil cheerleader , a dorky-looking best friend ( \" welcome to the dollhouse \" 's heather matarazzo ) , a sensitive auto mechanic/musician , and marshall mainstay hector elizondo as joe the driver , imparting wit and wisdom from the front seat of mia's chauffeur-driven limousine at every intersection .  a non-animated g-rated movie is a rarity these days but the rating here reflects the fact that all the guts , all the good stuff , has been exorcised from the finished product .  lame , labored , and lamentable , \" the princess diaries \" is recommended for eight-and-a-half year olds of the feminine persuasion * only * ; all others would do well to avoid it ( like potholes , the plague , and \" the perfect storm \" ) .  \n",
      "based on the 1960s tv series that i had never seen or heard of before this movie ( be happy , i won't bore you with any lame and unnecessary comparisons ) , this film allows will smith to take a third stab at the independence day weekend box-office , after scoring huge successes with men in black ( 7/10 ) , directed by the same man who controlled this one , and independence day ( 6/10 ) .  can you say . . . the  third times not a charm ?  plot : james west and artemus gordon are chosen by the president to find the man responsible for the kidnapping of the nation's top scientists , and threatening to take over the united states within a week .  critique : i did not laugh once during this entire picture .  when you consider that this film is a part-comedy , that's not a very good sign .  i also did not tense up or particularly enjoy any of its unenergetic action sequences which provided me with little more than a few minutes time to think back to the lovely salma hayek scenes .  when you consider that the other \" part \" of this film is geared as an action/adventure , i would say that this another negative sign .  and when you consider that the first hour of the film was boring and a little slow , the story-line tired , reminiscent of swiss cheese and uninvolving , and the special effects interesting but worth very little inside a plot filled with lame one-liners , weak characterizations and an anti-climactic end , you pretty much have the gist of my impression of this \" big \" summer blockbuster .  it blows .  or as they say in french , \" eet blows \" .  could it be that the script was crappy because it took four people to write it ?  maybe .  could it be that most of the special effects don't show up until the last half hour , and even then , we don't see anything that its trailers hadn't already given away ?  perhaps .  or could it be that we have come to expect so much more from will smith and hollywood big-budget movies , that we cannot help but evaluate them on a scale onto their own ?  naaaaaaah !  a bad movie is a bad movie .  on a positive note , i could honestly say that i did very much enjoy the lovely performance by the adorable salma hayek , who seemed underused ( in my humble opinion ) , and lit up every bubbly scene that she was hardly in .  branagh was also fun as the scenery-munching , over-the-top bad guy , but that's pretty much where the entertainment-buck stopped .  smith and kline were static at best , the plot full of holes , and the score insignificant and derivative of a dozen others .  i would strongly advise anyone not to see this movie .  then again , there is that one scene with the lovely salma hayek tied up in a cage . . . huh . . . oh  yeah , but the rest of the movie sucked .  little known facts about this film and its stars : will smith has starred in two of the ten all-time top grossing films worldwide : 1997's summer blockbuster men in black ( 7/10 ) , for which he also recorded the grammy-winning title song , and 1996's independence day ( 6/10 ) .  he once turned down a scholarship to mit to pursue his singing career .  kevin kline is a graduate of the juilliard school of drama , and has been married to the cute-as-a-button actress phoebe cates since 1989 .  they have two kids together , greta simone and owen .  one of the buildings that gets blown up in this film has \" kasdan \" written on it .  lawrence kasdan is a director known to have worked with kevin on five of his movies , including the big chill , silverado , i love you to death , grand canyon and french kiss .  salma hayek gave up a successful career as a major television star in latin america and moved to the united states to start over , even though she spoke no english .  she made her feature film debut as an actress with a small role in allison anders' mi vida loca ( no , not the rickie martin video ! ) and played her first starring role in robert rodriguez's desperado opposite antonio banderas .  since then , she has made an appearance in each one of rodriguez's films .  she stands 5'2 \" , was born in southeast mexico , and the daughter of a lebanese father and a mexican mother .  one of the actresses cast as branagh's lovely but lethal beauties includes bail ling , a stage and screen star in her native china who was last seen starring opposite dick gere in red corner ( 7/10 ) .  another is dutch-born frederique van der wal , who is one of the world's most recognized supermodels , having graced the cover of cosmopolitan numerous times , as well as harper's bazaar , vogue and mademoiselle .  \n",
      "reflecting on \" bedazzled , \" a lively comedy about the devil who seeks to possess the soul of a pathetic loser , one sinful thought remains in my mind .  if hell means having to spend an eternity with elizabeth hurley ( who portrays the fiery demon ) , then use that pitchfork and point me the way .  with her pouty lips , irresistible british accent , and wild display of haute couture , hurley crackles with naughtiness and fills your mind with temptation .  it's practically impossible to turn this beelzu-babe down .  her next target is elliot ( brendan fraser ) , a tech support geek who is clumsy , awkward , and just too eager to please .  to aptly picture him , you would have to remember a saturday night live skit featuring \" steve the copy guy \" who effortlessly irritated his co-workers with his unpolished social skills .  eugene , thus , is loathed and feared by his co-workers , who do their best to stay out of his way .  yet , beyond his annoying mannerisms , he's a lovable oaf .  he wishes that he could get closer to allison ( frances o'connor ) , a co-worker with whom he is infatuated but who has never taken notice of him .  however , the odds of him getting together with her are about the same as a snowball's chance in hell .   \" dear god , \" he prays .   \" i would give anything to have that girl in my life . \"  guess who then shows up ?  she makes an offer that is too hard to refuse .   \" seven utterly fabulous wishes for one piddling little soul . \"  there's even an escape clause .  if elliot's wish doesn't go exactly the way he likes , he need only 'beep' her ( one guess as to what the three-digit number is ) and he gets to start over .  the remainder of the film consists of elliot's various fantasies that incorporate his personal desire to have enormous amounts of wealth , power , fame and allison's love .  but when he makes sweeping statements such as \" i want to be very , very powerful and very , very rich and married to allison \" , he'll soon learn that the devil is in the details .  for example , ( and we've seen this several times in the trailers ) , he is granted his wish , but finds out that he's a columbian drug lord and that allison , while married to him , has her eyes on someone else .  apparently , the devil is just as eager to skew his fantasies as she is to possess his soul .  his other wishes also end up with some strange but funny twist that short-circuits his new life .  soon , elliot wishes that he had never made that deal .  given the mischievous nature of the devil , \" bedazzled \" has many amusing moments .  a lot of the credit goes to fraser who turns in a great comic performance .  he ably assumes various personas .  his funniest segment is when he wishes that he could be the most sensitive man in the world .  allison becomes so frustrated with him that she practically urges him to take advantage of her .  hurley also heightens the humor quotient , especially in the transitional scenes when fraser waits to start his next wish after bailing out of the previous one .  it's clear that she's having a good time with it all .  yet , while the filmmakers work hard at creating funny scenes , they conspicuously avoid developing the allegorical underpinnings between good and evil that could have added more heft to this story .  but that would be playing with fire .  what they've got works , so you can easily accept it for the pleasant little comedy that it is .  \n",
      "`strange days' chronicles the last two days of 1999 in los angeles .  as the locals gear up for the new millenium , lenny nero ( ralph fiennes ) goes about his business of peddling erotic memory clips .  he pines for his ex-girlfriend , faith ( juliette lewis ) , not noticing that another friend , mace ( angela bassett ) really cares for him .  this film features good performances , impressive film-making technique and breath-taking crowd scenes .  director kathryn bigelow knows her stuff and does not hesitate to use it .  but as a whole , this is an unsatisfying movie .  the problem is that the writers , james cameron and jay cocks , were too ambitious , aiming for a film with social relevance , thrills , and drama .  not that ambitious film-making should be discouraged ; just that when it fails to achieve its goals , it fails badly and obviously .  the film just ends up preachy , unexciting and uninvolving .  \n",
      "the crown jewel of 1970's irwin allen disaster movies , the poseidon adventure features an all-star cast including gene hackman and ernest borgnine spouting some of the most laughable dramatic dialogue in movie history while trapped on a cruise ship .  the story begins on the u . s . s .  poseidon's big new year's cruise , where we are introduced to the ensemble of people who will soon be the only passengers left alive .  let's see , there's the new age preacher ( hackman ) who advises people to \" pray to that part of god within yourself . \"  there's the ex-cop ( borgnine ) who busted a hooker ( stella stevens ) six times -- then married her .  there's the hippie singer ( \" there's got to be a morning after . . . \" ) who turns to the company of a lonely man ( red buttons ) once her brother is killed .  and to round out the group : the elderly couple ( jack albertson and shelley winters ) who live aboard the ship , the beautiful teenage girl and her brother who are sailing alone and adventurous scotsman roddy mcdowall .  we get to know these people a little too well in the first thirty minutes of the poseidon adventure , before straight- faced ship captain leslie nielson looks in horror at the giant tidal wave headed right for the ship .  everyone's in the giant ballroom at the time , shortly past midnight of the new year , when the ship turns first on its side , then completely upside down .  the second- in-command wants everyone to wait in the ballroom until help arrives , but rebel hackman leads his small band of followers on a quest to the top of the ship .  in this case , because the ship is overturned , the top is the bottom .  or is the bottom the top ?  either way , we get to see a lot of bottoms because the two beautiful women in the crew are both conveniently wearing hot pants during the scenes where the camera shoots upwards while they climb up ladders and -- in the ballroom scene -- christmas trees .  thus begins an hour or more of hushed trips down long corridors , through burning rooms , etc . while the ship slowly fills with water behind them .  it's a race against the clock which is only mildly interesting .  the poseidon adventure works more as a bad movie to laugh at , with all the melodrama that comes in-between the non-thrilling action scenes .  the one note in borgnine's one-note performance is to be a cranky old man that argues with hackman every step of the way while buttons and the hippie fall in love ( although since there isn't a sex scene , we never find out if his buttons really are red ) and albertson and winters wonder if they'll live to see their grandson's birth .  shelley winters provides the most hilarious scene in the movie in a scene toward the end , where water has flooded the next two rooms of the ship and hackman is preparing to dive under with a rope for the rest of them to pull along .  winters , who has been the whiny fat woman throughout the movie ( stevens even not-so- affectionately calls her \" fatass \" in one scene ) , finally finds her purpose .   \" i was the underwater swimming champ of new york three years running when i was seventeen , \" she brags , and before hackman can even ask her how she could be seventeen for three years , she's swimming through the water , her skirt billowing up around her hips , showing off her cellulite ( or do you call it shellulite ? )  ridden thighs .  it's not so much funny as innately disgusting , which pretty much sums up the poseidon adventure as a whole .  \n",
      "the last of vampire-films offers plenty of blood and gore , but beyond that - nothing .  jack crow ( james woods ) is a professional vampire slayer that is secretly working for the vatican .  his and his men's mission is to clean the earth from vampires .  they have lost count of how many vampires they have slaughtered , but one has always escaped them .  valek ( thomas ian griffith ) - the dark messias and ruler of the undead that is older than time itself .  for all eternity the vampires have searched for their salvation - the black cross .  with the cross in their possesion , the vampires will be able to walk in the sunlight .  after that it is either the humans or the vampires who will dominate the earth . . .  i have never liked john carpenter and his style .  after seeing this film , my opinions have not changed .  john carpenter remains john carpenter .  however , because of the film's self-irony , black humour and fascinating cinematography , i would say that it is his greatest achievement in a long , long time .  neither the synopses or carpenter's direction are original .  but there are some things that are interesting .  the director's negative view on the catholic church , for instance .  at the end of the film it becomes clear that cardinal alba ( maximilian schell ) has simply used crow and his team to find valek , so that he would gain eternal life .  otherwise the catholic priests are shown cool - drinking , smoking and breaking the rool of celibacy .  carpenter has created an interesting atmosphere .  set in new mexican dessert , he switches between bright golden sunrises and bloody sundowns , symbolically illustrating the good and the evil through light and darkness .  more than anything in this film , this simple illustration shows the battle between good and evil .  the cinematography by gary b . kibbe is probably the film's greatest achievement .  music ( composed by john carpenter himself ) is at times effective , the special effects and makeup are likewise worth a notice .  when it comes to the cast ( in an intellectual film like this casting is the last problem ; everyone can scream and swing the axe ! ) , but here james woods is suprisingly convincing .  he is macho and cool as the dedicated hunter , who lost his family to the \" breed of evil \" .  woods is constantly overacting , which really saves the film from falling into the trap of serious self importance .  daniel baldwin is also entertaining as crow's loyal partner .  the other cast members are struggling .  because the film doesn't take itself too seriously , it stays afloat .  still it is like most vampire-films - a mediocre experience .  \n",
      "no matter what you suspect , this isn't your usual action thriller .  the usual suspects is an intelligent crime mystery story from up-and-coming director bryan singer .  it's one of those movies that , after everything is revealed rapid-fire at the end , you immediately want to rewind and watch again because earlier scenes take on a new light .  plot twists a-go-go are what you get here -- i gave up trying to figure out the mystery of keyser soze after awhile and just sat back and waited for them to reveal it to me .  keyser soze is a name you'll hear at least a hundred times if you watch the usual suspects and for good reason .  it's not only the name of the mysterious ( and possibly even mythical ) crime boss in the movie , it also sums up the movie -- \" keyser soze \" in latin means \" an intelligent crime mystery story from up-and-coming director bryan singer . \"  or maybe i shouldn't have bought a foreign-language dictionary from the same company that makes those 99-cent encyclopedias sold in supermarkets .  at the movie's opening , a group of known criminals are brought in for a police lineup , including mcmanus ( stephen baldwin ) , keaton ( gabriel byrne ) , fenster ( benicio del toro ) , buckney ( kevin pollack ) and verbal ( kevin spacey , winner of the best supporting actor academy award{symbol 153 \\ f \" times new roman \" \\ s 10 \\ h} for his performance in the movie ) .  verbal is so-named because he frequently rambles on about anything or nothing .  he also earns his name as the movie's narrator , spouting memorable lines like \" the greatest trick the devil ever pulled was convincing the world he didn't exist \" ( although , obviously , he does exist -- what else could explain kris kross having a comeback in 1996 ? ) while being interrogated by police detective chazz palminteri ( any actor with multiple z's in their name is okay in my book ) .  we see the story unfold as spacey retells it .  the five felons , upon being released from the lineup , get their revenge on the police by exposing a corrupt taxi service -- whereby elite criminals pay to be smuggled through town in cop cars -- and stealing all the money and drugs in the car .  it's a definite case of male bonding for the five criminals , who later find out they were brought together by the unseen keyser soze , who sends a minion to them with an offer they can't refuse .  namely , they have to destroy soze's main competitors in organized crime by infiltrating a ship , shooting a bunch of people , burning all the drugs and stealing $91 million cash .  spacey does a terrific job of bringing his seemingly unintelligent \" cripple \" character to life and baldwin , byrne , palminteri and the rest make for a good supporting cast .  the usual suspects is one of those movies that deftly mixes scenes of violence and explosions with an underlying sense of mystery and suspense , keeping the viewer guessing until the very end -- and then still leaving a few details open for scrutiny and discussion .  i suppose all that would be cleared up if i really had rewound the movie and watched it again instead of changing the channel and wondering in disbelief what the hell kris kross was doing on mtv .  a different mystery , i guess , which may turn into a _murder_ mystery if that video ever comes on again . . .  \n",
      "if chris farley had strapped some fake mutton-chop sideburns to each side of his head , spoken with a thick irish accent , and tried his damnedest to play it straight , he wouldn't have been nearly as funny as brendan gleeson in \" i went down . \"  gleeson , who's not dissimilar to the late \" saturday night live \" alumnus in terms of physical attributes , plays a character named bunny kelly in this delightful irish film .  bunny is sent to county cork to \" retrieve \" one frank grogan for an irish gangster called tom french ( well dressed like all good gangsters should be and menacingly portrayed by tony doyle ) .  bunny is to accompany git hynes ( peter mcdonald ) , recently released from prison and obligated to tom for disfiguring one of his cronies .  that tom french is a mean bollocks .  he wants frank back .  and a small matter of some ? 25 , 000 that tom's wife was supposed to have given to frank .  for this he won't break anyone's thumbs .  maybe .  inventively and engagingly written by conor mcpherson and directed by paddy breathnach , \" i went down \" follows the trials and tribulations of git and bunny as they knock around peat bogs , dimly-lit pubs , and seedy hostelries trying to stay alive and out of trouble .  mcdonald is a newcomer and a promising one at that , but gleeson has been in over a dozen movies , most recently as father bubbles in another film with a very irish accent on hilarity , \" the butcher boy . \"  even if you can't comprehend half of what they're saying , gleeson and mcdonald together make \" i went down \" a trip worth taking .  the film is in many ways reminiscent of another \" little \" independent feature , 1991's \" highway 61 . \"  that film , too , was a road movie and it shares the same kind of wry dialogue and humorous situations as mcpherson's tale : whimsical observations on life , carefully-crafted vignettes , deadpan conversational asides , and scenes that'll make you laugh out loud .  witness the episode in which our good-natured protagonists bind frank ( played by peter caffrey ) to a hotel bed , leaving him with only the tv remote for company .  that sequence alone is on a par with satan locking himself out of his car in \" highway 61 . \"  what's also charming about \" i went down \" is how the relationship between buddy and git develops .  their trip becomes an education for both of them , but the way it's handled is neither sappy nor labored .  the only thing in the film which approaches clunkiness is the culminating explanation , via flashbacks , of the relationship between frank and tom .  it's a little too hollywood , and what makes \" i went down \" so refreshing is the fact that it rarely panders to traditional conventions of hollywood gangster movies .  sure it's gritty--make that grubby--but it's also pretty goofy .  although \" i went down \" emphasizes the comedic elements of dis-organized crime , there are a couple of fairly brutal scenes in keeping with the subject matter .  don't let these deter you , though ; \" i went down \" is a little gem .  it's only playing at one philadelphia-area theater--and i suspect it won't be there for long--so catch it while you can .  \n"
     ]
    }
   ],
   "source": [
    "# fill in your code...\n",
    "pred_te_tfidf = predict_proba(X_test_tfidf,w_tfidf)\n",
    "# get index by ascend order \n",
    "index = np.argsort(pred_te_tfidf,axis = 0)\n",
    "print('Top10 positive:1-10')\n",
    "for i in range(1,11):\n",
    "    print(X_test_raw[index[-i,0]])"
   ]
  },
  {
   "cell_type": "code",
   "execution_count": 37,
   "metadata": {
    "ExecuteTime": {
     "end_time": "2020-02-15T14:38:22.781128Z",
     "start_time": "2020-02-15T14:38:22.778590Z"
    }
   },
   "outputs": [
    {
     "name": "stdout",
     "output_type": "stream",
     "text": [
      "Top10 negative: 1 - 10\n",
      "note : some may consider portions of the following text to be spoilers .  be forewarned .   \" quick , robin !  the anti-shark repellant ! \"  - adam west in the 1966 batman feature film , casually kicking at a pathetic-looking rubber shark attached to his leg  i had never thought that an entry in the modern incarnation of the batman feature film would approach this level of campiness , but in many instances batman and robin nears , and at some point even exceeds this standard .  this is a disasterously bad film , easily the worst in the series to date , and fairly epitomizes a cinematic definition of the word excessive - it's loud , garish , and obnoxious , with pointless , gratuitous action sequences and set pieces which clutter up the screen with elaborate production design to the point of overkill .  batman and robin features the caped crusaders ( george clooney debuting as batman , with chris o'donnell returing as robin ) squaring off against another bevy of chemically-induced villains - the nefarious ice-cold mr . freeze ( arnold schwarzenegger ) , armed with a weapon which freezes everything in its sights , and the slinky poison ivy ( uma thurman ) , who has the ability to blow powerful love dust into the faces of men in order so that they will fall helplessly in love with her ( not that the dust is really necessary to accomplish this result , but whatever ) , and then dispatch them with a poisoned kiss .  by ivy's side is the giant steroid monster bane ( jeep swanson ) , a grunting hulk of a beast .  the villains' goals are noble ones - freeze steals diamonds to power his climate suit ( in order to keep his body temperature at zero degrees ) , so that he can survive in order to devise a cure for his beloved wife ( vendela ) , dying of a degenerative disease and frozen in suspended animation , and ivy's intent is to restore the dominance of plant life on earth , albeit by destroying all human life .  meanwhile , on the homefront , life at wayne manor is thrown into upheaval by the illness of butler alfred pennyworth ( michael gough ) , and the arrival of his niece barbara ( alicia silverstone ) .  akiva goldsman's screenplay for the film is ridiculous and laughably bad , with astonishingly terrible dialogue , lame jokes , and an awful by-the-number plot which simply coasts along and fails to generate any genuine excitement .  it makes goldsman's screenplay of batman forever , which i thought was dreadful , look positively inspired in comparison .  i am still astonished that a cheesy plot device which i'd seen used in - no joke - an episode of gilligan's island somehow make its way into a multimillion dollar blockbuster production .  joel schumacher's direction of batman and robin is horrific , with a terrible balance of flashiness over substance .  there is a clear conceit towards neon in this film , even moreso than with his previous batman forever , with the revamped batcave helpfully sporting gigantic glowing emblems for the dynamic duo ( just in case , i suppose , if they ever happen to forget that the batcave is the headquarters of batman and robin ) , and with neon prominently figuring in an utterly-pointless fight sequence with bane and a street gang over ivy's chosen new abode .  another action sequence which fails to serve any useful point other than to chew up five minutes of screentime involves an incredibly uninvolving late-night motorcycle race with barbara and some gotham goons .  mr . schumacher's focus for batman and robin appears to be to make the film as visually striking as possible , to the detriment of the story - there are drastic shifts in the tone of the film between all-out camp and heartfelt drama , with the latter completely unconvincing and ineffective .  it is perhaps not the most promising of signs when the group i was with burst out laughing within twenty seconds of the film's opening , even before a single line of dialogue had been uttered .  is batman and robin supposed to be campy ?  i think it is - it's hard to imagine that the filmmakers could have intended many parts of the film to be taken at all seriously .   ( one of my favourites was when bane helpfully grunted \" bomb ! \"  each time he laid down an explosive device in the gotham observatory . )  is it supposed to be as overly campy as it turned out to be ?  i somehow doubt it - the subplot involving afred is delivered so solemnly and with such graveness that the impression is made that the film isn't attempting to be the utter farce which it is .  arnold schwarzenegger is top-billed in the film as the villainous mr . freeze , and is bland and uninteresting , perhaps the worst thing that a villain can be .  mr . schwarzenegger's attempts to be menacing are laughable , and his attempts at conveying pathos are laughable ; frankly , everything he does onscreen is laughable .  by the end of the film , i was stifling a chuckle every time he simply appeared onscreen .  the bulk of his performance consists of uttering near-unintelligble puns and one-liners featuring every possible permutation of \" cool ! \"  in the least inventive way .  george clooney has been given very little to do in batman and robin , being overshadowed by the villains , and consequently he looks rather uncomfortable in the film .  his batman is hardly an imposing figure .  chris o'donnell is unimpressive in a one-note performance , while alicia silverstone lackadasically fails to make any impression at all .  the film's one saving grace ?  undoubtably uma thurman's entertaining performance as sexy villainess poison ivy .  her work in batman and robin is certainly over-the-top , but in a controlled fashion which works splendidly within the tone of the film .  ms . thurman's comic timing is impeccable , and reminds us that it takes skilled performers to make campiness work successfully .   ( i'm already starting to positively reassess jim carrey's performance in batman forever . )  her amusing poison ivy is the most entertaining character in the film , and when she's offscreen the film greatly suffers .  i figure that if one has to die , being kissed to death by uma thurman isn't a half-bad way to go .  while batman and robin was hardly a ride of pulse-pounding excitement , i must admit that i was not bored watching it , although i did glance at my watch repeatedly through the screening - my attention was kept through anticipation of the utterance of yet another terrible pun or one-liner , and by awaiting yet another scene to fall flat .  it's been a long time since i've laughed so much at a movie .   \" at \" , of course , is the operative word .  \n",
      "synopsis : valerie , a high school junior who doesn't look a day under 22 , writes bad poetry , complains about how much she hates school , fantasizes about a young guy on trial for raping and murdering six women , chooses him as a pen pal , and plays hooky to see him in court .  after a jailbreak , the killer puts on big sunglasses , wears a half-buttoned jacket , and uses his fatal charm to go after valerie .  comments : \" alan smithee \" directed fatal charm , which should have been more appropriately titled \" fatal bore \" or \" fatal crap \" .  if you find out that a film you're about to see is directed by \" alan smithee , \" then you should seriously , seriously , seriously consider watching something , anything , else .   \" alan smithee \" is a pseudonym which a number of directors have used when they produce something really bad .  frankly , i'd be embarrassed if i had directed this turkey , so i think i understand why the director might have picked the \" alan smithee \" moniker for this film .  where to begin with this painfully poor thriller ?  let's start with the acting .  it's pretty bad .  amanda peterson plays valerie and shows at least some talent ( the rest of the cast don't ) , even though her performance isn't exactly stellar material .  she's also miscast ; she seems way too old to still have a year of high school to complete .  her scenes with valerie's mother , played by mary frann , are a joke .  the two look as though they're a couple of coworkers going out to lunch together , rather than a daughter with her mother who just doesn't understand .  christopher atkins , a handsome enough actor who plays the killer , adam , looks like a clown in the second half of fatal charm .  trying to appear malicious and dangerous , he wears large sunglasses and a half-buttoned jacket .  if disney decided to do a zany comedy caper about the unabomber , atkins would probably be a perfect candidate for the lead , but he doesn't cut it here .  early on in the movie , a number of scenes occurs in a courtroom .  outside of the laughably poor performances given by the actors portraying lawyers , the people sitting in the benches provide the silliest effort at drama in the film .  they constantly shift and turn and arc their heads in mock interest in what has got to be one of the worst perfomances that a large group of people have given at one time ever .  fatal charm's storyline , such as it is , inspires more yawns than thrills .  the script belabors a red herring , early on , about a second suspect who may have committed the murders for which adam ( atkins ) is charged with .  this suspect , however , turns up strangled and drowned halfway through the film : an obvious plot fault .  even for the idiots who didn't consider the movie's title as valerie and a blond newsreporter commented how innocent and charming the defendant seemed , it becomes quite obvious that adam is dangerous when the other suspect washes up .  so , the audience must wait ( if they haven't already stopped watching ) as the necessary details fall into place and the killer goes after the heroine in the drawn-out finale .  the video box for this dud describes fatal charm as an \" erotic thriller \" .  a thriller it isn't , and neither is it particularly erotic .  i can't imagine , if someone were in the mood for something \" erotic , \" that he'd be happy after watching this fluff .  a few erotic moments occur in the film ; they take place in a van with little lighting and are filmed out of focus ( see , they're supposed to be valerie's fantasies -- how creative ) .  on a personal note , i was disturbed by the ludicrous english literature class shown in this film which valerie had to suffer through .  it's no wonder why she hated high school so much .  as an instructor of english myself , i have a hard time accepting the fact that in a course emphasizing great literature , a teacher would stoop to reading a student's bad poetry ( of course , it's valerie's ) about boyfriends out loud and then embarassing its author in front of class with questions about the poem's inspiration .  i guess the public school system is still setting dubious standards for its students .  fatal charm won't charm anyone , unless there's someone that's charmed by boring , lifeless , insipid , suspenseless thrillers .  if you happen upon this turkey , just keep moving on .  \n",
      " \" battlefield earth \" is the best comedy of the year .  it has to be .  the other prospect is just too horrifying to consider .  bad movie syndrome struck me again , so after witnessing how much \" battlefield earth \" has been proclaimed a train wreck in both critical and popular circles , i felt the masochistic urge to see the disaster first-hand .  is it as bad as advertised ?  oh yes , very much so .  the plot is incomprehensible .  the acting is atrocious .  the special effects are mediocre .  the action is dull .  the implausibilities are legion .  the dialogue is cringe-inducing .  the whole package is funny when it wants to be serious and irritating when it wants to be funny .  i don't even want to continue reviewing this movie ; i'd like to purge the atrocity from my mind as soon as possible , but you probably want to read my thrashing in all its sarcastic glory , so here it is :  the premise is basically a rip-off of \" planet of the apes , \" only minus the apes and philosophical discussion , and plus a race of evil aliens from the planet psychlo .  the year is 3000 , the psychlos have conquered earth , and the human population has been enslaved .  only a handful of humans escaped to radiation-rich areas to escape the aliens ; they live out their lives in fear .  one man , johnny goodboy ( i know , i know ) tyler ( barry pepper ) , ventures to the outworld and is captured by the psychlos .  there he confronts the psychlo head of security : a big , ugly , klingon-looking creature called terl ( john travolta ) .  pressed into slavery , johnny vows to lead a revolution and take the planet back .  meanwhile , terl is faced with his own problems : he has recently learned that he's stuck living on earth ( which he hates ) for the rest of his career because he pissed off his boss by sleeping with the big man's daughter .  he decides to give johnny knowledge of the psychlo language and technology ( this is where the plot gets ridiculous .   .   . )  so the \" man-animal \" can lead a mining expedition into places the psychlos can't go .  terl then plans to keep the mined gold for himself .  of course , his plan doesn't work .  so many things wrong with this movie -- where to begin ?  how about with travolta , whose hollywood clout brought about this , the cinematic version of scientology guru l . ron hubbard's sci-fi novel ?  early previews for \" battlefield earth , \" with constant shots of a makeup-laden travolta cackling like lex luthor , had me ( and several audience members ) remarking , \" what the hell is travolta thinking ? \"  the movie did nothing to stem such remarks .  all that ridiculous cackling he did in the trailers is in full force here : terl cackles after nearly every line , and so does every other psychlo .  of course , this makes every scene hilariously overwrought , no more so than when the script clumsily stumbles into political commentary .  the psychlos are probably supposed to be some kind of satire of corporate america , but ceos generally don't laugh maniacally after denying pay raises to their employees .   ( \" you were going to be promoted -- but now you're not !  fwahahahahahahahaha ! ! ! ! ! \" )  it's no big surprise terl loses to the humans -- he's an idiot .  he breaks every kind of supervillain rule in the book .  he underestimates his enemies , assuming he'll win just because he's smarter .   ( he uses the word \" leverage \" like some sort of scientologist mantra . )  not content to go the james bond villain route of explaining his plans to the hero , he hooks him up to a machine that gives him knowledge of all the psychlos' language and technology .   ( why this machine is even around in the first place is beyond me . )  he then appears shocked that johnny points a gun at him .  no wonder this guy never got his promotion .  the plot inconsistencies are too numerous to mention .  why do the psychlos build an earth base in which both they and the human slaves must wear little breathing apparatuses to survive ?  how come the psychlos are wasting their time mining for gold when the doors of fort knox are wide open ?  how in the world did all those fighter jets survive sitting in a hangar for 1 , 000 years ?  and how do all these previously brain-dead cavemen learn to fly them so quickly ?  there's a whole lot more to scratch one's head about in \" battlefield earth . \"  bring a scorecard to track the plot holes .  director roger christian shoots \" battlefield earth \" in the most distracting way possible , tilting nearly every shot sideways for no discernible reason .  all the characters appear to be standing on the walls , and it's awfully difficult to watch a movie when you must tilt your head just to watch ordinary passages of dialogue .  the action sequences are atrociously edited , every one turned into an endless slow-motion parade that drains all potential excitement .  are these things really so hard to construct ?  my respect for supposed \" lightweight \" action directors has grown by leaps and bounds after witnessing in \" battlefield earth \" how badly an action sequence can be shot .  this movie is an absolute headache .  it's not just the shot selection and editing ; the movie , quite frankly , makes no sense .  for most of \" battlefield earth's \" running time , i just didn't know what was happening .  it didn't have anything to do with me finding the events stupid or illogical ( though they certainly are ) -- i really had no idea what the hell was going on .  when i pieced the plot together later , it didn't look any better .  here's how much of a disaster this is : \" battlefield earth \" is already the worst movie of the year , and it's going to take something really , really inept to top it .  the only thing we can take comfort in about the film is that no one will be suckered into joining the church of scientology because of it .  in fact , i'd think that hubbard's cult would want to distance themselves from this bomb as fast as possible .  that'll teach me to give into bad movie syndrome again .  \n",
      "i have a great idea for a movie , one that can't miss .  see , i've got coolio to do a song for the soundtrack , and about fifty athletes and celebrities to do cameo appearances .  it's about professional basketball , so i'll release it right around the nba finals to guarantee added publicity .  as for what the movie is actually about . . . well , that will all sort itself out eventually .  i figure it will be a comedy , so i'll throw a half-dozen writers at it and take the best of whatever they come up with .  maybe we'll put a gender spin on it , see if we can get some women out to see it , too .  eddie is one of those phenomenally lazy films that infuriates me more than any other kind .  twister , as inane as the script might have been , at least required some creative technicians ; mission : impossible , overwrought plot and all , at least involved genuine effort .  eddie just sits there , hawking up a formula story without any laughs , and makes every possible bad decision when a decision is required .  whoopi goldberg plays eddie franklin , a new york limo driver and die-hard knicks fan who is suffering through a dismal season for her beloved team .  coach john bailey ( dennis farina ) has lost control of his overpaid prima donnas , and the losses are beginning to mount .  the dwindling attendance inspires new team owner wild bill burgess ( frank langella ) to try a publicity stunt in which a lucky fan will get to be an honorary coach of the team .  the winner ( surprise , surprise ) is eddie , who becomes a fan favorite , and eventually the actual coach .  the knicks continue to lose , but eddie has some sassy tricks up her sleeve to inspire her troops .  incidentally , the knicks eventually start winning .  please raise your hand if that comes as a shock , and i will invite you to my all-night marathon of the bad news bears , major league , angels in the outfield , the mighty ducks , the big green , cool runnings and little giants .  awful teams in sports comedies make miraculous turnarounds ; it's what they do .  those teams usually involve kids , for a very sound comedic reason : it's funnier when they screw up , and they're more sympathetic .  those which _don't_ involve kids usually have actual actors in the lead roles , for another very sound comedic reason : they generally have developed some sort of comic timing .  eddie was cast under the misguided premise that it's easier to make basketball players look like actors than it is to make actors look like basketball players .  this finds nba players like greg ostertag , dwayne schintzius , rick fox and malik sealy delivering punch lines as though they were reading them for the first time off a bazooka wrapper ( though sacramento kings center olden polynice has a nice moment describing a black hole to fellow players ) .  perhaps that all didn't matter to anyone because there are so few punch lines , and because the whole film is one big casting gimmick .  steve rash directs the spiritless script as though waving a flag of surrender and screaming , \" don't blame me , i just work here . \"  perhaps it was patently obvious to him that eddie isn't a movie -- it's a cameo appearance that trips over a plot every once in a while .  among the notables who lend their faces to this travesty are donald trump , new york mayor rudolph giulianni , former new york mayor ed koch , david letterman , letterman regulars mujibur rahman and sirajul islam , espn broadcaster chris berman and knicks announcer marv albert , as well as dozens of nba players and several nba arenas .  and those are the real jokes in eddie .  nothing these individuals say or do is funny ; you are supposed to be laughing simply because you notice , \" hey , it's donald trump ! \"  or \" hey , it's mujibur and sirajul ! \"  it's difficult to decide whether eddie is so bad because it was so shamelessly lacking in imagination or because it can't even get the cliches in a cliche-ridden genre script right .  the knicks coach who is eddie's antagonist early in the film reappears at the end , but he isn't given a chance to be the villain eddie desperately needs .  neither is frank langella , and none of the athlete-actors have the ability to give whoopi goldberg anything to play off of .  that leaves her to do her street-wise miss thang routine , but with no character , no sharp lines and no help .  eddie isn't just a bad movie with a formulaic premise .  it's a movie that makes you feel cheated and offended , because someone came up with a poster and a marketing plan to which they had to attach an actual movie , and you had the nerve to believe it was going to be a comedy .  \n",
      "note : some may consider portions of the following text to be spoilers .  be forewarned .  during the three years since the release of the groundbreaking success pulp fiction , the cinematic output from its creator , quentin tarantino , has been surprisingly low .  oh , he's been busy -- doing the talk show circuit , taking small roles in various films , overseeing the production of his screenplay from dusk till dawn , making cameo appearances on television shows , providing a vignette for the ill-fated anthology four rooms -- everything , it seems , except direct another feature-length film .  it's been the long intermission between projects as well as the dizzying peak which pulp fiction reached which has made mr . tarantino's new feature film , jackie brown , one of the most anticipated films of the year , and his third feature film cements his reputation as the single most important new american filmmaker to emerge from the 1990s .  things aren't going well for jackie brown ( pam grier ) .  she's 44 years old , stuck at a dead-end job ( \" $16 , 000 a year , plus retirement benefits that aren't worth a damn \" ) as a flight attendant for the worst airline in north america -- and she's just been caught at the airport by atf agent ray nicolette ( portrayed with terrific childlike enthusiasm by michael keaton ) and police officer mark dargus ( michael bowen ) smuggling $50 000 from mexico for gun-runner ordell robbie ( samuel l . jackson ) , who has her bailed out by unassuming bail bondsman max cherry ( robert forster ) .  the loquacious ordell , based out of a hermosa beach house where his horny , bong-hitting surfer girl melanie ( bridget fonda ) and agreeable crony louis gara ( robert de niro ) hang out , operates under the policy that the best rat is a dead rat , and he's soon out to silence jackie brown .  meanwhile , the authorities' target is ordell , and they want jackie to help them by arranging a sting to the tune of a half-million dollars .  only through a series of clever twists , turns , and double-crosses will jackie be able to gain the upper hand on both of her nemeses .  although jackie brown marks mr . tarantino's first produced screenplay adaptation ( based on the elmore leonard novel \" rum punch \" ) , there's no mistaking his distinctive fingerprints all over this film .  while he's adhered closely to the source material in a narrative sense , the setting has been relocated to los angeles and the lead character's now black .  in terms of ambiance , the film harkens back to the 1970s , from the wall-to-wall funk and soul music drowning the soundtrack to the nondescript look of the sets -- even the opening title credit sequence has the echo of vintage 1970s productions .  the opening sequence featuring ms . grier wordlessly striding through the lax , funky music blaring away on the speakers , is emblematic of films of that era .  the timeframe for the film is in fact 1995 , but the atmosphere of jackie brown is decidedly retro .  of course , nothing in the film screams 1970s more than the casting of pam grier and robert forster as the two leads , and although the caper intrigue is fun to watch as the plot twists , backstabbing , and deceptions deliciously unfold , the strength of jackie brown is the quiet , understated relationship developed between jackie and max ; when they kiss , it's perhaps the most tender scene of the year .  tenderness ? in a quentin tarantino film ?  sure , there've been moments of sweetness in his prior films -- the affectionate exchanges between the bruce willis and maria de madeiros characters in pulp fiction and the unflagging dedication shared by the characters of tim roth and amanda plummer , or even in reservoir dogs , where a deep , unspoken bond develops between the harvey keitel and tim roth characters -- but for the most part , mr . tarantino's films are typified by manic energy , unexpected outbursts of violence , and clever , often wordy , banter .  these staples of his work are all present in jackie brown , but what's new here is a different facet of his storytelling -- a willingness to imbue the film with a poignant emotional undercurrent , and a patience to draw out several scenes with great deliberation .  this effective demonstration of range prohibits the pigeonholing of mr . tarantino as simply a helmer of slick , hip crime dramas with fast-talking lowlifes , and heralds him as a bonafide multifaceted talent ; he's the real deal .  this new aspect of mr . tarantino's storytelling is probably best embodied in a single character -- that of the world-weary , sensitive , and exceedingly-professional max cherry , whose unspoken attraction to jackie is touching .  mr . forster's nuanced , understated performance is the best in the film ; he creates an amiable character of such poignancy that when he gazes at jackie , we smile along with him .  much press has been given about the casting of blaxploitation-era icon pam grier in the lead , with the wags buzzing that mr . tarantino may do for her what his pulp fiction did to bolster john travolta's then-sagging career .  as it turns out , ms . grier is solid in the film's title role , although nothing here forces her to test her range .  i do have to take exception to the claim that this film marks her career resurrection , though -- she's been working steadily over the years , often in direct-to-video action flicks , but also in such recent theatrical releases as tim burton's mars attacks !  and larry cohen's original gangstas ( where she first teamed up with mr . forster . )  of course , it's true that her role here was a godsend -- a meaty a part as this is rarity for * any * actress , let alone one of her age and current status in the industry .  while jackie brown may disappoint those looking for another pulp fiction clone , it marks tremendous growth of mr . tarantino as a director whose horizons are rapidly expanding , and whose characterizations have never been better .  and while the film's narrative doesn't really warrant a running time of 155 minutes , it's filled with such sumptuous riches , ranging from the brashness of the vivid soundtrack to entertaining , inconsequential conversations between the characters , that there wasn't an unengaging moment .  with an impressive trio of feature films under his belt , it'll be interesting to see what he tries next .  \n",
      "sylvester stallone has made some crap films in his lifetime , but this has got to be one of the worst .  a totally dull story that thinks it can use various explosions to make it interesting , \" the specialist \" is about as exciting as an episode of \" dragnet , \" and about as well acted .  even some attempts at film noir mood are destroyed by a sappy script , stupid and unlikable characters , and just plain nothingness .  who knew a big explosion could be so boring and anti-climactic ?  unless you saw \" blown away \" . . .   \" the specliast \" of the title is none other than action star sylvester stallone ( in comeback #19 , i think ) , who plays a quiet , hermit-like bomber who was once a bomb expert with the army or something , but who suffered a change of heart when he and his assistant ( james woods , who shows us exactly what over-the-top is , other than another bad sly film ) accidentally killed some innocent people during a job .  his credo is killing bad people , not innocents .  and that's why he makes big bombs .  so anyway , into his life steps the seductive sharon stone , who is basically the girlfriend/moll of the stupid son ( eric roberts ) of a cuban/miami kingpin ( rod steiger , in an indecipherable accent , which is sometimes cuban , sometimes brando , sometimes scottish , etc ) .  turns out sharon is actually using her boyfriend so she can kill him , since he killed her parents when she was young .  so she calls sly , leaves messages with him , sends him e-mail , etc , about planting a bomb to kill roberts , which sly listens to obsessively , and while he works out naked .  yea .  also into his life , though again , comes woods , who has been tipped off by stone to catch sly .  using the cops , he tries to set up traps , none which really work , so when sly calls him , he goes ballisitic on his ass over the phone , getting so worked up by saying his must-be-improvised speeches that he seems to pop the vein in his head wide open .  these are the most exciting scenes in the film , and woods becomes the only ounce of entertainment in the film .  the film tries to offer us a moody film noir , except with explosions , but comes up completely snake-eyes .  it's just a pretend film noir , making it a big waste of time .  and for action buffs , the action scenes are pretty lame , with some really unrealistic-looking special effects ( a penthouse being blown off of a hotel looks like a piece of cardboard falling into a tub ) .  then there's the much-discussed sex scene between sly and stone , which are about as mispaired a couple as rachel and ross on \" friends . \"  their sex scene is more nauseating then sexy , because it shows us more of sly than stone .  now let's guess who we'd rather see naked , okay ?  stone's small but perky breasts , which we've seen more times than harvey keitel's dick , or stallone's veiny ass , which isn't usually shown for a very good reason ?  i know i can't really judge it as a flaw of the film , but come on .  the worst flaw of the film is this : it's boring .  i mean , i was on caffeine when watching it , but my friend fell asleep only to be woken up by james woods ranting .  but a good movie does not james woods going nuts make .  if you're in for some fun action , rent sly's earlier \" demolition man , \" which sucks too , but in a much more entertaining fashion .  skip this dull film , unless you want to see woods , or make fun of steiger's accent , or see stone's breasts again .  \n",
      "plot : lara croft is british , rich and kicks a lot of ass .  she also likes to raid tombs but when the illuminata discover that all nine planets are about to stand in alignment for the first time in 5000 years , and that lara holds the key to time , well , needless to say , they want to nab it from her .  oh yeah , lara also likes to sport a lot of tight shirts . . . hummana-hummana-hummana . . .  critique : angelina jolie was great in this movie .  there were also about three \" action scenes \" that were pretty cool to look at in this film .  uhhhhhm , unfortunately the rest of the movie sucked !  bad dialogue , generic sidekicks and bad guys , a lame mystery , yoda-esque moments with mumbo-jumbo being sprouted about and even some crappy cgi near the end .  all in all , this movie wasn't the horror show that some of the early reviews had warned us about , especially since every other scene does feature jolie's torpedoes begging to burst out of her lucky shirts , but it was quite the letdown nonetheless , especially when you consider the major opportunity that the filmmakers had here to create a cool , hip woman hero , based on a popular video game .  i don't know , i guess you have to put most of the blame on director simon west , who didn't really tie the whole movie together all that well .  the film lacked energy , a consistent pace and well . . . a  fun time !  i felt kinda depressed while watching this movie .  all that \" father \" crap was horrible and the dialogue given to poor john voight to recite was just plain embarrassing ( and i'm not even gonna mention his moustache . . . hehehe ) .  why have this shite in the movie at all ? ! ?  i especially hated the scenes in which some ghost-like figure , friend or child would ramble on about lara croft's father while all the time , i'm not giving one ounce of crap as to what they're talking about .  i guess that's called lack of \" character development \" , right ?  that's when a movie builds enough background into the characters on the screen , so that we could actually \" get into \" it and care about them .  i didn't care about anyone in this movie , and was bored during most of its \" let's explain why we're doing all this gobbledygook \" moments .  and even though i thought that jolie kicked some mighty ass ( damn , did she look sexy blasting those guns or what ? ! ? ) , everybody else around her was so goddamn boring !  her butler was a throwaway with no personality , her side-kick was supposed to be funny but just annoyed me every time he said the word \" bugger \" ( and he says it a lot , trust me ! ) and all of the so-called bad guys just spewed one-dimension !  they had no spark , no energy amongst them , and even though a few of the action scenes in the movie were cool ( see the trailer and you'll know which ones i'm talking about ) , the overall picture was lame and the dialogue and mystical bull-crap just buried it even further .  also , for a movie that's supposed to be about all of these exotic locations , i wasn't necessarily impressed by any of its exterior shots , and even less so with its interiors , which all looked like they were shot in the same room .  mind you , i won't go as far as to say that it's the \" worst movie of the year \" ( remember that i actually have to go see freddie prinze jr . movies also ! ) , but it's definitely the worst film that i've seen during this summer movie season ( of course , it's still early and i'm sure there are a few more garbage heaps coming down the pike ) .  skip this one altogether and rent any of the indiana jones movies instead . . . trust  me , you'll miss the boobs but end your night with some rock-solid porn and it's all good !  where's joblo coming from ?  raiders of the lost ark ( 10/10 ) - the mummy ( 8/10 ) - lost in space ( 7/10 ) - the mummy returns ( 6/10 ) - the general's daughter ( 3/10 ) - romancing the stone ( 7/10 ) - wild wild west ( 3/10 ) - mission impossible 2 ( 7/10 )  \n",
      "one of the responses those that enjoy \" detroit rock city \" ( probably kiss fans , mostly ) might have upon first glance at the rating i've given the film might be something like : \" oh , that casey's gone and become a jaded critic on us .  just what did he expect out of a dumb teenage rock n' roll movie like this ? \"  i'm wondering the same thing .  i feel like i should have had a grand time with \" detroit rock city . \"  it's the sort of movie i wish i could've had a lot of fun with , but i didn't .  i just didn't .  surely this film isn't trying to win any major awards , so should i have expected an oscar-caliber film ?  no , but i expected something .  a funny joke .  a clever prank .  a plot development .  anything .  the movie never delivers .  you've got to marvel at how the filmmakers managed to come up with a movie that is truly about nothing .   \" detroit rock city \" is one of those films that you walk out of after the credits have rolled and realize that you just spent 90 minutes watching a movie in which absolutely nothing happened to justify the film's existence , and it's not a very satisfying realization .  the film is about four teenage boys , all huge kiss fans from cleveland , trying to get into a kiss concert in detroit , michigan .  that's it .  there is no big plot description in this review , because the movie has very little plot .  the characters are hawk ( edward furlong ) , lex ( giuseppe andrews ) , trip ( james debello ) , and jam ( sam huntington ) .  they have a garage band .  they're pathetic , like all garage bands , but they like kiss and they like rock n' roll , so i guess that means we root for them .  they have tickets , they lose them .  they get more tickets , they lose those too .  they come up with crazy schemes to get tickets , most of which backfire .  there's not much more to it .  frankly , it becomes a little less than exciting to see them try to get kiss tickets about halfway through the film , when a total of eight tickets have already graced the boys' hands , only to be lost because of their sheer stupidity .  oh , and jam ( real name jeremiah ) has a really , really annoying ultra-religious mother who ought to be reported to the child welfare agency .  she doesn't want them to see kiss , if you hadn't figured that out already .  it's really quite disheartening to see such a fine soundtrack go to waste in a pointless movie like this .  we've got plenty of kiss , along with some ac/dc , ramones , and thin lizzy .  then again , \" maximum overdrive \" had an awesome soundtrack ( me being the big ac/dc fan that i am ) , but is probably one of the worst movies of all time .   \" detroit rock city \" doesn't quite reach that level of ineptitude , but it gets dangerously close .  in fact , the music is the only thing that keeps this movie from being a complete failure in my mind .  basically , the soundtrack has earned the film a full half-star , which means all the bands involved can pat themselves on the back ( except for marilyn manson , whose half-hearted cover of ac/dc's \" highway to hell \" sounds like something my neighbor's cat coughed up ) .  it's also really sad to see the talents of the cast go to waste , because it' s evident that they're all trying really hard to squeeze some life out of this dead turkey of a movie .  edward furlong has done far better work than this , and so has natasha lyonne , and so has lin shaye , but hey , they've got to make a living in hollywood .  people wanting to see kiss , and lots of it will probably be disappointed , considering the band appears for about five minutes and plays one song .  too bad , they might have provided some energy to this mess .  director adam rifkin knows he hasn't got much material to work with , so he takes a chapter from the michael bay book of directing and keeps his camera spinning .  we get an endless parade of quick-cuts , split-screens , zoom-outs , zoom-ins , and rotating cameras , all in an effort to cover up the sheer stupidity of the script .  it's fun for a while , but eventually it becomes disorienting .  i would recommend that those who felt seasick at \" the blair witch project \" stay far away from \" detroit rock city , \" because the witch has got nothing on this baby .  i haven't felt such an urge to reach out and hold the camera still since \" armageddon . \"  and what about that script ?  it's written by carl j . dupr ? , which sounds like as made-up a name as i've ever heard .  if it is , i can't say i blame the writer for distancing himself as far from this script as possible .  a plotless , pointless rock n' roll movie can be fun , if the jokes and gags are actually funny .  the jokes in \" detroit rock city \" rarely are .  in fact , the only time i really laughed was when a priest gets stoned on a marijuana-laced pizza , and that was just because it was so surreal .  the rest of the movie just seems like they just threw a bunch of vulgar stuff up on screen and called it \" comedy . \"  there is no set-up , just a succession of punchlines that don't provide for much in the way of chuckles , precisely because there was no set-up .  it's as if they just whacked someone on the head , pointed at him and said , \" see ?  funny ! \"  look , that woman was so shocked by hearing loud kiss music that she spilled her drink .  see ?  funny !  look , that guy just got clocked by a telephone receiver .  twice .  see ?  funny !  look , that kid has been vomiting for 20 minutes after drinking an inordinate amount of alcohol and is now about to perform an exotic dance for money .  see ?  funny !  a word of advice to mr . dupr ? : no , these things aren't funny all by themselves .  they must be preceded by a clever set-up so the audience hasn 't predicted them five minutes in advance .  that's it , i've said enough about this movie .  it's a waste of time and money .  i liked the music , but don't bother buying the soundtrack .  i hear it' s just modern bands doing inferior versions of the songs that are actually in the movie .  you want to see this concept executed well ?  go rent roger corman's 1979 classic \" rock n' roll high school . \"  it features another late-seventies rock band ( the ramones ) and a far more interesting story about a girl trying to get tickets to their show .  yes , go rent that , and skip \" detroit rock city , \" which will probably bomb , and deservedly so .  \n",
      "in the wake of the smashing success of \" rumble in the bronx , \" it's looking more and more likely that more jackie chan films will see american release .  rumor has it that one of these films will be drunken master ii .  the version i have is a copy from the laserdisc ; it's widescreen and bilingually-subtitled , as are most hong kong films these days .  availability over here in the united states is very limited ; these films must either be purchased via pirates or sought out from asian distributors such as tai seng .  the subtitling on the copy i have is slightly hard to read ; the letters are white and a bit small .  although the american release will almost certainly be dubbed , this review is of the subtitled version , so please keep that in mind if you're reading this review to help you decide whether to go out and see it .  to be fair , i must admit that i've never been very fond of \" period-piece \" martial arts movies--the ones set in some nebulous china of the distant or not so distant past .  perhaps it's because most of those i've seen were filmed on inferior stock , with either butchered dubbing or all-but-illegible subtitling , or perhaps it's because their plots all tend to be very similar to each other and , in many cases , all but nonexistant .  in fact , many of them get so wrapped up in their subplots that they seem to forget their main plot entirely until only a few minutes before the end .  or , for that matter , it might be because the jackie chan films with more modern settings ( armour of god , rumble in the bronx , etc . ) tend to have more spectacular stunts , often involving large motor vehicles and large explosions , whereas period pieces simply have the martial arts .  having said that , i must now turn right around and say that drunken master ii is a remarkable exception to all or most of the above , is one of the better martial arts films i've seen , and i quite enjoyed it .  surprised ?  well , so was i .  drunken master ii is about a young man named wong fei-hong ( played by jackie chan ) who is a master of the drunken boxing style of kung fu .  where he learned this style is uncertain , as his father , wong kei-ying ( ti lung ) is steadfast in his opposition to fei-hong's practicing it rather than some more normal style of kung fu .  apparently , fei-hong is some sort of figure from chinese folklore , rather like paul bunyan is for americans , but i've heard very little about this , and could quite well be wrong , so i'll leave analysis of that to the people who know it better .  one of my friends points out that the character of wong fei-hong is also featured in the \" once upon a time in china \" movies , but i have not yet seen those .  the plot of drunken master ii is somewhat hazy , as are the plots to many such films , but if you're watching a jackie chan film , odds are you aren't expecting something on the order of \" war and peace \" .  the story seems to revolve around those evil foreigners who are spiriting away ancient chinese relics ( and hence , china's cultural heritage ) while overworking , underpaying , and beating up chinese workers in a nearby steel mill .  however , this plot merely serves as a framework for the other main story of the film--fei-hong's perpetual struggle to win his girlfriend , supplicate his father , keep his ( pregnant ) mother ( played by anita mui ) from fighting , and keep from getting beaten up by evil foreigner thugs .  the macguffin that drives the plot ( s ) is a precious antique jade imperial seal which is being taken away by the evil foreigners .  in the beginning , fei-hong accidentally steals it while trying to recover an identically-wrapped box containing the medicinal ginseng his father was bringing back for a customer .  in the process , he clashes with another thief , who is himself trying for the seal but ends up instead with the ginseng .  after fei-hong narrowly avoids getting caught with the seal by the evil foreigners' lackies , thanks to some timely intervention by a general's son ( a cameo appearance by andy lau , who would later take on the starring role in drunken master iii ! ) , comedic chaos ensues back at the wong household when fei-hong and his mother attempt to come up with a replacement for the missing ginseng .  and so it goes .  and the plot thickens later on , such as when fei-hong's girlfriend maneuvers him into a kung fu match with a rival , or when fei-hong and the thief , now revealed to be a loyalist manchu officer trying to recover the seal and stop the evil foreigners , are attacked en masse ( another grand kung-fu movie tradition ) , but i think i've already spent more time on the plot than it really deserves .  let's move on to the real draw of jackie chan movies . . . the  action .  there's plenty of martial arts action to be found in this movie . . . of  course , in a kung fu film , that's to be expected .  however , this isn't just another kung fu movie ; this one has jackie chan doing the fight and stunt choreography , and jackie chan is a genius .  the primary martial arts \" style \" featured in the film is drunken boxing , a form of kung fu which attempts to draw the adversary off his guard by making it seem like the fellow using it is drunk .  further , for the purposes of this film at least , drunken boxers fight better when they actually _are_ intoxicated . . . but  there's a fine line between just drunk enough and drunk into a stupor .  under normal circumstances , the idea of someone staggering around looking sloshed but managing to fight effectively and even incredibly might seem rather stupid , but jackie pulls it off with flair .  the kung fu sequences are so intricate in their staging and execution that it is pointless to try to describe it on paper , so i'll just say that the fights--especially the big climactic fight at the end--in themselves make the movie worth watching .  another thing drunken master ii has going for it is the stunt work .  even without motor vehicles ( well , not counting a train ) , there are some remarkable stunts in this film .  among other things , jackie dives off a balcony into a table and crawls across hot coals ( not once , but at _least_ twice , if you count the outtake shown during the credits ) .   ( quicktime movies of these stunts can be found through the www movie database . )  unlike in american films , these stunts are _not_ faked .  drunken master ii stars several veteran actors of the hong kong movie scene , including jackie , ti lung ( \" a better tomorrow \" 1 & 2 ) , and anita mui ( the \" heroic trio \" series , \" rumble in the bronx \" ) .  the performances are first-rate , especially when it comes to the comedy parts of the film .  the scene where fei-hong and his mother conspire literally behind fei-hong's father's back to cover up for the missing ginseng root is hilarious , as is the scene where fei-hong's mother , having just revealed that she is pregnant , is threatening to hurt herself ( in order to draw her husband's anger away from fei-hong ) .  jackie has developed his knack for physical comedy into a sort of mastery over the years , and he's in fine form all through drunken master ii .  as far as cinematography is concerned , it certainly works for this film .  it's nothing spectacular , but is at least a dozen times better than all those old kung fu movies of the 70s .  the picture is crisp and clear .  one thing i find particularly worthy of mention is that , at least in the copy i have , the screen was wider than any film i've ever seen on videotape before--almost a whole 1/3 of the screen was blocked out above and below .   ( watch this on a bigscreen tv or movie theater if you can . )  it will be an utter shame if this film is eventually pan-and-scanned for american video release .  drunken master ii shows the full potential of \" period piece \" kung fu movies , and it's good enough to overcome even my usual distaste for such movies .  the plot does meander a bit , but that's to be expected in this type of film .  if you like this kind of movie , you'll love this movie , and if not , well , give it a chance anyway .  if nothing else , the martial arts and stunt sequences are by themselves worth the price of admission or rental .  \n",
      "movie reviewers have an obligation to see the good , the bad , and the despicable .  i originally wrote this review for my college newspaper back in '95 , but i wanted to re-write it because not all retro reviews should be about the classics .  we need to be warned about some truly awful films , too .  this picture was so bad , it inspired the description for my 1/10 rating ( see ratings chart below ) .  the only thing saving it from a 0/10 rating is that being able to rent a movie like this is slightly less embarassing than renting a porno .  so , it does indeed have some plusses . . .  in fairness , elizabeth berkley is certainly worth seeing in the buff .  and her ability to whine and irritate us , even while nude , was appropriate in her role as selfish temptress nomi malone .  this character is not smart , not interesting , and ( deliberately ? )  far too annoying far too often .  like in 1998s \" bulworth \" , when the movie was over i didn't care one little iota about the main character .  at least warren beatty tried to make a statement with his dreary and overrated film , though .   \" showgirls \" is too stupid to make a statement .  some people claim that the story is based on the legendary \" all about eve \" of all things !  if exploitation expert joe eszterhas was half the screenwriter that joseph l . mankiewicz was , he'd be . . . well ,  he'd be a good screenwriter .  instead , this project may have sunk his career .  he wrote the ( ha ha ! )  script and the usually reliable paul verhoeven directed .  the same team who created a good sex-film in 1992 ( \" basic instinct \" ) struck out here with their occasional violence , gratuitous x-rated sex scenes , and numerous ( and quite unnecessary ) lesbian overtones .  the predictable storyline revolves around nomi streaking into las vegas to make it big as a dancer .  after the supposed street-smart young \" lady \" gets conned out of her suitcase by a slack-jawed yokel in the opening sequence , she befriends a tailor of the glamorous stage production at the \" stardust hotel \" .  nomi doesn't take advantage of this contact to break into the big-time of dirty dancing right away .  first , she becomes a lap dancer at a scummy strip club .  she sells her hot little wares at \" the cheetah \" for a short time , turning on the fictitious customers and the actual theatre audience .  hey , i never said she wasn't a hot number . . .  maybe it's that , her body , which gets her into the big-time when the star of the \" stardust hotel \" , crystal connors ( gina gershon ) stops into the strip club ( it certainly isn't her brains or pleasant disposition ! ) .  crystal requests a private lap dance for her boyfriend ( kyle maclachlan ) .  he also happens to be the pleasure-seeking worm who runs the big show .  crystal gets nomi onto the \" stardust \" team and , after an interminable amount of time , nomi \" earns \" the role of crystal's understudy .  the slut then deliberately injures and hospitalizes crystal .  it was almost laughable that nomi had the guts to claim that she's \" not a whore \" .  that's a phrase we hear a few different times and it's completely ludicrous .  of course she is !  she sells her soul to make it big , but in the end we're supposed to believe that she's a better person than that .  we're supposed to root for her .  no way !  she's a tramp and a back-stabber who deserved nothing--least of all vindication in the . . . ahem . . . climax .  she is not a good person and they take over two hours to explain that the audience should think that she is .  the sub-plot with a male dancer ( glenn plummer ) who claims to see talent in nomi is just a gratuitous opportunity to let her dance naked a little bit more .  it sure ain't character development !  plummer also appeared in \" speed \" in '94 in a smaller , yet better role .  this sub-plot goes absolutely nowhere except maybe to deliver an unsubtle hint that fornicators should practice birth control .  kyle maclachlan must have been promised a big pay-day or his standards have dipped since appearing in \" blue velvet \" .  that picture was weird , but some critics claim it's one of the best movies of the '80s .  now ol' kyle can say that he acted in one of the worst of the '90s , too .  his sleazy character is important to \" showgirls \" , but we don't learn anything about him .  he uses people to get what he wants , but that only means that he fits in well with the other characters in this movie .  is he a villain ?  who cares !  ultimately , this movie is as tiresome as it is explicit .  everyone must know by now about the soft-core acts of copulation , especially the riotous romp between berkley and maclachlan in his pool .  what few reviewers take issue with is how mean-spirited this movie is .  everyone's either having sex , exacting revenge , or wishing they were having sex or exacting revenge .  it's just too hard to take ( especially for over two hours ) .  if we must be exposed to the evils of the vegas world , why couldn't verhoeven have also made a point of highlighting the whispers , grunts , and other sounds during the dance numbers ?  it's hard to care about these people if we can't even appreciate what they're capable of doing on-stage .  berkley may have a future in hollywood because she can dance and she has a great body .  after all , the world of porn is still an active , dishonourable profession .  perhaps berkley could join their ranks and leave the real acting to pauly shore and cindy crawford .  oops , they're bad actors , too .  well , at least , they're not selfish and contemptable like good ol' slutty nomi malone .  useless trivia--ironically , elizabeth berkley played virtuous and \" holier than thou \" jessie on the teeny-bopper tv show , \" saved by the bell \" , before breaking onto the big screen .  \n"
     ]
    }
   ],
   "source": [
    "# fill in your code...\n",
    "print('Top10 negative: 1 - 10')\n",
    "for i in range(1,11):\n",
    "    print(X_test_raw[index[i-1,0]])\n"
   ]
  },
  {
   "cell_type": "markdown",
   "metadata": {},
   "source": [
    "### Discuss how did you choose model hyperparameters (e.g. learning rate and regularisation strength)? What is the relation between training epochs and learning rate? How the regularisation strength affects performance?"
   ]
  },
  {
   "cell_type": "markdown",
   "metadata": {},
   "source": [
    "Enter your answer here...\n",
    "Hyperparameter is usually selected very carefully, such as the learning rate, if the learning rate is too large, then the number of epochs will be reduced, which will lead to underfit, and if the learning rate is too small, then the model running time will increase significantly, the number of times Will increase, and easily lead to overfitting. And regularisation strength can prevent overfitting"
   ]
  },
  {
   "cell_type": "markdown",
   "metadata": {},
   "source": [
    "\n",
    "\n",
    "## Full Results\n",
    "\n",
    "Add here your results:\n",
    "\n",
    "| LR | Precision  | Recall  | F1-Score  |\n",
    "|:-:|:-:|:-:|:-:|\n",
    "| BOW-count  |0.7741935483870968   |0.84    |0.8057553956834531   |\n",
    "| BOW-tfidf  |0.7658536585365854   |0.785   |0.7753086419753088   |\n"
   ]
  },
  {
   "cell_type": "markdown",
   "metadata": {},
   "source": [
    "# Multi-class Logistic Regression \n",
    "\n",
    "Now you need to train a Multiclass Logistic Regression (MLR) Classifier by extending the Binary model you developed above. You will use the MLR model to perform topic classification on the AG news dataset consisting of three classes:"
   ]
  },
  {
   "cell_type": "markdown",
   "metadata": {},
   "source": [
    "- Class 1: World\n",
    "- Class 2: Sports\n",
    "- Class 3: Business"
   ]
  },
  {
   "cell_type": "markdown",
   "metadata": {},
   "source": [
    "You need to follow the same process as in Task 1 for data processing and feature extraction by reusing the functions you wrote."
   ]
  },
  {
   "cell_type": "code",
   "execution_count": 38,
   "metadata": {
    "ExecuteTime": {
     "end_time": "2020-02-15T14:18:03.212229Z",
     "start_time": "2020-02-15T14:18:03.185261Z"
    }
   },
   "outputs": [],
   "source": [
    "# fill in your code...\n",
    "data_tr = pd.read_csv('./data_topic/train.csv', names=[\"class\",\"article\"])\n",
    "data_dev = pd.read_csv('./data_topic/dev.csv',  names=[\"class\",\"article\"])\n",
    "data_te = pd.read_csv('./data_topic/test.csv',  names=[\"class\",\"article\"])"
   ]
  },
  {
   "cell_type": "code",
   "execution_count": 39,
   "metadata": {
    "ExecuteTime": {
     "end_time": "2020-02-15T14:18:03.515585Z",
     "start_time": "2020-02-15T14:18:03.508299Z"
    }
   },
   "outputs": [
    {
     "data": {
      "text/html": [
       "<div>\n",
       "<style scoped>\n",
       "    .dataframe tbody tr th:only-of-type {\n",
       "        vertical-align: middle;\n",
       "    }\n",
       "\n",
       "    .dataframe tbody tr th {\n",
       "        vertical-align: top;\n",
       "    }\n",
       "\n",
       "    .dataframe thead th {\n",
       "        text-align: right;\n",
       "    }\n",
       "</style>\n",
       "<table border=\"1\" class=\"dataframe\">\n",
       "  <thead>\n",
       "    <tr style=\"text-align: right;\">\n",
       "      <th></th>\n",
       "      <th>class</th>\n",
       "      <th>article</th>\n",
       "    </tr>\n",
       "  </thead>\n",
       "  <tbody>\n",
       "    <tr>\n",
       "      <td>0</td>\n",
       "      <td>1</td>\n",
       "      <td>Reuters - Venezuelans turned out early\\and in ...</td>\n",
       "    </tr>\n",
       "    <tr>\n",
       "      <td>1</td>\n",
       "      <td>1</td>\n",
       "      <td>Reuters - South Korean police used water canno...</td>\n",
       "    </tr>\n",
       "    <tr>\n",
       "      <td>2</td>\n",
       "      <td>1</td>\n",
       "      <td>Reuters - Thousands of Palestinian\\prisoners i...</td>\n",
       "    </tr>\n",
       "    <tr>\n",
       "      <td>3</td>\n",
       "      <td>1</td>\n",
       "      <td>AFP - Sporadic gunfire and shelling took place...</td>\n",
       "    </tr>\n",
       "    <tr>\n",
       "      <td>4</td>\n",
       "      <td>1</td>\n",
       "      <td>AP - Dozens of Rwandan soldiers flew into Suda...</td>\n",
       "    </tr>\n",
       "  </tbody>\n",
       "</table>\n",
       "</div>"
      ],
      "text/plain": [
       "   class                                            article\n",
       "0      1  Reuters - Venezuelans turned out early\\and in ...\n",
       "1      1  Reuters - South Korean police used water canno...\n",
       "2      1  Reuters - Thousands of Palestinian\\prisoners i...\n",
       "3      1  AFP - Sporadic gunfire and shelling took place...\n",
       "4      1  AP - Dozens of Rwandan soldiers flew into Suda..."
      ]
     },
     "execution_count": 39,
     "metadata": {},
     "output_type": "execute_result"
    }
   ],
   "source": [
    "data_tr.head()"
   ]
  },
  {
   "cell_type": "code",
   "execution_count": 40,
   "metadata": {
    "ExecuteTime": {
     "end_time": "2020-02-15T14:18:03.806523Z",
     "start_time": "2020-02-15T14:18:03.798279Z"
    }
   },
   "outputs": [],
   "source": [
    "# fill in your code...\n",
    "X_tr_raw = []\n",
    "Y_tr = []\n",
    "X_dev_raw = []\n",
    "Y_dev = []\n",
    "X_test_raw = []\n",
    "Y_te = []\n",
    "\n",
    "# add all raw data into list\n",
    "for i in range(len(data_tr)):\n",
    "    X_tr_raw.append(data_tr.iat[i, 1])\n",
    "    Y_tr.append(data_tr.iat[i, 0])\n",
    "    \n",
    "for i in range(len(data_dev)):\n",
    "    X_dev_raw.append(data_dev.iat[i, 1])\n",
    "    Y_dev.append(data_dev.iat[i, 0])\n",
    "    \n",
    "for i in range(len(data_te)):\n",
    "    X_test_raw.append(data_te.iat[i, 1])\n",
    "    Y_te.append(data_te.iat[i, 0])"
   ]
  },
  {
   "cell_type": "code",
   "execution_count": 41,
   "metadata": {
    "ExecuteTime": {
     "end_time": "2020-02-15T14:18:04.508938Z",
     "start_time": "2020-02-15T14:18:04.171071Z"
    }
   },
   "outputs": [
    {
     "name": "stdout",
     "output_type": "stream",
     "text": [
      "5000\n",
      "\n",
      "[('legg', 'mason', 'tennis'), ('investor', 'reuters'), ('bj', 'wholesale'), ('out', 'had', 'added'), 'getting', 'after', 'join', 'ask', ('region', 'south', 'ossetia'), 'herat', 'virginia', ('target', 'stocks'), ('third', 'round'), ('fell', 'their', 'lowest'), ('fell', 'more'), 'tellers', ('tomas', 'berdych'), 'pettitte', ('world', 'second', 'largest'), ('dream', 'team'), ('satellite', 'operator', 'said'), 'fueled', 'ongoing', ('commission', 'expected', 'declare'), 'wholesale', ('out', 'prospective'), 'payments', ('sunday', 'killing', 'least'), 'drew', 'issues', 'path', 'travel', 'florida', 'climbed', 'president', ('expected', 'declare', 'initial'), ('exporters', 'such', 'toyota'), ('miss', 'season', 'after'), ('third', 'straight'), 'groups', 'rbi', ('financial', 'services'), ('beijing', 'reuters'), ('washington', 'reuters'), ('retailer', 'behind'), 'efforts', ('blue', 'jays'), ('more', 'than', 'doubled'), 'settler', 'income', ('al', 'sadr'), 'really', 'slump', ('government', 'reported'), ('had', 'decided'), 'fell', 'mariel', 'done', ('routines', 'career', 'win'), ('election', 'year'), 'list', 'progress', ('oil', 'exporter'), 'special', ('concern', 'over'), ('jewish', 'settlements', 'west'), ('way', 'playoff', 'sunday'), 'customer', 'kmart', ('barrel', 'wednesday'), 'regional', 've', ('beijing', 'reuters', 'china'), 'average', 'arafat', 'twice', 'quote', 'allen', 'bringing', ('start', 'trading', 'nasdaq'), 'victories', 'reliever', 'kong', ('corey', 'koskie'), ('crashed', 'out'), ('economic', 'reports', 'showed'), 'security', 'promised', ('strained', 'right'), 'help', ('shi', 'ite', 'cleric'), ('york', 'san', 'francisco'), 'dug', ('three', 'years'), ('billion', 'wednesday'), 'investigation', 'assets', ('season', 'after', 'tearing'), 'trailed', ('reuters', 'venezuela', 'left')]\n",
      "\n",
      "[('reuters', 631), ('said', 432), ('tuesday', 413), ('wednesday', 344), ('new', 325), ('after', 295), ('ap', 275), ('athens', 245), ('monday', 221), ('first', 210)]\n"
     ]
    }
   ],
   "source": [
    "vocab, df, ngram_counts = get_vocab(X_tr_raw, ngram_range=(1,3), keep_topN=5000, stop_words=stop_words)\n",
    "print(len(vocab))\n",
    "print()\n",
    "print(list(vocab)[:100])\n",
    "print()\n",
    "print(df.most_common()[:10])"
   ]
  },
  {
   "cell_type": "code",
   "execution_count": 42,
   "metadata": {
    "ExecuteTime": {
     "end_time": "2020-02-15T14:18:04.706802Z",
     "start_time": "2020-02-15T14:18:04.511061Z"
    }
   },
   "outputs": [],
   "source": [
    "# fill in your code...\n",
    "word_id = {}\n",
    "i = 0\n",
    "for i, w in enumerate(list(vocab)):\n",
    "    word_id[w] = i\n",
    "# generate 3 file ngram list    \n",
    "X_train_ngram = []\n",
    "X_dev_ngram = []\n",
    "X_test_ngram = []\n",
    "\n",
    "for i in X_tr_raw:\n",
    "    X_train_ngram.append(extract_ngrams(i, ngram_range=(1,3), token_pattern=r'\\b[A-Za-z][A-Za-z]+\\b', stop_words=stop_words, vocab=vocab))\n",
    "for i in X_dev_raw:\n",
    "    X_dev_ngram.append(extract_ngrams(i, ngram_range=(1,3), token_pattern=r'\\b[A-Za-z][A-Za-z]+\\b', stop_words=stop_words, vocab=vocab))\n",
    "for i in X_test_raw:\n",
    "    X_test_ngram.append(extract_ngrams(i, ngram_range=(1,3), token_pattern=r'\\b[A-Za-z][A-Za-z]+\\b', stop_words=stop_words, vocab=vocab))\n",
    "\n",
    "    # vectorise 3 list    \n",
    "X_tr_count = vectorise(X_train_ngram, vocab)\n",
    "X_dev_count = vectorise(X_dev_ngram, vocab)\n",
    "X_test_count = vectorise(X_test_ngram, vocab)"
   ]
  },
  {
   "cell_type": "code",
   "execution_count": 43,
   "metadata": {},
   "outputs": [],
   "source": [
    "idfs = []\n",
    "for i in list(vocab):\n",
    "    # set a variable to record occurance times \n",
    "    df_count = 0\n",
    "    # if it occur, variable + 1\n",
    "    for j in X_train_ngram:\n",
    "        if i in j:  \n",
    "            df_count = df_count + 1\n",
    "    idfs.append(np.log10(X_tr_count.shape[0]/(df_count+1)))\n",
    "# change to numpy array\n",
    "idfs = np.array(idfs)\n",
    "\n",
    "X_tr_tfidf = X_tr_count * idfs\n",
    "X_dev_tfidf = X_dev_count * idfs\n",
    "X_test_tfidf = X_test_count * idfs"
   ]
  },
  {
   "cell_type": "markdown",
   "metadata": {},
   "source": [
    "Now you need to change `SGD` to support multiclass datasets. First you need to develop a `softmax` function. It takes as input:\n",
    "\n",
    "- `z`: array of real numbers \n",
    "\n",
    "and returns:\n",
    "\n",
    "- `smax`: the softmax of `z`"
   ]
  },
  {
   "cell_type": "code",
   "execution_count": 44,
   "metadata": {
    "ExecuteTime": {
     "end_time": "2020-02-15T14:18:07.440998Z",
     "start_time": "2020-02-15T14:18:07.437915Z"
    }
   },
   "outputs": [],
   "source": [
    "def softmax(z):\n",
    "    \n",
    "    # fill in your code...\n",
    "    smax = np.exp(z) / np.sum(np.exp(z),1,keepdims=True)\n",
    "    return smax"
   ]
  },
  {
   "cell_type": "markdown",
   "metadata": {},
   "source": [
    "Then modify `predict_proba` and `predict_class` functions for the multiclass case:"
   ]
  },
  {
   "cell_type": "code",
   "execution_count": 45,
   "metadata": {
    "ExecuteTime": {
     "end_time": "2020-02-15T14:18:07.445451Z",
     "start_time": "2020-02-15T14:18:07.442851Z"
    }
   },
   "outputs": [],
   "source": [
    "def predict_proba(X, weights):\n",
    "    \n",
    "    # fill in your code...\n",
    "    preds_proba = softmax(np.matmul(X,weights.T))\n",
    "    return preds_proba"
   ]
  },
  {
   "cell_type": "code",
   "execution_count": 46,
   "metadata": {
    "ExecuteTime": {
     "end_time": "2020-02-15T14:18:07.449814Z",
     "start_time": "2020-02-15T14:18:07.447145Z"
    }
   },
   "outputs": [],
   "source": [
    "def predict_class(X, weights):\n",
    "    \n",
    "    # fill in your code...\n",
    "    pre_pro = predict_proba(X, weights)\n",
    "    preds_class = np.argmax(pre_pro, 1)\n",
    "    \n",
    "    return preds_class+1"
   ]
  },
  {
   "cell_type": "markdown",
   "metadata": {},
   "source": [
    "Toy example and expected functionality of the functions above:"
   ]
  },
  {
   "cell_type": "code",
   "execution_count": 47,
   "metadata": {
    "ExecuteTime": {
     "end_time": "2020-02-15T14:18:08.059902Z",
     "start_time": "2020-02-15T14:18:08.056774Z"
    }
   },
   "outputs": [],
   "source": [
    "X = np.array([[0.1,0.2],[0.2,0.1],[0.1,-0.2]])\n",
    "w = np.array([[2,-5],[-5,2]])"
   ]
  },
  {
   "cell_type": "code",
   "execution_count": 48,
   "metadata": {
    "ExecuteTime": {
     "end_time": "2020-02-15T14:18:08.495464Z",
     "start_time": "2020-02-15T14:18:08.491074Z"
    }
   },
   "outputs": [
    {
     "data": {
      "text/plain": [
       "array([[0.33181223, 0.66818777],\n",
       "       [0.66818777, 0.33181223],\n",
       "       [0.89090318, 0.10909682]])"
      ]
     },
     "execution_count": 48,
     "metadata": {},
     "output_type": "execute_result"
    }
   ],
   "source": [
    "predict_proba(X, w)"
   ]
  },
  {
   "cell_type": "code",
   "execution_count": 49,
   "metadata": {
    "ExecuteTime": {
     "end_time": "2020-02-15T14:18:08.714215Z",
     "start_time": "2020-02-15T14:18:08.710098Z"
    }
   },
   "outputs": [
    {
     "data": {
      "text/plain": [
       "array([2, 1, 1], dtype=int64)"
      ]
     },
     "execution_count": 49,
     "metadata": {},
     "output_type": "execute_result"
    }
   ],
   "source": [
    "predict_class(X, w)"
   ]
  },
  {
   "cell_type": "markdown",
   "metadata": {},
   "source": [
    "Now you need to compute the categorical cross entropy loss (extending the binary loss to support multiple classes)."
   ]
  },
  {
   "cell_type": "code",
   "execution_count": 50,
   "metadata": {
    "ExecuteTime": {
     "end_time": "2020-02-15T14:30:48.047338Z",
     "start_time": "2020-02-15T14:30:48.044395Z"
    }
   },
   "outputs": [],
   "source": [
    "def categorical_loss(X, Y, weights, num_classes=5, alpha=0.00001):    \n",
    "    # fill in your code...\n",
    "    l = 0\n",
    "    log_pb = np.log(predict_proba(X, weights))\n",
    "    for i in range(X.shape[0]):\n",
    "        l = l + log_pb[i, Y[i]-1]\n",
    "    l = l/X.shape[0]\n",
    "    l = alpha * np.sum(weights**2) - l\n",
    "    return l\n",
    " "
   ]
  },
  {
   "cell_type": "markdown",
   "metadata": {
    "ExecuteTime": {
     "end_time": "2020-02-15T14:08:59.937442Z",
     "start_time": "2020-02-15T14:08:59.932221Z"
    }
   },
   "source": [
    "Finally you need to modify SGD to support the categorical cross entropy loss:"
   ]
  },
  {
   "cell_type": "code",
   "execution_count": 51,
   "metadata": {
    "ExecuteTime": {
     "end_time": "2020-02-15T14:18:10.176885Z",
     "start_time": "2020-02-15T14:18:10.165021Z"
    }
   },
   "outputs": [],
   "source": [
    "def SGD(X_tr, Y_tr, X_dev=[], Y_dev=[], num_classes=5, lr=0.01, alpha=0.00001, epochs=5, tolerance=0.001, print_progress=True):\n",
    "    \n",
    "    # fill in your code...\n",
    "    training_loss_history = []\n",
    "    validation_loss_history = []\n",
    "\n",
    "    weights = np.zeros([num_classes, X_tr.shape[1]])\n",
    "    for i in range(epochs):\n",
    "        #  generate random order of Dtrain\n",
    "        ran_order = np.random.permutation(X_tr.shape[0])\n",
    "        for j in ran_order:\n",
    "            Z_tr = predict_proba(X_tr[j:j+1,:], weights)\n",
    "            Z_tr[0, Y_tr[j]-1] -= 1\n",
    "            weights -=  lr * ( Z_tr.T * X_tr[j:j+1,:] + 2*alpha*weights)\n",
    "\n",
    "        # append every loss results into training and validation loss\n",
    "        training_loss_history.append(categorical_loss(X_tr, Y_tr, weights, alpha))\n",
    "        validation_loss_history.append(categorical_loss(X_dev, Y_dev, weights, alpha))\n",
    "\n",
    "        if print_progress:\n",
    "            print('Epoch times: {}, Training loss value: {}, Validation loss: {}'.format(i, training_loss_history[-1], validation_loss_history[-1]))\n",
    "        if len(validation_loss_history)>=2 and np.abs(validation_loss_history[-1] - validation_loss_history[-2]) < tolerance:\n",
    "            break\n",
    "\n",
    "    return weights, training_loss_history, validation_loss_history"
   ]
  },
  {
   "cell_type": "markdown",
   "metadata": {
    "ExecuteTime": {
     "end_time": "2020-02-15T14:10:15.772383Z",
     "start_time": "2020-02-15T14:10:15.767855Z"
    }
   },
   "source": [
    "Now you are ready to train and evaluate you MLR following the same steps as in Task 1 for both Count and tfidf features:"
   ]
  },
  {
   "cell_type": "code",
   "execution_count": 52,
   "metadata": {
    "ExecuteTime": {
     "end_time": "2020-02-15T14:18:55.324956Z",
     "start_time": "2020-02-15T14:18:11.720952Z"
    }
   },
   "outputs": [
    {
     "name": "stdout",
     "output_type": "stream",
     "text": [
      "Epoch times: 0, Training loss value: 1.0686911723934174, Validation loss: 1.0832890395793449\n",
      "Epoch times: 1, Training loss value: 1.0422035734856754, Validation loss: 1.069052794469893\n",
      "Epoch times: 2, Training loss value: 1.0184803565879992, Validation loss: 1.055723890777719\n",
      "Epoch times: 3, Training loss value: 0.9969193936579083, Validation loss: 1.0431425566109558\n",
      "Epoch times: 4, Training loss value: 0.9771059624388269, Validation loss: 1.031201926682416\n",
      "Epoch times: 5, Training loss value: 0.9587300524933496, Validation loss: 1.0198101791392435\n",
      "Epoch times: 6, Training loss value: 0.9415627654452706, Validation loss: 1.008901398091886\n",
      "Epoch times: 7, Training loss value: 0.925445251907974, Validation loss: 0.9984228951750879\n",
      "Epoch times: 8, Training loss value: 0.9102507963825065, Validation loss: 0.9883422691461466\n",
      "Epoch times: 9, Training loss value: 0.8958815880622502, Validation loss: 0.9786220761981399\n",
      "Epoch times: 10, Training loss value: 0.8822551254168536, Validation loss: 0.9692374200144914\n",
      "Epoch times: 11, Training loss value: 0.8693004022194268, Validation loss: 0.9601669939751173\n",
      "Epoch times: 12, Training loss value: 0.8569665192873845, Validation loss: 0.9513940135091511\n",
      "Epoch times: 13, Training loss value: 0.8451930157003291, Validation loss: 0.942899140386813\n",
      "Epoch times: 14, Training loss value: 0.8339432220070775, Validation loss: 0.9346682889910447\n",
      "Epoch times: 15, Training loss value: 0.8231818321222316, Validation loss: 0.9266875478339072\n",
      "Epoch times: 16, Training loss value: 0.812867766895967, Validation loss: 0.9189461539837518\n",
      "Epoch times: 17, Training loss value: 0.8029745539649112, Validation loss: 0.9114303909053281\n",
      "Epoch times: 18, Training loss value: 0.7934690361574589, Validation loss: 0.9041320951317005\n",
      "Epoch times: 19, Training loss value: 0.7843296000449973, Validation loss: 0.897038544362913\n",
      "Epoch times: 20, Training loss value: 0.77553436037815, Validation loss: 0.8901420691004818\n",
      "Epoch times: 21, Training loss value: 0.7670625852320124, Validation loss: 0.8834345770829289\n",
      "Epoch times: 22, Training loss value: 0.758893122818932, Validation loss: 0.876907727640257\n",
      "Epoch times: 23, Training loss value: 0.7510108095283928, Validation loss: 0.8705554940669067\n",
      "Epoch times: 24, Training loss value: 0.7433939575305304, Validation loss: 0.8643687186533032\n",
      "Epoch times: 25, Training loss value: 0.7360345954282324, Validation loss: 0.8583427302485486\n",
      "Epoch times: 26, Training loss value: 0.7289146404698436, Validation loss: 0.8524687802150677\n",
      "Epoch times: 27, Training loss value: 0.7220234636925545, Validation loss: 0.8467431148002518\n",
      "Epoch times: 28, Training loss value: 0.7153455482990722, Validation loss: 0.8411581874408601\n",
      "Epoch times: 29, Training loss value: 0.7088735663441987, Validation loss: 0.835710020269828\n",
      "Epoch times: 30, Training loss value: 0.7025953549472541, Validation loss: 0.8303946085293146\n",
      "Epoch times: 31, Training loss value: 0.6965026842741081, Validation loss: 0.8252047781374624\n",
      "Epoch times: 32, Training loss value: 0.6905852662933648, Validation loss: 0.8201363855941474\n",
      "Epoch times: 33, Training loss value: 0.6848358990658352, Validation loss: 0.8151861398270538\n",
      "Epoch times: 34, Training loss value: 0.6792457170767621, Validation loss: 0.8103491627667148\n",
      "Epoch times: 35, Training loss value: 0.6738076804749259, Validation loss: 0.8056211694638536\n",
      "Epoch times: 36, Training loss value: 0.6685147127567636, Validation loss: 0.8009989332058018\n",
      "Epoch times: 37, Training loss value: 0.6633606791814927, Validation loss: 0.7964790579813545\n",
      "Epoch times: 38, Training loss value: 0.6583394299179458, Validation loss: 0.7920565707018272\n",
      "Epoch times: 39, Training loss value: 0.6534447254856349, Validation loss: 0.7877282475813647\n",
      "Epoch times: 40, Training loss value: 0.6486730755472756, Validation loss: 0.783492999115383\n",
      "Epoch times: 41, Training loss value: 0.6440176182976167, Validation loss: 0.7793461977233406\n",
      "Epoch times: 42, Training loss value: 0.6394749206062731, Validation loss: 0.775284865239233\n",
      "Epoch times: 43, Training loss value: 0.6350391612100177, Validation loss: 0.7713070450363926\n",
      "Epoch times: 44, Training loss value: 0.6307063562887838, Validation loss: 0.7674093892743837\n",
      "Epoch times: 45, Training loss value: 0.6264732032293818, Validation loss: 0.7635902286807761\n",
      "Epoch times: 46, Training loss value: 0.6223352771997847, Validation loss: 0.7598455501982055\n",
      "Epoch times: 47, Training loss value: 0.6182895440149911, Validation loss: 0.7561743835376197\n",
      "Epoch times: 48, Training loss value: 0.614332345476595, Validation loss: 0.7525746336425473\n",
      "Epoch times: 49, Training loss value: 0.6104597581998426, Validation loss: 0.7490429621597745\n",
      "Epoch times: 50, Training loss value: 0.606669699168519, Validation loss: 0.7455787802100307\n",
      "Epoch times: 51, Training loss value: 0.6029589030149329, Validation loss: 0.7421793300914838\n",
      "Epoch times: 52, Training loss value: 0.5993241398877105, Validation loss: 0.7388424972912999\n",
      "Epoch times: 53, Training loss value: 0.5957633395994156, Validation loss: 0.7355663447301464\n",
      "Epoch times: 54, Training loss value: 0.5922730993104336, Validation loss: 0.7323492871380993\n",
      "Epoch times: 55, Training loss value: 0.5888521134338336, Validation loss: 0.729190238254202\n",
      "Epoch times: 56, Training loss value: 0.5854977014358907, Validation loss: 0.7260870253743436\n",
      "Epoch times: 57, Training loss value: 0.5822075088546396, Validation loss: 0.7230381969362821\n",
      "Epoch times: 58, Training loss value: 0.578978868417008, Validation loss: 0.7200410877018634\n",
      "Epoch times: 59, Training loss value: 0.5758108222580081, Validation loss: 0.7170963338658\n",
      "Epoch times: 60, Training loss value: 0.5727011478177498, Validation loss: 0.7142017191771416\n",
      "Epoch times: 61, Training loss value: 0.5696478314945275, Validation loss: 0.7113547630883472\n",
      "Epoch times: 62, Training loss value: 0.5666494705324818, Validation loss: 0.7085557417945807\n",
      "Epoch times: 63, Training loss value: 0.5637044083618125, Validation loss: 0.7058034825146323\n",
      "Epoch times: 64, Training loss value: 0.56081083079226, Validation loss: 0.7030959139858831\n",
      "Epoch times: 65, Training loss value: 0.5579674047394103, Validation loss: 0.7004327632666577\n",
      "Epoch times: 66, Training loss value: 0.5551720673484767, Validation loss: 0.6978108642283768\n",
      "Epoch times: 67, Training loss value: 0.5524240668541731, Validation loss: 0.6952308308786848\n",
      "Epoch times: 68, Training loss value: 0.549721695685692, Validation loss: 0.6926913739189191\n",
      "Epoch times: 69, Training loss value: 0.547063534496045, Validation loss: 0.6901915401550548\n",
      "Epoch times: 70, Training loss value: 0.5444485215184218, Validation loss: 0.6877300263571128\n",
      "Epoch times: 71, Training loss value: 0.5418752850281109, Validation loss: 0.6853056950772813\n",
      "Epoch times: 72, Training loss value: 0.5393431424796322, Validation loss: 0.6829182093863647\n",
      "Epoch times: 73, Training loss value: 0.5368510144950365, Validation loss: 0.6805663217569828\n",
      "Epoch times: 74, Training loss value: 0.5343974658682408, Validation loss: 0.6782494327733565\n",
      "Epoch times: 75, Training loss value: 0.5319815434533474, Validation loss: 0.6759671198575652\n",
      "Epoch times: 76, Training loss value: 0.5296023200196591, Validation loss: 0.6737182058512629\n",
      "Epoch times: 77, Training loss value: 0.5272587023786423, Validation loss: 0.6715014404287593\n",
      "Epoch times: 78, Training loss value: 0.5249500873186262, Validation loss: 0.6693164012742681\n",
      "Epoch times: 79, Training loss value: 0.5226750585159695, Validation loss: 0.667162235141964\n",
      "Epoch times: 80, Training loss value: 0.5204333171881136, Validation loss: 0.6650393848422547\n",
      "Epoch times: 81, Training loss value: 0.5182239985669475, Validation loss: 0.6629459002138086\n",
      "Epoch times: 82, Training loss value: 0.5160456121501715, Validation loss: 0.6608805666711765\n",
      "Epoch times: 83, Training loss value: 0.5138984127654532, Validation loss: 0.6588440064278916\n",
      "Epoch times: 84, Training loss value: 0.5117810579678945, Validation loss: 0.6568353345762769\n",
      "Epoch times: 85, Training loss value: 0.5096930717538869, Validation loss: 0.6548537749613537\n",
      "Epoch times: 86, Training loss value: 0.5076333898319273, Validation loss: 0.6528985640184639\n",
      "Epoch times: 87, Training loss value: 0.5056016913183039, Validation loss: 0.6509701164894593\n"
     ]
    },
    {
     "name": "stdout",
     "output_type": "stream",
     "text": [
      "Epoch times: 88, Training loss value: 0.5035970406055972, Validation loss: 0.6490660700458125\n",
      "Epoch times: 89, Training loss value: 0.5016190578313815, Validation loss: 0.6471872107242357\n",
      "Epoch times: 90, Training loss value: 0.4996670233161364, Validation loss: 0.6453328226891957\n",
      "Epoch times: 91, Training loss value: 0.49774053433330967, Validation loss: 0.6435023696342286\n",
      "Epoch times: 92, Training loss value: 0.49583901413700815, Validation loss: 0.6416958401522727\n",
      "Epoch times: 93, Training loss value: 0.4939615150848979, Validation loss: 0.6399118429183579\n",
      "Epoch times: 94, Training loss value: 0.4921079178151777, Validation loss: 0.6381503814533998\n",
      "Epoch times: 95, Training loss value: 0.4902777623791359, Validation loss: 0.6364111255286816\n",
      "Epoch times: 96, Training loss value: 0.48847022033664794, Validation loss: 0.6346934274926417\n",
      "Epoch times: 97, Training loss value: 0.486684972656647, Validation loss: 0.6329963794658979\n",
      "Epoch times: 98, Training loss value: 0.48492139396583966, Validation loss: 0.6313197993340858\n",
      "Epoch times: 99, Training loss value: 0.48317933962540355, Validation loss: 0.6296638978888545\n",
      "Epoch times: 100, Training loss value: 0.481458099701655, Validation loss: 0.6280275641752961\n",
      "Epoch times: 101, Training loss value: 0.47975752730649857, Validation loss: 0.6264111275381078\n",
      "Epoch times: 102, Training loss value: 0.47807698283503886, Validation loss: 0.6248136716460478\n",
      "Epoch times: 103, Training loss value: 0.4764160333612415, Validation loss: 0.6232353435156526\n",
      "Epoch times: 104, Training loss value: 0.47477447194712646, Validation loss: 0.6216756235607136\n",
      "Epoch times: 105, Training loss value: 0.4731516788704035, Validation loss: 0.6201335035940477\n",
      "Epoch times: 106, Training loss value: 0.47154735898296785, Validation loss: 0.6186090868215718\n",
      "Epoch times: 107, Training loss value: 0.46996121309286437, Validation loss: 0.6171025229183533\n",
      "Epoch times: 108, Training loss value: 0.4683928215610267, Validation loss: 0.615613022301679\n",
      "Epoch times: 109, Training loss value: 0.4668419714595478, Validation loss: 0.6141403093365402\n",
      "Epoch times: 110, Training loss value: 0.4653082173466776, Validation loss: 0.612683965164742\n",
      "Epoch times: 111, Training loss value: 0.46379133419840535, Validation loss: 0.6112440408809389\n",
      "Epoch times: 112, Training loss value: 0.46229097693240506, Validation loss: 0.6098202354321325\n",
      "Epoch times: 113, Training loss value: 0.4608067151353544, Validation loss: 0.6084121864297171\n",
      "Epoch times: 114, Training loss value: 0.4593383633531771, Validation loss: 0.607019487304337\n",
      "Epoch times: 115, Training loss value: 0.4578857057971331, Validation loss: 0.6056423761559699\n",
      "Epoch times: 116, Training loss value: 0.45644828578095487, Validation loss: 0.6042792766579331\n",
      "Epoch times: 117, Training loss value: 0.455025890361442, Validation loss: 0.6029312755157749\n",
      "Epoch times: 118, Training loss value: 0.45361832003958863, Validation loss: 0.6015978171189738\n",
      "Epoch times: 119, Training loss value: 0.4522251272308664, Validation loss: 0.6002776420763511\n",
      "Epoch times: 120, Training loss value: 0.45084627698689655, Validation loss: 0.5989718651208087\n",
      "Epoch times: 121, Training loss value: 0.44948144600427037, Validation loss: 0.597679402580658\n",
      "Epoch times: 122, Training loss value: 0.4481303056166995, Validation loss: 0.5964003582617797\n",
      "Epoch times: 123, Training loss value: 0.44679291222936324, Validation loss: 0.5951353490084187\n",
      "Epoch times: 124, Training loss value: 0.44546876037302874, Validation loss: 0.5938829923612542\n",
      "Epoch times: 125, Training loss value: 0.4441576649659462, Validation loss: 0.5926429610192268\n",
      "Epoch times: 126, Training loss value: 0.44285954420725104, Validation loss: 0.5914162847938079\n",
      "Epoch times: 127, Training loss value: 0.4415740468536358, Validation loss: 0.5902020821806989\n",
      "Epoch times: 128, Training loss value: 0.44030089704188663, Validation loss: 0.5889991986735266\n",
      "Epoch times: 129, Training loss value: 0.4390399544490221, Validation loss: 0.5878081466939715\n",
      "Epoch times: 130, Training loss value: 0.43779114448474327, Validation loss: 0.5866301329669195\n",
      "Epoch times: 131, Training loss value: 0.43655406913462824, Validation loss: 0.5854626294390787\n",
      "Epoch times: 132, Training loss value: 0.43532863295034446, Validation loss: 0.584306555784585\n",
      "Epoch times: 133, Training loss value: 0.43411479757621807, Validation loss: 0.5831625752986656\n",
      "Epoch times: 134, Training loss value: 0.43291220866376473, Validation loss: 0.5820296817749999\n",
      "Epoch times: 135, Training loss value: 0.4317205834804215, Validation loss: 0.5809068310392438\n",
      "Epoch times: 136, Training loss value: 0.4305400108201307, Validation loss: 0.5797948787854603\n",
      "Epoch times: 137, Training loss value: 0.4293701818691399, Validation loss: 0.5786934887435617\n",
      "Epoch times: 138, Training loss value: 0.42821102454116966, Validation loss: 0.5776032710647733\n",
      "Epoch times: 139, Training loss value: 0.4270621790043906, Validation loss: 0.5765230882628447\n",
      "Epoch times: 140, Training loss value: 0.4259235522439221, Validation loss: 0.5754525486025764\n",
      "Epoch times: 141, Training loss value: 0.4247951220449007, Validation loss: 0.5743921483348329\n",
      "Epoch times: 142, Training loss value: 0.4236767033542049, Validation loss: 0.5733419493062545\n",
      "Epoch times: 143, Training loss value: 0.4225680234558836, Validation loss: 0.57230125096575\n",
      "Epoch times: 144, Training loss value: 0.4214689821957119, Validation loss: 0.5712698286788429\n",
      "Epoch times: 145, Training loss value: 0.42037957833613127, Validation loss: 0.5702481153835509\n",
      "Epoch times: 146, Training loss value: 0.41929952518526686, Validation loss: 0.5692358197893169\n",
      "Epoch times: 147, Training loss value: 0.4182287759240137, Validation loss: 0.568232871540145\n",
      "Epoch times: 148, Training loss value: 0.4171671244873843, Validation loss: 0.5672385629912694\n"
     ]
    }
   ],
   "source": [
    "w_count, loss_tr_count, dev_loss_count = SGD(X_tr_count, Y_tr, \n",
    "                                             X_dev=X_dev_count, \n",
    "                                             Y_dev=Y_dev,\n",
    "                                             num_classes=3,\n",
    "                                             lr=0.0001, \n",
    "                                             alpha=0.001, \n",
    "                                             epochs=200)"
   ]
  },
  {
   "cell_type": "markdown",
   "metadata": {},
   "source": [
    "Plot training and validation process and explain if your model overfit, underfit or is about right:"
   ]
  },
  {
   "cell_type": "code",
   "execution_count": 53,
   "metadata": {
    "ExecuteTime": {
     "end_time": "2020-02-15T14:31:09.903453Z",
     "start_time": "2020-02-15T14:31:09.901360Z"
    }
   },
   "outputs": [
    {
     "data": {
      "image/png": "[encoded data removed]",
      "text/plain": [
       "<Figure size 432x288 with 1 Axes>"
      ]
     },
     "metadata": {
      "needs_background": "light"
     },
     "output_type": "display_data"
    }
   ],
   "source": [
    "# fill in your code...\n",
    "plt.plot(range(len(loss_tr_count)), loss_tr_count, c = 'blue', label='training loss')\n",
    "plt.plot(range(len(dev_loss_count)), dev_loss_count,c= 'red', label = 'validation loss', )\n",
    "plt.xlabel('Epoch times')\n",
    "plt.ylabel('Loss value')\n",
    "plt.legend()\n",
    "plt.title('training and validation loss of MLR with vector count')\n",
    "plt.show()"
   ]
  },
  {
   "cell_type": "markdown",
   "metadata": {},
   "source": [
    "Answer:this model is also overfit, because the training loss is lower than the validation loss."
   ]
  },
  {
   "cell_type": "markdown",
   "metadata": {},
   "source": [
    "Compute accuracy, precision, recall and F1-scores:"
   ]
  },
  {
   "cell_type": "code",
   "execution_count": 54,
   "metadata": {
    "ExecuteTime": {
     "end_time": "2020-02-15T14:32:12.606498Z",
     "start_time": "2020-02-15T14:32:12.604164Z"
    }
   },
   "outputs": [
    {
     "name": "stdout",
     "output_type": "stream",
     "text": [
      "Accuracy: 0.8522222222222222\n",
      "Precision: 0.8545592790763165\n",
      "Recall: 0.8522222222222222\n",
      "F1-Score: 0.8514022251643323\n"
     ]
    }
   ],
   "source": [
    "# fill in your code...\n",
    "\n",
    "preds_te = predict_class(X_test_count, w_count)\n",
    "print('Accuracy:', accuracy_score(Y_te,preds_te))\n",
    "print('Precision:', precision_score(Y_te,preds_te,average='macro'))\n",
    "print('Recall:', recall_score(Y_te,preds_te,average='macro'))\n",
    "print('F1-Score:', f1_score(Y_te,preds_te,average='macro'))"
   ]
  },
  {
   "cell_type": "markdown",
   "metadata": {},
   "source": [
    "Print the top-10 words for each class respectively."
   ]
  },
  {
   "cell_type": "code",
   "execution_count": 55,
   "metadata": {
    "ExecuteTime": {
     "end_time": "2020-02-15T14:32:26.224693Z",
     "start_time": "2020-02-15T14:32:26.221886Z"
    }
   },
   "outputs": [
    {
     "name": "stdout",
     "output_type": "stream",
     "text": [
      "1\n",
      "Top10  1 NAJAF, Iraq - Iraq's most powerful Shiite cleric returned home from Britain on Wednesday to help broker an end to nearly three weeks of fighting in Najaf and is calling on his followers to join him in a march to reclaim the holy city, his spokesmen and witnesses said.    Grand Ayatollah Ali Husseini al-Sistani return came as heavy fighting persisted in Najaf's Old City...\n",
      "Top10  2 BAGHDAD, Iraq - Rebel Shiite cleric Muqtada al-Sadr called for his followers across Iraq to end fighting against U.S. and Iraqi forces and is planning to join the political process in the coming days, an al-Sadr aide said Monday...\n",
      "Top10  3 NAJAF, Iraq - Militants loyal to radical Shiite cleric Muqtada al-Sadr kept their hold on a revered shrine, and clashes flared in Najaf on Saturday, raising fears that a resolution to the crisis in the holy city could collapse amid bickering between Shiite leaders.    The clashes between U.S...\n",
      "Top10  4 BAGHDAD, Iraq - Delegates at Iraq's National Conference called on radical Shiite cleric Muqtada al-Sadr to abandon his uprising against U.S. and Iraqi troops and pull his fighters out of a holy shrine in Najaf...\n",
      "Top10  5  NAJAF, Iraq (Reuters) - A mortar attack on a packed mosque  in the town of Kufa on Thursday killed at least 25 people as  Iraq's most influential Shi'ite cleric headed to the nearby  holy city of Najaf to try to end a bloody three-week uprising.\n",
      "Top10  6  NAJAF, Iraq (Reuters) - Rebel Shi'ite fighters appeared  still to be in control of the Imam Ali mosque in the Iraqi city  Najaf early on Saturday, but the whereabouts of their leader,  the fiery cleric Moqtada al-Sadr, were unknown.\n",
      "Top10  7 A top aide to Iraq #39;s rebel Shi #39;ite leader Muqtada al-Sadr Monday called on the Mehdi Army militia to cease fire across Iraq and said Sadr was preparing to announce plans for a major political program.\n",
      "Top10  8 NAJAF, Iraq - Explosions and gunfire rattled through the city of Najaf as U.S. troops in armored vehicles and tanks rolled back into the streets here Sunday, a day after the collapse of talks - and with them a temporary cease-fire - intended to end the fighting in this holy city...\n",
      "Top10  9 US and Iraqi forces battled militants in Najaf on Tuesday and Iraqi National Guardsmen advanced to within 200 yards of the holy city #39;s Imam Ali Shrine compound, where insurgents loyal to radical cleric Muqtada al-Sadr have been holed up for weeks.\n",
      "Top10  10  NAJAF, Iraq (Reuters) - Rebel Iraqi cleric Moqtada al-Sadr  on Friday ordered his men inside Najaf's Imam Ali mosque to lay  down their weapons and join thousands of Shi'ite pilgrims  outside the shrine.\n",
      "2\n",
      "Top10  1  ATHENS (Reuters) - The U.S. women's basketball team showed  their men how to win gold Saturday as around 70,000 spectators  flocked to the Olympic stadium for a hectic athletics program  on the penultimate night of the Athens Games.\n",
      "Top10  2  ATHENS (Reuters) - The U.S. men's basketball team was  beaten by Argentina Friday, denying it an Olympic gold medal  for the first time since 1992 when NBA players started  competing.\n",
      "Top10  3 ATHENS, Greece - Right now, the Americans aren't just a Dream Team - they're more like the Perfect Team. Lisa Fernandez pitched a three-hitter Sunday and Crystl Bustos drove in two runs as the Americans rolled to their eighth shutout in eight days, 5-0 over Australia, putting them into the gold medal game...\n",
      "Top10  4  ATHENS (Reuters) - Carly Patterson upstaged Russian diva  Svetlana Khorkina to become the first American in 20 years to  win the women's Olympic gymnastics all-round gold medal on  Thursday.\n",
      "Top10  5 ATHENS (Reuters) - Greek sprinters Costas Kenteris and Katerina Thanou have arrived at an Athens hotel for an International Olympic Committee (IOC) hearing into their missed doped tests, a saga that has shamed and angered the Olympic host ...\n",
      "Top10  6 Athens, Greece (Sports Network) - Wednesday night it was Paul Hamm #39;s turn to shine for the United States, as he won the gold medal in the men #39;s all-around competition. Will Thursday produce a sweep for the US at the Olympics? ...\n",
      "Top10  7  ATHENS (Reuters) - Aaron Peirsol won his second gold medal  at the Athens Olympics Thursday after winning an appeal against  his disqualification from the men's 200 meter backstroke.\n",
      "Top10  8  ATHENS (Reuters) - An exhausted Nicolas Massu reeled in  Mardy Fish in five tortuous sets on Sunday to win Chile their  second gold medal at an Olympic Games less than 24 hours after  helping them to their first.\n",
      "Top10  9 ATHENS, Aug. 19 (Xinhuanet) -- Chinese Hercules Liu Chunhong Thursday lifted three world records on her way to winning the women #39;s 69kg gold medal at the Athens Olympics, the fourth of the power sport competition for China. \n",
      "Top10  10  ATHENS (Reuters) - World 100 meters champion Torri Edwards  will miss the Athens Olympics after her appeal against a  two-year drugs ban was dismissed on Tuesday, a source told  Reuters.\n",
      "3\n",
      "Top10  1  NEW YORK (Reuters) - Retailer Kmart Holdings Corp. &lt;A HREF=\"http://www.investor.reuters.com/FullQuote.aspx?ticker=KMRT.O target=/stocks/quickinfo/fullquote\"&gt;KMRT.O&lt;/A&gt;  on Monday said it finalized a deal to sell 18 of its stores to  Home Depot Inc. &lt;A HREF=\"http://www.investor.reuters.com/FullQuote.aspx?ticker=HD.N target=/stocks/quickinfo/fullquote\"&gt;HD.N&lt;/A&gt; for \\$271 million.\n",
      "Top10  2  BRUSSELS/SAO PAULO (Reuters) - Shareholders gave their  blessing on Friday for Belgium's Interbrew &lt;A HREF=\"http://www.investor.reuters.com/FullQuote.aspx?ticker=INTB.BR target=/stocks/quickinfo/fullquote\"&gt;INTB.BR&lt;/A&gt; to buy  Brazil's AmBev &lt;A HREF=\"http://www.investor.reuters.com/FullQuote.aspx?ticker=AMBV4.SA target=/stocks/quickinfo/fullquote\"&gt;AMBV4.SA&lt;/A&gt;&lt;ABV.N&gt; in a \\$9.7 billion deal that  will create the world's largest brewer.\n",
      "Top10  3  &lt;A HREF=\"http://www.investor.reuters.com/FullQuote.aspx?ticker=RSE.N target=/stocks/quickinfo/fullquote\"&gt;RSE.N&lt;/A&gt; jumped before the bell after General Growth  Properties Inc. &lt;A HREF=\"http://www.investor.reuters.com/FullQuote.aspx?ticker=GGP.N target=/stocks/quickinfo/fullquote\"&gt;GGP.N&lt;/A&gt;, the No. 2 U.S. shopping mall owner, on  Friday said it would buy Rouse for \\$7.2 billion.\n",
      "Top10  4  NEW YORK (Reuters) - Staples Inc. &lt;A HREF=\"http://www.investor.reuters.com/FullQuote.aspx?ticker=SPLS.O target=/stocks/quickinfo/fullquote\"&gt;SPLS.O&lt;/A&gt;, the top U.S.  office products retailer, on Tuesday reported a 39 percent jump  in quarterly profit, raised its full-year forecast and said it  plans to enter the fast-growing Chinese market, sending its  shares higher.\n",
      "Top10  5  NEW YORK (Reuters) - BlackRock Inc. &lt;A HREF=\"http://www.investor.reuters.com/FullQuote.aspx?ticker=BLK.N target=/stocks/quickinfo/fullquote\"&gt;BLK.N&lt;/A&gt;, one of the  largest U.S. fixed income managers, on Thursday said it will  buy its far smaller competitor State Street Research    Management Co., marking the biggest takeover in the asset  management business this year.\n",
      "Top10  6  NEW YORK (Reuters) - Colgate-Palmolive Co. &lt;A HREF=\"http://www.investor.reuters.com/FullQuote.aspx?ticker=CL.N target=/stocks/quickinfo/fullquote\"&gt;CL.N&lt;/A&gt; will cut  about 4,400 jobs, or 12 percent of its work force, and close  nearly a third of its factories under a restructuring, the  consumer products company said on Tuesday.\n",
      "Top10  7  NEW YORK (Reuters) - U.S. blue chips were near the  unchanged mark on Monday as a disappointing sales forecast from  retailer Wal-Mart Stores Inc. &lt;A HREF=\"http://www.investor.reuters.com/FullQuote.aspx?ticker=WMT.N target=/stocks/quickinfo/fullquote\"&gt;WMT.N&lt;/A&gt; dampened sentiment,  offsetting the benefit of easing oil prices.\n",
      "Top10  8  NEW YORK (Reuters) - Verizon Communications Inc. &lt;A HREF=\"http://www.investor.reuters.com/FullQuote.aspx?ticker=VZ.N target=/stocks/quickinfo/fullquote\"&gt;VZ.N&lt;/A&gt; is  near an agreement to sell its Canadian telephone directory  business to private equity firm Bain Capital, the New York Post  said on Wednesday.\n",
      "Top10  9  NEW YORK (Reuters) - Hartford Financial Services Group Inc.  &lt;A HREF=\"http://www.investor.reuters.com/FullQuote.aspx?ticker=HIG.N target=/stocks/quickinfo/fullquote\"&gt;HIG.N&lt;/A&gt; on Tuesday became the latest insurer to issue a profit  warning tied to Hurricane Charley, the strongest storm to hit  Florida in a dozen years.\n",
      "Top10  10  NEW YORK (Reuters) - Intel Corp's &lt;A HREF=\"http://www.investor.reuters.com/FullQuote.aspx?ticker=INTC.O target=/stocks/quickinfo/fullquote\"&gt;INTC.O&lt;/A&gt; sharp cut in its  revenue outlook dragged down shares of personal computer makers  on Friday, on fears that the chipmaker's problems could signal  weak PC markets, analysts said.\n"
     ]
    }
   ],
   "source": [
    "# fill in your code...\n",
    "\n",
    "classes = ['1', '2', '3']\n",
    "preds_test_count = predict_proba(X_test_count, w_count)\n",
    "\n",
    "for i, j in enumerate(classes):\n",
    "    print(j)\n",
    "    loc = np.argsort(preds_test_count[:,i])\n",
    "    for i in range(10):\n",
    "        print('Top10 ',i+1, X_test_raw[loc[-1-i]])"
   ]
  },
  {
   "cell_type": "markdown",
   "metadata": {},
   "source": [
    "### Discuss how did you choose model hyperparameters (e.g. learning rate and regularisation strength)? What is the relation between training epochs and learning rate? How the regularisation strength affects performance?"
   ]
  },
  {
   "cell_type": "markdown",
   "metadata": {
    "ExecuteTime": {
     "end_time": "2020-02-15T14:16:19.856538Z",
     "start_time": "2020-02-15T14:16:19.852547Z"
    }
   },
   "source": [
    "Hyperparameter is usually selected very carefully, such as the learning rate, if the learning rate is too large, then the number of epochs will be reduced, which will lead to underfit, and if the learning rate is too small, then the model running time will increase significantly, the number of times Will increase, and easily lead to overfitting. And regularisation strength can prevent overfitting"
   ]
  },
  {
   "cell_type": "markdown",
   "metadata": {},
   "source": [
    "### Now evaluate BOW-tfidf..."
   ]
  },
  {
   "cell_type": "code",
   "execution_count": 56,
   "metadata": {},
   "outputs": [
    {
     "name": "stdout",
     "output_type": "stream",
     "text": [
      "Epoch times: 0, Training loss value: 1.4999092063034818, Validation loss: 1.5434016413390403\n",
      "Epoch times: 1, Training loss value: 1.407915390305509, Validation loss: 1.4842549825882112\n",
      "Epoch times: 2, Training loss value: 1.3289855538609154, Validation loss: 1.430841683674241\n",
      "Epoch times: 3, Training loss value: 1.2597672788385388, Validation loss: 1.3821813732710295\n",
      "Epoch times: 4, Training loss value: 1.1983043592892662, Validation loss: 1.3375757170599305\n",
      "Epoch times: 5, Training loss value: 1.1433543600325324, Validation loss: 1.2965669466810905\n",
      "Epoch times: 6, Training loss value: 1.0939411745771432, Validation loss: 1.258731305284789\n",
      "Epoch times: 7, Training loss value: 1.0493390764071575, Validation loss: 1.2237643777197835\n",
      "Epoch times: 8, Training loss value: 1.0088688292211838, Validation loss: 1.191335719087575\n",
      "Epoch times: 9, Training loss value: 0.9720292648799856, Validation loss: 1.1612182279390817\n",
      "Epoch times: 10, Training loss value: 0.9383503236564024, Validation loss: 1.1331544270100045\n",
      "Epoch times: 11, Training loss value: 0.9074732981303807, Validation loss: 1.1069795908512006\n",
      "Epoch times: 12, Training loss value: 0.8790564905856832, Validation loss: 1.082509193253436\n",
      "Epoch times: 13, Training loss value: 0.8528128878454633, Validation loss: 1.0595674001606936\n",
      "Epoch times: 14, Training loss value: 0.8285040067306507, Validation loss: 1.0380260530673235\n",
      "Epoch times: 15, Training loss value: 0.8059266776788783, Validation loss: 1.0177663280577662\n",
      "Epoch times: 16, Training loss value: 0.7848940187069754, Validation loss: 0.998668750386189\n",
      "Epoch times: 17, Training loss value: 0.7652560359162658, Validation loss: 0.9806555341984147\n",
      "Epoch times: 18, Training loss value: 0.7468662736760545, Validation loss: 0.9636160536394309\n",
      "Epoch times: 19, Training loss value: 0.7296046087726087, Validation loss: 0.9474741629791834\n",
      "Epoch times: 20, Training loss value: 0.7133764031163261, Validation loss: 0.9321722928767867\n",
      "Epoch times: 21, Training loss value: 0.6980775317379165, Validation loss: 0.9176309331597947\n",
      "Epoch times: 22, Training loss value: 0.6836317005366217, Validation loss: 0.9038028105385936\n",
      "Epoch times: 23, Training loss value: 0.669968716110546, Validation loss: 0.8906382889157648\n",
      "Epoch times: 24, Training loss value: 0.6570167088241397, Validation loss: 0.878081093967755\n",
      "Epoch times: 25, Training loss value: 0.6447242080192463, Validation loss: 0.8660991385745723\n",
      "Epoch times: 26, Training loss value: 0.6330348924071106, Validation loss: 0.8546459056364412\n",
      "Epoch times: 27, Training loss value: 0.6219044247147789, Validation loss: 0.8436874197876295\n",
      "Epoch times: 28, Training loss value: 0.6112913367807031, Validation loss: 0.8331897642192765\n",
      "Epoch times: 29, Training loss value: 0.6011586269758538, Validation loss: 0.8231266595430522\n",
      "Epoch times: 30, Training loss value: 0.5914698761752278, Validation loss: 0.8134691194865518\n",
      "Epoch times: 31, Training loss value: 0.5821955297953864, Validation loss: 0.8041964932567661\n",
      "Epoch times: 32, Training loss value: 0.5733090270271571, Validation loss: 0.7952783315324488\n",
      "Epoch times: 33, Training loss value: 0.5647810434572418, Validation loss: 0.7866917858608486\n",
      "Epoch times: 34, Training loss value: 0.5565921494177235, Validation loss: 0.7784281191899357\n",
      "Epoch times: 35, Training loss value: 0.5487192324732721, Validation loss: 0.7704598590804258\n",
      "Epoch times: 36, Training loss value: 0.5411440809941623, Validation loss: 0.7627813241773962\n",
      "Epoch times: 37, Training loss value: 0.5338478303977303, Validation loss: 0.7553645205495352\n",
      "Epoch times: 38, Training loss value: 0.5268142492662384, Validation loss: 0.7482017717724544\n",
      "Epoch times: 39, Training loss value: 0.5200304208015663, Validation loss: 0.7412850123335396\n",
      "Epoch times: 40, Training loss value: 0.513479527845028, Validation loss: 0.7345896257927956\n",
      "Epoch times: 41, Training loss value: 0.5071487008870676, Validation loss: 0.7281120286060918\n",
      "Epoch times: 42, Training loss value: 0.5010278966391652, Validation loss: 0.7218407703012327\n",
      "Epoch times: 43, Training loss value: 0.49510437944989166, Validation loss: 0.7157623219114377\n",
      "Epoch times: 44, Training loss value: 0.4893684918915168, Validation loss: 0.7098682896862898\n",
      "Epoch times: 45, Training loss value: 0.4838103851130644, Validation loss: 0.704153160684618\n",
      "Epoch times: 46, Training loss value: 0.4784213152414684, Validation loss: 0.6986047742118525\n",
      "Epoch times: 47, Training loss value: 0.47319251579345245, Validation loss: 0.6932191774819114\n",
      "Epoch times: 48, Training loss value: 0.4681177742951392, Validation loss: 0.6879892919446877\n",
      "Epoch times: 49, Training loss value: 0.4631888004810408, Validation loss: 0.6829025245960441\n",
      "Epoch times: 50, Training loss value: 0.45839861334341514, Validation loss: 0.6779573618139607\n",
      "Epoch times: 51, Training loss value: 0.4537414116838109, Validation loss: 0.673148369372476\n",
      "Epoch times: 52, Training loss value: 0.4492108198987966, Validation loss: 0.6684679468597602\n",
      "Epoch times: 53, Training loss value: 0.44480150380753924, Validation loss: 0.6639115431060539\n",
      "Epoch times: 54, Training loss value: 0.44050806118609, Validation loss: 0.6594720086350454\n",
      "Epoch times: 55, Training loss value: 0.4363254135814719, Validation loss: 0.655145050696627\n",
      "Epoch times: 56, Training loss value: 0.43224896518705497, Validation loss: 0.6509278328330358\n",
      "Epoch times: 57, Training loss value: 0.4282744582128654, Validation loss: 0.6468136924567862\n",
      "Epoch times: 58, Training loss value: 0.42439767486346947, Validation loss: 0.6428020776808832\n",
      "Epoch times: 59, Training loss value: 0.4206145194416274, Validation loss: 0.6388878551860468\n",
      "Epoch times: 60, Training loss value: 0.4169217330970443, Validation loss: 0.6350670124909213\n",
      "Epoch times: 61, Training loss value: 0.41331583492088547, Validation loss: 0.6313358085901428\n",
      "Epoch times: 62, Training loss value: 0.40979338625416273, Validation loss: 0.6276913811700484\n",
      "Epoch times: 63, Training loss value: 0.4063509896324138, Validation loss: 0.624129088609777\n",
      "Epoch times: 64, Training loss value: 0.4029853463265013, Validation loss: 0.6206452510964039\n",
      "Epoch times: 65, Training loss value: 0.39969457019857163, Validation loss: 0.6172425456175055\n",
      "Epoch times: 66, Training loss value: 0.3964752956040041, Validation loss: 0.6139143613523325\n",
      "Epoch times: 67, Training loss value: 0.39332534589053414, Validation loss: 0.6106581599158182\n",
      "Epoch times: 68, Training loss value: 0.3902420160345483, Validation loss: 0.607472619417413\n",
      "Epoch times: 69, Training loss value: 0.3872232158082069, Validation loss: 0.6043548564569061\n",
      "Epoch times: 70, Training loss value: 0.38426664799384297, Validation loss: 0.6013011255928897\n",
      "Epoch times: 71, Training loss value: 0.38137051016596785, Validation loss: 0.5983097380256294\n",
      "Epoch times: 72, Training loss value: 0.378532303352679, Validation loss: 0.5953820424484014\n",
      "Epoch times: 73, Training loss value: 0.37575035554206, Validation loss: 0.5925105546713272\n",
      "Epoch times: 74, Training loss value: 0.37302260486595235, Validation loss: 0.5896995093658829\n",
      "Epoch times: 75, Training loss value: 0.37034779435038523, Validation loss: 0.5869416521296726\n",
      "Epoch times: 76, Training loss value: 0.3677235397144682, Validation loss: 0.5842377642869655\n",
      "Epoch times: 77, Training loss value: 0.36514888333123513, Validation loss: 0.5815858089335797\n",
      "Epoch times: 78, Training loss value: 0.3626220911911378, Validation loss: 0.57898367061939\n",
      "Epoch times: 79, Training loss value: 0.3601416901954564, Validation loss: 0.5764337461943364\n",
      "Epoch times: 80, Training loss value: 0.3577063049163503, Validation loss: 0.5739310767374257\n",
      "Epoch times: 81, Training loss value: 0.35531481598880466, Validation loss: 0.5714732979627316\n",
      "Epoch times: 82, Training loss value: 0.3529656583573922, Validation loss: 0.56906040347419\n",
      "Epoch times: 83, Training loss value: 0.3506577368776981, Validation loss: 0.5666928120859034\n",
      "Epoch times: 84, Training loss value: 0.34839001316772134, Validation loss: 0.564370105149206\n",
      "Epoch times: 85, Training loss value: 0.3461609246224527, Validation loss: 0.562086778780806\n",
      "Epoch times: 86, Training loss value: 0.3439696681515665, Validation loss: 0.559841926602673\n",
      "Epoch times: 87, Training loss value: 0.3418152383826696, Validation loss: 0.5576344759414027\n"
     ]
    },
    {
     "name": "stdout",
     "output_type": "stream",
     "text": [
      "Epoch times: 88, Training loss value: 0.3396965147924415, Validation loss: 0.5554665732532008\n",
      "Epoch times: 89, Training loss value: 0.3376125901637595, Validation loss: 0.5533376994364424\n",
      "Epoch times: 90, Training loss value: 0.3355624768402945, Validation loss: 0.5512465163954902\n",
      "Epoch times: 91, Training loss value: 0.3335453131132228, Validation loss: 0.5491869215200512\n",
      "Epoch times: 92, Training loss value: 0.3315601484571504, Validation loss: 0.5471598188499794\n",
      "Epoch times: 93, Training loss value: 0.3296062344783096, Validation loss: 0.5451674521043234\n",
      "Epoch times: 94, Training loss value: 0.32768282422689177, Validation loss: 0.5432083708479735\n",
      "Epoch times: 95, Training loss value: 0.32578891062364335, Validation loss: 0.5412809290376607\n",
      "Epoch times: 96, Training loss value: 0.3239239401434832, Validation loss: 0.5393832755680152\n",
      "Epoch times: 97, Training loss value: 0.3220872499115826, Validation loss: 0.5375149015505781\n",
      "Epoch times: 98, Training loss value: 0.3202779922655868, Validation loss: 0.5356773054962899\n",
      "Epoch times: 99, Training loss value: 0.31849566760101855, Validation loss: 0.533866339190757\n",
      "Epoch times: 100, Training loss value: 0.31673957656168567, Validation loss: 0.5320864940239869\n",
      "Epoch times: 101, Training loss value: 0.3150089413758499, Validation loss: 0.5303315824385496\n",
      "Epoch times: 102, Training loss value: 0.3133031870353643, Validation loss: 0.5286005711545474\n",
      "Epoch times: 103, Training loss value: 0.31162176872888603, Validation loss: 0.5268964317985627\n",
      "Epoch times: 104, Training loss value: 0.3099643269332019, Validation loss: 0.5252215472199978\n",
      "Epoch times: 105, Training loss value: 0.3083299983369715, Validation loss: 0.5235686522139945\n",
      "Epoch times: 106, Training loss value: 0.30671841101746733, Validation loss: 0.5219412946650908\n",
      "Epoch times: 107, Training loss value: 0.3051290103407681, Validation loss: 0.5203356295219473\n",
      "Epoch times: 108, Training loss value: 0.30356135481395224, Validation loss: 0.5187534032495783\n",
      "Epoch times: 109, Training loss value: 0.30201503934333784, Validation loss: 0.5171940403106033\n",
      "Epoch times: 110, Training loss value: 0.3004894397096732, Validation loss: 0.5156591052286972\n",
      "Epoch times: 111, Training loss value: 0.29898415729041355, Validation loss: 0.5141425929779332\n",
      "Epoch times: 112, Training loss value: 0.29749861619337004, Validation loss: 0.5126478486963325\n",
      "Epoch times: 113, Training loss value: 0.29603258083086015, Validation loss: 0.51117320420769\n",
      "Epoch times: 114, Training loss value: 0.29458552069726957, Validation loss: 0.5097193658698697\n",
      "Epoch times: 115, Training loss value: 0.29315715927318897, Validation loss: 0.5082844209641804\n",
      "Epoch times: 116, Training loss value: 0.2917470338483509, Validation loss: 0.5068698680273355\n",
      "Epoch times: 117, Training loss value: 0.29035470127199664, Validation loss: 0.5054752128964959\n",
      "Epoch times: 118, Training loss value: 0.288979975751403, Validation loss: 0.5040979948147479\n",
      "Epoch times: 119, Training loss value: 0.2876222881882916, Validation loss: 0.5027400563754367\n",
      "Epoch times: 120, Training loss value: 0.2862814187830453, Validation loss: 0.5013972438096916\n",
      "Epoch times: 121, Training loss value: 0.28495693373341796, Validation loss: 0.500073890321377\n",
      "Epoch times: 122, Training loss value: 0.28364859501965634, Validation loss: 0.4987690153595518\n",
      "Epoch times: 123, Training loss value: 0.2823560288422135, Validation loss: 0.49748126068360576\n",
      "Epoch times: 124, Training loss value: 0.2810790391513969, Validation loss: 0.49620878012985836\n",
      "Epoch times: 125, Training loss value: 0.27981726486811725, Validation loss: 0.49495346861182044\n",
      "Epoch times: 126, Training loss value: 0.27857041569308977, Validation loss: 0.4937133406552391\n",
      "Epoch times: 127, Training loss value: 0.27733816655499244, Validation loss: 0.4924889156846105\n",
      "Epoch times: 128, Training loss value: 0.27612023396585406, Validation loss: 0.4912784986228033\n",
      "Epoch times: 129, Training loss value: 0.2749163782641128, Validation loss: 0.4900814986267756\n",
      "Epoch times: 130, Training loss value: 0.2737262816316639, Validation loss: 0.4889006468977413\n",
      "Epoch times: 131, Training loss value: 0.2725497943480758, Validation loss: 0.4877354809348367\n",
      "Epoch times: 132, Training loss value: 0.27138650543611165, Validation loss: 0.48658334738366615\n",
      "Epoch times: 133, Training loss value: 0.27023646062460016, Validation loss: 0.4854455622281822\n",
      "Epoch times: 134, Training loss value: 0.26909915113322863, Validation loss: 0.48432130556677316\n",
      "Epoch times: 135, Training loss value: 0.267974466149955, Validation loss: 0.48320881034975494\n",
      "Epoch times: 136, Training loss value: 0.2668621604138356, Validation loss: 0.48210852430290013\n",
      "Epoch times: 137, Training loss value: 0.26576202279252914, Validation loss: 0.48102366358452053\n",
      "Epoch times: 138, Training loss value: 0.26467380062853973, Validation loss: 0.479948342771554\n",
      "Epoch times: 139, Training loss value: 0.26359732979748546, Validation loss: 0.4788899464907701\n",
      "Epoch times: 140, Training loss value: 0.26253238063772294, Validation loss: 0.4778428456779565\n",
      "Epoch times: 141, Training loss value: 0.2614787666350552, Validation loss: 0.47680646544245525\n",
      "Epoch times: 142, Training loss value: 0.2604362597008279, Validation loss: 0.47578042708051027\n",
      "Epoch times: 143, Training loss value: 0.2594046439960668, Validation loss: 0.4747670893465884\n",
      "Epoch times: 144, Training loss value: 0.25838386894295673, Validation loss: 0.4737637328486658\n",
      "Epoch times: 145, Training loss value: 0.2573736969684973, Validation loss: 0.472773305880434\n"
     ]
    }
   ],
   "source": [
    "w_tfidf, trl, devl = SGD(X_tr_tfidf, Y_tr, \n",
    "                         X_dev=X_dev_tfidf, \n",
    "                         Y_dev=Y_dev, \n",
    "                         lr=0.0001, \n",
    "                         alpha=0.001, \n",
    "                         epochs=200)"
   ]
  },
  {
   "cell_type": "code",
   "execution_count": 57,
   "metadata": {},
   "outputs": [
    {
     "data": {
      "image/png": "[encoded data removed]",
      "text/plain": [
       "<Figure size 432x288 with 1 Axes>"
      ]
     },
     "metadata": {
      "needs_background": "light"
     },
     "output_type": "display_data"
    }
   ],
   "source": [
    "plt.plot(range(len(trl)), trl, c = 'blue', label='training loss')\n",
    "plt.plot(range(len(devl)), devl,c = 'red', label = 'validation loss' )\n",
    "plt.xlabel('Epoch times')\n",
    "plt.ylabel('Loss value')\n",
    "plt.legend()\n",
    "plt.title('training and validation loss of MLR with tfitf')\n",
    "plt.show()"
   ]
  },
  {
   "cell_type": "markdown",
   "metadata": {},
   "source": [
    "this model is also overfit, because the training loss is lower than the validation loss"
   ]
  },
  {
   "cell_type": "code",
   "execution_count": 58,
   "metadata": {},
   "outputs": [
    {
     "name": "stdout",
     "output_type": "stream",
     "text": [
      "Accuracy: 0.88\n",
      "Precision: 0.881547680555811\n",
      "Recall: 0.8799999999999999\n",
      "F1-Score: 0.8793734034496704\n"
     ]
    }
   ],
   "source": [
    "preds_te = predict_class(X_test_tfidf, w_tfidf)\n",
    "print('Accuracy:', accuracy_score(Y_te,preds_te))\n",
    "print('Precision:', precision_score(Y_te,preds_te,average='macro'))\n",
    "print('Recall:', recall_score(Y_te,preds_te,average='macro'))\n",
    "print('F1-Score:', f1_score(Y_te,preds_te,average='macro'))"
   ]
  },
  {
   "cell_type": "code",
   "execution_count": 59,
   "metadata": {},
   "outputs": [
    {
     "name": "stdout",
     "output_type": "stream",
     "text": [
      "1\n",
      "Top10  1 NAJAF, Iraq - Iraq's most powerful Shiite cleric returned home from Britain on Wednesday to help broker an end to nearly three weeks of fighting in Najaf and is calling on his followers to join him in a march to reclaim the holy city, his spokesmen and witnesses said.    Grand Ayatollah Ali Husseini al-Sistani return came as heavy fighting persisted in Najaf's Old City...\n",
      "Top10  2 BAGHDAD, Iraq - Rebel Shiite cleric Muqtada al-Sadr called for his followers across Iraq to end fighting against U.S. and Iraqi forces and is planning to join the political process in the coming days, an al-Sadr aide said Monday...\n",
      "Top10  3 NAJAF, Iraq - Militants loyal to radical Shiite cleric Muqtada al-Sadr kept their hold on a revered shrine, and clashes flared in Najaf on Saturday, raising fears that a resolution to the crisis in the holy city could collapse amid bickering between Shiite leaders.    The clashes between U.S...\n",
      "Top10  4 BAGHDAD, Iraq - Delegates at Iraq's National Conference called on radical Shiite cleric Muqtada al-Sadr to abandon his uprising against U.S. and Iraqi troops and pull his fighters out of a holy shrine in Najaf...\n",
      "Top10  5  NAJAF, Iraq (Reuters) - A mortar attack on a packed mosque  in the town of Kufa on Thursday killed at least 25 people as  Iraq's most influential Shi'ite cleric headed to the nearby  holy city of Najaf to try to end a bloody three-week uprising.\n",
      "Top10  6 AFP - Democratic White House hopeful Senator John Kerry warned that President George W. Bush's plan to withdraw 70,000 troops from Europe and Asia would hinder the war on terrorism and embolden North Korea.\n",
      "Top10  7 US forces and radical Shiite cleric Muqtada al-Sadr #39;s militia battled Saturday in Baghdad even as the truce that ended the bloody fighting between US-Iraqi troops and the militia forces in Najaf held for a second day.\n",
      "Top10  8  NAJAF, Iraq (Reuters) - Rebel Shi'ite fighters appeared  still to be in control of the Imam Ali mosque in the Iraqi city  Najaf early on Saturday, but the whereabouts of their leader,  the fiery cleric Moqtada al-Sadr, were unknown.\n",
      "Top10  9 US and Iraqi forces battled militants in Najaf on Tuesday and Iraqi National Guardsmen advanced to within 200 yards of the holy city #39;s Imam Ali Shrine compound, where insurgents loyal to radical cleric Muqtada al-Sadr have been holed up for weeks.\n",
      "Top10  10 AFP - Georgian and South Ossetian forces overnight accused each other of trying to storm the other side's positions in Georgia's breakaway region of South Ossetia, as four Georgian soldiers were reported to be wounded.\n",
      "2\n",
      "Top10  1  ATHENS (Reuters) - The U.S. women's basketball team showed  their men how to win gold Saturday as around 70,000 spectators  flocked to the Olympic stadium for a hectic athletics program  on the penultimate night of the Athens Games.\n",
      "Top10  2 Athens, Greece (Sports Network) - Wednesday night it was Paul Hamm #39;s turn to shine for the United States, as he won the gold medal in the men #39;s all-around competition. Will Thursday produce a sweep for the US at the Olympics? ...\n",
      "Top10  3  ATHENS (Reuters) - The U.S. men's basketball team was  beaten by Argentina Friday, denying it an Olympic gold medal  for the first time since 1992 when NBA players started  competing.\n",
      "Top10  4 Andruw Jones hit a two-run homer off Trevor Hoffman in the ninth inning and the Atlanta Braves threw out the potential tying run at the plate for the final out Wednesday night, preserving a 6-5 come-from-behind win over the San Diego Padres. \n",
      "Top10  5  ATHENS (Reuters) - World 100 meters champion Torri Edwards  will miss the Athens Olympics after her appeal against a  two-year drugs ban was dismissed on Tuesday, a source told  Reuters.\n",
      "Top10  6 Heather O #39;Reilly, minutes after missing a wide open net, scored in the ninth minute of overtime Monday to give the United States a 2-1 victory over World Cup champion Germany and a place in Thursday #39;s gold-medal game.\n",
      "Top10  7 ATHENS, Greece - Right now, the Americans aren't just a Dream Team - they're more like the Perfect Team. Lisa Fernandez pitched a three-hitter Sunday and Crystl Bustos drove in two runs as the Americans rolled to their eighth shutout in eight days, 5-0 over Australia, putting them into the gold medal game...\n",
      "Top10  8 -- The United States men #39;s basketball team capped off a big day for the USA by fighting off Greece for a vital win, 77-71.  quot;They played with heart, quot; said Coach Larry Brown.  quot;That #39;s all you can ask. quot; ...\n",
      "Top10  9 AP - Manny Ramirez and David Ortiz homered on consecutive pitches to start the eighth inning Sunday night and the streaking Boston Red Sox beat the Chicago White Sox 6-5 for their sixth straight win.\n",
      "Top10  10  ATHENS (Reuters) - Hungarian Olympic discus champion Robert  Fazekas will lose his gold medal and be expelled from the Games  after breaking doping rules, the International Olympic  Committee (IOC) said Tuesday.\n",
      "3\n",
      "Top10  1  NEW YORK (Reuters) - Retailer Kmart Holdings Corp. &lt;A HREF=\"http://www.investor.reuters.com/FullQuote.aspx?ticker=KMRT.O target=/stocks/quickinfo/fullquote\"&gt;KMRT.O&lt;/A&gt;  on Monday said it finalized a deal to sell 18 of its stores to  Home Depot Inc. &lt;A HREF=\"http://www.investor.reuters.com/FullQuote.aspx?ticker=HD.N target=/stocks/quickinfo/fullquote\"&gt;HD.N&lt;/A&gt; for \\$271 million.\n",
      "Top10  2  BRUSSELS/SAO PAULO (Reuters) - Shareholders gave their  blessing on Friday for Belgium's Interbrew &lt;A HREF=\"http://www.investor.reuters.com/FullQuote.aspx?ticker=INTB.BR target=/stocks/quickinfo/fullquote\"&gt;INTB.BR&lt;/A&gt; to buy  Brazil's AmBev &lt;A HREF=\"http://www.investor.reuters.com/FullQuote.aspx?ticker=AMBV4.SA target=/stocks/quickinfo/fullquote\"&gt;AMBV4.SA&lt;/A&gt;&lt;ABV.N&gt; in a \\$9.7 billion deal that  will create the world's largest brewer.\n",
      "Top10  3  &lt;A HREF=\"http://www.investor.reuters.com/FullQuote.aspx?ticker=RSE.N target=/stocks/quickinfo/fullquote\"&gt;RSE.N&lt;/A&gt; jumped before the bell after General Growth  Properties Inc. &lt;A HREF=\"http://www.investor.reuters.com/FullQuote.aspx?ticker=GGP.N target=/stocks/quickinfo/fullquote\"&gt;GGP.N&lt;/A&gt;, the No. 2 U.S. shopping mall owner, on  Friday said it would buy Rouse for \\$7.2 billion.\n",
      "Top10  4  NEW YORK (Reuters) - BlackRock Inc. &lt;A HREF=\"http://www.investor.reuters.com/FullQuote.aspx?ticker=BLK.N target=/stocks/quickinfo/fullquote\"&gt;BLK.N&lt;/A&gt;, one of the  largest U.S. fixed income managers, on Thursday said it will  buy its far smaller competitor State Street Research    Management Co., marking the biggest takeover in the asset  management business this year.\n",
      "Top10  5  NEW YORK (Reuters) - Staples Inc. &lt;A HREF=\"http://www.investor.reuters.com/FullQuote.aspx?ticker=SPLS.O target=/stocks/quickinfo/fullquote\"&gt;SPLS.O&lt;/A&gt;, the top U.S.  office products retailer, on Tuesday reported a 39 percent jump  in quarterly profit, raised its full-year forecast and said it  plans to enter the fast-growing Chinese market, sending its  shares higher.\n",
      "Top10  6  NEW YORK (Reuters) - Colgate-Palmolive Co. &lt;A HREF=\"http://www.investor.reuters.com/FullQuote.aspx?ticker=CL.N target=/stocks/quickinfo/fullquote\"&gt;CL.N&lt;/A&gt; will cut  about 4,400 jobs, or 12 percent of its work force, and close  nearly a third of its factories under a restructuring, the  consumer products company said on Tuesday.\n",
      "Top10  7  CHICAGO (Reuters) - Medtronic Inc. &lt;A HREF=\"http://www.investor.reuters.com/FullQuote.aspx?ticker=MDT.N target=/stocks/quickinfo/fullquote\"&gt;MDT.N&lt;/A&gt; on Wednesday  said its quarterly earnings rose amid brisk demand for devices  that manage irregular heart beats and products used to treat  the spine.\n",
      "Top10  8  CHICAGO (Reuters) - Medtronic Inc. &lt;A HREF=\"http://www.investor.reuters.com/FullQuote.aspx?ticker=MDT.N target=/stocks/quickinfo/fullquote\"&gt;MDT.N&lt;/A&gt; on Wednesday  said its quarterly earnings rose on brisk demand for devices  that manage irregular heart beats and products used to treat  the spine.\n",
      "Top10  9  NEW YORK (Reuters) - Verizon Communications Inc. &lt;A HREF=\"http://www.investor.reuters.com/FullQuote.aspx?ticker=VZ.N target=/stocks/quickinfo/fullquote\"&gt;VZ.N&lt;/A&gt; is  near an agreement to sell its Canadian telephone directory  business to private equity firm Bain Capital, the New York Post  said on Wednesday.\n",
      "Top10  10 NEW YORK, August 26 (New Ratings) - BlackRock Inc (BLK.NYS), a leading US-based fixed-income asset management company, has reportedly agreed to buy State Street Research  amp; Management Company, a unit of MetLife Inc, for \\$375 million in a cash and stock \n"
     ]
    }
   ],
   "source": [
    "classes = ['1', '2', '3']\n",
    "pred_test_tfidf = predict_proba(X_test_tfidf, w_tfidf)\n",
    "\n",
    "for i, j in enumerate(classes):\n",
    "    print(j)\n",
    "    loc = np.argsort(pred_test_tfidf[:,i])\n",
    "    for i in range(10):\n",
    "        print('Top10 ',i+1, X_test_raw[loc[-1-i]])"
   ]
  },
  {
   "cell_type": "markdown",
   "metadata": {
    "ExecuteTime": {
     "end_time": "2020-02-15T14:16:42.567569Z",
     "start_time": "2020-02-15T14:16:42.562560Z"
    }
   },
   "source": [
    "## Full Results\n",
    "\n",
    "Add here your results:\n",
    "\n",
    "| LR | Precision  | Recall  | F1-Score  |\n",
    "|:-:|:-:|:-:|:-:|\n",
    "| BOW-count  |0.8545592790763165   |0.8522222222222222   |0.8514022251643323   |\n",
    "| BOW-tfidf  |0.881547680555811   |0.8799999999999999   |0.8793734034496704   |\n"
   ]
  }
 ],
 "metadata": {
  "kernelspec": {
   "display_name": "Python 3",
   "language": "python",
   "name": "python3"
  },
  "language_info": {
   "codemirror_mode": {
    "name": "ipython",
    "version": 3
   },
   "file_extension": ".py",
   "mimetype": "text/x-python",
   "name": "python",
   "nbconvert_exporter": "python",
   "pygments_lexer": "ipython3",
   "version": "3.7.4"
  }
 },
 "nbformat": 4,
 "nbformat_minor": 2
}
