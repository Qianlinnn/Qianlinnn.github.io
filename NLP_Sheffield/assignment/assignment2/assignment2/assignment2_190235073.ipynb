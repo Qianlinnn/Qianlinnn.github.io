{
 "cells": [
  {
   "cell_type": "markdown",
   "metadata": {
    "colab_type": "text",
    "id": "3rnVhED1YeDm"
   },
   "source": [
    "\n",
    "\n",
    "The goal of this assignment is to develop a Feedforward network for text classification. \n",
    "\n",
    "\n",
    "\n",
    "For that purpose, you will implement:\n",
    "\n",
    "- Text processing methods for transforming raw text data into input vectors for your network  (**1 mark**)\n",
    "- A Feedforward network consisting of:\n",
    "    - **One-hot** input layer mapping words into an **Embedding weight matrix** (**1 mark**)\n",
    "    - **One hidden layer** computing the mean embedding vector of all words in input followed by a **ReLU activation function** (**1 mark**)\n",
    "    - **Output layer** with a **softmax** activation. (**1 mark**)\n",
    "- The Stochastic Gradient Descent (SGD) algorithm with **back-propagation** to learn the weights of your Neural network. Your algorithm should:\n",
    "    - Use (and minimise) the **Categorical Cross-entropy loss** function (**1 mark**)\n",
    "    - Perform a **Forward pass** to compute intermediate outputs (**4 marks**)\n",
    "    - Perform a **Backward pass** to compute gradients and update all sets of weights (**4 marks**)\n",
    "    - Implement and use **Dropout** after each hidden layer for regularisation (**2 marks**)\n",
    "- Discuss how did you choose hyperparameters? You can tune the learning rate (hint: choose small values), embedding size {e.g. 50, 300, 500}, the dropout rate {e.g. 0.2, 0.5} and the learning rate. Please use tables or graphs to show training and validation performance for each hyperparam combination  (**2 marks**). \n",
    "- After training the model, plot the learning process (i.e. training and validation loss in each epoch) using a line plot and report accuracy.\n",
    "- Re-train your network by using pre-trained embeddings ([GloVe](https://nlp.stanford.edu/projects/glove/)) trained on large corpora. Instead of randomly initialising the embedding weights matrix, you should initialise it with the pre-trained weights. During training, you should not update them (i.e. weight freezing) and backprop should stop before computing gradients for updating embedding weights. Report results by performing hyperparameter tuning and plotting the learning process. Do you get better performance? (**3 marks**).\n",
    "\n",
    "- **BONUS:** Extend you Feedforward network by adding more hidden layers (e.g. one more). How does it affect the performance? Note: You need to repeat hyperparameter tuning, but the number of combinations grows exponentially. Therefore, you need to choose a subset of all possible combinations (**+2 extra marks**)\n",
    "\n",
    "\n",
    "\n",
    "### Data \n",
    "\n",
    "The data you will use for Task 2 is a subset of the [AG News Corpus](http://groups.di.unipi.it/~gulli/AG_corpus_of_news_articles.html) and you can find it in the `./data_topic` folder in CSV format:\n",
    "\n",
    "- `data_topic/train.csv`: contains 2,400 news articles, 800 for each class to be used for training.\n",
    "- `data_topic/dev.csv`: contains 150 news articles, 50 for each class to be used for hyperparameter selection and monitoring the training process.\n",
    "- `data_topic/test.csv`: contains 900 news articles, 300 for each class to be used for testing.\n",
    "\n",
    "### Pre-trained Embeddings\n",
    "\n",
    "You can download pre-trained GloVe embeddings trained on Common Crawl (840B tokens, 2.2M vocab, cased, 300d vectors, 2.03 GB download) from [here](http://nlp.stanford.edu/data/glove.840B.300d.zip). No need to unzip, the file is large.\n",
    "\n",
    "### Save Memory\n",
    "\n",
    "To save RAM, when you finish each experiment you can delete the weights of your network using `del W` followed by Python's garbage collector `gc.collect()`\n",
    "\n",
    "\n",
    "\n",
    "\n",
    "### Submission Instructions\n",
    "\n",
    "You should submit a Jupyter Notebook file (assignment2.ipynb) and an exported PDF version (you can do it from Jupyter: `File->Download as->PDF via Latex`).\n",
    "\n",
    "You are advised to follow the code structure given in this notebook by completing all given funtions. You can also write any auxilliary/helper functions (and arguments for the functions) that you might need but note that you can provide a full solution without any such functions. Similarly, you can just use only the packages imported below but you are free to use any functionality from the [Python Standard Library](https://docs.python.org/2/library/index.html), NumPy, SciPy and Pandas. You are not allowed to use any third-party library such as Scikit-learn (apart from metric functions already provided), NLTK, Spacy, Keras etc.. You are allowed to re-use your code from Assignment 1.\n",
    "\n",
    "Please make sure to comment your code. You should also mention if you've used Windows to write and test your code. There is no single correct answer on what your accuracy should be, but correct implementations usually achieve F1 of ~75-80% and ~85% without and with using pre-trained embeddings respectively. \n",
    "\n",
    "This assignment will be marked out of 20. It is worth 20\\% of your final grade in the module. If you implement the bonus question you can get up to 2 extra points but your final grade will be capped at 20.\n",
    "\n"
   ]
  },
  {
   "cell_type": "code",
   "execution_count": 1,
   "metadata": {
    "ExecuteTime": {
     "end_time": "2020-04-02T15:00:18.625532Z",
     "start_time": "2020-04-02T15:00:17.377733Z"
    },
    "colab": {},
    "colab_type": "code",
    "id": "LFAtzFOIYeDo"
   },
   "outputs": [],
   "source": [
    "import pandas as pd\n",
    "import numpy as np\n",
    "from collections import Counter\n",
    "import re\n",
    "import matplotlib.pyplot as plt\n",
    "from sklearn.metrics import accuracy_score, precision_score, recall_score, f1_score\n",
    "import random\n",
    "from time import localtime, strftime\n",
    "from scipy.stats import spearmanr,pearsonr\n",
    "import zipfile\n",
    "import gc\n",
    "\n",
    "# fixing random seed for reproducibility\n",
    "random.seed(123)\n",
    "np.random.seed(123)\n"
   ]
  },
  {
   "cell_type": "markdown",
   "metadata": {
    "colab_type": "text",
    "id": "mHQ0lbEpYeDs"
   },
   "source": [
    "## Transform Raw texts into training and development data\n",
    "\n",
    "First, you need to load the training, development and test sets from their corresponding CSV files (tip: you can use Pandas dataframes)."
   ]
  },
  {
   "cell_type": "code",
   "execution_count": 2,
   "metadata": {
    "ExecuteTime": {
     "end_time": "2020-04-02T14:26:39.748484Z",
     "start_time": "2020-04-02T14:26:39.727404Z"
    },
    "colab": {},
    "colab_type": "code",
    "id": "1O7S1Xf_YeDs"
   },
   "outputs": [],
   "source": [
    "data_tr = pd.read_csv(\"./data_topic/train.csv\",header=None, names=['label','text'])\n",
    "data_te = pd.read_csv(\"./data_topic/dev.csv\",header=None, names=['label','text'])\n",
    "data_dev = pd.read_csv(\"./data_topic/test.csv\",header=None, names=['label','text'])"
   ]
  },
  {
   "cell_type": "code",
   "execution_count": 3,
   "metadata": {
    "ExecuteTime": {
     "end_time": "2020-04-02T14:26:39.753874Z",
     "start_time": "2020-04-02T14:26:39.749647Z"
    },
    "colab": {},
    "colab_type": "code",
    "id": "IVN3aYJpYeDy"
   },
   "outputs": [],
   "source": [
    "\n",
    "X_tr_raw = list(data_tr['text'])\n",
    "X_test_raw = list(data_te['text'])\n",
    "X_dev_raw = list(data_dev['text'])"
   ]
  },
  {
   "cell_type": "markdown",
   "metadata": {
    "colab_type": "text",
    "id": "FdYmjRnVYeD1"
   },
   "source": [
    "# Create input representations\n",
    "\n",
    "\n",
    "To train your Feedforward network, you first need to obtain input representations given a vocabulary. One-hot encoding requires large memory capacity. Therefore, we will instead represent documents as lists of vocabulary indices (each word corresponds to a vocabulary index). \n",
    "\n",
    "\n",
    "## Text Pre-Processing Pipeline\n",
    "\n",
    "To obtain a vocabulary of words. You should: \n",
    "- tokenise all texts into a list of unigrams (tip: you can re-use the functions from Assignment 1) \n",
    "- remove stop words (using the one provided or one of your preference) \n",
    "- remove unigrams appearing in less than K documents\n",
    "- use the remaining to create a vocabulary of the top-N most frequent unigrams in the entire corpus.\n"
   ]
  },
  {
   "cell_type": "code",
   "execution_count": 4,
   "metadata": {
    "ExecuteTime": {
     "end_time": "2020-04-02T14:26:40.851926Z",
     "start_time": "2020-04-02T14:26:40.847500Z"
    },
    "colab": {},
    "colab_type": "code",
    "id": "DL-awx1rYeD1"
   },
   "outputs": [],
   "source": [
    "stop_words = ['a','in','on','at','and','or', \n",
    "              'to', 'the', 'of', 'an', 'by', \n",
    "              'as', 'is', 'was', 'were', 'been', 'be', \n",
    "              'are','for', 'this', 'that', 'these', 'those', 'you', 'i', 'if',\n",
    "             'it', 'he', 'she', 'we', 'they', 'will', 'have', 'has',\n",
    "              'do', 'did', 'can', 'could', 'who', 'which', 'what',\n",
    "              'but', 'not', 'there', 'no', 'does', 'not', 'so', 've', 'their',\n",
    "             'his', 'her', 'they', 'them', 'from', 'with', 'its']\n"
   ]
  },
  {
   "cell_type": "markdown",
   "metadata": {
    "colab_type": "text",
    "id": "SHjbPYN7YeD4"
   },
   "source": [
    "### Unigram extraction from a document\n",
    "\n",
    "You first need to implement the `extract_ngrams` function. It takes as input:\n",
    "- `x_raw`: a string corresponding to the raw text of a document\n",
    "- `ngram_range`: a tuple of two integers denoting the type of ngrams you want to extract, e.g. (1,2) denotes extracting unigrams and bigrams.\n",
    "- `token_pattern`: a string to be used within a regular expression to extract all tokens. Note that data is already tokenised so you could opt for a simple white space tokenisation.\n",
    "- `stop_words`: a list of stop words\n",
    "- `vocab`: a given vocabulary. It should be used to extract specific features.\n",
    "\n",
    "and returns:\n",
    "\n",
    "- a list of all extracted features.\n"
   ]
  },
  {
   "cell_type": "code",
   "execution_count": 5,
   "metadata": {
    "ExecuteTime": {
     "end_time": "2020-04-02T14:26:41.505459Z",
     "start_time": "2020-04-02T14:26:41.498388Z"
    },
    "colab": {},
    "colab_type": "code",
    "id": "EBSOjp0fYeD5"
   },
   "outputs": [],
   "source": [
    "def extract_ngrams(x_raw, ngram_range=(1,3), token_pattern=r'\\b[A-Za-z][A-Za-z]+\\b', stop_words=[], vocab=set()):\n",
    "    tokenRE = re.compile(token_pattern)\n",
    "\n",
    "    # first extract all unigrams by tokenising\n",
    "    x_uni = [w for w in tokenRE.findall(str(x_raw).lower(),) if w not in stop_words]\n",
    "    \n",
    "    # this is to store the ngrams to be returned\n",
    "    x = []\n",
    "    \n",
    "    if ngram_range[0]==1:\n",
    "        x = x_uni\n",
    "\n",
    "    if ngram_range[1] == 1:\n",
    "        return x\n",
    "    \n",
    "    # generate n-grams from the available unigrams x_uni\n",
    "    ngrams = []\n",
    "    for n in range(ngram_range[0], ngram_range[1]+1):\n",
    "        \n",
    "        # ignore unigrams\n",
    "        if n==1: continue\n",
    "        \n",
    "        # pass a list of lists as an argument for zip\n",
    "        arg_list = [x_uni]+[x_uni[i:] for i in range(1, n)]\n",
    "\n",
    "        # extract tuples of n-grams using zip\n",
    "        # for bigram this should look: list(zip(x_uni, x_uni[1:]))\n",
    "        # align each item x[i] in x_uni with the next one x[i+1]. \n",
    "        # Note that x_uni and x_uni[1:] have different lenghts\n",
    "        # but zip ignores redundant elements at the end of the second list\n",
    "        # Alternativel, this could be done with for loops\n",
    "        x_ngram = list(zip(*arg_list))\n",
    "        ngrams.append(x_ngram)\n",
    "    \n",
    "        \n",
    "    for n in ngrams:\n",
    "        for t in n:\n",
    "            x.append(t)\n",
    "        \n",
    "    if len(vocab)>0:\n",
    "        x = [w for w in x if w in vocab]\n",
    "        \n",
    "    return x\n",
    "\n"
   ]
  },
  {
   "cell_type": "markdown",
   "metadata": {
    "colab_type": "text",
    "id": "TaH6dwOFYeD7"
   },
   "source": [
    "### Create a vocabulary of n-grams\n",
    "\n",
    "Then the `get_vocab` function will be used to (1) create a vocabulary of ngrams; (2) count the document frequencies of ngrams; (3) their raw frequency. It takes as input:\n",
    "- `X_raw`: a list of strings each corresponding to the raw text of a document\n",
    "- `ngram_range`: a tuple of two integers denoting the type of ngrams you want to extract, e.g. (1,2) denotes extracting unigrams and bigrams.\n",
    "- `token_pattern`: a string to be used within a regular expression to extract all tokens. Note that data is already tokenised so you could opt for a simple white space tokenisation.\n",
    "- `stop_words`: a list of stop words\n",
    "- `min_df`: keep ngrams with a minimum document frequency.\n",
    "- `keep_topN`: keep top-N more frequent ngrams.\n",
    "\n",
    "and returns:\n",
    "\n",
    "- `vocab`: a set of the n-grams that will be used as features.\n",
    "- `df`: a Counter (or dict) that contains ngrams as keys and their corresponding document frequency as values.\n",
    "- `ngram_counts`: counts of each ngram in vocab\n"
   ]
  },
  {
   "cell_type": "code",
   "execution_count": 6,
   "metadata": {
    "ExecuteTime": {
     "end_time": "2020-04-02T14:26:42.563876Z",
     "start_time": "2020-04-02T14:26:42.557967Z"
    },
    "colab": {},
    "colab_type": "code",
    "id": "oEq7wRdwYeD8"
   },
   "outputs": [],
   "source": [
    "def get_vocab(X_raw, ngram_range=(1,3), token_pattern=r'\\b[A-Za-z][A-Za-z]+\\b', \n",
    "              min_df=0, keep_topN=0, stop_words=[]):\n",
    "    tokenRE = re.compile(token_pattern)\n",
    "    \n",
    "    df = Counter()\n",
    "    ngram_counts = Counter()\n",
    "    vocab = set()\n",
    "    \n",
    "    # interate through each raw text\n",
    "    for x in X_raw:\n",
    "        \n",
    "        x_ngram = extract_ngrams(x, ngram_range=ngram_range, token_pattern=r'\\b[A-Za-z][A-Za-z]+\\b', stop_words=stop_words)\n",
    "        \n",
    "        #update doc and ngram frequencies \n",
    "        df.update(list(set(x_ngram)))\n",
    "        ngram_counts.update(x_ngram)\n",
    "\n",
    "    # obtain a vocabulary as a set. \n",
    "    # Keep elements with doc frequency > minimum doc freq (min_df)\n",
    "    # Note that df contains all te\n",
    "    vocab = set([w for w in df if df[w]>=min_df])\n",
    "    \n",
    "    # keep the top N most freqent \n",
    "    if keep_topN>0:\n",
    "        vocab = set([w[0] for w in ngram_counts.most_common(keep_topN) if w[0] in vocab])\n",
    "    \n",
    "    \n",
    "    return vocab, df, ngram_counts"
   ]
  },
  {
   "cell_type": "markdown",
   "metadata": {
    "colab_type": "text",
    "id": "aSbEOTS6YeEB"
   },
   "source": [
    "Now you should use `get_vocab` to create your vocabulary and get document and raw frequencies of unigrams:"
   ]
  },
  {
   "cell_type": "code",
   "execution_count": 7,
   "metadata": {
    "ExecuteTime": {
     "end_time": "2020-04-02T14:26:43.577997Z",
     "start_time": "2020-04-02T14:26:43.478950Z"
    },
    "colab": {},
    "colab_type": "code",
    "id": "vFHHQrZwYeEC"
   },
   "outputs": [],
   "source": [
    "vocab, df, ngram_counts = get_vocab(X_tr_raw, ngram_range=(1, 1), stop_words=stop_words)\n"
   ]
  },
  {
   "cell_type": "markdown",
   "metadata": {
    "colab_type": "text",
    "id": "bgaTT6qwYeEI"
   },
   "source": [
    "Then, you need to create vocabulary id -> word and id -> word dictionaries for reference:"
   ]
  },
  {
   "cell_type": "code",
   "execution_count": 8,
   "metadata": {
    "ExecuteTime": {
     "end_time": "2020-04-02T14:26:44.069661Z",
     "start_time": "2020-04-02T14:26:44.065058Z"
    },
    "colab": {},
    "colab_type": "code",
    "id": "BAR0XHURYeEJ"
   },
   "outputs": [],
   "source": [
    "# generate word and corresponding id\n",
    "id2word = dict(enumerate(vocab))\n",
    "\n",
    "word2id = {}\n",
    "i = 0\n",
    "for i, w in enumerate(list(vocab)):\n",
    "    word2id[w] = i\n",
    "    "
   ]
  },
  {
   "cell_type": "markdown",
   "metadata": {
    "colab_type": "text",
    "id": "_UJFlOjMYeEO"
   },
   "source": [
    "### Convert the list of unigrams  into a list of vocabulary indices"
   ]
  },
  {
   "cell_type": "markdown",
   "metadata": {
    "colab_type": "text",
    "id": "ZjaJJk_yYeEP"
   },
   "source": [
    "Storing actual one-hot vectors into memory for all words in the entire data set is prohibitive. Instead, we will store word indices in the vocabulary and look-up the weight matrix. This is equivalent of doing a dot product between an one-hot vector and the weight matrix. \n",
    "\n",
    "First, represent documents in train, dev and test sets as lists of words in the vocabulary:"
   ]
  },
  {
   "cell_type": "code",
   "execution_count": 9,
   "metadata": {
    "colab": {},
    "colab_type": "code",
    "id": "6_gVlmBR9Vb7"
   },
   "outputs": [],
   "source": [
    "X_train_ngram = []\n",
    "X_dev_ngram = []\n",
    "X_test_ngram = []\n",
    "\n",
    "# generate 3 file's ngrams list\n",
    "for i in X_tr_raw:\n",
    "    X_train_ngram.append(extract_ngrams(i, ngram_range=(1,3), token_pattern=r'\\b[A-Za-z][A-Za-z]+\\b', stop_words=stop_words, vocab=vocab))\n",
    "for i in X_dev_raw:\n",
    "    X_dev_ngram.append(extract_ngrams(i, ngram_range=(1,3), token_pattern=r'\\b[A-Za-z][A-Za-z]+\\b', stop_words=stop_words, vocab=vocab))\n",
    "for i in X_test_raw:\n",
    "    X_test_ngram.append(extract_ngrams(i, ngram_range=(1,3), token_pattern=r'\\b[A-Za-z][A-Za-z]+\\b', stop_words=stop_words, vocab=vocab))"
   ]
  },
  {
   "cell_type": "markdown",
   "metadata": {
    "colab_type": "text",
    "id": "dCxnPUHzYeEd"
   },
   "source": [
    "Then convert them into lists of indices in the vocabulary:"
   ]
  },
  {
   "cell_type": "code",
   "execution_count": 10,
   "metadata": {
    "colab": {},
    "colab_type": "code",
    "id": "bDqZ4DwmXU2x"
   },
   "outputs": [],
   "source": [
    "def uni2id(data, word2id):\n",
    "    result = []\n",
    "    for i in range(len(data)):\n",
    "      row = []\n",
    "      for j in range(len(data[i])):\n",
    "          row.append(word2id[data[i][j]])\n",
    "      result.append(row)\n",
    "    return result\n",
    "        \n",
    "\n",
    "X_tr = uni2id(X_train_ngram, word2id)\n",
    "X_dev = uni2id(X_dev_ngram, word2id)\n",
    "X_te = uni2id(X_test_ngram,word2id)"
   ]
  },
  {
   "cell_type": "markdown",
   "metadata": {
    "colab_type": "text",
    "id": "7NmRpUKIYeEr"
   },
   "source": [
    "Put the labels `Y` for train, dev and test sets into arrays: "
   ]
  },
  {
   "cell_type": "code",
   "execution_count": 11,
   "metadata": {
    "ExecuteTime": {
     "end_time": "2020-04-02T15:03:13.183996Z",
     "start_time": "2020-04-02T15:03:13.077575Z"
    },
    "colab": {},
    "colab_type": "code",
    "id": "qcZol_WuYeEs"
   },
   "outputs": [],
   "source": [
    "# -1 to make more convinent when we use this in future steps\n",
    "Y_tr = data_tr['label'].values -1   \n",
    "Y_dev = data_dev['label'].values - 1\n",
    "Y_te = data_te['label'].values -1"
   ]
  },
  {
   "cell_type": "markdown",
   "metadata": {
    "colab_type": "text",
    "id": "ujjkWnA0YeEy"
   },
   "source": [
    "# Network Architecture\n",
    "\n",
    "Your network should pass each word index into its corresponding embedding by looking-up on the embedding matrix and then compute the first hidden layer $\\mathbf{h}_1$:\n",
    "\n",
    "$$\\mathbf{h}_1 = \\frac{1}{|x|}\\sum_i W^e_i, i \\in x$$\n",
    "\n",
    "where $|x|$ is the number of words in the document and $W^e$ is an embedding matrix $|V|\\times d$, $|V|$ is the size of the vocabulary and $d$ the embedding size.\n",
    "\n",
    "Then $\\mathbf{h}_1$ should be passed through a ReLU activation function:\n",
    "\n",
    "$$\\mathbf{a}_1 = relu(\\mathbf{h}_1)$$\n",
    "\n",
    "Finally the hidden layer is passed to the output layer:\n",
    "\n",
    "\n",
    "$$\\mathbf{y} = \\text{softmax}(\\mathbf{a}_1W^T) $$ \n",
    "where $W$ is a matrix $d \\times |{\\cal Y}|$, $|{\\cal Y}|$ is the number of classes.\n",
    "\n",
    "During training, $\\mathbf{a}_1$ should be multiplied with a dropout mask vector (elementwise) for regularisation before it is passed to the output layer.\n",
    "\n",
    "You can extend to a deeper architecture by passing a hidden layer to another one:\n",
    "\n",
    "$$\\mathbf{h_i} = \\mathbf{a}_{i-1}W_i^T $$\n",
    "\n",
    "$$\\mathbf{a_i} = relu(\\mathbf{h_i}) $$\n",
    "\n",
    "\n",
    "\n",
    "# Network Training\n",
    "\n",
    "First we need to define the parameters of our network by initiliasing the weight matrices. For that purpose, you should implement the `network_weights` function that takes as input:\n",
    "\n",
    "- `vocab_size`: the size of the vocabulary\n",
    "- `embedding_dim`: the size of the word embeddings\n",
    "- `hidden_dim`: a list of the sizes of any subsequent hidden layers (for the Bonus). Empty if there are no hidden layers between the average embedding and the output layer \n",
    "- `num_clusses`: the number of the classes for the output layer\n",
    "\n",
    "and returns:\n",
    "\n",
    "- `W`: a dictionary mapping from layer index (e.g. 0 for the embedding matrix) to the corresponding weight matrix initialised with small random numbers (hint: use numpy.random.uniform with from -0.1 to 0.1)\n",
    "\n",
    "See the examples below for expected outputs. Make sure that the dimensionality of each weight matrix is compatible with the previous and next weight matrix, otherwise you won't be able to perform forward and backward passes. Consider also using np.float32 precision to save memory."
   ]
  },
  {
   "cell_type": "code",
   "execution_count": 12,
   "metadata": {
    "ExecuteTime": {
     "end_time": "2020-04-02T15:09:10.086665Z",
     "start_time": "2020-04-02T15:09:10.083429Z"
    },
    "colab": {},
    "colab_type": "code",
    "id": "gIqNVm0_YeEz"
   },
   "outputs": [],
   "source": [
    "def network_weights(vocab_size=1000, embedding_dim=300, \n",
    "                    hidden_dim=[], num_classes=3, init_val = 0.5):\n",
    "  output_dim = embedding_dim\n",
    "  W = []\n",
    "  W.append(np.random.uniform(-0.1, 0.1, size=(vocab_size, embedding_dim)).astype(np.float32))  # process embeeding layer\n",
    "  if hidden_dim: \n",
    "      W.append(np.random.uniform(-0.1, 0.1, size=(embedding_dim, hidden_dim[0])).astype(np.float32)) # process hidden layer\n",
    "      output_dim = hidden_dim[0]\n",
    "\n",
    "  W.append(np.random.uniform(-0.1, 0.1, size=(output_dim, num_classes)).astype(np.float32)) # process output_layer\n",
    "  return W\n",
    "    "
   ]
  },
  {
   "cell_type": "code",
   "execution_count": 13,
   "metadata": {
    "ExecuteTime": {
     "end_time": "2020-04-02T14:26:48.143236Z",
     "start_time": "2020-04-02T14:26:48.139381Z"
    },
    "colab": {
     "base_uri": "https://localhost:8080/",
     "height": 51
    },
    "colab_type": "code",
    "id": "SgZc1Ix3YeE3",
    "outputId": "2e875034-04ef-4b89-8796-071a39ef32e3"
   },
   "outputs": [
    {
     "name": "stdout",
     "output_type": "stream",
     "text": [
      "W_emb: (5, 10)\n",
      "W_out: (10, 2)\n"
     ]
    }
   ],
   "source": [
    "W = network_weights(vocab_size=5,embedding_dim=10,hidden_dim=[], num_classes=2)\n",
    "\n",
    "print('W_emb:', W[0].shape)\n",
    "print('W_out:', W[1].shape)"
   ]
  },
  {
   "cell_type": "code",
   "execution_count": 14,
   "metadata": {
    "ExecuteTime": {
     "end_time": "2020-04-02T14:26:48.636732Z",
     "start_time": "2020-04-02T14:26:48.634122Z"
    },
    "colab": {},
    "colab_type": "code",
    "id": "Q3il7VJwYeE6"
   },
   "outputs": [],
   "source": [
    "W = network_weights(vocab_size=3,embedding_dim=4,hidden_dim=[2], num_classes=2)"
   ]
  },
  {
   "cell_type": "code",
   "execution_count": 15,
   "metadata": {
    "ExecuteTime": {
     "end_time": "2020-04-02T14:26:49.086112Z",
     "start_time": "2020-04-02T14:26:49.082225Z"
    },
    "colab": {
     "base_uri": "https://localhost:8080/",
     "height": 68
    },
    "colab_type": "code",
    "id": "iw-_Yf39YeE-",
    "outputId": "8816882b-fcac-4605-809d-da633c255879"
   },
   "outputs": [
    {
     "name": "stdout",
     "output_type": "stream",
     "text": [
      "W_emb: (3, 4)\n",
      "W_h1: (4, 2)\n",
      "W_out: (2, 2)\n"
     ]
    }
   ],
   "source": [
    "print('W_emb:', W[0].shape)\n",
    "print('W_h1:', W[1].shape)\n",
    "print('W_out:', W[2].shape)"
   ]
  },
  {
   "cell_type": "code",
   "execution_count": 16,
   "metadata": {
    "ExecuteTime": {
     "end_time": "2020-04-02T14:26:49.535954Z",
     "start_time": "2020-04-02T14:26:49.532018Z"
    },
    "colab": {
     "base_uri": "https://localhost:8080/",
     "height": 85
    },
    "colab_type": "code",
    "id": "fxiBVTjOYeFB",
    "outputId": "cd740858-8aa8-4146-a4f8-6ca39736f22b"
   },
   "outputs": [
    {
     "data": {
      "text/plain": [
       "array([[-0.08085749,  0.07706536,  0.02544979,  0.04468327],\n",
       "       [-0.09677416,  0.01888638,  0.01135704, -0.06820807],\n",
       "       [-0.06938589,  0.03910591, -0.03624671,  0.03839406]],\n",
       "      dtype=float32)"
      ]
     },
     "execution_count": 16,
     "metadata": {},
     "output_type": "execute_result"
    }
   ],
   "source": [
    "W[0]"
   ]
  },
  {
   "cell_type": "markdown",
   "metadata": {
    "ExecuteTime": {
     "end_time": "2020-04-01T10:31:57.970152Z",
     "start_time": "2020-04-01T10:31:57.966123Z"
    },
    "colab_type": "text",
    "id": "C9snPRC3YeFF"
   },
   "source": [
    "Then you need to develop a `softmax` function (same as in Assignment 1) to be used in the output layer. It takes as input:\n",
    "\n",
    "- `z`: array of real numbers \n",
    "\n",
    "and returns:\n",
    "\n",
    "- `sig`: the softmax of `z`"
   ]
  },
  {
   "cell_type": "code",
   "execution_count": 17,
   "metadata": {
    "ExecuteTime": {
     "end_time": "2020-04-02T14:26:50.504086Z",
     "start_time": "2020-04-02T14:26:50.500686Z"
    },
    "colab": {},
    "colab_type": "code",
    "id": "xZF857fyYeFF"
   },
   "outputs": [],
   "source": [
    "def softmax(z):\n",
    "    smax = np.exp(z) / np.sum(np.exp(z))\n",
    "    return smax"
   ]
  },
  {
   "cell_type": "markdown",
   "metadata": {
    "colab_type": "text",
    "id": "1KZSPQZmYeFH"
   },
   "source": [
    "Now you need to implement the categorical cross entropy loss by slightly modifying the function from Assignment 1 to depend only on the true label `y` and the class probabilities vector `y_preds`:"
   ]
  },
  {
   "cell_type": "code",
   "execution_count": 18,
   "metadata": {
    "ExecuteTime": {
     "end_time": "2020-04-02T14:26:51.360838Z",
     "start_time": "2020-04-02T14:26:51.356935Z"
    },
    "colab": {},
    "colab_type": "code",
    "id": "hMo2_esyYeFI"
   },
   "outputs": [],
   "source": [
    "def categorical_loss(y, y_preds):\n",
    "    loss = -np.log(y_preds[y])\n",
    "    return loss"
   ]
  },
  {
   "cell_type": "code",
   "execution_count": 19,
   "metadata": {
    "ExecuteTime": {
     "end_time": "2020-04-02T14:26:51.762676Z",
     "start_time": "2020-04-02T14:26:51.758210Z"
    },
    "colab": {
     "base_uri": "https://localhost:8080/",
     "height": 51
    },
    "colab_type": "code",
    "id": "z0gMRhKwYeFK",
    "outputId": "aa681e23-ac52-41ba-ca81-6ceb15434ef6"
   },
   "outputs": [
    {
     "name": "stdout",
     "output_type": "stream",
     "text": [
      "y_preds:  [0.01217919 0.27035308 0.24462558 0.02710529 0.44573687]\n",
      "loss: 1.40802648485675\n"
     ]
    }
   ],
   "source": [
    "# example for 5 classes\n",
    "\n",
    "y = 2 #true label\n",
    "y_preds = softmax(np.array([[-2.1,1.,0.9,-1.3,1.5]]))[0]\n",
    "\n",
    "print('y_preds: ',y_preds)\n",
    "print('loss:', categorical_loss(y, y_preds))"
   ]
  },
  {
   "cell_type": "markdown",
   "metadata": {
    "ExecuteTime": {
     "end_time": "2020-03-31T15:02:56.149535Z",
     "start_time": "2020-03-31T15:02:56.145738Z"
    },
    "colab_type": "text",
    "id": "-UVxte5qYeFM"
   },
   "source": [
    "Then, implement the `relu` function to introduce non-linearity after each hidden layer of your network (during the forward pass): \n",
    "\n",
    "$$relu(z_i)= max(z_i,0)$$\n",
    "\n",
    "and the `relu_derivative` function to compute its derivative (used in the backward pass):\n",
    "\n",
    "\\begin{equation}\n",
    "  \\text{relu_derivative}(z_i)=\\begin{cases}\n",
    "    0, & \\text{if $z_i<=0$}.\\\\\n",
    "    1, & \\text{otherwise}.\n",
    "  \\end{cases}\n",
    "\\end{equation}\n",
    "\n",
    "Note that both functions take as input a vector $z$ \n",
    "\n",
    "Hint use .copy() to avoid in place changes in array z"
   ]
  },
  {
   "cell_type": "code",
   "execution_count": 20,
   "metadata": {
    "ExecuteTime": {
     "end_time": "2020-04-02T14:26:52.665236Z",
     "start_time": "2020-04-02T14:26:52.661519Z"
    },
    "colab": {},
    "colab_type": "code",
    "id": "hk_6j5H-YeFN"
   },
   "outputs": [],
   "source": [
    "def relu(z):\n",
    "\n",
    "  a = np.array([max(x, 0) for x in z])\n",
    "  return a\n",
    "    \n",
    "def relu_derivative(z):    \n",
    "    return 1 * (z > 0)"
   ]
  },
  {
   "cell_type": "markdown",
   "metadata": {
    "colab_type": "text",
    "id": "MJilYm6GYeFQ"
   },
   "source": [
    "During training you should also apply a dropout mask element-wise after the activation function (i.e. vector of ones with a random percentage set to zero). The `dropout_mask` function takes as input:\n",
    "\n",
    "- `size`: the size of the vector that we want to apply dropout\n",
    "- `dropout_rate`: the percentage of elements that will be randomly set to zeros\n",
    "\n",
    "and returns:\n",
    "\n",
    "- `dropout_vec`: a vector with binary values (0 or 1)"
   ]
  },
  {
   "cell_type": "code",
   "execution_count": 21,
   "metadata": {
    "ExecuteTime": {
     "end_time": "2020-04-02T14:26:53.429192Z",
     "start_time": "2020-04-02T14:26:53.425301Z"
    },
    "colab": {},
    "colab_type": "code",
    "id": "HpyhjisBYeFR"
   },
   "outputs": [],
   "source": [
    "\n",
    "def dropout_mask(size, dropout_rate):\n",
    "  dropout_vec = np.ones(size)\n",
    "  indexs = random.sample(range(0,size),int(size*dropout_rate))\n",
    "  for i in indexs:\n",
    "\n",
    "      dropout_vec[i] = 0\n",
    "\n",
    "  return dropout_vec"
   ]
  },
  {
   "cell_type": "code",
   "execution_count": 22,
   "metadata": {
    "ExecuteTime": {
     "end_time": "2020-04-02T14:26:53.853632Z",
     "start_time": "2020-04-02T14:26:53.849944Z"
    },
    "colab": {
     "base_uri": "https://localhost:8080/",
     "height": 51
    },
    "colab_type": "code",
    "id": "iL9uPaefYeFT",
    "outputId": "50df5102-2fe4-4946-de0c-ea0eae276e1a"
   },
   "outputs": [
    {
     "name": "stdout",
     "output_type": "stream",
     "text": [
      "[0. 1. 1. 1. 0. 1. 1. 1. 1. 1.]\n",
      "[1. 0. 1. 1. 1. 1. 0. 1. 1. 1.]\n"
     ]
    }
   ],
   "source": [
    "print(dropout_mask(10, 0.2))\n",
    "print(dropout_mask(10, 0.2))"
   ]
  },
  {
   "cell_type": "markdown",
   "metadata": {
    "colab_type": "text",
    "id": "_KON0OMNYeFX"
   },
   "source": [
    "Now you need to implement the `forward_pass` function that passes the input x through the network up to the output layer for computing the probability for each class using the weight matrices in `W`. The ReLU activation function should be applied on each hidden layer. \n",
    "\n",
    "- `x`: a list of vocabulary indices each corresponding to a word in the document (input)\n",
    "- `W`: a list of weight matrices connecting each part of the network, e.g. for a network with a hidden and an output layer: W[0] is the weight matrix that connects the input to the first hidden layer, W[1] is the weight matrix that connects the hidden layer to the output layer.\n",
    "- `dropout_rate`: the dropout rate that is used to generate a random dropout mask vector applied after each hidden layer for regularisation.\n",
    "\n",
    "and returns:\n",
    "\n",
    "- `out_vals`: a dictionary of output values from each layer: h (the vector before the activation function), a (the resulting vector after passing h from the activation function), its dropout mask vector; and the prediction vector (probability for each class) from the output layer."
   ]
  },
  {
   "cell_type": "code",
   "execution_count": 23,
   "metadata": {
    "colab": {},
    "colab_type": "code",
    "id": "tkio6vWAogCA"
   },
   "outputs": [],
   "source": [
    "def predict(h, W):\n",
    "  preds = softmax(np.matmul(h, W))\n",
    "  return preds"
   ]
  },
  {
   "cell_type": "code",
   "execution_count": 24,
   "metadata": {
    "ExecuteTime": {
     "end_time": "2020-04-02T14:26:54.761268Z",
     "start_time": "2020-04-02T14:26:54.753402Z"
    },
    "colab": {},
    "colab_type": "code",
    "id": "F3g6ZgXlYeFX"
   },
   "outputs": [],
   "source": [
    "def forward_pass(x, W, dropout_rate=0.2):\n",
    "  out_vals = {}\n",
    "  h_vecs = []\n",
    "  a_vecs = []\n",
    "  dropout_vecs = []  \n",
    "  # produce dropout_mask vectors based on size of hidden layer\n",
    "  dropout_vecs.append(dropout_mask(W[0].shape[1], dropout_rate))\n",
    "  # get the weights mapping with x and get mean value\n",
    "  h = np.sum(W[0][x], axis=0)/len(x)\n",
    "  h_vecs.append(np.array(h, dtype=np.float32))\n",
    "  # put relu(h) values into a_vecs\n",
    "  relu_h = relu(h_vecs[0]) \n",
    "  a_vecs.append(np.array(relu_h, dtype=np.float32))# h0   \n",
    "  # loop all hidden layer\n",
    "  hid_num = len(W)-1\n",
    "  for hl in range(1, hid_num):\n",
    "      # dropout for regularisation.\n",
    "      dropout = dropout_mask(W[hl].shape[1], dropout_rate)\n",
    "      h_t = np.dot(h_vecs[hl-1], W[hl])\n",
    "      # put the dropout into vectors\n",
    "      h_vecs.append(dropout*h_t)\n",
    "      a_vecs.append(relu(h_vecs[hl]))\n",
    "      dropout_vecs.append(dropout)\n",
    "  \n",
    "  # make prediction\n",
    "  if len(W)>1:\n",
    "      y_pred = predict(h_vecs[hid_num-1], W[-1])\n",
    "  else:\n",
    "      y_pred = predict(h_vecs[0], W[-1])\n",
    "\n",
    "  # compute cross-entropy loss\n",
    "  out_vals['h'] = h_vecs\n",
    "  out_vals['a'] = a_vecs\n",
    "  out_vals['dropout_vec'] = dropout_vecs\n",
    "  out_vals['y'] = y_pred\n",
    "  return out_vals\n"
   ]
  },
  {
   "cell_type": "code",
   "execution_count": 25,
   "metadata": {
    "ExecuteTime": {
     "end_time": "2020-04-02T14:26:55.162854Z",
     "start_time": "2020-04-02T14:26:55.156122Z"
    },
    "colab": {
     "base_uri": "https://localhost:8080/",
     "height": 122
    },
    "colab_type": "code",
    "id": "uT2GC1cSYeFa",
    "outputId": "676e2ec7-f09d-4304-d156-5d719f74b65c"
   },
   "outputs": [
    {
     "name": "stdout",
     "output_type": "stream",
     "text": [
      "Shape W0 (3, 4)\n",
      "Shape W1 (4, 5)\n",
      "Shape W2 (5, 2)\n",
      "\n",
      "{'h': [array([-0.06532356, -0.0525649 , -0.01648912,  0.03281889], dtype=float32), array([-0.        ,  0.00132905, -0.00631938,  0.        ,  0.00368075])], 'a': [array([0.        , 0.        , 0.        , 0.03281889], dtype=float32), array([-0.        ,  0.00132905,  0.        ,  0.        ,  0.00368075])], 'dropout_vec': [array([0., 1., 0., 1.]), array([0., 1., 1., 0., 1.])], 'y': array([0.50001371, 0.49998629])}\n"
     ]
    }
   ],
   "source": [
    "W = network_weights(vocab_size=3,embedding_dim=4,hidden_dim=[5], num_classes=2)\n",
    "\n",
    "for i in range(len(W)):\n",
    "    print('Shape W'+str(i), W[i].shape)\n",
    "\n",
    "print()\n",
    "print(forward_pass([2,1], W, dropout_rate=0.5))"
   ]
  },
  {
   "cell_type": "markdown",
   "metadata": {
    "colab_type": "text",
    "id": "nSRI77SCYeFe"
   },
   "source": [
    "The `backward_pass` function computes the gradients and update the weights for each matrix in the network from the output to the input. It takes as input \n",
    "\n",
    "- `x`: a list of vocabulary indices each corresponding to a word in the document (input)\n",
    "- `y`: the true label\n",
    "- `W`: a list of weight matrices connecting each part of the network, e.g. for a network with a hidden and an output layer: W[0] is the weight matrix that connects the input to the first hidden layer, W[1] is the weight matrix that connects the hidden layer to the output layer.\n",
    "- `out_vals`: a dictionary of output values from a forward pass.\n",
    "- `learning_rate`: the learning rate for updating the weights.\n",
    "- `freeze_emb`: boolean value indicating whether the embedding weights will be updated.\n",
    "\n",
    "and returns:\n",
    "\n",
    "- `W`: the updated weights of the network.\n",
    "\n",
    "Hint: the gradients on the output layer are similar to the multiclass logistic regression."
   ]
  },
  {
   "cell_type": "code",
   "execution_count": 26,
   "metadata": {
    "colab": {},
    "colab_type": "code",
    "id": "yc8sMw7iEOCF"
   },
   "outputs": [],
   "source": [
    "def backward_pass(x, y, W, out_vals, lr=0.001, freeze_emb=False):\n",
    "  # Derivation of cross-entropy softmax\n",
    "  y_pd = out_vals['y']\n",
    "  y2 = np.zeros(y_pd.shape[-1])\n",
    "  y2[y] = 1\n",
    "  dy = y_pd - y2\n",
    "  dy = np.reshape(dy,(1,dy.shape[-1]))\n",
    "  n = len(W)\n",
    "  # process hidden layer part\n",
    "  for i in range(n-1,0,-1):\n",
    "      # get w gradient\n",
    "      w_grad = out_vals['a'][i-1].T[:,None].dot(dy)\n",
    "      # get h gradient\n",
    "      h_grad = dy.dot(W[i].T)[0]\n",
    "      #  update w value\n",
    "      W[i] = W[i] - lr*w_grad\n",
    "      dy = relu_derivative(h_grad)\n",
    "      # change it to (1, 300)\n",
    "      dy = np.reshape(dy,(1,dy.shape[-1]))      \n",
    "  if not freeze_emb:\n",
    "      dy = np.reshape(dy,(dy.shape[-1]))\n",
    "      embed_grad = relu_derivative(dy)\n",
    "      for id in x:\n",
    "          W[0][id] = W[0][id] - embed_grad * lr\n",
    "  return W"
   ]
  },
  {
   "cell_type": "markdown",
   "metadata": {
    "ExecuteTime": {
     "end_time": "2020-02-15T14:08:59.937442Z",
     "start_time": "2020-02-15T14:08:59.932221Z"
    },
    "colab_type": "text",
    "id": "6WK969ziYeFi"
   },
   "source": [
    "Finally you need to modify SGD to support back-propagation by using the `forward_pass` and `backward_pass` functions.\n",
    "\n",
    "The `SGD` function takes as input:\n",
    "\n",
    "- `X_tr`: array of training data (vectors)\n",
    "- `Y_tr`: labels of `X_tr`\n",
    "- `W`: the weights of the network (dictionary)\n",
    "- `X_dev`: array of development (i.e. validation) data (vectors)\n",
    "- `Y_dev`: labels of `X_dev`\n",
    "- `lr`: learning rate\n",
    "- `dropout`: regularisation strength\n",
    "- `epochs`: number of full passes over the training data\n",
    "- `tolerance`: stop training if the difference between the current and previous validation loss is smaller than a threshold\n",
    "- `freeze_emb`: boolean value indicating whether the embedding weights will be updated (to be used by the backward pass function).\n",
    "- `print_progress`: flag for printing the training progress (train/validation loss)\n",
    "\n",
    "\n",
    "and returns:\n",
    "\n",
    "- `weights`: the weights learned\n",
    "- `training_loss_history`: an array with the average losses of the whole training set after each epoch\n",
    "- `validation_loss_history`: an array with the average losses of the whole development set after each epoch"
   ]
  },
  {
   "cell_type": "code",
   "execution_count": 27,
   "metadata": {
    "ExecuteTime": {
     "end_time": "2020-04-02T15:09:19.021428Z",
     "start_time": "2020-04-02T15:09:19.017835Z"
    },
    "colab": {},
    "colab_type": "code",
    "id": "W8w_lMrbYeFi"
   },
   "outputs": [],
   "source": [
    "def SGD(X_tr, Y_tr, W, X_dev=[], Y_dev=[], lr=0.001, \n",
    "        dropout=0.2, epochs=5, tolerance=0.001, freeze_emb=False, print_progress=True):\n",
    "    # get training and development data numbers\n",
    "    X_tr_nums = len(X_tr)\n",
    "    X_dev_nums = len(X_dev)\n",
    "    training_loss_history = []\n",
    "    validation_loss_history = []\n",
    "    initial_loss = np.inf\n",
    "    for i in range(epochs):\n",
    "        # set first value\n",
    "        training_loss = 0\n",
    "        for j in range(X_tr_nums):\n",
    "             # random choose data to train\n",
    "            index = random.sample(range(0,X_tr_nums),1)[0]\n",
    "            # get prediction values(output)\n",
    "            out_vals_ = forward_pass(X_tr[index], W, dropout_rate=dropout)\n",
    "            # update weights value\n",
    "            W = backward_pass(X_tr[index], Y_tr[index], W, out_vals_, lr=lr, freeze_emb=freeze_emb)\n",
    "            # calculate the training loss\n",
    "            training_loss = training_loss + categorical_loss(Y_tr[index],out_vals_['y'])\n",
    "         # same with training process\n",
    "        training_loss_history.append(training_loss)\n",
    "\n",
    "        dev_loss =0\n",
    "        for j in range(X_dev_nums):\n",
    "            index = random.sample(range(0,X_dev_nums),1)[0]\n",
    "            out_vals_ = forward_pass(X_dev[index], W, dropout_rate=dropout)\n",
    "            dev_loss +=categorical_loss(Y_dev[index],out_vals_['y'])\n",
    "        # set a condition which the loop will break when the absolute value of difference between\n",
    "        # the development loss and initial loss value is smaller than tolerance value\n",
    "        if abs(dev_loss - initial_loss)<tolerance:\n",
    "            break\n",
    "        intial_loss = dev_loss\n",
    "        # store the validation loss value so we can modify our hyperparameter\n",
    "        validation_loss_history.append(dev_loss)\n",
    "        if print_progress:\n",
    "               print('Epoch times: {}, Training loss value: {}, Validation loss: {}'.format(i, training_loss_history[-1], validation_loss_history[-1]))\n",
    "        \n",
    "    return W, training_loss_history, validation_loss_history"
   ]
  },
  {
   "cell_type": "markdown",
   "metadata": {
    "ExecuteTime": {
     "end_time": "2020-02-15T14:10:15.772383Z",
     "start_time": "2020-02-15T14:10:15.767855Z"
    },
    "colab_type": "text",
    "id": "ShF6FQnbYeFl"
   },
   "source": [
    "Now you are ready to train and evaluate you neural net. First, you need to define your network using the `network_weights` function followed by SGD with backprop:"
   ]
  },
  {
   "cell_type": "code",
   "execution_count": 28,
   "metadata": {
    "colab": {
     "base_uri": "https://localhost:8080/",
     "height": 1000
    },
    "colab_type": "code",
    "id": "5APXE4-tUzg2",
    "outputId": "e71b669e-182d-4b88-fd1f-761f3419c4a7"
   },
   "outputs": [
    {
     "name": "stdout",
     "output_type": "stream",
     "text": [
      "Shape W0 (8931, 500)\n",
      "Shape W1 (500, 3)\n",
      "Epoch times: 0, Training loss value: 2600.309010690197, Validation loss: 968.0751727922072\n",
      "Epoch times: 1, Training loss value: 2530.8971687832013, Validation loss: 945.3029972816872\n",
      "Epoch times: 2, Training loss value: 2467.8321154483438, Validation loss: 923.3643569192948\n",
      "Epoch times: 3, Training loss value: 2399.766114026776, Validation loss: 906.5032668785128\n",
      "Epoch times: 4, Training loss value: 2331.6717149165283, Validation loss: 889.6862233610539\n",
      "Epoch times: 5, Training loss value: 2283.4148988784864, Validation loss: 879.8747780407047\n",
      "Epoch times: 6, Training loss value: 2226.8155834496256, Validation loss: 851.0697908934355\n",
      "Epoch times: 7, Training loss value: 2179.9088670171795, Validation loss: 833.0474563090744\n",
      "Epoch times: 8, Training loss value: 2121.7954351898056, Validation loss: 823.1385683583885\n",
      "Epoch times: 9, Training loss value: 2065.134443265823, Validation loss: 806.9236224213142\n",
      "Epoch times: 10, Training loss value: 2008.508058945251, Validation loss: 789.2805695182809\n",
      "Epoch times: 11, Training loss value: 1965.0828740217414, Validation loss: 774.2577270086413\n",
      "Epoch times: 12, Training loss value: 1917.2705221930996, Validation loss: 745.757338279313\n",
      "Epoch times: 13, Training loss value: 1890.049094593021, Validation loss: 736.4036073048308\n",
      "Epoch times: 14, Training loss value: 1841.4579491287438, Validation loss: 736.4659378113323\n",
      "Epoch times: 15, Training loss value: 1800.9428718793936, Validation loss: 738.8264863830127\n",
      "Epoch times: 16, Training loss value: 1790.2868066941728, Validation loss: 699.3268865095339\n",
      "Epoch times: 17, Training loss value: 1725.052262303061, Validation loss: 706.1079803608645\n",
      "Epoch times: 18, Training loss value: 1704.9876082605467, Validation loss: 680.0725773185918\n",
      "Epoch times: 19, Training loss value: 1654.1449216210765, Validation loss: 689.331248709145\n",
      "Epoch times: 20, Training loss value: 1631.7727089441585, Validation loss: 675.2898831668164\n",
      "Epoch times: 21, Training loss value: 1658.1228616802189, Validation loss: 665.0092211096251\n",
      "Epoch times: 22, Training loss value: 1612.0581783176606, Validation loss: 661.9343596938388\n",
      "Epoch times: 23, Training loss value: 1561.5236050392991, Validation loss: 653.6034388144478\n",
      "Epoch times: 24, Training loss value: 1522.2646039372469, Validation loss: 645.4299745352972\n",
      "Epoch times: 25, Training loss value: 1544.4789021226172, Validation loss: 632.7696638399769\n",
      "Epoch times: 26, Training loss value: 1541.865981958291, Validation loss: 627.1801128735899\n",
      "Epoch times: 27, Training loss value: 1517.7700331394528, Validation loss: 617.1087505590925\n",
      "Epoch times: 28, Training loss value: 1477.8639739414903, Validation loss: 615.5518848438768\n",
      "Epoch times: 29, Training loss value: 1468.5074788328498, Validation loss: 611.6205860182394\n",
      "Epoch times: 30, Training loss value: 1434.3649072373776, Validation loss: 652.1425094334711\n",
      "Epoch times: 31, Training loss value: 1429.0646401674442, Validation loss: 600.2918430764652\n",
      "Epoch times: 32, Training loss value: 1395.6948494561507, Validation loss: 612.02453605412\n",
      "Epoch times: 33, Training loss value: 1422.9382464672503, Validation loss: 624.3668716196024\n",
      "Epoch times: 34, Training loss value: 1397.6731307021696, Validation loss: 573.529631264974\n",
      "Epoch times: 35, Training loss value: 1381.6924612363805, Validation loss: 561.5355838772442\n",
      "Epoch times: 36, Training loss value: 1379.9113016388703, Validation loss: 590.083455576326\n",
      "Epoch times: 37, Training loss value: 1321.0584093917205, Validation loss: 604.6410481775758\n",
      "Epoch times: 38, Training loss value: 1322.324938274178, Validation loss: 559.2242434471517\n",
      "Epoch times: 39, Training loss value: 1314.0355919646615, Validation loss: 557.049296180035\n",
      "Epoch times: 40, Training loss value: 1341.7502353682498, Validation loss: 539.888652144793\n",
      "Epoch times: 41, Training loss value: 1310.8531503927488, Validation loss: 559.9168962950104\n",
      "Epoch times: 42, Training loss value: 1328.505469464734, Validation loss: 547.0527308448878\n",
      "Epoch times: 43, Training loss value: 1287.1669360196531, Validation loss: 579.0494463855987\n",
      "Epoch times: 44, Training loss value: 1280.6648569599474, Validation loss: 542.821264604156\n",
      "Epoch times: 45, Training loss value: 1260.3792907647928, Validation loss: 576.4423532853399\n",
      "Epoch times: 46, Training loss value: 1324.8206473730397, Validation loss: 531.7295314085467\n",
      "Epoch times: 47, Training loss value: 1240.5069996192726, Validation loss: 555.5960061009658\n",
      "Epoch times: 48, Training loss value: 1271.1146322796803, Validation loss: 497.82315333411225\n",
      "Epoch times: 49, Training loss value: 1261.1668867818476, Validation loss: 520.6643290273901\n",
      "Epoch times: 50, Training loss value: 1301.813741299205, Validation loss: 539.9601511140359\n",
      "Epoch times: 51, Training loss value: 1230.6250671102166, Validation loss: 506.8675424366297\n",
      "Epoch times: 52, Training loss value: 1309.7664958475534, Validation loss: 540.2114045053182\n",
      "Epoch times: 53, Training loss value: 1261.7828493564068, Validation loss: 565.89489489078\n",
      "Epoch times: 54, Training loss value: 1227.326126863332, Validation loss: 543.9545651751476\n",
      "Epoch times: 55, Training loss value: 1195.8647458026076, Validation loss: 526.3952527949722\n",
      "Epoch times: 56, Training loss value: 1227.0173543283154, Validation loss: 534.652666549347\n",
      "Epoch times: 57, Training loss value: 1206.8313085195043, Validation loss: 528.7053112979206\n",
      "Epoch times: 58, Training loss value: 1290.6599490898082, Validation loss: 572.4140928451778\n",
      "Epoch times: 59, Training loss value: 1292.3202898983138, Validation loss: 578.3690162476422\n",
      "Epoch times: 60, Training loss value: 1181.1523851362654, Validation loss: 552.0888104925566\n",
      "Epoch times: 61, Training loss value: 1152.6290779334854, Validation loss: 520.4214212085453\n",
      "Epoch times: 62, Training loss value: 1234.0833464576333, Validation loss: 550.3110552176688\n",
      "Epoch times: 63, Training loss value: 1323.310135034301, Validation loss: 536.5296199132453\n",
      "Epoch times: 64, Training loss value: 1212.548844042016, Validation loss: 541.2166070989948\n",
      "Epoch times: 65, Training loss value: 1134.170209661325, Validation loss: 570.5248614739071\n",
      "Epoch times: 66, Training loss value: 1218.2533298718733, Validation loss: 578.7711220033375\n",
      "Epoch times: 67, Training loss value: 1251.4166791099078, Validation loss: 593.1580777697437\n",
      "Epoch times: 68, Training loss value: 1276.7273967396557, Validation loss: 475.69430149621434\n",
      "Epoch times: 69, Training loss value: 1132.8235101397302, Validation loss: 511.274839474846\n",
      "Epoch times: 70, Training loss value: 1233.3172441163406, Validation loss: 578.4665072156613\n",
      "Epoch times: 71, Training loss value: 1240.110740345166, Validation loss: 532.4469773370289\n",
      "Epoch times: 72, Training loss value: 1298.1569516912368, Validation loss: 541.0619950546885\n",
      "Epoch times: 73, Training loss value: 1179.0773917202944, Validation loss: 584.7138494490871\n",
      "Epoch times: 74, Training loss value: 1245.2394732990126, Validation loss: 592.9265808532016\n",
      "Epoch times: 75, Training loss value: 1234.8383574933393, Validation loss: 530.0107427626759\n",
      "Epoch times: 76, Training loss value: 1183.8570507222416, Validation loss: 542.0797440974571\n",
      "Epoch times: 77, Training loss value: 1166.5084879747249, Validation loss: 514.0407002317659\n",
      "Epoch times: 78, Training loss value: 1251.2298348233837, Validation loss: 500.68740750829704\n",
      "Epoch times: 79, Training loss value: 1234.5175364670142, Validation loss: 566.9880065322048\n",
      "Epoch times: 80, Training loss value: 1193.9920881052574, Validation loss: 580.1947723855601\n",
      "Epoch times: 81, Training loss value: 1273.749222526097, Validation loss: 516.9506943703861\n",
      "Epoch times: 82, Training loss value: 1265.0458682372002, Validation loss: 549.7454377955556\n",
      "Epoch times: 83, Training loss value: 1263.4240465201012, Validation loss: 508.2838845266586\n",
      "Epoch times: 84, Training loss value: 1130.5622122876389, Validation loss: 646.203726683527\n",
      "Epoch times: 85, Training loss value: 1311.6022244780577, Validation loss: 499.60845128247195\n",
      "Epoch times: 86, Training loss value: 1299.951638564801, Validation loss: 525.5341433878875\n",
      "Epoch times: 87, Training loss value: 1113.7475800501418, Validation loss: 590.6645909267902\n",
      "Epoch times: 88, Training loss value: 1365.0905486512554, Validation loss: 543.5202017691995\n"
     ]
    },
    {
     "name": "stdout",
     "output_type": "stream",
     "text": [
      "Epoch times: 89, Training loss value: 1127.5078392062806, Validation loss: 511.8954253769953\n",
      "Epoch times: 90, Training loss value: 1204.7479629546583, Validation loss: 585.3704651991085\n",
      "Epoch times: 91, Training loss value: 1320.7237110285173, Validation loss: 571.4031621953288\n",
      "Epoch times: 92, Training loss value: 1172.70148728041, Validation loss: 546.8774840716098\n",
      "Epoch times: 93, Training loss value: 1264.9499986901824, Validation loss: 550.0652324413106\n",
      "Epoch times: 94, Training loss value: 1213.0160671546626, Validation loss: 568.8164063051153\n",
      "Epoch times: 95, Training loss value: 1255.2794654181328, Validation loss: 633.1524999234567\n",
      "Epoch times: 96, Training loss value: 1250.9537235612988, Validation loss: 614.0456538323189\n",
      "Epoch times: 97, Training loss value: 1221.7475607572765, Validation loss: 555.1990001985589\n",
      "Epoch times: 98, Training loss value: 1294.3318237106016, Validation loss: 631.8311908959625\n",
      "Epoch times: 99, Training loss value: 1266.3438375316016, Validation loss: 590.0982429281423\n"
     ]
    }
   ],
   "source": [
    "W = network_weights(vocab_size=len(vocab),embedding_dim=500,hidden_dim=[], num_classes=3)   \n",
    "\n",
    "\n",
    "\n",
    "W, loss_tr, dev_loss = SGD(X_tr, Y_tr,\n",
    "                    W,\n",
    "                    X_dev=X_dev, \n",
    "                    Y_dev=Y_dev,\n",
    "                    lr=0.0002, \n",
    "                    dropout=0.13,\n",
    "                    freeze_emb=False,\n",
    "                    tolerance=0.00001,\n",
    "                    epochs= 100)"
   ]
  },
  {
   "cell_type": "markdown",
   "metadata": {
    "colab_type": "text",
    "id": "RCJVB0g3YeFq"
   },
   "source": [
    "Plot the learning process:"
   ]
  },
  {
   "cell_type": "code",
   "execution_count": 29,
   "metadata": {
    "ExecuteTime": {
     "end_time": "2020-04-02T14:27:15.716497Z",
     "start_time": "2020-04-02T14:27:15.612736Z"
    },
    "colab": {
     "base_uri": "https://localhost:8080/",
     "height": 295
    },
    "colab_type": "code",
    "id": "-vWhT_z7YeFq",
    "outputId": "84bae945-fb57-4d2f-9af0-96c4f2b1ff38"
   },
   "outputs": [
    {
     "data": {
      "image/png": "[encoded data removed]",
      "text/plain": [
       "<Figure size 432x288 with 1 Axes>"
      ]
     },
     "metadata": {
      "needs_background": "light"
     },
     "output_type": "display_data"
    }
   ],
   "source": [
    "plt.plot(range(len(loss_tr)), loss_tr, c = 'blue', label='training loss')\n",
    "plt.plot(range(len(dev_loss)), dev_loss,c= 'red', label = 'validation loss', )\n",
    "plt.xlabel('Epoch times')\n",
    "plt.ylabel('Loss value')\n",
    "plt.legend()\n",
    "plt.title('training and validation loss')\n",
    "plt.show()"
   ]
  },
  {
   "cell_type": "markdown",
   "metadata": {
    "colab_type": "text",
    "id": "QnZkV8fNYeFt"
   },
   "source": [
    "Compute accuracy, precision, recall and F1-Score:"
   ]
  },
  {
   "cell_type": "code",
   "execution_count": 30,
   "metadata": {
    "colab": {
     "base_uri": "https://localhost:8080/",
     "height": 85
    },
    "colab_type": "code",
    "id": "BtfGtwv4RgNX",
    "outputId": "414de325-8e8f-4cf1-f988-a8baf47022ac"
   },
   "outputs": [
    {
     "name": "stdout",
     "output_type": "stream",
     "text": [
      "Accuracy: 0.8533333333333334\n",
      "Precision: 0.8626678876678877\n",
      "Recall: 0.8533333333333334\n",
      "F1-Score: 0.8521161216942433\n"
     ]
    }
   ],
   "source": [
    "preds_te = [np.argmax(forward_pass(x, W, dropout_rate=0.0)['y']) for x,y in zip(X_te,Y_te)]\n",
    "print('Accuracy:', accuracy_score(Y_te,preds_te))\n",
    "print('Precision:', precision_score(Y_te,preds_te,average='macro'))\n",
    "print('Recall:', recall_score(Y_te,preds_te,average='macro'))\n",
    "print('F1-Score:', f1_score(Y_te,preds_te,average='macro'))"
   ]
  },
  {
   "cell_type": "code",
   "execution_count": 33,
   "metadata": {
    "colab": {
     "base_uri": "https://localhost:8080/",
     "height": 34
    },
    "colab_type": "code",
    "id": "aMz2K5dhWAVK",
    "outputId": "e7f3f0b2-ad8f-4f2b-aef0-aadf768b38b9"
   },
   "outputs": [
    {
     "data": {
      "text/plain": [
       "2892"
      ]
     },
     "execution_count": 33,
     "metadata": {},
     "output_type": "execute_result"
    }
   ],
   "source": [
    "del W;gc.collect()"
   ]
  },
  {
   "cell_type": "markdown",
   "metadata": {
    "colab_type": "text",
    "id": "xSxfgKPtYeFx"
   },
   "source": [
    "### Discuss how did you choose model hyperparameters ? "
   ]
  },
  {
   "cell_type": "code",
   "execution_count": 37,
   "metadata": {
    "colab": {
     "base_uri": "https://localhost:8080/",
     "height": 150
    },
    "colab_type": "code",
    "id": "fpwIqMkGYeFx",
    "outputId": "3f5367f8-f772-4655-958a-18142ff34ab8"
   },
   "outputs": [
    {
     "data": {
      "text/html": [
       "<div>\n",
       "<style scoped>\n",
       "    .dataframe tbody tr th:only-of-type {\n",
       "        vertical-align: middle;\n",
       "    }\n",
       "\n",
       "    .dataframe tbody tr th {\n",
       "        vertical-align: top;\n",
       "    }\n",
       "\n",
       "    .dataframe thead th {\n",
       "        text-align: right;\n",
       "    }\n",
       "</style>\n",
       "<table border=\"1\" class=\"dataframe\">\n",
       "  <thead>\n",
       "    <tr style=\"text-align: right;\">\n",
       "      <th></th>\n",
       "      <th>embedding size</th>\n",
       "      <th>learning_rate</th>\n",
       "      <th>epoch times</th>\n",
       "      <th>training_loss</th>\n",
       "      <th>validation_loss</th>\n",
       "      <th>F1_score</th>\n",
       "    </tr>\n",
       "  </thead>\n",
       "  <tbody>\n",
       "    <tr>\n",
       "      <td>0</td>\n",
       "      <td>300</td>\n",
       "      <td>0.0001</td>\n",
       "      <td>50</td>\n",
       "      <td>1859.363971</td>\n",
       "      <td>726.056014</td>\n",
       "      <td>0.767048</td>\n",
       "    </tr>\n",
       "    <tr>\n",
       "      <td>1</td>\n",
       "      <td>300</td>\n",
       "      <td>0.0002</td>\n",
       "      <td>50</td>\n",
       "      <td>1523.284103</td>\n",
       "      <td>609.565260</td>\n",
       "      <td>0.778959</td>\n",
       "    </tr>\n",
       "    <tr>\n",
       "      <td>2</td>\n",
       "      <td>300</td>\n",
       "      <td>0.0003</td>\n",
       "      <td>50</td>\n",
       "      <td>1389.563721</td>\n",
       "      <td>563.135827</td>\n",
       "      <td>0.800343</td>\n",
       "    </tr>\n",
       "    <tr>\n",
       "      <td>3</td>\n",
       "      <td>300</td>\n",
       "      <td>0.0001</td>\n",
       "      <td>100</td>\n",
       "      <td>1510.786664</td>\n",
       "      <td>624.218801</td>\n",
       "      <td>0.780528</td>\n",
       "    </tr>\n",
       "    <tr>\n",
       "      <td>4</td>\n",
       "      <td>300</td>\n",
       "      <td>0.0002</td>\n",
       "      <td>100</td>\n",
       "      <td>1337.724191</td>\n",
       "      <td>575.832935</td>\n",
       "      <td>0.794092</td>\n",
       "    </tr>\n",
       "    <tr>\n",
       "      <td>5</td>\n",
       "      <td>300</td>\n",
       "      <td>0.0003</td>\n",
       "      <td>100</td>\n",
       "      <td>1403.003483</td>\n",
       "      <td>617.541038</td>\n",
       "      <td>0.801646</td>\n",
       "    </tr>\n",
       "    <tr>\n",
       "      <td>6</td>\n",
       "      <td>500</td>\n",
       "      <td>0.0001</td>\n",
       "      <td>50</td>\n",
       "      <td>1546.848400</td>\n",
       "      <td>622.759730</td>\n",
       "      <td>0.823929</td>\n",
       "    </tr>\n",
       "    <tr>\n",
       "      <td>7</td>\n",
       "      <td>500</td>\n",
       "      <td>0.0002</td>\n",
       "      <td>50</td>\n",
       "      <td>1260.862523</td>\n",
       "      <td>520.833905</td>\n",
       "      <td>0.831746</td>\n",
       "    </tr>\n",
       "    <tr>\n",
       "      <td>8</td>\n",
       "      <td>500</td>\n",
       "      <td>0.0003</td>\n",
       "      <td>50</td>\n",
       "      <td>1228.350011</td>\n",
       "      <td>507.423733</td>\n",
       "      <td>0.852116</td>\n",
       "    </tr>\n",
       "    <tr>\n",
       "      <td>9</td>\n",
       "      <td>500</td>\n",
       "      <td>0.0001</td>\n",
       "      <td>100</td>\n",
       "      <td>1247.861820</td>\n",
       "      <td>554.763552</td>\n",
       "      <td>0.852040</td>\n",
       "    </tr>\n",
       "    <tr>\n",
       "      <td>10</td>\n",
       "      <td>500</td>\n",
       "      <td>0.0002</td>\n",
       "      <td>100</td>\n",
       "      <td>1268.311155</td>\n",
       "      <td>588.993825</td>\n",
       "      <td>0.858919</td>\n",
       "    </tr>\n",
       "    <tr>\n",
       "      <td>11</td>\n",
       "      <td>500</td>\n",
       "      <td>0.0003</td>\n",
       "      <td>100</td>\n",
       "      <td>1494.924479</td>\n",
       "      <td>704.135099</td>\n",
       "      <td>0.858919</td>\n",
       "    </tr>\n",
       "  </tbody>\n",
       "</table>\n",
       "</div>"
      ],
      "text/plain": [
       "    embedding size  learning_rate  epoch times  training_loss  \\\n",
       "0              300         0.0001           50    1859.363971   \n",
       "1              300         0.0002           50    1523.284103   \n",
       "2              300         0.0003           50    1389.563721   \n",
       "3              300         0.0001          100    1510.786664   \n",
       "4              300         0.0002          100    1337.724191   \n",
       "5              300         0.0003          100    1403.003483   \n",
       "6              500         0.0001           50    1546.848400   \n",
       "7              500         0.0002           50    1260.862523   \n",
       "8              500         0.0003           50    1228.350011   \n",
       "9              500         0.0001          100    1247.861820   \n",
       "10             500         0.0002          100    1268.311155   \n",
       "11             500         0.0003          100    1494.924479   \n",
       "\n",
       "    validation_loss  F1_score  \n",
       "0        726.056014  0.767048  \n",
       "1        609.565260  0.778959  \n",
       "2        563.135827  0.800343  \n",
       "3        624.218801  0.780528  \n",
       "4        575.832935  0.794092  \n",
       "5        617.541038  0.801646  \n",
       "6        622.759730  0.823929  \n",
       "7        520.833905  0.831746  \n",
       "8        507.423733  0.852116  \n",
       "9        554.763552  0.852040  \n",
       "10       588.993825  0.858919  \n",
       "11       704.135099  0.858919  "
      ]
     },
     "execution_count": 37,
     "metadata": {},
     "output_type": "execute_result"
    }
   ],
   "source": [
    "results = pd.read_csv(\"./data_topic/without_embedding.csv\")\n",
    "results"
   ]
  },
  {
   "cell_type": "markdown",
   "metadata": {
    "colab": {},
    "colab_type": "code",
    "id": "fZg2XWUw9J5-"
   },
   "source": [
    "First set the initial value of the learning rate and training times, then conduct model training, and adjust according to the direction of the obtained loss map. If the overall loss value in the image has been declining, it means that we can increase the learning rate and training slightly. Times, but if the loss value has a tendency to become larger at a certain value, it means that we need to reduce the learning rate. Until the obtained loss value reaches a certain stable point, then the parameters we get are relatively good. In this question, we could see the best parameters combination is embedding_size = 500, learning_rate = 0.0002, epoch times = 100, we could get same F1 score when learning_rate equal to 0.0003, but the loss graph is not good."
   ]
  },
  {
   "cell_type": "markdown",
   "metadata": {
    "colab_type": "text",
    "id": "gYOjFW1EYeF0"
   },
   "source": [
    "# Use Pre-trained Embeddings\n",
    "\n",
    "Now re-train the network using GloVe pre-trained embeddings. You need to modify the `backward_pass` function above to stop computing gradients and updating weights of the embedding matrix.\n",
    "\n",
    "Use the function below to obtain the embedding martix for your vocabulary."
   ]
  },
  {
   "cell_type": "code",
   "execution_count": 29,
   "metadata": {
    "ExecuteTime": {
     "end_time": "2020-04-02T14:27:32.020697Z",
     "start_time": "2020-04-02T14:27:32.015733Z"
    },
    "colab": {},
    "colab_type": "code",
    "id": "Mlz4kDiGYeF1"
   },
   "outputs": [],
   "source": [
    "def get_glove_embeddings(f_zip, f_txt, word2id, emb_size=300):\n",
    "    \n",
    "    w_emb = np.zeros((len(word2id), emb_size))\n",
    "    \n",
    "    with zipfile.ZipFile(f_zip) as z:\n",
    "        with z.open(f_txt) as f:\n",
    "            print('start laod glove')\n",
    "            for line in f:\n",
    "                line = line.decode('utf-8')\n",
    "                word = line.split()[0]\n",
    "                     \n",
    "                if word in vocab:\n",
    "                    emb = np.array(line.strip('\\n').split()[1:]).astype(np.float32)\n",
    "                    w_emb[word2id[word]] +=emb\n",
    "    print('laod glove success')\n",
    "    return w_emb"
   ]
  },
  {
   "cell_type": "code",
   "execution_count": 30,
   "metadata": {
    "ExecuteTime": {
     "end_time": "2020-04-02T14:28:54.548613Z",
     "start_time": "2020-04-02T14:27:32.780248Z"
    },
    "colab": {
     "base_uri": "https://localhost:8080/",
     "height": 51
    },
    "colab_type": "code",
    "id": "Uyv1F3IBYeF4",
    "outputId": "faf469a0-b378-4192-9f53-b5f7fff2b430"
   },
   "outputs": [
    {
     "name": "stdout",
     "output_type": "stream",
     "text": [
      "start laod glove\n",
      "laod glove success\n"
     ]
    }
   ],
   "source": [
    "w_glove = get_glove_embeddings(\"glove.840B.300d.zip\",\"glove.840B.300d.txt\",word2id)"
   ]
  },
  {
   "cell_type": "markdown",
   "metadata": {
    "colab_type": "text",
    "id": "I989E81QYeF9"
   },
   "source": [
    "First, initialise the weights of your network using the `network_weights` function. Second, replace the weigths of the embedding matrix with `w_glove`. Finally, train the network by freezing the embedding weights: "
   ]
  },
  {
   "cell_type": "code",
   "execution_count": 31,
   "metadata": {
    "ExecuteTime": {
     "end_time": "2020-04-02T14:30:11.121198Z",
     "start_time": "2020-04-02T14:29:24.946124Z"
    },
    "colab": {
     "base_uri": "https://localhost:8080/",
     "height": 1000
    },
    "colab_type": "code",
    "id": "NQF33ZmiYeF9",
    "outputId": "30970133-25c2-48e2-d855-5911fcfb381d"
   },
   "outputs": [
    {
     "name": "stdout",
     "output_type": "stream",
     "text": [
      "Epoch times: 0, Training loss value: 2467.917977031668, Validation loss: 903.4841431117256\n",
      "Epoch times: 1, Training loss value: 2354.42828622795, Validation loss: 860.3986879352661\n",
      "Epoch times: 2, Training loss value: 2248.2384252345632, Validation loss: 834.0434956958086\n",
      "Epoch times: 3, Training loss value: 2137.3188561763304, Validation loss: 795.5952742495875\n",
      "Epoch times: 4, Training loss value: 2064.9585644565473, Validation loss: 762.6590469633204\n",
      "Epoch times: 5, Training loss value: 1989.408171736267, Validation loss: 743.722475859812\n",
      "Epoch times: 6, Training loss value: 1900.885831220011, Validation loss: 710.7869113690413\n",
      "Epoch times: 7, Training loss value: 1853.769573813848, Validation loss: 691.7333611874933\n",
      "Epoch times: 8, Training loss value: 1793.2533923074882, Validation loss: 678.6815405578245\n",
      "Epoch times: 9, Training loss value: 1733.4157319108836, Validation loss: 640.3327496193023\n",
      "Epoch times: 10, Training loss value: 1703.7300508552582, Validation loss: 623.3990071024897\n",
      "Epoch times: 11, Training loss value: 1621.0973730408261, Validation loss: 627.1207912518945\n",
      "Epoch times: 12, Training loss value: 1589.9453883365788, Validation loss: 610.5348937965639\n",
      "Epoch times: 13, Training loss value: 1555.4308922820405, Validation loss: 591.4268992970894\n",
      "Epoch times: 14, Training loss value: 1524.987076291921, Validation loss: 591.9729049569281\n",
      "Epoch times: 15, Training loss value: 1480.5979402683697, Validation loss: 582.2125327566927\n",
      "Epoch times: 16, Training loss value: 1460.2831002781386, Validation loss: 551.0180597158575\n",
      "Epoch times: 17, Training loss value: 1423.8289747073738, Validation loss: 535.9209631408664\n",
      "Epoch times: 18, Training loss value: 1401.2762978238006, Validation loss: 544.8871149001665\n",
      "Epoch times: 19, Training loss value: 1346.9341783345635, Validation loss: 524.5360993357729\n",
      "Epoch times: 20, Training loss value: 1324.258369750955, Validation loss: 532.2814540264964\n",
      "Epoch times: 21, Training loss value: 1313.147370685778, Validation loss: 525.6972068084519\n",
      "Epoch times: 22, Training loss value: 1306.663324526487, Validation loss: 504.09239851488553\n",
      "Epoch times: 23, Training loss value: 1261.042247583068, Validation loss: 490.94350196086646\n",
      "Epoch times: 24, Training loss value: 1248.4988220493522, Validation loss: 492.597101714419\n",
      "Epoch times: 25, Training loss value: 1240.6455966765716, Validation loss: 495.68861253956345\n",
      "Epoch times: 26, Training loss value: 1234.8285325323156, Validation loss: 467.11120385671717\n",
      "Epoch times: 27, Training loss value: 1216.4068267676869, Validation loss: 482.0161640711636\n",
      "Epoch times: 28, Training loss value: 1168.0974898290774, Validation loss: 454.3518006192899\n",
      "Epoch times: 29, Training loss value: 1181.044780484498, Validation loss: 485.7828574465522\n",
      "Epoch times: 30, Training loss value: 1163.5122412453134, Validation loss: 480.3943931711258\n",
      "Epoch times: 31, Training loss value: 1142.2470199859079, Validation loss: 457.3840256798139\n",
      "Epoch times: 32, Training loss value: 1163.4014293390605, Validation loss: 462.1225430311755\n",
      "Epoch times: 33, Training loss value: 1168.285897551917, Validation loss: 463.28184659050413\n",
      "Epoch times: 34, Training loss value: 1141.286774549892, Validation loss: 439.02887223555865\n",
      "Epoch times: 35, Training loss value: 1137.049043410486, Validation loss: 476.1826530593836\n",
      "Epoch times: 36, Training loss value: 1125.201164061092, Validation loss: 448.8085125287173\n",
      "Epoch times: 37, Training loss value: 1127.2859370169826, Validation loss: 419.34915538550797\n",
      "Epoch times: 38, Training loss value: 1121.6033695970787, Validation loss: 447.2273439433933\n",
      "Epoch times: 39, Training loss value: 1088.7365717760047, Validation loss: 408.64425553066184\n",
      "Epoch times: 40, Training loss value: 1059.8914790456595, Validation loss: 380.9956027332181\n",
      "Epoch times: 41, Training loss value: 1067.0629553590431, Validation loss: 441.1064347991247\n",
      "Epoch times: 42, Training loss value: 1113.50092472889, Validation loss: 409.5807916093313\n",
      "Epoch times: 43, Training loss value: 1116.8737745037492, Validation loss: 451.55195300083244\n",
      "Epoch times: 44, Training loss value: 1040.7170853199482, Validation loss: 434.10701500503075\n",
      "Epoch times: 45, Training loss value: 1007.9711777333245, Validation loss: 436.10330773310415\n",
      "Epoch times: 46, Training loss value: 1042.238536597532, Validation loss: 423.00049764873063\n",
      "Epoch times: 47, Training loss value: 1047.7335039820816, Validation loss: 413.928769938251\n",
      "Epoch times: 48, Training loss value: 1072.8843428664452, Validation loss: 393.8286871205731\n",
      "Epoch times: 49, Training loss value: 1055.5719369050325, Validation loss: 420.5245876915898\n",
      "Epoch times: 50, Training loss value: 1023.2690334110162, Validation loss: 424.7840993813432\n",
      "Epoch times: 51, Training loss value: 1005.4785776448662, Validation loss: 394.26533036777926\n",
      "Epoch times: 52, Training loss value: 961.6373258337592, Validation loss: 401.01094485680335\n",
      "Epoch times: 53, Training loss value: 1008.9563884048554, Validation loss: 427.0506256048582\n",
      "Epoch times: 54, Training loss value: 1026.0354126027603, Validation loss: 389.81566020589685\n",
      "Epoch times: 55, Training loss value: 997.5765857177264, Validation loss: 415.25797719140724\n",
      "Epoch times: 56, Training loss value: 1023.1004633284307, Validation loss: 391.1124646967486\n",
      "Epoch times: 57, Training loss value: 1020.5165596602169, Validation loss: 416.2743462448626\n",
      "Epoch times: 58, Training loss value: 1004.1785626715109, Validation loss: 427.7465517560844\n",
      "Epoch times: 59, Training loss value: 956.8593196827848, Validation loss: 396.5843668609718\n",
      "Epoch times: 60, Training loss value: 1019.744865896157, Validation loss: 403.0787424975895\n",
      "Epoch times: 61, Training loss value: 926.066332285008, Validation loss: 371.60155712643984\n",
      "Epoch times: 62, Training loss value: 998.9555767744932, Validation loss: 421.81466073277215\n",
      "Epoch times: 63, Training loss value: 937.0328630684855, Validation loss: 390.1516510439466\n",
      "Epoch times: 64, Training loss value: 929.1136500334674, Validation loss: 405.4748953866426\n",
      "Epoch times: 65, Training loss value: 922.6346419008886, Validation loss: 402.6806475184956\n",
      "Epoch times: 66, Training loss value: 943.1748746641011, Validation loss: 383.4942284555159\n",
      "Epoch times: 67, Training loss value: 937.2023553610208, Validation loss: 370.9436912793055\n",
      "Epoch times: 68, Training loss value: 913.6240418204637, Validation loss: 360.2642451976672\n",
      "Epoch times: 69, Training loss value: 934.846158491006, Validation loss: 376.8496207301091\n",
      "Epoch times: 70, Training loss value: 973.4877672387144, Validation loss: 367.970375533718\n",
      "Epoch times: 71, Training loss value: 955.3462931544931, Validation loss: 353.090341973729\n",
      "Epoch times: 72, Training loss value: 982.8477755630712, Validation loss: 373.2231341207363\n",
      "Epoch times: 73, Training loss value: 942.8764356769465, Validation loss: 345.04646874402823\n",
      "Epoch times: 74, Training loss value: 939.4369581856361, Validation loss: 343.08438639467624\n",
      "Epoch times: 75, Training loss value: 954.6577258437363, Validation loss: 383.68715060587004\n",
      "Epoch times: 76, Training loss value: 943.1912726180376, Validation loss: 359.6370363219164\n",
      "Epoch times: 77, Training loss value: 931.333741208064, Validation loss: 360.77647284235417\n",
      "Epoch times: 78, Training loss value: 984.4714201651761, Validation loss: 389.2676906048325\n",
      "Epoch times: 79, Training loss value: 971.0369778991409, Validation loss: 393.40880891125573\n",
      "Epoch times: 80, Training loss value: 920.3537959029679, Validation loss: 359.0996211363546\n",
      "Epoch times: 81, Training loss value: 920.1073431812327, Validation loss: 373.4516568303137\n",
      "Epoch times: 82, Training loss value: 907.9606962240828, Validation loss: 394.49914856333197\n",
      "Epoch times: 83, Training loss value: 923.8999974778013, Validation loss: 379.9563064011565\n",
      "Epoch times: 84, Training loss value: 913.5188575425943, Validation loss: 353.5715773135997\n",
      "Epoch times: 85, Training loss value: 917.2858968363144, Validation loss: 380.6772573958317\n",
      "Epoch times: 86, Training loss value: 915.1772037985104, Validation loss: 356.9467468997344\n",
      "Epoch times: 87, Training loss value: 935.3651599898536, Validation loss: 349.4140386078702\n",
      "Epoch times: 88, Training loss value: 885.7063208406405, Validation loss: 361.8148314555498\n"
     ]
    },
    {
     "name": "stdout",
     "output_type": "stream",
     "text": [
      "Epoch times: 89, Training loss value: 896.1286106142356, Validation loss: 372.459680096979\n",
      "Epoch times: 90, Training loss value: 899.3603377451476, Validation loss: 340.71725110836064\n",
      "Epoch times: 91, Training loss value: 911.5781268796326, Validation loss: 358.24234512782846\n",
      "Epoch times: 92, Training loss value: 923.049157667369, Validation loss: 354.9606972690713\n",
      "Epoch times: 93, Training loss value: 864.8780719106525, Validation loss: 371.8573953773691\n",
      "Epoch times: 94, Training loss value: 850.2862776332147, Validation loss: 358.4155600099787\n",
      "Epoch times: 95, Training loss value: 882.9749645504908, Validation loss: 391.0189862475687\n",
      "Epoch times: 96, Training loss value: 860.4140713200528, Validation loss: 322.7755889559283\n",
      "Epoch times: 97, Training loss value: 866.3305496660637, Validation loss: 356.6112880158469\n",
      "Epoch times: 98, Training loss value: 846.0914620781159, Validation loss: 363.19752962109555\n",
      "Epoch times: 99, Training loss value: 903.0529927617876, Validation loss: 342.0430828937847\n"
     ]
    }
   ],
   "source": [
    "W = network_weights(vocab_size=len(vocab),embedding_dim=300,hidden_dim=[], num_classes=3)\n",
    "W[0] = w_glove\n",
    "\n",
    "W, loss_tr2, dev_loss2 = SGD(X_tr \n",
    "                ,Y_tr\n",
    "                ,W\n",
    "                ,X_dev=X_dev\n",
    "                ,Y_dev=Y_dev\n",
    "                ,lr=0.0003\n",
    "                ,dropout=0.13\n",
    "                ,freeze_emb=True\n",
    "                ,tolerance=0.001\n",
    "                ,epochs= 100)"
   ]
  },
  {
   "cell_type": "code",
   "execution_count": 32,
   "metadata": {
    "colab": {
     "base_uri": "https://localhost:8080/",
     "height": 295
    },
    "colab_type": "code",
    "id": "NQmEUj16RM5l",
    "outputId": "64ba9e38-cfd0-4127-ac08-bf8deedf9660"
   },
   "outputs": [
    {
     "data": {
      "image/png": "[encoded data removed]",
      "text/plain": [
       "<Figure size 432x288 with 1 Axes>"
      ]
     },
     "metadata": {
      "needs_background": "light"
     },
     "output_type": "display_data"
    }
   ],
   "source": [
    "plt.plot(range(len(loss_tr2)), loss_tr2, c = 'blue', label='training loss')\n",
    "plt.plot(range(len(dev_loss2)), dev_loss2,c= 'red', label = 'validation loss', )\n",
    "plt.xlabel('Epoch times')\n",
    "plt.ylabel('Loss value')\n",
    "plt.legend()\n",
    "plt.title('training and validation loss of pre-training')\n",
    "plt.show()"
   ]
  },
  {
   "cell_type": "code",
   "execution_count": 33,
   "metadata": {
    "ExecuteTime": {
     "end_time": "2020-04-02T15:12:00.815184Z",
     "start_time": "2020-04-02T15:12:00.812563Z"
    },
    "colab": {
     "base_uri": "https://localhost:8080/",
     "height": 85
    },
    "colab_type": "code",
    "id": "U6lxDnBtYeGB",
    "outputId": "d43cfb70-cf90-4319-90ad-b684764f5b75"
   },
   "outputs": [
    {
     "name": "stdout",
     "output_type": "stream",
     "text": [
      "Accuracy: 0.92\n",
      "Precision: 0.9220679012345679\n",
      "Recall: 0.9199999999999999\n",
      "F1-Score: 0.9203296703296703\n"
     ]
    }
   ],
   "source": [
    "preds_te = [np.argmax(forward_pass(x, W, dropout_rate=0.0)['y']) for x,y in zip(X_te,Y_te)]\n",
    "print('Accuracy:', accuracy_score(Y_te,preds_te))\n",
    "print('Precision:', precision_score(Y_te,preds_te,average='macro'))\n",
    "print('Recall:', recall_score(Y_te,preds_te,average='macro'))\n",
    "print('F1-Score:', f1_score(Y_te,preds_te,average='macro'))\n"
   ]
  },
  {
   "cell_type": "code",
   "execution_count": 34,
   "metadata": {
    "colab": {
     "base_uri": "https://localhost:8080/",
     "height": 34
    },
    "colab_type": "code",
    "id": "6Kqaf2gHRMLT",
    "outputId": "2b311c44-48de-4bff-d415-d65a4a614dc1"
   },
   "outputs": [
    {
     "data": {
      "text/plain": [
       "2718"
      ]
     },
     "execution_count": 34,
     "metadata": {},
     "output_type": "execute_result"
    }
   ],
   "source": [
    "del W;gc.collect()"
   ]
  },
  {
   "cell_type": "markdown",
   "metadata": {
    "colab_type": "text",
    "id": "4uj9BXJEYeGF"
   },
   "source": [
    "### Discuss how did you choose model hyperparameters ? "
   ]
  },
  {
   "cell_type": "code",
   "execution_count": 35,
   "metadata": {
    "colab": {
     "base_uri": "https://localhost:8080/",
     "height": 130
    },
    "colab_type": "code",
    "id": "njCjT5CcYeGF",
    "outputId": "4f95205e-0657-4b7f-9623-81e26b23da24"
   },
   "outputs": [
    {
     "data": {
      "text/html": [
       "<div>\n",
       "<style scoped>\n",
       "    .dataframe tbody tr th:only-of-type {\n",
       "        vertical-align: middle;\n",
       "    }\n",
       "\n",
       "    .dataframe tbody tr th {\n",
       "        vertical-align: top;\n",
       "    }\n",
       "\n",
       "    .dataframe thead th {\n",
       "        text-align: right;\n",
       "    }\n",
       "</style>\n",
       "<table border=\"1\" class=\"dataframe\">\n",
       "  <thead>\n",
       "    <tr style=\"text-align: right;\">\n",
       "      <th></th>\n",
       "      <th>learning_rate</th>\n",
       "      <th>epochs</th>\n",
       "      <th>training_loss</th>\n",
       "      <th>dev_loss</th>\n",
       "      <th>F1-score</th>\n",
       "    </tr>\n",
       "  </thead>\n",
       "  <tbody>\n",
       "    <tr>\n",
       "      <td>0</td>\n",
       "      <td>0.0001</td>\n",
       "      <td>50</td>\n",
       "      <td>1480.002935</td>\n",
       "      <td>572.505861</td>\n",
       "      <td>0.901070</td>\n",
       "    </tr>\n",
       "    <tr>\n",
       "      <td>1</td>\n",
       "      <td>0.0002</td>\n",
       "      <td>50</td>\n",
       "      <td>1184.898596</td>\n",
       "      <td>443.424084</td>\n",
       "      <td>0.907425</td>\n",
       "    </tr>\n",
       "    <tr>\n",
       "      <td>2</td>\n",
       "      <td>0.0003</td>\n",
       "      <td>50</td>\n",
       "      <td>1057.130719</td>\n",
       "      <td>396.984397</td>\n",
       "      <td>0.913868</td>\n",
       "    </tr>\n",
       "    <tr>\n",
       "      <td>3</td>\n",
       "      <td>0.0001</td>\n",
       "      <td>100</td>\n",
       "      <td>1157.697179</td>\n",
       "      <td>473.807324</td>\n",
       "      <td>0.907425</td>\n",
       "    </tr>\n",
       "    <tr>\n",
       "      <td>4</td>\n",
       "      <td>0.0002</td>\n",
       "      <td>100</td>\n",
       "      <td>976.941802</td>\n",
       "      <td>369.611414</td>\n",
       "      <td>0.920330</td>\n",
       "    </tr>\n",
       "    <tr>\n",
       "      <td>5</td>\n",
       "      <td>0.0003</td>\n",
       "      <td>100</td>\n",
       "      <td>903.052993</td>\n",
       "      <td>342.043083</td>\n",
       "      <td>0.920330</td>\n",
       "    </tr>\n",
       "  </tbody>\n",
       "</table>\n",
       "</div>"
      ],
      "text/plain": [
       "   learning_rate  epochs  training_loss    dev_loss  F1-score\n",
       "0         0.0001      50    1480.002935  572.505861  0.901070\n",
       "1         0.0002      50    1184.898596  443.424084  0.907425\n",
       "2         0.0003      50    1057.130719  396.984397  0.913868\n",
       "3         0.0001     100    1157.697179  473.807324  0.907425\n",
       "4         0.0002     100     976.941802  369.611414  0.920330\n",
       "5         0.0003     100     903.052993  342.043083  0.920330"
      ]
     },
     "execution_count": 35,
     "metadata": {},
     "output_type": "execute_result"
    }
   ],
   "source": [
    "results = pd.read_csv(\"./data_topic/with_embedding.csv\")\n",
    "results"
   ]
  },
  {
   "cell_type": "markdown",
   "metadata": {
    "colab": {},
    "colab_type": "code",
    "id": "4N3NAGhM_IaQ"
   },
   "source": [
    "Yes, the F1 socre achieve about 0.9, it's better than without pre-training one\n",
    "It's a little different, we can't use embedding size = 500, so from the previous tuning experience, we fix the embedding size to 300, First set the initial value of the learning rate and training times, then conduct model training, and adjust according to the direction of the obtained loss map. If the overall loss value in the image has been declining, it means that we can increase the learning rate and training slightly. Times, but if the loss value has a tendency to become larger at a certain value, it means that we need to reduce the learning rate. Until the obtained loss value reaches a certain stable point, then the parameters we get are relatively good, from the table, we can find the best combination is learaning_rate = 0.0003, epochs = 100, but we can see the F1 score difference among these parameter combination is small, the smallest value is 0.901070, the best value is 0.920330"
   ]
  },
  {
   "cell_type": "markdown",
   "metadata": {
    "colab_type": "text",
    "id": "mJ9jpzfKYeGJ"
   },
   "source": [
    "# Extend to support deeper architectures (Bonus)\n",
    "\n",
    "Extend the network to support back-propagation for more hidden layers. You need to modify the `backward_pass` function above to compute gradients and update the weights between intermediate hidden layers. Finally, train and evaluate a network with a deeper architecture. "
   ]
  },
  {
   "cell_type": "code",
   "execution_count": null,
   "metadata": {
    "ExecuteTime": {
     "end_time": "2020-04-02T14:58:51.764619Z",
     "start_time": "2020-04-02T14:58:47.483690Z"
    },
    "colab": {},
    "colab_type": "code",
    "id": "hFtNdlgMYeGK"
   },
   "outputs": [],
   "source": []
  },
  {
   "cell_type": "code",
   "execution_count": null,
   "metadata": {
    "ExecuteTime": {
     "end_time": "2020-04-02T15:11:51.994986Z",
     "start_time": "2020-04-02T15:11:51.992563Z"
    },
    "colab": {},
    "colab_type": "code",
    "id": "GTL23XCUYeGP"
   },
   "outputs": [],
   "source": [
    "preds_te = [np.argmax(forward_pass(x, W, dropout_rate=0.0)['y']) for x,y in zip(X_te,Y_te)]\n",
    "print('Accuracy:', accuracy_score(Y_te,preds_te))\n",
    "print('Precision:', precision_score(Y_te,preds_te,average='macro'))\n",
    "print('Recall:', recall_score(Y_te,preds_te,average='macro'))\n",
    "print('F1-Score:', f1_score(Y_te,preds_te,average='macro'))"
   ]
  },
  {
   "cell_type": "markdown",
   "metadata": {
    "colab_type": "text",
    "id": "zat6hrrRYeGT"
   },
   "source": [
    "## Full Results\n",
    "\n",
    "Add your final results here:\n",
    "\n",
    "| Model | Precision  | Recall  | F1-Score  | Accuracy\n",
    "|:-:|:-:|:-:|:-:|:-:|\n",
    "| Average Embedding  |  0.8721804511278196  | 0.86 |0.8589193825042881   | 0.86|\n",
    "| Average Embedding (Pre-trained)  |0.92  | 0.9220679012345679  |0.9199999999999999 |0.9203296703296703   |\n",
    "| Average Embedding (Pre-trained) + X hidden layers (BONUS)   |   |   |   |   |\n"
   ]
  },
  {
   "cell_type": "code",
   "execution_count": null,
   "metadata": {
    "colab": {},
    "colab_type": "code",
    "id": "WYy9-u0PYeGU"
   },
   "outputs": [],
   "source": []
  }
 ],
 "metadata": {
  "colab": {
   "collapsed_sections": [],
   "name": "result1-Copy1.ipynb",
   "provenance": []
  },
  "kernelspec": {
   "display_name": "Python 3",
   "language": "python",
   "name": "python3"
  },
  "language_info": {
   "codemirror_mode": {
    "name": "ipython",
    "version": 3
   },
   "file_extension": ".py",
   "mimetype": "text/x-python",
   "name": "python",
   "nbconvert_exporter": "python",
   "pygments_lexer": "ipython3",
   "version": "3.7.4"
  }
 },
 "nbformat": 4,
 "nbformat_minor": 1
}
