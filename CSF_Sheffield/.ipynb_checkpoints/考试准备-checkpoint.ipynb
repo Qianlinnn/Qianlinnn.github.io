{
 "cells": [
  {
   "cell_type": "code",
   "execution_count": 2,
   "metadata": {},
   "outputs": [],
   "source": [
    "def ext_euclid(a, b):\n",
    "    old_s,s=1,0\n",
    "    old_t,t=0,1\n",
    "    old_r,r=a,b\n",
    "    if b == 0:\n",
    "        return 1, 0, a\n",
    "    else:\n",
    "        while(r!=0):\n",
    "            q=old_r//r\n",
    "            old_r,r=r,old_r-q*r\n",
    "            old_s,s=s,old_s-q*s\n",
    "            old_t,t=t,old_t-q*t\n",
    "    return old_s, old_t, old_r"
   ]
  },
  {
   "cell_type": "code",
   "execution_count": 18,
   "metadata": {},
   "outputs": [
    {
     "data": {
      "text/plain": [
       "688"
      ]
     },
     "execution_count": 18,
     "metadata": {},
     "output_type": "execute_result"
    }
   ],
   "source": [
    "m = # 原文\n",
    "p = 47\n",
    "q = 71\n",
    "n = p*q\n",
    "a = (p - 1)*(q - 1)\n",
    "b = 79\n",
    "e = # 随机选取的与φ互质的数\n",
    "s,t, r = ext_euclid(a, b) # a =φ = (p-1)(q-1)，b = e(选取数e)\n",
    "t # t 就是所求的私钥d\n",
    "c = m**e#加密后显示的密文\n",
    "\n",
    "m = (c**t)%n\n"
   ]
  },
  {
   "cell_type": "code",
   "execution_count": 15,
   "metadata": {},
   "outputs": [
    {
     "data": {
      "text/plain": [
       "0.012658227848101266"
      ]
     },
     "execution_count": 15,
     "metadata": {},
     "output_type": "execute_result"
    }
   ],
   "source": [
    "d = (79**(-1))%3220\n",
    "d\n"
   ]
  }
 ],
 "metadata": {
  "kernelspec": {
   "display_name": "Python 3",
   "language": "python",
   "name": "python3"
  },
  "language_info": {
   "codemirror_mode": {
    "name": "ipython",
    "version": 3
   },
   "file_extension": ".py",
   "mimetype": "text/x-python",
   "name": "python",
   "nbconvert_exporter": "python",
   "pygments_lexer": "ipython3",
   "version": "3.7.4"
  }
 },
 "nbformat": 4,
 "nbformat_minor": 2
}
