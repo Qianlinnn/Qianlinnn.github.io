{
 "cells": [
  {
   "cell_type": "code",
   "execution_count": 17,
   "metadata": {},
   "outputs": [
    {
     "name": "stderr",
     "output_type": "stream",
     "text": [
      "C:\\software_program\\anaconda3\\lib\\site-packages\\sklearn\\linear_model\\logistic.py:432: FutureWarning: Default solver will be changed to 'lbfgs' in 0.22. Specify a solver to silence this warning.\n",
      "  FutureWarning)\n",
      "C:\\software_program\\anaconda3\\lib\\site-packages\\sklearn\\ensemble\\forest.py:245: FutureWarning: The default value of n_estimators will change from 10 in version 0.20 to 100 in 0.22.\n",
      "  \"10 in version 0.20 to 100 in 0.22.\", FutureWarning)\n",
      "C:\\software_program\\anaconda3\\lib\\site-packages\\sklearn\\svm\\base.py:193: FutureWarning: The default value of gamma will change from 'auto' to 'scale' in version 0.22 to account better for unscaled features. Set gamma explicitly to 'auto' or 'scale' to avoid this warning.\n",
      "  \"avoid this warning.\", FutureWarning)\n"
     ]
    },
    {
     "data": {
      "text/plain": [
       "VotingClassifier(estimators=[('lr',\n",
       "                              LogisticRegression(C=1.0, class_weight=None,\n",
       "                                                 dual=False, fit_intercept=True,\n",
       "                                                 intercept_scaling=1,\n",
       "                                                 l1_ratio=None, max_iter=100,\n",
       "                                                 multi_class='warn',\n",
       "                                                 n_jobs=None, penalty='l2',\n",
       "                                                 random_state=None,\n",
       "                                                 solver='warn', tol=0.0001,\n",
       "                                                 verbose=0, warm_start=False)),\n",
       "                             ('rf',\n",
       "                              RandomForestClassifier(bootstrap=True,\n",
       "                                                     class_weight=None,\n",
       "                                                     criterion='gini',...\n",
       "                                                     oob_score=False,\n",
       "                                                     random_state=None,\n",
       "                                                     verbose=0,\n",
       "                                                     warm_start=False)),\n",
       "                             ('svc',\n",
       "                              SVC(C=1.0, cache_size=200, class_weight=None,\n",
       "                                  coef0=0.0, decision_function_shape='ovr',\n",
       "                                  degree=3, gamma='auto_deprecated',\n",
       "                                  kernel='rbf', max_iter=-1, probability=True,\n",
       "                                  random_state=None, shrinking=True, tol=0.001,\n",
       "                                  verbose=False))],\n",
       "                 flatten_transform=True, n_jobs=None, voting='soft',\n",
       "                 weights=None)"
      ]
     },
     "execution_count": 17,
     "metadata": {},
     "output_type": "execute_result"
    }
   ],
   "source": [
    "from sklearn.ensemble import RandomForestClassifier\n",
    "from sklearn.ensemble import VotingClassifier\n",
    "from sklearn.linear_model import LogisticRegression\n",
    "from sklearn.svm import SVC\n",
    "from sklearn.model_selection import train_test_split\n",
    "from sklearn.datasets import make_moons\n",
    "\n",
    "X, y = make_moons(n_samples=500, noise=0.30, random_state=42)\n",
    "X_train, X_test, y_train, y_test = train_test_split(X, y, random_state=42)\n",
    "\n",
    "\n",
    "\n",
    "log_clf = LogisticRegression()\n",
    "rnd_clf = RandomForestClassifier()\n",
    "svm_clf = SVC(probability = True)\n",
    "\n",
    "\n",
    "voting_clf = VotingClassifier(estimators= [('lr', log_clf), ('rf', rnd_clf),\n",
    "                                           ('svc', svm_clf)], voting = 'soft')\n",
    "voting_clf.fit(X_train ,y_train)"
   ]
  },
  {
   "cell_type": "code",
   "execution_count": 18,
   "metadata": {},
   "outputs": [
    {
     "name": "stdout",
     "output_type": "stream",
     "text": [
      "LogisticRegression 0.864\n",
      "RandomForestClassifier 0.888\n",
      "SVC 0.888\n",
      "VotingClassifier 0.912\n"
     ]
    },
    {
     "name": "stderr",
     "output_type": "stream",
     "text": [
      "C:\\software_program\\anaconda3\\lib\\site-packages\\sklearn\\linear_model\\logistic.py:432: FutureWarning: Default solver will be changed to 'lbfgs' in 0.22. Specify a solver to silence this warning.\n",
      "  FutureWarning)\n",
      "C:\\software_program\\anaconda3\\lib\\site-packages\\sklearn\\ensemble\\forest.py:245: FutureWarning: The default value of n_estimators will change from 10 in version 0.20 to 100 in 0.22.\n",
      "  \"10 in version 0.20 to 100 in 0.22.\", FutureWarning)\n",
      "C:\\software_program\\anaconda3\\lib\\site-packages\\sklearn\\svm\\base.py:193: FutureWarning: The default value of gamma will change from 'auto' to 'scale' in version 0.22 to account better for unscaled features. Set gamma explicitly to 'auto' or 'scale' to avoid this warning.\n",
      "  \"avoid this warning.\", FutureWarning)\n",
      "C:\\software_program\\anaconda3\\lib\\site-packages\\sklearn\\linear_model\\logistic.py:432: FutureWarning: Default solver will be changed to 'lbfgs' in 0.22. Specify a solver to silence this warning.\n",
      "  FutureWarning)\n",
      "C:\\software_program\\anaconda3\\lib\\site-packages\\sklearn\\svm\\base.py:193: FutureWarning: The default value of gamma will change from 'auto' to 'scale' in version 0.22 to account better for unscaled features. Set gamma explicitly to 'auto' or 'scale' to avoid this warning.\n",
      "  \"avoid this warning.\", FutureWarning)\n"
     ]
    }
   ],
   "source": [
    "from sklearn.metrics import accuracy_score\n",
    "\n",
    "for clf in (log_clf, rnd_clf, svm_clf, voting_clf):\n",
    "    clf.fit(X_train, y_train)\n",
    "    y_pred = clf.predict(X_test)\n",
    "    print(clf.__class__.__name__, accuracy_score(y_test,y_pred))"
   ]
  },
  {
   "cell_type": "code",
   "execution_count": 21,
   "metadata": {
    "scrolled": true
   },
   "outputs": [],
   "source": [
    "from sklearn.ensemble import BaggingClassifier\n",
    "from sklearn.tree import DecisionTreeClassifier\n",
    "\n",
    "blg_clf = BaggingClassifier(DecisionTreeClassifier(), n_estimators = 500\n",
    "                           ,max_samples = 100, bootstrap = True, n_jobs = -1)\n",
    "\n",
    "blg_clf.fit(X_train, y_train)\n",
    "y_pred = blg_clf.predict(X_test)"
   ]
  },
  {
   "cell_type": "code",
   "execution_count": 23,
   "metadata": {},
   "outputs": [
    {
     "name": "stdout",
     "output_type": "stream",
     "text": [
      "BaggingClassifier 0.912\n"
     ]
    }
   ],
   "source": [
    "print(blg_clf.__class__.__name__, accuracy_score(y_test,y_pred))"
   ]
  },
  {
   "cell_type": "code",
   "execution_count": 24,
   "metadata": {},
   "outputs": [
    {
     "name": "stdout",
     "output_type": "stream",
     "text": [
      "BaggingClassifier 0.912\n"
     ]
    }
   ],
   "source": [
    "blg_clf_2 = BaggingClassifier(DecisionTreeClassifier(), n_estimators = 500\n",
    "                           ,max_samples = 100, bootstrap = False, n_jobs = -1)\n",
    "\n",
    "blg_clf_2.fit(X_train, y_train)\n",
    "y_pred_2 = blg_clf.predict(X_test)\n",
    "print(blg_clf_2.__class__.__name__, accuracy_score(y_pred_2, y_test))"
   ]
  },
  {
   "cell_type": "code",
   "execution_count": 61,
   "metadata": {},
   "outputs": [
    {
     "data": {
      "text/plain": [
       "0.8346666666666667"
      ]
     },
     "execution_count": 61,
     "metadata": {},
     "output_type": "execute_result"
    }
   ],
   "source": [
    "bag_clf = BaggingClassifier(DecisionTreeClassifier(), n_estimators = 500\n",
    "                            , bootstrap = True\n",
    "                            , n_jobs = -1\n",
    "                            , oob_score = True\n",
    "                            , max_features = 0.8\n",
    "                           , bootstrap_features = True)\n",
    "bag_clf.fit(X_train, y_train)\n",
    "bag_clf.oob_score_"
   ]
  },
  {
   "cell_type": "code",
   "execution_count": 63,
   "metadata": {},
   "outputs": [
    {
     "data": {
      "text/plain": [
       "0.832"
      ]
     },
     "execution_count": 63,
     "metadata": {},
     "output_type": "execute_result"
    }
   ],
   "source": [
    "y_pred = bag_clf.predict(X_test)\n",
    "accuracy_score(y_pred, y_test)"
   ]
  },
  {
   "cell_type": "code",
   "execution_count": 55,
   "metadata": {
    "collapsed": true
   },
   "outputs": [
    {
     "data": {
      "text/plain": [
       "array([[0.34615385, 0.65384615],\n",
       "       [0.35465116, 0.64534884],\n",
       "       [1.        , 0.        ],\n",
       "       [0.        , 1.        ],\n",
       "       [0.        , 1.        ],\n",
       "       [0.07281553, 0.92718447],\n",
       "       [0.37681159, 0.62318841],\n",
       "       [0.02941176, 0.97058824],\n",
       "       [0.98469388, 0.01530612],\n",
       "       [0.98      , 0.02      ],\n",
       "       [0.78172589, 0.21827411],\n",
       "       [0.00546448, 0.99453552],\n",
       "       [0.78142077, 0.21857923],\n",
       "       [0.87567568, 0.12432432],\n",
       "       [0.95348837, 0.04651163],\n",
       "       [0.07253886, 0.92746114],\n",
       "       [0.00995025, 0.99004975],\n",
       "       [0.98404255, 0.01595745],\n",
       "       [0.90731707, 0.09268293],\n",
       "       [0.9947644 , 0.0052356 ],\n",
       "       [0.00574713, 0.99425287],\n",
       "       [0.32160804, 0.67839196],\n",
       "       [0.88205128, 0.11794872],\n",
       "       [1.        , 0.        ],\n",
       "       [0.96354167, 0.03645833],\n",
       "       [0.        , 1.        ],\n",
       "       [0.99479167, 0.00520833],\n",
       "       [1.        , 0.        ],\n",
       "       [0.        , 1.        ],\n",
       "       [0.6010929 , 0.3989071 ],\n",
       "       [0.        , 1.        ],\n",
       "       [1.        , 0.        ],\n",
       "       [0.        , 1.        ],\n",
       "       [0.        , 1.        ],\n",
       "       [0.15340909, 0.84659091],\n",
       "       [1.        , 0.        ],\n",
       "       [0.00485437, 0.99514563],\n",
       "       [0.36263736, 0.63736264],\n",
       "       [0.        , 1.        ],\n",
       "       [1.        , 0.        ],\n",
       "       [0.21195652, 0.78804348],\n",
       "       [0.30601093, 0.69398907],\n",
       "       [1.        , 0.        ],\n",
       "       [1.        , 0.        ],\n",
       "       [0.        , 1.        ],\n",
       "       [1.        , 0.        ],\n",
       "       [1.        , 0.        ],\n",
       "       [0.01675978, 0.98324022],\n",
       "       [1.        , 0.        ],\n",
       "       [0.00549451, 0.99450549],\n",
       "       [0.99408284, 0.00591716],\n",
       "       [0.92134831, 0.07865169],\n",
       "       [0.97058824, 0.02941176],\n",
       "       [0.96907216, 0.03092784],\n",
       "       [0.        , 1.        ],\n",
       "       [0.05813953, 0.94186047],\n",
       "       [0.98305085, 0.01694915],\n",
       "       [0.        , 1.        ],\n",
       "       [0.        , 1.        ],\n",
       "       [0.00609756, 0.99390244],\n",
       "       [0.98404255, 0.01595745],\n",
       "       [0.81764706, 0.18235294],\n",
       "       [0.41340782, 0.58659218],\n",
       "       [1.        , 0.        ],\n",
       "       [0.        , 1.        ],\n",
       "       [0.64705882, 0.35294118],\n",
       "       [1.        , 0.        ],\n",
       "       [1.        , 0.        ],\n",
       "       [0.87234043, 0.12765957],\n",
       "       [1.        , 0.        ],\n",
       "       [0.578125  , 0.421875  ],\n",
       "       [0.11695906, 0.88304094],\n",
       "       [0.62011173, 0.37988827],\n",
       "       [0.9       , 0.1       ],\n",
       "       [0.        , 1.        ],\n",
       "       [0.13888889, 0.86111111],\n",
       "       [0.84662577, 0.15337423],\n",
       "       [1.        , 0.        ],\n",
       "       [0.        , 1.        ],\n",
       "       [1.        , 0.        ],\n",
       "       [0.        , 1.        ],\n",
       "       [0.03910615, 0.96089385],\n",
       "       [0.03208556, 0.96791444],\n",
       "       [0.29230769, 0.70769231],\n",
       "       [1.        , 0.        ],\n",
       "       [0.        , 1.        ],\n",
       "       [0.90206186, 0.09793814],\n",
       "       [0.01507538, 0.98492462],\n",
       "       [0.        , 1.        ],\n",
       "       [0.        , 1.        ],\n",
       "       [0.19444444, 0.80555556],\n",
       "       [1.        , 0.        ],\n",
       "       [0.        , 1.        ],\n",
       "       [0.        , 1.        ],\n",
       "       [0.        , 1.        ],\n",
       "       [0.95212766, 0.04787234],\n",
       "       [0.78918919, 0.21081081],\n",
       "       [0.00961538, 0.99038462],\n",
       "       [1.        , 0.        ],\n",
       "       [0.17127072, 0.82872928],\n",
       "       [0.64      , 0.36      ],\n",
       "       [0.        , 1.        ],\n",
       "       [0.04255319, 0.95744681],\n",
       "       [0.4822335 , 0.5177665 ],\n",
       "       [1.        , 0.        ],\n",
       "       [0.01604278, 0.98395722],\n",
       "       [0.98876404, 0.01123596],\n",
       "       [0.23243243, 0.76756757],\n",
       "       [0.48148148, 0.51851852],\n",
       "       [1.        , 0.        ],\n",
       "       [0.00555556, 0.99444444],\n",
       "       [0.99492386, 0.00507614],\n",
       "       [0.2393617 , 0.7606383 ],\n",
       "       [0.93258427, 0.06741573],\n",
       "       [1.        , 0.        ],\n",
       "       [1.        , 0.        ],\n",
       "       [0.        , 1.        ],\n",
       "       [0.        , 1.        ],\n",
       "       [0.79329609, 0.20670391],\n",
       "       [1.        , 0.        ],\n",
       "       [0.        , 1.        ],\n",
       "       [1.        , 0.        ],\n",
       "       [1.        , 0.        ],\n",
       "       [1.        , 0.        ],\n",
       "       [0.98918919, 0.01081081],\n",
       "       [0.99444444, 0.00555556],\n",
       "       [0.        , 1.        ],\n",
       "       [0.95959596, 0.04040404],\n",
       "       [0.99502488, 0.00497512],\n",
       "       [0.01123596, 0.98876404],\n",
       "       [0.22777778, 0.77222222],\n",
       "       [0.95811518, 0.04188482],\n",
       "       [0.23243243, 0.76756757],\n",
       "       [1.        , 0.        ],\n",
       "       [0.        , 1.        ],\n",
       "       [0.        , 1.        ],\n",
       "       [0.75409836, 0.24590164],\n",
       "       [0.36756757, 0.63243243],\n",
       "       [0.4021164 , 0.5978836 ],\n",
       "       [0.87817259, 0.12182741],\n",
       "       [0.93785311, 0.06214689],\n",
       "       [0.05759162, 0.94240838],\n",
       "       [0.78421053, 0.21578947],\n",
       "       [0.01123596, 0.98876404],\n",
       "       [0.        , 1.        ],\n",
       "       [0.02185792, 0.97814208],\n",
       "       [0.97368421, 0.02631579],\n",
       "       [0.98984772, 0.01015228],\n",
       "       [1.        , 0.        ],\n",
       "       [0.00520833, 0.99479167],\n",
       "       [0.        , 1.        ],\n",
       "       [0.01734104, 0.98265896],\n",
       "       [0.        , 1.        ],\n",
       "       [1.        , 0.        ],\n",
       "       [1.        , 0.        ],\n",
       "       [0.97005988, 0.02994012],\n",
       "       [1.        , 0.        ],\n",
       "       [1.        , 0.        ],\n",
       "       [0.99459459, 0.00540541],\n",
       "       [0.        , 1.        ],\n",
       "       [0.39790576, 0.60209424],\n",
       "       [0.29775281, 0.70224719],\n",
       "       [0.        , 1.        ],\n",
       "       [0.        , 1.        ],\n",
       "       [0.37096774, 0.62903226],\n",
       "       [1.        , 0.        ],\n",
       "       [1.        , 0.        ],\n",
       "       [0.        , 1.        ],\n",
       "       [1.        , 0.        ],\n",
       "       [0.01036269, 0.98963731],\n",
       "       [0.        , 1.        ],\n",
       "       [0.96491228, 0.03508772],\n",
       "       [0.        , 1.        ],\n",
       "       [0.        , 1.        ],\n",
       "       [1.        , 0.        ],\n",
       "       [0.        , 1.        ],\n",
       "       [0.69518717, 0.30481283],\n",
       "       [0.91623037, 0.08376963],\n",
       "       [0.        , 1.        ],\n",
       "       [0.99494949, 0.00505051],\n",
       "       [0.98930481, 0.01069519],\n",
       "       [1.        , 0.        ],\n",
       "       [0.        , 1.        ],\n",
       "       [0.        , 1.        ],\n",
       "       [1.        , 0.        ],\n",
       "       [0.10752688, 0.89247312],\n",
       "       [1.        , 0.        ],\n",
       "       [0.04371585, 0.95628415],\n",
       "       [0.        , 1.        ],\n",
       "       [1.        , 0.        ],\n",
       "       [0.        , 1.        ],\n",
       "       [0.01595745, 0.98404255],\n",
       "       [1.        , 0.        ],\n",
       "       [0.97076023, 0.02923977],\n",
       "       [0.74585635, 0.25414365],\n",
       "       [0.57458564, 0.42541436],\n",
       "       [0.00568182, 0.99431818],\n",
       "       [0.14583333, 0.85416667],\n",
       "       [1.        , 0.        ],\n",
       "       [0.93604651, 0.06395349],\n",
       "       [0.97837838, 0.02162162],\n",
       "       [1.        , 0.        ],\n",
       "       [0.        , 1.        ],\n",
       "       [0.        , 1.        ],\n",
       "       [0.37016575, 0.62983425],\n",
       "       [0.85405405, 0.14594595],\n",
       "       [0.        , 1.        ],\n",
       "       [0.        , 1.        ],\n",
       "       [1.        , 0.        ],\n",
       "       [0.        , 1.        ],\n",
       "       [0.        , 1.        ],\n",
       "       [0.96132597, 0.03867403],\n",
       "       [0.        , 1.        ],\n",
       "       [0.25136612, 0.74863388],\n",
       "       [0.        , 1.        ],\n",
       "       [1.        , 0.        ],\n",
       "       [0.        , 1.        ],\n",
       "       [0.        , 1.        ],\n",
       "       [0.97752809, 0.02247191],\n",
       "       [0.81818182, 0.18181818],\n",
       "       [0.99492386, 0.00507614],\n",
       "       [0.        , 1.        ],\n",
       "       [0.09411765, 0.90588235],\n",
       "       [0.99431818, 0.00568182],\n",
       "       [0.01630435, 0.98369565],\n",
       "       [0.        , 1.        ],\n",
       "       [0.03723404, 0.96276596],\n",
       "       [0.99450549, 0.00549451],\n",
       "       [0.81081081, 0.18918919],\n",
       "       [0.        , 1.        ],\n",
       "       [0.88461538, 0.11538462],\n",
       "       [0.98351648, 0.01648352],\n",
       "       [0.22222222, 0.77777778],\n",
       "       [0.18435754, 0.81564246],\n",
       "       [1.        , 0.        ],\n",
       "       [0.        , 1.        ],\n",
       "       [0.        , 1.        ],\n",
       "       [0.        , 1.        ],\n",
       "       [0.27683616, 0.72316384],\n",
       "       [0.95652174, 0.04347826],\n",
       "       [0.00552486, 0.99447514],\n",
       "       [1.        , 0.        ],\n",
       "       [0.99435028, 0.00564972],\n",
       "       [0.        , 1.        ],\n",
       "       [0.54594595, 0.45405405],\n",
       "       [1.        , 0.        ],\n",
       "       [0.        , 1.        ],\n",
       "       [1.        , 0.        ],\n",
       "       [0.        , 1.        ],\n",
       "       [0.        , 1.        ],\n",
       "       [0.07729469, 0.92270531],\n",
       "       [0.10989011, 0.89010989],\n",
       "       [0.99415205, 0.00584795],\n",
       "       [0.02325581, 0.97674419],\n",
       "       [1.        , 0.        ],\n",
       "       [0.35555556, 0.64444444],\n",
       "       [0.10309278, 0.89690722],\n",
       "       [0.57055215, 0.42944785],\n",
       "       [0.65697674, 0.34302326],\n",
       "       [0.        , 1.        ],\n",
       "       [1.        , 0.        ],\n",
       "       [0.        , 1.        ],\n",
       "       [0.        , 1.        ],\n",
       "       [0.61052632, 0.38947368],\n",
       "       [0.        , 1.        ],\n",
       "       [1.        , 0.        ],\n",
       "       [0.23243243, 0.76756757],\n",
       "       [0.75268817, 0.24731183],\n",
       "       [0.07065217, 0.92934783],\n",
       "       [1.        , 0.        ],\n",
       "       [0.80874317, 0.19125683],\n",
       "       [0.        , 1.        ],\n",
       "       [0.        , 1.        ],\n",
       "       [0.08108108, 0.91891892],\n",
       "       [0.01639344, 0.98360656],\n",
       "       [0.        , 1.        ],\n",
       "       [1.        , 0.        ],\n",
       "       [0.91666667, 0.08333333],\n",
       "       [0.15697674, 0.84302326],\n",
       "       [0.94270833, 0.05729167],\n",
       "       [0.        , 1.        ],\n",
       "       [0.54594595, 0.45405405],\n",
       "       [0.07453416, 0.92546584],\n",
       "       [0.98214286, 0.01785714],\n",
       "       [0.84375   , 0.15625   ],\n",
       "       [0.        , 1.        ],\n",
       "       [1.        , 0.        ],\n",
       "       [0.96531792, 0.03468208],\n",
       "       [0.        , 1.        ],\n",
       "       [0.        , 1.        ],\n",
       "       [1.        , 0.        ],\n",
       "       [0.        , 1.        ],\n",
       "       [1.        , 0.        ],\n",
       "       [0.27083333, 0.72916667],\n",
       "       [0.98901099, 0.01098901],\n",
       "       [1.        , 0.        ],\n",
       "       [0.        , 1.        ],\n",
       "       [0.00625   , 0.99375   ],\n",
       "       [0.85238095, 0.14761905],\n",
       "       [0.        , 1.        ],\n",
       "       [1.        , 0.        ],\n",
       "       [0.8030303 , 0.1969697 ],\n",
       "       [0.95698925, 0.04301075],\n",
       "       [1.        , 0.        ],\n",
       "       [0.75897436, 0.24102564],\n",
       "       [0.50299401, 0.49700599],\n",
       "       [0.        , 1.        ],\n",
       "       [0.92613636, 0.07386364],\n",
       "       [0.        , 1.        ],\n",
       "       [1.        , 0.        ],\n",
       "       [0.89617486, 0.10382514],\n",
       "       [1.        , 0.        ],\n",
       "       [1.        , 0.        ],\n",
       "       [0.77835052, 0.22164948],\n",
       "       [0.13227513, 0.86772487],\n",
       "       [0.45360825, 0.54639175],\n",
       "       [0.21925134, 0.78074866],\n",
       "       [0.        , 1.        ],\n",
       "       [0.9132948 , 0.0867052 ],\n",
       "       [0.8136646 , 0.1863354 ],\n",
       "       [0.0049505 , 0.9950495 ],\n",
       "       [1.        , 0.        ],\n",
       "       [0.98979592, 0.01020408],\n",
       "       [1.        , 0.        ],\n",
       "       [0.        , 1.        ],\n",
       "       [0.00534759, 0.99465241],\n",
       "       [0.96276596, 0.03723404],\n",
       "       [0.96296296, 0.03703704],\n",
       "       [1.        , 0.        ],\n",
       "       [0.55279503, 0.44720497],\n",
       "       [1.        , 0.        ],\n",
       "       [0.        , 1.        ],\n",
       "       [0.97354497, 0.02645503],\n",
       "       [0.00540541, 0.99459459],\n",
       "       [1.        , 0.        ],\n",
       "       [1.        , 0.        ],\n",
       "       [1.        , 0.        ],\n",
       "       [0.        , 1.        ],\n",
       "       [0.96256684, 0.03743316],\n",
       "       [0.        , 1.        ],\n",
       "       [0.05263158, 0.94736842],\n",
       "       [0.        , 1.        ],\n",
       "       [0.        , 1.        ],\n",
       "       [1.        , 0.        ],\n",
       "       [1.        , 0.        ],\n",
       "       [0.        , 1.        ],\n",
       "       [0.99428571, 0.00571429],\n",
       "       [0.01639344, 0.98360656],\n",
       "       [1.        , 0.        ],\n",
       "       [0.13684211, 0.86315789],\n",
       "       [0.        , 1.        ],\n",
       "       [0.00606061, 0.99393939],\n",
       "       [0.        , 1.        ],\n",
       "       [0.42105263, 0.57894737],\n",
       "       [0.06451613, 0.93548387],\n",
       "       [0.2320442 , 0.7679558 ],\n",
       "       [1.        , 0.        ],\n",
       "       [1.        , 0.        ],\n",
       "       [0.18396226, 0.81603774],\n",
       "       [0.99465241, 0.00534759],\n",
       "       [0.        , 1.        ],\n",
       "       [0.        , 1.        ],\n",
       "       [1.        , 0.        ],\n",
       "       [0.95073892, 0.04926108],\n",
       "       [0.34759358, 0.65240642],\n",
       "       [0.99393939, 0.00606061],\n",
       "       [1.        , 0.        ],\n",
       "       [0.        , 1.        ],\n",
       "       [0.99465241, 0.00534759],\n",
       "       [0.00512821, 0.99487179],\n",
       "       [0.02884615, 0.97115385],\n",
       "       [0.97790055, 0.02209945],\n",
       "       [1.        , 0.        ],\n",
       "       [0.01570681, 0.98429319],\n",
       "       [0.61538462, 0.38461538]])"
      ]
     },
     "execution_count": 55,
     "metadata": {},
     "output_type": "execute_result"
    }
   ],
   "source": [
    "bag_clf.oob_decision_function_"
   ]
  },
  {
   "cell_type": "code",
   "execution_count": 56,
   "metadata": {},
   "outputs": [
    {
     "data": {
      "text/plain": [
       "array([1, 1, 1, 1, 1, 1, 0, 0, 0, 0, 1, 0, 1, 1, 1, 0, 0, 1, 1, 1, 0, 1,\n",
       "       1, 0, 1, 0, 1, 0, 1, 0, 1, 1, 0, 0, 1, 0, 0, 1, 1, 1, 1, 1, 0, 0,\n",
       "       0, 0, 1, 0, 1, 1, 1, 1, 0, 0, 1, 0, 1, 1, 0, 1, 0, 1, 1, 0, 1, 0,\n",
       "       0, 0, 0, 1, 0, 0, 1, 1, 0, 0, 1, 1, 0, 1, 1, 1, 1, 1, 1, 1, 1, 0,\n",
       "       1, 1, 1, 0, 0, 0, 0, 1, 0, 1, 0, 1, 0, 1, 1, 0, 0, 0, 0, 0, 0, 1,\n",
       "       0, 0, 0, 1, 0, 0, 0, 0, 0, 1, 1, 1, 0, 0, 0], dtype=int64)"
      ]
     },
     "execution_count": 56,
     "metadata": {},
     "output_type": "execute_result"
    }
   ],
   "source": [
    "y_test"
   ]
  },
  {
   "cell_type": "code",
   "execution_count": 64,
   "metadata": {},
   "outputs": [],
   "source": [
    "from sklearn.ensemble import RandomForestClassifier\n",
    "\n",
    "rnd_clf = RandomForestClassifier(n_estimators = 500, max_leaf_nodes = 16, n_jobs = -1)\n",
    "rnd_clf.fit(X_train, y_train)\n",
    "y_pred_rf = rnd_clf.predict(X_test)"
   ]
  },
  {
   "cell_type": "code",
   "execution_count": 65,
   "metadata": {},
   "outputs": [
    {
     "data": {
      "text/plain": [
       "0.904"
      ]
     },
     "execution_count": 65,
     "metadata": {},
     "output_type": "execute_result"
    }
   ],
   "source": [
    "accuracy_score(y_pred_rf, y_test)"
   ]
  },
  {
   "cell_type": "code",
   "execution_count": 66,
   "metadata": {},
   "outputs": [],
   "source": [
    "from sklearn.datasets import load_iris\n",
    "\n",
    "iris = load_iris()\n",
    "rnd_clf = RandomForestClassifier(n_estimators = 500, n_jobs = -1)\n"
   ]
  },
  {
   "cell_type": "code",
   "execution_count": 71,
   "metadata": {},
   "outputs": [
    {
     "name": "stdout",
     "output_type": "stream",
     "text": [
      "sepal length (cm) 0.10743891643919876\n",
      "sepal width (cm) 0.024888157906551897\n",
      "petal length (cm) 0.4368199088940938\n",
      "petal width (cm) 0.43085301676015547\n"
     ]
    }
   ],
   "source": [
    "rnd_clf.fit(iris[\"data\"], iris[\"target\"])\n",
    "for name, score in zip(iris[\"feature_names\"], rnd_clf.feature_importances_):\n",
    "    print(name, score)"
   ]
  },
  {
   "cell_type": "code",
   "execution_count": 72,
   "metadata": {},
   "outputs": [
    {
     "data": {
      "text/plain": [
       "array([0.10743892, 0.02488816, 0.43681991, 0.43085302])"
      ]
     },
     "execution_count": 72,
     "metadata": {},
     "output_type": "execute_result"
    }
   ],
   "source": []
  },
  {
   "cell_type": "code",
   "execution_count": null,
   "metadata": {},
   "outputs": [],
   "source": []
  },
  {
   "cell_type": "code",
   "execution_count": null,
   "metadata": {},
   "outputs": [],
   "source": []
  },
  {
   "cell_type": "code",
   "execution_count": null,
   "metadata": {},
   "outputs": [],
   "source": []
  },
  {
   "cell_type": "code",
   "execution_count": null,
   "metadata": {},
   "outputs": [],
   "source": []
  },
  {
   "cell_type": "code",
   "execution_count": null,
   "metadata": {},
   "outputs": [],
   "source": []
  },
  {
   "cell_type": "code",
   "execution_count": null,
   "metadata": {},
   "outputs": [],
   "source": []
  }
 ],
 "metadata": {
  "kernelspec": {
   "display_name": "Python 3",
   "language": "python",
   "name": "python3"
  },
  "language_info": {
   "codemirror_mode": {
    "name": "ipython",
    "version": 3
   },
   "file_extension": ".py",
   "mimetype": "text/x-python",
   "name": "python",
   "nbconvert_exporter": "python",
   "pygments_lexer": "ipython3",
   "version": "3.7.4"
  }
 },
 "nbformat": 4,
 "nbformat_minor": 2
}
